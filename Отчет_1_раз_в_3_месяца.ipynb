{
 "cells": [
  {
   "cell_type": "code",
   "execution_count": 1,
   "metadata": {},
   "outputs": [],
   "source": [
    "import pandas as pd\n",
    "import datetime\n",
    "import numpy as np\n",
    "import os\n",
    "from pyexcelerate import Workbook\n",
    "import time\n",
    "import calendar\n",
    "pd.set_option('display.max_columns', None)\n",
    "\n",
    "# pd.set_option('display.max_rows', None)\n",
    "\n",
    "def save_real_csv(datafr,cols_text,path_save):\n",
    "    df1 = datafr.copy()\n",
    "    for i in cols_text:\n",
    "        df1[i] = '='+ '\"'+df1[i].astype('str')+'\"'\n",
    "    df1.to_csv(path_save,encoding='utf-8-sig',sep = ';',decimal = ',')   \n",
    "    df1 = pd.DataFrame()\n",
    "\n",
    "\n",
    "def rev_to_dict(ind,find):\n",
    "#     ind = ind.astype('str')комплекс\n",
    "    df = pd.DataFrame(index=ind,data=find.values,columns=[find.name])\n",
    "    df = df.groupby(df.index).first()\n",
    "    dictt =  df.to_dict('index')\n",
    "    return dictt\n",
    "\n",
    "\n",
    "def save_ex(path,df):\n",
    "    writer = pd.ExcelWriter(path,engine='openpyxl')\n",
    "    df.to_excel(writer,sheet_name = 'sheet1')\n",
    "    writer.save()\n",
    "    \n",
    "def save_pyex(path,df):\n",
    "    wb = Workbook()\n",
    "    wb.new_sheet('sheet1',data =  [df.columns.tolist(),]+df.values.tolist())\n",
    "    wb.save(path)\n",
    "    \n",
    "\n",
    "    \n",
    "\n",
    "\n",
    "\n",
    "\n",
    "def save_backup(path_backup,arrs):\n",
    "    try:\n",
    "        backup = pd.HDFStore(path_backup)\n",
    "        for arr in arrs:\n",
    "            backup[str(arr.name)] = arr\n",
    "        backup.close()   \n",
    "    except:\n",
    "        backup.close()\n",
    "    \n",
    "def get_in_backup(path_backup,name):\n",
    "    try:\n",
    "        backup = pd.HDFStore(path_backup)\n",
    "        ar  = backup[name]\n",
    "        backup.close()\n",
    "        return ar\n",
    "    except:\n",
    "        backup.close()\n",
    "        \n",
    "# превращает цифры строками  в нормальные цифры\n",
    "def replace_float(df,name_cols):\n",
    "    try:\n",
    "        for col_n in name_cols:\n",
    "            mas = df[col_n].apply(lambda x: x.replace('.',''))\n",
    "            mas1 = mas.apply(lambda x: x.replace(',','.'))\n",
    "            df[col_n] =  mas1.astype('float')\n",
    "    except:\n",
    "        pass\n",
    "    \n",
    "def sklad(x):\n",
    "    if len(str(x))==3:\n",
    "        return '0'+str(x)\n",
    "    elif len(str(x))==2:\n",
    "        return '00'+str(x)\n",
    "    else:\n",
    "        return x\n",
    "    \n",
    "def insert_vpr(x,dictt,name):\n",
    "    try:\n",
    "        return dictt[x][name]\n",
    "    except KeyError:\n",
    "        return 0"
   ]
  },
  {
   "cell_type": "code",
   "execution_count": 2,
   "metadata": {},
   "outputs": [],
   "source": [
    "folder = '0421 отчет по предцеховым'\n",
    "directory = 'C:\\\\Users\\\\NKedrun\\\\Desktop\\\\kazzinc\\\\Отчет по предцеховым\\\\'+folder+'\\\\'\n",
    "date_report = datetime.datetime(2021,4,1)"
   ]
  },
  {
   "cell_type": "code",
   "execution_count": 3,
   "metadata": {},
   "outputs": [
    {
     "name": "stderr",
     "output_type": "stream",
     "text": [
      "C:\\Users\\NKedrun\\Desktop\\kk\\NKnotebooks\\Portable Python 3.6.5 x64\\App\\Python\\lib\\site-packages\\IPython\\core\\interactiveshell.py:3072: DtypeWarning: Columns (7,9,10,11,12,13,16,17,18,19,20,29,30,31,32,37,39,55,58,62,65,66,69,71,75,76,84,85,89,91,92,95,96,98,103,107) have mixed types.Specify dtype option on import or set low_memory=False.\n",
      "  interactivity=interactivity, compiler=compiler, result=result)\n"
     ]
    }
   ],
   "source": [
    "exp  = pd.read_excel(directory+'Справочник ЦС к Складу потребности.xlsx',sheet_name='Sheet1')\n",
    "df = pd.read_csv(directory+'CSV.csv',sep = ';',parse_dates=['Дата потребности'],dtype={'Материал':'str','Завод':'str'})\n",
    "ost  = pd.read_excel(directory+'Отчет по прицеховым запасам.xlsx',sheet_name='Sheet1')\n",
    "sprav_mdlv = pd.read_excel(directory+'MDLV.xlsx',sheet_name='Sheet1')\n",
    "spr_for_obl_ppm = pd.read_excel(directory+'MDLG.xlsx',sheet_name='Sheet1')\n",
    "sprav_po_kompl = pd.read_excel(directory+'Справочник по комплексам.xlsx',sheet_name='Комплекс',dtype={'Область ППМ':'str','Завод':'str'})"
   ]
  },
  {
   "cell_type": "code",
   "execution_count": 4,
   "metadata": {},
   "outputs": [],
   "source": [
    "df['Дата потребности'] = df['Дата потребности'].apply(lambda x: '01.01.1900' if x =='00.00.0000' else  x)\n",
    "df['Дата потребности'] = [datetime.datetime(int(x.split('.')[2]),int(x.split('.')[1]),int(x.split('.')[0])) for x in df['Дата потребности'].values]\n",
    "# собираю дату с группировкой по месяцу\n",
    "month = df['Дата потребности'].apply(lambda x:  str(x.year)+'-'+str(x.month)+'-01'+ ' 00:00:00')\n",
    "month =pd.to_datetime(month) \n",
    "# заменяю символ - \n",
    "df['Количество потребности'] = df['Количество потребности'].str.replace('-','')\n",
    "df['Баланс (закрытие потребности)'] = df['Баланс (закрытие потребности)'].str.replace('-','')\n",
    "# Работаю с числами\n",
    "df['Вид документа потребности'] = df['Вид документа потребности'].astype('str')\n",
    "df['Вид документа пополнения'] = df['Вид документа пополнения'].astype('str')\n",
    "# меняем цифры на нормальные флоат\n",
    "replace_float(df,['Количество потребности','Количество пополнения','Баланс (закрытие потребности)'])\n",
    "df.fillna(0,inplace=True)\n",
    "sprav_po_kompl.fillna(0,inplace=True)"
   ]
  },
  {
   "cell_type": "code",
   "execution_count": 5,
   "metadata": {},
   "outputs": [],
   "source": [
    "df['month'] = df['Дата потребности'].apply(lambda x: str(x.year)+'-'+str(x.month)+ '-01')\n",
    "df['month'] = pd.to_datetime(df['month']) \n",
    "\n",
    "df['Завод'] = df['Завод'].apply(lambda x: str(x).replace('.0','')).astype('str')\n",
    "\n",
    "df['Материал'] = df['Материал'].apply(lambda x: str(x).replace('.0','')).astype('str')\n",
    "df['Материал'] = df['Материал'].apply(lambda x: '0'+str(x) if  len(str(x))<9 else x)\n",
    "\n",
    "df['Склад потребности'] = df['Склад потребности'].apply(lambda x: str(x).replace('.0','')).astype('str')\n",
    "df['Склад потребности'] = df['Склад потребности'].apply(lambda x: sklad(x))\n",
    "\n",
    "\n",
    "spr_obl_ppm = rev_to_dict(spr_for_obl_ppm['Завод'].apply(lambda x: str(x).replace('.0','')).astype('str')+spr_for_obl_ppm['Склад'].\\\n",
    "            apply(lambda x: str(x).replace('.0','')).astype('str'),spr_for_obl_ppm['Область ППМ'])\n",
    "\n",
    "\n",
    "df['Область ППМ']  = df\\\n",
    "                                    .apply(lambda x: x['Завод'] if    insert_vpr(x['Завод']+x['Склад потребности'],spr_obl_ppm,'Область ППМ')==0 else  \\\n",
    "                                     insert_vpr(x['Завод']+x['Склад потребности'],spr_obl_ppm,'Область ППМ'),axis = 1).astype('str')\n",
    "\n",
    "\n",
    "df['Область ППМ'] = df['Область ППМ'].apply(lambda x: str(x).replace('.0','')).astype('str')\n",
    "\n",
    "df['Область ППМ'] = df['Область ППМ'].apply(lambda x:\"\" if x=='0' else x)\n",
    "\n",
    "df['Завод + Область ППМ'] = df['Завод'].astype('str')+' '+df['Область ППМ'].astype('str')\n",
    "\n",
    "# чистим\n",
    "df['Завод + Область ППМ'] =  df['Завод + Область ППМ'].apply(lambda x: str(x).replace('0.0','').replace('.0','')).str.strip()\n",
    "\n",
    "spr_zav_kompl = rev_to_dict(sprav_po_kompl['Завод + Область ППМ'].astype('str').str.strip(),sprav_po_kompl['Комплекс'])\n",
    "df['Комплекс'] = df['Завод + Область ППМ'].apply(lambda x: insert_vpr(x,spr_zav_kompl,'Комплекс') )\n",
    "\n",
    "\n",
    "\n",
    "spr_zav_obl =  rev_to_dict(sprav_mdlv['Область ППМ'].astype('str').str.strip(),sprav_mdlv['Текст ОблПланирПотр'])\n",
    "df['Имя Завода'] = df.apply(lambda x: insert_vpr(x['Завод'],spr_zav_obl,'Текст ОблПланирПотр')  if x['Область ППМ']=='' else insert_vpr(x['Область ППМ'],spr_zav_obl,'Текст ОблПланирПотр'),axis = 1 )\n",
    "\n",
    "\n",
    "df['Комплекс'] = df.apply(lambda x:  insert_vpr(x['Завод'],spr_zav_kompl,'Комплекс') if x['Комплекс']==0 else x['Комплекс'],axis = 1)\n",
    "\n"
   ]
  },
  {
   "cell_type": "code",
   "execution_count": 6,
   "metadata": {},
   "outputs": [],
   "source": [
    "# df = df.reset_index()\n",
    "\n",
    "def f(x):\n",
    "    if x<date_report:\n",
    "        return 'прошедшая'\n",
    "    elif x==date_report:\n",
    "        return 'текущая'\n",
    "    elif x>date_report:\n",
    "        return 'будущая'\n",
    "    \n",
    "# ost = ost[ost['Кол-во запаса в конце периода']>0]\n",
    "    \n",
    "df['month'] = df['month'].apply(lambda x: datetime.datetime(2199,1,1) if x == 0 else x)\n",
    "    \n",
    "df['вид потребности'] = df['month'].apply(lambda x:f(x))\n",
    "df['index'] = [x for x in range(len(df))]\n",
    "# df = df.set_index(['Имя Завода','Склад потребности','вид потребности'])\n",
    "df['Имя ЗаводаСклад потребностивид потребности'] = df['Имя Завода'].astype('str')+df['Склад потребности'].astype('str')+df['вид потребности'].astype('str')+df['Материал'].astype('str')\n",
    "# df = df.set_index(['Имя ЗаводаСклад потребностивид потребности','index'])\n",
    "df1 = df.groupby('Имя ЗаводаСклад потребностивид потребности')\n",
    "\n",
    "ost.fillna(0,inplace = True)\n",
    "exp.fillna(0,inplace = True)\n",
    "to_str_ost = ['Завод','Склад']\n",
    "\n",
    "for i in to_str_ost:\n",
    "    ost[i] = ost[i].apply(lambda x: str(x).replace('.0','')).astype('str')\n",
    "    ost[i] = ost[i].apply(lambda x: '' if x=='0' else x)\n",
    "to_str_ost = ['Завод ЦС','Склад']\n",
    "for i in to_str_ost:\n",
    "    exp[i] = exp[i].apply(lambda x: str(x).replace('.0','')).astype('str')    \n",
    "    exp[i] = exp[i].apply(lambda x: '' if x=='0' else x)\n",
    "    \n",
    "cols_ = [x for x in exp.columns if str(x).find('Склад потребности')!=-1]\n",
    "for i in cols_:\n",
    "    exp[i] = exp[i].apply(lambda x: str(x).replace('.0','')).astype('str')    \n",
    "    exp[i] = exp[i].apply(lambda x: '' if x=='0' else x)"
   ]
  },
  {
   "cell_type": "code",
   "execution_count": 7,
   "metadata": {
    "scrolled": false
   },
   "outputs": [
    {
     "name": "stdout",
     "output_type": "stream",
     "text": [
      "0\n",
      "1000\n",
      "2000\n",
      "3000\n",
      "4000\n",
      "5000\n",
      "6000\n",
      "7000\n",
      "8000\n",
      "9000\n",
      "10000\n",
      "11000\n",
      "12000\n",
      "13000\n",
      "14000\n",
      "15000\n",
      "16000\n",
      "17000\n",
      "18000\n",
      "19000\n",
      "20000\n",
      "21000\n",
      "22000\n",
      "23000\n",
      "24000\n",
      "25000\n",
      "26000\n",
      "27000\n",
      "28000\n",
      "29000\n",
      "30000\n",
      "31000\n",
      "32000\n",
      "33000\n",
      "34000\n",
      "35000\n",
      "36000\n",
      "37000\n",
      "38000\n",
      "39000\n",
      "40000\n",
      "41000\n",
      "42000\n",
      "43000\n",
      "44000\n",
      "45000\n",
      "46000\n",
      "47000\n",
      "48000\n",
      "49000\n",
      "50000\n",
      "51000\n",
      "52000\n",
      "53000\n",
      "54000\n",
      "55000\n",
      "56000\n",
      "57000\n",
      "58000\n",
      "--- 1141.6545932292938 seconds ---\n"
     ]
    }
   ],
   "source": [
    "start_time = time.time()\n",
    "df['Количество потребности1'] = df['Количество потребности']\n",
    "for ind in ost.index:\n",
    "    if ind%1000 ==0:\n",
    "        print(ind)\n",
    "    dat = exp[(exp['Завод ЦС'].values == ost.at[ind,'Завод'])&(exp['Склад'].values == ost.at[ind,'Склад'])]\n",
    "    \n",
    "    if dat.shape[0]>0:\n",
    "#         print(dat.shape)\n",
    "        for ind1 in dat.index:\n",
    "            for col in cols_:\n",
    "                if dat.at[ind1,col]!='':\n",
    "                    \n",
    "                    try:\n",
    "#                         \n",
    "                        dat1_pr = df1.get_group(dat.at[ind1,'Наименование области ППМ']+dat.at[ind1,col]+'прошедшая'+ost.at[ind,'Материал'])\n",
    "                        kompleks = dat1_pr['Комплекс'].unique()[0]\n",
    "                        if len([x for x in ost.columns if str(kompleks)+'/'+'прошедшая'==x])==0:\n",
    "                            ost[str(kompleks)+'/'+'прошедшая'] = 0\n",
    "                            \n",
    "                        ost.loc[ind,   str(kompleks)+'/'+'прошедшая'] = ost.loc[ind,   str(kompleks)+'/'+'прошедшая'] + dat1_pr['Количество потребности'].sum()\n",
    "                        \n",
    "                        df.loc[dat1_pr.index,'Количество потребности'] = 0\n",
    "                        \n",
    "                    except KeyError:\n",
    "                        pass\n",
    "                    \n",
    "                    try:\n",
    "#                         \n",
    "                        dat1_curr = df1.get_group(dat.at[ind1,'Наименование области ППМ']+dat.at[ind1,col]+'текущая'+ost.at[ind,'Материал'])\n",
    "                        kompleks = dat1_curr['Комплекс'].unique()[0]\n",
    "                        if len([x for x in ost.columns if str(kompleks)+'/'+'текущая'==x])==0:\n",
    "                            ost[str(kompleks)+'/'+'текущая'] = 0\n",
    "                            \n",
    "                        ost.loc[ind,   str(kompleks)+'/'+'текущая'] = ost.loc[ind,   str(kompleks)+'/'+'текущая'] + dat1_curr['Количество потребности'].sum()\n",
    "                        df.loc[dat1_curr.index,'Количество потребности'] = 0\n",
    "                    except KeyError:\n",
    "                        pass\n",
    "                    \n",
    "                    try:\n",
    "#                         dat1_bud = df.xs([dat.at[ind1,'Наименование области ППМ']+dat.at[ind1,col]+'будущая'+ost.at[ind,'Материал']],drop_level=False)\n",
    "\n",
    "                        dat1_bud = df1.get_group(dat.at[ind1,'Наименование области ППМ']+dat.at[ind1,col]+'будущая'+ost.at[ind,'Материал'])\n",
    "                        \n",
    "                        kompleks = dat1_bud['Комплекс'].unique()[0]\n",
    "                        if len([x for x in ost.columns if str(kompleks)+'/'+'будущая'==x])==0:\n",
    "                            ost[str(kompleks)+'/'+'будущая'] = 0\n",
    "                        ost.loc[ind,   str(kompleks)+'/'+'будущая'] = ost.loc[ind,   str(kompleks)+'/'+'будущая'] + dat1_bud['Количество потребности'].sum()\n",
    "                        df.loc[dat1_bud.index,'Количество потребности'] = 0\n",
    "                    except KeyError:\n",
    "                        pass\n",
    "                        \n",
    "                    \n",
    "                    \n",
    "\n",
    "print(\"--- %s seconds ---\" % (time.time() - start_time)) "
   ]
  },
  {
   "cell_type": "code",
   "execution_count": null,
   "metadata": {},
   "outputs": [],
   "source": [
    "ost"
   ]
  },
  {
   "cell_type": "code",
   "execution_count": null,
   "metadata": {},
   "outputs": [],
   "source": [
    "df"
   ]
  },
  {
   "cell_type": "code",
   "execution_count": null,
   "metadata": {},
   "outputs": [],
   "source": [
    "ost.loc[:,'РГОК/текущая':].sum().sum()"
   ]
  },
  {
   "cell_type": "code",
   "execution_count": null,
   "metadata": {},
   "outputs": [],
   "source": [
    "df['Количество потребности1'].sum()-df['Количество потребности'].sum()"
   ]
  },
  {
   "cell_type": "code",
   "execution_count": null,
   "metadata": {},
   "outputs": [],
   "source": [
    "ost"
   ]
  },
  {
   "cell_type": "code",
   "execution_count": null,
   "metadata": {},
   "outputs": [],
   "source": [
    "df = get_in_backup(path_backup='backup.h5',name='extract')"
   ]
  },
  {
   "cell_type": "code",
   "execution_count": null,
   "metadata": {},
   "outputs": [],
   "source": [
    "df_val = df.values"
   ]
  },
  {
   "cell_type": "code",
   "execution_count": null,
   "metadata": {},
   "outputs": [],
   "source": [
    "df_val[:,0]=="
   ]
  },
  {
   "cell_type": "code",
   "execution_count": null,
   "metadata": {},
   "outputs": [],
   "source": [
    "df_val"
   ]
  },
  {
   "cell_type": "code",
   "execution_count": null,
   "metadata": {},
   "outputs": [],
   "source": [
    "ost.loc[:,'РГОК/текущая':].sum().sum()"
   ]
  },
  {
   "cell_type": "code",
   "execution_count": null,
   "metadata": {},
   "outputs": [],
   "source": [
    "ost"
   ]
  },
  {
   "cell_type": "code",
   "execution_count": null,
   "metadata": {},
   "outputs": [],
   "source": [
    "df"
   ]
  }
 ],
 "metadata": {
  "kernelspec": {
   "display_name": "Python 3",
   "language": "python",
   "name": "python3"
  },
  "language_info": {
   "codemirror_mode": {
    "name": "ipython",
    "version": 3
   },
   "file_extension": ".py",
   "mimetype": "text/x-python",
   "name": "python",
   "nbconvert_exporter": "python",
   "pygments_lexer": "ipython3",
   "version": "3.6.5"
  }
 },
 "nbformat": 4,
 "nbformat_minor": 2
}
