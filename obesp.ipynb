{
 "cells": [
  {
   "cell_type": "code",
   "execution_count": 1,
   "metadata": {},
   "outputs": [],
   "source": [
    "import pandas as pd\n",
    "import datetime\n",
    "pd.set_option('display.max_columns', None)\n",
    "from pyexcelerate import Workbook\n",
    "from decimal import Decimal\n",
    "\n",
    "def yy(x,sp):\n",
    "    return x[sp].sum()\n",
    "\n",
    "def get_in_backup(path_backup,name):\n",
    "    try:\n",
    "        backup = pd.HDFStore(path_backup)\n",
    "        ar  = backup[name]\n",
    "        backup.close()\n",
    "        return ar\n",
    "    except:\n",
    "        backup.close()\n",
    "\n",
    "    \n",
    "def save_pyex(path,df):\n",
    "    wb = Workbook()\n",
    "    wb.new_sheet('sheet1',data =  [df.columns.tolist(),]+df.values.tolist())\n",
    "    wb.save(path)        \n",
    "        \n",
    "def rev_to_dict(ind,find):\n",
    "#     ind = ind.astype('str')\n",
    "    df = pd.DataFrame(index=ind,data=find.values,columns=[find.name])\n",
    "    df = df.groupby(df.index).first()\n",
    "    dictt =  df.to_dict('index')\n",
    "    return dictt    \n",
    "\n",
    "# впр    \n",
    "def insert_vpr(x,dictt,name):\n",
    "    try:\n",
    "        return dictt[x][name]\n",
    "    except KeyError:\n",
    "        return 0\n",
    "def save_backup(path_backup,arrs):\n",
    "    try:\n",
    "        backup = pd.HDFStore(path_backup)\n",
    "        for arr in arrs:\n",
    "            backup[str(arr.name)] = arr\n",
    "        backup.close()   \n",
    "    except:\n",
    "        backup.close()    \n",
    "        \n",
    "import numpy as np\n",
    "import time\n",
    "from multiprocessing import Pool\n",
    "import func_read_ex\n",
    "def exlsx_f(df,year,month,ppm_date,nach_goda,sp_k,sp_kv,sp_summ,sp_kv_primech,sp_kv_sum_primech,sy,sp_current_kvartal):\n",
    "    start_time = time.time()\n",
    "    pool = Pool(processes=6)\n",
    "    arrs =  np.array_split(df,18)\n",
    "    arrs =  [(arr,year,month,ppm_date,nach_goda,sp_k,sp_kv,sp_summ,sp_kv_primech,sp_kv_sum_primech,sy,sp_current_kvartal) for arr in arrs]\n",
    "    df_list = pool.map(func_read_ex.func_pr1, arrs)\n",
    "    df = pd.concat(df_list)\n",
    "    print(\"--- %s seconds ---\" % (time.time() - start_time))\n",
    "    pool.close()\n",
    "    return df\n",
    "        \n",
    "def func_obesp_3month(x,year,month,sp):\n",
    "    def yy(x,sp):\n",
    "        return x[sp].sum()\n",
    "    summ = yy(x,sp)\n",
    "    if summ ==0:\n",
    "        return x[str(month)+'/'+str(year)+' Остаток Кол-во']\n",
    "    elif (summ -x[str(month)+'/'+str(year)+' Остаток Кол-во'])<=0:\n",
    "        return summ\n",
    "    else: \n",
    "        return x[str(month)+'/'+str(year)+' Остаток Кол-во']  \n",
    "        \n",
    "        \n",
    "        \n",
    "def func_obesp_3month_procentil(x,year,month):\n",
    "    if x['ПП 3 месяца'] ==0:\n",
    "        return ''\n",
    "    elif (x[str(month)+'/'+str(year)+' Остаток Кол-во']/x['ПП 3 месяца'])>1:\n",
    "        return 1\n",
    "    else:\n",
    "        return x[str(month)+'/'+str(year)+' Остаток Кол-во']/x['ПП 3 месяца']       \n",
    "    \n",
    "    \n",
    "def func_obesp_first_month_procentil(x,year,month,sp):\n",
    "    if yy(x,sp) ==0:\n",
    "        return ''\n",
    "    elif (x[str(month)+'/'+str(year)+' Остаток Кол-во']/yy(x,sp))>1:\n",
    "        return 1\n",
    "    else:\n",
    "        return x[str(month)+'/'+str(year)+' Остаток Кол-во']/yy(x,sp)\n",
    "\n",
    "def func_obesp_second_month_procentil(x,year,month,sp):\n",
    "    if x['ПП кол-во '+str(month+2)+'/'+ str(year)] ==0:\n",
    "        return ''\n",
    "    elif x['ПП кол-во '+str(month+1)+'/'+ str(year)]>x[str(month)+'/'+str(year)+' Остаток Кол-во']:\n",
    "        return 0\n",
    "    elif ((x[str(month)+'/'+str(year)+' Остаток Кол-во']-yy(x,sp))/x['ПП кол-во '+str(month+2)+'/'+ str(year)])>1:\n",
    "        return 1\n",
    "    else:\n",
    "        return ((x[str(month)+'/'+str(year)+' Остаток Кол-во']-yy(x,sp))/x['ПП кол-во '+str(month+2)+'/'+ str(year)])\n",
    "    \n",
    "def func_obesp_third_month_procentil(x,year,month,sp):\n",
    "    if x['ПП кол-во '+str(month+3)+'/'+ str(year)] ==0:\n",
    "        return ''\n",
    "    elif (yy(x,sp)+ x['ПП кол-во '+str(month+2)+'/'+ str(year)])>x[str(month)+'/'+str(year)+' Остаток Кол-во']:\n",
    "        return 0\n",
    "    elif ((x[str(month)+'/'+str(year)+' Остаток Кол-во']-yy(x,sp)-x['ПП кол-во '+str(month+2)+'/'+ str(year)])/x['ПП кол-во '+str(month+3)+'/'+ str(year)])>1:\n",
    "        return 1\n",
    "    else:\n",
    "        return ((x[str(month)+'/'+str(year)+' Остаток Кол-во']-yy(x,sp)-x['ПП кол-во '+str(month+2)+'/'+ str(year)])/x['ПП кол-во '+str(month+3)+'/'+ str(year)])\n",
    "\n",
    "def func_ne_obesp_first_month_(x,year,month,sp):\n",
    "    if (yy(x,sp)-x[str(month)+'/'+str(year)+' Остаток Кол-во'])>0:\n",
    "        return yy(x,sp)-x[str(month)+'/'+str(year)+' Остаток Кол-во']\n",
    "    else:\n",
    "        return 0    \n",
    "\n",
    "    \n",
    "def func_ne_obesp_second_month_(x,year,month,sp):\n",
    "    if (x['ПП кол-во '+str(month+2)+'/'+ str(year)]-x[str(month)+'/'+str(year)+' Остаток Кол-во']+yy(x,sp)-x['Не обеспечено запасом ' + str(month+1)+'/'+str(year)+ ' , кол-во'])>0:\n",
    "        return x['ПП кол-во '+str(month+2)+'/'+ str(year)]-x[str(month)+'/'+str(year)+' Остаток Кол-во']+yy(x,sp)-x['Не обеспечено запасом ' + str(month+1)+'/'+str(year)+ ' , кол-во']\n",
    "    else:\n",
    "        return 0   \n",
    "    \n",
    "def func_ne_obesp_third_month_(x,year,month,sp):\n",
    "    if (x['ПП кол-во '+str(month+2)+'/'+ str(year)]-x[str(month)+'/'+str(year)+' Остаток Кол-во']+yy(x,sp)+x['ПП кол-во '+str(month+3)+'/'+ str(year)]-x['Не обеспечено запасом ' + str(month+1)+'/'+str(year)+ ' , кол-во']-x['Не обеспечено запасом ' + str(month+2)+'/'+str(year)+ ' , кол-во'])>0:\n",
    "        return x['ПП кол-во '+str(month+2)+'/'+ str(year)]-x[str(month)+'/'+str(year)+' Остаток Кол-во']+yy(x,sp)+x['ПП кол-во '+str(month+3)+'/'+ str(year)]-x['Не обеспечено запасом ' + str(month+1)+'/'+str(year)+ ' , кол-во']-x['Не обеспечено запасом ' + str(month+2)+'/'+str(year)+ ' , кол-во']\n",
    "    else:\n",
    "        return 0\n",
    "    \n",
    "def func_ZNB_AVIZOT_(x,year,month):\n",
    "    summ = x['Не обеспечено запасом ' + str(month+1)+'/'+str(year)+ ' , кол-во']+x['Не обеспечено запасом ' + str(month+2)+'/'+str(year)+ ' , кол-во']+x['Не обеспечено запасом ' + str(month+3)+'/'+str(year)+ ' , кол-во']\n",
    "    if summ==0:\n",
    "        return 0\n",
    "    elif (summ-x['Товар в пути (ZNB5, ZNB2/3-АвизОт)'])>=0:\n",
    "        return x['Товар в пути (ZNB5, ZNB2/3-АвизОт)']\n",
    "    elif (summ-x['Товар в пути (ZNB5, ZNB2/3-АвизОт)'])<0:\n",
    "        return summ\n",
    "    else:\n",
    "        return 'хз'    \n",
    "    \n",
    "def func_EST_CONTRACT_(x,year,month):\n",
    "    summ = x['Не обеспечено запасом ' + str(month+1)+'/'+str(year)+ ' , кол-во']+x['Не обеспечено запасом ' + str(month+2)+'/'+str(year)+ ' , кол-во']+x['Не обеспечено запасом ' + str(month+3)+'/'+str(year)+ ' , кол-во']\n",
    "    if summ==0:\n",
    "        return 0\n",
    "    elif (summ-x['ZNB(АвизОт)']-x['Законтрактовано(ZNB-ПртПЗк)'])>=0:\n",
    "        return x['Законтрактовано(ZNB-ПртПЗк)']\n",
    "    elif (summ-x['ZNB(АвизОт)']-x['Законтрактовано(ZNB-ПртПЗк)'])<0:\n",
    "        return summ-x['ZNB(АвизОт)']\n",
    "    else:\n",
    "        return 'хз'    \n",
    "    \n",
    "def func_NO_CONTRACT_(x,year,month):\n",
    "    summ = x['Не обеспечено запасом ' + str(month+1)+'/'+str(year)+ ' , кол-во']+x['Не обеспечено запасом ' + str(month+2)+'/'+str(year)+ ' , кол-во']+x['Не обеспечено запасом ' + str(month+3)+'/'+str(year)+ ' , кол-во']\n",
    "    if summ==0:\n",
    "        return 0\n",
    "    elif (summ-x['ZNB(АвизОт)']-x['Есть контракт']-x['Заявка на закупку(NB)'])>=0:\n",
    "        return x['Заявка на закупку(NB)']\n",
    "    elif (summ-x['ZNB(АвизОт)']-x['Есть контракт']-x['Заявка на закупку(NB)'])<0:\n",
    "        return summ-x['ZNB(АвизОт)']-x['Есть контракт']\n",
    "    else:\n",
    "        return 'хз' \n",
    "    \n",
    "months = {1:'Январь',2:'Февраль',3:'Март',4:'Апрель',5:'Май',6:'Июнь',7:'Июль',8:'Август',9:'Сентябрь',10:'Октябрь',11:'Ноябрь',12:'Декабрь',13:'Январь_с',14:'Февраль_с',15:'Март_с'}"
   ]
  },
  {
   "cell_type": "code",
   "execution_count": 2,
   "metadata": {},
   "outputs": [
    {
     "name": "stdout",
     "output_type": "stream",
     "text": [
      "2020\n",
      "11\n"
     ]
    }
   ],
   "source": [
    "# Когда начало года ставить True(есть только остаток на начало годе)\n",
    "nach_goda = False\n",
    "folder = '1120_curr'\n",
    "# Для непосредственного формирования F0 \n",
    "# current_date_f0 отчетный месяц -1 от ткущего (если сейчас февраль , то ставим январь)\n",
    "current_date_f0 = datetime.datetime(2020,11,1)\n",
    "first_month_of_kvartal = 10\n",
    "last_month_of_kvartal = 12\n",
    "\n",
    "# current_date = current_date_f0\n",
    "ppm_date = datetime.datetime(2020,12,7)\n",
    "# f0 =  get_in_backup(path_backup='backup_f0_cons.h5',name='c_f0_cons_11')\n",
    "# был этот\n",
    "# f0 =  get_in_backup(path_backup='f0_cons_11.h5',name='f0_cons_11')\n",
    "# f0 =  get_in_backup(path_backup='backup_f0_cons.h5',name='c_f0_cons_01')\n",
    "# df = get_in_backup(path_backup='backup_test_del.h5',name='extract')\n",
    "f0 =  get_in_backup(path_backup='f0_cons_12_12032020_v2_for_obesp.h5',name='f0_cons_021')\n",
    "\n",
    "\n",
    "df = get_in_backup(path_backup='backup_12.h5',name='extract')\n",
    "directory = 'C:\\\\Users\\\\NKedrun\\\\Desktop\\\\kazzinc\\\\Uploads1\\\\'+folder+'\\\\'\n",
    "iw13 = pd.read_excel(directory+'IW13.xlsx',sheet_name='Sheet1')\n",
    "rcm = pd.read_excel(directory+'RCM.xlsx',sheet_name='Sheet1')\n",
    "filter_else = get_in_backup(path_backup='backup_12.h5',name='filter_else')\n",
    "if nach_goda:\n",
    "    year = 2020\n",
    "    month = 0\n",
    "else:\n",
    "    year = current_date_f0.year\n",
    "    month = current_date_f0.month\n",
    "\n",
    "print(year)\n",
    "print(month)"
   ]
  },
  {
   "cell_type": "code",
   "execution_count": 3,
   "metadata": {},
   "outputs": [
    {
     "name": "stdout",
     "output_type": "stream",
     "text": [
      "['ПП кол-во 10/2020', 'ПП кол-во 11/2020', 'ПП кол-во 12/2020', 'ПП кол-во 1/2021']\n",
      "['ПП сумма 10/2020', 'ПП сумма 11/2020', 'ПП сумма 12/2020', 'ПП сумма 1/2021']\n",
      "['ПП кол-во 10/2020', 'ПП кол-во 11/2020']\n",
      "['ПП сумма 10/2020', 'ПП сумма 11/2020']\n",
      "['ПП кол-во 10/2020', 'ПП кол-во 11/2020', 'ПП кол-во 12/2020']\n",
      "['ПП сумма 10/2020', 'ПП сумма 11/2020']\n",
      "['ПП кол-во 10/2020', 'ПП кол-во 11/2020', 'ПП кол-во 12/2020']\n",
      "['ПП кол-во 10/2020', 'ПП кол-во 11/2020', 'ПП кол-во 12/2020']\n"
     ]
    }
   ],
   "source": [
    "\n",
    "sp_k = []\n",
    "sp_summ = []\n",
    "sp_kv = []\n",
    "sp_kv_sum = []\n",
    "# # список месяцев потребности для формирования f0 ДЛЯ 1 месяца и считаем от остатков на начало года\n",
    "# sp_k = ['ПП кол-во '+str(x)+'/'+str(current_date_f0.year) for x in  range(first_month_of_kvartal, current_date_f0.month+1)]\n",
    "# sp_summ = ['ПП сумма '+str(x)+'/'+str(current_date_f0.year) for x in  range(first_month_of_kvartal, current_date_f0.month+1)]\n",
    "sp_kv = ['ПП кол-во '+str(x)+'/'+str(current_date_f0.year) for x in  range(first_month_of_kvartal, current_date_f0.month+1)]\n",
    "sp_kv_sum = ['ПП сумма '+str(x)+'/'+str(current_date_f0.year) for x in  range(first_month_of_kvartal, current_date_f0.month+1)]\n",
    "\n",
    "sp_kv_primech = ['ПП кол-во '+str(x)+'/'+str(current_date_f0.year) for x in  range(first_month_of_kvartal, current_date_f0.month+2)]\n",
    "sp_kv_sum_primech = ['ПП сумма '+str(x)+'/'+str(current_date_f0.year) for x in  range(first_month_of_kvartal, last_month_of_kvartal)]\n",
    "\n",
    "sy = ['ПП кол-во '+str(x)+'/'+str(current_date_f0.year) for x in  range(first_month_of_kvartal, 13)]\n",
    "\n",
    "sp_current_kvartal = ['ПП кол-во '+str(x)+'/'+str(current_date_f0.year) for x in  range(first_month_of_kvartal, last_month_of_kvartal+1)]\n",
    "\n",
    "# список месяцев потребности для формирования f0 ДЛЯ 1 месяца и считаем от текущих остатков\n",
    "if first_month_of_kvartal==1:\n",
    "    sp_k = ['ПП кол-во '+str(x)+'/'+str(current_date_f0.year) for x in  range(first_month_of_kvartal, current_date_f0.month+4)]\n",
    "    sp_summ = ['ПП сумма '+str(x)+'/'+str(current_date_f0.year) for x in  range(first_month_of_kvartal, current_date_f0.month+4)]\n",
    "elif first_month_of_kvartal==4 or first_month_of_kvartal==7 or (first_month_of_kvartal==10 and current_date_f0.month ==10) :\n",
    "    sp_k = ['ПП кол-во '+str(x)+'/'+str(current_date_f0.year) for x in  range(first_month_of_kvartal, current_date_f0.month+3)]\n",
    "    sp_summ = ['ПП сумма '+str(x)+'/'+str(current_date_f0.year) for x in  range(first_month_of_kvartal, current_date_f0.month+3)]\n",
    "elif first_month_of_kvartal==10 and current_date_f0.month ==11:\n",
    "    sp_k = ['ПП кол-во '+str(x)+'/'+str(current_date_f0.year) for x in  range(first_month_of_kvartal, current_date_f0.month+2)]\n",
    "    sp_k.append('ПП кол-во 1/'+str(current_date_f0.year +1))\n",
    "    sp_summ = ['ПП сумма '+str(x)+'/'+str(current_date_f0.year) for x in  range(first_month_of_kvartal, current_date_f0.month+2)]\n",
    "    sp_summ.append('ПП сумма 1/'+str(current_date_f0.year +1))\n",
    "elif first_month_of_kvartal==10 and current_date_f0.month ==12:\n",
    "    sp_k = ['ПП кол-во '+str(x)+'/'+str(current_date_f0.year) for x in  range(first_month_of_kvartal, current_date_f0.month+1)]\n",
    "    sp_k.append('ПП кол-во 1/'+str(current_date_f0.year +1))\n",
    "    sp_k.append('ПП кол-во 2/'+str(current_date_f0.year +1))\n",
    "    sp_summ = ['ПП сумма '+str(x)+'/'+str(current_date_f0.year) for x in  range(first_month_of_kvartal, current_date_f0.month+1)]\n",
    "    sp_summ.append('ПП сумма 1/'+str(current_date_f0.year +1))\n",
    "    sp_summ.append('ПП сумма 2/'+str(current_date_f0.year +1))\n",
    "    \n",
    "    sp_kv_primech.append('ПП сумма 1/'+str(current_date_f0.year +1))\n",
    "    sp_kv_sum_primech.append('ПП сумма 1/'+str(current_date_f0.year +1))\n",
    "print(sp_k)\n",
    "print(sp_summ)\n",
    "print(sp_kv)\n",
    "print(sp_kv_sum)\n",
    "print(sp_kv_primech)\n",
    "print(sp_kv_sum_primech)\n",
    "print(sy)\n",
    "print(sp_current_kvartal)"
   ]
  },
  {
   "cell_type": "code",
   "execution_count": 4,
   "metadata": {
    "scrolled": true
   },
   "outputs": [],
   "source": [
    "# f0[str(1)+'/'+str(year)+' Остаток Кол-во']  = f0['Остаток на начало года Кол-во']\n",
    "# f0[str(1)+'/'+str(year)+' Остаток Сумма']  = f0['Остаток на начало года Сумма']\n",
    "f0.rename(columns={'2/2020 ФП Кол-во':'1/2020 ФП Кол-во','2/2020 ФП Сумма':'1/2020 ФП Сумма',\\\n",
    "                    '2/2020 ФC Кол-во':'1/2020 ФC Кол-во','2/2020 ФC Сумма':'1/2020 ФC Сумма',\\\n",
    "                    '2/2020 Остаток Кол-во':'1/2020 Остаток Кол-во','2/2020 Остаток Сумма':'1/2020 Остаток Сумма'},inplace = True)\n"
   ]
  },
  {
   "cell_type": "code",
   "execution_count": 5,
   "metadata": {},
   "outputs": [],
   "source": [
    "# f0[str(1)+'/'+str(year)+' Остаток Кол-во']  = f0['Остаток на начало года Кол-во']\n",
    "# f0[str(1)+'/'+str(year)+' Остаток Сумма']  = f0['Остаток на начало года Сумма']\n",
    "f0.rename(columns={'3/2020 ФП Кол-во':'2/2020 ФП Кол-во','3/2020 ФП Сумма':'2/2020 ФП Сумма',\\\n",
    "                    '3/2020 ФC Кол-во':'2/2020 ФC Кол-во','3/2020 ФC Сумма':'2/2020 ФC Сумма',\\\n",
    "                    '3/2020 Остаток Кол-во':'2/2020 Остаток Кол-во','3/2020 Остаток Сумма':'2/2020 Остаток Сумма'},inplace = True)"
   ]
  },
  {
   "cell_type": "code",
   "execution_count": 6,
   "metadata": {},
   "outputs": [],
   "source": [
    "f0.rename(columns={'4/2020 ФП Кол-во':'3/2020 ФП Кол-во','4/2020 ФП Сумма':'3/2020 ФП Сумма',\\\n",
    "                    '4/2020 ФC Кол-во':'3/2020 ФC Кол-во','4/2020 ФC Сумма':'3/2020 ФC Сумма',\\\n",
    "                    '4/2020 Остаток Кол-во':'3/2020 Остаток Кол-во','4/2020 Остаток Сумма':'3/2020 Остаток Сумма'},inplace = True)"
   ]
  },
  {
   "cell_type": "code",
   "execution_count": 7,
   "metadata": {},
   "outputs": [],
   "source": [
    "f0.rename(columns={'5/2020 ФП Кол-во':'4/2020 ФП Кол-во','5/2020 ФП Сумма':'4/2020 ФП Сумма',\\\n",
    "                    '5/2020 ФC Кол-во':'4/2020 ФC Кол-во','5/2020 ФC Сумма':'4/2020 ФC Сумма',\\\n",
    "                    '5/2020 Остаток Кол-во':'4/2020 Остаток Кол-во','5/2020 Остаток Сумма':'4/2020 Остаток Сумма'},inplace = True)"
   ]
  },
  {
   "cell_type": "code",
   "execution_count": 8,
   "metadata": {},
   "outputs": [],
   "source": [
    "f0.rename(columns={'6/2020 ФП Кол-во':'5/2020 ФП Кол-во','6/2020 ФП Сумма':'5/2020 ФП Сумма',\\\n",
    "                    '6/2020 ФC Кол-во':'5/2020 ФC Кол-во','6/2020 ФC Сумма':'5/2020 ФC Сумма',\\\n",
    "                    '6/2020 Остаток Кол-во':'5/2020 Остаток Кол-во','6/2020 Остаток Сумма':'5/2020 Остаток Сумма'},inplace = True)"
   ]
  },
  {
   "cell_type": "code",
   "execution_count": 9,
   "metadata": {},
   "outputs": [],
   "source": [
    "f0.rename(columns={'7/2020 ФП Кол-во':'6/2020 ФП Кол-во','7/2020 ФП Сумма':'6/2020 ФП Сумма',\\\n",
    "                    '7/2020 ФC Кол-во':'6/2020 ФC Кол-во','7/2020 ФC Сумма':'6/2020 ФC Сумма',\\\n",
    "                    '7/2020 Остаток Кол-во':'6/2020 Остаток Кол-во','7/2020 Остаток Сумма':'6/2020 Остаток Сумма'},inplace = True)"
   ]
  },
  {
   "cell_type": "code",
   "execution_count": 10,
   "metadata": {},
   "outputs": [],
   "source": [
    "f0.rename(columns={'8/2020 ФП Кол-во':'7/2020 ФП Кол-во','8/2020 ФП Сумма':'7/2020 ФП Сумма',\\\n",
    "                    '8/2020 ФC Кол-во':'7/2020 ФC Кол-во','8/2020 ФC Сумма':'7/2020 ФC Сумма',\\\n",
    "                    '8/2020 Остаток Кол-во':'7/2020 Остаток Кол-во','8/2020 Остаток Сумма':'7/2020 Остаток Сумма'},inplace = True)"
   ]
  },
  {
   "cell_type": "code",
   "execution_count": 11,
   "metadata": {},
   "outputs": [],
   "source": [
    "f0.rename(columns={'9/2020 ФП Кол-во':'8/2020 ФП Кол-во','9/2020 ФП Сумма':'8/2020 ФП Сумма',\\\n",
    "                    '9/2020 ФC Кол-во':'8/2020 ФC Кол-во','9/2020 ФC Сумма':'8/2020 ФC Сумма',\\\n",
    "                    '9/2020 Остаток Кол-во':'8/2020 Остаток Кол-во','9/2020 Остаток Сумма':'8/2020 Остаток Сумма'},inplace = True)"
   ]
  },
  {
   "cell_type": "code",
   "execution_count": 12,
   "metadata": {},
   "outputs": [],
   "source": [
    "f0.rename(columns={'10/2020 ФП Кол-во':'9/2020 ФП Кол-во','10/2020 ФП Сумма':'9/2020 ФП Сумма',\\\n",
    "                    '10/2020 ФC Кол-во':'9/2020 ФC Кол-во','10/2020 ФC Сумма':'9/2020 ФC Сумма',\\\n",
    "                    '10/2020 Остаток Кол-во':'9/2020 Остаток Кол-во','10/2020 Остаток Сумма':'9/2020 Остаток Сумма'},inplace = True)"
   ]
  },
  {
   "cell_type": "code",
   "execution_count": 13,
   "metadata": {},
   "outputs": [],
   "source": [
    "f0.rename(columns={'11/2020 ФП Кол-во':'10/2020 ФП Кол-во','11/2020 ФП Сумма':'10/2020 ФП Сумма',\\\n",
    "                    '11/2020 ФC Кол-во':'10/2020 ФC Кол-во','11/2020 ФC Сумма':'10/2020 ФC Сумма',\\\n",
    "                    '11/2020 Остаток Кол-во':'10/2020 Остаток Кол-во','11/2020 Остаток Сумма':'10/2020 Остаток Сумма'},inplace = True)"
   ]
  },
  {
   "cell_type": "code",
   "execution_count": 14,
   "metadata": {},
   "outputs": [],
   "source": [
    "f0.rename(columns={'12/2020 ФП Кол-во':'11/2020 ФП Кол-во','12/2020 ФП Сумма':'11/2020 ФП Сумма',\\\n",
    "                    '12/2020 ФC Кол-во':'11/2020 ФC Кол-во','12/2020 ФC Сумма':'11/2020 ФC Сумма',\\\n",
    "                    '12/2020 Остаток Кол-во':'11/2020 Остаток Кол-во','12/2020 Остаток Сумма':'12/2020 Остаток Сумма'},inplace = True)"
   ]
  },
  {
   "cell_type": "code",
   "execution_count": 16,
   "metadata": {},
   "outputs": [
    {
     "name": "stderr",
     "output_type": "stream",
     "text": [
      "C:\\Users\\NKedrun\\Desktop\\Portable Python 3.6.5 x64\\App\\Python\\lib\\site-packages\\ipykernel_launcher.py:8: SettingWithCopyWarning: \n",
      "A value is trying to be set on a copy of a slice from a DataFrame.\n",
      "Try using .loc[row_indexer,col_indexer] = value instead\n",
      "\n",
      "See the caveats in the documentation: https://pandas.pydata.org/pandas-docs/stable/user_guide/indexing.html#returning-a-view-versus-a-copy\n",
      "  \n",
      "C:\\Users\\NKedrun\\Desktop\\Portable Python 3.6.5 x64\\App\\Python\\lib\\site-packages\\ipykernel_launcher.py:9: SettingWithCopyWarning: \n",
      "A value is trying to be set on a copy of a slice from a DataFrame.\n",
      "Try using .loc[row_indexer,col_indexer] = value instead\n",
      "\n",
      "See the caveats in the documentation: https://pandas.pydata.org/pandas-docs/stable/user_guide/indexing.html#returning-a-view-versus-a-copy\n",
      "  if __name__ == '__main__':\n"
     ]
    }
   ],
   "source": [
    "# строка только для начала года\n",
    "if nach_goda:\n",
    "    f0.rename(columns={'Остаток на начало года Кол-во':str(month)+'/'+str(year)+' Остаток Кол-во',\\\n",
    "                  'Остаток на начало года Сумма':str(month)+'/'+str(year)+' Остаток Сумма'},inplace=True)\n",
    "\n",
    "f0.reset_index(drop=True,inplace=True)\n",
    "f0 = f0[(f0['Категория ТМЦ']=='Текущая потребность')&(f0.loc[:,[x for x in f0.columns if x.find('ПП кол-во')!=-1]].sum(axis = 1)>0)]\n",
    "f0['СтатусМтрл на заводе'] = f0['СтатусМтрл на заводе'].apply(lambda x: 0 if x=='' else x).astype('int').astype('str')\n",
    "f0['СтатусМтрл на заводе'] = f0['СтатусМтрл на заводе'].apply(lambda x: str(x).replace('.0','')).astype('int').astype('str')\n",
    "if nach_goda:\n",
    "    f0 = f0.drop(['Категория ТМЦ','БЕ','Имя Завода + Материал + Заказ','Завод + Склад','Завод + Область ППМ',\\\n",
    "                  'Код округа + Материал','Склад потребности','Область ППМ','Центральный завод','Код округа','Признак аналога',\\\n",
    "                  'Класс оценки','подгруппа','подподгруппа','Недропользование','ПлановСрокПоставки','SS (норма запаса на складе)'\\\n",
    "                  ,'SS сумма'],axis = 1).drop(list(f0.loc[:,[x for x in f0.columns if x.find('Остаток Кол-во')!=-1 and int(x.split('/')[0]) !=month ]]),axis = 1).drop(list(f0.loc[:,[x for x in f0.columns if x.find('Остаток Сумма')!=-1 and int(x.split('/')[0]) !=month ]]),axis = 1).drop([x for x in f0.columns if x.find('ФП')!=-1 or x.find('ФC')!=-1 or x.find('БЗ')!=-1 or x.find('Остаток прогноз')!=-1],axis = 1)\n",
    "    \n",
    "else:\n",
    "        \n",
    "    f0 = f0.drop(['Категория_запаса','Категория ТМЦ','БЕ','Склад потребности','Область ППМ','Центральный завод','Код округа','Признак аналога','Класс оценки','подгруппа','подподгруппа','Недропользование','ПлановСрокПоставки','SS (норма запаса на складе)','SS сумма','Кол-во запаса в начале периода','Сумма запаса в начале периода'],axis = 1).drop(list(f0.loc[:,[x for x in f0.columns if x.find('Остаток Кол-во')!=-1 and int(x.split('/')[0]) !=month ]]),axis = 1).drop(list(f0.loc[:,[x for x in f0.columns if x.find('Остаток Сумма')!=-1 and int(x.split('/')[0]) !=month ]]),axis = 1).drop([x for x in f0.columns if x.find('ФП')!=-1 or x.find('ФC')!=-1 or x.find('БЗ')!=-1 or x.find('Остаток прогноз')!=-1],axis = 1)\n",
    "\n",
    "f0.loc[f0[f0['Заказ'].str.startswith('2')].index,'Заказ'] = '0'\n",
    "aggregate= dict((x,'sum') for x in f0.columns if f0[x].dtype=='float64' and x!='Цена')\n",
    "aggregate['Цена'] = ['max']\n",
    "f0 = f0.groupby([x for x in f0.columns if f0[x].dtype=='object']).agg(aggregate).reset_index()\n",
    "f0.columns =  [x[0] for x in f0.columns]\n",
    "# f0[[x for x in f0.columns if f0[x].dtype=='float64']] = f0[[x for x in f0.columns if f0[x].dtype=='float64']].apply( lambda x: round(x,3))\n",
    "f0['СтатусМтрл на заводе'] = f0['СтатусМтрл на заводе'].astype('int')\n",
    "\n",
    "f0['Заказ+Материал'] = f0['Заказ']+' '+f0['Материал']\n",
    "iw13['Заказ'] = iw13['Заказ'].astype('str')\n",
    "spr_zak_mat_iw13 = rev_to_dict(iw13['Заказ']+' '+iw13['Материал'],iw13 ['Дата деблокирования'])\n",
    "f0['Дата деблокирования (ТОРО)'] = f0['Заказ+Материал'].apply(lambda x:  insert_vpr(x,spr_zak_mat_iw13,'Дата деблокирования'))\n",
    "f0.drop('Заказ+Материал',axis = 1,inplace = True)\n",
    "\n",
    "f0['Завод+НН'] = f0['Завод'].astype('str')+' #'+f0['Материал'].astype('str')\n",
    "\n",
    "spr_data_sozdanya_potr_df = rev_to_dict(df['Завод+НН'],df ['Дата создания потребности'])\n",
    "f0['Дата создания потребности'] = f0['Завод+НН'].apply(lambda x:  insert_vpr(x,spr_data_sozdanya_potr_df,'Дата создания потребности'))\n",
    "f0['Дата создания потребности'] = f0['Дата создания потребности'].apply(lambda x: '01.01.1900' if x =='00.00.0000' else  x)\n",
    "f0['Дата создания потребности'] = f0['Дата создания потребности'].apply(lambda x: '01.01.1900' if x ==0  else  x)\n",
    "f0['Дата создания потребности'] = [datetime.datetime(int(x.split('.')[2]),int(x.split('.')[1]),int(x.split('.')[0])) for x in f0['Дата создания потребности'].values]\n",
    "\n",
    "spr_data_postaki_dlya_el_popolnreniya_ds = rev_to_dict(df['Завод+НН'],df ['Дата поставки для элемента пополнения'])\n",
    "f0['Дата поставки для элемента пополнения'] = f0['Завод+НН'].apply(lambda x:  insert_vpr(x,spr_data_postaki_dlya_el_popolnreniya_ds,'Дата поставки для элемента пополнения'))\n",
    "f0['Дата поставки для элемента пополнения'] = f0['Дата поставки для элемента пополнения'].apply(lambda x: '01.01.1900' if x =='00.00.0000' else  x)\n",
    "f0['Дата поставки для элемента пополнения'] = f0['Дата поставки для элемента пополнения'].apply(lambda x: '01.01.1900' if x ==0  else  x)\n",
    "f0['Дата поставки для элемента пополнения'] = [datetime.datetime(int(x.split('.')[2]),int(x.split('.')[1]),int(x.split('.')[0])) for x in f0['Дата поставки для элемента пополнения'].values]\n",
    "\n",
    "f0['Заказчик + HH'] =f0['Комплекс'].astype('str')+' '+f0['Материал'].astype('str')\n",
    "\n",
    "\n",
    "ZNB = pd.read_excel(directory+'ZNB.xlsx',sheet_name='Sheet1')\n",
    "UB05 = pd.read_excel(directory+'UB05.xlsx',sheet_name='Sheet1')\n",
    "spr_znb = pd.read_excel(directory+'Справодник для ZNB.xlsx',sheet_name='ZNB')\n",
    "ZNB.fillna(0,inplace=True)\n",
    "ZNB['Склад'] = ZNB['Склад'].apply(lambda x: '' if x==0 else x)\n",
    "ZNB['Завод'] = ZNB['Завод'].apply(lambda x: str(x).replace('.0','')).astype('str')\n",
    "ZNB['Завод+Склад'] = ZNB['Завод'].astype('str')+' '+ZNB['Склад'].astype('str')\n",
    "spr_znb_ = rev_to_dict(spr_znb['Завод+склад'],spr_znb['Комплекс'])\n",
    "ZNB['Комплекс']=ZNB['Завод+Склад'].apply(lambda x:  insert_vpr(x,spr_znb_,'Комплекс'))\n",
    "ZNB['Комплекс+Маттериал'] = ZNB['Комплекс'].astype('str')+' '+ZNB['Материал'].astype('str')\n",
    "ZNB['Завод+НН'] = ZNB['Завод'].astype('str')+' #'+ZNB['Материал'].astype('str')\n",
    "ZNB.fillna(0,inplace=True)\n",
    "ZNB['Карточка RCM'] = ZNB['Карточка RCM'].apply(lambda x: str(x).replace('.0','')).astype('str')\n",
    "\n",
    "\n",
    "\n",
    "\n",
    "spr_kompl_mat_komp_znb_full = rev_to_dict(ZNB['Комплекс+Маттериал'],ZNB ['Карточка RCM'])\n",
    "spr_mat_znb = rev_to_dict(ZNB['Материал'],ZNB ['Карточка RCM'])\n",
    "\n",
    "for ind in f0.index:\n",
    "    if (f0.at[ind,'Товар в пути (ZNB5, ZNB2/3-АвизОт)']   + f0.at[ind,'Законтрактовано(ZNB-ПртПЗк)'])>0:\n",
    "        if insert_vpr(f0.at[ind,'Заказчик + HH'],spr_kompl_mat_komp_znb_full,'Карточка RCM')==0 and f0.at[ind,'Комплекс'] in  filter_else['one'].values:\n",
    "            f0.at[ind,'RCM']  = insert_vpr(f0.at[ind,'Материал'],spr_mat_znb,'Карточка RCM')\n",
    "        else:\n",
    "            f0.at[ind,'RCM'] = insert_vpr(f0.at[ind,'Заказчик + HH'],spr_kompl_mat_komp_znb_full,'Карточка RCM')\n",
    "    \n",
    "\n",
    "spr_mat_kart_crm_inic_zak_znb = rev_to_dict(ZNB['Материал'].astype('str')+' '+ZNB ['Карточка RCM'], ZNB['Инициатор закупки']     )\n",
    "f0['Материал+RCM'] = f0['Материал']+' '+f0['RCM'].astype('str')\n",
    "f0['Трафик'] = f0['Материал+RCM'].apply(lambda x:  insert_vpr(x,spr_mat_kart_crm_inic_zak_znb,'Инициатор закупки'))\n",
    "f0.drop('Материал+RCM',axis = 1,inplace = True)\n",
    "\n",
    "\n",
    "rcm['Ид. случая'] = rcm['Ид. случая'].astype('str')\n",
    "spr_dat_zak = rev_to_dict(rcm['Ид. случая'], rcm['Дата заключения'])\n",
    "spr_dat_rcm_dat_okonch = rev_to_dict(rcm['Ид. случая'], rcm['Дата окончания действия'])\n",
    "spr_dat_rcm_status = rev_to_dict(rcm['Ид. случая'], rcm['Статус названия'])\n",
    "f0['Дата заключения RCM'] = f0['RCM'].apply(lambda x:  insert_vpr(x,spr_dat_zak,'Дата заключения'))\n",
    "f0['Дата окончания RCM'] = f0['RCM'].apply(lambda x:  insert_vpr(x,spr_dat_rcm_dat_okonch,'Дата окончания действия'))\n",
    "f0['Статус договора'] = f0['RCM'].apply(lambda x:  insert_vpr(x,spr_dat_rcm_status,'Статус названия'))\n",
    "\n",
    "f0['Дата окончания RCM'].fillna(datetime.datetime(1900,1,1),inplace = True)\n",
    "f0['Дата окончания RCM'] = f0['Дата окончания RCM'].apply(lambda x: datetime.datetime(1900,1,1) if x ==0  else x)\n",
    "f0['Дата окончания RCM'] = f0['Дата окончания RCM'].apply(lambda x: 1900 if  x.year == 9999 else x)\n",
    "\n",
    "f0['Дата заключения RCM'].fillna(datetime.datetime(1900,1,1),inplace = True)\n",
    "f0['Дата заключения RCM'] = f0['Дата заключения RCM'].apply(lambda x: datetime.datetime(1900,1,1) if x ==0  else x)\n",
    "f0['Дата заключения RCM'] = f0['Дата заключения RCM'].apply(lambda x: 1900 if  x.year == 9999 else x)\n",
    "\n",
    "f0['Дата деблокирования (ТОРО)'].fillna(datetime.datetime(1900,1,1),inplace = True)\n",
    "f0['Дата деблокирования (ТОРО)'] = f0['Дата деблокирования (ТОРО)'].apply(lambda x: datetime.datetime(1900,1,1) if x ==0  else x)\n",
    "f0['Дата деблокирования (ТОРО)'] = f0['Дата деблокирования (ТОРО)'].apply(lambda x: 1900 if  x.year == 9999 else x)\n",
    "\n",
    "\n",
    "\n",
    "\n",
    "\n",
    "NB = pd.read_excel(directory+'NB.xlsx',sheet_name='Sheet1')\n",
    "NB = NB[~NB['Обозначение индикатора деблокирования'].isin(['Тендер завершен','блокиров.'])]\n",
    "spr_nb = pd.read_excel(directory+'Справодник для NB.xlsx',sheet_name='NB')\n",
    "NB.fillna(0,inplace = True)\n",
    "spr_nb.fillna(0,inplace = True)\n",
    "NB['Количество пополнения'] = NB['ЗатребованКолич']-NB['Заказанное к-во']\n",
    "NB['Завод'] = NB['Завод'].apply(lambda x: str(x).replace('.0','')).astype('str')\n",
    "NB['Склад'] = NB['Склад'].apply(lambda x: str(x).replace('.0','')).astype('str')\n",
    "NB['Материал'] = NB['Материал'].apply(lambda x: str(x).replace('.0','')).astype('str')\n",
    "NB['Материал'] = NB['Материал'].apply(lambda x: '0'+str(x) if  len(str(x))<9 else x)\n",
    "NB['Склад'] = NB['Склад'].apply(lambda x: '' if x=='0' else x)\n",
    "NB['Завод+Склад'] = NB['Завод']+' '+NB['Склад']\n",
    "NB['Завод+Склад'] = NB['Завод+Склад'].str.strip()\n",
    "spr_nb1 = rev_to_dict(spr_nb['Завод + Склад'].str.strip(),spr_nb['Комплекс'])\n",
    "NB['Комплекс'] = NB['Завод+Склад'].apply(lambda x: insert_vpr(x,spr_nb1,'Комплекс'))\n",
    "NB['Комплекс'] = NB['Комплекс'].apply(lambda x: str(x).replace('.0','')).astype('str')\n",
    "NB['Комплекс+Маттериал'] = NB['Комплекс']+' '+NB['Материал']\n",
    "NB['Количество пополнения'] = NB['Количество пополнения'].apply(lambda x:0 if x<0 else x)\n",
    "\n",
    "\n",
    "spr_kompl_mat_komp_dat_zay = rev_to_dict(NB['Комплекс+Маттериал'],NB ['Дата заявки'])\n",
    "spr_mat_dat_zay = rev_to_dict(NB['Материал'],NB ['Дата заявки'])\n",
    "\n",
    "for ind in f0.index:\n",
    "    if f0.at[ind,'Заявка на закупку(NB)']>0:\n",
    "        if insert_vpr(f0.at[ind,'Заказчик + HH'],spr_kompl_mat_komp_dat_zay,'Дата заявки')==0 and f0.at[ind,'Комплекс'] in  filter_else['one'].values:\n",
    "            if insert_vpr(f0.at[ind,'Материал'],spr_mat_dat_zay,'Дата заявки')==0:\n",
    "                f0.at[ind,'Дата создания элемента ППМ пополнения NB01'] = datetime.datetime(1900,1,1)\n",
    "            else:\n",
    "                f0.at[ind,'Дата создания элемента ППМ пополнения NB01']  = insert_vpr(f0.at[ind,'Материал'],spr_mat_dat_zay,'Дата заявки')\n",
    "        else:\n",
    "            if insert_vpr(f0.at[ind,'Заказчик + HH'],spr_kompl_mat_komp_dat_zay,'Дата заявки')==0:\n",
    "                f0.at[ind,'Дата создания элемента ППМ пополнения NB01'] = datetime.datetime(1900,1,1)\n",
    "            else:\n",
    "                f0.at[ind,'Дата создания элемента ППМ пополнения NB01'] = insert_vpr(f0.at[ind,'Заказчик + HH'],spr_kompl_mat_komp_dat_zay,'Дата заявки')\n",
    "                \n",
    "                \n",
    "\n",
    "                \n",
    "                \n",
    "                \n",
    "f0.fillna(0,inplace=True)               "
   ]
  },
  {
   "cell_type": "code",
   "execution_count": 17,
   "metadata": {
    "scrolled": true
   },
   "outputs": [
    {
     "data": {
      "text/plain": [
       "array([Timestamp('2020-10-26 00:00:00'), Timestamp('2019-08-05 00:00:00'),\n",
       "       0, Timestamp('2018-04-10 00:00:00'),\n",
       "       Timestamp('2020-07-20 00:00:00'), Timestamp('2020-09-07 00:00:00'),\n",
       "       Timestamp('2020-10-05 00:00:00'), Timestamp('2020-08-07 00:00:00'),\n",
       "       Timestamp('2019-07-23 00:00:00'), Timestamp('2020-10-23 00:00:00'),\n",
       "       Timestamp('2020-06-05 00:00:00'), Timestamp('2019-07-02 00:00:00'),\n",
       "       Timestamp('2019-10-07 00:00:00'), Timestamp('2020-07-13 00:00:00'),\n",
       "       Timestamp('2020-09-05 00:00:00'), Timestamp('2020-09-14 00:00:00'),\n",
       "       Timestamp('2020-06-16 00:00:00'), Timestamp('2019-07-30 00:00:00'),\n",
       "       Timestamp('2019-07-16 00:00:00'), Timestamp('2020-03-06 00:00:00'),\n",
       "       Timestamp('2020-01-15 00:00:00'), Timestamp('2019-06-25 00:00:00'),\n",
       "       Timestamp('2020-07-10 00:00:00'), Timestamp('2020-04-24 00:00:00'),\n",
       "       Timestamp('2020-10-09 00:00:00'), Timestamp('2020-01-06 00:00:00'),\n",
       "       Timestamp('2020-12-09 00:00:00'), Timestamp('2020-09-29 00:00:00'),\n",
       "       Timestamp('2020-08-28 00:00:00'), Timestamp('2020-04-28 00:00:00'),\n",
       "       Timestamp('2019-11-26 00:00:00'), Timestamp('2020-08-11 00:00:00'),\n",
       "       Timestamp('2020-09-01 00:00:00'), Timestamp('2018-12-10 00:00:00'),\n",
       "       Timestamp('2020-02-05 00:00:00'), Timestamp('2020-08-22 00:00:00'),\n",
       "       Timestamp('2020-08-14 00:00:00'), Timestamp('2020-09-26 00:00:00'),\n",
       "       Timestamp('2020-07-24 00:00:00'), Timestamp('2018-07-31 00:00:00'),\n",
       "       Timestamp('2020-05-25 00:00:00'), Timestamp('2020-07-27 00:00:00'),\n",
       "       Timestamp('2020-11-16 00:00:00'), Timestamp('2020-09-25 00:00:00'),\n",
       "       Timestamp('2020-06-22 00:00:00'), Timestamp('2020-08-03 00:00:00'),\n",
       "       Timestamp('2020-08-10 00:00:00'), Timestamp('2020-02-03 00:00:00'),\n",
       "       Timestamp('2020-11-09 00:00:00'), Timestamp('2020-10-19 00:00:00'),\n",
       "       Timestamp('2020-10-29 00:00:00'), Timestamp('2020-08-17 00:00:00'),\n",
       "       Timestamp('2020-07-28 00:00:00'), Timestamp('2020-07-21 00:00:00'),\n",
       "       Timestamp('2020-08-04 00:00:00'), Timestamp('2020-11-30 00:00:00'),\n",
       "       Timestamp('2020-10-02 00:00:00'), Timestamp('2018-10-14 00:00:00'),\n",
       "       Timestamp('2020-06-29 00:00:00'), Timestamp('2020-11-24 00:00:00'),\n",
       "       Timestamp('2020-07-07 00:00:00'), Timestamp('2020-04-07 00:00:00'),\n",
       "       Timestamp('2020-04-13 00:00:00'), Timestamp('2020-11-02 00:00:00'),\n",
       "       Timestamp('2020-12-07 00:00:00'), Timestamp('2020-08-24 00:00:00'),\n",
       "       Timestamp('2020-10-12 00:00:00'), Timestamp('2020-03-04 00:00:00'),\n",
       "       Timestamp('2020-10-30 00:00:00'), Timestamp('2020-03-13 00:00:00'),\n",
       "       Timestamp('2019-12-30 00:00:00'), Timestamp('2020-06-19 00:00:00'),\n",
       "       Timestamp('2019-05-21 00:00:00'), Timestamp('2020-03-05 00:00:00'),\n",
       "       Timestamp('2020-09-28 00:00:00'), Timestamp('2020-07-08 00:00:00'),\n",
       "       Timestamp('2020-10-16 00:00:00'), Timestamp('2020-10-31 00:00:00'),\n",
       "       Timestamp('2020-10-06 00:00:00'), Timestamp('2020-10-20 00:00:00'),\n",
       "       Timestamp('2020-06-09 00:00:00'), Timestamp('2020-11-21 00:00:00'),\n",
       "       Timestamp('2020-12-04 00:00:00'), Timestamp('2020-10-27 00:00:00'),\n",
       "       Timestamp('2020-12-01 00:00:00'), Timestamp('2020-07-14 00:00:00'),\n",
       "       Timestamp('2019-09-05 00:00:00'), Timestamp('2018-07-17 00:00:00'),\n",
       "       Timestamp('2019-08-07 00:00:00'), Timestamp('2020-09-22 00:00:00'),\n",
       "       Timestamp('2020-08-18 00:00:00'), Timestamp('2020-08-25 00:00:00'),\n",
       "       Timestamp('2019-10-15 00:00:00'), Timestamp('2019-08-20 00:00:00'),\n",
       "       Timestamp('2020-04-21 00:00:00'), Timestamp('2020-12-08 00:00:00'),\n",
       "       Timestamp('2019-12-19 00:00:00'), Timestamp('2020-11-10 00:00:00'),\n",
       "       Timestamp('2020-11-03 00:00:00'), Timestamp('2020-05-01 00:00:00'),\n",
       "       Timestamp('2019-10-22 00:00:00'), Timestamp('2020-11-17 00:00:00'),\n",
       "       Timestamp('2019-04-06 00:00:00'), Timestamp('2019-12-23 00:00:00'),\n",
       "       Timestamp('2020-10-13 00:00:00'), Timestamp('2019-12-05 00:00:00'),\n",
       "       Timestamp('2020-06-30 00:00:00'), Timestamp('2020-06-07 00:00:00'),\n",
       "       Timestamp('2019-10-14 00:00:00'), Timestamp('2020-11-20 00:00:00'),\n",
       "       Timestamp('2020-05-15 00:00:00'), Timestamp('2019-03-19 00:00:00'),\n",
       "       Timestamp('2019-11-07 00:00:00'), Timestamp('2019-12-31 00:00:00'),\n",
       "       Timestamp('2020-11-27 00:00:00'), Timestamp('2019-08-12 00:00:00'),\n",
       "       Timestamp('2019-11-05 00:00:00'), Timestamp('2020-05-05 00:00:00'),\n",
       "       Timestamp('2020-09-02 00:00:00'), Timestamp('2019-10-29 00:00:00'),\n",
       "       Timestamp('2019-03-09 00:00:00'), Timestamp('2018-08-28 00:00:00'),\n",
       "       Timestamp('2020-11-23 00:00:00'), Timestamp('2019-02-18 00:00:00'),\n",
       "       Timestamp('2019-08-14 00:00:00'), Timestamp('2020-07-31 00:00:00'),\n",
       "       Timestamp('2019-01-16 00:00:00'), Timestamp('2020-11-13 00:00:00'),\n",
       "       Timestamp('2019-10-01 00:00:00'), Timestamp('2020-09-21 00:00:00'),\n",
       "       Timestamp('2020-02-24 00:00:00'), Timestamp('2020-09-08 00:00:00'),\n",
       "       Timestamp('2019-11-18 00:00:00'), Timestamp('2019-07-05 00:00:00'),\n",
       "       Timestamp('2020-05-19 00:00:00'), Timestamp('2019-07-25 00:00:00'),\n",
       "       Timestamp('2020-12-06 00:00:00'), Timestamp('2019-08-27 00:00:00'),\n",
       "       Timestamp('2020-09-18 00:00:00'), Timestamp('2018-08-20 00:00:00'),\n",
       "       Timestamp('2019-07-28 00:00:00'), Timestamp('2018-07-24 00:00:00'),\n",
       "       Timestamp('2020-01-14 00:00:00'), Timestamp('2019-10-04 00:00:00'),\n",
       "       Timestamp('2020-07-01 00:00:00'), Timestamp('2020-02-04 00:00:00'),\n",
       "       Timestamp('2018-09-18 00:00:00'), Timestamp('2020-05-18 00:00:00'),\n",
       "       Timestamp('2018-04-09 00:00:00'), Timestamp('2019-10-08 00:00:00'),\n",
       "       Timestamp('2019-08-19 00:00:00'), Timestamp('2019-09-02 00:00:00'),\n",
       "       Timestamp('2020-04-20 00:00:00'), Timestamp('2020-10-21 00:00:00'),\n",
       "       Timestamp('2020-10-15 00:00:00'), Timestamp('2020-01-31 00:00:00'),\n",
       "       Timestamp('2020-01-29 00:00:00'), Timestamp('2019-06-14 00:00:00'),\n",
       "       Timestamp('2020-02-11 00:00:00'), Timestamp('2019-07-11 00:00:00'),\n",
       "       Timestamp('2019-08-13 00:00:00'), Timestamp('2020-11-04 00:00:00'),\n",
       "       Timestamp('2018-10-15 00:00:00'), Timestamp('2018-12-24 00:00:00'),\n",
       "       Timestamp('2020-12-10 00:00:00'), Timestamp('2019-02-09 00:00:00'),\n",
       "       Timestamp('2019-08-31 00:00:00'), Timestamp('2019-12-04 00:00:00'),\n",
       "       Timestamp('2019-08-06 00:00:00'), Timestamp('2019-10-25 00:00:00'),\n",
       "       Timestamp('2019-02-25 00:00:00'), Timestamp('2018-01-29 00:00:00'),\n",
       "       Timestamp('2019-11-11 00:00:00'), Timestamp('2020-09-15 00:00:00'),\n",
       "       Timestamp('2020-03-17 00:00:00'), Timestamp('2018-11-20 00:00:00'),\n",
       "       Timestamp('2020-07-29 00:00:00'), Timestamp('2019-09-17 00:00:00'),\n",
       "       Timestamp('2018-02-12 00:00:00'), Timestamp('2019-09-16 00:00:00'),\n",
       "       Timestamp('2019-09-24 00:00:00'), Timestamp('2019-03-18 00:00:00'),\n",
       "       Timestamp('2020-11-06 00:00:00'), Timestamp('2019-12-27 00:00:00'),\n",
       "       Timestamp('2019-06-04 00:00:00'), Timestamp('2020-06-12 00:00:00'),\n",
       "       Timestamp('2020-08-21 00:00:00'), Timestamp('2020-09-11 00:00:00'),\n",
       "       Timestamp('2020-03-20 00:00:00'), Timestamp('2020-09-13 00:00:00'),\n",
       "       Timestamp('2020-07-16 00:00:00'), Timestamp('2019-08-22 00:00:00'),\n",
       "       Timestamp('2020-08-12 00:00:00'), Timestamp('2020-02-14 00:00:00'),\n",
       "       Timestamp('2018-11-10 00:00:00'), Timestamp('2020-04-17 00:00:00'),\n",
       "       Timestamp('2020-05-22 00:00:00'), Timestamp('2020-02-06 00:00:00'),\n",
       "       Timestamp('2019-06-18 00:00:00'), Timestamp('2019-11-20 00:00:00'),\n",
       "       Timestamp('2020-02-26 00:00:00'), Timestamp('2019-09-01 00:00:00'),\n",
       "       Timestamp('2020-06-15 00:00:00'), Timestamp('2020-11-01 00:00:00'),\n",
       "       Timestamp('2020-03-16 00:00:00'), Timestamp('2020-01-28 00:00:00'),\n",
       "       Timestamp('2018-07-21 00:00:00'), Timestamp('2020-01-21 00:00:00'),\n",
       "       Timestamp('2020-02-18 00:00:00'), Timestamp('2019-12-10 00:00:00'),\n",
       "       Timestamp('2019-06-06 00:00:00'), Timestamp('2020-07-03 00:00:00'),\n",
       "       Timestamp('2020-01-24 00:00:00'), Timestamp('2019-09-06 00:00:00'),\n",
       "       Timestamp('2018-08-07 00:00:00'), Timestamp('2020-09-04 00:00:00'),\n",
       "       Timestamp('2019-12-26 00:00:00'), Timestamp('2020-08-06 00:00:00'),\n",
       "       Timestamp('2020-01-13 00:00:00'), Timestamp('2020-07-30 00:00:00'),\n",
       "       Timestamp('2020-07-26 00:00:00'), Timestamp('2020-01-19 00:00:00'),\n",
       "       Timestamp('2020-04-15 00:00:00'), Timestamp('2019-09-10 00:00:00'),\n",
       "       Timestamp('2019-10-30 00:00:00'), Timestamp('2019-10-21 00:00:00'),\n",
       "       Timestamp('2020-02-21 00:00:00'), Timestamp('2020-09-06 00:00:00'),\n",
       "       Timestamp('2020-11-11 00:00:00'), Timestamp('2020-02-28 00:00:00'),\n",
       "       Timestamp('2020-01-09 00:00:00'), Timestamp('2020-05-29 00:00:00'),\n",
       "       Timestamp('2020-06-26 00:00:00'), Timestamp('2020-04-10 00:00:00'),\n",
       "       Timestamp('2020-01-30 00:00:00'), Timestamp('2018-05-01 00:00:00'),\n",
       "       Timestamp('2019-04-29 00:00:00'), Timestamp('2020-02-19 00:00:00'),\n",
       "       Timestamp('2020-07-22 00:00:00'), Timestamp('2019-11-08 00:00:00'),\n",
       "       Timestamp('2020-09-20 00:00:00'), Timestamp('2020-06-11 00:00:00'),\n",
       "       Timestamp('2020-03-18 00:00:00'), Timestamp('2020-11-29 00:00:00'),\n",
       "       Timestamp('2020-05-26 00:00:00'), Timestamp('2019-07-04 00:00:00'),\n",
       "       Timestamp('2019-09-25 00:00:00'), Timestamp('2020-03-12 00:00:00'),\n",
       "       Timestamp('2020-02-25 00:00:00'), Timestamp('2019-09-04 00:00:00'),\n",
       "       Timestamp('2020-02-23 00:00:00'), Timestamp('2020-05-04 00:00:00'),\n",
       "       Timestamp('2020-07-17 00:00:00'), Timestamp('2020-05-17 00:00:00'),\n",
       "       Timestamp('2019-07-18 00:00:00'), Timestamp('2020-06-04 00:00:00'),\n",
       "       Timestamp('2020-01-27 00:00:00'), Timestamp('2020-01-23 00:00:00'),\n",
       "       Timestamp('2020-06-18 00:00:00'), Timestamp('2020-04-23 00:00:00'),\n",
       "       Timestamp('2019-09-03 00:00:00'), Timestamp('2020-06-24 00:00:00'),\n",
       "       Timestamp('2020-01-17 00:00:00'), Timestamp('2019-11-25 00:00:00'),\n",
       "       Timestamp('2020-04-03 00:00:00'), Timestamp('2019-10-23 00:00:00'),\n",
       "       Timestamp('2018-02-05 00:00:00'), Timestamp('2020-03-31 00:00:00'),\n",
       "       Timestamp('2020-01-16 00:00:00'), Timestamp('2020-02-17 00:00:00'),\n",
       "       Timestamp('2020-04-27 00:00:00'), Timestamp('2019-10-18 00:00:00'),\n",
       "       Timestamp('2020-09-24 00:00:00'), Timestamp('2020-05-14 00:00:00'),\n",
       "       Timestamp('2018-08-14 00:00:00'), Timestamp('2019-01-28 00:00:00'),\n",
       "       Timestamp('2019-08-09 00:00:00'), Timestamp('2019-12-25 00:00:00'),\n",
       "       Timestamp('2020-04-01 00:00:00'), Timestamp('2020-01-25 00:00:00'),\n",
       "       Timestamp('2020-01-20 00:00:00'), Timestamp('2020-03-30 00:00:00'),\n",
       "       Timestamp('2020-12-03 00:00:00'), Timestamp('2020-05-28 00:00:00'),\n",
       "       Timestamp('2020-08-02 00:00:00'), Timestamp('2020-03-26 00:00:00'),\n",
       "       Timestamp('2019-12-24 00:00:00'), Timestamp('2019-11-22 00:00:00'),\n",
       "       Timestamp('2018-09-04 00:00:00'), Timestamp('2019-03-12 00:00:00'),\n",
       "       Timestamp('2020-02-27 00:00:00'), Timestamp('2020-01-12 00:00:00'),\n",
       "       Timestamp('2019-08-28 00:00:00'), Timestamp('2019-05-10 00:00:00'),\n",
       "       Timestamp('2018-08-21 00:00:00'), Timestamp('2020-02-10 00:00:00'),\n",
       "       Timestamp('2020-09-17 00:00:00'), Timestamp('2019-01-21 00:00:00'),\n",
       "       Timestamp('2018-08-06 00:00:00'), Timestamp('2018-01-23 00:00:00'),\n",
       "       Timestamp('2018-03-05 00:00:00'), Timestamp('2018-07-10 00:00:00'),\n",
       "       Timestamp('2018-10-30 00:00:00'), Timestamp('2019-11-29 00:00:00'),\n",
       "       Timestamp('2020-03-27 00:00:00'), Timestamp('2019-02-05 00:00:00'),\n",
       "       Timestamp('2019-11-03 00:00:00'), Timestamp('2020-01-10 00:00:00'),\n",
       "       Timestamp('2019-12-18 00:00:00'), Timestamp('2020-11-12 00:00:00'),\n",
       "       Timestamp('2018-02-26 00:00:00'), Timestamp('2020-10-18 00:00:00'),\n",
       "       Timestamp('2018-11-05 00:00:00'), Timestamp('2020-10-22 00:00:00'),\n",
       "       Timestamp('2020-10-28 00:00:00'), Timestamp('2020-08-23 00:00:00'),\n",
       "       Timestamp('2019-08-26 00:00:00'), Timestamp('2019-04-02 00:00:00'),\n",
       "       Timestamp('2019-05-28 00:00:00'), Timestamp('2019-11-19 00:00:00'),\n",
       "       Timestamp('2019-11-28 00:00:00'), Timestamp('2019-11-21 00:00:00'),\n",
       "       Timestamp('2020-01-05 00:00:00'), Timestamp('2018-10-23 00:00:00'),\n",
       "       Timestamp('2018-05-15 00:00:00')], dtype=object)"
      ]
     },
     "execution_count": 17,
     "metadata": {},
     "output_type": "execute_result"
    }
   ],
   "source": [
    "f0['Дата создания элемента ППМ пополнения NB01'].unique()"
   ]
  },
  {
   "cell_type": "code",
   "execution_count": 18,
   "metadata": {},
   "outputs": [
    {
     "data": {
      "text/html": [
       "<div>\n",
       "<style scoped>\n",
       "    .dataframe tbody tr th:only-of-type {\n",
       "        vertical-align: middle;\n",
       "    }\n",
       "\n",
       "    .dataframe tbody tr th {\n",
       "        vertical-align: top;\n",
       "    }\n",
       "\n",
       "    .dataframe thead th {\n",
       "        text-align: right;\n",
       "    }\n",
       "</style>\n",
       "<table border=\"1\" class=\"dataframe\">\n",
       "  <thead>\n",
       "    <tr style=\"text-align: right;\">\n",
       "      <th></th>\n",
       "      <th>Модуль</th>\n",
       "      <th>Заказ</th>\n",
       "      <th>Материал</th>\n",
       "      <th>Комплекс</th>\n",
       "      <th>Завод</th>\n",
       "      <th>Имя Завода</th>\n",
       "      <th>КрТекстМатериала</th>\n",
       "      <th>Базовая ЕИ</th>\n",
       "      <th>СтатусМтрл на заводе</th>\n",
       "      <th>Плановик</th>\n",
       "      <th>группа</th>\n",
       "      <th>Завод+НН</th>\n",
       "      <th>ПРОЧЕЕ</th>\n",
       "      <th>ТОРО</th>\n",
       "      <th>РР</th>\n",
       "      <th>ПП кол-во 1/2020</th>\n",
       "      <th>ПП кол-во 2/2020</th>\n",
       "      <th>ПП кол-во 3/2020</th>\n",
       "      <th>ПП кол-во 4/2020</th>\n",
       "      <th>ПП кол-во 5/2020</th>\n",
       "      <th>ПП кол-во 6/2020</th>\n",
       "      <th>ПП кол-во 7/2020</th>\n",
       "      <th>ПП кол-во 8/2020</th>\n",
       "      <th>ПП кол-во 9/2020</th>\n",
       "      <th>ПП кол-во 10/2020</th>\n",
       "      <th>ПП кол-во 11/2020</th>\n",
       "      <th>ПП кол-во 12/2020</th>\n",
       "      <th>ПП кол-во 13/2020</th>\n",
       "      <th>ПП кол-во 14/2020</th>\n",
       "      <th>ПП кол-во 15/2020</th>\n",
       "      <th>Текущее кол-во ПП</th>\n",
       "      <th>ПП сумма 1/2020</th>\n",
       "      <th>ПП сумма 2/2020</th>\n",
       "      <th>ПП сумма 3/2020</th>\n",
       "      <th>ПП сумма 4/2020</th>\n",
       "      <th>ПП сумма 5/2020</th>\n",
       "      <th>ПП сумма 6/2020</th>\n",
       "      <th>ПП сумма 7/2020</th>\n",
       "      <th>ПП сумма 8/2020</th>\n",
       "      <th>ПП сумма 9/2020</th>\n",
       "      <th>ПП сумма 10/2020</th>\n",
       "      <th>ПП сумма 11/2020</th>\n",
       "      <th>ПП сумма 12/2020</th>\n",
       "      <th>ПП сумма 13/2020</th>\n",
       "      <th>ПП сумма 14/2020</th>\n",
       "      <th>ПП сумма 15/2020</th>\n",
       "      <th>Текущая сумма ПП</th>\n",
       "      <th>11/2020 Остаток Кол-во</th>\n",
       "      <th>Товар в пути (ZNB5, ZNB2/3-АвизОт)</th>\n",
       "      <th>Заявка на закупку(NB)</th>\n",
       "      <th>Законтрактовано(ZNB-ПртПЗк)</th>\n",
       "      <th>Цена</th>\n",
       "      <th>Дата деблокирования (ТОРО)</th>\n",
       "      <th>Дата создания потребности</th>\n",
       "      <th>Дата поставки для элемента пополнения</th>\n",
       "      <th>Заказчик + HH</th>\n",
       "      <th>RCM</th>\n",
       "      <th>Трафик</th>\n",
       "      <th>Дата заключения RCM</th>\n",
       "      <th>Дата окончания RCM</th>\n",
       "      <th>Статус договора</th>\n",
       "      <th>Дата создания элемента ППМ пополнения NB01</th>\n",
       "    </tr>\n",
       "  </thead>\n",
       "  <tbody>\n",
       "    <tr>\n",
       "      <th>0</th>\n",
       "      <td>PP</td>\n",
       "      <td>0</td>\n",
       "      <td>010106022</td>\n",
       "      <td>РГОК</td>\n",
       "      <td>1303</td>\n",
       "      <td>Тишинский рудник РГОК</td>\n",
       "      <td>СПЕЦПРОФИЛЬ СВП-22</td>\n",
       "      <td>Т</td>\n",
       "      <td>0</td>\n",
       "      <td>Наяксова Е.А.</td>\n",
       "      <td>МЕТАЛЛОПРОКАТ</td>\n",
       "      <td>1303 #010106022</td>\n",
       "      <td>0</td>\n",
       "      <td>0</td>\n",
       "      <td>РР</td>\n",
       "      <td>0.0</td>\n",
       "      <td>0.0</td>\n",
       "      <td>0.0</td>\n",
       "      <td>0.0</td>\n",
       "      <td>0.0</td>\n",
       "      <td>0.0</td>\n",
       "      <td>0.0</td>\n",
       "      <td>0.0</td>\n",
       "      <td>0.0</td>\n",
       "      <td>0.0</td>\n",
       "      <td>0.0</td>\n",
       "      <td>0.000</td>\n",
       "      <td>5.400</td>\n",
       "      <td>5.400</td>\n",
       "      <td>5.400</td>\n",
       "      <td>16.200</td>\n",
       "      <td>0.0</td>\n",
       "      <td>0.0</td>\n",
       "      <td>0.0</td>\n",
       "      <td>0.0</td>\n",
       "      <td>0.0</td>\n",
       "      <td>0.0</td>\n",
       "      <td>0.0</td>\n",
       "      <td>0.0</td>\n",
       "      <td>0.0</td>\n",
       "      <td>0.0</td>\n",
       "      <td>0.0</td>\n",
       "      <td>0.000000e+00</td>\n",
       "      <td>2.187000e+06</td>\n",
       "      <td>2.187000e+06</td>\n",
       "      <td>2.187000e+06</td>\n",
       "      <td>6.561000e+06</td>\n",
       "      <td>9.406</td>\n",
       "      <td>0.0</td>\n",
       "      <td>51.205</td>\n",
       "      <td>0.000</td>\n",
       "      <td>405000.00</td>\n",
       "      <td>1900-01-01</td>\n",
       "      <td>2020-10-22</td>\n",
       "      <td>2020-11-04</td>\n",
       "      <td>РГОК 010106022</td>\n",
       "      <td>0</td>\n",
       "      <td>0</td>\n",
       "      <td>1900-01-01</td>\n",
       "      <td>1900-01-01 00:00:00</td>\n",
       "      <td>0</td>\n",
       "      <td>2020-10-26 00:00:00</td>\n",
       "    </tr>\n",
       "    <tr>\n",
       "      <th>1</th>\n",
       "      <td>PP</td>\n",
       "      <td>0</td>\n",
       "      <td>010401016</td>\n",
       "      <td>УКМК</td>\n",
       "      <td>1202</td>\n",
       "      <td>Свинцовый завод УКМК</td>\n",
       "      <td>СТАЛЬ КРУГЛАЯ d16 СТ3ПС</td>\n",
       "      <td>Т</td>\n",
       "      <td>0</td>\n",
       "      <td>Наяксова Е.А.</td>\n",
       "      <td>МЕТАЛЛОПРОКАТ</td>\n",
       "      <td>1202 #010401016</td>\n",
       "      <td>ПРОЧЕЕ</td>\n",
       "      <td>0</td>\n",
       "      <td>РР</td>\n",
       "      <td>0.0</td>\n",
       "      <td>0.0</td>\n",
       "      <td>0.0</td>\n",
       "      <td>0.0</td>\n",
       "      <td>0.0</td>\n",
       "      <td>0.0</td>\n",
       "      <td>0.0</td>\n",
       "      <td>0.0</td>\n",
       "      <td>0.0</td>\n",
       "      <td>0.0</td>\n",
       "      <td>0.0</td>\n",
       "      <td>2.170</td>\n",
       "      <td>3.100</td>\n",
       "      <td>3.023</td>\n",
       "      <td>3.286</td>\n",
       "      <td>11.579</td>\n",
       "      <td>0.0</td>\n",
       "      <td>0.0</td>\n",
       "      <td>0.0</td>\n",
       "      <td>0.0</td>\n",
       "      <td>0.0</td>\n",
       "      <td>0.0</td>\n",
       "      <td>0.0</td>\n",
       "      <td>0.0</td>\n",
       "      <td>0.0</td>\n",
       "      <td>0.0</td>\n",
       "      <td>0.0</td>\n",
       "      <td>5.248688e+05</td>\n",
       "      <td>7.498125e+05</td>\n",
       "      <td>7.311881e+05</td>\n",
       "      <td>7.948012e+05</td>\n",
       "      <td>2.800671e+06</td>\n",
       "      <td>2.170</td>\n",
       "      <td>0.0</td>\n",
       "      <td>34.383</td>\n",
       "      <td>3.100</td>\n",
       "      <td>241875.00</td>\n",
       "      <td>1900-01-01</td>\n",
       "      <td>2020-11-30</td>\n",
       "      <td>2020-12-07</td>\n",
       "      <td>УКМК 010401016</td>\n",
       "      <td>300000052032</td>\n",
       "      <td>KSHIDERBAYEV</td>\n",
       "      <td>2020-02-17</td>\n",
       "      <td>2020-12-31 00:00:00</td>\n",
       "      <td>Действует</td>\n",
       "      <td>2019-08-05 00:00:00</td>\n",
       "    </tr>\n",
       "    <tr>\n",
       "      <th>2</th>\n",
       "      <td>PP</td>\n",
       "      <td>0</td>\n",
       "      <td>010409005</td>\n",
       "      <td>ГОК Алтай</td>\n",
       "      <td>1312</td>\n",
       "      <td>Малеевский рудник ЗГОК</td>\n",
       "      <td>КАТАНКА d6,5 СТ3</td>\n",
       "      <td>КГ</td>\n",
       "      <td>0</td>\n",
       "      <td>Наяксова Е.А.</td>\n",
       "      <td>МЕТАЛЛОПРОКАТ</td>\n",
       "      <td>1312 #010409005</td>\n",
       "      <td>ПРОЧЕЕ</td>\n",
       "      <td>ТОРО</td>\n",
       "      <td>РР</td>\n",
       "      <td>0.0</td>\n",
       "      <td>0.0</td>\n",
       "      <td>0.0</td>\n",
       "      <td>0.0</td>\n",
       "      <td>0.0</td>\n",
       "      <td>0.0</td>\n",
       "      <td>0.0</td>\n",
       "      <td>0.0</td>\n",
       "      <td>0.0</td>\n",
       "      <td>0.0</td>\n",
       "      <td>0.0</td>\n",
       "      <td>424.293</td>\n",
       "      <td>398.618</td>\n",
       "      <td>435.275</td>\n",
       "      <td>410.617</td>\n",
       "      <td>1668.803</td>\n",
       "      <td>0.0</td>\n",
       "      <td>0.0</td>\n",
       "      <td>0.0</td>\n",
       "      <td>0.0</td>\n",
       "      <td>0.0</td>\n",
       "      <td>0.0</td>\n",
       "      <td>0.0</td>\n",
       "      <td>0.0</td>\n",
       "      <td>0.0</td>\n",
       "      <td>0.0</td>\n",
       "      <td>0.0</td>\n",
       "      <td>1.034214e+05</td>\n",
       "      <td>9.716314e+04</td>\n",
       "      <td>1.060983e+05</td>\n",
       "      <td>1.000879e+05</td>\n",
       "      <td>4.067707e+05</td>\n",
       "      <td>1668.803</td>\n",
       "      <td>0.0</td>\n",
       "      <td>0.000</td>\n",
       "      <td>0.000</td>\n",
       "      <td>243.75</td>\n",
       "      <td>1900-01-01</td>\n",
       "      <td>2020-12-01</td>\n",
       "      <td>2020-12-04</td>\n",
       "      <td>ГОК Алтай 010409005</td>\n",
       "      <td>0</td>\n",
       "      <td>0</td>\n",
       "      <td>1900-01-01</td>\n",
       "      <td>1900-01-01 00:00:00</td>\n",
       "      <td>0</td>\n",
       "      <td>0</td>\n",
       "    </tr>\n",
       "    <tr>\n",
       "      <th>3</th>\n",
       "      <td>PP</td>\n",
       "      <td>0</td>\n",
       "      <td>010409005</td>\n",
       "      <td>РГОК</td>\n",
       "      <td>1303</td>\n",
       "      <td>Тишинский рудник РГОК</td>\n",
       "      <td>КАТАНКА d6,5 СТ3</td>\n",
       "      <td>КГ</td>\n",
       "      <td>0</td>\n",
       "      <td>Наяксова Е.А.</td>\n",
       "      <td>МЕТАЛЛОПРОКАТ</td>\n",
       "      <td>1303 #010409005</td>\n",
       "      <td>0</td>\n",
       "      <td>ТОРО</td>\n",
       "      <td>РР</td>\n",
       "      <td>0.0</td>\n",
       "      <td>0.0</td>\n",
       "      <td>0.0</td>\n",
       "      <td>0.0</td>\n",
       "      <td>0.0</td>\n",
       "      <td>0.0</td>\n",
       "      <td>0.0</td>\n",
       "      <td>0.0</td>\n",
       "      <td>0.0</td>\n",
       "      <td>0.0</td>\n",
       "      <td>0.0</td>\n",
       "      <td>70.733</td>\n",
       "      <td>0.000</td>\n",
       "      <td>0.000</td>\n",
       "      <td>0.000</td>\n",
       "      <td>70.733</td>\n",
       "      <td>0.0</td>\n",
       "      <td>0.0</td>\n",
       "      <td>0.0</td>\n",
       "      <td>0.0</td>\n",
       "      <td>0.0</td>\n",
       "      <td>0.0</td>\n",
       "      <td>0.0</td>\n",
       "      <td>0.0</td>\n",
       "      <td>0.0</td>\n",
       "      <td>0.0</td>\n",
       "      <td>0.0</td>\n",
       "      <td>1.724117e+04</td>\n",
       "      <td>0.000000e+00</td>\n",
       "      <td>0.000000e+00</td>\n",
       "      <td>0.000000e+00</td>\n",
       "      <td>1.724117e+04</td>\n",
       "      <td>70.733</td>\n",
       "      <td>0.0</td>\n",
       "      <td>0.000</td>\n",
       "      <td>0.000</td>\n",
       "      <td>243.75</td>\n",
       "      <td>1900-01-01</td>\n",
       "      <td>2020-11-27</td>\n",
       "      <td>2020-12-09</td>\n",
       "      <td>РГОК 010409005</td>\n",
       "      <td>0</td>\n",
       "      <td>0</td>\n",
       "      <td>1900-01-01</td>\n",
       "      <td>1900-01-01 00:00:00</td>\n",
       "      <td>0</td>\n",
       "      <td>0</td>\n",
       "    </tr>\n",
       "    <tr>\n",
       "      <th>4</th>\n",
       "      <td>PP</td>\n",
       "      <td>0</td>\n",
       "      <td>010801011</td>\n",
       "      <td>УКМК</td>\n",
       "      <td>1203</td>\n",
       "      <td>Медный завод УКМК</td>\n",
       "      <td>ЛЕНТА СТАЛЬН 32х0,8ММ SPECTA FORTE MODEX</td>\n",
       "      <td>КГ</td>\n",
       "      <td>0</td>\n",
       "      <td>Наяксова Е.А.</td>\n",
       "      <td>МЕТАЛЛОПРОКАТ</td>\n",
       "      <td>1203 #010801011</td>\n",
       "      <td>0</td>\n",
       "      <td>0</td>\n",
       "      <td>РР</td>\n",
       "      <td>0.0</td>\n",
       "      <td>0.0</td>\n",
       "      <td>0.0</td>\n",
       "      <td>0.0</td>\n",
       "      <td>0.0</td>\n",
       "      <td>0.0</td>\n",
       "      <td>0.0</td>\n",
       "      <td>0.0</td>\n",
       "      <td>0.0</td>\n",
       "      <td>0.0</td>\n",
       "      <td>0.0</td>\n",
       "      <td>6375.891</td>\n",
       "      <td>5856.265</td>\n",
       "      <td>5408.151</td>\n",
       "      <td>2875.464</td>\n",
       "      <td>20515.771</td>\n",
       "      <td>0.0</td>\n",
       "      <td>0.0</td>\n",
       "      <td>0.0</td>\n",
       "      <td>0.0</td>\n",
       "      <td>0.0</td>\n",
       "      <td>0.0</td>\n",
       "      <td>0.0</td>\n",
       "      <td>0.0</td>\n",
       "      <td>0.0</td>\n",
       "      <td>0.0</td>\n",
       "      <td>0.0</td>\n",
       "      <td>2.677874e+06</td>\n",
       "      <td>2.459631e+06</td>\n",
       "      <td>2.271423e+06</td>\n",
       "      <td>1.207695e+06</td>\n",
       "      <td>8.616624e+06</td>\n",
       "      <td>20560.541</td>\n",
       "      <td>0.0</td>\n",
       "      <td>0.000</td>\n",
       "      <td>345.234</td>\n",
       "      <td>420.00</td>\n",
       "      <td>1900-01-01</td>\n",
       "      <td>2020-11-30</td>\n",
       "      <td>2020-12-08</td>\n",
       "      <td>УКМК 010801011</td>\n",
       "      <td>300000043450</td>\n",
       "      <td>KSHIDERBAYEV</td>\n",
       "      <td>2019-10-21</td>\n",
       "      <td>2021-03-31 00:00:00</td>\n",
       "      <td>Действует</td>\n",
       "      <td>0</td>\n",
       "    </tr>\n",
       "    <tr>\n",
       "      <th>...</th>\n",
       "      <td>...</td>\n",
       "      <td>...</td>\n",
       "      <td>...</td>\n",
       "      <td>...</td>\n",
       "      <td>...</td>\n",
       "      <td>...</td>\n",
       "      <td>...</td>\n",
       "      <td>...</td>\n",
       "      <td>...</td>\n",
       "      <td>...</td>\n",
       "      <td>...</td>\n",
       "      <td>...</td>\n",
       "      <td>...</td>\n",
       "      <td>...</td>\n",
       "      <td>...</td>\n",
       "      <td>...</td>\n",
       "      <td>...</td>\n",
       "      <td>...</td>\n",
       "      <td>...</td>\n",
       "      <td>...</td>\n",
       "      <td>...</td>\n",
       "      <td>...</td>\n",
       "      <td>...</td>\n",
       "      <td>...</td>\n",
       "      <td>...</td>\n",
       "      <td>...</td>\n",
       "      <td>...</td>\n",
       "      <td>...</td>\n",
       "      <td>...</td>\n",
       "      <td>...</td>\n",
       "      <td>...</td>\n",
       "      <td>...</td>\n",
       "      <td>...</td>\n",
       "      <td>...</td>\n",
       "      <td>...</td>\n",
       "      <td>...</td>\n",
       "      <td>...</td>\n",
       "      <td>...</td>\n",
       "      <td>...</td>\n",
       "      <td>...</td>\n",
       "      <td>...</td>\n",
       "      <td>...</td>\n",
       "      <td>...</td>\n",
       "      <td>...</td>\n",
       "      <td>...</td>\n",
       "      <td>...</td>\n",
       "      <td>...</td>\n",
       "      <td>...</td>\n",
       "      <td>...</td>\n",
       "      <td>...</td>\n",
       "      <td>...</td>\n",
       "      <td>...</td>\n",
       "      <td>...</td>\n",
       "      <td>...</td>\n",
       "      <td>...</td>\n",
       "      <td>...</td>\n",
       "      <td>...</td>\n",
       "      <td>...</td>\n",
       "      <td>...</td>\n",
       "      <td>...</td>\n",
       "      <td>...</td>\n",
       "      <td>...</td>\n",
       "    </tr>\n",
       "    <tr>\n",
       "      <th>152439</th>\n",
       "      <td>ТОРО</td>\n",
       "      <td>101600001568</td>\n",
       "      <td>895002153</td>\n",
       "      <td>КАЗЦИНК-ТРАНС</td>\n",
       "      <td>1404</td>\n",
       "      <td>Казцинк-Транс Риддер</td>\n",
       "      <td>ЭЛЕМЕНТ ФИЛЬТРУЮЩИЙ 2655742471 / P173238</td>\n",
       "      <td>ШТ</td>\n",
       "      <td>0</td>\n",
       "      <td>Дворниченко Е.Н.</td>\n",
       "      <td>ЗАП.ЧАСТИ К ИМПОРТНОМУ САМОХОД НОМУ ОБОРУДОВАНИЮ</td>\n",
       "      <td>1404 #895002153</td>\n",
       "      <td>0</td>\n",
       "      <td>ТОРО</td>\n",
       "      <td>0</td>\n",
       "      <td>0.0</td>\n",
       "      <td>0.0</td>\n",
       "      <td>0.0</td>\n",
       "      <td>0.0</td>\n",
       "      <td>0.0</td>\n",
       "      <td>0.0</td>\n",
       "      <td>0.0</td>\n",
       "      <td>0.0</td>\n",
       "      <td>0.0</td>\n",
       "      <td>0.0</td>\n",
       "      <td>0.0</td>\n",
       "      <td>2.000</td>\n",
       "      <td>0.000</td>\n",
       "      <td>0.000</td>\n",
       "      <td>0.000</td>\n",
       "      <td>2.000</td>\n",
       "      <td>0.0</td>\n",
       "      <td>0.0</td>\n",
       "      <td>0.0</td>\n",
       "      <td>0.0</td>\n",
       "      <td>0.0</td>\n",
       "      <td>0.0</td>\n",
       "      <td>0.0</td>\n",
       "      <td>0.0</td>\n",
       "      <td>0.0</td>\n",
       "      <td>0.0</td>\n",
       "      <td>0.0</td>\n",
       "      <td>1.347000e+04</td>\n",
       "      <td>0.000000e+00</td>\n",
       "      <td>0.000000e+00</td>\n",
       "      <td>0.000000e+00</td>\n",
       "      <td>1.347000e+04</td>\n",
       "      <td>2.000</td>\n",
       "      <td>0.0</td>\n",
       "      <td>0.000</td>\n",
       "      <td>0.000</td>\n",
       "      <td>6735.00</td>\n",
       "      <td>1900-01-01</td>\n",
       "      <td>2020-06-12</td>\n",
       "      <td>2021-01-22</td>\n",
       "      <td>КАЗЦИНК-ТРАНС 895002153</td>\n",
       "      <td>0</td>\n",
       "      <td>0</td>\n",
       "      <td>1900-01-01</td>\n",
       "      <td>1900-01-01 00:00:00</td>\n",
       "      <td>0</td>\n",
       "      <td>0</td>\n",
       "    </tr>\n",
       "    <tr>\n",
       "      <th>152440</th>\n",
       "      <td>ТОРО</td>\n",
       "      <td>101600001568</td>\n",
       "      <td>899001069</td>\n",
       "      <td>КАЗЦИНК-ТРАНС</td>\n",
       "      <td>1404</td>\n",
       "      <td>Казцинк-Транс Риддер</td>\n",
       "      <td>ФИЛЬТР ОЧИСТКИ ТОПЛИВА 4676385 / P502423</td>\n",
       "      <td>ШТ</td>\n",
       "      <td>0</td>\n",
       "      <td>Дворниченко Е.Н.</td>\n",
       "      <td>ЗАП.ЧАСТИ К ИМПОРТНОМУ САМОХОД НОМУ ОБОРУДОВАНИЮ</td>\n",
       "      <td>1404 #899001069</td>\n",
       "      <td>0</td>\n",
       "      <td>ТОРО</td>\n",
       "      <td>0</td>\n",
       "      <td>0.0</td>\n",
       "      <td>0.0</td>\n",
       "      <td>0.0</td>\n",
       "      <td>0.0</td>\n",
       "      <td>0.0</td>\n",
       "      <td>0.0</td>\n",
       "      <td>0.0</td>\n",
       "      <td>0.0</td>\n",
       "      <td>0.0</td>\n",
       "      <td>0.0</td>\n",
       "      <td>0.0</td>\n",
       "      <td>2.000</td>\n",
       "      <td>0.000</td>\n",
       "      <td>0.000</td>\n",
       "      <td>0.000</td>\n",
       "      <td>2.000</td>\n",
       "      <td>0.0</td>\n",
       "      <td>0.0</td>\n",
       "      <td>0.0</td>\n",
       "      <td>0.0</td>\n",
       "      <td>0.0</td>\n",
       "      <td>0.0</td>\n",
       "      <td>0.0</td>\n",
       "      <td>0.0</td>\n",
       "      <td>0.0</td>\n",
       "      <td>0.0</td>\n",
       "      <td>0.0</td>\n",
       "      <td>8.430000e+03</td>\n",
       "      <td>0.000000e+00</td>\n",
       "      <td>0.000000e+00</td>\n",
       "      <td>0.000000e+00</td>\n",
       "      <td>8.430000e+03</td>\n",
       "      <td>2.000</td>\n",
       "      <td>0.0</td>\n",
       "      <td>0.000</td>\n",
       "      <td>0.000</td>\n",
       "      <td>4215.00</td>\n",
       "      <td>1900-01-01</td>\n",
       "      <td>2019-06-18</td>\n",
       "      <td>2020-12-21</td>\n",
       "      <td>КАЗЦИНК-ТРАНС 899001069</td>\n",
       "      <td>0</td>\n",
       "      <td>0</td>\n",
       "      <td>1900-01-01</td>\n",
       "      <td>1900-01-01 00:00:00</td>\n",
       "      <td>0</td>\n",
       "      <td>0</td>\n",
       "    </tr>\n",
       "    <tr>\n",
       "      <th>152441</th>\n",
       "      <td>ТОРО</td>\n",
       "      <td>101600001569</td>\n",
       "      <td>030101504</td>\n",
       "      <td>КАЗЦИНК-ТРАНС</td>\n",
       "      <td>1404</td>\n",
       "      <td>Казцинк-Транс Риддер</td>\n",
       "      <td>ЭЛЕКТРОД СВАРОЧНЫЙ ЦЛ-11-4,0</td>\n",
       "      <td>КГ</td>\n",
       "      <td>0</td>\n",
       "      <td>Харлап И.А.</td>\n",
       "      <td>МЕТИЗЫ, ФЕРРОСПЛАВЫ (МЕТАЛЛОИЗДЕЛИЯ)</td>\n",
       "      <td>1404 #030101504</td>\n",
       "      <td>ПРОЧЕЕ</td>\n",
       "      <td>ТОРО</td>\n",
       "      <td>0</td>\n",
       "      <td>0.0</td>\n",
       "      <td>0.0</td>\n",
       "      <td>0.0</td>\n",
       "      <td>0.0</td>\n",
       "      <td>0.0</td>\n",
       "      <td>0.0</td>\n",
       "      <td>0.0</td>\n",
       "      <td>0.0</td>\n",
       "      <td>0.0</td>\n",
       "      <td>0.0</td>\n",
       "      <td>0.0</td>\n",
       "      <td>10.000</td>\n",
       "      <td>0.000</td>\n",
       "      <td>0.000</td>\n",
       "      <td>0.000</td>\n",
       "      <td>10.000</td>\n",
       "      <td>0.0</td>\n",
       "      <td>0.0</td>\n",
       "      <td>0.0</td>\n",
       "      <td>0.0</td>\n",
       "      <td>0.0</td>\n",
       "      <td>0.0</td>\n",
       "      <td>0.0</td>\n",
       "      <td>0.0</td>\n",
       "      <td>0.0</td>\n",
       "      <td>0.0</td>\n",
       "      <td>0.0</td>\n",
       "      <td>1.875000e+04</td>\n",
       "      <td>0.000000e+00</td>\n",
       "      <td>0.000000e+00</td>\n",
       "      <td>0.000000e+00</td>\n",
       "      <td>1.875000e+04</td>\n",
       "      <td>6.000</td>\n",
       "      <td>0.0</td>\n",
       "      <td>0.000</td>\n",
       "      <td>4.000</td>\n",
       "      <td>1875.00</td>\n",
       "      <td>1900-01-01</td>\n",
       "      <td>2019-09-19</td>\n",
       "      <td>2020-12-10</td>\n",
       "      <td>КАЗЦИНК-ТРАНС 030101504</td>\n",
       "      <td>300000044550</td>\n",
       "      <td>AFEDOROVA</td>\n",
       "      <td>2019-01-24</td>\n",
       "      <td>2020-12-31 00:00:00</td>\n",
       "      <td>Действует</td>\n",
       "      <td>0</td>\n",
       "    </tr>\n",
       "    <tr>\n",
       "      <th>152442</th>\n",
       "      <td>ТОРО</td>\n",
       "      <td>101600001569</td>\n",
       "      <td>030501201</td>\n",
       "      <td>КАЗЦИНК-ТРАНС</td>\n",
       "      <td>1404</td>\n",
       "      <td>Казцинк-Транс Риддер</td>\n",
       "      <td>ГАЙКА М30 S46 H26 СТ35 СКО-916.02</td>\n",
       "      <td>ШТ</td>\n",
       "      <td>0</td>\n",
       "      <td>КАЗЦИНКМАШ</td>\n",
       "      <td>МЕТИЗЫ, ФЕРРОСПЛАВЫ (МЕТАЛЛОИЗДЕЛИЯ)</td>\n",
       "      <td>1404 #030501201</td>\n",
       "      <td>0</td>\n",
       "      <td>ТОРО</td>\n",
       "      <td>0</td>\n",
       "      <td>0.0</td>\n",
       "      <td>0.0</td>\n",
       "      <td>0.0</td>\n",
       "      <td>0.0</td>\n",
       "      <td>0.0</td>\n",
       "      <td>0.0</td>\n",
       "      <td>0.0</td>\n",
       "      <td>0.0</td>\n",
       "      <td>0.0</td>\n",
       "      <td>0.0</td>\n",
       "      <td>0.0</td>\n",
       "      <td>34.000</td>\n",
       "      <td>0.000</td>\n",
       "      <td>0.000</td>\n",
       "      <td>0.000</td>\n",
       "      <td>34.000</td>\n",
       "      <td>0.0</td>\n",
       "      <td>0.0</td>\n",
       "      <td>0.0</td>\n",
       "      <td>0.0</td>\n",
       "      <td>0.0</td>\n",
       "      <td>0.0</td>\n",
       "      <td>0.0</td>\n",
       "      <td>0.0</td>\n",
       "      <td>0.0</td>\n",
       "      <td>0.0</td>\n",
       "      <td>0.0</td>\n",
       "      <td>3.276750e+04</td>\n",
       "      <td>0.000000e+00</td>\n",
       "      <td>0.000000e+00</td>\n",
       "      <td>0.000000e+00</td>\n",
       "      <td>3.276750e+04</td>\n",
       "      <td>34.000</td>\n",
       "      <td>0.0</td>\n",
       "      <td>0.000</td>\n",
       "      <td>0.000</td>\n",
       "      <td>963.75</td>\n",
       "      <td>1900-01-01</td>\n",
       "      <td>2020-06-15</td>\n",
       "      <td>2021-06-10</td>\n",
       "      <td>КАЗЦИНК-ТРАНС 030501201</td>\n",
       "      <td>0</td>\n",
       "      <td>0</td>\n",
       "      <td>1900-01-01</td>\n",
       "      <td>1900-01-01 00:00:00</td>\n",
       "      <td>0</td>\n",
       "      <td>0</td>\n",
       "    </tr>\n",
       "    <tr>\n",
       "      <th>152443</th>\n",
       "      <td>ТОРО</td>\n",
       "      <td>101600001569</td>\n",
       "      <td>442101323</td>\n",
       "      <td>КАЗЦИНК-ТРАНС</td>\n",
       "      <td>1404</td>\n",
       "      <td>Казцинк-Транс Риддер</td>\n",
       "      <td>НОЖ ЛЕВЫЙ АТ-3477-01</td>\n",
       "      <td>ШТ</td>\n",
       "      <td>0</td>\n",
       "      <td>КАЗЦИНКМАШ</td>\n",
       "      <td>АВТОМОТОТРАКТ-АЯ ТЕХНИКА И З/Ч</td>\n",
       "      <td>1404 #442101323</td>\n",
       "      <td>0</td>\n",
       "      <td>ТОРО</td>\n",
       "      <td>0</td>\n",
       "      <td>0.0</td>\n",
       "      <td>0.0</td>\n",
       "      <td>0.0</td>\n",
       "      <td>0.0</td>\n",
       "      <td>0.0</td>\n",
       "      <td>0.0</td>\n",
       "      <td>0.0</td>\n",
       "      <td>0.0</td>\n",
       "      <td>0.0</td>\n",
       "      <td>0.0</td>\n",
       "      <td>0.0</td>\n",
       "      <td>5.000</td>\n",
       "      <td>0.000</td>\n",
       "      <td>0.000</td>\n",
       "      <td>0.000</td>\n",
       "      <td>5.000</td>\n",
       "      <td>0.0</td>\n",
       "      <td>0.0</td>\n",
       "      <td>0.0</td>\n",
       "      <td>0.0</td>\n",
       "      <td>0.0</td>\n",
       "      <td>0.0</td>\n",
       "      <td>0.0</td>\n",
       "      <td>0.0</td>\n",
       "      <td>0.0</td>\n",
       "      <td>0.0</td>\n",
       "      <td>0.0</td>\n",
       "      <td>1.897875e+05</td>\n",
       "      <td>0.000000e+00</td>\n",
       "      <td>0.000000e+00</td>\n",
       "      <td>0.000000e+00</td>\n",
       "      <td>1.897875e+05</td>\n",
       "      <td>5.000</td>\n",
       "      <td>0.0</td>\n",
       "      <td>0.000</td>\n",
       "      <td>0.000</td>\n",
       "      <td>37957.50</td>\n",
       "      <td>1900-01-01</td>\n",
       "      <td>2020-12-07</td>\n",
       "      <td>2020-12-10</td>\n",
       "      <td>КАЗЦИНК-ТРАНС 442101323</td>\n",
       "      <td>0</td>\n",
       "      <td>0</td>\n",
       "      <td>1900-01-01</td>\n",
       "      <td>1900-01-01 00:00:00</td>\n",
       "      <td>0</td>\n",
       "      <td>0</td>\n",
       "    </tr>\n",
       "  </tbody>\n",
       "</table>\n",
       "<p>152444 rows × 62 columns</p>\n",
       "</div>"
      ],
      "text/plain": [
       "       Модуль         Заказ   Материал       Комплекс Завод  \\\n",
       "0          PP             0  010106022           РГОК  1303   \n",
       "1          PP             0  010401016           УКМК  1202   \n",
       "2          PP             0  010409005      ГОК Алтай  1312   \n",
       "3          PP             0  010409005           РГОК  1303   \n",
       "4          PP             0  010801011           УКМК  1203   \n",
       "...       ...           ...        ...            ...   ...   \n",
       "152439   ТОРО  101600001568  895002153  КАЗЦИНК-ТРАНС  1404   \n",
       "152440   ТОРО  101600001568  899001069  КАЗЦИНК-ТРАНС  1404   \n",
       "152441   ТОРО  101600001569  030101504  КАЗЦИНК-ТРАНС  1404   \n",
       "152442   ТОРО  101600001569  030501201  КАЗЦИНК-ТРАНС  1404   \n",
       "152443   ТОРО  101600001569  442101323  КАЗЦИНК-ТРАНС  1404   \n",
       "\n",
       "                    Имя Завода                          КрТекстМатериала  \\\n",
       "0        Тишинский рудник РГОК                        СПЕЦПРОФИЛЬ СВП-22   \n",
       "1         Свинцовый завод УКМК                   СТАЛЬ КРУГЛАЯ d16 СТ3ПС   \n",
       "2       Малеевский рудник ЗГОК                          КАТАНКА d6,5 СТ3   \n",
       "3        Тишинский рудник РГОК                          КАТАНКА d6,5 СТ3   \n",
       "4            Медный завод УКМК  ЛЕНТА СТАЛЬН 32х0,8ММ SPECTA FORTE MODEX   \n",
       "...                        ...                                       ...   \n",
       "152439    Казцинк-Транс Риддер  ЭЛЕМЕНТ ФИЛЬТРУЮЩИЙ 2655742471 / P173238   \n",
       "152440    Казцинк-Транс Риддер  ФИЛЬТР ОЧИСТКИ ТОПЛИВА 4676385 / P502423   \n",
       "152441    Казцинк-Транс Риддер              ЭЛЕКТРОД СВАРОЧНЫЙ ЦЛ-11-4,0   \n",
       "152442    Казцинк-Транс Риддер         ГАЙКА М30 S46 H26 СТ35 СКО-916.02   \n",
       "152443    Казцинк-Транс Риддер                      НОЖ ЛЕВЫЙ АТ-3477-01   \n",
       "\n",
       "       Базовая ЕИ  СтатусМтрл на заводе          Плановик  \\\n",
       "0               Т                     0     Наяксова Е.А.   \n",
       "1               Т                     0     Наяксова Е.А.   \n",
       "2              КГ                     0     Наяксова Е.А.   \n",
       "3              КГ                     0     Наяксова Е.А.   \n",
       "4              КГ                     0     Наяксова Е.А.   \n",
       "...           ...                   ...               ...   \n",
       "152439         ШТ                     0  Дворниченко Е.Н.   \n",
       "152440         ШТ                     0  Дворниченко Е.Н.   \n",
       "152441         КГ                     0       Харлап И.А.   \n",
       "152442         ШТ                     0        КАЗЦИНКМАШ   \n",
       "152443         ШТ                     0        КАЗЦИНКМАШ   \n",
       "\n",
       "                                                  группа         Завод+НН  \\\n",
       "0                                          МЕТАЛЛОПРОКАТ  1303 #010106022   \n",
       "1                                          МЕТАЛЛОПРОКАТ  1202 #010401016   \n",
       "2                                          МЕТАЛЛОПРОКАТ  1312 #010409005   \n",
       "3                                          МЕТАЛЛОПРОКАТ  1303 #010409005   \n",
       "4                                          МЕТАЛЛОПРОКАТ  1203 #010801011   \n",
       "...                                                  ...              ...   \n",
       "152439  ЗАП.ЧАСТИ К ИМПОРТНОМУ САМОХОД НОМУ ОБОРУДОВАНИЮ  1404 #895002153   \n",
       "152440  ЗАП.ЧАСТИ К ИМПОРТНОМУ САМОХОД НОМУ ОБОРУДОВАНИЮ  1404 #899001069   \n",
       "152441              МЕТИЗЫ, ФЕРРОСПЛАВЫ (МЕТАЛЛОИЗДЕЛИЯ)  1404 #030101504   \n",
       "152442              МЕТИЗЫ, ФЕРРОСПЛАВЫ (МЕТАЛЛОИЗДЕЛИЯ)  1404 #030501201   \n",
       "152443                    АВТОМОТОТРАКТ-АЯ ТЕХНИКА И З/Ч  1404 #442101323   \n",
       "\n",
       "        ПРОЧЕЕ  ТОРО  РР  ПП кол-во 1/2020  ПП кол-во 2/2020  \\\n",
       "0            0     0  РР               0.0               0.0   \n",
       "1       ПРОЧЕЕ     0  РР               0.0               0.0   \n",
       "2       ПРОЧЕЕ  ТОРО  РР               0.0               0.0   \n",
       "3            0  ТОРО  РР               0.0               0.0   \n",
       "4            0     0  РР               0.0               0.0   \n",
       "...        ...   ...  ..               ...               ...   \n",
       "152439       0  ТОРО   0               0.0               0.0   \n",
       "152440       0  ТОРО   0               0.0               0.0   \n",
       "152441  ПРОЧЕЕ  ТОРО   0               0.0               0.0   \n",
       "152442       0  ТОРО   0               0.0               0.0   \n",
       "152443       0  ТОРО   0               0.0               0.0   \n",
       "\n",
       "        ПП кол-во 3/2020  ПП кол-во 4/2020  ПП кол-во 5/2020  \\\n",
       "0                    0.0               0.0               0.0   \n",
       "1                    0.0               0.0               0.0   \n",
       "2                    0.0               0.0               0.0   \n",
       "3                    0.0               0.0               0.0   \n",
       "4                    0.0               0.0               0.0   \n",
       "...                  ...               ...               ...   \n",
       "152439               0.0               0.0               0.0   \n",
       "152440               0.0               0.0               0.0   \n",
       "152441               0.0               0.0               0.0   \n",
       "152442               0.0               0.0               0.0   \n",
       "152443               0.0               0.0               0.0   \n",
       "\n",
       "        ПП кол-во 6/2020  ПП кол-во 7/2020  ПП кол-во 8/2020  \\\n",
       "0                    0.0               0.0               0.0   \n",
       "1                    0.0               0.0               0.0   \n",
       "2                    0.0               0.0               0.0   \n",
       "3                    0.0               0.0               0.0   \n",
       "4                    0.0               0.0               0.0   \n",
       "...                  ...               ...               ...   \n",
       "152439               0.0               0.0               0.0   \n",
       "152440               0.0               0.0               0.0   \n",
       "152441               0.0               0.0               0.0   \n",
       "152442               0.0               0.0               0.0   \n",
       "152443               0.0               0.0               0.0   \n",
       "\n",
       "        ПП кол-во 9/2020  ПП кол-во 10/2020  ПП кол-во 11/2020  \\\n",
       "0                    0.0                0.0                0.0   \n",
       "1                    0.0                0.0                0.0   \n",
       "2                    0.0                0.0                0.0   \n",
       "3                    0.0                0.0                0.0   \n",
       "4                    0.0                0.0                0.0   \n",
       "...                  ...                ...                ...   \n",
       "152439               0.0                0.0                0.0   \n",
       "152440               0.0                0.0                0.0   \n",
       "152441               0.0                0.0                0.0   \n",
       "152442               0.0                0.0                0.0   \n",
       "152443               0.0                0.0                0.0   \n",
       "\n",
       "        ПП кол-во 12/2020  ПП кол-во 13/2020  ПП кол-во 14/2020  \\\n",
       "0                   0.000              5.400              5.400   \n",
       "1                   2.170              3.100              3.023   \n",
       "2                 424.293            398.618            435.275   \n",
       "3                  70.733              0.000              0.000   \n",
       "4                6375.891           5856.265           5408.151   \n",
       "...                   ...                ...                ...   \n",
       "152439              2.000              0.000              0.000   \n",
       "152440              2.000              0.000              0.000   \n",
       "152441             10.000              0.000              0.000   \n",
       "152442             34.000              0.000              0.000   \n",
       "152443              5.000              0.000              0.000   \n",
       "\n",
       "        ПП кол-во 15/2020  Текущее кол-во ПП  ПП сумма 1/2020  \\\n",
       "0                   5.400             16.200              0.0   \n",
       "1                   3.286             11.579              0.0   \n",
       "2                 410.617           1668.803              0.0   \n",
       "3                   0.000             70.733              0.0   \n",
       "4                2875.464          20515.771              0.0   \n",
       "...                   ...                ...              ...   \n",
       "152439              0.000              2.000              0.0   \n",
       "152440              0.000              2.000              0.0   \n",
       "152441              0.000             10.000              0.0   \n",
       "152442              0.000             34.000              0.0   \n",
       "152443              0.000              5.000              0.0   \n",
       "\n",
       "        ПП сумма 2/2020  ПП сумма 3/2020  ПП сумма 4/2020  ПП сумма 5/2020  \\\n",
       "0                   0.0              0.0              0.0              0.0   \n",
       "1                   0.0              0.0              0.0              0.0   \n",
       "2                   0.0              0.0              0.0              0.0   \n",
       "3                   0.0              0.0              0.0              0.0   \n",
       "4                   0.0              0.0              0.0              0.0   \n",
       "...                 ...              ...              ...              ...   \n",
       "152439              0.0              0.0              0.0              0.0   \n",
       "152440              0.0              0.0              0.0              0.0   \n",
       "152441              0.0              0.0              0.0              0.0   \n",
       "152442              0.0              0.0              0.0              0.0   \n",
       "152443              0.0              0.0              0.0              0.0   \n",
       "\n",
       "        ПП сумма 6/2020  ПП сумма 7/2020  ПП сумма 8/2020  ПП сумма 9/2020  \\\n",
       "0                   0.0              0.0              0.0              0.0   \n",
       "1                   0.0              0.0              0.0              0.0   \n",
       "2                   0.0              0.0              0.0              0.0   \n",
       "3                   0.0              0.0              0.0              0.0   \n",
       "4                   0.0              0.0              0.0              0.0   \n",
       "...                 ...              ...              ...              ...   \n",
       "152439              0.0              0.0              0.0              0.0   \n",
       "152440              0.0              0.0              0.0              0.0   \n",
       "152441              0.0              0.0              0.0              0.0   \n",
       "152442              0.0              0.0              0.0              0.0   \n",
       "152443              0.0              0.0              0.0              0.0   \n",
       "\n",
       "        ПП сумма 10/2020  ПП сумма 11/2020  ПП сумма 12/2020  \\\n",
       "0                    0.0               0.0      0.000000e+00   \n",
       "1                    0.0               0.0      5.248688e+05   \n",
       "2                    0.0               0.0      1.034214e+05   \n",
       "3                    0.0               0.0      1.724117e+04   \n",
       "4                    0.0               0.0      2.677874e+06   \n",
       "...                  ...               ...               ...   \n",
       "152439               0.0               0.0      1.347000e+04   \n",
       "152440               0.0               0.0      8.430000e+03   \n",
       "152441               0.0               0.0      1.875000e+04   \n",
       "152442               0.0               0.0      3.276750e+04   \n",
       "152443               0.0               0.0      1.897875e+05   \n",
       "\n",
       "        ПП сумма 13/2020  ПП сумма 14/2020  ПП сумма 15/2020  \\\n",
       "0           2.187000e+06      2.187000e+06      2.187000e+06   \n",
       "1           7.498125e+05      7.311881e+05      7.948012e+05   \n",
       "2           9.716314e+04      1.060983e+05      1.000879e+05   \n",
       "3           0.000000e+00      0.000000e+00      0.000000e+00   \n",
       "4           2.459631e+06      2.271423e+06      1.207695e+06   \n",
       "...                  ...               ...               ...   \n",
       "152439      0.000000e+00      0.000000e+00      0.000000e+00   \n",
       "152440      0.000000e+00      0.000000e+00      0.000000e+00   \n",
       "152441      0.000000e+00      0.000000e+00      0.000000e+00   \n",
       "152442      0.000000e+00      0.000000e+00      0.000000e+00   \n",
       "152443      0.000000e+00      0.000000e+00      0.000000e+00   \n",
       "\n",
       "        Текущая сумма ПП  11/2020 Остаток Кол-во  \\\n",
       "0           6.561000e+06                   9.406   \n",
       "1           2.800671e+06                   2.170   \n",
       "2           4.067707e+05                1668.803   \n",
       "3           1.724117e+04                  70.733   \n",
       "4           8.616624e+06               20560.541   \n",
       "...                  ...                     ...   \n",
       "152439      1.347000e+04                   2.000   \n",
       "152440      8.430000e+03                   2.000   \n",
       "152441      1.875000e+04                   6.000   \n",
       "152442      3.276750e+04                  34.000   \n",
       "152443      1.897875e+05                   5.000   \n",
       "\n",
       "        Товар в пути (ZNB5, ZNB2/3-АвизОт)  Заявка на закупку(NB)  \\\n",
       "0                                      0.0                 51.205   \n",
       "1                                      0.0                 34.383   \n",
       "2                                      0.0                  0.000   \n",
       "3                                      0.0                  0.000   \n",
       "4                                      0.0                  0.000   \n",
       "...                                    ...                    ...   \n",
       "152439                                 0.0                  0.000   \n",
       "152440                                 0.0                  0.000   \n",
       "152441                                 0.0                  0.000   \n",
       "152442                                 0.0                  0.000   \n",
       "152443                                 0.0                  0.000   \n",
       "\n",
       "        Законтрактовано(ZNB-ПртПЗк)       Цена Дата деблокирования (ТОРО)  \\\n",
       "0                             0.000  405000.00                 1900-01-01   \n",
       "1                             3.100  241875.00                 1900-01-01   \n",
       "2                             0.000     243.75                 1900-01-01   \n",
       "3                             0.000     243.75                 1900-01-01   \n",
       "4                           345.234     420.00                 1900-01-01   \n",
       "...                             ...        ...                        ...   \n",
       "152439                        0.000    6735.00                 1900-01-01   \n",
       "152440                        0.000    4215.00                 1900-01-01   \n",
       "152441                        4.000    1875.00                 1900-01-01   \n",
       "152442                        0.000     963.75                 1900-01-01   \n",
       "152443                        0.000   37957.50                 1900-01-01   \n",
       "\n",
       "       Дата создания потребности Дата поставки для элемента пополнения  \\\n",
       "0                     2020-10-22                            2020-11-04   \n",
       "1                     2020-11-30                            2020-12-07   \n",
       "2                     2020-12-01                            2020-12-04   \n",
       "3                     2020-11-27                            2020-12-09   \n",
       "4                     2020-11-30                            2020-12-08   \n",
       "...                          ...                                   ...   \n",
       "152439                2020-06-12                            2021-01-22   \n",
       "152440                2019-06-18                            2020-12-21   \n",
       "152441                2019-09-19                            2020-12-10   \n",
       "152442                2020-06-15                            2021-06-10   \n",
       "152443                2020-12-07                            2020-12-10   \n",
       "\n",
       "                  Заказчик + HH           RCM        Трафик  \\\n",
       "0                РГОК 010106022             0             0   \n",
       "1                УКМК 010401016  300000052032  KSHIDERBAYEV   \n",
       "2           ГОК Алтай 010409005             0             0   \n",
       "3                РГОК 010409005             0             0   \n",
       "4                УКМК 010801011  300000043450  KSHIDERBAYEV   \n",
       "...                         ...           ...           ...   \n",
       "152439  КАЗЦИНК-ТРАНС 895002153             0             0   \n",
       "152440  КАЗЦИНК-ТРАНС 899001069             0             0   \n",
       "152441  КАЗЦИНК-ТРАНС 030101504  300000044550     AFEDOROVA   \n",
       "152442  КАЗЦИНК-ТРАНС 030501201             0             0   \n",
       "152443  КАЗЦИНК-ТРАНС 442101323             0             0   \n",
       "\n",
       "       Дата заключения RCM   Дата окончания RCM Статус договора  \\\n",
       "0               1900-01-01  1900-01-01 00:00:00               0   \n",
       "1               2020-02-17  2020-12-31 00:00:00       Действует   \n",
       "2               1900-01-01  1900-01-01 00:00:00               0   \n",
       "3               1900-01-01  1900-01-01 00:00:00               0   \n",
       "4               2019-10-21  2021-03-31 00:00:00       Действует   \n",
       "...                    ...                  ...             ...   \n",
       "152439          1900-01-01  1900-01-01 00:00:00               0   \n",
       "152440          1900-01-01  1900-01-01 00:00:00               0   \n",
       "152441          2019-01-24  2020-12-31 00:00:00       Действует   \n",
       "152442          1900-01-01  1900-01-01 00:00:00               0   \n",
       "152443          1900-01-01  1900-01-01 00:00:00               0   \n",
       "\n",
       "       Дата создания элемента ППМ пополнения NB01  \n",
       "0                             2020-10-26 00:00:00  \n",
       "1                             2019-08-05 00:00:00  \n",
       "2                                               0  \n",
       "3                                               0  \n",
       "4                                               0  \n",
       "...                                           ...  \n",
       "152439                                          0  \n",
       "152440                                          0  \n",
       "152441                                          0  \n",
       "152442                                          0  \n",
       "152443                                          0  \n",
       "\n",
       "[152444 rows x 62 columns]"
      ]
     },
     "execution_count": 18,
     "metadata": {},
     "output_type": "execute_result"
    }
   ],
   "source": [
    "f0"
   ]
  },
  {
   "cell_type": "code",
   "execution_count": 19,
   "metadata": {
    "scrolled": true
   },
   "outputs": [
    {
     "name": "stdout",
     "output_type": "stream",
     "text": [
      "--- 391.5409405231476 seconds ---\n"
     ]
    }
   ],
   "source": [
    "\n",
    "# f0['ПП 3 месяца']  = f0.loc[:,sp_k].sum(axis=1)\n",
    "# f0['ПП 3 месяца,Сумма']  = f0.loc[:,sp_summ].sum(axis=1)\n",
    "\n",
    "\n",
    "# f0['Обеспечено 3 месяца, кол-во'] = f0.apply(lambda x:func_obesp_3month(x,year,month,sp_k),axis = 1 )\n",
    "# f0['Обеспечено 3 месяца, сумма'] = f0['Обеспечено 3 месяца, кол-во']*f0['Цена']\n",
    "\n",
    "\n",
    "\n",
    "# f0['Обеспеченность три месяца, кол-во, %'] = f0.apply(lambda x:func_obesp_3month_procentil(x,year,month,),axis = 1 )\n",
    "\n",
    "# f0['Обеспеченность ' + str(month+1)+'/'+str(year)+ ' , кол-во, %'] = f0.apply(lambda x:func_obesp_first_month_procentil(x,year,month,sp_kv),axis = 1 )\n",
    "\n",
    "# f0['Обеспеченность ' + str(month+2)+'/'+str(year)+ ' , кол-во, %'] = f0.apply(lambda x:func_obesp_second_month_procentil(x,year,month,sp_kv),axis = 1 )\n",
    "\n",
    "# f0['Обеспеченность ' + str(month+3)+'/'+str(year)+ ' , кол-во, %'] = f0.apply(lambda x:func_obesp_third_month_procentil(x,year,month,sp_kv),axis = 1 )\n",
    "\n",
    "# f0['Не обеспечено запасом ' + str(month+1)+'/'+str(year)+ ' , кол-во'] = f0.apply(lambda x:func_ne_obesp_first_month_(x,year,month,sp_kv),axis = 1 )\n",
    "\n",
    "# f0['Не обеспечено запасом ' + str(month+2)+'/'+str(year)+ ' , кол-во'] = f0.apply(lambda x:func_ne_obesp_second_month_(x,year,month,sp_kv),axis = 1 )\n",
    "\n",
    "# f0['Не обеспечено запасом ' + str(month+3)+'/'+str(year)+ ' , кол-во'] = f0.apply(lambda x:func_ne_obesp_third_month_(x,year,month,sp_kv),axis = 1 )\n",
    "\n",
    "# f0['Не обеспечено, кол-во'] = f0.loc[:,[x for x in f0.columns if x.find('Не обеспечено запасом')!=-1]].sum(axis=1)  \n",
    "\n",
    "# f0['Не обеспечено, сумма'] = f0['Не обеспечено, кол-во']* f0['Цена']\n",
    "\n",
    "# f0['ZNB(АвизОт)'] = f0.apply(lambda x:func_ZNB_AVIZOT_(x,year,month),axis = 1 )\n",
    "\n",
    "# f0['Есть контракт'] = f0.apply(lambda x:func_EST_CONTRACT_(x,year,month),axis = 1 )\n",
    "\n",
    "# f0['Нет контракта'] = f0.apply(lambda x:func_NO_CONTRACT_(x,year,month),axis = 1 )\n",
    "\n",
    "# arr_dec1 = [x for x in f0.columns if f0[x].dtype=='float64']\n",
    "\n",
    "# for col in arr_dec1:\n",
    "#     f0[col] = f0[col].apply(lambda x: round( Decimal(x),3))\n",
    "\n",
    "sp_k=['ПП кол-во 11/2020', 'ПП кол-во 12/2020', 'ПП кол-во 13/2020']\n",
    "sp_summ=['ПП сумма 11/2020', 'ПП сумма 12/2020', 'ПП сумма 13/2020']\n",
    "\n",
    "f0 = exlsx_f(f0,year,month,ppm_date,nach_goda,sp_k,sp_kv,sp_summ,sp_kv_primech,sp_kv_sum_primech,sy,sp_current_kvartal)\n",
    "\n"
   ]
  },
  {
   "cell_type": "code",
   "execution_count": null,
   "metadata": {
    "scrolled": true
   },
   "outputs": [],
   "source": [
    "sp_k"
   ]
  },
  {
   "cell_type": "code",
   "execution_count": null,
   "metadata": {},
   "outputs": [],
   "source": [
    "f0[f0['Примечание 1']=='Обеспечено']"
   ]
  },
  {
   "cell_type": "code",
   "execution_count": null,
   "metadata": {},
   "outputs": [],
   "source": [
    "# f0.name = 'obesp_no_f_01_t'\n",
    "# save_backup('backup_obesp_t.h5',[f0])"
   ]
  },
  {
   "cell_type": "code",
   "execution_count": 20,
   "metadata": {},
   "outputs": [
    {
     "name": "stderr",
     "output_type": "stream",
     "text": [
      "C:\\Users\\NKedrun\\Desktop\\Portable Python 3.6.5 x64\\App\\Python\\lib\\site-packages\\ipykernel_launcher.py:2: PerformanceWarning: \n",
      "your performance may suffer as PyTables will pickle object types that it cannot\n",
      "map directly to c-types [inferred_type->mixed-integer,key->block2_values] [items->Index(['Модуль', 'Заказ', 'Материал', 'Комплекс', 'Завод', 'Имя Завода',\n",
      "       'КрТекстМатериала', 'Базовая ЕИ', 'Плановик', 'группа', 'Завод+НН',\n",
      "       'ПРОЧЕЕ', 'ТОРО', 'РР', 'ПП кол-во 1/2020', 'ПП кол-во 2/2020',\n",
      "       'ПП кол-во 3/2020', 'ПП кол-во 4/2020', 'ПП кол-во 5/2020',\n",
      "       'ПП кол-во 6/2020', 'ПП кол-во 7/2020', 'ПП кол-во 8/2020',\n",
      "       'ПП кол-во 9/2020', 'ПП кол-во 10/2020', 'ПП кол-во 11/2020',\n",
      "       'ПП кол-во 12/2020', 'ПП кол-во 13/2020', 'ПП кол-во 14/2020',\n",
      "       'ПП кол-во 15/2020', 'Текущее кол-во ПП', 'ПП сумма 1/2020',\n",
      "       'ПП сумма 2/2020', 'ПП сумма 3/2020', 'ПП сумма 4/2020',\n",
      "       'ПП сумма 5/2020', 'ПП сумма 6/2020', 'ПП сумма 7/2020',\n",
      "       'ПП сумма 8/2020', 'ПП сумма 9/2020', 'ПП сумма 10/2020',\n",
      "       'ПП сумма 11/2020', 'ПП сумма 12/2020', 'ПП сумма 13/2020',\n",
      "       'ПП сумма 14/2020', 'ПП сумма 15/2020', 'Текущая сумма ПП',\n",
      "       '11/2020 Остаток Кол-во', 'Товар в пути (ZNB5, ZNB2/3-АвизОт)',\n",
      "       'Заявка на закупку(NB)', 'Законтрактовано(ZNB-ПртПЗк)', 'Цена',\n",
      "       'Заказчик + HH', 'RCM', 'Трафик', 'Дата окончания RCM',\n",
      "       'Статус договора', 'Дата создания элемента ППМ пополнения NB01',\n",
      "       'ПП 3 месяца', 'ПП 3 месяца,Сумма', 'Обеспечено 3 месяца, кол-во',\n",
      "       'Обеспечено 3 месяца, сумма', 'Обеспеченность три месяца, кол-во, %',\n",
      "       'Обеспеченность 12/2020 , кол-во, %',\n",
      "       'Обеспеченность 13/2020 , кол-во, %',\n",
      "       'Обеспеченность 14/2020 , кол-во, %',\n",
      "       'Не обеспечено запасом 12/2020 , кол-во',\n",
      "       'Не обеспечено запасом 13/2020 , кол-во',\n",
      "       'Не обеспечено запасом 14/2020 , кол-во', 'Не обеспечено, кол-во',\n",
      "       'Не обеспечено, сумма', 'ZNB(АвизОт)', 'Есть контракт', 'Нет контракта',\n",
      "       'Излишек поставки', 'Товар в пути, сумма', 'Есть контракт, сумма',\n",
      "       'Нет контракта, сумма', 'Примечание 1', 'Примечание 3',\n",
      "       'Собственное производство', 'Излишек поставки, сумма',\n",
      "       'Заявка не принята в работу', 'Заявка не принята в работу, сумма',\n",
      "       'Примечание 2', 'Периодичность', 'Период потребности',\n",
      "       'Ввод потребности', 'Ответственность',\n",
      "       'Описание отклонения по ответственности', 'Комментарий по модулю',\n",
      "       'Собственное производство, сумма',\n",
      "       'Потребность прошедшего периода, кол-во',\n",
      "       'Потребность прошедшего периода, сумма',\n",
      "       'Комментарий по ПП прошедшего периода', 'Мероприятия'],\n",
      "      dtype='object')]\n",
      "\n",
      "  \n"
     ]
    }
   ],
   "source": [
    "f0.name = 'obesp_no_f_122020v2'\n",
    "save_backup('backup_obesp.h5',[f0])"
   ]
  },
  {
   "cell_type": "code",
   "execution_count": null,
   "metadata": {},
   "outputs": [],
   "source": [
    "f0 = get_in_backup(path_backup='backup_obesp.h5',name='obesp_no_f_032020v2')"
   ]
  },
  {
   "cell_type": "code",
   "execution_count": 21,
   "metadata": {},
   "outputs": [],
   "source": [
    "for ind, i in enumerate(np.array_split(f0,2)) :\n",
    "    save_pyex(df=i,path='C:\\\\Users\\\\NKedrun\\\\Desktop\\\\kazzinc\\\\Uploads1\\\\'+folder+'\\\\extr_xlsx\\\\obesp12_20_'+str(ind)+'.xlsx')"
   ]
  },
  {
   "cell_type": "code",
   "execution_count": 22,
   "metadata": {},
   "outputs": [],
   "source": [
    "# формироваание итоговой таблицы\n",
    "arr_potr = f0.loc[:,'ПП кол-во '+str(1)+'/'+ str(year):'ПП кол-во '+str(12)+'/'+ str(year)]\n",
    "cols = arr_potr.columns\n",
    "arr_potr.columns = ['Потребность '+ months[int(x.split('/')[0][-2:])] for x in cols]\n",
    "f0.rename(columns={'Текущее кол-во ПП':'Потребность Итого','ПП 3 месяца':'Потребность 3 месяца, кол-во','ПП 3 месяца,Сумма':'Потребность 3 месяца, сумма',str(month)+'/'+str(year)+' Остаток Кол-во':'Остаток','Товар в пути (ZNB5, ZNB2/3-АвизОт)':'Товар в пути','Примечание 1':'Обеспеченность остатком','Примечание 2':'Период обеспеченности остатком','Примечание 3':'Обеспеченность документами пополнения'},inplace = True)\n",
    "\n",
    "\n",
    "arr_potr1 = f0.loc[:,'Обеспеченность ' + str(month+1)+'/'+str(year)+ ' , кол-во, %':'Обеспеченность ' + str(month+3)+'/'+str(year)+ ' , кол-во, %']\n",
    "cols1 = arr_potr1.columns\n",
    "arr_potr1.columns = ['Обеспеченность '+ months[int(x.split('/')[0][-2:])]+' ,кол-во, %' for x in cols1]\n",
    "\n",
    "arr_potr2 = f0.loc[:,'Не обеспечено запасом ' + str(month+1)+'/'+str(year)+ ' , кол-во':'Не обеспечено запасом ' + str(month+3)+'/'+str(year)+ ' , кол-во']\n",
    "cols2 = arr_potr2.columns\n",
    "arr_potr2.columns = ['Не обеспечено запасом '+ months[int(x.split('/')[0][-2:])]+' ,кол-во' for x in cols2]\n",
    "\n",
    "\n",
    "final = pd.concat([f0['Завод'],f0['Имя Завода'],f0['Комплекс'],f0['Модуль'],f0['группа'],\n",
    "                  f0['Материал'],f0['КрТекстМатериала'],f0['Базовая ЕИ'],f0['Заказ'],f0['Плановик'],f0['Трафик'],f0['Цена'],arr_potr,f0['Потребность Итого'],f0['Потребность 3 месяца, кол-во'],f0['Потребность 3 месяца, сумма'],f0['Остаток'],f0['Обеспечено 3 месяца, кол-во'],f0['Обеспечено 3 месяца, сумма'],f0['Обеспеченность три месяца, кол-во, %'],arr_potr1,arr_potr2,f0['Не обеспечено, кол-во'],f0['Не обеспечено, сумма'],f0['ZNB(АвизОт)'],f0['Есть контракт'],f0['Нет контракта'],f0['Заявка не принята в работу'],f0['Собственное производство'],f0['Излишек поставки'],f0['Товар в пути, сумма'],f0['Есть контракт, сумма'],f0['Нет контракта, сумма'],f0['Заявка не принята в работу, сумма'],f0['Собственное производство, сумма'],f0['Излишек поставки, сумма'],f0['Обеспеченность остатком'],f0['Период обеспеченности остатком'],f0['Обеспеченность документами пополнения'],f0['Расчетная дата потребности'],f0['Период потребности'],f0['Ввод потребности'],f0['Ответственность'],f0['Описание отклонения по ответственности'],f0['Комментарий по модулю'],f0['Мероприятия']],axis = 1)\n",
    "\n",
    "# final = pd.concat([f0['Завод'],f0['Имя Завода'],f0['Комплекс'],f0['Модуль'],f0['группа'],\n",
    "#                   f0['Материал'],f0['КрТекстМатериала'],f0['Базовая ЕИ'],f0['Заказ'],f0['Плановик'],f0['Трафик'],f0['Цена'],arr_potr,f0['Потребность Итого'],f0['Потребность 3 месяца, кол-во'],f0['Потребность 3 месяца, сумма'],f0['Остаток'],f0['Обеспечено 3 месяца, кол-во'],f0['Обеспечено 3 месяца, сумма'],f0['Обеспеченность три месяца, кол-во, %'],arr_potr1,arr_potr2,f0['Не обеспечено, кол-во'],f0['Не обеспечено, сумма'],f0['ZNB(АвизОт)'],f0['Есть контракт'],f0['Нет контракта'],f0['Заявка не принята в работу'],f0['Собственное производство'],f0['Излишек поставки'],f0['Товар в пути, сумма'],f0['Есть контракт, сумма'],f0['Нет контракта, сумма'],f0['Заявка не принята в работу, сумма'],f0['Собственное производство, сумма'],f0['Излишек поставки, сумма'],f0['Обеспеченность остатком'],f0['Период обеспеченности остатком'],f0['Обеспеченность документами пополнения'],f0['Расчетная дата потребности'],f0['Период потребности'],f0['Ввод потребности'],f0['Ответственность'],f0['Описание отклонения по ответственности'],f0['Комментарий по модулю'],f0['Комментарий по ПП прошедшего периода'],f0['Мероприятия'],f0['Потребность прошедшего периода, сумма']],axis = 1)"
   ]
  },
  {
   "cell_type": "code",
   "execution_count": 23,
   "metadata": {},
   "outputs": [
    {
     "name": "stderr",
     "output_type": "stream",
     "text": [
      "C:\\Users\\NKedrun\\Desktop\\Portable Python 3.6.5 x64\\App\\Python\\lib\\site-packages\\ipykernel_launcher.py:2: PerformanceWarning: \n",
      "your performance may suffer as PyTables will pickle object types that it cannot\n",
      "map directly to c-types [inferred_type->mixed-integer,key->block1_values] [items->Index(['Завод', 'Имя Завода', 'Комплекс', 'Модуль', 'группа', 'Материал',\n",
      "       'КрТекстМатериала', 'Базовая ЕИ', 'Заказ', 'Плановик', 'Трафик', 'Цена',\n",
      "       'Потребность Январь', 'Потребность Февраль', 'Потребность Март',\n",
      "       'Потребность Апрель', 'Потребность Май', 'Потребность Июнь',\n",
      "       'Потребность Июль', 'Потребность Август', 'Потребность Сентябрь',\n",
      "       'Потребность Октябрь', 'Потребность Ноябрь', 'Потребность Декабрь',\n",
      "       'Потребность Итого', 'Потребность 3 месяца, кол-во',\n",
      "       'Потребность 3 месяца, сумма', 'Остаток', 'Обеспечено 3 месяца, кол-во',\n",
      "       'Обеспечено 3 месяца, сумма', 'Обеспеченность три месяца, кол-во, %',\n",
      "       'Обеспеченность Декабрь ,кол-во, %',\n",
      "       'Обеспеченность Январь_с ,кол-во, %',\n",
      "       'Обеспеченность Февраль_с ,кол-во, %',\n",
      "       'Не обеспечено запасом Декабрь ,кол-во',\n",
      "       'Не обеспечено запасом Январь_с ,кол-во',\n",
      "       'Не обеспечено запасом Февраль_с ,кол-во', 'Не обеспечено, кол-во',\n",
      "       'Не обеспечено, сумма', 'ZNB(АвизОт)', 'Есть контракт', 'Нет контракта',\n",
      "       'Заявка не принята в работу', 'Собственное производство',\n",
      "       'Излишек поставки', 'Товар в пути, сумма', 'Есть контракт, сумма',\n",
      "       'Нет контракта, сумма', 'Заявка не принята в работу, сумма',\n",
      "       'Собственное производство, сумма', 'Излишек поставки, сумма',\n",
      "       'Обеспеченность остатком', 'Период обеспеченности остатком',\n",
      "       'Обеспеченность документами пополнения', 'Период потребности',\n",
      "       'Ввод потребности', 'Ответственность',\n",
      "       'Описание отклонения по ответственности', 'Комментарий по модулю',\n",
      "       'Мероприятия'],\n",
      "      dtype='object')]\n",
      "\n",
      "  \n"
     ]
    }
   ],
   "source": [
    "final.name = 'final_obesp_1220_v2'\n",
    "save_backup('backup_obesp.h5',[final])"
   ]
  },
  {
   "cell_type": "code",
   "execution_count": null,
   "metadata": {},
   "outputs": [],
   "source": [
    "final = get_in_backup(path_backup='backup_obesp.h5',name='final_obesp_0320_v2')"
   ]
  },
  {
   "cell_type": "code",
   "execution_count": 24,
   "metadata": {},
   "outputs": [],
   "source": [
    "for ind, i in enumerate(np.array_split(final,2)) :\n",
    "    save_pyex(df=i,path='C:\\\\Users\\\\NKedrun\\\\Desktop\\\\kazzinc\\\\Uploads1\\\\'+folder+'\\\\extr_xlsx\\\\obesp_final12_20_v2'+str(ind)+'.xlsx')"
   ]
  },
  {
   "cell_type": "code",
   "execution_count": null,
   "metadata": {},
   "outputs": [],
   "source": [
    "import openpyxl\n",
    "from openpyxl.reader.excel import load_workbook\n",
    "from openpyxl.utils.dataframe import dataframe_to_rows\n",
    "from openpyxl.styles import Font, Fill,PatternFill,Border,Side\n",
    "from openpyxl.styles.colors import RGB\n",
    "wb = load_workbook('C:\\\\Users\\\\Илья\\\\Desktop\\\\kazzinc\\\\Uploads1\\\\Образец_обеспеченность.xlsx',)"
   ]
  },
  {
   "cell_type": "code",
   "execution_count": null,
   "metadata": {
    "scrolled": true
   },
   "outputs": [],
   "source": [
    "final['Потребность 3 месяца, сумма'].sum()"
   ]
  },
  {
   "cell_type": "code",
   "execution_count": null,
   "metadata": {},
   "outputs": [],
   "source": []
  },
  {
   "cell_type": "code",
   "execution_count": null,
   "metadata": {},
   "outputs": [],
   "source": []
  },
  {
   "cell_type": "code",
   "execution_count": null,
   "metadata": {},
   "outputs": [],
   "source": [
    "f0"
   ]
  },
  {
   "cell_type": "code",
   "execution_count": null,
   "metadata": {},
   "outputs": [],
   "source": []
  },
  {
   "cell_type": "code",
   "execution_count": null,
   "metadata": {},
   "outputs": [],
   "source": [
    "\n",
    "sheet = wb.get_sheet_by_name('ITOG')\n",
    "rows = dataframe_to_rows(final[final['Комплекс']=='КДС'], header=True)\n",
    "rows = [x[1] for x in enumerate(rows) if x[0]!=1 ]\n",
    "\n",
    "\n",
    "border = Border(left=Side(color='a2a2d0',style='thin'),\n",
    "                 right=Side(color='a2a2d0',style='thin'),\n",
    "                top=Side(color='a2a2d0',style='thin'),\n",
    "                bottom=Side(color='a2a2d0',style='thin')\n",
    ")\n",
    "no_fill = openpyxl.styles.PatternFill(fill_type=None)\n",
    "side = openpyxl.styles.Side(border_style=None)\n",
    "no_border = openpyxl.styles.borders.Border(\n",
    "    left=side, \n",
    "    right=side, \n",
    "    top=side, \n",
    "    bottom=side,\n",
    ")\n",
    "# rd = sheet.row_dimensions[1].height = 100\n",
    "\n",
    "# sheet.row_dimensions[1].chush = 50\n",
    "for r_idx, row in enumerate(rows, 1):\n",
    "    if r_idx>0:\n",
    "        for c_idx, value in enumerate(row, 1):\n",
    "            a = sheet.cell(row=r_idx, column=c_idx, value=value)\n",
    "            a.fill = no_fill\n",
    "            a.border = no_border\n",
    "            if r_idx==1 and c_idx<=13:\n",
    "                a.fill = PatternFill(start_color='dae0ef', end_color='dae0ef', fill_type='solid')\n",
    "            if r_idx==1 and c_idx>=14 and  c_idx<=28: \n",
    "                a.fill = PatternFill(start_color='b5c0df', end_color='b5c0df', fill_type='solid')\n",
    "            if r_idx==1 and c_idx>=29 and  c_idx<=53:   \n",
    "                a.fill = PatternFill(start_color='bcd9de', end_color='bcd9de', fill_type='solid')\n",
    "            if r_idx==1 and c_idx>=54 and  c_idx<=67:     \n",
    "                a.fill = PatternFill(start_color='c4bbc6', end_color='c4bbc6', fill_type='solid')\n",
    "            if   r_idx% 2!=0 and r_idx>1 :\n",
    "                a.fill = PatternFill(start_color='dce0e8', end_color='dce0e8', fill_type='solid')\n",
    "            a.border =   border  \n",
    "# wb.save('C:\\\\Users\\\\Илья\\\\Desktop\\\\kazzinc\\\\Uploads1\\\\Образец_обеспеченность.xlsx')          \n",
    "\n",
    "\n",
    "\n",
    "import win32com.client\n",
    "office = win32com.client.Dispatch(\"Excel.Application\")\n",
    "wb = office.Workbooks.Open(r\"C:\\\\Users\\\\Илья\\\\Desktop\\\\kazzinc\\\\Образец_обеспеченность.xlsx\")\n",
    "count = wb.Sheets.Count\n",
    "for i in range(count):\n",
    "    ws = wb.Worksheets[i]\n",
    "    ws.Unprotect() # IF protected\n",
    "\n",
    "    pivotCount = ws.PivotTables().Count\n",
    "    for j in range(1, pivotCount+1):\n",
    "        ws.PivotTables(j).SourceData = 'ITOG!R1C2:R'+str(len(rows))+'C63'\n",
    "        ws.PivotTables(j).PivotCache().Refresh()\n",
    "wb.Close(True)     "
   ]
  },
  {
   "cell_type": "code",
   "execution_count": null,
   "metadata": {},
   "outputs": [],
   "source": [
    "import win32com.client\n",
    "office = win32com.client.Dispatch(\"Excel.Application\")\n",
    "wb = office.Workbooks.Open(r\"C:\\\\Users\\\\Илья\\\\Desktop\\\\kazzinc\\\\Образец_обеспеченность.xlsx\")\n",
    "sheet = wb.sheets('ITOG')\n",
    "color = rgbToInt((220,224,232))\n",
    "sheet.Range(\"A2:BL\"+str(final.values.shape[0]+1)).Clear\n",
    "sheet.Range(\"A2:BL\"+str(final.values.shape[0]+1)).Borders.Color = rgbToInt((162,162,208))\n",
    "for indR in range(2,final.values.shape[0]+2):\n",
    "    for indC in range(2,final.values.shape[1]+2):\n",
    "        \n",
    "        if type(final.iloc[indR-2,indC-2]) is str:\n",
    "            sheet.cells(indR,indC).NumberFormat = \"@\"\n",
    "            sheet.cells(indR,indC).value = str(final.iloc[indR-2,indC-2])\n",
    "        \n",
    "        elif type(final.iloc[indR-2,indC-2]) is pd._libs.tslibs.timestamps.Timestamp:  \n",
    "            sheet.cells(indR,indC).value = str(months[final.iloc[indR-2,indC-2].month])\n",
    "        else:\n",
    "            sheet.cells(indR,indC).NumberFormat = 0\n",
    "            sheet.cells(indR,indC).value = int(final.iloc[indR-2,indC-2])\n",
    "        sheet.cells(indR,1).value =indR-2 \n",
    "        \n",
    "\n",
    "        if   indR% 2!=0 and indR>1 :\n",
    "            sheet.cells(indR,indC).Interior.Color  =color\n",
    "        \n",
    "count = wb.Sheets.Count\n",
    "for i in range(count):\n",
    "    ws = wb.Worksheets[i]\n",
    "    ws.Unprotect() # IF protected\n",
    "\n",
    "    pivotCount = ws.PivotTables().Count\n",
    "    for j in range(1, pivotCount+1):\n",
    "        ws.PivotTables(j).SourceData = 'ITOG!R1C2:R'+str(final.values.shape[0]+1)+'C63'\n",
    "        ws.PivotTables(j).PivotCache().Refresh()            \n",
    "wb.Close(True)           "
   ]
  },
  {
   "cell_type": "code",
   "execution_count": null,
   "metadata": {},
   "outputs": [],
   "source": [
    "def rgbToInt(rgb):\n",
    "    colorInt = rgb[0] + (rgb[1] * 256) + (rgb[2] * 256 * 256)\n",
    "    return colorInt"
   ]
  },
  {
   "cell_type": "code",
   "execution_count": null,
   "metadata": {},
   "outputs": [],
   "source": [
    "import win32com.client\n",
    "win32c = win32com.client.constants\n",
    "# office = win32com.client.Dispatch(\"Excel.Application\")\n",
    "office = win32com.client.gencache.EnsureDispatch(\"Excel.Application\")\n",
    "wb = office.Workbooks.Open(r\"C:\\\\Users\\\\Илья\\\\Desktop\\\\kazzinc\\\\Образец_обеспеченность.xlsx\")"
   ]
  },
  {
   "cell_type": "code",
   "execution_count": null,
   "metadata": {},
   "outputs": [],
   "source": [
    "for ws in wb.Worksheets:\n",
    "    for pvt in ws.PivotTables():\n",
    "        if pvt.Name=='Сводная таблица2':\n",
    "            ws.PivotTables(pvt.Name).AddDataField(ws.PivotTables(pvt.Name).PivotFields(\"Обеспеченность Сентябрь ,кол-во, %\"),'Обеспеченность Сентябрь ,кол-во, %',win32c.xlAverage)\n",
    "        ws.PivotTables(pvt.Name).PivotCache().Refresh()  \n",
    "wb.Close(True,\"C:\\\\Users\\\\Илья\\\\Desktop\\\\kazzinc\\\\Образец_обеспеченность1.xlsx\")           "
   ]
  },
  {
   "cell_type": "code",
   "execution_count": null,
   "metadata": {},
   "outputs": [],
   "source": [
    "get_in_backup(path_backup='backup_fine.h5',name='ost_nach_perioda')"
   ]
  },
  {
   "cell_type": "code",
   "execution_count": null,
   "metadata": {},
   "outputs": [],
   "source": [
    "f0['Дата создания потребности'] = [datetime.datetime(int(x.split('.')[2]),int(x.split('.')[1]),int(x.split('.')[0])) for x in f0['Дата создания потребности'].values]"
   ]
  },
  {
   "cell_type": "code",
   "execution_count": null,
   "metadata": {},
   "outputs": [],
   "source": [
    "f0['Дата создания потребности'] = f0['Дата создания потребности'].astype('str')"
   ]
  },
  {
   "cell_type": "code",
   "execution_count": null,
   "metadata": {},
   "outputs": [],
   "source": [
    "f0['Дата создания потребности'] = [datetime.datetime(int(x.split('.')[2]),int(x.split('.')[1]),int(x.split('.')[0])) for x in f0['Дата создания потребности'].values if x!='0']"
   ]
  },
  {
   "cell_type": "code",
   "execution_count": null,
   "metadata": {},
   "outputs": [],
   "source": [
    "f0."
   ]
  },
  {
   "cell_type": "code",
   "execution_count": null,
   "metadata": {},
   "outputs": [],
   "source": [
    "f0['Дата создания потребности'] = f0['Дата создания потребности'].apply(lambda x: '01.01.1900' if x =='00.00.0000' else  x)"
   ]
  },
  {
   "cell_type": "code",
   "execution_count": null,
   "metadata": {},
   "outputs": [],
   "source": [
    "f0['Дата создания потребности'] = f0['Дата создания потребности'].astype('str')"
   ]
  },
  {
   "cell_type": "code",
   "execution_count": null,
   "metadata": {},
   "outputs": [],
   "source": [
    "f0['Дата создания потребности'] = f0['Дата создания потребности'].apply(lambda x: '01.01.1900' if x =='00.00.0000'  else  x)\n",
    "f0['Дата создания потребности'] = f0['Дата создания потребности'].apply(lambda x: '01.01.1900' if x ==0  else  x)"
   ]
  },
  {
   "cell_type": "code",
   "execution_count": null,
   "metadata": {},
   "outputs": [],
   "source": [
    "f0.loc[:,[x for x in f0.columns if x.find('ПП кол-во')!=-1]].sum(axis = 1)"
   ]
  },
  {
   "cell_type": "code",
   "execution_count": null,
   "metadata": {},
   "outputs": [],
   "source": [
    "f0[(f0['Категория ТМЦ']=='Текущая потребность')&(f0.loc[:,[x for x in f0.columns if x.find('ПП кол-во')!=-1]].sum(axis = 1)>0)]"
   ]
  },
  {
   "cell_type": "code",
   "execution_count": null,
   "metadata": {},
   "outputs": [],
   "source": [
    "f0.shape"
   ]
  },
  {
   "cell_type": "code",
   "execution_count": null,
   "metadata": {},
   "outputs": [],
   "source": [
    "for ind in f0.index:\n",
    "        if f0.at[ind,'Примечание 1'] == 'Не обеспечено'  and f0.at[ind,'ПП кол-во '+str(current_date.month+1)+'/'+ str(current_date.year)]>0 and func_1(f0,ind,100)>(datetime.datetime(current_date.year,current_date.month+1,1)+datetime.timedelta(days=calendar.monthrange(current_date.year,current_date.month+1)[1])):\n",
    "            f0.at[ind,'Ввод потребности'] = 'ПП введена без учета сроков контрактования'\n",
    "        elif f0.at[ind,'Примечание 1'] == 'Не обеспечено'  and f0.at[ind,'ПП кол-во '+str(current_date.month+2)+'/'+ str(current_date.year)]>0 and func_1(f0,ind,100)>(datetime.datetime(current_date.year,current_date.month+2,1)+datetime.timedelta(days=calendar.monthrange(current_date.year,current_date.month+2)[1])):\n",
    "            f0.at[ind,'Ввод потребности'] = 'ПП введена без учета сроков контрактования'\n",
    "        elif f0.at[ind,'Примечание 1'] == 'Не обеспечено'  and f0.at[ind,'ПП кол-во '+str(current_date.month+3)+'/'+ str(current_date.year)]>0 and func_1(f0,ind,100)>(datetime.datetime(current_date.year,current_date.month+3,1)+datetime.timedelta(days=calendar.monthrange(current_date.year,current_date.month+3)[1])):\n",
    "            f0.at[ind,'Ввод потребности'] = 'ПП введена без учета сроков контрактования'\n",
    "        else:\n",
    "            f0.at[ind,'Ввод потребности'] = 'ПП введена с учетом сроков контрактования'"
   ]
  },
  {
   "cell_type": "code",
   "execution_count": null,
   "metadata": {},
   "outputs": [],
   "source": [
    "f0[(f0['Материал']=='031100010')&(f0['Завод+НН']=='1304 #031100010')]"
   ]
  },
  {
   "cell_type": "code",
   "execution_count": null,
   "metadata": {},
   "outputs": [],
   "source": [
    "f0[(f0['Материал']=='031100010')&(f0['Завод+НН']=='1304 #031100010')]"
   ]
  },
  {
   "cell_type": "code",
   "execution_count": null,
   "metadata": {},
   "outputs": [],
   "source": [
    "f0[f0['Материал']=='071004073']"
   ]
  },
  {
   "cell_type": "code",
   "execution_count": null,
   "metadata": {},
   "outputs": [],
   "source": [
    "f0['Базовая ЕИ'].value_counts()"
   ]
  },
  {
   "cell_type": "code",
   "execution_count": null,
   "metadata": {},
   "outputs": [],
   "source": [
    "ZNB[ZNB['Материал']=='895302083']"
   ]
  },
  {
   "cell_type": "code",
   "execution_count": null,
   "metadata": {},
   "outputs": [],
   "source": [
    "f0[f0['Материал']=='895302083']"
   ]
  },
  {
   "cell_type": "code",
   "execution_count": null,
   "metadata": {},
   "outputs": [],
   "source": [
    "spr_kompl_mat_komp_znb_full = rev_to_dict(ZNB['Комплекс+Маттериал'],ZNB ['Карточка RCM'])\n",
    "spr_mat_znb = rev_to_dict(ZNB['Материал'],ZNB ['Карточка RCM'])\n",
    "\n",
    "for ind in f0.index:\n",
    "    if (f0.at[ind,'Товар в пути (ZNB5, ZNB2/3-АвизОт)']   + f0.at[ind,'Законтрактовано(ZNB-ПртПЗк)'])>0:\n",
    "        if insert_vpr(f0.at[ind,'Заказчик + HH'],spr_kompl_mat_komp_znb_full,'Карточка RCM')==0 and f0.at[ind,'Комплекс'] in  filter_else['one'].values:\n",
    "            f0.at[ind,'RCM']  = insert_vpr(f0.at[ind,'Материал'],spr_mat_znb,'Карточка RCM')\n",
    "        else:\n",
    "            f0.at[ind,'RCM'] = insert_vpr(f0.at[ind,'Заказчик + HH'],spr_kompl_mat_komp_znb_full,'Карточка RCM')"
   ]
  },
  {
   "cell_type": "code",
   "execution_count": null,
   "metadata": {},
   "outputs": [],
   "source": [
    "spr_kompl_mat_komp_znb_full = rev_to_dict(ZNB['Комплекс+Маттериал'],ZNB ['Карточка RCM'])\n",
    "spr_mat_znb = rev_to_dict(ZNB['Материал'],ZNB ['Карточка RCM'])"
   ]
  },
  {
   "cell_type": "code",
   "execution_count": null,
   "metadata": {},
   "outputs": [],
   "source": [
    "spr_kompl_mat_komp_znb_full['ЖГОК 895302083']"
   ]
  },
  {
   "cell_type": "code",
   "execution_count": null,
   "metadata": {},
   "outputs": [],
   "source": [
    "ZNB[ZNB['Комплекс+Маттериал']=='ЖГОК 895302083']"
   ]
  },
  {
   "cell_type": "code",
   "execution_count": null,
   "metadata": {},
   "outputs": [],
   "source": [
    "ZNB[ZNB['Материал']=='895302083']"
   ]
  },
  {
   "cell_type": "code",
   "execution_count": null,
   "metadata": {},
   "outputs": [],
   "source": [
    "spr_nb1 = rev_to_dict(spr_nb['Завод + Склад'].str.strip(),spr_nb['Комплекс'])"
   ]
  },
  {
   "cell_type": "code",
   "execution_count": null,
   "metadata": {},
   "outputs": [],
   "source": [
    "spr_nb1"
   ]
  },
  {
   "cell_type": "code",
   "execution_count": null,
   "metadata": {},
   "outputs": [],
   "source": [
    "f0[f0['Материал']=='895302083']"
   ]
  },
  {
   "cell_type": "code",
   "execution_count": null,
   "metadata": {},
   "outputs": [],
   "source": []
  },
  {
   "cell_type": "code",
   "execution_count": null,
   "metadata": {},
   "outputs": [],
   "source": [
    "f0"
   ]
  },
  {
   "cell_type": "code",
   "execution_count": null,
   "metadata": {},
   "outputs": [],
   "source": [
    "f0.reset_index(drop=True,inplace=True)\n",
    "f0 = f0[(f0['Категория ТМЦ']=='Текущая потребность')&(f0.loc[:,[x for x in f0.columns if x.find('ПП кол-во')!=-1]].sum(axis = 1)>0)]\n",
    "f0['СтатусМтрл на заводе'] = f0['СтатусМтрл на заводе'].apply(lambda x: str(x).replace('.0','')).astype('int').astype('str')\n",
    "f0 = f0.drop(['Категория ТМЦ','БЕ','Имя Завода + Материал + Заказ','Завод + Склад','Завод + Область ППМ','Код округа + Материал','Склад потребности','Область ППМ','Центральный завод','Код округа','Признак аналога','Класс оценки','подгруппа','подподгруппа','Недропользование','ПлановСрокПоставки','SS (норма запаса на складе)','SS сумма','Остаток на начало года Кол-во','Остаток на начало года Сумма'],axis = 1).drop(list(f0.loc[:,str(1)+'/'+str(current_date.year)+' Остаток Кол-во':str(current_date.month-1)+'/'+str(current_date.year)+' Остаток Кол-во'].columns),axis = 1).drop(list(f0.loc[:,str(1)+'/'+str(current_date.year)+' Остаток Сумма':str(current_date.month-1)+'/'+str(current_date.year)+' Остаток Сумма']),axis = 1).drop([x for x in f0.columns if x.find('ФП')!=-1 or x.find('ФC')!=-1 or x.find('БЗ')!=-1 or x.find('Остаток прогноз')!=-1],axis = 1)\n",
    "f0.loc[f0[f0['Заказ'].str.startswith('2')].index,'Заказ'] = '0'\n",
    "aggregate= dict((x,'sum') for x in f0.columns if f0[x].dtype=='float64' and x!='Цена')\n",
    "aggregate['Цена'] = ['max']\n",
    "f0 = f0.groupby([x for x in f0.columns if f0[x].dtype=='object']).agg(aggregate).reset_index()\n",
    "f0.columns =  [x[0] for x in f0.columns]\n",
    "# f0[[x for x in f0.columns if f0[x].dtype=='float64']] = f0[[x for x in f0.columns if f0[x].dtype=='float64']].apply( lambda x: round(x,3))\n",
    "f0['СтатусМтрл на заводе'] = f0['СтатусМтрл на заводе'].astype('int')"
   ]
  },
  {
   "cell_type": "code",
   "execution_count": null,
   "metadata": {},
   "outputs": [],
   "source": [
    "f0['ПП 3 месяца']  = f0.loc[:,'ПП кол-во '+str(current_date.month+1)+'/'+ str(current_date.year):'ПП кол-во '+str(current_date.month+3)+'/'+ str(current_date.year)].sum(axis=1)\n",
    "f0['ПП 3 месяца,Сумма']  = f0.loc[:,'ПП сумма '+str(current_date.month+1)+'/'+ str(current_date.year):'ПП сумма '+str(current_date.month+3)+'/'+ str(current_date.year)].sum(axis=1)\n",
    "\n",
    "\n",
    "f0['Обеспечено 3 месяца, кол-во'] = f0.apply(lambda x:func_obesp_3month(x,current_date),axis = 1 )\n",
    "f0['Обеспечено 3 месяца, сумма'] = f0['Обеспечено 3 месяца, кол-во']*f0['Цена']\n",
    "\n",
    "\n",
    "\n",
    "f0['Обеспеченность три месяца, кол-во, %'] = f0.apply(lambda x:func_obesp_3month_procentil(x,current_date),axis = 1 )\n",
    "\n",
    "f0['Обеспеченность ' + str(current_date.month+1)+'/'+str(current_date.year)+ ' , кол-во, %'] = f0.apply(lambda x:func_obesp_first_month_procentil(x,current_date,sp_k),axis = 1 )\n",
    "\n",
    "f0['Обеспеченность ' + str(current_date.month+2)+'/'+str(current_date.year)+ ' , кол-во, %'] = f0.apply(lambda x:func_obesp_second_month_procentil(x,current_date),axis = 1 )\n",
    "\n",
    "f0['Обеспеченность ' + str(current_date.month+3)+'/'+str(current_date.year)+ ' , кол-во, %'] = f0.apply(lambda x:func_obesp_third_month_procentil(x,current_date),axis = 1 )\n",
    "\n",
    "f0['Не обеспечено запасом ' + str(current_date.month+1)+'/'+str(current_date.year)+ ' , кол-во'] = f0.apply(lambda x:func_ne_obesp_first_month_(x,current_date),axis = 1 )\n",
    "\n",
    "f0['Не обеспечено запасом ' + str(current_date.month+2)+'/'+str(current_date.year)+ ' , кол-во'] = f0.apply(lambda x:func_ne_obesp_second_month_(x,current_date),axis = 1 )\n",
    "\n",
    "f0['Не обеспечено запасом ' + str(current_date.month+3)+'/'+str(current_date.year)+ ' , кол-во'] = f0.apply(lambda x:func_ne_obesp_third_month_(x,current_date),axis = 1 )\n",
    "\n",
    "f0['Не обеспечено, кол-во'] = f0.loc[:,[x for x in f0.columns if x.find('Не обеспечено запасом')!=-1]].sum(axis=1)  \n",
    "\n",
    "f0['Не обеспечено, сумма'] = f0['Не обеспечено, кол-во']* f0['Цена']\n",
    "\n",
    "f0['ZNB(АвизОт)'] = f0.apply(lambda x:func_ZNB_AVIZOT_(x,current_date),axis = 1 )\n",
    "\n",
    "f0['Есть контракт'] = f0.apply(lambda x:func_EST_CONTRACT_(x,current_date),axis = 1 )\n",
    "\n",
    "f0['Нет контракта'] = f0.apply(lambda x:func_NO_CONTRACT_(x,current_date),axis = 1 )\n",
    "\n",
    "arr_dec1 = [x for x in f0.columns if f0[x].dtype=='float64']\n",
    "\n",
    "for col in arr_dec1:\n",
    "    f0[col] = f0[col].apply(lambda x: round( Decimal(x),3))"
   ]
  },
  {
   "cell_type": "code",
   "execution_count": null,
   "metadata": {},
   "outputs": [],
   "source": [
    "f99 = exlsx_f(f0,current_date,ppm_date)"
   ]
  },
  {
   "cell_type": "code",
   "execution_count": null,
   "metadata": {},
   "outputs": [],
   "source": [
    "if current_date.month ==10:\n",
    "    year1 = current_date.year\n",
    "    year2 = current_date.year\n",
    "    year3 = current_date.year+1\n",
    "    \n",
    "    month1 = current_date.month+1\n",
    "    month2 = current_date.month+2\n",
    "    month3 = 1\n",
    "elif current_date.month == 11:\n",
    "    year1 = current_date.year\n",
    "    year2 = current_date.year+1\n",
    "    year3 = current_date.year+1\n",
    "    \n",
    "    month1 = current_date.month+1\n",
    "    month2 = 1\n",
    "    month3 = 2\n",
    "elif current_date.month==12:\n",
    "    year1 = current_date.year+1\n",
    "    year2 = current_date.year+1\n",
    "    year3 = current_date.year+1\n",
    "    \n",
    "    month1 = 1\n",
    "    month2 = 2\n",
    "    month3 = 3\n",
    "else:\n",
    "    year1 = current_date.year\n",
    "    year2 = current_date.year\n",
    "    year3 = current_date.year\n",
    "    month1 = current_date.month+1\n",
    "    month2 = current_date.month+2\n",
    "    month3 = current_date.month+3\n",
    "\n",
    "for ind in f0.index:\n",
    "        if f0.at[ind,'Ответственность']=='Ответственность Заказчика' and f0.at[ind,'Ввод потребности']=='ПП введена без учета сроков контрактования':\n",
    "            f0.at[ind,'Описание отклонения по ответственности'] = 'Заявка введена без учета сроков поставки'\n",
    "        elif f0.at[ind,'Примечание 1'] in ['Не обеспечено','Обеспечено частично'] and  f0.at[ind,'Плановик'] in ['Не закупать','Фиктивный плановик']:\n",
    "            f0.at[ind,'Описание отклонения по ответственности'] = 'Некорректный плановик' \n",
    "        elif f0.at[ind,'Примечание 1'] in ['Не обеспечено','Обеспечено частично'] and f0.at[ind,'СтатусМтрл на заводе']>0 :\n",
    "            f0.at[ind,'Описание отклонения по ответственности'] = 'Номенклатура заблокирована'    \n",
    "        elif f0.at[ind,'Примечание 1'] in ['Не обеспечено','Обеспечено частично'] and f0.at[ind,'Плановик'] in ['Прд.РМБУК ППК КЦРС','КАЗЦИНКМАШ','Сбс.прв.ТООКазцинк','Прд.РМБ Ал ПК КЦРС','Прод.Отд.Диз.полиг','УММ','Собст.пр-во ЖГОК']:  \n",
    "            f0.at[ind,'Описание отклонения по ответственности'] = 'Собственное производство'\n",
    "        elif f0.at[ind,'Примечание 1'] in ['Не обеспечено','Обеспечено частично'] and (f0.at[ind,'Есть контракт']+f0.at[ind,'ZNB(АвизОт)'])>0 and   func_1(f0,ind,45)<f0.at[ind,'Дата заключения RCM']:    \n",
    "            f0.at[ind,'Описание отклонения по ответственности'] = 'Контракт заключен позже необходимого срока'\n",
    "        elif f0.at[ind,'Примечание 1'] in ['Не обеспечено','Обеспечено частично'] and (f0.at[ind,'Есть контракт']+f0.at[ind,'ZNB(АвизОт)'])==0 and f0.at[ind,'Нет контракта']==0 :      \n",
    "            f0.at[ind,'Описание отклонения по ответственности'] = 'Заявки на закуп нет'\n",
    "        elif f0.at[ind,'Примечание 1'] in ['Не обеспечено','Обеспечено частично'] and (f0.at[ind,'Есть контракт']+f0.at[ind,'ZNB(АвизОт)'])==0 and    f0.at[ind,'Дата создания элемента ППМ пополнения NB01']<=ppm_date:\n",
    "            f0.at[ind,'Описание отклонения по ответственности'] = 'Контракт не заключен'\n",
    "        elif f0.at[ind,'Примечание 1'] in ['Не обеспечено','Обеспечено частично'] and (f0.at[ind,'Есть контракт']+f0.at[ind,'ZNB(АвизОт)'])==0 and    f0.at[ind,'Дата создания элемента ППМ пополнения NB01']>=ppm_date:    \n",
    "            f0.at[ind,'Описание отклонения по ответственности'] = 'Заявки на закуп сформированы в период между прогоном ППМ'\n",
    "        elif f0.at[ind,'Примечание 1'] in ['Не обеспечено','Обеспечено частично'] and f0.at[ind,'ПП кол-во '+str(current_date.month+1)+'/'+ str(current_date.year)]>0 and  (f0.at[ind,'Есть контракт']+f0.at[ind,'ZNB(АвизОт)'])>0 and f0.at[ind,'ZNB(АвизОт)']>0 and (f0.at[ind,'Дата заключения RCM']+datetime.timedelta(days=65))<= (datetime.datetime(year1,month1,1)+datetime.timedelta(days=calendar.monthrange(year1,month1)[1])):    \n",
    "            f0.at[ind,'Описание отклонения по ответственности'] = 'Заявка поставщику сформирована, срыв поставки поставщиком'\n",
    "        elif f0.at[ind,'Примечание 1'] in ['Не обеспечено','Обеспечено частично'] and f0.at[ind,'ПП кол-во '+str(current_date.month+2)+'/'+ str(current_date.year)]>0 and  (f0.at[ind,'Есть контракт']+f0.at[ind,'ZNB(АвизОт)'])>0 and f0.at[ind,'ZNB(АвизОт)']>0 and (f0.at[ind,'Дата заключения RCM']+datetime.timedelta(days=65))<= (datetime.datetime(year2,month2,1)+datetime.timedelta(days=calendar.monthrange(year2,month2)[1])):     \n",
    "            f0.at[ind,'Описание отклонения по ответственности'] = 'Заявка поставщику сформирована, срыв поставки поставщиком'\n",
    "        elif f0.at[ind,'Примечание 1'] in ['Не обеспечено','Обеспечено частично'] and f0.at[ind,'ПП кол-во '+str(current_date.month+3)+'/'+ str(current_date.year)]>0 and  (f0.at[ind,'Есть контракт']+f0.at[ind,'ZNB(АвизОт)'])>0 and f0.at[ind,'ZNB(АвизОт)']>0 and (f0.at[ind,'Дата заключения RCM']+datetime.timedelta(days=65))<= (datetime.datetime(year3,month3,1)+datetime.timedelta(days=calendar.monthrange(year3,month3)[1])):\n",
    "            f0.at[ind,'Описание отклонения по ответственности'] = 'Заявка поставщику сформирована, срыв поставки поставщиком'\n",
    "        elif f0.at[ind,'Примечание 1'] in ['Не обеспечено','Обеспечено частично'] and f0.at[ind,'ПП кол-во '+str(current_date.month+1)+'/'+ str(current_date.year)]>0 and  (f0.at[ind,'Есть контракт']+f0.at[ind,'ZNB(АвизОт)'])>0 and f0.at[ind,'ZNB(АвизОт)']==0: \n",
    "            f0.at[ind,'Описание отклонения по ответственности'] = 'Заявка поставщику не сформирована'\n",
    "        elif f0.at[ind,'Примечание 1'] in ['Не обеспечено','Обеспечено частично'] and f0.at[ind,'ПП кол-во '+str(current_date.month+2)+'/'+ str(current_date.year)]>0 and  (f0.at[ind,'Есть контракт']+f0.at[ind,'ZNB(АвизОт)'])>0 and f0.at[ind,'ZNB(АвизОт)']==0:     \n",
    "            f0.at[ind,'Описание отклонения по ответственности'] = 'Заявка поставщику не сформирована'\n",
    "        elif f0.at[ind,'Примечание 1'] in ['Не обеспечено','Обеспечено частично'] and f0.at[ind,'ПП кол-во '+str(current_date.month+3)+'/'+ str(current_date.year)]>0 and  (f0.at[ind,'Есть контракт']+f0.at[ind,'ZNB(АвизОт)'])>0 and f0.at[ind,'ZNB(АвизОт)']==0:     \n",
    "            f0.at[ind,'Описание отклонения по ответственности'] = 'Заявка поставщику не сформирована'\n",
    "        else:\n",
    "            f0.at[ind,'Описание отклонения по ответственности'] = f0.at[ind,'Примечание 1']  "
   ]
  },
  {
   "cell_type": "code",
   "execution_count": null,
   "metadata": {},
   "outputs": [],
   "source": [
    "for ind in f0.index:\n",
    "        if f0.at[ind,'Примечание 1'] == 'Не обеспечено'  and f0.at[ind,'ПП кол-во '+str(current_date.month+1)+'/'+ str(current_date.year)]>0 and func_1(f0,ind,100)>(datetime.datetime(year1,month1,1)+datetime.timedelta(days=calendar.monthrange(year1,month1)[1])):\n",
    "            f0.at[ind,'Ввод потребности'] = 'ПП введена без учета сроков контрактования'\n",
    "        elif f0.at[ind,'Примечание 1'] == 'Не обеспечено'  and f0.at[ind,'ПП кол-во '+str(current_date.month+2)+'/'+ str(current_date.year)]>0 and func_1(f0,ind,100)>(datetime.datetime(year2,month2,1)+datetime.timedelta(days=calendar.monthrange(year2,month2)[1])):\n",
    "            f0.at[ind,'Ввод потребности'] = 'ПП введена без учета сроков контрактования'\n",
    "        elif f0.at[ind,'Примечание 1'] == 'Не обеспечено'  and f0.at[ind,'ПП кол-во '+str(current_date.month+3)+'/'+ str(current_date.year)]>0 and func_1(f0,ind,100)>(datetime.datetime(year3,month3,1)+datetime.timedelta(days=calendar.monthrange(year3,month3)[1])):\n",
    "            f0.at[ind,'Ввод потребности'] = 'ПП введена без учета сроков контрактования'\n",
    "        else:\n",
    "            f0.at[ind,'Ввод потребности'] = 'ПП введена с учетом сроков контрактования'"
   ]
  },
  {
   "cell_type": "code",
   "execution_count": null,
   "metadata": {},
   "outputs": [],
   "source": [
    "f0 =  get_in_backup(path_backup='backup_f0_cons.h5',name='c_f0_cons_08')"
   ]
  },
  {
   "cell_type": "code",
   "execution_count": null,
   "metadata": {},
   "outputs": [],
   "source": [
    "f0 =  get_in_backup(path_backup='backup_obesp.h5',name='obesp_no_f_10')"
   ]
  },
  {
   "cell_type": "code",
   "execution_count": null,
   "metadata": {},
   "outputs": [],
   "source": [
    "f0"
   ]
  },
  {
   "cell_type": "code",
   "execution_count": null,
   "metadata": {},
   "outputs": [],
   "source": [
    "f0 = f0.drop(['Категория ТМЦ','БЕ','Имя Завода + Материал + Заказ','Завод + Склад','Завод + Область ППМ','Код округа + Материал','Склад потребности','Область ППМ','Центральный завод','Код округа','Признак аналога','Класс оценки','подгруппа','подподгруппа','Недропользование','ПлановСрокПоставки','SS (норма запаса на складе)','SS сумма','Остаток на начало года Кол-во','Остаток на начало года Сумма'],axis = 1,inplace=True).drop(list(f0.loc[:,[x for x in f0.columns if x.find('Остаток Кол-во')!=-1 and int(x.split('/')[0]) !=current_date.month ]]),axis = 1,inplace=True).drop(list(f0.loc[:,[x for x in f0.columns if x.find('Остаток Сумма')!=-1 and int(x.split('/')[0]) !=current_date.month ]]),axis = 1,inplace=True).drop([x for x in f0.columns if x.find('ФП')!=-1 or x.find('ФC')!=-1 or x.find('БЗ')!=-1 or x.find('Остаток прогноз')!=-1],axis = 1)"
   ]
  },
  {
   "cell_type": "code",
   "execution_count": null,
   "metadata": {},
   "outputs": [],
   "source": [
    "f0 =  get_in_backup(path_backup='obesp_no_f_10.h5',name='f0_cons_10')"
   ]
  },
  {
   "cell_type": "code",
   "execution_count": null,
   "metadata": {},
   "outputs": [],
   "source": [
    "f0"
   ]
  },
  {
   "cell_type": "code",
   "execution_count": null,
   "metadata": {},
   "outputs": [],
   "source": [
    "spr_mat_kart_crm_inic_zak_znb = rev_to_dict(ZNB['Материал'].astype('str')+' '+ZNB ['Карточка RCM'], ZNB['Инициатор закупки']     )"
   ]
  },
  {
   "cell_type": "code",
   "execution_count": null,
   "metadata": {},
   "outputs": [],
   "source": [
    "ZNB ['Карточка RCM'].unique()"
   ]
  },
  {
   "cell_type": "code",
   "execution_count": null,
   "metadata": {},
   "outputs": [],
   "source": [
    "ZNB['Материал'].unique()"
   ]
  },
  {
   "cell_type": "code",
   "execution_count": null,
   "metadata": {},
   "outputs": [],
   "source": [
    "f0['Материал+RCM'] = f0['Материал']+' '+f0['RCM'].astype('str')\n",
    "f0['Трафик'] = f0['Материал+RCM'].apply(lambda x:  insert_vpr(x,spr_mat_kart_crm_inic_zak_znb,'Инициатор закупки'))\n",
    "f0.drop('Материал+RCM',axis = 1,inplace = True)"
   ]
  },
  {
   "cell_type": "code",
   "execution_count": null,
   "metadata": {},
   "outputs": [],
   "source": [
    "f0['Трафик'].unique()"
   ]
  },
  {
   "cell_type": "code",
   "execution_count": null,
   "metadata": {},
   "outputs": [],
   "source": [
    "f0"
   ]
  },
  {
   "cell_type": "code",
   "execution_count": null,
   "metadata": {},
   "outputs": [],
   "source": [
    "f0.loc[ind,'ПП кол-во '+str(current_date.month+1)+'/'+ str(current_date.year):'ПП кол-во '+str(current_date.month+3)+'/'+ str(current_date.year)].sum()"
   ]
  },
  {
   "cell_type": "code",
   "execution_count": null,
   "metadata": {
    "scrolled": true
   },
   "outputs": [],
   "source": [
    "f0"
   ]
  },
  {
   "cell_type": "code",
   "execution_count": null,
   "metadata": {},
   "outputs": [],
   "source": [
    "current_date.month-1"
   ]
  },
  {
   "cell_type": "code",
   "execution_count": null,
   "metadata": {},
   "outputs": [],
   "source": [
    "current_date.month+3"
   ]
  },
  {
   "cell_type": "code",
   "execution_count": null,
   "metadata": {},
   "outputs": [],
   "source": [
    "'ПП кол-во '+str(current_date.month+1)+'/'+ str(current_date.year)"
   ]
  },
  {
   "cell_type": "code",
   "execution_count": null,
   "metadata": {},
   "outputs": [],
   "source": [
    "'ПП кол-во '+str(current_date.month+3)+'/'+ str(current_date.year)"
   ]
  },
  {
   "cell_type": "code",
   "execution_count": null,
   "metadata": {},
   "outputs": [],
   "source": [
    "f0['Дата заключения RCM'].unique()"
   ]
  },
  {
   "cell_type": "code",
   "execution_count": null,
   "metadata": {},
   "outputs": [],
   "source": [
    "f0['СтатусМтрл на заводе'].unique()"
   ]
  },
  {
   "cell_type": "code",
   "execution_count": null,
   "metadata": {},
   "outputs": [],
   "source": [
    "f0"
   ]
  },
  {
   "cell_type": "code",
   "execution_count": null,
   "metadata": {},
   "outputs": [],
   "source": [
    "f0.rename(columns={'Остаток на начало года Кол-во':str(current_date.month)+'/'+str(current_date.year)+' Остаток Кол-во',\\\n",
    "                  'Остаток на начало года Сумма':str(current_date.month)+'/'+str(current_date.year)+' Остаток Сумма'},inplace=True)\n"
   ]
  },
  {
   "cell_type": "code",
   "execution_count": null,
   "metadata": {
    "scrolled": true
   },
   "outputs": [],
   "source": [
    "f0"
   ]
  },
  {
   "cell_type": "code",
   "execution_count": null,
   "metadata": {
    "scrolled": true
   },
   "outputs": [],
   "source": [
    "f0"
   ]
  },
  {
   "cell_type": "code",
   "execution_count": null,
   "metadata": {
    "scrolled": true
   },
   "outputs": [],
   "source": [
    "f0"
   ]
  },
  {
   "cell_type": "code",
   "execution_count": null,
   "metadata": {},
   "outputs": [],
   "source": [
    "f0.shape"
   ]
  },
  {
   "cell_type": "code",
   "execution_count": null,
   "metadata": {},
   "outputs": [],
   "source": [
    "f0['Категория ТМЦ'].unique()"
   ]
  },
  {
   "cell_type": "code",
   "execution_count": null,
   "metadata": {},
   "outputs": [],
   "source": [
    "f0.shape"
   ]
  },
  {
   "cell_type": "code",
   "execution_count": null,
   "metadata": {},
   "outputs": [],
   "source": [
    "tt = get_in_backup(path_backup='backup_obesp.h5',name='obesp_no_f_01')"
   ]
  },
  {
   "cell_type": "code",
   "execution_count": null,
   "metadata": {},
   "outputs": [],
   "source": [
    "tt.shape"
   ]
  },
  {
   "cell_type": "code",
   "execution_count": null,
   "metadata": {},
   "outputs": [],
   "source": [
    "\n",
    "f0 = f0[f0['Материал'].apply(lambda x:len(x)<=10)].shape"
   ]
  },
  {
   "cell_type": "code",
   "execution_count": null,
   "metadata": {},
   "outputs": [],
   "source": [
    "current_date = datetime.datetime(2020,0,1)"
   ]
  },
  {
   "cell_type": "code",
   "execution_count": null,
   "metadata": {},
   "outputs": [],
   "source": [
    "current_date.month"
   ]
  },
  {
   "cell_type": "code",
   "execution_count": null,
   "metadata": {},
   "outputs": [],
   "source": [
    "current_date = 0"
   ]
  },
  {
   "cell_type": "code",
   "execution_count": null,
   "metadata": {},
   "outputs": [],
   "source": [
    "current_date._month = 0"
   ]
  },
  {
   "cell_type": "code",
   "execution_count": null,
   "metadata": {},
   "outputs": [],
   "source": [
    "class c_(datetime.datetime):\n",
    "    pass\n"
   ]
  },
  {
   "cell_type": "code",
   "execution_count": null,
   "metadata": {},
   "outputs": [],
   "source": [
    "current_date = c_"
   ]
  },
  {
   "cell_type": "code",
   "execution_count": null,
   "metadata": {},
   "outputs": [],
   "source": [
    "current_date.month = 0"
   ]
  },
  {
   "cell_type": "code",
   "execution_count": null,
   "metadata": {},
   "outputs": [],
   "source": [
    "datetime.datetime"
   ]
  },
  {
   "cell_type": "code",
   "execution_count": null,
   "metadata": {},
   "outputs": [],
   "source": [
    "current_date.month = 0"
   ]
  },
  {
   "cell_type": "code",
   "execution_count": null,
   "metadata": {},
   "outputs": [],
   "source": [
    "datetime.datetime(2019,1,1)"
   ]
  },
  {
   "cell_type": "code",
   "execution_count": null,
   "metadata": {},
   "outputs": [],
   "source": [
    "current_date"
   ]
  },
  {
   "cell_type": "code",
   "execution_count": null,
   "metadata": {},
   "outputs": [],
   "source": [
    "'ПП кол-во '+str(current_date.month+3)+'/'+ str(current_date.year)"
   ]
  },
  {
   "cell_type": "code",
   "execution_count": null,
   "metadata": {},
   "outputs": [],
   "source": [
    "current_date.month"
   ]
  },
  {
   "cell_type": "code",
   "execution_count": null,
   "metadata": {},
   "outputs": [],
   "source": [
    "current_date.year"
   ]
  },
  {
   "cell_type": "code",
   "execution_count": null,
   "metadata": {},
   "outputs": [],
   "source": [
    "current_date = datetime.datetime(2020,1,1)"
   ]
  },
  {
   "cell_type": "code",
   "execution_count": null,
   "metadata": {},
   "outputs": [],
   "source": [
    "current_date.month = 0"
   ]
  },
  {
   "cell_type": "code",
   "execution_count": null,
   "metadata": {},
   "outputs": [],
   "source": [
    "current_date.year = 2020"
   ]
  },
  {
   "cell_type": "code",
   "execution_count": null,
   "metadata": {},
   "outputs": [],
   "source": [
    "current_date"
   ]
  },
  {
   "cell_type": "code",
   "execution_count": null,
   "metadata": {},
   "outputs": [],
   "source": [
    "current_date.year"
   ]
  },
  {
   "cell_type": "code",
   "execution_count": null,
   "metadata": {},
   "outputs": [],
   "source": [
    "tt = exlsx_f(f0,2020,0,ppm_date,nach_goda)"
   ]
  },
  {
   "cell_type": "code",
   "execution_count": null,
   "metadata": {},
   "outputs": [],
   "source": [
    "f0 =  get_in_backup(path_backup='backup_obesp_t.h5',name='obesp_no_f_01_t')"
   ]
  },
  {
   "cell_type": "code",
   "execution_count": null,
   "metadata": {},
   "outputs": [],
   "source": [
    "nach_goda = True\n",
    "ppm_date = datetime.datetime(2020,1,8)\n",
    "if nach_goda:\n",
    "    current_date = c_\n",
    "    current_date.month = 0\n",
    "    current_date.year = 2020"
   ]
  },
  {
   "cell_type": "code",
   "execution_count": null,
   "metadata": {},
   "outputs": [],
   "source": [
    "current_date = datetime.datetime(2020,1,1)"
   ]
  },
  {
   "cell_type": "code",
   "execution_count": null,
   "metadata": {},
   "outputs": [],
   "source": [
    "ppm_date = datetime.datetime(2020,1,8)"
   ]
  },
  {
   "cell_type": "code",
   "execution_count": null,
   "metadata": {},
   "outputs": [],
   "source": [
    "nach_goda = True"
   ]
  },
  {
   "cell_type": "code",
   "execution_count": null,
   "metadata": {},
   "outputs": [],
   "source": [
    "f0['Цена']"
   ]
  },
  {
   "cell_type": "code",
   "execution_count": null,
   "metadata": {},
   "outputs": [],
   "source": [
    "f0 =  get_in_backup(path_backup='backup_f0.h5',name='c_f0_01_ost')"
   ]
  },
  {
   "cell_type": "code",
   "execution_count": null,
   "metadata": {
    "scrolled": true
   },
   "outputs": [],
   "source": [
    "f0['Цена']"
   ]
  },
  {
   "cell_type": "code",
   "execution_count": null,
   "metadata": {},
   "outputs": [],
   "source": [
    "current_date_f0 = datetime.datetime(2020,1,1)\n",
    "first_month_of_kvartal = 1\n",
    "sp = ['ПП кол-во '+str(x)+'/'+str(current_date_f0.year) for x in  range(first_month_of_kvartal, current_date_f0.month+1)]"
   ]
  },
  {
   "cell_type": "code",
   "execution_count": null,
   "metadata": {},
   "outputs": [],
   "source": [
    "f0.loc[:,'ПП кол-во '+str(month+1)+'/'+ str(year):'ПП кол-во '+str(month+3)+'/'+ str(year)]"
   ]
  },
  {
   "cell_type": "code",
   "execution_count": null,
   "metadata": {},
   "outputs": [],
   "source": [
    "f0.loc[:,sp_k].sum(axis=1)"
   ]
  },
  {
   "cell_type": "code",
   "execution_count": null,
   "metadata": {},
   "outputs": [],
   "source": [
    "f0"
   ]
  },
  {
   "cell_type": "code",
   "execution_count": null,
   "metadata": {},
   "outputs": [],
   "source": [
    "f0['ПП 3 месяца']  = f0.loc[:,sp_k].sum(axis=1)\n",
    "f0['ПП 3 месяца,Сумма']  = f0.loc[:,sp_summ].sum(axis=1)\n",
    "\n",
    "\n",
    "f0['Обеспечено 3 месяца, кол-во'] = f0.apply(lambda x:func_obesp_3month(x,year,month,sp_k),axis = 1 )"
   ]
  },
  {
   "cell_type": "code",
   "execution_count": null,
   "metadata": {},
   "outputs": [],
   "source": []
  },
  {
   "cell_type": "code",
   "execution_count": null,
   "metadata": {},
   "outputs": [],
   "source": [
    "['ПП кол-во '+str(x)+'/'+str(current_date_f0.year) for x in  range(first_month_of_kvartal, current_date_f0.month+1)]"
   ]
  },
  {
   "cell_type": "code",
   "execution_count": null,
   "metadata": {},
   "outputs": [],
   "source": [
    "current_date_f0 = datetime.datetime(2020,12,1)\n",
    "first_month_of_kvartal = 10\n",
    "sp_k = ['ПП кол-во '+str(x)+'/'+str(current_date_f0.year) for x in  range(first_month_of_kvartal, current_date_f0.month+1)]\n",
    "sp_summ = ['ПП сумма '+str(x)+'/'+str(current_date_f0.year) for x in  range(first_month_of_kvartal, current_date_f0.month+1)]\n",
    "print(sp_k)\n",
    "print(sp_summ)"
   ]
  },
  {
   "cell_type": "code",
   "execution_count": null,
   "metadata": {},
   "outputs": [],
   "source": [
    "f0['Обеспечено 3 месяца, кол-во'] = f0.apply(lambda x:func_obesp_3month(x,year,month,sp_k),axis = 1 )"
   ]
  },
  {
   "cell_type": "code",
   "execution_count": null,
   "metadata": {},
   "outputs": [],
   "source": [
    "f0"
   ]
  },
  {
   "cell_type": "code",
   "execution_count": null,
   "metadata": {},
   "outputs": [],
   "source": [
    "f0.loc[0][sp_kv].sum()"
   ]
  },
  {
   "cell_type": "code",
   "execution_count": null,
   "metadata": {},
   "outputs": [],
   "source": [
    "f0"
   ]
  },
  {
   "cell_type": "code",
   "execution_count": null,
   "metadata": {},
   "outputs": [],
   "source": [
    "f0.loc[ind,sy].values"
   ]
  },
  {
   "cell_type": "code",
   "execution_count": null,
   "metadata": {},
   "outputs": [],
   "source": [
    "ind"
   ]
  },
  {
   "cell_type": "code",
   "execution_count": null,
   "metadata": {},
   "outputs": [],
   "source": [
    "for ind in f0.index[:10000]:\n",
    "    print([1 for x in  sy  if  f0.loc[ind,x].sum()>1])\n"
   ]
  },
  {
   "cell_type": "code",
   "execution_count": null,
   "metadata": {},
   "outputs": [],
   "source": [
    "f0['Периодичность'].unique()"
   ]
  },
  {
   "cell_type": "code",
   "execution_count": null,
   "metadata": {},
   "outputs": [],
   "source": [
    "f0[(f0['ПП кол-во 1/2020']>0)&(f0['ПП кол-во 9/2020']>0)]"
   ]
  },
  {
   "cell_type": "code",
   "execution_count": null,
   "metadata": {},
   "outputs": [],
   "source": [
    "f0"
   ]
  },
  {
   "cell_type": "code",
   "execution_count": null,
   "metadata": {},
   "outputs": [],
   "source": [
    "f0 =  get_in_backup(path_backup='backup_f0.h5',name='c_f0_01_ost')"
   ]
  },
  {
   "cell_type": "code",
   "execution_count": null,
   "metadata": {},
   "outputs": [],
   "source": [
    "f0 =  get_in_backup(path_backup='backup_f0_cons.h5',name='c_f0_cons_10')"
   ]
  },
  {
   "cell_type": "code",
   "execution_count": null,
   "metadata": {},
   "outputs": [],
   "source": [
    "f0"
   ]
  },
  {
   "cell_type": "code",
   "execution_count": null,
   "metadata": {},
   "outputs": [],
   "source": [
    "'ПП кол-во '+str(1)+'/'+ str(year)\n"
   ]
  },
  {
   "cell_type": "code",
   "execution_count": null,
   "metadata": {},
   "outputs": [],
   "source": [
    "'ПП кол-во '+str(month)+'/'+ str(year)"
   ]
  },
  {
   "cell_type": "code",
   "execution_count": null,
   "metadata": {},
   "outputs": [],
   "source": [
    "f0.loc[:,'ПП кол-во '+str(1)+'/'+ str(year):'ПП кол-во '+str(month)+'/'+ str(year)]"
   ]
  },
  {
   "cell_type": "code",
   "execution_count": null,
   "metadata": {},
   "outputs": [],
   "source": [
    "print(year)\n",
    "print(month)"
   ]
  },
  {
   "cell_type": "code",
   "execution_count": null,
   "metadata": {},
   "outputs": [],
   "source": [
    "f0"
   ]
  },
  {
   "cell_type": "code",
   "execution_count": null,
   "metadata": {},
   "outputs": [],
   "source": [
    "save_pyex(df=f0,path='C:\\\\Users\\\\Илья\\\\Desktop\\\\kazzinc\\\\Uploads1\\\\extr_xlsx\\\\.xlsx')"
   ]
  },
  {
   "cell_type": "code",
   "execution_count": null,
   "metadata": {
    "scrolled": true
   },
   "outputs": [],
   "source": [
    "f0"
   ]
  },
  {
   "cell_type": "code",
   "execution_count": null,
   "metadata": {},
   "outputs": [],
   "source": [
    "f0.rename(columns={'Остаток на начало года Кол-во':str(1)+'/'+str(year)+' Остаток Кол-во',\\\n",
    "                  'Остаток на начало года Сумма':str(1)+'/'+str(year)+' Остаток Сумма'},inplace=True)"
   ]
  },
  {
   "cell_type": "code",
   "execution_count": null,
   "metadata": {},
   "outputs": [],
   "source": [
    "f0[str(1)+'/'+str(year)+' Остаток Кол-во']  = f0['Остаток на начало года Кол-во']\n",
    "f0[str(1)+'/'+str(year)+' Остаток Сумма']  = f0['Остаток на начало года Сумма']"
   ]
  },
  {
   "cell_type": "code",
   "execution_count": null,
   "metadata": {},
   "outputs": [],
   "source": [
    "sp_kv"
   ]
  },
  {
   "cell_type": "code",
   "execution_count": null,
   "metadata": {},
   "outputs": [],
   "source": [
    "def func_obesp_second_month_procentil(x,year,month,sp):\n",
    "    if x['ПП кол-во '+str(month+2)+'/'+ str(year)] ==0:\n",
    "        return ''\n",
    "    elif x['ПП кол-во '+str(month+1)+'/'+ str(year)]>x[str(month)+'/'+str(year)+' Остаток Кол-во']:\n",
    "        return 0\n",
    "    elif ((x[str(month)+'/'+str(year)+' Остаток Кол-во']-yy(x,sp))/x['ПП кол-во '+str(month+2)+'/'+ str(year)])>1:\n",
    "        return 1\n",
    "    else:\n",
    "        return ((x[str(month)+'/'+str(year)+' Остаток Кол-во']-yy(x,sp))/x['ПП кол-во '+str(month+2)+'/'+ str(year)])"
   ]
  },
  {
   "cell_type": "code",
   "execution_count": null,
   "metadata": {},
   "outputs": [],
   "source": [
    "f01['Обеспеченность ' + str(month+2)+'/'+str(year)+ ' , кол-во, %'] = f01.apply(lambda x:func_obesp_second_month_procentil(x,year,month,sp_kv_primech),axis = 1 )"
   ]
  },
  {
   "cell_type": "code",
   "execution_count": null,
   "metadata": {},
   "outputs": [],
   "source": [
    "f01 = f0[:10].copy()"
   ]
  },
  {
   "cell_type": "code",
   "execution_count": null,
   "metadata": {
    "scrolled": true
   },
   "outputs": [],
   "source": [
    "f01"
   ]
  },
  {
   "cell_type": "code",
   "execution_count": null,
   "metadata": {},
   "outputs": [],
   "source": [
    "last_month_of_kvartal = 3\n",
    "sp_kv_sum_primech = ['ПП сумма '+str(x)+'/'+str(current_date_f0.year) for x in  range(first_month_of_kvartal, last_month_of_kvartal+1)]"
   ]
  },
  {
   "cell_type": "code",
   "execution_count": null,
   "metadata": {},
   "outputs": [],
   "source": [
    "sp_kv_sum_primech"
   ]
  },
  {
   "cell_type": "code",
   "execution_count": null,
   "metadata": {},
   "outputs": [],
   "source": [
    "def func_obesp_third_month_procentil(x,year,month,sp):\n",
    "    if x['ПП кол-во '+str(month+3)+'/'+ str(year)] ==0:\n",
    "        return ''\n",
    "    elif (yy(x,sp))>x[str(month)+'/'+str(year)+' Остаток Кол-во']:\n",
    "        return 0\n",
    "    elif ((x[str(month)+'/'+str(year)+' Остаток Кол-во']-yy(x,sp)-x['ПП кол-во '+str(month+2)+'/'+ str(year)])/x['ПП кол-во '+str(month+3)+'/'+ str(year)])>1:\n",
    "        return 1\n",
    "    else:\n",
    "        return ((x[str(month)+'/'+str(year)+' Остаток Кол-во']-yy(x,sp))/x['ПП кол-во '+str(month+3)+'/'+ str(year)])"
   ]
  },
  {
   "cell_type": "code",
   "execution_count": null,
   "metadata": {},
   "outputs": [],
   "source": [
    "f01['Обеспеченность ' + str(month+2)+'/'+str(year)+ ' , кол-во, %'] = f01.apply(lambda x:func_obesp_third_month_procentil(x,year,month,sp_current_kvartal),axis = 1 )"
   ]
  },
  {
   "cell_type": "code",
   "execution_count": null,
   "metadata": {
    "scrolled": true
   },
   "outputs": [],
   "source": [
    "f01"
   ]
  },
  {
   "cell_type": "code",
   "execution_count": null,
   "metadata": {},
   "outputs": [],
   "source": [
    "def func_ne_obesp_third_month_(x,year,month,sp):\n",
    "    if (x['ПП кол-во '+str(month+3)+'/'+ str(year)]-x[str(month)+'/'+str(year)+' Остаток Кол-во']+yy(x,sp)-x['Не обеспечено запасом ' + str(month+1)+'/'+str(year)+ ' , кол-во']-x['Не обеспечено запасом ' + str(month+2)+'/'+str(year)+ ' , кол-во'])>0:\n",
    "        return x['ПП кол-во '+str(month+3)+'/'+ str(year)]-x[str(month)+'/'+str(year)+' Остаток Кол-во']+yy(x,sp)-x['Не обеспечено запасом ' + str(month+1)+'/'+str(year)+ ' , кол-во']-x['Не обеспечено запасом ' + str(month+2)+'/'+str(year)+ ' , кол-во']\n",
    "    else:\n",
    "        return 0\n",
    "    "
   ]
  },
  {
   "cell_type": "code",
   "execution_count": null,
   "metadata": {},
   "outputs": [],
   "source": [
    "f01['Не обеспечено запасом ' + str(month+3)+'/'+str(year)+ ' , кол-во'] = f01.apply(lambda x:func_ne_obesp_third_month_(x,year,month,sp_current_kvartal),axis = 1 )"
   ]
  },
  {
   "cell_type": "code",
   "execution_count": null,
   "metadata": {
    "scrolled": true
   },
   "outputs": [],
   "source": [
    "f01"
   ]
  },
  {
   "cell_type": "code",
   "execution_count": null,
   "metadata": {},
   "outputs": [],
   "source": [
    "sp_current_kvartal"
   ]
  },
  {
   "cell_type": "code",
   "execution_count": null,
   "metadata": {},
   "outputs": [],
   "source": [
    "str(month)+'/'+str(year)+' Остаток Кол-во'"
   ]
  },
  {
   "cell_type": "code",
   "execution_count": null,
   "metadata": {},
   "outputs": [],
   "source": [
    "yy(f01.loc[0],sp_current_kvartal)"
   ]
  },
  {
   "cell_type": "code",
   "execution_count": null,
   "metadata": {},
   "outputs": [],
   "source": [
    "f01.loc[0]"
   ]
  },
  {
   "cell_type": "code",
   "execution_count": null,
   "metadata": {},
   "outputs": [],
   "source": [
    "sp_current_kvartal"
   ]
  },
  {
   "cell_type": "code",
   "execution_count": null,
   "metadata": {
    "scrolled": true
   },
   "outputs": [],
   "source": [
    "f0"
   ]
  },
  {
   "cell_type": "code",
   "execution_count": null,
   "metadata": {},
   "outputs": [],
   "source": [
    "f4 =  get_in_backup(path_backup='backup_f0_cons.h5',name='c_f0_cons_02')"
   ]
  },
  {
   "cell_type": "code",
   "execution_count": null,
   "metadata": {
    "scrolled": true
   },
   "outputs": [],
   "source": [
    "f4"
   ]
  },
  {
   "cell_type": "code",
   "execution_count": null,
   "metadata": {},
   "outputs": [],
   "source": [
    "f0 =  get_in_backup(path_backup='backup_f0_cons.h5',name='c_f0_cons_02')"
   ]
  },
  {
   "cell_type": "code",
   "execution_count": null,
   "metadata": {},
   "outputs": [],
   "source": [
    "f0.shape"
   ]
  },
  {
   "cell_type": "code",
   "execution_count": null,
   "metadata": {
    "scrolled": true
   },
   "outputs": [],
   "source": [
    "f0[f0['Материал']=='870208801']"
   ]
  },
  {
   "cell_type": "code",
   "execution_count": null,
   "metadata": {},
   "outputs": [],
   "source": [
    "f0"
   ]
  },
  {
   "cell_type": "code",
   "execution_count": null,
   "metadata": {},
   "outputs": [],
   "source": [
    "folder = '0320'"
   ]
  },
  {
   "cell_type": "code",
   "execution_count": null,
   "metadata": {},
   "outputs": [],
   "source": [
    "f0"
   ]
  },
  {
   "cell_type": "code",
   "execution_count": null,
   "metadata": {},
   "outputs": [],
   "source": [
    "f0 =  get_in_backup(path_backup='f0_cons_04_12032020_v2.h5',name='f0_cons_021')"
   ]
  },
  {
   "cell_type": "code",
   "execution_count": null,
   "metadata": {},
   "outputs": [],
   "source": [
    "f0"
   ]
  },
  {
   "cell_type": "code",
   "execution_count": null,
   "metadata": {},
   "outputs": [],
   "source": [
    "seven =  get_in_backup(path_backup='backup_f0.h5',name='c_f0_07_20_v2')"
   ]
  },
  {
   "cell_type": "code",
   "execution_count": null,
   "metadata": {},
   "outputs": [],
   "source": [
    "seven['Категория_запаса'].unique()"
   ]
  },
  {
   "cell_type": "code",
   "execution_count": null,
   "metadata": {},
   "outputs": [],
   "source": [
    "cons =  get_in_backup(path_backup='cons__05_with_ost.h5',name='v_2_with_ost')"
   ]
  },
  {
   "cell_type": "code",
   "execution_count": null,
   "metadata": {},
   "outputs": [],
   "source": [
    "cons['Категория ТМЦ'].unique()"
   ]
  },
  {
   "cell_type": "code",
   "execution_count": null,
   "metadata": {},
   "outputs": [],
   "source": [
    "cons =  get_in_backup(path_backup='cuo_cons_07.h5',name='cuo_cons_07')"
   ]
  },
  {
   "cell_type": "code",
   "execution_count": null,
   "metadata": {},
   "outputs": [],
   "source": [
    "cons['Базовая ЕИ'].value_counts()"
   ]
  },
  {
   "cell_type": "code",
   "execution_count": null,
   "metadata": {},
   "outputs": [],
   "source": [
    "cons[cons['Базовая ЕИ']=='']"
   ]
  },
  {
   "cell_type": "code",
   "execution_count": null,
   "metadata": {},
   "outputs": [],
   "source": [
    "f0"
   ]
  },
  {
   "cell_type": "code",
   "execution_count": null,
   "metadata": {},
   "outputs": [],
   "source": [
    "# строка только для начала года\n",
    "if nach_goda:\n",
    "    f0.rename(columns={'Остаток на начало года Кол-во':str(month)+'/'+str(year)+' Остаток Кол-во',\\\n",
    "                  'Остаток на начало года Сумма':str(month)+'/'+str(year)+' Остаток Сумма'},inplace=True)\n",
    "\n",
    "f0.reset_index(drop=True,inplace=True)\n",
    "f0 = f0[(f0['Категория ТМЦ']=='Текущая потребность')&(f0.loc[:,[x for x in f0.columns if x.find('ПП кол-во')!=-1]].sum(axis = 1)>0)]\n",
    "f0['СтатусМтрл на заводе'] = f0['СтатусМтрл на заводе'].apply(lambda x: 0 if x=='' else x).astype('int').astype('str')\n",
    "f0['СтатусМтрл на заводе'] = f0['СтатусМтрл на заводе'].apply(lambda x: str(x).replace('.0','')).astype('int').astype('str')\n",
    "if nach_goda:\n",
    "    f0 = f0.drop(['Категория ТМЦ','БЕ','Имя Завода + Материал + Заказ','Завод + Склад','Завод + Область ППМ',\\\n",
    "                  'Код округа + Материал','Склад потребности','Область ППМ','Центральный завод','Код округа','Признак аналога',\\\n",
    "                  'Класс оценки','подгруппа','подподгруппа','Недропользование','ПлановСрокПоставки','SS (норма запаса на складе)'\\\n",
    "                  ,'SS сумма'],axis = 1).drop(list(f0.loc[:,[x for x in f0.columns if x.find('Остаток Кол-во')!=-1 and int(x.split('/')[0]) !=month ]]),axis = 1).drop(list(f0.loc[:,[x for x in f0.columns if x.find('Остаток Сумма')!=-1 and int(x.split('/')[0]) !=month ]]),axis = 1).drop([x for x in f0.columns if x.find('ФП')!=-1 or x.find('ФC')!=-1 or x.find('БЗ')!=-1 or x.find('Остаток прогноз')!=-1],axis = 1)\n",
    "    \n",
    "else:\n",
    "        \n",
    "    f0 = f0.drop(['Категория ТМЦ','БЕ','Склад потребности','Область ППМ','Центральный завод','Код округа','Признак аналога','Класс оценки','подгруппа','подподгруппа','Недропользование','ПлановСрокПоставки','SS (норма запаса на складе)','SS сумма','Кол-во запаса в начале периода','Сумма запаса в начале периода'],axis = 1).drop(list(f0.loc[:,[x for x in f0.columns if x.find('Остаток Кол-во')!=-1 and int(x.split('/')[0]) !=month ]]),axis = 1).drop(list(f0.loc[:,[x for x in f0.columns if x.find('Остаток Сумма')!=-1 and int(x.split('/')[0]) !=month ]]),axis = 1).drop([x for x in f0.columns if x.find('ФП')!=-1 or x.find('ФC')!=-1 or x.find('БЗ')!=-1 or x.find('Остаток прогноз')!=-1],axis = 1)\n",
    "\n",
    "f0.loc[f0[f0['Заказ'].str.startswith('2')].index,'Заказ'] = '0'\n",
    "aggregate= dict((x,'sum') for x in f0.columns if f0[x].dtype=='float64' and x!='Цена')\n",
    "aggregate['Цена'] = ['max']\n",
    "f0 = f0.groupby([x for x in f0.columns if f0[x].dtype=='object']).agg(aggregate).reset_index()\n",
    "f0.columns =  [x[0] for x in f0.columns]\n",
    "# f0[[x for x in f0.columns if f0[x].dtype=='float64']] = f0[[x for x in f0.columns if f0[x].dtype=='float64']].apply( lambda x: round(x,3))"
   ]
  },
  {
   "cell_type": "code",
   "execution_count": null,
   "metadata": {},
   "outputs": [],
   "source": [
    "a= list(f0.loc[:,:'РР'].columns)"
   ]
  },
  {
   "cell_type": "code",
   "execution_count": null,
   "metadata": {},
   "outputs": [],
   "source": [
    "a.extend(['Цена'])"
   ]
  },
  {
   "cell_type": "code",
   "execution_count": null,
   "metadata": {},
   "outputs": [],
   "source": [
    "a"
   ]
  },
  {
   "cell_type": "code",
   "execution_count": null,
   "metadata": {},
   "outputs": [],
   "source": [
    "f0.groupby(a).sum().reset_index()"
   ]
  },
  {
   "cell_type": "code",
   "execution_count": null,
   "metadata": {},
   "outputs": [],
   "source": [
    "f0['СтатусМтрл на заводе'] = f0['СтатусМтрл на заводе'].astype('int')\n",
    "\n",
    "f0['Заказ+Материал'] = f0['Заказ']+' '+f0['Материал']\n",
    "iw13['Заказ'] = iw13['Заказ'].astype('str')\n",
    "spr_zak_mat_iw13 = rev_to_dict(iw13['Заказ']+' '+iw13['Материал'],iw13 ['Дата деблокирования'])\n",
    "f0['Дата деблокирования (ТОРО)'] = f0['Заказ+Материал'].apply(lambda x:  insert_vpr(x,spr_zak_mat_iw13,'Дата деблокирования'))\n",
    "f0.drop('Заказ+Материал',axis = 1,inplace = True)\n",
    "\n",
    "f0['Завод+НН'] = f0['Завод'].astype('str')+' #'+f0['Материал'].astype('str')\n",
    "\n",
    "spr_data_sozdanya_potr_df = rev_to_dict(df['Завод+НН'],df ['Дата создания потребности'])\n",
    "f0['Дата создания потребности'] = f0['Завод+НН'].apply(lambda x:  insert_vpr(x,spr_data_sozdanya_potr_df,'Дата создания потребности'))\n",
    "f0['Дата создания потребности'] = f0['Дата создания потребности'].apply(lambda x: '01.01.1900' if x =='00.00.0000' else  x)\n",
    "f0['Дата создания потребности'] = f0['Дата создания потребности'].apply(lambda x: '01.01.1900' if x ==0  else  x)\n",
    "f0['Дата создания потребности'] = [datetime.datetime(int(x.split('.')[2]),int(x.split('.')[1]),int(x.split('.')[0])) for x in f0['Дата создания потребности'].values]\n",
    "\n",
    "spr_data_postaki_dlya_el_popolnreniya_ds = rev_to_dict(df['Завод+НН'],df ['Дата поставки для элемента пополнения'])\n",
    "f0['Дата поставки для элемента пополнения'] = f0['Завод+НН'].apply(lambda x:  insert_vpr(x,spr_data_postaki_dlya_el_popolnreniya_ds,'Дата поставки для элемента пополнения'))\n",
    "f0['Дата поставки для элемента пополнения'] = f0['Дата поставки для элемента пополнения'].apply(lambda x: '01.01.1900' if x =='00.00.0000' else  x)\n",
    "f0['Дата поставки для элемента пополнения'] = f0['Дата поставки для элемента пополнения'].apply(lambda x: '01.01.1900' if x ==0  else  x)\n",
    "f0['Дата поставки для элемента пополнения'] = [datetime.datetime(int(x.split('.')[2]),int(x.split('.')[1]),int(x.split('.')[0])) for x in f0['Дата поставки для элемента пополнения'].values]\n",
    "\n",
    "f0['Заказчик + HH'] =f0['Комплекс'].astype('str')+' '+f0['Материал'].astype('str')\n",
    "\n",
    "\n",
    "ZNB = pd.read_excel(directory+'ZNB.xlsx',sheet_name='Sheet1')\n",
    "UB05 = pd.read_excel(directory+'UB05.xlsx',sheet_name='Sheet1')\n",
    "spr_znb = pd.read_excel(directory+'Справодник для ZNB.xlsx',sheet_name='ZNB')\n",
    "ZNB.fillna(0,inplace=True)\n",
    "ZNB['Склад'] = ZNB['Склад'].apply(lambda x: '' if x==0 else x)\n",
    "ZNB['Завод'] = ZNB['Завод'].apply(lambda x: str(x).replace('.0','')).astype('str')\n",
    "ZNB['Завод+Склад'] = ZNB['Завод'].astype('str')+' '+ZNB['Склад'].astype('str')\n",
    "spr_znb_ = rev_to_dict(spr_znb['Завод+склад'],spr_znb['Комплекс'])\n",
    "ZNB['Комплекс']=ZNB['Завод+Склад'].apply(lambda x:  insert_vpr(x,spr_znb_,'Комплекс'))\n",
    "ZNB['Комплекс+Маттериал'] = ZNB['Комплекс'].astype('str')+' '+ZNB['Материал'].astype('str')\n",
    "ZNB['Завод+НН'] = ZNB['Завод'].astype('str')+' #'+ZNB['Материал'].astype('str')\n",
    "ZNB.fillna(0,inplace=True)\n",
    "ZNB['Карточка RCM'] = ZNB['Карточка RCM'].apply(lambda x: str(x).replace('.0','')).astype('str')\n",
    "\n",
    "\n",
    "\n",
    "\n",
    "spr_kompl_mat_komp_znb_full = rev_to_dict(ZNB['Комплекс+Маттериал'],ZNB ['Карточка RCM'])\n",
    "spr_mat_znb = rev_to_dict(ZNB['Материал'],ZNB ['Карточка RCM'])\n",
    "\n",
    "for ind in f0.index:\n",
    "    if (f0.at[ind,'Товар в пути (ZNB5, ZNB2/3-АвизОт)']   + f0.at[ind,'Законтрактовано(ZNB-ПртПЗк)'])>0:\n",
    "        if insert_vpr(f0.at[ind,'Заказчик + HH'],spr_kompl_mat_komp_znb_full,'Карточка RCM')==0 and f0.at[ind,'Комплекс'] in  filter_else['one'].values:\n",
    "            f0.at[ind,'RCM']  = insert_vpr(f0.at[ind,'Материал'],spr_mat_znb,'Карточка RCM')\n",
    "        else:\n",
    "            f0.at[ind,'RCM'] = insert_vpr(f0.at[ind,'Заказчик + HH'],spr_kompl_mat_komp_znb_full,'Карточка RCM')\n",
    "    \n",
    "\n",
    "spr_mat_kart_crm_inic_zak_znb = rev_to_dict(ZNB['Материал'].astype('str')+' '+ZNB ['Карточка RCM'], ZNB['Инициатор закупки']     )\n",
    "f0['Материал+RCM'] = f0['Материал']+' '+f0['RCM'].astype('str')\n",
    "f0['Трафик'] = f0['Материал+RCM'].apply(lambda x:  insert_vpr(x,spr_mat_kart_crm_inic_zak_znb,'Инициатор закупки'))\n",
    "f0.drop('Материал+RCM',axis = 1,inplace = True)\n",
    "\n",
    "\n",
    "rcm['Ид. случая'] = rcm['Ид. случая'].astype('str')\n",
    "spr_dat_zak = rev_to_dict(rcm['Ид. случая'], rcm['Дата заключения'])\n",
    "spr_dat_rcm_dat_okonch = rev_to_dict(rcm['Ид. случая'], rcm['Дата окончания действия'])\n",
    "spr_dat_rcm_status = rev_to_dict(rcm['Ид. случая'], rcm['Статус названия'])\n",
    "f0['Дата заключения RCM'] = f0['RCM'].apply(lambda x:  insert_vpr(x,spr_dat_zak,'Дата заключения'))\n",
    "f0['Дата окончания RCM'] = f0['RCM'].apply(lambda x:  insert_vpr(x,spr_dat_rcm_dat_okonch,'Дата окончания действия'))\n",
    "f0['Статус договора'] = f0['RCM'].apply(lambda x:  insert_vpr(x,spr_dat_rcm_status,'Статус названия'))\n",
    "\n",
    "f0['Дата окончания RCM'].fillna(datetime.datetime(1900,1,1),inplace = True)\n",
    "f0['Дата окончания RCM'] = f0['Дата окончания RCM'].apply(lambda x: datetime.datetime(1900,1,1) if x ==0  else x)\n",
    "f0['Дата окончания RCM'] = f0['Дата окончания RCM'].apply(lambda x: 1900 if  x.year == 9999 else x)\n",
    "\n",
    "f0['Дата заключения RCM'].fillna(datetime.datetime(1900,1,1),inplace = True)\n",
    "f0['Дата заключения RCM'] = f0['Дата заключения RCM'].apply(lambda x: datetime.datetime(1900,1,1) if x ==0  else x)\n",
    "f0['Дата заключения RCM'] = f0['Дата заключения RCM'].apply(lambda x: 1900 if  x.year == 9999 else x)\n",
    "\n",
    "f0['Дата деблокирования (ТОРО)'].fillna(datetime.datetime(1900,1,1),inplace = True)\n",
    "f0['Дата деблокирования (ТОРО)'] = f0['Дата деблокирования (ТОРО)'].apply(lambda x: datetime.datetime(1900,1,1) if x ==0  else x)\n",
    "f0['Дата деблокирования (ТОРО)'] = f0['Дата деблокирования (ТОРО)'].apply(lambda x: 1900 if  x.year == 9999 else x)\n",
    "\n",
    "\n",
    "\n",
    "\n",
    "\n",
    "NB = pd.read_excel(directory+'NB.xlsx',sheet_name='Sheet1')\n",
    "NB = NB[~NB['Обозначение индикатора деблокирования'].isin(['Тендер завершен','блокиров.'])]\n",
    "spr_nb = pd.read_excel(directory+'Справодник для NB.xlsx',sheet_name='NB')\n",
    "NB.fillna(0,inplace = True)\n",
    "spr_nb.fillna(0,inplace = True)\n",
    "NB['Количество пополнения'] = NB['ЗатребованКолич']-NB['Заказанное к-во']\n",
    "NB['Завод'] = NB['Завод'].apply(lambda x: str(x).replace('.0','')).astype('str')\n",
    "NB['Склад'] = NB['Склад'].apply(lambda x: str(x).replace('.0','')).astype('str')\n",
    "NB['Материал'] = NB['Материал'].apply(lambda x: str(x).replace('.0','')).astype('str')\n",
    "NB['Материал'] = NB['Материал'].apply(lambda x: '0'+str(x) if  len(str(x))<9 else x)\n",
    "NB['Склад'] = NB['Склад'].apply(lambda x: '' if x=='0' else x)\n",
    "NB['Завод+Склад'] = NB['Завод']+' '+NB['Склад']\n",
    "NB['Завод+Склад'] = NB['Завод+Склад'].str.strip()\n",
    "spr_nb1 = rev_to_dict(spr_nb['Завод + Склад'].str.strip(),spr_nb['Комплекс'])\n",
    "NB['Комплекс'] = NB['Завод+Склад'].apply(lambda x: insert_vpr(x,spr_nb1,'Комплекс'))\n",
    "NB['Комплекс'] = NB['Комплекс'].apply(lambda x: str(x).replace('.0','')).astype('str')\n",
    "NB['Комплекс+Маттериал'] = NB['Комплекс']+' '+NB['Материал']\n",
    "NB['Количество пополнения'] = NB['Количество пополнения'].apply(lambda x:0 if x<0 else x)\n",
    "\n",
    "\n",
    "spr_kompl_mat_komp_dat_zay = rev_to_dict(NB['Комплекс+Маттериал'],NB ['Дата заявки'])\n",
    "spr_mat_dat_zay = rev_to_dict(NB['Материал'],NB ['Дата заявки'])\n",
    "\n",
    "for ind in f0.index:\n",
    "    if f0.at[ind,'Заявка на закупку(NB)']>0:\n",
    "        if insert_vpr(f0.at[ind,'Заказчик + HH'],spr_kompl_mat_komp_dat_zay,'Дата заявки')==0 and f0.at[ind,'Комплекс'] in  filter_else['one'].values:\n",
    "            if insert_vpr(f0.at[ind,'Материал'],spr_mat_dat_zay,'Дата заявки')==0:\n",
    "                f0.at[ind,'Дата создания элемента ППМ пополнения NB01'] = datetime.datetime(1900,1,1)\n",
    "            else:\n",
    "                f0.at[ind,'Дата создания элемента ППМ пополнения NB01']  = insert_vpr(f0.at[ind,'Материал'],spr_mat_dat_zay,'Дата заявки')\n",
    "        else:\n",
    "            if insert_vpr(f0.at[ind,'Заказчик + HH'],spr_kompl_mat_komp_dat_zay,'Дата заявки')==0:\n",
    "                f0.at[ind,'Дата создания элемента ППМ пополнения NB01'] = datetime.datetime(1900,1,1)\n",
    "            else:\n",
    "                f0.at[ind,'Дата создания элемента ППМ пополнения NB01'] = insert_vpr(f0.at[ind,'Заказчик + HH'],spr_kompl_mat_komp_dat_zay,'Дата заявки')\n",
    "                \n",
    "                \n",
    "\n",
    "                \n",
    "                \n",
    "                \n",
    "f0.fillna(0,inplace=True)  "
   ]
  },
  {
   "cell_type": "code",
   "execution_count": null,
   "metadata": {},
   "outputs": [],
   "source": [
    "f0"
   ]
  },
  {
   "cell_type": "code",
   "execution_count": null,
   "metadata": {},
   "outputs": [],
   "source": [
    "f0[f0['Заказ']==0]"
   ]
  },
  {
   "cell_type": "code",
   "execution_count": null,
   "metadata": {},
   "outputs": [],
   "source": [
    "f0"
   ]
  },
  {
   "cell_type": "code",
   "execution_count": null,
   "metadata": {},
   "outputs": [],
   "source": [
    "seven =  get_in_backup(path_backup='backup_f0.h5',name='c_f0_10_20_v2')"
   ]
  },
  {
   "cell_type": "code",
   "execution_count": null,
   "metadata": {},
   "outputs": [],
   "source": [
    "tt  = get_in_backup(path_backup='backup_for_before_transp1.h5',name='f0_vertical_10_20_raspr')"
   ]
  },
  {
   "cell_type": "code",
   "execution_count": null,
   "metadata": {},
   "outputs": [],
   "source": [
    "seven['ПП кол-во 13/2020'].sum()"
   ]
  },
  {
   "cell_type": "code",
   "execution_count": null,
   "metadata": {},
   "outputs": [],
   "source": [
    "tt['month'].dt.year"
   ]
  },
  {
   "cell_type": "code",
   "execution_count": null,
   "metadata": {},
   "outputs": [],
   "source": [
    "tt[(tt['month'].dt.year==2021)&(tt['month'].dt.month==1)]['Количество потребности'].sum()"
   ]
  },
  {
   "cell_type": "code",
   "execution_count": null,
   "metadata": {},
   "outputs": [],
   "source": [
    "import dask.set_options"
   ]
  },
  {
   "cell_type": "code",
   "execution_count": null,
   "metadata": {},
   "outputs": [],
   "source": [
    "c_f0 =  get_in_backup(path_backup='backup_f0_.h5',name='c_f0_12_20_v2')"
   ]
  },
  {
   "cell_type": "code",
   "execution_count": null,
   "metadata": {},
   "outputs": [],
   "source": [
    "f0[(f0['Материал']=='050162002')&(f0['Комплекс']=='ЖГОК')&(f0['Завод']=='3103')]"
   ]
  },
  {
   "cell_type": "code",
   "execution_count": null,
   "metadata": {},
   "outputs": [],
   "source": [
    "cons =  get_in_backup(path_backup='cons__11_with_ost.h5',name='v_2_with_ost')"
   ]
  },
  {
   "cell_type": "code",
   "execution_count": null,
   "metadata": {},
   "outputs": [],
   "source": [
    "cons"
   ]
  },
  {
   "cell_type": "code",
   "execution_count": null,
   "metadata": {},
   "outputs": [],
   "source": [
    "cons =  get_in_backup(path_backup='cons__11_with_ost.h5',name='v_2_with_ost')"
   ]
  },
  {
   "cell_type": "code",
   "execution_count": null,
   "metadata": {},
   "outputs": [],
   "source": [
    "cons"
   ]
  },
  {
   "cell_type": "code",
   "execution_count": null,
   "metadata": {},
   "outputs": [],
   "source": [
    "c_f0 =  get_in_backup(path_backup='backup_f0_.h5',name='c_f0_12_20_v2')"
   ]
  }
 ],
 "metadata": {
  "kernelspec": {
   "display_name": "Python 3",
   "language": "python",
   "name": "python3"
  },
  "language_info": {
   "codemirror_mode": {
    "name": "ipython",
    "version": 3
   },
   "file_extension": ".py",
   "mimetype": "text/x-python",
   "name": "python",
   "nbconvert_exporter": "python",
   "pygments_lexer": "ipython3",
   "version": "3.6.5"
  }
 },
 "nbformat": 4,
 "nbformat_minor": 2
}
