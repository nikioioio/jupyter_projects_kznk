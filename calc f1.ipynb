{
 "cells": [
  {
   "cell_type": "markdown",
   "metadata": {},
   "source": [
    "Сверху currenDate для распределения первый месяц текущего квартала \n",
    "При формировании f0 current date ставим по текщему месяцу"
   ]
  },
  {
   "cell_type": "code",
   "execution_count": 1,
   "metadata": {},
   "outputs": [],
   "source": [
    "import pandas as pd\n",
    "import datetime\n",
    "import numpy as np\n",
    "import os\n",
    "from pyexcelerate import Workbook\n",
    "import calendar\n",
    "pd.set_option('display.max_columns', None)\n",
    "\n",
    "# pd.set_option('display.max_rows', None)\n",
    "\n",
    "def save_real_csv(datafr,cols_text,path_save):get_in_backup\n",
    "    df1 = datafr.copy()\n",
    "    for i in cols_text:\n",
    "        df1[i] = '='+ '\"'+df1[i].astype('str')+'\"'\n",
    "    df1.to_csv(path_save,encoding='utf-8-sig',sep = ';',decimal = ',')   \n",
    "    df1 = pd.DataFrame()\n",
    "\n",
    "\n",
    "def rev_to_dict(ind,find):\n",
    "#     ind = ind.astype('str')комплекс\n",
    "    df = pd.DataFrame(index=ind,data=find.values,columns=[find.name])\n",
    "    df = df.groupby(df.index).first()\n",
    "    dictt =  df.to_dict('index')\n",
    "    return dictt\n",
    "\n",
    "\n",
    "def save_ex(path,df):\n",
    "    writer = pd.ExcelWriter(path,engine='openpyxl')\n",
    "    df.to_excel(writer,sheet_name = 'sheet1')\n",
    "    writer.save()\n",
    "    \n",
    "def save_pyex(path,df):\n",
    "    wb = Workbook()\n",
    "    wb.new_sheet('sheet1',data =  [df.columns.tolist(),]+df.values.tolist())\n",
    "    wb.save(path)\n",
    "    \n",
    "\n",
    "    \n",
    "# extract    \n",
    "def formula_vivod_po_doc_potrebn(x):\n",
    "    if x['ЦС/ПЗ']=='ПЗ' and x['Дата потребности']<date_start_year:\n",
    "        return 'Отдельная отработка'\n",
    "    elif x['ЦС/ПЗ']=='ПЗ'and (x['Вид документа потребности'] in ['AR', 'SB','UB02','Z1' , 'Z3']):\n",
    "        return 'OK'\n",
    "    elif x['ЦС/ПЗ']=='ПЗ'and  x['Вид документа потребности']==0 and x['Наименование типа элемента ППМ пополн'] in ['Запас','Зпс/Кл','ЗпсПрк']:\n",
    "        return 'OK'\n",
    "    elif x['ЦС/ПЗ']=='ЦС' and (x['Вид документа потребности'] in ['04', 'UB01','UB03','UB04' , 'UB06','Z1','ZUB1','ZUB2','ZUB4']):\n",
    "        return 'OK'  \n",
    "    elif x['ЦС/ПЗ']=='ЦС' and x['Вид документа потребности']==0 and x['Краткое наименование элемента ППМ']=='СтрЗап':\n",
    "        return 'OK'\n",
    "    else:\n",
    "        return'Отдельная отработка'\n",
    "# впр    \n",
    "def insert_vpr(x,dictt,name):\n",
    "    try:\n",
    "        return dictt[x][name]\n",
    "    except KeyError:\n",
    "        return 0\n",
    "   # extract \n",
    "def formula_vivod_po_doc_popolneniya(x):   \n",
    "    if   x['ЦС/ПЗ']=='ПЗ' and x['Вид документа пополнения'] in ['UB03','ZUB1','ZUB2','ZUB4']:\n",
    "        return 'OK'\n",
    "    elif x['ЦС/ПЗ']=='ПЗ' and x['Наименование типа элемента ППМ пополн'] in ['Запас','Зпс/Кл','ЗпсПрк']:\n",
    "        return 'OK'\n",
    "    elif x['ЦС/ПЗ']=='ПЗ' and  (x['Вид документа пополнения'] in ['UB01','UB04','UB05','NB01','NB02'] and x['Недропользование']!=0 ):\n",
    "        return 'OK'\n",
    "    elif x['ЦС/ПЗ']=='ЦС' and x['Вид документа пополнения'] in ['NB01','NB02','UB01','UB05','UB03','UB04','UB06','ZNB1','ZNB2','ZNB3','ZNB5','ZUB1','ZUB4']:\n",
    "        return 'OK'\n",
    "    elif  x['ЦС/ПЗ']=='ЦС' and x['Вид документа пополнения'] ==0 and x['Наименование типа элемента ППМ пополн'] in ['Запас','Зпс/Кл','ЗпсПрк','СклдЗп']:\n",
    "        return 'OK'\n",
    "    else:\n",
    "        return 'Отдельная отработка'\n",
    "    \n",
    "    \n",
    "def modul(x):\n",
    "    if x['ЦС/ПЗ']=='ПЗ' and x['Вид документа потребности'] in ['UB02','Z1']:\n",
    "        return 'Прочие'\n",
    "    elif x['ЦС/ПЗ']=='ПЗ' and x['Вид документа потребности']=='AR' and list(str(x['Заказ']))[0]=='1':\n",
    "        return 'ТОРО'\n",
    "    elif x['ЦС/ПЗ']=='ПЗ' and (x['Вид документа потребности']=='SB' or (x['Вид документа потребности']=='AR' and list(str(x['Заказ']))[0]=='2')):\n",
    "        return 'PP'\n",
    "    elif x['ЦС/ПЗ']=='ЦС':\n",
    "        return 0\n",
    "    elif x['ЦС/ПЗ']==0:\n",
    "        return 0\n",
    "    else:\n",
    "        return 'ХЗ'\n",
    "    \n",
    "# формулы остатков    \n",
    "def Q_E_ALL(x):\n",
    "    if x['Блокированный запас']>0:\n",
    "        return 'Block'\n",
    "    elif x['Особый запас']in ['E','Q']:\n",
    "        return 'E+Q'\n",
    "    else:\n",
    "        return 'All'\n",
    "    \n",
    "def ukrup_zakaz(x):\n",
    "    try:\n",
    "        if x['ЦС/ПЗ']=='ПЗ':\n",
    "            return spr_ost_CUPZ_dict[x['Завод+Склад']]['Заказчик']\n",
    "        elif x['ЦС/ПЗ']=='ЦС':\n",
    "            ar = x['Завод+Склад']+' '+ x['Партия']\n",
    "            return spr_ost_CUOCS_dict[ar]['Заказчик']      \n",
    "    except KeyError:\n",
    "        pass\n",
    "    \n",
    "    \n",
    "# формулы расхода  \n",
    "def Q_E_ALL_rash(x):\n",
    "    if x['Особый запас']in ['E','Q']:\n",
    "        return 'E+Q'\n",
    "    else:\n",
    "        return 'All'  \n",
    "    \n",
    "# разбиение Данных на файлы    \n",
    "def saveelse_start(path,df_filter,name_col_filter,arr_datafrs):\n",
    "      for df in arr_datafrs:  \n",
    "        for i in df_filter.columns:\n",
    "            data = df[df[name_col_filter].isin(df_filter[i])]\n",
    "            data.to_csv(path+str(df.name)+ str(i)+'.csv',encoding='utf-8-sig',sep = ';')  \n",
    "            \n",
    "            \n",
    "# превращает цифры строками  в нормальные цифры\n",
    "def replace_float(df,name_cols):\n",
    "    try:\n",
    "        for col_n in name_cols:\n",
    "            mas = df[col_n].apply(lambda x: x.replace('.',''))\n",
    "            mas1 = mas.apply(lambda x: x.replace(',','.'))\n",
    "            df[col_n] =  mas1.astype('float')\n",
    "    except:\n",
    "        pass\n",
    "\n",
    "#     получение данных из словаря\n",
    "def ret_data_dict(filter_,dictionary):\n",
    "    try:\n",
    "        a = dictionary[filter_]\n",
    "        return a\n",
    "    except:\n",
    "        return pd.DataFrame()  \n",
    "    \n",
    "from threading import Thread\n",
    "directory_mc = 'C:\\\\Users\\\\User\\\\Desktop\\\\kazzinc\\\\Uploads1\\\\для ZMM_MATCATAL\\\\'\n",
    "\n",
    "# Блок для поточного чтения файлов\n",
    "\n",
    "import time\n",
    "import func_read_ex\n",
    "from multiprocessing import Pool\n",
    "def exlsx_f(directory):\n",
    "    start_time = time.time()\n",
    "    pool = Pool(processes=5)\n",
    "\n",
    "    files = os.listdir(directory)\n",
    "    print(files)\n",
    "    file_list = [(filename,directory) for filename in files if filename.endswith('.XLSX')]\n",
    "    df_list = pool.map(func_read_ex.read_csv, file_list)\n",
    "    df = pd.concat(df_list)\n",
    "    print(\"--- %s seconds ---\" % (time.time() - start_time))\n",
    "    pool.close()\n",
    "    return df\n",
    "\n",
    "\n",
    "\n",
    "def save_backup(path_backup,arrs):\n",
    "    try:\n",
    "        backup = pd.HDFStore(path_backup)\n",
    "        for arr in arrs:\n",
    "            backup[str(arr.name)] = arr\n",
    "        backup.close()   \n",
    "    except:\n",
    "        backup.close()\n",
    "    \n",
    "def get_in_backup(path_backup,name):\n",
    "    try:\n",
    "        backup = pd.HDFStore(path_backup)\n",
    "        ar  = backup[name]\n",
    "        backup.close()\n",
    "        return ar\n",
    "    except:\n",
    "        backup.close()\n",
    "        \n",
    "def category_of_zapas(x):\n",
    "    if x['Особый запас'] in ['Q']:\n",
    "        return 'Проекты'\n",
    "    elif x['Завод']=='1505' or (x['ЦС/ПЗ'] =='ЦС' and x['СтатусМтрл на заводе']=='2'):\n",
    "        return 'Неликвиды'\n",
    "    elif x['Завод']=='1516' or x['Завод']=='3556' or x['Завод']=='3566' or x['Склад'][:2]=='58':\n",
    "        return 'Сервисный контракт'\n",
    "    elif x['Комплекс']=='ГО':\n",
    "        return 'ГО'\n",
    "    elif x['Cвободный запас']>0 and x['Блокированный запас']==0:\n",
    "        return 'Для распределения и нет блокированного запаса в строке'\n",
    "    elif x['Cвободный запас']>0 and x['Блокированный запас']>0:\n",
    "        return 'Для распределения и есть блокированный запас в строке'\n",
    "    elif x['Cвободный запас']==0:\n",
    "        return 'Свободного остатка нет' \n",
    "    \n",
    "def func_cat_tmc(x):\n",
    "    if x['Блокированный запас']>0:\n",
    "        return 'ТНСЗ'\n",
    "    elif x['Признак Q остатка']==True or x['Признак Q прихода']==True or x['Признак Q расхода']==True:\n",
    "        return 'Проект'\n",
    "    elif x['Комплекс'].find('Service') !=-1:\n",
    "        return 'Сервисный контракт'\n",
    "    elif x['Комплекс']=='ГО':\n",
    "        return 'ГО'\n",
    "    elif x['Комплекс'] =='НЕЛИКВИДЫ':\n",
    "        return 'Неликвиды'\n",
    "    elif x['Комплекс']=='СПЕЦОДЕЖДА':\n",
    "        return 'Спецодежда'\n",
    "    elif x['Количество потребности']>0:\n",
    "        return 'Текущая потребность'\n",
    "    elif x['Количество потребности']==0:\n",
    "        return 'Без ПП'\n",
    "    else:\n",
    "        return 0    \n",
    "    \n",
    "def func_cat_tmc_new(x,current_date,dic):\n",
    "    if (x['Количество потребности']>0 and current_date.year == x['Дата потребности'].year) or \\\n",
    "    (x['Категория ТМЦ'] in['ТНСЗ','страховой запас','Проект','ГО','Спецодежда']):\n",
    "        return 'Востребованный'\n",
    "    elif x['Количество потребности']>0 and x['Дата потребности'].year>current_date.year and x['Распределение_остатака']>0:\n",
    "        return 'Среднесрочный'\n",
    "    elif x['Комплекс'] =='НЕЛИКВИДЫ':\n",
    "        return 'Неликвиды'\n",
    "    elif dic[x['Завод+НН']]==0:\n",
    "        return 'Невостребованный'\n",
    "    else:\n",
    "        return 'Прочие'    \n",
    "    \n",
    "\n",
    "\n",
    "\n",
    "def parallel_calc_fast(cons,KONH,current_date,KONP,MARM,pl_kurs):\n",
    "    if len([x for x in cons.columns if x=='Цена'])>0:\n",
    "        cons.drop(['Цена'],axis = 1,inplace = True)\n",
    "    data_frame = cons.copy()\n",
    "    cons = cons[['Код округа','Материал','Завод','Базовая ЕИ']].drop_duplicates()\n",
    "    cons.reset_index(inplace = True,drop = True)\n",
    "    start_time = time.time()\n",
    "    pool = Pool(processes=10)\n",
    "    cons['Цена']=0\n",
    "    cons.rename(columns={\"Код округа\": \"округ\"},inplace=True)\n",
    "    KONH = KONH.reset_index(drop=True)\n",
    "#     KONH_po = KONH.reset_index().set_index(['Материал',pd.Index(KONH['Действ. по'].apply(lambda x:str(x.year)))])\n",
    "    KONH['key2'] = KONH['Материал']+KONH['Действ. по'].apply(lambda x: str(x.year))\n",
    "#     KONH_po = KONH.reset_index().set_index(['key2'])\n",
    "\n",
    "#     KONH_s = KONH.reset_index().set_index(['Материал',pd.Index(KONH['Действ. с'].apply(lambda x:str(x.year)))])\n",
    "    KONH['key1'] = KONH['Материал']+KONH['Действ. с'].apply(lambda x: str(x.year))\n",
    "#     KONH_s = KONH.reset_index().set_index(['key1'])\n",
    "\n",
    "    KONH.rename(columns={\"Номер записи условий\": 'Номер_записи_условий'},inplace=True)\n",
    "    KONH['sort'] = KONH['Номер_записи_условий'].astype('int')\n",
    "    KONH.sort_values('sort',inplace = True,ascending = False)\n",
    "    KONH_po = KONH.groupby('key2')\n",
    "    KONH_s = KONH.groupby('key1')\n",
    "    \n",
    "    \n",
    "    \n",
    "    \n",
    "#     KONP = KONP.set_index(['Номер записи условий'])\n",
    "    KONP = KONP.groupby('Номер записи условий')\n",
    "    MARM['key'] = MARM['Материал']+MARM['Альтернативная ЕИ']\n",
    "#     MARM =  MARM.set_index(['Материал','Альтернативная ЕИ'])\n",
    "    MARM = MARM.groupby('key')\n",
    "    arrs =  np.array_split(cons,20)\n",
    "    arrs =  [(arr,KONH_po,KONH_s,current_date,KONP,MARM,pl_kurs) for arr in arrs]\n",
    "    df_list = pool.map(func_read_ex.calc_price_super_fast, arrs)\n",
    "    df = pd.concat(df_list)\n",
    "    print(\"--- %s seconds ---\" % (time.time() - start_time))\n",
    "    pool.close()\n",
    "    df.rename(columns={\"округ\": \"Код округа\"},inplace=True)\n",
    "#     df = pd.concat([df.set_index(['Код округа','Материал','Завод','Базовая ЕИ']),data_frame.set_index(['Код округа','Материал','Завод','Базовая ЕИ'])],axis = 1)\n",
    "    df = data_frame.merge(df,left_on=['Код округа','Материал','Завод','Базовая ЕИ'],right_on=['Код округа','Материал','Завод','Базовая ЕИ'],how='outer')\n",
    "    \n",
    "    df.reset_index(inplace = True,drop = True)\n",
    "    \n",
    "    df.drop(['номер записи условий','цена без учета коэф.пересчата','единица измерения закупки'],axis = 1,inplace = True)\n",
    "    return df \n",
    "\n",
    "\n",
    "def kopmpl_ost__(TWLAD,ADRC,df,T001W):\n",
    "    \n",
    "    def uu(x):\n",
    "        if str(x).find('FREE')==0:\n",
    "            return x[4:6]\n",
    "        else:\n",
    "            return str(x)[:2]\n",
    "    \n",
    "    start_time = time.time()\n",
    "    to_str_ost = ['Завод','Склад','Номер адреса']\n",
    "    for i in to_str_ost:\n",
    "        TWLAD[i] = TWLAD[i].apply(lambda x: str(x).replace('.0','')).astype('str')\n",
    "        TWLAD[i] = TWLAD[i].apply(lambda x: '' if x=='0' else x)\n",
    "    to_str_ost1 = ['Номер адреса']   \n",
    "    for i in to_str_ost1:\n",
    "        ADRC[i] = ADRC[i].apply(lambda x: str(x).replace('.0','')).astype('str')\n",
    "        ADRC[i] = ADRC[i].apply(lambda x: '' if x=='0' else x)\n",
    "    to_str_ost1 = ['Закуп. организация','Завод']   \n",
    "    for i in to_str_ost1:\n",
    "        T001W[i] = T001W[i].apply(lambda x: str(x).replace('.0','')).astype('str')\n",
    "        T001W[i] = T001W[i].apply(lambda x: '' if x=='0' else x)\n",
    "    \n",
    "    \n",
    "    ADRC = ADRC.set_index('Номер адреса')\n",
    "    df['Комплекс'] = 0 \n",
    "    \n",
    "    for ind in TWLAD.index:\n",
    "        try:\n",
    "            df_master = ADRC.xs(TWLAD.at[ind,'Номер адреса'])\n",
    "\n",
    "            df.loc[(df['Завод']==TWLAD.at[ind,'Завод']) & (df['Склад']==TWLAD.at[ind,'Склад']) &(df['ЦС/ПЗ']=='ПЗ'),'Комплекс'] =df_master['Критерий поиска 2']\n",
    "            df.loc[(df['Завод']==TWLAD.at[ind,'Завод'])  &(df['ЦС/ПЗ']=='ПЗ')&(df['Комплекс']==0),'Комплекс'] =df_master['Критерий поиска 2'] \n",
    "        except KeyError:\n",
    "            df_master = pd.DataFrame()\n",
    "            \n",
    "    yyy  =ostatok['Партия'].apply(lambda x:x[:1].isalpha() and x[-4:].isalpha()==False)\n",
    "    for ind in TWLAD.index:\n",
    "        try:\n",
    "            \n",
    "            df_master = ADRC.xs(TWLAD.at[ind,'Номер адреса'])\n",
    "        \n",
    "        \n",
    "            df.loc[(df[yyy]['Партия'].str[-4:]==TWLAD.at[ind,'Завод'])  &(df['ЦС/ПЗ']=='ЦС'),'Комплекс'] =df_master['Критерий поиска 2']\n",
    "            \n",
    "            \n",
    "#             df.loc[(df['Завод']==TWLAD.at[ind,'Завод']) & (df['Склад']==TWLAD.at[ind,'Склад']) &(df['ЦС/ПЗ']=='ЦС')&(df['Комплекс']==0),'Комплекс'] =df_master['Критерий поиска 2']\n",
    "\n",
    "        except KeyError:\n",
    "            df_master = pd.DataFrame()\n",
    "            \n",
    "    for ind in T001W.index:\n",
    "\n",
    "        t = df[(df['Партия'].str[-4:]==T001W.at[ind,'Закуп. организация'])&(df['Партия'].apply(lambda x: uu(x))==T001W.at[ind,'Код округа'])&(df['Комплекс']==0)&(df['ЦС/ПЗ']=='ЦС')]\n",
    "\n",
    "        if t.shape[0]>0:\n",
    "            number_address =  TWLAD[TWLAD['Завод']==T001W.at[ind,'Завод']]['Номер адреса'].values[0]\n",
    "            try:\n",
    "\n",
    "                df_master = ADRC.xs(str(number_address))\n",
    "                df.loc[t.index,'Комплекс'] =df_master['Критерий поиска 2']\n",
    "            except KeyError:\n",
    "                df_master = pd.DataFrame() \n",
    "    \n",
    "    for ind in TWLAD.index:\n",
    "        try:\n",
    "            df_master = ADRC.xs(TWLAD.at[ind,'Номер адреса'])\n",
    "            \n",
    "            df.loc[(df['Завод']==TWLAD.at[ind,'Завод'])  &(df['ЦС/ПЗ']=='ЦС')&(df['Комплекс']==0),'Комплекс'] =df_master['Критерий поиска 2'] \n",
    "        except KeyError:\n",
    "            df_master = pd.DataFrame()\n",
    "            \n",
    "    df.fillna(0,inplace = True)        \n",
    "    df.loc[(df['Комплекс']==0),'Комплекс'] ='Прочее'\n",
    "    print(\"--- %s seconds ---\" % (time.time() - start_time))  \n",
    "    \n",
    "    return df"
   ]
  },
  {
   "cell_type": "code",
   "execution_count": null,
   "metadata": {},
   "outputs": [],
   "source": [
    "# управление механикой остатков(вызывать ее)\n",
    "def ostat(ost_st, potr_st, current_date, filters,all_months,col_name_0,col_name_1,col_name_2,col_name_3,col_name_4,col_name_5):\n",
    "    \n",
    "       \n",
    "    \n",
    "#     cons = potr_st.sort_values(['Область ППМ','сортировка по модулю'])\n",
    "    pz_ost = ost_st[ost_st['ЦС/ПЗ']=='ПЗ']\n",
    "    cons = potr_st.set_index(['Завод+НН','del'])\n",
    "    \n",
    "    if all_months ==True:\n",
    "        dat = cons[cons['month']>=current_date].sort_values('Дата потребности')\n",
    "                \n",
    "    else:   \n",
    "        dat = cons[cons['month']>current_date].sort_values('Дата потребности')\n",
    "    \n",
    "    # 15,2,1\n",
    "    for pz_slave_row in pz_ost[pz_ost[col_name_0]!=0].index:\n",
    "#         print(pz_ost.loc[pz_slave_row,'Материал'])\n",
    "        try: \n",
    "            df_master = dat.xs(pz_ost.loc[pz_slave_row,'Завод+НН'])\n",
    "        except KeyError:\n",
    "            df_master = pd.DataFrame()\n",
    "        \n",
    "        if len(df_master)>0:\n",
    "            mex_ost(df_master, pz_ost, pz_slave_row, ost_st, potr_st,col_name_0,col_name_1,col_name_2,col_name_3,col_name_4,col_name_5)\n",
    "\n",
    "            \n",
    "            \n",
    "    pz_ost = ost_st[ost_st['ЦС/ПЗ']=='ЦС']\n",
    "    cons = potr_st.reset_index().set_index(['Материал','Заказчик + HH','del'])\n",
    "    \n",
    "    if all_months ==True:\n",
    "        dat = cons[cons['month']>=current_date].sort_values('Дата потребности')\n",
    "                \n",
    "    else:   \n",
    "        dat = cons[cons['month']>current_date].sort_values('Дата потребности')\n",
    "    \n",
    "    for pz_slave_row in pz_ost[pz_ost[col_name_0]!=0].index:\n",
    "        if ost_st.at[pz_slave_row, 'Комплекс'] == 'ALL1000':\n",
    "            \n",
    "            try:\n",
    "                df_master = dat.xs(pz_ost.at[pz_slave_row, 'Материал'])\n",
    "            except KeyError:\n",
    "                df_master = pd.DataFrame()    \n",
    "               \n",
    "            if len(df_master) > 0:\n",
    "                \n",
    "                # отсекаем только all1000 и сортируем\n",
    "                df_master = df_master[df_master['Комплекс'].isin(filters['one'])].sort_values('Дата потребности')\n",
    "                mex_ost(df_master, pz_ost, pz_slave_row, ost_st, potr_st,col_name_0,col_name_1,col_name_2,col_name_3,col_name_4,col_name_5)\n",
    "                \n",
    "        else:\n",
    "            \n",
    "            try:\n",
    "                df_master = dat.xs(pz_ost.at[pz_slave_row, 'Заказчик + HH'],level = 1)\n",
    "            except KeyError:\n",
    "                df_master = pd.DataFrame()    \n",
    "            \n",
    "            \n",
    "            if len(df_master) > 0:\n",
    "                \n",
    "                df_master = df_master.sort_values('Дата потребности')\n",
    "                \n",
    "                mex_ost(df_master, pz_ost, pz_slave_row, ost_st, potr_st,col_name_0,col_name_1,col_name_2,col_name_3,col_name_4,col_name_5)\n",
    "                      \n",
    "                 \n",
    "            #             распределяем\n",
    "             \n",
    "        \n",
    "    \n",
    "   \n",
    "    \n",
    "\n",
    "# мехника распределения остатков \n",
    "# col_name_0 название столбца откуда рпспределяем\n",
    "# col_name_1 навание с толбца куда распределяем\n",
    "# col_name_2 название столбца с количеством потребности\n",
    "# col_name_5 название столбца куда распределяем сумму\n",
    "# Для цены:\n",
    "# col_name_3 название столбца с суммой потребности\n",
    "# col_name_4 название столбца с начальным кол-вом  потребности\n",
    "def mex_ost(df_master, pz_ost, pz_slave_row, ost_st, potr_st,col_name_0,col_name_1,col_name_2,col_name_3,col_name_4,col_name_5):\n",
    "    df_master = df_master.reset_index().set_index(['index'])\n",
    "#     print(df_master.index)\n",
    "    ostatok = pz_ost.at[pz_slave_row, col_name_0]\n",
    "    len_it = len(df_master) - 1\n",
    "    for ind, row_master_index in enumerate(df_master.index):\n",
    "#         print(df_master)\n",
    "        if len_it == ind:\n",
    "            if pz_ost.at[pz_slave_row, col_name_3]==0 or pz_ost.at[pz_slave_row, col_name_4]==0:\n",
    "                price = 0\n",
    "            else:\n",
    "                price = pz_ost.at[pz_slave_row, col_name_3]/pz_ost.at[pz_slave_row, col_name_4]\n",
    "            summa = ostatok*price\n",
    "            \n",
    "            potr_st.at[row_master_index, col_name_5] = potr_st.at[row_master_index, col_name_5] + summa\n",
    "            potr_st.at[row_master_index, col_name_1] = potr_st.at[row_master_index, col_name_1] + ostatok\n",
    "\n",
    "            pz_ost.at[pz_slave_row, col_name_0] = 0\n",
    "            ost_st.at[pz_slave_row, col_name_0] = 0\n",
    "            # print(df_master[['Количество потребности','Дата потребности','Распределение_остатака']])\n",
    "            ostatok = 0\n",
    "            return\n",
    "        \n",
    "        elif (potr_st.at[row_master_index, col_name_2] > potr_st.at[row_master_index, col_name_1]) and (\n",
    "                potr_st.at[row_master_index, col_name_2] >= ostatok):\n",
    "            if ostatok+potr_st.at[row_master_index, col_name_1]>potr_st.at[row_master_index, col_name_2]:\n",
    "                a=0\n",
    "                if pz_ost.at[pz_slave_row, col_name_3]==0 or pz_ost.at[pz_slave_row, col_name_4]==0:\n",
    "                    price = 0\n",
    "                else:    \n",
    "                    price = pz_ost.at[pz_slave_row, col_name_3]/pz_ost.at[pz_slave_row, col_name_4]\n",
    "                \n",
    "                vzyali = potr_st.at[row_master_index, col_name_2]-potr_st.at[row_master_index, col_name_1]\n",
    "                \n",
    "                summa = vzyali*price\n",
    "                \n",
    "                potr_st.at[row_master_index, col_name_5] = potr_st.at[row_master_index, col_name_5] + summa\n",
    "                potr_st.at[row_master_index, col_name_1] = potr_st.at[row_master_index, col_name_1] + vzyali\n",
    "\n",
    "                pz_ost.at[pz_slave_row, col_name_0] = pz_ost.at[pz_slave_row, col_name_0]-vzyali\n",
    "                ost_st.at[pz_slave_row, col_name_0] = ost_st.at[pz_slave_row, col_name_0]-vzyali\n",
    "                ostatok =  ostatok -vzyali\n",
    "\n",
    "            else:\n",
    "                if pz_ost.at[pz_slave_row, col_name_3]==0 or pz_ost.at[pz_slave_row, col_name_4]==0:\n",
    "                    price = 0\n",
    "                else:\n",
    "                    price = pz_ost.at[pz_slave_row, col_name_3]/pz_ost.at[pz_slave_row, col_name_4]\n",
    "                summa = ostatok*price\n",
    "                potr_st.at[row_master_index, col_name_5] = potr_st.at[row_master_index, col_name_5] + summa\n",
    "                potr_st.at[row_master_index, col_name_1] = potr_st.at[row_master_index, col_name_1] + ostatok\n",
    "\n",
    "                pz_ost.at[pz_slave_row, col_name_0] = 0\n",
    "                ost_st.at[pz_slave_row, col_name_0] = 0\n",
    "                ostatok = 0\n",
    "                # print(df_master[['Количество потребности', 'Дата потребности', 'Распределение_остатака']])\n",
    "                return\n",
    "\n",
    "        elif (potr_st.at[row_master_index, col_name_2] > potr_st.at[row_master_index, col_name_1]) and (potr_st.at[row_master_index, col_name_2] < ostatok):\n",
    "            if pz_ost.at[pz_slave_row, col_name_3]==0 or pz_ost.at[pz_slave_row, col_name_4]==0:\n",
    "                price = 0\n",
    "            else:\n",
    "                price = pz_ost.at[pz_slave_row, col_name_3]/pz_ost.at[pz_slave_row, col_name_4]\n",
    "       \n",
    "            vzyali = potr_st.at[row_master_index, col_name_2]-potr_st.at[row_master_index, col_name_1]      \n",
    "            summa = vzyali*price\n",
    "            potr_st.at[row_master_index, col_name_5] = potr_st.at[row_master_index, col_name_5] + summa\n",
    "            potr_st.at[row_master_index, col_name_1] = potr_st.at[row_master_index, col_name_1] + (potr_st.at[row_master_index, col_name_2] -potr_st.at[row_master_index, col_name_1])\n",
    "\n",
    "            pz_ost.at[pz_slave_row, col_name_0] = pz_ost.at[pz_slave_row, col_name_0] - vzyali\n",
    "            ost_st.at[pz_slave_row, col_name_0] = ost_st.at[pz_slave_row, col_name_0] - vzyali\n",
    "            ostatok = ostatok - vzyali\n",
    "            # print(df_master[['Количество потребности', 'Дата потребности', 'Распределение_остатака']])"
   ]
  },
  {
   "cell_type": "code",
   "execution_count": null,
   "metadata": {},
   "outputs": [],
   "source": [
    "# управление механикой остатков(вызывать ее)         \n",
    "def rashod_raspr(ost_st,potr_st,current_date,filters,all_months,col_name_0,col_name_1,col_name_2,col_name_3,col_name_4,col_name_5):\n",
    "\n",
    "    pz_ost =  ost_st\n",
    "    # пз\n",
    "    cons = potr_st.set_index(['Завод+НН','del'])\n",
    "    \n",
    "    if all_months==True:\n",
    "        dat = cons[cons['month']>=current_date].sort_values('Дата потребности')\n",
    "    else:\n",
    "        dat = cons[cons['month']>current_date].sort_values('Дата потребности')\n",
    "    \n",
    "    \n",
    "    for pz_slave_row in pz_ost[pz_ost[col_name_0]!=0].index:\n",
    "        \n",
    "        try: \n",
    "            df_master = dat.xs(pz_ost.loc[pz_slave_row,'Завод+НН'])\n",
    "        except KeyError:\n",
    "            df_master = pd.DataFrame()\n",
    "\n",
    "        if len(df_master)>0:\n",
    "            df_master = df_master.sort_values('Дата потребности')\n",
    "            # функция\n",
    "            mex_rashod(df_master, pz_ost, pz_slave_row, ost_st, potr_st,col_name_0,col_name_1,col_name_2,col_name_3,col_name_4,col_name_5)\n",
    "\n",
    "\n",
    "# col_name_0 название столбца откуда рпспределяем\n",
    "# col_name_1 навание с толбца куда распределяем\n",
    "# col_name_2 название столбца с количеством потребности\n",
    "# col_name_5 название столбца куда распределяем сумму\n",
    "# Для цены:\n",
    "# col_name_3 название столбца с суммой потребности\n",
    "# col_name_4 название столбца с начальным кол-вом  потребности\n",
    "def mex_rashod(df_master, pz_ost, pz_slave_row, ost_st, potr_st,col_name_0,col_name_1,col_name_2,col_name_3,col_name_4,col_name_5):         \n",
    "    df_master = df_master.reset_index().set_index(['index'])\n",
    "    ostatok = pz_ost.at[pz_slave_row, col_name_0]\n",
    "    len_it = len(df_master) - 1\n",
    "    for ind, row_master_index in enumerate(df_master.index):\n",
    "\n",
    "        if len_it == ind:\n",
    "            price = ost_st.at[pz_slave_row, col_name_3] / ost_st.at[pz_slave_row, col_name_4]\n",
    "            summa = ostatok * price\n",
    "\n",
    "            potr_st.at[row_master_index, col_name_5] = potr_st.at[row_master_index, col_name_5] + summa\n",
    "\n",
    "\n",
    "            potr_st.at[row_master_index, col_name_1] = potr_st.at[row_master_index, col_name_1] + ostatok\n",
    "\n",
    "            pz_ost.at[pz_slave_row, col_name_0] = 0\n",
    "            ost_st.at[pz_slave_row, col_name_0] = 0\n",
    "            # print(df_master[['Количество потребности','Дата потребности','Распределение_остатака']])\n",
    "            ostatok = 0\n",
    "            return\n",
    "\n",
    "        elif (potr_st.at[row_master_index, col_name_2] > potr_st.at[row_master_index, col_name_1]) and (\n",
    "                potr_st.at[row_master_index, col_name_2] >= ostatok):\n",
    "            if ostatok+potr_st.at[row_master_index, col_name_1]>potr_st.at[row_master_index, col_name_2]:\n",
    "                a=0\n",
    "                price = ost_st.at[pz_slave_row, col_name_3] / ost_st.at[pz_slave_row, col_name_4]\n",
    "                vzyali = potr_st.at[row_master_index, col_name_2]-potr_st.at[row_master_index, col_name_1]\n",
    "                summa = vzyali * price\n",
    "\n",
    "                potr_st.at[row_master_index, col_name_5] = potr_st.at[row_master_index, col_name_5] + summa\n",
    "\n",
    "\n",
    "                potr_st.at[row_master_index, col_name_1] = potr_st.at[row_master_index, col_name_1] + vzyali\n",
    "\n",
    "                pz_ost.at[pz_slave_row, col_name_0] = pz_ost.at[pz_slave_row, col_name_0]-vzyali\n",
    "                ost_st.at[pz_slave_row, col_name_0] = ost_st.at[pz_slave_row, col_name_0]-vzyali\n",
    "                ostatok =  ostatok -vzyali\n",
    "\n",
    "            else:\n",
    "                price = ost_st.at[pz_slave_row, col_name_3] / ost_st.at[pz_slave_row, col_name_4]\n",
    "                summa = ostatok * price\n",
    "                potr_st.at[row_master_index, col_name_5] = potr_st.at[row_master_index, col_name_5] + summa\n",
    "\n",
    "                potr_st.at[row_master_index, col_name_1] = potr_st.at[row_master_index, col_name_1] + ostatok\n",
    "\n",
    "                pz_ost.at[pz_slave_row, col_name_0] = 0\n",
    "                ost_st.at[pz_slave_row, col_name_0] = 0\n",
    "                ostatok = 0\n",
    "                # print(df_master[['Количество потребности', 'Дата потребности', 'Распределение_остатака']])\n",
    "                return\n",
    "\n",
    "        elif (potr_st.at[row_master_index, col_name_2] > potr_st.at[row_master_index, col_name_1]) and (potr_st.at[row_master_index, col_name_2] < ostatok):\n",
    "            price = ost_st.at[pz_slave_row, col_name_3] / ost_st.at[pz_slave_row, col_name_4]\n",
    "            vzyali = potr_st.at[row_master_index, col_name_2] - potr_st.at[row_master_index, col_name_1]\n",
    "            summa = vzyali * price\n",
    "            potr_st.at[row_master_index, col_name_5] = potr_st.at[row_master_index, col_name_5] + summa\n",
    "\n",
    "\n",
    "            potr_st.at[row_master_index, col_name_1] = potr_st.at[row_master_index, col_name_1] + (potr_st.at[row_master_index, col_name_2] -potr_st.at[row_master_index, col_name_1])\n",
    "\n",
    "            pz_ost.at[pz_slave_row, col_name_0] = pz_ost.at[pz_slave_row, col_name_0] - vzyali\n",
    "            ost_st.at[pz_slave_row, col_name_0] = ost_st.at[pz_slave_row, col_name_0] - vzyali\n",
    "            ostatok = ostatok - vzyali\n",
    "            # print(df_master[['Количество потребности', 'Дата потребности', 'Распределение_остатака']])"
   ]
  },
  {
   "cell_type": "code",
   "execution_count": null,
   "metadata": {},
   "outputs": [],
   "source": [
    "# управление механикой остатков(вызывать ее)         \n",
    "def prihod_raspr(ost_st,potr_st,current_date,filters,all_months,col_name_0,col_name_1,col_name_2,col_name_3,col_name_4,col_name_5):\n",
    "#     группировка остатков по \n",
    "\n",
    "    pz_ost = ost_st\n",
    "    # пз\n",
    "    cons = potr_st.set_index(['Заказчик + HH','del']).sort_values('Дата потребности')\n",
    "    \n",
    "    \n",
    "    if all_months==True:\n",
    "        dat = cons[cons['month']>=current_date]\n",
    "    else:\n",
    "        dat = cons[cons['month']>current_date]\n",
    "        \n",
    "    for pz_slave_row in pz_ost[pz_ost[col_name_0]!=0].index:\n",
    "        try: \n",
    "            df_master = dat.xs(pz_ost.loc[pz_slave_row,'Комплекс+НН'])\n",
    "        except KeyError:\n",
    "            df_master = pd.DataFrame()\n",
    "        \n",
    "        if len(df_master)>0:\n",
    "            \n",
    "            \n",
    "            # функция\n",
    "            mex_prihod(df_master,pz_ost,pz_slave_row,ost_st,potr_st,col_name_0,col_name_1,col_name_2,col_name_3,col_name_4,col_name_5)\n",
    "            \n",
    "            \n",
    "    cons = potr_st.set_index(['Материал','del'])\n",
    "    \n",
    "    if all_months==True:\n",
    "        dat = cons[cons['month']>=current_date]\n",
    "    else:\n",
    "        dat = cons[cons['month']>current_date]\n",
    "    \n",
    "    \n",
    "    for pz_slave_row in pz_ost[pz_ost[col_name_0]!=0].index:\n",
    "        \n",
    "        if pz_ost.at[pz_slave_row,'Комплекс']=='ALL1000':\n",
    "            try: \n",
    "                df_master = dat.xs(pz_ost.loc[pz_slave_row,'Материал'])\n",
    "            except KeyError:\n",
    "                df_master = pd.DataFrame()\n",
    "\n",
    "            if len(df_master)>0:\n",
    "                \n",
    "                df_master = df_master[df_master['Комплекс'].isin(filters['one'])].sort_values('Дата потребности')\n",
    "                # функция\n",
    "                mex_prihod(df_master,pz_ost,pz_slave_row,ost_st,potr_st,col_name_0,col_name_1,col_name_2,col_name_3,col_name_4,col_name_5)\n",
    "    \n",
    "            \n",
    "            \n",
    "            \n",
    "            \n",
    "def mex_prihod(df_master, pz_ost, pz_slave_row, ost_st, potr_st,col_name_0,col_name_1,col_name_2,col_name_3,col_name_4,col_name_5):         \n",
    "    df_master = df_master.reset_index().set_index(['index'])\n",
    "    ostatok = pz_ost.at[pz_slave_row, col_name_0]\n",
    "    len_it = len(df_master) - 1\n",
    "    for ind, row_master_index in enumerate(df_master.index):\n",
    "\n",
    "        if len_it == ind:\n",
    "            price = ost_st.at[pz_slave_row, col_name_3] / ost_st.at[pz_slave_row, col_name_4]\n",
    "            summa = ostatok * price\n",
    "\n",
    "            potr_st.at[row_master_index, col_name_5] = potr_st.at[row_master_index, col_name_5] + summa\n",
    "\n",
    "\n",
    "            potr_st.at[row_master_index, col_name_1] = potr_st.at[row_master_index, col_name_1] + ostatok\n",
    "\n",
    "            pz_ost.at[pz_slave_row, col_name_0] = 0\n",
    "            ost_st.at[pz_slave_row, col_name_0] = 0\n",
    "            # print(df_master[['Количество потребности','Дата потребности','Распределение_остатака']])\n",
    "            ostatok = 0\n",
    "            return\n",
    "\n",
    "        elif (potr_st.at[row_master_index, col_name_2] > potr_st.at[row_master_index, col_name_1]) and (\n",
    "                potr_st.at[row_master_index, col_name_2] >= ostatok):\n",
    "            if ostatok+potr_st.at[row_master_index, col_name_1]>potr_st.at[row_master_index, col_name_2]:\n",
    "                a=0\n",
    "                price = ost_st.at[pz_slave_row, col_name_3] / ost_st.at[pz_slave_row, col_name_4]\n",
    "                vzyali = potr_st.at[row_master_index, col_name_2]-potr_st.at[row_master_index, col_name_1]\n",
    "                summa = vzyali * price\n",
    "\n",
    "                potr_st.at[row_master_index, col_name_5] = potr_st.at[row_master_index, col_name_5] + summa\n",
    "\n",
    "\n",
    "                potr_st.at[row_master_index, col_name_1] = potr_st.at[row_master_index, col_name_1] + vzyali\n",
    "\n",
    "                pz_ost.at[pz_slave_row, col_name_0] = pz_ost.at[pz_slave_row, col_name_0]-vzyali\n",
    "                ost_st.at[pz_slave_row, col_name_0] = ost_st.at[pz_slave_row, col_name_0]-vzyali\n",
    "                ostatok =  ostatok -vzyali\n",
    "\n",
    "            else:\n",
    "                price = ost_st.at[pz_slave_row, col_name_3] / ost_st.at[pz_slave_row, col_name_4]\n",
    "                summa = ostatok * price\n",
    "                potr_st.at[row_master_index, col_name_5] = potr_st.at[row_master_index, col_name_5] + summa\n",
    "\n",
    "                potr_st.at[row_master_index, col_name_1] = potr_st.at[row_master_index, col_name_1] + ostatok\n",
    "\n",
    "                pz_ost.at[pz_slave_row, col_name_0] = 0\n",
    "                ost_st.at[pz_slave_row, col_name_0] = 0\n",
    "                ostatok = 0\n",
    "                # print(df_master[['Количество потребности', 'Дата потребности', 'Распределение_остатака']])\n",
    "                return\n",
    "\n",
    "        elif (potr_st.at[row_master_index, col_name_2] > potr_st.at[row_master_index, col_name_1]) and (potr_st.at[row_master_index, col_name_2] < ostatok):\n",
    "            price = ost_st.at[pz_slave_row, col_name_3] / ost_st.at[pz_slave_row, col_name_4]\n",
    "            vzyali = potr_st.at[row_master_index, col_name_2] - potr_st.at[row_master_index, col_name_1]\n",
    "            summa = vzyali * price\n",
    "            potr_st.at[row_master_index, col_name_5] = potr_st.at[row_master_index, col_name_5] + summa\n",
    "\n",
    "\n",
    "            potr_st.at[row_master_index, col_name_1] = potr_st.at[row_master_index, col_name_1] + (potr_st.at[row_master_index, col_name_2] -potr_st.at[row_master_index, col_name_1])\n",
    "\n",
    "            pz_ost.at[pz_slave_row, col_name_0] = pz_ost.at[pz_slave_row, col_name_0] - vzyali\n",
    "            ost_st.at[pz_slave_row, col_name_0] = ost_st.at[pz_slave_row, col_name_0] - vzyali\n",
    "            ostatok = ostatok - vzyali\n",
    "            # print(df_master[['Количество потребности', 'Дата потребности', 'Распределение_остатака']])"
   ]
  },
  {
   "cell_type": "code",
   "execution_count": null,
   "metadata": {},
   "outputs": [],
   "source": [
    "# управление механикой остатков(вызывать ее)\n",
    "def avizot_raspr(ost_st, potr_st, current_date, filters,all_months):\n",
    "    #     группировка остатков по\n",
    "    if all_months ==True:\n",
    "        master_zav_nn = dict(tuple(potr_st[potr_st['month'] >= current_date].groupby('Заказчик + HH')))\n",
    "    else:\n",
    "        master_zav_nn = dict(tuple(potr_st[potr_st['month'] > current_date].groupby('Заказчик + HH')))\n",
    "    pz_ost = ost_st\n",
    "    # пз\n",
    "#     print(master_zav_nn.keys())\n",
    "    for pz_slave_row in pz_ost.index:\n",
    "        df_master = ret_data_dict(pz_ost.at[pz_slave_row, 'Комплекс+Маттериал'], master_zav_nn)\n",
    "        if df_master is None:\n",
    "            df_master = pd.DataFrame()\n",
    "        # если есть потребность у сцепки зав нн\n",
    "        # pz_ost.at[pz_slave_row, 'осталось'] = 1600\n",
    "        if len(df_master) > 0 and pz_ost.at[pz_slave_row, 'осталось'] > 0:\n",
    "            df_master = df_master.sort_values('Дата потребности')\n",
    "            # функция\n",
    "            df_master = mex_avizot(df_master, pz_ost, pz_slave_row, ost_st, potr_st)\n",
    "            master_zav_nn[pz_ost.at[pz_slave_row, 'Комплекс+Маттериал']] = df_master\n",
    "    if all_months ==True:\n",
    "        master_zav_nn = dict(tuple(potr_st[potr_st['month'] >= current_date].groupby('Материал')))\n",
    "    else:\n",
    "        master_zav_nn = dict(tuple(potr_st[potr_st['month'] > current_date].groupby('Материал')))\n",
    "\n",
    "    for pz_slave_row in pz_ost.index:\n",
    "        if pz_ost.at[pz_slave_row, 'Комплекс'] == 'ALL1000':\n",
    "            df_master = ret_data_dict(pz_ost.at[pz_slave_row, 'Материал'], master_zav_nn)\n",
    "            if df_master is None:\n",
    "                df_master = pd.DataFrame()\n",
    "            # если есть потребность у сцепки зав нн\n",
    "            # pz_ost.at[pz_slave_row, 'осталось'] = 1600\n",
    "            if len(df_master) > 0 and pz_ost.at[pz_slave_row, 'осталось'] > 0:\n",
    "                df_master = df_master[df_master['Комплекс'].isin(filters['one'])].sort_values('Дата потребности')\n",
    "                # функция\n",
    "                df_master = mex_avizot(df_master, pz_ost, pz_slave_row, ost_st, potr_st)\n",
    "                master_zav_nn[pz_ost.at[pz_slave_row, 'Материал']] = df_master\n",
    "\n",
    "\n",
    "# мехника распределения остатков\n",
    "def mex_avizot(df_master, pz_ost, pz_slave_row, ost_st, potr_st):\n",
    "#     print(df_master[['Распределение_остатака', 'Количество потребности', 'avizot']])\n",
    "    ostatok = pz_ost.at[pz_slave_row, 'Количество пополнения']\n",
    "    len_it = len(df_master) - 1\n",
    "    for ind, row_master_index in enumerate(df_master.index):\n",
    "        # если покрыта вся потребность то ничего не делаем\n",
    "        #         if df_master.at[row_master_index, 'Количество потребности'] == df_master.at[row_master_index, 'Распределение_прихода']:\n",
    "        #             pass\n",
    "        # если это последний элемент нужно записать то что осталось в остатке\n",
    "        #  1 прибавляем в столбец Распределение_остатака гласного фрейма все то что осталось\n",
    "        #  2 вставляем в лист остатков в столбец забрали\n",
    "        #  3 вставлем в маленькие выборки аналогично\n",
    "        #  4 рассчитываем сумму по цене и прибавляем к имеющейся в ячейке\n",
    "        if len_it == ind and (df_master.at[row_master_index, 'Количество потребности'] > (df_master.at[row_master_index, 'Распределение_остатака'] + df_master.at[row_master_index, 'avizot'])):\n",
    "            #             price = ost_st.at[pz_slave_row, 'Сумма во ВВ'] / ost_st.at[pz_slave_row, 'Количество']\n",
    "            #             summa = ostatok * price\n",
    "            #             df_master.at[row_master_index, 'Сумма_распреденного_прихода'] = df_master.at[row_master_index, 'Сумма_распреденного_прихода'] + summa\n",
    "            #             potr_st.at[row_master_index, 'Сумма_распреденного_прихода'] = potr_st.at[row_master_index, 'Сумма_распреденного_прихода'] + summa\n",
    "\n",
    "            #             df_master.at[row_master_index, 'Распределение_прихода'] = df_master.at[row_master_index, 'Распределение_прихода'] + ostatok\n",
    "            #             potr_st.at[row_master_index, 'Распределение_прихода'] = potr_st.at[row_master_index, 'Распределение_прихода'] + ostatok\n",
    "\n",
    "\n",
    "            if (ostatok - (df_master.at[row_master_index, 'Количество потребности'] - df_master.at[row_master_index, 'Распределение_остатака']- df_master.at[row_master_index, 'avizot']))<0:\n",
    "                df_master.at[row_master_index, 'avizot'] =df_master.at[row_master_index, 'avizot']+ ostatok\n",
    "                potr_st.at[row_master_index, 'avizot'] = potr_st.at[row_master_index, 'avizot']+ ostatok\n",
    "                ostatok = 0\n",
    "                pz_ost.at[pz_slave_row, 'осталось'] = ostatok\n",
    "                ost_st.at[pz_slave_row, 'осталось'] = ostatok\n",
    "#                 print(df_master[['Распределение_остатака', 'Количество потребности', 'avizot']])\n",
    "                return df_master\n",
    "            else:\n",
    "                a = df_master.at[row_master_index, 'avizot']\n",
    "                df_master.at[row_master_index, 'avizot'] =df_master.at[row_master_index, 'avizot']+(df_master.at[row_master_index, 'Количество потребности'] - df_master.at[row_master_index, 'Распределение_остатака']-a)\n",
    "                potr_st.at[row_master_index, 'avizot'] = potr_st.at[row_master_index, 'avizot']+ (potr_st.at[row_master_index, 'Количество потребности'] - df_master.at[row_master_index, 'Распределение_остатака']-a)\n",
    "                ostatok = ostatok - (df_master.at[row_master_index, 'Количество потребности'] - df_master.at[row_master_index, 'Распределение_остатака']-a)\n",
    "#                 print(df_master[['Распределение_остатака', 'Количество потребности', 'avizot']])\n",
    "\n",
    "                \n",
    "                \n",
    "\n",
    "\n",
    "\n",
    "                        # ostatok = 0\n",
    "            # return df_master\n",
    "        elif ostatok == 0:\n",
    "            return df_master\n",
    "        # если покарыта не вся потребность  и не последняя строка тогда и не хватает чтобы закрыть потребность:\n",
    "        #  1 прибавляем в столбец  Распределение_остатака гласного фрейма потребностей только остаток\n",
    "        #  2 зануляем остаток\n",
    "        #  3 зануляем в листе остатков в столбец осталось\n",
    "        #  4 вставлем в маленькие выборки аналогично\n",
    "        #  5 рассчитываем сумму по цене и прибавляем к имеющейся в ячейке\n",
    "\n",
    "        elif (df_master.at[row_master_index, 'Количество потребности'] > (df_master.at[row_master_index, 'Распределение_остатака'] + df_master.at[row_master_index, 'avizot'])):\n",
    "\n",
    "\n",
    "\n",
    "            if (ostatok - (df_master.at[row_master_index, 'Количество потребности'] - df_master.at[row_master_index, 'Распределение_остатака']-df_master.at[row_master_index, 'avizot']))<0:\n",
    "                df_master.at[row_master_index, 'avizot'] =df_master.at[row_master_index, 'avizot']+ ostatok\n",
    "                potr_st.at[row_master_index, 'avizot'] = potr_st.at[row_master_index, 'avizot']+ ostatok\n",
    "                ostatok = 0\n",
    "                pz_ost.at[pz_slave_row, 'осталось'] = 0\n",
    "                ost_st.at[pz_slave_row, 'осталось'] = 0\n",
    "#                 print(df_master[['Распределение_остатака', 'Количество потребности', 'avizot']])\n",
    "                return df_master\n",
    "            else:\n",
    "                a = df_master.at[row_master_index, 'avizot']\n",
    "                df_master.at[row_master_index, 'avizot'] =df_master.at[row_master_index, 'avizot']+(df_master.at[row_master_index, 'Количество потребности'] - df_master.at[row_master_index, 'Распределение_остатака']-a)\n",
    "                potr_st.at[row_master_index, 'avizot'] = potr_st.at[row_master_index, 'avizot']+ (potr_st.at[row_master_index, 'Количество потребности'] - df_master.at[row_master_index, 'Распределение_остатака']-a)\n",
    "                ostatok = ostatok - (df_master.at[row_master_index, 'Количество потребности'] - df_master.at[row_master_index, 'Распределение_остатака']-a)\n",
    "#                 print(df_master[['Распределение_остатака', 'Количество потребности', 'avizot']])\n",
    "#             return df_master\n",
    "        if len_it == ind and (df_master.at[row_master_index, 'Количество потребности'] <= (df_master.at[row_master_index, 'Распределение_остатака'] + df_master.at[row_master_index, 'avizot'])):\n",
    "            df_master.at[row_master_index, 'avizot'] = df_master.at[row_master_index, 'avizot'] + 0\n",
    "            potr_st.at[row_master_index, 'avizot'] = potr_st.at[row_master_index, 'avizot'] + 0\n",
    "#             print(df_master[['Распределение_остатака', 'Количество потребности', 'avizot']])\n",
    "            return df_master\n"
   ]
  },
  {
   "cell_type": "code",
   "execution_count": null,
   "metadata": {},
   "outputs": [],
   "source": [
    "\n",
    "# управление механикой остатков(вызывать ее)\n",
    "def prt_pzk(ost_st, potr_st, current_date, filters,all_months):\n",
    "    #     группировка остатков по\n",
    "    if all_months ==True:\n",
    "        master_zav_nn = dict(tuple(potr_st[potr_st['month'] >= current_date].groupby('Заказчик + HH')))\n",
    "    else:\n",
    "        master_zav_nn = dict(tuple(potr_st[potr_st['month'] > current_date].groupby('Заказчик + HH')))\n",
    "    pz_ost = ost_st\n",
    "    # пз\n",
    "#     print(master_zav_nn.keys())\n",
    "    for pz_slave_row in pz_ost.index:\n",
    "        df_master = ret_data_dict(pz_ost.at[pz_slave_row, 'Комплекс+Маттериал'], master_zav_nn)\n",
    "        if df_master is None:\n",
    "            df_master = pd.DataFrame()\n",
    "        # если есть потребность у сцепки зав нн\n",
    "        # pz_ost.at[pz_slave_row, 'осталось'] = 1600\n",
    "        if len(df_master) > 0 and pz_ost.at[pz_slave_row, 'осталось'] > 0:\n",
    "            df_master = df_master.sort_values('Дата потребности')\n",
    "            # функция\n",
    "            df_master = mex_prt_pzk(df_master, pz_ost, pz_slave_row, ost_st, potr_st)\n",
    "            master_zav_nn[pz_ost.at[pz_slave_row, 'Комплекс+Маттериал']] = df_master\n",
    "    if all_months ==True:\n",
    "        master_zav_nn = dict(tuple(potr_st[potr_st['month'] >= current_date].groupby('Материал')))\n",
    "    else:\n",
    "        master_zav_nn = dict(tuple(potr_st[potr_st['month'] > current_date].groupby('Материал')))\n",
    "\n",
    "    for pz_slave_row in pz_ost.index:\n",
    "        if pz_ost.at[pz_slave_row, 'Комплекс'] == 'ALL1000':\n",
    "            df_master = ret_data_dict(pz_ost.at[pz_slave_row, 'Материал'], master_zav_nn)\n",
    "            if df_master is None:\n",
    "                df_master = pd.DataFrame()\n",
    "            # если есть потребность у сцепки зав нн\n",
    "            # pz_ost.at[pz_slave_row, 'осталось'] = 1600\n",
    "            if len(df_master) > 0 and pz_ost.at[pz_slave_row, 'осталось'] > 0:\n",
    "                df_master = df_master[df_master['Комплекс'].isin(filters['one'])].sort_values('Дата потребности')\n",
    "                # функция\n",
    "                df_master = mex_prt_pzk(df_master, pz_ost, pz_slave_row, ost_st, potr_st)\n",
    "                master_zav_nn[pz_ost.at[pz_slave_row, 'Материал']] = df_master\n",
    "\n",
    "\n",
    "# мехника распределения остатков\n",
    "def mex_prt_pzk(df_master, pz_ost, pz_slave_row, ost_st, potr_st):\n",
    "#     print(df_master[['Распределение_остатака', 'Количество потребности', 'законтрактовано']])\n",
    "    ostatok = pz_ost.at[pz_slave_row, 'Количество пополнения']\n",
    "    len_it = len(df_master) - 1\n",
    "    for ind, row_master_index in enumerate(df_master.index):\n",
    "\n",
    "        # если покрыта вся потребность то ничего не делаем\n",
    "        #         if df_master.at[row_master_index, 'Количество потребности'] == df_master.at[row_master_index, 'Распределение_прихода']:\n",
    "        #             pass\n",
    "        # если это последний элемент нужно записать то что осталось в остатке\n",
    "        #  1 прибавляем в столбец Распределение_остатака гласного фрейма все то что осталось\n",
    "        #  2 вставляем в лист остатков в столбец забрали\n",
    "        #  3 вставлем в маленькие выборки аналогично\n",
    "        #  4 рассчитываем сумму по цене и прибавляем к имеющейся в ячейке\n",
    "        if len_it == ind and (df_master.at[row_master_index, 'Количество потребности'] > (df_master.at[row_master_index, 'Распределение_остатака'] + df_master.at[row_master_index, 'законтрактовано'])):\n",
    "            #             price = ost_st.at[pz_slave_row, 'Сумма во ВВ'] / ost_st.at[pz_slave_row, 'Количество']\n",
    "            #             summa = ostatok * price\n",
    "            #             df_master.at[row_master_index, 'Сумма_распреденного_прихода'] = df_master.at[row_master_index, 'Сумма_распреденного_прихода'] + summa\n",
    "            #             potr_st.at[row_master_index, 'Сумма_распреденного_прихода'] = potr_st.at[row_master_index, 'Сумма_распреденного_прихода'] + summa\n",
    "\n",
    "            #             df_master.at[row_master_index, 'Распределение_прихода'] = df_master.at[row_master_index, 'Распределение_прихода'] + ostatok\n",
    "            #             potr_st.at[row_master_index, 'Распределение_прихода'] = potr_st.at[row_master_index, 'Распределение_прихода'] + ostatok\n",
    "\n",
    "\n",
    "            if (ostatok - (df_master.at[row_master_index, 'Количество потребности'] - df_master.at[row_master_index, 'Распределение_остатака']-df_master.at[row_master_index, 'законтрактовано']))<0:\n",
    "                df_master.at[row_master_index, 'законтрактовано'] =df_master.at[row_master_index, 'законтрактовано']+ ostatok\n",
    "                potr_st.at[row_master_index, 'законтрактовано'] = potr_st.at[row_master_index, 'законтрактовано']+ ostatok\n",
    "                ostatok = 0\n",
    "                pz_ost.at[pz_slave_row, 'осталось'] = ostatok\n",
    "                ost_st.at[pz_slave_row, 'осталось'] = ostatok\n",
    "#                 print(df_master[['Распределение_остатака', 'Количество потребности', 'законтрактовано']])\n",
    "                return df_master\n",
    "            else:\n",
    "                a = df_master.at[row_master_index, 'законтрактовано']\n",
    "                df_master.at[row_master_index, 'законтрактовано'] =df_master.at[row_master_index, 'законтрактовано']+(df_master.at[row_master_index, 'Количество потребности'] - df_master.at[row_master_index, 'Распределение_остатака']-a)\n",
    "                potr_st.at[row_master_index, 'законтрактовано'] = potr_st.at[row_master_index, 'законтрактовано']+ (potr_st.at[row_master_index, 'Количество потребности'] - df_master.at[row_master_index, 'Распределение_остатака']-a)\n",
    "                ostatok = ostatok - (df_master.at[row_master_index, 'Количество потребности'] - df_master.at[row_master_index, 'Распределение_остатака']-a)\n",
    "#                 print(df_master[['Распределение_остатака', 'Количество потребности', 'avizot']])\n",
    "\n",
    "\n",
    "\n",
    "                        # ostatok = 0\n",
    "            # return df_master\n",
    "        elif ostatok == 0:\n",
    "            return df_master\n",
    "        # если покарыта не вся потребность  и не последняя строка тогда и не хватает чтобы закрыть потребность:\n",
    "        #  1 прибавляем в столбец  Распределение_остатака гласного фрейма потребностей только остаток\n",
    "        #  2 зануляем остаток\n",
    "        #  3 зануляем в листе остатков в столбец осталось\n",
    "        #  4 вставлем в маленькие выборки аналогично\n",
    "        #  5 рассчитываем сумму по цене и прибавляем к имеющейся в ячейке\n",
    "\n",
    "        elif (df_master.at[row_master_index, 'Количество потребности'] > (df_master.at[row_master_index, 'Распределение_остатака'] + df_master.at[row_master_index, 'законтрактовано'])):\n",
    "\n",
    "\n",
    "\n",
    "            if (ostatok - (df_master.at[row_master_index, 'Количество потребности'] - df_master.at[row_master_index, 'Распределение_остатака'] - df_master.at[row_master_index, 'законтрактовано']))<0:\n",
    "                df_master.at[row_master_index, 'законтрактовано'] =df_master.at[row_master_index, 'законтрактовано']+ ostatok\n",
    "                potr_st.at[row_master_index, 'законтрактовано'] = potr_st.at[row_master_index, 'законтрактовано']+ ostatok\n",
    "                ostatok = 0\n",
    "                pz_ost.at[pz_slave_row, 'осталось'] = 0\n",
    "                ost_st.at[pz_slave_row, 'осталось'] = 0\n",
    "#                 print(df_master[['Распределение_остатака', 'Количество потребности', 'законтрактовано']])\n",
    "                return df_master\n",
    "            else:\n",
    "                a = df_master.at[row_master_index, 'законтрактовано']\n",
    "                df_master.at[row_master_index, 'законтрактовано'] =df_master.at[row_master_index, 'законтрактовано']+(df_master.at[row_master_index, 'Количество потребности'] - df_master.at[row_master_index, 'Распределение_остатака']-a)\n",
    "                potr_st.at[row_master_index, 'законтрактовано'] = potr_st.at[row_master_index, 'законтрактовано']+ (potr_st.at[row_master_index, 'Количество потребности'] - df_master.at[row_master_index, 'Распределение_остатака']-a)\n",
    "                ostatok = ostatok - (df_master.at[row_master_index, 'Количество потребности'] - df_master.at[row_master_index, 'Распределение_остатака']-a)\n",
    "#                 print(df_master[['Распределение_остатака', 'Количество потребности', 'avizot']])\n",
    "#             return df_master\n",
    "        if len_it == ind and (df_master.at[row_master_index, 'Количество потребности'] <= (df_master.at[row_master_index, 'Распределение_остатака'] + df_master.at[row_master_index, 'законтрактовано'])):\n",
    "            df_master.at[row_master_index, 'законтрактовано'] = df_master.at[row_master_index, 'законтрактовано'] + 0\n",
    "            potr_st.at[row_master_index, 'законтрактовано'] = potr_st.at[row_master_index, 'законтрактовано'] + 0\n",
    "#             print(df_master[['Распределение_остатака', 'Количество потребности', 'законтрактовано']])\n",
    "            return df_master\n"
   ]
  },
  {
   "cell_type": "code",
   "execution_count": null,
   "metadata": {},
   "outputs": [],
   "source": [
    "# управление механикой остатков(вызывать ее)\n",
    "def NB_raspr(ost_st, potr_st, current_date, filters,all_months):\n",
    "    #     группировка остатков по\n",
    "    if all_months ==True:\n",
    "        master_zav_nn = dict(tuple(potr_st[potr_st['month'] >= current_date].groupby('Заказчик + HH')))\n",
    "    else:\n",
    "        master_zav_nn = dict(tuple(potr_st[potr_st['month'] > current_date].groupby('Заказчик + HH')))\n",
    "    pz_ost = ost_st\n",
    "    # пз\n",
    "#     print(master_zav_nn.keys())\n",
    "    for pz_slave_row in pz_ost.index:\n",
    "        df_master = ret_data_dict(pz_ost.at[pz_slave_row, 'Комплекс+Маттериал'], master_zav_nn)\n",
    "        if df_master is None:\n",
    "            df_master = pd.DataFrame()\n",
    "        # если есть потребность у сцепки зав нн\n",
    "        # pz_ost.at[pz_slave_row, 'осталось'] = 1600\n",
    "        if len(df_master) > 0 and pz_ost.at[pz_slave_row, 'осталось'] > 0:\n",
    "            df_master = df_master.sort_values('Дата потребности')\n",
    "            # функция\n",
    "            df_master = mex_NB(df_master, pz_ost, pz_slave_row, ost_st, potr_st)\n",
    "            master_zav_nn[pz_ost.at[pz_slave_row, 'Комплекс+Маттериал']] = df_master\n",
    "    if all_months ==True:\n",
    "        master_zav_nn = dict(tuple(potr_st[potr_st['month'] >= current_date].groupby('Материал')))\n",
    "    else:\n",
    "        master_zav_nn = dict(tuple(potr_st[potr_st['month'] > current_date].groupby('Материал')))\n",
    "\n",
    "    for pz_slave_row in pz_ost.index:\n",
    "        if pz_ost.at[pz_slave_row, 'Комплекс'] == 'ALL1000':\n",
    "            df_master = ret_data_dict(pz_ost.at[pz_slave_row, 'Материал'], master_zav_nn)\n",
    "            if df_master is None:\n",
    "                df_master = pd.DataFrame()\n",
    "            # если есть потребность у сцепки зав нн\n",
    "            # pz_ost.at[pz_slave_row, 'осталось'] = 1600\n",
    "            if len(df_master) > 0 and pz_ost.at[pz_slave_row, 'осталось'] > 0:\n",
    "                df_master = df_master[df_master['Комплекс'].isin(filters['one'])].sort_values('Дата потребности')\n",
    "                # функция\n",
    "                df_master = mex_NB(df_master, pz_ost, pz_slave_row, ost_st, potr_st)\n",
    "                master_zav_nn[pz_ost.at[pz_slave_row, 'Материал']] = df_master\n",
    "\n",
    "\n",
    "# мехника распределения остатков\n",
    "def mex_NB(df_master, pz_ost, pz_slave_row, ost_st, potr_st):\n",
    "#     print(df_master[['Распределение_остатака', 'Количество потребности', 'avizot']])\n",
    "    ostatok = pz_ost.at[pz_slave_row, 'Количество пополнения']\n",
    "    len_it = len(df_master) - 1\n",
    "    for ind, row_master_index in enumerate(df_master.index):\n",
    "        # если покрыта вся потребность то ничего не делаем\n",
    "        #         if df_master.at[row_master_index, 'Количество потребности'] == df_master.at[row_master_index, 'Распределение_прихода']:\n",
    "        #             pass\n",
    "        # если это последний элемент нужно записать то что осталось в остатке\n",
    "        #  1 прибавляем в столбец Распределение_остатака гласного фрейма все то что осталось\n",
    "        #  2 вставляем в лист остатков в столбец забрали\n",
    "        #  3 вставлем в маленькие выборки аналогично\n",
    "        #  4 рассчитываем сумму по цене и прибавляем к имеющейся в ячейке\n",
    "        if len_it == ind and (df_master.at[row_master_index, 'Количество потребности'] > (df_master.at[row_master_index, 'Распределение_остатака']+df_master.at[row_master_index, 'законтрактовано']+df_master.at[row_master_index, 'avizot'] + df_master.at[row_master_index, 'NB'])):\n",
    "            #             price = ost_st.at[pz_slave_row, 'Сумма во ВВ'] / ost_st.at[pz_slave_row, 'Количество']\n",
    "            #             summa = ostatok * price\n",
    "            #             df_master.at[row_master_index, 'Сумма_распреденного_прихода'] = df_master.at[row_master_index, 'Сумма_распреденного_прихода'] + summa\n",
    "            #             potr_st.at[row_master_index, 'Сумма_распреденного_прихода'] = potr_st.at[row_master_index, 'Сумма_распреденного_прихода'] + summa\n",
    "\n",
    "            #             df_master.at[row_master_index, 'Распределение_прихода'] = df_master.at[row_master_index, 'Распределение_прихода'] + ostatok\n",
    "            #             potr_st.at[row_master_index, 'Распределение_прихода'] = potr_st.at[row_master_index, 'Распределение_прихода'] + ostatok\n",
    "\n",
    "\n",
    "            if (ostatok - (df_master.at[row_master_index, 'Количество потребности'] -df_master.at[row_master_index, 'законтрактовано']-df_master.at[row_master_index, 'avizot']- df_master.at[row_master_index, 'Распределение_остатака']-df_master.at[row_master_index, 'NB']))<0:\n",
    "                df_master.at[row_master_index, 'NB'] =df_master.at[row_master_index, 'NB']+ ostatok\n",
    "                potr_st.at[row_master_index, 'NB'] = potr_st.at[row_master_index, 'NB']+ ostatok\n",
    "                ostatok = 0\n",
    "                pz_ost.at[pz_slave_row, 'осталось'] = ostatok\n",
    "                ost_st.at[pz_slave_row, 'осталось'] = ostatok\n",
    "#                 print(df_master[['Количество потребности', 'законтрактовано', 'Распределение_остатака','NB']])\n",
    "                return df_master\n",
    "            else:\n",
    "                a = df_master.at[row_master_index, 'NB']\n",
    "                df_master.at[row_master_index, 'NB'] = df_master.at[row_master_index, 'NB'] + (df_master.at[row_master_index, 'Количество потребности'] - df_master.at[row_master_index, 'законтрактовано']-df_master.at[row_master_index, 'avizot'] - df_master.at[row_master_index, 'Распределение_остатака']-a)\n",
    "                potr_st.at[row_master_index, 'NB'] = potr_st.at[row_master_index, 'NB'] + (potr_st.at[row_master_index, 'Количество потребности'] - potr_st.at[row_master_index, 'законтрактовано']-potr_st.at[row_master_index, 'avizot'] - potr_st.at[row_master_index, 'Распределение_остатака']-a)\n",
    "                ostatok = ostatok - (df_master.at[row_master_index, 'Количество потребности']-potr_st.at[row_master_index, 'Распределение_остатака']-df_master.at[row_master_index, 'законтрактовано']-df_master.at[row_master_index, 'avizot']  - a)\n",
    "#                 print(df_master[['Количество потребности', 'законтрактовано', 'Распределение_остатака', 'NB']])\n",
    "                \n",
    "                \n",
    "                \n",
    "\n",
    "\n",
    "                        # ostatok = 0\n",
    "            # return df_master\n",
    "        elif ostatok == 0:\n",
    "            return df_master\n",
    "        # если покарыта не вся потребность  и не последняя строка тогда и не хватает чтобы закрыть потребность:\n",
    "        #  1 прибавляем в столбец  Распределение_остатака гласного фрейма потребностей только остаток\n",
    "        #  2 зануляем остаток\n",
    "        #  3 зануляем в листе остатков в столбец осталось\n",
    "        #  4 вставлем в маленькие выборки аналогично\n",
    "        #  5 рассчитываем сумму по цене и прибавляем к имеющейся в ячейке\n",
    "\n",
    "        elif (df_master.at[row_master_index, 'Количество потребности'] > (df_master.at[row_master_index, 'Распределение_остатака'] +df_master.at[row_master_index, 'законтрактовано']+df_master.at[row_master_index, 'avizot']+ df_master.at[row_master_index, 'NB'])):\n",
    "\n",
    "\n",
    "\n",
    "            if (ostatok - (df_master.at[row_master_index, 'Количество потребности'] -df_master.at[row_master_index, 'законтрактовано']-df_master.at[row_master_index, 'avizot']- df_master.at[row_master_index, 'Распределение_остатака']-df_master.at[row_master_index, 'NB']))<0:\n",
    "                df_master.at[row_master_index, 'NB'] =df_master.at[row_master_index, 'NB']+ ostatok\n",
    "                potr_st.at[row_master_index, 'NB'] = potr_st.at[row_master_index, 'NB']+ ostatok\n",
    "                ostatok = 0\n",
    "                pz_ost.at[pz_slave_row, 'осталось'] = 0\n",
    "                ost_st.at[pz_slave_row, 'осталось'] = 0\n",
    "#                 print(df_master[['Количество потребности', 'законтрактовано', 'Распределение_остатака','NB']])\n",
    "                return df_master\n",
    "            else:\n",
    "                a = df_master.at[row_master_index, 'NB']\n",
    "                df_master.at[row_master_index, 'NB'] = df_master.at[row_master_index, 'NB'] + (df_master.at[row_master_index, 'Количество потребности'] - df_master.at[row_master_index, 'законтрактовано']-df_master.at[row_master_index, 'avizot'] - df_master.at[row_master_index, 'Распределение_остатака']-a)\n",
    "                potr_st.at[row_master_index, 'NB'] = potr_st.at[row_master_index, 'NB'] + (potr_st.at[row_master_index, 'Количество потребности'] - potr_st.at[row_master_index, 'законтрактовано']-potr_st.at[row_master_index, 'avizot'] - potr_st.at[row_master_index, 'Распределение_остатака']-a)\n",
    "                ostatok = ostatok - (df_master.at[row_master_index, 'Количество потребности']-potr_st.at[row_master_index, 'Распределение_остатака']-df_master.at[row_master_index, 'законтрактовано']-df_master.at[row_master_index, 'avizot']  - a)\n",
    "#                 print(df_master[['Количество потребности', 'законтрактовано', 'Распределение_остатака', 'NB']])\n",
    "#             return df_master\n",
    "        if len_it == ind and (df_master.at[row_master_index, 'Количество потребности'] <= (df_master.at[row_master_index, 'Распределение_остатака']+df_master.at[row_master_index, 'законтрактовано']+df_master.at[row_master_index, 'avizot'] + df_master.at[row_master_index, 'NB'])):\n",
    "            df_master.at[row_master_index, 'NB'] = df_master.at[row_master_index, 'NB'] + 0\n",
    "            potr_st.at[row_master_index, 'NB'] = potr_st.at[row_master_index, 'NB'] + 0\n",
    "#             print(df_master[['Количество потребности', 'законтрактовано', 'Распределение_остатака','NB']])\n",
    "            return df_master"
   ]
  },
  {
   "cell_type": "code",
   "execution_count": null,
   "metadata": {},
   "outputs": [],
   "source": [
    "def str_zap_raspr(ost_st, potr_st, current_date, filters,all_months):\n",
    "    #     группировка остатков по\n",
    "    if all_months==True:\n",
    "        master_zav_nn = dict(tuple(potr_st[potr_st['month'] >= current_date].groupby('Заказчик + HH')))\n",
    "    else:\n",
    "        master_zav_nn = dict(tuple(potr_st[potr_st['month'] > current_date].groupby('Заказчик + HH')))\n",
    "    pz_ost = ost_st\n",
    "    for pz_slave_row in pz_ost.index:\n",
    "        if pz_ost.at[pz_slave_row, 'Комплекс'] != 'ALL1000':\n",
    "            df_master = ret_data_dict(pz_ost.at[pz_slave_row, 'Заказчик + HH'], master_zav_nn)\n",
    "            if df_master is None:\n",
    "                df_master = pd.DataFrame()\n",
    "            # если есть потребность у сцепки зав нн\n",
    "            # pz_ost.at[pz_slave_row, 'осталось'] = 1600\n",
    "            if len(df_master) > 0 and pz_ost.at[pz_slave_row, 'Количество потребности'] > 0:\n",
    "                df_master = df_master.sort_values('Дата потребности')\n",
    "                # функция\n",
    "                df_master = mexstr_zap_avizot(df_master, pz_ost, pz_slave_row, ost_st, potr_st)\n",
    "                master_zav_nn[pz_ost.at[pz_slave_row, 'Материал']] = df_master\n",
    "    if all_months==True:\n",
    "        master_zav_nn = dict(tuple(potr_st[potr_st['month'] >= current_date].groupby('Материал')))\n",
    "    else:\n",
    "        \n",
    "        master_zav_nn = dict(tuple(potr_st[potr_st['month'] > current_date].groupby('Материал')))\n",
    "\n",
    "    for pz_slave_row in pz_ost.index:\n",
    "        if pz_ost.at[pz_slave_row, 'Комплекс'] == 'ALL1000':\n",
    "            df_master = ret_data_dict(pz_ost.at[pz_slave_row, 'Материал'], master_zav_nn)\n",
    "            if df_master is None:\n",
    "                df_master = pd.DataFrame()\n",
    "            # если есть потребность у сцепки зав нн\n",
    "            # pz_ost.at[pz_slave_row, 'осталось'] = 1600\n",
    "            if len(df_master) > 0 and pz_ost.at[pz_slave_row, 'Количество потребности'] > 0:\n",
    "                df_master = df_master[df_master['Комплекс'].isin(filters['one'])].sort_values('Дата потребности')\n",
    "                # функция\n",
    "                df_master = mexstr_zap_avizot(df_master, pz_ost, pz_slave_row, ost_st, potr_st)\n",
    "                master_zav_nn[pz_ost.at[pz_slave_row, 'Материал']] = df_master\n",
    "#     potr_st.to_csv('C:\\\\Users\\\\User\\\\Desktop\\\\kazzinc\\\\Uploads\\\\test\\\\dfsl.csv', encoding='utf-8-sig', sep=';')\n",
    "#     ost_st.to_csv('C:\\\\Users\\\\User\\\\Desktop\\\\kazzinc\\\\Uploads\\\\test\\\\ost.csv', encoding='utf-8-sig', sep=';')\n",
    "\n",
    "# мехника распределения остатков\n",
    "def mexstr_zap_avizot(df_master, pz_ost, pz_slave_row, ost_st, potr_st):\n",
    "    arr = []\n",
    "    ostatok = pz_ost.at[pz_slave_row, 'Количество потребности']\n",
    "    potr = df_master['Количество потребности'].sum()\n",
    "    len_it = len(df_master) - 1\n",
    "    for ind, row_master_index in enumerate(df_master.index):\n",
    "        # если покрыта вся потребность то ничего не делаем\n",
    "        #         if df_master.at[row_master_index, 'Количество потребности'] == df_master.at[row_master_index, 'Распределение_прихода']:\n",
    "        #             pass\n",
    "        # если это последний элемент нужно записать то что осталось в остатке\n",
    "        #  1 прибавляем в столбец Распределение_остатака гласного фрейма все то что осталось\n",
    "        #  2 вставляем в лист остатков в столбец забрали\n",
    "        #  3 вставлем в маленькие выборки аналогично\n",
    "        #  4 рассчитываем сумму по цене и прибавляем к имеющейся в ячейке\n",
    "        if len_it == ind:\n",
    "            arr.append(df_master.at[row_master_index, 'Количество потребности'] / potr * ostatok)\n",
    "            #             df_master.at[row_master_index, 'Распределение_прихода'] = df_master.at[row_master_index, 'Распределение_прихода'] + ostatok\n",
    "            #             potr_st.at[row_master_index, 'Распределение_прихода'] = potr_st.at[row_master_index, 'Распределение_прихода'] + ostatok\n",
    "\n",
    "            #             pz_ost.at[pz_slave_row, 'осталось'] = 0\n",
    "            #             ost_st.at[pz_slave_row, 'осталось'] = 0\n",
    "            #             ostatok = 0\n",
    "\n",
    "            df_master.loc[df_master.index, 'стрЗапас'] = df_master.loc[df_master.index, 'стрЗапас']+ arr\n",
    "            potr_st.loc[df_master.index, 'стрЗапас'] = potr_st.loc[df_master.index, 'стрЗапас']+ arr\n",
    "            pz_ost.at[pz_slave_row, 'осталось'] = 0\n",
    "            ost_st.at[pz_slave_row, 'осталось'] = 0\n",
    "            return df_master\n",
    "        else:\n",
    "            arr.append(df_master.at[row_master_index, 'Количество потребности'] / potr * ostatok)"
   ]
  },
  {
   "cell_type": "code",
   "execution_count": null,
   "metadata": {},
   "outputs": [],
   "source": [
    "# Даты для распределения\n",
    "ost_name = 'Остатки на 29.02.2020'\n",
    "prih_name = 'Приход - февраль 2020 г.'\n",
    "rash_name = 'Расход - февраль 2020 г.'\n",
    "folder = '0320'\n",
    "pl_kurs = 375\n",
    "\n",
    "date_start_year = datetime.datetime(2020,1,1)\n",
    "current_date = datetime.datetime(2020,3,1)\n",
    "\n",
    "# Для непосредственного формирования F0 \n",
    "current_date_f0 = datetime.datetime(2020,3,1)\n",
    "first_month_of_kvartal = 1\n",
    "\n",
    "\n",
    "\n",
    "directory = 'C:\\\\Users\\\\Илья\\\\Desktop\\\\kazzinc\\\\Uploads1\\\\'+folder+'\\\\'\n",
    "directory_mc = 'C:\\\\Users\\\\Илья\\\\Desktop\\\\kazzinc\\\\Uploads1\\\\'+folder+'\\\\для ZMM_MATCATAL\\\\'\n",
    "\n",
    "\n",
    "\n",
    "\n",
    "# список месяцев потребности для формирования f0 ДЛЯ 1 месяца и считаем от остатков на начало года\n",
    "sp = ['ПП кол-во '+str(x)+'/'+str(current_date_f0.year) for x in  range(first_month_of_kvartal, current_date_f0.month+1)]\n",
    "# список месяцев потребности для формирования f0 ДЛЯ 1 месяца и считаем от текущих остатков\n",
    "# sp = ['ПП кол-во '+str(x)+'/'+str(current_date_f0.year) for x in  range(first_month_of_kvartal, current_date_f0.month+2)]\n",
    "print(sp)"
   ]
  },
  {
   "cell_type": "code",
   "execution_count": null,
   "metadata": {},
   "outputs": [],
   "source": [
    "# загрузка из restore\n",
    "\n",
    "\n",
    "df = get_in_backup(path_backup='backup.h5',name='extract')\n",
    "\n",
    "# df = pd.read_csv(directory+'CSV.csv',sep = ';',parse_dates=['Дата потребности'],dtype={'Материал':'str','Завод':'str'})\n",
    "sprav_po_kompl = get_in_backup(path_backup='backup.h5',name='sprav_po_kompl')\n",
    "sprav_mat_cal = get_in_backup(path_backup='backup.h5',name='sprav_mat_cal')\n",
    "sprav_mdlv = get_in_backup(path_backup='backup.h5',name='sprav_mdlv')\n",
    "sprav_nedra = get_in_backup(path_backup='backup.h5',name='sprav_nedra')\n",
    "central_zavod = get_in_backup(path_backup='backup.h5',name='central_zavod')\n",
    "group_mat = get_in_backup(path_backup='backup.h5',name='group_mat')\n",
    "A900 = get_in_backup(path_backup='backup.h5',name='A900')\n",
    "A902 = get_in_backup(path_backup='backup.h5',name='A902')\n",
    "KONP = get_in_backup(path_backup='backup.h5',name='KONP')\n",
    "ZMM_E0078_MDLV = get_in_backup(path_backup='backup.h5',name='ZMM_E0078_MDLV')\n",
    "filter_extract = get_in_backup(path_backup='backup.h5',name='filter_extract')\n",
    "filter_else = get_in_backup(path_backup='backup.h5',name='filter_else')\n",
    "df_str_zap = get_in_backup(path_backup='backup.h5',name='df_str_zap')\n",
    "ost_nach_perioda = get_in_backup(path_backup='backup.h5',name='ost_nach_perioda')\n",
    "sprav_mat_cal_last_full = get_in_backup(path_backup='backup.h5',name='sprav_mat_cal_last_full')\n",
    "sprav_spp = get_in_backup(path_backup='backup.h5',name='sprav_spp')\n",
    "spr_for_obl_ppm = get_in_backup(path_backup='backup.h5',name='spr_for_obl_ppm')\n",
    "T001W = get_in_backup(path_backup='backup.h5',name='T001W')\n",
    "ADRC = get_in_backup(path_backup='backup.h5',name='ADRC')\n",
    "TWLAD = get_in_backup(path_backup='backup.h5',name='TWLAD')\n",
    "T001L = get_in_backup(path_backup='backup.h5',name='T001L')\n",
    "ved_mat = get_in_backup(path_backup='backup.h5',name='ved_mat')\n",
    "KONH = get_in_backup(path_backup='backup.h5',name='KONH')\n",
    "MARM = get_in_backup(path_backup='backup.h5',name='MARM')"
   ]
  },
  {
   "cell_type": "code",
   "execution_count": null,
   "metadata": {},
   "outputs": [],
   "source": [
    "# загрузка источников\n",
    "\n",
    "\n",
    "df = pd.read_csv(directory+'CSV.csv',sep = ';',parse_dates=['Дата потребности'],dtype={'Материал':'str','Завод':'str'})\n",
    "sprav_po_kompl = pd.read_excel(directory+'Справочник по комплексам.xlsx',sheet_name='Комплекс',dtype={'Область ППМ':'str','Завод':'str'})\n",
    "sprav_mat_cal = exlsx_f(directory_mc)\n",
    "\n",
    "# ost_nach_perioda =  pd.read_excel(directory+'ost_nach_perioda.xlsx',sheet_name='sheet1')\n",
    "# ost_nach_perioda = get_in_backup(path_backup='backup_fine.h5',name='ost_nach_perioda')\n"
   ]
  },
  {
   "cell_type": "code",
   "execution_count": null,
   "metadata": {},
   "outputs": [],
   "source": [
    "sprav_mdlv = pd.read_excel(directory+'MDLV.xlsx',sheet_name='Sheet1')\n",
    "sprav_nedra = pd.read_excel(directory+'Справочник недрапользование.xlsx',sheet_name='Недра-ненедра')\n",
    "central_zavod = pd.read_excel(directory+'Справочник отношения Завода к центральному заводу.xlsx',sheet_name='Sheet1')\n",
    "group_mat = pd.read_excel(directory+'T023.xlsx',sheet_name='Sheet1',dtype={'Группа материалов':'str'})\n",
    "A900 = pd.read_excel(directory+'A900.xlsx',sheet_name='Sheet1',dtype={'Номер записи условий':'str'})\n",
    "A902 = pd.read_excel(directory+'A902.xlsx',sheet_name='Sheet1',dtype={'Номер записи условий':'str'})\n",
    "KONP = pd.read_excel(directory+'KONP.xlsx',sheet_name='Sheet1',dtype={'Номер записи условий':'str'})\n",
    "ZMM_E0078_MDLV = pd.read_excel(directory+'ZMM_E0078_MDLV.xlsx',sheet_name='Sheet1',dtype={'Область ППМ':'str','Код округа':'str'})\n",
    "filter_extract = pd.read_excel(directory+'filters.xlsx',sheet_name='filter_extract')\n",
    "filter_else = pd.read_excel(directory+'filters.xlsx',sheet_name='filter_else')\n",
    "# sprav_spp = pd.read_excel(directory+'СПП.xlsx',sheet_name='Sheet1')\n",
    "spr_for_obl_ppm = pd.read_excel(directory+'MDLG.xlsx',sheet_name='Sheet1')\n",
    "T001W = pd.read_excel(directory+'T001W.xlsx',sheet_name='Sheet1')"
   ]
  },
  {
   "cell_type": "code",
   "execution_count": null,
   "metadata": {},
   "outputs": [],
   "source": [
    "ADRC = pd.read_excel(directory+'ADRC.xlsx',sheet_name='Sheet1')\n",
    "TWLAD = pd.read_excel(directory+'TWLAD.xlsx',sheet_name='Sheet1')\n",
    "T001L = pd.read_excel(directory+'T001L.xlsx',sheet_name='Sheet1')\n",
    "ved_mat = pd.read_excel(directory+'Выгрузка по ведущему материалу.xlsx',sheet_name='Sheet1')"
   ]
  },
  {
   "cell_type": "code",
   "execution_count": null,
   "metadata": {},
   "outputs": [],
   "source": [
    "KONH = pd.read_excel(directory+'KONH.xlsx',sheet_name='Sheet1')\n",
    "MARM = pd.read_excel(directory+'MARM.xlsx',sheet_name='Sheet1')"
   ]
  },
  {
   "cell_type": "code",
   "execution_count": null,
   "metadata": {},
   "outputs": [],
   "source": [
    "A901 = pd.read_excel(directory+'A901.xlsx',sheet_name='Sheet1')"
   ]
  },
  {
   "cell_type": "code",
   "execution_count": null,
   "metadata": {},
   "outputs": [],
   "source": [
    "def func_KONH(x):\n",
    "    if x['Таблица']=='900':return x['Переменный ключ']\n",
    "    elif x['Таблица']=='901':return x['Переменный ключ'][4:]\n",
    "    elif x['Таблица']=='902':return x['Переменный ключ'][3:]\n",
    "    else:return 'пусто'    \n",
    "    \n",
    "KONH.fillna(0,inplace=True)\n",
    "KONP.fillna(0,inplace=True)\n",
    "MARM.fillna(0,inplace=True)\n",
    "\n",
    "KONP = KONP[KONP['Индикатор удаления']!='X']\n",
    "\n",
    "to_str_KONH = ['Номер записи условий','Таблица','Переменный ключ','Вид условия']\n",
    "for i in to_str_KONH:\n",
    "    KONH[i] = KONH[i].apply(lambda x: str(x).replace('.0','')).astype('str')\n",
    "    KONH[i] = KONH[i].apply(lambda x: '' if x=='0' else x)\n",
    "    \n",
    "to_str_KONP = ['Номер записи условий','Единица измерения','Вид условия','Валюта условия']\n",
    "for i in to_str_KONP:\n",
    "    KONP[i] = KONP[i].apply(lambda x: str(x).replace('.0','')).astype('str')\n",
    "    KONP[i] = KONP[i].apply(lambda x: '' if x=='0' else x)\n",
    "    \n",
    "KONH = KONH[(KONH['Вид условия']=='ZP00')&((KONH['Таблица']=='900')|(KONH['Таблица']=='901')|(KONH['Таблица']=='902'))]   \n",
    "KONH['Материал'] = KONH.apply(lambda x:func_KONH(x),axis = 1)\n",
    "\n",
    "KONH['округ'] = KONH.apply(lambda x: x['Переменный ключ'][:2] if x['Таблица']=='902' else 'пусто',axis = 1)\n",
    "KONH['Завод'] = KONH.apply(lambda x: x['Переменный ключ'][:4] if x['Таблица']=='901' else 'пусто',axis = 1)\n",
    "KONH.reset_index(drop = True,inplace = True)\n",
    "\n",
    "\n",
    "to_str_MARM = ['Материал','Альтернативная ЕИ']\n",
    "for i in to_str_MARM:\n",
    "    MARM[i] = MARM[i].apply(lambda x: str(x).replace('.0','')).astype('str')\n",
    "    MARM[i] = MARM[i].apply(lambda x: '' if x=='0' else x)\n",
    "\n",
    "\n",
    "for d in [A900,A901,A902]:\n",
    "    d['Номер записи условий'] =  d['Номер записи условий'].apply(lambda x: str(x).replace('.0','')).astype('str')\n",
    "    \n",
    "fil = KONH['Номер записи условий'].isin(pd.concat([A900['Номер записи условий'],A901['Номер записи условий'],A902['Номер записи условий']]).drop_duplicates())\n",
    "KONH = KONH[fil]  \n"
   ]
  },
  {
   "cell_type": "code",
   "execution_count": null,
   "metadata": {},
   "outputs": [],
   "source": [
    "KONP['Номер записи условий'] = KONP['Номер записи условий'].astype('int').astype('str')"
   ]
  },
  {
   "cell_type": "code",
   "execution_count": null,
   "metadata": {},
   "outputs": [],
   "source": [
    "# |||||||||||||||||||||блок обработка данных листа  extract\n",
    "# заполняю даты нулевыми если 0\n",
    "df['Дата потребности'] = df['Дата потребности'].apply(lambda x: '01.01.1900' if x =='00.00.0000' else  x)\n",
    "df['Дата потребности'] = [datetime.datetime(int(x.split('.')[2]),int(x.split('.')[1]),int(x.split('.')[0])) for x in df['Дата потребности'].values]\n",
    "# собираю дату с группировкой по месяцу\n",
    "month = df['Дата потребности'].apply(lambda x:  str(x.year)+'-'+str(x.month)+'-01'+ ' 00:00:00')\n",
    "month =pd.to_datetime(month) \n",
    "# заменяю символ - \n",
    "df['Количество потребности'] = df['Количество потребности'].str.replace('-','')\n",
    "df['Баланс (закрытие потребности)'] = df['Баланс (закрытие потребности)'].str.replace('-','')\n",
    "# Работаю с числами\n",
    "df['Вид документа потребности'] = df['Вид документа потребности'].astype('str')\n",
    "df['Вид документа пополнения'] = df['Вид документа пополнения'].astype('str')\n",
    "# меняем цифры на нормальные флоат\n",
    "replace_float(df,['Количество потребности','Количество пополнения','Баланс (закрытие потребности)'])\n",
    "\n",
    "df.fillna(0,inplace=True)\n",
    "sprav_po_kompl.fillna(0,inplace=True)\n",
    "sprav_nedra.fillna(0,inplace=True)\n",
    "T001W.fillna(0,inplace=True)"
   ]
  },
  {
   "cell_type": "code",
   "execution_count": null,
   "metadata": {},
   "outputs": [],
   "source": [
    "# заполняем дополнительные столбцы в экстракте\n",
    "\n",
    "# df = df[df['Дата потребности']<=datetime.datetime(2020,2,29)]\n",
    "df['Завод'] = df['Завод'].apply(lambda x: str(x).replace('.0','')).astype('str')\n",
    "spr_zav_dict = rev_to_dict(sprav_po_kompl['Завод'],sprav_po_kompl['ЦС/ПЗ'])\n",
    "df['ЦС/ПЗ'] = df['Завод'].apply(lambda x:  insert_vpr(x,spr_zav_dict,'ЦС/ПЗ'))\n",
    "df['Номер потребности'] = df['Номер потребности'].apply(lambda x: str(x).replace('.0','')).astype('str')\n",
    "df['МВЗ'] = df['МВЗ'].apply(lambda x: str(x).replace('.0','')).astype('str')\n",
    "df['Материал'] = df['Материал'].apply(lambda x: str(x).replace('.0','')).astype('str')\n",
    "\n",
    "df['Тип материала'] = df['Тип материала'].apply(lambda x: str(x).replace('.0','')).astype('str')\n",
    "df['БЕ'] = df['БЕ'].apply(lambda x: str(x).replace('.0','')).astype('str')\n",
    "\n",
    "\n",
    "\n",
    "# недропользование неполнятно\n",
    "spr_nedra = rev_to_dict(sprav_nedra['Завод + Склад'],sprav_nedra['Завод + Склад'])\n",
    "# df['Недропользование']= df['Завод'].apply(lambda x: insert_vpr(x,spr_nedra,'Завод'))   \n",
    "df['Склад потребности'] = df['Склад потребности'].apply(lambda x: str(x).replace('.0','')).astype('str')\n",
    "df['Завод + Склад'] = df['Завод']+' '+df['Склад потребности']\n",
    "df['Недропользование'] = df['Завод + Склад'].apply(lambda x: 0 if   insert_vpr(x,spr_nedra,'Завод + Склад')==0 else 1)\n",
    "\n",
    "# Вывод по докум-ам потребности\n",
    "df['Вывод по документам потребности'] = df.apply(lambda x: formula_vivod_po_doc_potrebn(x),axis=1 )\n",
    "\n",
    "\n",
    "df['Вывод по документам пополнения'] = df.apply(lambda x: formula_vivod_po_doc_popolneniya(x),axis=1 )\n",
    "\n",
    "\n",
    "df['Модуль'] = df.apply(lambda x: modul(x),axis=1 )\n",
    "\n",
    "\n",
    "df['Завод+НН'] = df['Завод'].astype('str')+' #'+df['Материал'].astype('str')\n",
    "df['Завод+НН'] = df['Завод+НН'].str.strip()\n",
    "\n",
    "df['Номер элемента пополнения'] = df['Номер элемента пополнения'].apply(lambda x: str(x).replace('.0',''))\n",
    "\n",
    "df['Номер элемента пополнения + Номер позиции пополнения'] = df['Номер элемента пополнения'].astype('str')+' '+df['Номер позиции пополнения'].astype('str')\n",
    "df['Материал'] = df['Материал'].apply(lambda x: '0'+str(x) if  len(str(x))<9 else x)\n",
    "\n",
    "\n",
    "sprav_mat_cal_last_full = sprav_mat_cal.copy()\n",
    "\n",
    "to_str_spr_mat = ['СтатусМтрл на заводе','Завод','Материал']\n",
    "\n",
    "for i in to_str_spr_mat:\n",
    "    sprav_mat_cal_last_full[i].fillna(0,inplace = True)\n",
    "    sprav_mat_cal_last_full[i] = sprav_mat_cal_last_full[i].apply(lambda x: str(x).replace('.0','')).astype('str')\n",
    "    sprav_mat_cal_last_full[i] = sprav_mat_cal_last_full[i].apply(lambda x: '' if x=='0' or x==0 else x)\n",
    "    sprav_mat_cal[i].fillna(0,inplace = True)\n",
    "    sprav_mat_cal[i] = sprav_mat_cal[i].apply(lambda x: str(x).replace('.0','')).astype('str')\n",
    "    sprav_mat_cal[i] = sprav_mat_cal[i].apply(lambda x: '' if x=='0' or x==0 else x)\n",
    "\n",
    "sprav_mat_cal_last_full['Материал'] = sprav_mat_cal_last_full['Материал'].apply(lambda x: '0'+str(x) if  len(str(x))<9 else x)\n",
    "\n",
    "sprav_mat_cal['Завод'] = sprav_mat_cal['Завод'].apply(lambda x: str(x).replace('.0','')).astype('str')\n",
    "sprav_mat_cal['Материал'] = sprav_mat_cal['Материал'].apply(lambda x: str(x).replace('.0','')).astype('str')\n",
    "sprav_mat_cal['Материал'] = sprav_mat_cal['Материал'].apply(lambda x: '0'+str(x) if  len(str(x))<9 else x)\n",
    "\n",
    "sprav_mat_cal = sprav_mat_cal[sprav_mat_cal['Материал'].isin(df['Материал'].unique())]\n",
    "\n",
    "\n",
    "\n",
    "df['Номер элемента пополнения + Номер позиции пополнения + Наименование типа элемента ППМ пополн'] = df['Номер элемента пополнения + Номер позиции пополнения'].astype('str')+ df.apply(lambda x: 'ПртПЗк' if x['Вид документа пополнения']=='UB05'else x['Наименование типа элемента ППМ пополн'] ,axis=1).astype('str')\n",
    "\n",
    "\n",
    "\n",
    "df['Номер элемента пополнения + Номер позиции пополнения'] = df['Номер элемента пополнения'].astype('str')+' '+df['Номер позиции пополнения'].astype('str')\n",
    "\n",
    "df['Область ППМ'] = df['Область ППМ'].apply(lambda x: str(x).replace('.0','')).astype('str')\n",
    "\n",
    "df['Область ППМ'] = df['Область ППМ'].apply(lambda x:\"\" if x=='0' else x)\n",
    "\n",
    "\n",
    "df['Завод + Область ППМ'] = df['Завод'].astype('str')+' '+df['Область ППМ'].astype('str')\n",
    "\n",
    "# чистим\n",
    "df['Завод + Область ППМ'] =  df['Завод + Область ППМ'].apply(lambda x: str(x).replace('0.0','').replace('.0','')).str.strip()\n",
    "\n",
    "\n",
    "\n",
    "\n",
    "spr_zav_obl =  rev_to_dict(sprav_mdlv['Область ППМ'].astype('str').str.strip(),sprav_mdlv['Текст ОблПланирПотр'])\n",
    "df['Имя Завода'] = df.apply(lambda x: insert_vpr(x['Завод'],spr_zav_obl,'Текст ОблПланирПотр')  if x['Область ППМ']=='' else insert_vpr(x['Область ППМ'],spr_zav_obl,'Текст ОблПланирПотр'),axis = 1 )\n",
    "\n",
    "\n",
    "spr_zav_kompl = rev_to_dict(sprav_po_kompl['Завод + Область ППМ'].astype('str').str.strip(),sprav_po_kompl['Комплекс'])\n",
    "df['Комплекс'] = df['Завод + Область ППМ'].apply(lambda x: insert_vpr(x,spr_zav_kompl,'Комплекс') )\n",
    "\n",
    "df['Заказчик + HH'] =df['Комплекс'].astype('str')+' '+df['Материал'].astype('str')\n",
    "\n",
    "\n",
    "df['month'] = df['Дата потребности'].apply(lambda x: str(x.year)+'-'+str(x.month)+ '-01')\n",
    "df['month'] = pd.to_datetime(df['month']) \n",
    "\n",
    "spr_obl_ppm = rev_to_dict(spr_for_obl_ppm['Завод'].apply(lambda x: str(x).replace('.0','')).astype('str')+spr_for_obl_ppm['Склад'].\\\n",
    "            apply(lambda x: str(x).replace('.0','')).astype('str'),spr_for_obl_ppm['Область ППМ'])\n",
    "df['Область ППМ']  = df\\\n",
    "                                    .apply(lambda x: x['Завод'] if    insert_vpr(x['Завод']+x['Склад потребности'],spr_obl_ppm,'Область ППМ')==0 else  \\\n",
    "                                     insert_vpr(x['Завод']+x['Склад потребности'],spr_obl_ppm,'Область ППМ'),axis = 1).astype('str')\n",
    "\n",
    "spr_kod_okruga = rev_to_dict(ZMM_E0078_MDLV['Область ППМ'].apply(lambda x: str(x).replace('.0',''))\\\n",
    "                             .astype('str').str.strip(),ZMM_E0078_MDLV['Код округа'])\n",
    "\n",
    "spr_kod_okruga1 = rev_to_dict(T001W['Завод'].apply(lambda x: str(x).replace('.0','')).astype('str'),\\\n",
    "            T001W['Код округа'].apply(lambda x: str(x).replace('.0','')).astype('str'))\n",
    "\n",
    "df['Код округа'] = df.apply(lambda x: insert_vpr(x['Завод'],spr_kod_okruga1,'Код округа') if insert_vpr(x['Область ППМ'],spr_kod_okruga,'Код округа')==0 else insert_vpr(x['Область ППМ'],spr_kod_okruga,'Код округа'),axis = 1).astype('str')\n",
    "\n",
    "central_zavod['Область ППМ'] = central_zavod['Область ППМ'].astype('str')\n",
    "spr_obl_ppm_centr_zav = rev_to_dict(central_zavod['Область ППМ'],central_zavod['Центральный Завод'])\n",
    "df['Центральный завод'] = df['Область ППМ'].apply(lambda x:  insert_vpr(x,spr_obl_ppm_centr_zav,'Центральный Завод'))\n",
    "\n",
    "spr_obl_ppm_centr_zav = rev_to_dict(sprav_mat_cal['Завод']+' #'+sprav_mat_cal['Материал'],sprav_mat_cal['Краткий текст материала'])\n",
    "df['КрТекстМатериала'] = df['Завод+НН'].apply(lambda x:  insert_vpr(x,spr_obl_ppm_centr_zav,'Краткий текст материала'))\n",
    "\n",
    "spr_obl_ppm_baz_ei = rev_to_dict(sprav_mat_cal['Завод']+' #'+sprav_mat_cal['Материал'],sprav_mat_cal['Базовая ЕИ'])\n",
    "df['Базовая ЕИ'] = df['Завод+НН'].apply(lambda x:  insert_vpr(x,spr_obl_ppm_baz_ei,'Базовая ЕИ'))\n",
    "\n",
    "spr_obl_ppm_ved_mat = rev_to_dict(sprav_mat_cal['Завод']+' #'+sprav_mat_cal['Материал'],sprav_mat_cal['Ведущий материал'])\n",
    "df['Признак аналога'] = df['Завод+НН'].apply(lambda x:  insert_vpr(x,spr_obl_ppm_ved_mat,'Ведущий материал'))\n",
    "\n",
    "spr_obl_ppm_stat_na_zav = rev_to_dict(sprav_mat_cal['Завод']+' #'+sprav_mat_cal['Материал'],sprav_mat_cal['СтатусМтрл на заводе'])\n",
    "df['СтатусМтрл на заводе'] = df['Завод+НН'].apply(lambda x:  insert_vpr(x,spr_obl_ppm_stat_na_zav,'СтатусМтрл на заводе'))\n",
    "\n",
    "\n",
    "spr_obl_ppm_ocenka = rev_to_dict(sprav_mat_cal['Материал'],sprav_mat_cal['Класс оценки'])\n",
    "df['Класс оценки'] = df['Материал'].apply(lambda x:  insert_vpr(x,spr_obl_ppm_ocenka,'Класс оценки'))\n",
    "df['Класс оценки'] = df['Класс оценки'].apply(lambda x: str(x).replace('.0','')).astype('str')\n",
    "\n",
    "\n",
    "\n",
    "\n",
    "spr_obl_ppm_name_planov= rev_to_dict(sprav_mat_cal['Завод']+' #'+sprav_mat_cal['Материал'],sprav_mat_cal['Имя плановика (завод)'])\n",
    "df['ЦЗ+НН'] = df['Центральный завод'].astype('str')+' #'+df['Материал'].astype('str')\n",
    "df['Плановик'] = df['ЦЗ+НН'].apply(lambda x:  insert_vpr(x,spr_obl_ppm_name_planov,'Имя плановика (завод)'))\n",
    "\n",
    "\n",
    "spr_group_mat_l1 = rev_to_dict(group_mat[group_mat['Группа материалов'].str.len()==2]['Группа материалов'],group_mat[group_mat['Группа материалов'].str.len()==2]['Обозначение 2 группы материалов'])\n",
    "df['группа'] = df['Материал'].str[:2].apply(lambda x:  insert_vpr(x,spr_group_mat_l1,'Обозначение 2 группы материалов'))\n",
    "\n",
    "spr_group_mat_l2 = rev_to_dict(group_mat[group_mat['Группа материалов'].str.len()==4]['Группа материалов'],group_mat[group_mat['Группа материалов'].str.len()==4]['Обозначение 2 группы материалов'])\n",
    "df['подгруппа'] = df['Материал'].str[:4].apply(lambda x:  insert_vpr(x,spr_group_mat_l2,'Обозначение 2 группы материалов'))\n",
    "\n",
    "\n",
    "spr_group_mat_l3 = rev_to_dict(group_mat[group_mat['Группа материалов'].str.len()==6]['Группа материалов'],group_mat[group_mat['Группа материалов'].str.len()==6]['Обозначение 2 группы материалов'])\n",
    "df['подподгруппа'] = df['Материал'].str[:6].apply(lambda x:  insert_vpr(x,spr_group_mat_l3,'Обозначение 2 группы материалов'))\n",
    "\n",
    "df['ТИП номенклатуры'] = 0.0\n",
    "\n",
    "\n",
    "\n",
    "# df = price_main__(df,A902,A900,KONP,current_date,pl_kurs)\n",
    "\n",
    "\n",
    "\n",
    "\n",
    "spr_zav_mat = rev_to_dict(sprav_mat_cal['Завод']+' '+sprav_mat_cal['Материал'],sprav_mat_cal['Плановый срок поставки (завод)'])\n",
    "df['Центральный завод'] = df['Центральный завод'].astype('str')\n",
    "for i in df.index:\n",
    "        try:\n",
    "            if df.at[i,'Недропользование']==1:df.at[i,'ПлановСрокПоставки'] =  spr_zav_mat[df.at[i,'Завод']+' '+df.at[i,'Материал']]['Плановый срок поставки (завод)']\n",
    "            else:df.at[i,'ПлановСрокПоставки'] = spr_zav_mat[df.at[i,'Центральный завод']+' '+df.at[i,'Материал']]['Плановый срок поставки (завод)']\n",
    "        except KeyError:\n",
    "            pass\n",
    "\n",
    "\n",
    "df.fillna(0,inplace=True)\n",
    "\n",
    "# копия для формирования страхового запаса\n",
    "df_str_zap = df.copy()\n",
    "# df_str_zap = df_str_zap[df_str_zap['Дата потребности']<=datetime.datetime(2020,2,29)]\n",
    "df_str_zap.name =  'df_str_zap'\n",
    "# df = df[df['Дата потребности']<=datetime.datetime(2020,2,29)]\n",
    "\n",
    "df = df[(df['ЦС/ПЗ']=='ПЗ')&(df['Вывод по документам потребности']=='OK')&(df['Баланс (закрытие потребности)']==0)&(df['Тип ППМ']=='PD')]\n",
    "df = df[df['Материал'].apply(lambda x:len(x)<=10)]\n",
    "df = df[df['Особый запас']!='Q']\n",
    "mat_cat_str_zap = sprav_mat_cal_last_full[sprav_mat_cal_last_full['Страховой запас']>0]\n",
    "df = pd.concat([df,mat_cat_str_zap[['Материал','Завод','Код округа','Страховой запас']]])\n",
    "\n",
    "\n",
    "\n",
    "\n"
   ]
  },
  {
   "cell_type": "code",
   "execution_count": null,
   "metadata": {},
   "outputs": [],
   "source": [
    "df = parallel_calc_fast(df,KONH,current_date,KONP,MARM,pl_kurs)\n",
    "\n"
   ]
  },
  {
   "cell_type": "code",
   "execution_count": null,
   "metadata": {},
   "outputs": [],
   "source": [
    "df.fillna(0,inplace = True)\n",
    "\n",
    "df['month'] =    df.apply(lambda x: datetime.datetime(2199,1,1)  if x['Страховой запас']>0 else x['month'],axis = 1)\n",
    "df['Дата потребности'] =    df.apply(lambda x: datetime.datetime(2199,1,1)  if x['Страховой запас']>0 else x['Дата потребности'],axis = 1)\n",
    "df['ЦС/ПЗ'] =  df.apply(lambda x: 'ПЗ'  if x['Страховой запас']>0 else x['ЦС/ПЗ'],axis = 1)\n",
    "df['Завод+НН'] = df['Завод'].astype('str')+' #'+df['Материал'].astype('str')\n",
    "df['Завод+НН'] = df['Завод+НН'].str.strip()\n",
    "df['Комплекс'] = df.apply(lambda x:  insert_vpr(x['Завод'],spr_zav_kompl,'Комплекс') if x['Комплекс']==0 else x['Комплекс'],axis = 1)\n",
    "df.reset_index(inplace = True,drop = True)"
   ]
  },
  {
   "cell_type": "code",
   "execution_count": null,
   "metadata": {},
   "outputs": [],
   "source": [
    "# backup\n",
    "ZMM_E0078_MDLV.name = 'ZMM_E0078_MDLV'\n",
    "df.name = 'extract'\n",
    "sprav_po_kompl.name = 'sprav_po_kompl'\n",
    "sprav_mdlv.name = 'sprav_mdlv'\n",
    "sprav_nedra.name = 'sprav_nedra'\n",
    "central_zavod.name = 'central_zavod'\n",
    "group_mat.name = 'group_mat'\n",
    "df.name = 'extract'\n",
    "sprav_mat_cal.name = 'sprav_mat_cal'\n",
    "KONP.name = 'KONP'\n",
    "A902.name = 'A902'\n",
    "A900.name = 'A900'\n",
    "filter_extract.name = 'filter_extract'\n",
    "filter_else.name = 'filter_else'\n",
    "sprav_mat_cal_last_full.name = 'sprav_mat_cal_last_full'\n",
    "\n",
    "spr_for_obl_ppm.name = 'spr_for_obl_ppm'\n",
    "T001W.name = 'T001W'\n",
    "ADRC.name = 'ADRC'\n",
    "TWLAD.name = 'TWLAD'\n",
    "T001L.name = 'T001L'\n",
    "ved_mat.name = 'ved_mat'\n",
    "KONH.name = 'KONH'\n",
    "MARM.name = 'MARM'\n",
    "A901.name = 'A901'\n",
    "\n",
    "save_backup('backup.h5',[sprav_mat_cal_last_full,sprav_mat_cal,KONP,df,A902,A900,ZMM_E0078_MDLV,sprav_po_kompl,sprav_mdlv,sprav_nedra,central_zavod,group_mat,filter_extract,filter_else,df_str_zap,spr_for_obl_ppm,T001W\\\n",
    "                        ,ADRC,TWLAD,T001L,ved_mat,KONH,MARM,A901])"
   ]
  },
  {
   "cell_type": "code",
   "execution_count": null,
   "metadata": {},
   "outputs": [],
   "source": [
    "df['month'] =    df.apply(lambda x: datetime.datetime(2199,1,1)  if x['Страховой запас']>0 else x['month'],axis = 1)\n",
    "df['Дата потребности'] =    df.apply(lambda x: datetime.datetime(2199,1,1)  if x['Страховой запас']>0 else x['Дата потребности'],axis = 1)"
   ]
  },
  {
   "cell_type": "code",
   "execution_count": null,
   "metadata": {},
   "outputs": [],
   "source": [
    "spr_zav_kompl"
   ]
  },
  {
   "cell_type": "code",
   "execution_count": null,
   "metadata": {},
   "outputs": [],
   "source": [
    "# ostatok = pd.read_excel(directory+'Выгрузки\\\\'+ost_name+'.xlsx',sheet_name='Sheet1')\n",
    "# ostatok['Ст-ть запаса в конце периода'] = ostatok['сумма USD']"
   ]
  },
  {
   "cell_type": "code",
   "execution_count": null,
   "metadata": {},
   "outputs": [],
   "source": [
    "ostatok = pd.read_excel(directory+'Выгрузки\\\\'+ost_name+'.xlsx',sheet_name='Sheet1')\n",
    "block_zapas = pd.read_excel(directory+'Блокированный запас.xlsx',sheet_name='Sheet1')\n",
    "spr_ost = pd.read_excel(directory+'Справочник_остатки.xlsx',sheet_name='Лист1')\n",
    "# ostatok['Ст-ть запаса в конце периода'] = ostatok['сумма USD']\n",
    "# to_str_spp = ['СПП-элемент','Место возникновения прибыли']\n",
    "\n",
    "# for i in to_str_spp:\n",
    "#     sprav_spp[i] = sprav_spp[i].apply(lambda x: str(x).replace('.0','')).astype('str')\n",
    "#     sprav_spp[i] = sprav_spp[i].apply(lambda x: '' if x=='0' or x==0 else x)\n",
    "\n",
    "spr_ost.fillna(0,inplace=True)\n",
    "ostatok.rename(columns={\"Кол-во запаса в конце периода (31.12.2019)\": \"Кол-во запаса в конце периода\"},inplace=True)\n",
    "\n",
    "spr_ost['Завод'] = spr_ost['Завод'].apply(lambda x: str(x).replace('.0','')).astype('str')\n",
    "spr_ost['Склад'] = spr_ost['Склад'].apply(lambda x: str(x).replace('.0','')).astype('str')\n",
    "spr_ost['Партия']  =spr_ost['Партия'].apply(lambda x: str(x).replace('.0','')).astype('str')\n",
    "\n",
    "ostatok.dropna(thresh=3,inplace=True)\n",
    "block_zapas.dropna(thresh=2,inplace=True)\n",
    "ostatok.fillna(0,inplace=True)\n",
    "# spr__spp = rev_to_dict(sprav_spp['СПП-элемент'],sprav_spp['Место возникновения прибыли'])\n",
    "# ostatok['Завод'] = ostatok.apply(lambda x: x['Завод'] if  insert_vpr(x['СПП-элемент'],spr__spp,'Место возникновения прибыли')==0 else\\\n",
    "#               insert_vpr(x['СПП-элемент'],spr__spp,'Место возникновения прибыли'),axis = 1)\n",
    "ostatok['Материал'] = ostatok['Материал'].apply(lambda x: str(x).replace('.0','')).astype('str')\n",
    "ostatok['Завод'] = ostatok['Завод'].apply(lambda x: str(x).replace('.0','')).astype('str')\n",
    "# ostatok['Завод'] = ostatok['Завод'].apply(lambda x: '' if x=='0' or x==0 else x)\n",
    "ostatok['Склад'] = ostatok['Склад'].apply(lambda x: str(x).replace('.0','')).astype('str')\n",
    "# ostatok['Склад'] = ostatok['Склад'].apply(lambda x: '' if x=='0' or x==0 else x)\n",
    "ostatok['Материал'] = ostatok['Материал'].apply(lambda x: '0'+str(x) if  len(str(x))<9 else x)\n",
    "ostatok['БЕ'] = ostatok['БЕ'].apply(lambda x: str(x).replace('.0','')).astype('str')\n",
    "ostatok['Основной счет'] = ostatok['Завод'].apply(lambda x: str(x).replace('.0','')).astype('str')\n",
    "\n",
    "\n",
    "ostatok['Партия'] = ostatok['Партия'].astype('str')\n",
    "\n",
    "spr_komplex_cs_pz = rev_to_dict(sprav_po_kompl['Завод'].astype('str'),sprav_po_kompl['ЦС/ПЗ'])\n",
    "\n",
    "ostatok['ЦС/ПЗ'] = ostatok['Завод'].apply(lambda x:  insert_vpr(x,spr_komplex_cs_pz,'ЦС/ПЗ'))\n",
    "ostatok['Завод+Склад'] = ostatok['Завод'].astype('str')+' '+ostatok['Склад'].astype('str')\n",
    "ostatok['Завод+Склад']  = ostatok['Завод+Склад'].astype('str')\n",
    "\n",
    "\n",
    "ostatok['Завод+склад+партия+особый запас+НН'] = ostatok['Завод'].astype('str')+' '+ostatok['Склад'].astype('str')+' '+ostatok['Партия'].astype('str')+' '+ostatok['Особый запас'].astype('str')+' '+ostatok['Материал'].astype('str')\n",
    "ostatok['Завод+Склад+Партия'] = ostatok['Завод'].astype('str')+' '+ostatok['Склад'].astype('str')+' '+ostatok['Партия'].astype('str')\n",
    "\n",
    "\n",
    "\n",
    "\n",
    "block_zapas.fillna(0,inplace=True)\n",
    "\n",
    "block_zapas['Номер материала'] = block_zapas['Номер материала'].apply(lambda x: str(x).replace('.0','')).astype('str')\n",
    "block_zapas['Завод'] = block_zapas['Завод'].apply(lambda x: str(x).replace('.0','')).astype('str')\n",
    "block_zapas['Склад'] = block_zapas['Склад'].apply(lambda x: str(x).replace('.0','')).astype('str')\n",
    "block_zapas['Особый запас'] = block_zapas['Особый запас'].astype('int')\n",
    "\n",
    "\n",
    "block_zapas['Завод+склад+партия+особый запас+НН'] = block_zapas['Завод'].astype('str')+' '+block_zapas['Склад'].astype('str')+' '+block_zapas['Партия'].astype('str')+' '+block_zapas['Особый запас'].astype('str')+' '+block_zapas['Номер материала'].astype('str')\n",
    "block_zapas.rename(columns={\"Номер материала\": \"Материал\",'Краткий текст материала':'КрТекстМатериала'},inplace=True)\n",
    "block_zapas = block_zapas[['Завод+склад+партия+особый запас+НН','Блокированный запас','Ст-ть/блок. запаса','Материал','Завод','Склад','Партия','Базовая ЕИ','КрТекстМатериала']].groupby(['Завод+склад+партия+особый запас+НН','Материал','Завод','Склад','Партия','Базовая ЕИ','КрТекстМатериала']).agg({'Блокированный запас':'sum','Ст-ть/блок. запаса':'sum'}).reset_index()\n",
    "ostatok.fillna(0,inplace=True)\n",
    "block_zapas = block_zapas[block_zapas['Завод+склад+партия+особый запас+НН']!='0 0 0 0 0']\n",
    "\n",
    "ostatok = pd.merge(ostatok,block_zapas,how='outer')\n",
    "ostatok.fillna(0,inplace=True)\n",
    "\n",
    "ostatok = ostatok[ostatok['Кол-во запаса в конце периода']>0]\n",
    "\n",
    "for index in ostatok.index:\n",
    "    if ostatok.at[index,'Блокированный запас']>0:\n",
    "        ostatok.at[index,'Ст-ть/блок. запаса'] = (ostatok.at[index,'Ст-ть запаса в конце периода']/ostatok.at[index,'Кол-во запаса в конце периода'])*ostatok.at[index,'Блокированный запас']\n",
    "        \n",
    "\n",
    "\n",
    "replace_float(ostatok,['Кол-во запаса в конце периода','Блокированный запас'])\n",
    "# ostatok['Cвободный запас'] = ostatok['Кол-во запаса в конце периода']-ostatok['Блокированный запас']\n",
    "ostatok['Cвободный запас'] = ostatok.apply(lambda x: 0 if (x['Кол-во запаса в конце периода']-x['Блокированный запас'])<=0 else x['Кол-во запаса в конце периода']-x['Блокированный запас'],axis = 1  )\n",
    "ostatok['Стоимость свободного остатка'] = ostatok.apply(lambda x: 0 if (x['Ст-ть запаса в конце периода']-x['Ст-ть/блок. запаса'])<=0 else x['Ст-ть запаса в конце периода']-x['Ст-ть/блок. запаса'],axis = 1  )\n",
    "# ostatok['E_Q_ALL'] = ostatok.apply(lambda x: Q_E_ALL(x),axis=1)\n",
    "# ostatok['Укрупненный Заказчик'] = ostatok.apply(lambda x:ukrup_zakaz(x),axis=1)\n",
    "\n",
    "# ostatok['Заказчик + HH'] =ostatok['Укрупненный Заказчик'].astype('str')+' '+ostatok['Материал'].astype('str')\n",
    "\n",
    "# zav_str = ostatok['Завод'].apply(lambda x: str(x).replace('.0','')).astype('str')\n",
    "ostatok['Завод+НН'] = ostatok['Завод'].astype('str')+' #'+ostatok['Материал'].astype('str')\n",
    "ostatok['Завод+НН'] = ostatok['Завод+НН'].str.strip()\n",
    "ostatok['Материал'] = ostatok['Материал'].astype('str')\n",
    "# ostatok['Неликвиды'] = ostatok.apply(lambda x: '#'+ x['Материал']+x['Укрупненный Заказчик'] if x['Укрупненный Заказчик']=='НЕЛИКВИДЫ' else 0,axis=1)\n",
    "spr_komplex_ost = rev_to_dict(spr_ost['Завод']+' '+spr_ost['Склад']+' '+spr_ost['Партия'],spr_ost['Комплекс'])\n",
    "ostatok['Комплекс'] = ostatok['Завод+Склад+Партия'].apply(lambda x: insert_vpr(x,spr_komplex_ost,'Комплекс') )\n",
    "\n",
    "spr__st_mrlt = rev_to_dict(sprav_mat_cal_last_full['Завод']+' #'+sprav_mat_cal_last_full['Материал'],sprav_mat_cal_last_full['СтатусМтрл на заводе'])\n",
    "ostatok['СтатусМтрл на заводе'] = ostatok.apply(lambda x:insert_vpr(x['Завод+НН'],spr__st_mrlt,'СтатусМтрл на заводе'),axis = 1 )\n",
    "\n",
    "# ind_ost = ostatok[(ostatok['СтатусМтрл на заводе']=='2')&(ostatok['ЦС/ПЗ']=='ЦС')].index\n",
    "# ostatok.loc[ind_ost,'Комплекс'] = 'НЕЛИКВИДЫ'\n",
    "\n",
    "ostatok['Заказчик + HH'] =ostatok['Комплекс'].astype('str')+' '+ostatok['Материал'].astype('str')\n",
    "\n",
    "ostatok['Категория запаса'] = ostatok.apply(lambda x:category_of_zapas(x),axis=1)\n",
    "\n",
    "ostatok['осталось'] = ostatok['Cвободный запас']\n",
    "# # перед группировкой заполнить none\n",
    "ostatok.fillna(0,inplace=True)\n",
    "\n",
    "\n",
    "fil = ostatok.apply(lambda x: True if ((x['Cвободный запас']+x['Блокированный запас']))-x['Кол-во запаса в конце периода']>0 and (x['Кол-во запаса в конце периода']-x['Блокированный запас'])<0 else False  ,axis = 1)\n",
    "dd = ostatok[fil].apply(lambda x:x['Кол-во запаса в конце периода']  if x['Кол-во запаса в конце периода']>0 else 0,axis = 1)\n",
    "for x in dd.index: ostatok.at[x,'Блокированный запас'] = dd[x]\n",
    "    \n",
    "    \n",
    "fil = ostatok.apply(lambda x: True if ((x['Стоимость свободного остатка']+x['Ст-ть/блок. запаса']))-x['Ст-ть запаса в конце периода']>0 and (x['Ст-ть запаса в конце периода']-x['Ст-ть/блок. запаса'])<0 else False  ,axis = 1)\n",
    "dd = ostatok[fil].apply(lambda x:x['Ст-ть запаса в конце периода']  if x['Ст-ть запаса в конце периода']>0 else 0,axis = 1)\n",
    "for x in dd.index: ostatok.at[x,'Ст-ть/блок. запаса'] = dd[x]    \n",
    "\n",
    "\n",
    "spis_st = ['Завод+НН','Материал','Завод','Завод+Склад','Склад','Партия','КрТекстМатериала','Валюта','Базовая ЕИ','Особый запас','Основной счет','Комплекс','Заказчик + HH','Категория запаса','Завод+склад+партия+особый запас+НН','ЦС/ПЗ']\n",
    "ost_start = ostatok.groupby(spis_st).agg({'Cвободный запас':'sum','Кол-во запаса в конце периода':'sum','Ст-ть запаса в конце периода':'sum','Блокированный запас':'sum','осталось':'sum','Стоимость свободного остатка':'sum','Ст-ть/блок. запаса':'sum'}).reset_index()\n",
    "\n",
    "\n",
    "\n",
    "\n",
    "\n",
    "spr_str_zap__= rev_to_dict(sprav_mat_cal_last_full['Завод']+sprav_mat_cal_last_full['Материал']+sprav_mat_cal_last_full['Код округа'],sprav_mat_cal_last_full['Страховой запас'])\n",
    "ost_start['страховой запас'] = (ost_start['Завод']+ost_start['Материал']+ost_start['Партия']).apply(lambda x:insert_vpr(x,spr_str_zap__,'Страховой запас') )\n",
    "\n",
    "\n",
    "ost_start['страховой запас_п'] = ost_start['страховой запас']\n",
    "ind__ = ost_start[ost_start.apply(lambda x: True if (x['осталось']-x['страховой запас'])<0  else False,axis = 1 )].index\n",
    "ost_start.loc[ind__,'страховой запас'] = ost_start.loc[ind__,'осталось']\n",
    "ost_start.loc[ind__,'осталось'] = 0\n",
    "ost_start['temp_razn_ost_str_zap'] = ost_start.apply(lambda x: x['осталось']-x['страховой запас'] if  (x['осталось']-x['страховой запас'])>0 and x['страховой запас']>0 and len(x['Партия'])==2  else 0,axis = 1)\n",
    "ost_start['занулить'] = ost_start.apply(lambda x:'да' if  (x['осталось']-x['страховой запас']==0) and x['страховой запас']>0 and len(x['Партия'])==2  else 0,axis = 1)\n",
    "ind_str_zap = ost_start[ost_start['temp_razn_ost_str_zap']>0].index\n",
    "ind_str_zanul = ost_start[ost_start['занулить']=='да'].index\n",
    "ost_start.loc[ind_str_zap,'осталось'] = ost_start.loc[ind_str_zap,'temp_razn_ost_str_zap']\n",
    "ost_start.loc[ind_str_zanul,'осталось'] = 0\n",
    "ind_ = ost_start[ost_start.apply(lambda x: True if x['страховой запас']>0 and  len(x['Партия'])>2 else False,axis = 1 )].index\n",
    "ost_start.loc[ind_,'страховой запас'] = 0\n",
    "\n",
    "\n",
    "\n",
    "\n",
    "ost_block = ost_start[(ost_start['Блокированный запас']>0)]\n",
    "ost_block.name = 'ost_block'\n",
    "\n",
    "\n",
    "ost_start_raspr = ost_start[(ost_start['осталось']>0)&(ost_start['Особый запас']!='Q')]\n",
    "ost_start_raspr_str_zap = ost_start[(ost_start['страховой запас']>0)&(ost_start['Особый запас']!='Q')]\n",
    "\n",
    "\n",
    "ost_start_raspr.name = 'ost_start_raspr'\n",
    "ost_start_raspr_str_zap.name = 'ost_start_raspr_str_zap'\n",
    "\n",
    "\n",
    "ost_start.name = 'ost_start'\n",
    "ostatok.name  = 'ostatok'\n",
    "block_zapas.name = 'block_zapas'\n",
    "# save_backup('backup.h5',[ost_start,ostatok,block_zapas,ost_start_raspr])"
   ]
  },
  {
   "cell_type": "code",
   "execution_count": null,
   "metadata": {},
   "outputs": [],
   "source": [
    "rashod = pd.read_excel(directory+'Выгрузки\\\\'+rash_name+'.xlsx',sheet_name='Sheet1')\n",
    "sprav_rashod = pd.read_excel(directory+'Справодник для расхода.xlsx',sheet_name='Расход')\n",
    "\n",
    "\n",
    "rashod.fillna(0,inplace=True)\n",
    "rashod['Материал'] = rashod['Материал'].apply(lambda x: str(x).replace('.0','')).astype('str')\n",
    "\n",
    "rashod['Материал'] = rashod['Материал'].apply(lambda x: '0'+str(x) if  len(str(x))<9 else x)\n",
    "rashod['Завод+НН'] = rashod['Завод'].astype('str')+' #'+rashod['Материал'].astype('str')\n",
    "rashod['Завод'] = rashod['Завод'].apply(lambda x: str(x).replace('.0','')).astype('str')\n",
    "rashod['Склад'] = rashod['Склад'].apply(lambda x: str(x).replace('.0','')).astype('str')\n",
    "# rashod['E_Q_ALL'] = rashod.apply(lambda x: Q_E_ALL_rash(x),axis=1)\n",
    "rashod['Завод+Склад'] = rashod.apply(lambda x:str(x['Завод'])+' '+str(x['Склад']),axis=1)\n",
    "rashod['Материал'] = rashod['Материал'].astype('str')\n",
    "\n",
    "rashod_dict =  rev_to_dict(sprav_rashod['Завод+склад'],sprav_rashod['Комплекс'])\n",
    "rashod['Комплекс'] = rashod['Завод+Склад'].apply(lambda x:insert_vpr(x,rashod_dict,name='Комплекс') )\n",
    "\n",
    "rashod['Вид движения'] = rashod['Вид движения'].astype('str')\n",
    "rashod  = rashod[rashod.apply(lambda x: list(x['Материал'])[-1]!='R'or x['Вид движения']!='262' ,axis = 1)] \n",
    "# # # # перед группировкой заполнить none\n",
    "\n",
    "\n",
    "\n",
    "\n",
    "\n",
    "\n",
    "rashod.fillna(0,inplace=True)\n",
    "spis_st_rash = ['Комплекс','Завод','Склад','Материал','Завод+НН','Особый запас']\n",
    "rashod_start = rashod.groupby(spis_st_rash).agg({'Кол-во в ЕИ ввода':'sum','Сумма во ВВ':'sum'}).reset_index()\n",
    "\n",
    "rashod_start['Кол-во в ЕИ ввода'] = rashod_start['Кол-во в ЕИ ввода']*-1\n",
    "\n",
    "rashod_start['Сумма во ВВ'] = rashod_start['Сумма во ВВ']*-1\n",
    "\n",
    "rashod_start = rashod_start[(rashod_start['Кол-во в ЕИ ввода']>0)&(rashod_start['Сумма во ВВ']>0)&(rashod_start['Комплекс']!='Не участвует в распределении')]\n",
    "\n",
    "\n",
    "\n",
    "rashod_start_raspr = rashod_start[rashod_start['Особый запас']!='Q']\n",
    "\n",
    "rashod_start.name = 'rashod_start'"
   ]
  },
  {
   "cell_type": "code",
   "execution_count": null,
   "metadata": {},
   "outputs": [],
   "source": [
    "prihod = pd.read_excel(directory+'Выгрузки\\\\'+prih_name+'.xlsx',sheet_name='Sheet1')\n",
    "sprav_prihod = pd.read_excel(directory+'Справодник для прихода.xlsx',sheet_name='Приход')\n",
    "prihod.fillna(0,inplace=True)\n",
    "\n",
    "prihod['Завод'] = prihod['Завод'].apply(lambda x: str(x).replace('.0','')).astype('str')\n",
    "prihod['Склад'] = prihod['Склад'].apply(lambda x: str(x).replace('.0','')).astype('str')\n",
    "prihod['Материал'] = prihod['Материал'].astype('str')\n",
    "prihod['Материал'] = prihod['Материал'].apply(lambda x: str(x).replace('.0','')).astype('str')\n",
    "prihod['Материал'] = prihod['Материал'].apply(lambda x: '0'+str(x) if  len(str(x))<9 else x)\n",
    "prihod['Завод+НН'] =prihod['Завод'].astype('str')+' #'+ prihod['Материал'].astype('str')\n",
    "prihod['Завод+Склад'] = prihod.apply(lambda x:str(x['Завод'])+' '+str(x['Склад']),axis=1)\n",
    "prihod_dict =  rev_to_dict(sprav_prihod['Завод+склад'],sprav_prihod['Комплекс'])\n",
    "prihod['Комплекс'] = prihod['Завод+Склад'].apply(lambda x:insert_vpr(x,prihod_dict,name='Комплекс') )\n",
    "prihod['Комплекс+НН'] = prihod['Комплекс'].astype('str')+' '+prihod['Материал'].astype('str')\n",
    "\n",
    "\n",
    "spis_st_prihod = ['Материал','Комплекс','Комплекс+НН','Особый запас','Завод+НН']\n",
    "# # перед группировкой заполнить none\n",
    "prihod.fillna(0,inplace=True)\n",
    "prihod_start = prihod.groupby(spis_st_prihod).agg({'Количество':'sum','Сумма во ВВ':'sum'}).reset_index()\n",
    "prihod_start = prihod_start[(prihod_start['Количество']>0) & (prihod_start['Сумма во ВВ']>0)&(prihod_start['Комплекс']!='Не участвует в распределении')]\n",
    "prihod_start_raspr = prihod_start[prihod_start['Особый запас']!='Q']\n",
    "prihod_start.name = 'prihod_start'\n"
   ]
  },
  {
   "cell_type": "code",
   "execution_count": null,
   "metadata": {},
   "outputs": [],
   "source": [
    "NB = pd.read_excel(directory+'NB.xlsx',sheet_name='Sheet1')\n",
    "NB = NB[~NB['Обозначение индикатора деблокирования'].isin(['блокиров.'])]\n",
    "spr_nb = pd.read_excel(directory+'Справодник для NB.xlsx',sheet_name='NB')\n",
    "NB.fillna(0,inplace = True)\n",
    "spr_nb.fillna(0,inplace = True)\n",
    "NB['Количество пополнения'] = NB['ЗатребованКолич']-NB['Заказанное к-во']\n",
    "NB['Завод'] = NB['Завод'].apply(lambda x: str(x).replace('.0','')).astype('str')\n",
    "NB['Склад'] = NB['Склад'].apply(lambda x: str(x).replace('.0','')).astype('str')\n",
    "\n",
    "NB['Заказ на поставку'] = NB['Заказ на поставку'].apply(lambda x: str(x).replace('.0','')).astype('str')\n",
    "NB['Позиция ЗкзНаПостав'] = NB['Позиция ЗкзНаПостав'].apply(lambda x: str(x).replace('.0','')).astype('str')\n",
    "\n",
    "NB['Материал'] = NB['Материал'].apply(lambda x: str(x).replace('.0','')).astype('str')\n",
    "NB['Материал'] = NB['Материал'].apply(lambda x: '0'+str(x) if  len(str(x))<9 else x)\n",
    "NB['Склад'] = NB['Склад'].apply(lambda x: '' if x=='0' else x)\n",
    "NB['Завод+Склад'] = NB['Завод']+' '+NB['Склад']\n",
    "# NB['Завод+Склад'] = NB['Завод+Склад'].str.strip()\n",
    "spr_nb1 = rev_to_dict(spr_nb['Завод + Склад'],spr_nb['Комплекс'])\n",
    "NB['Комплекс'] = NB['Завод+Склад'].apply(lambda x: insert_vpr(x,spr_nb1,'Комплекс'))\n",
    "NB['Комплекс'] = NB['Комплекс'].apply(lambda x: str(x).replace('.0','')).astype('str')\n",
    "NB['Комплекс+Маттериал'] = NB['Комплекс']+' '+NB['Материал']\n",
    "NB['Количество пополнения'] = NB['Количество пополнения'].apply(lambda x:0 if x<0 else x)\n",
    "NB = NB[NB['Обозначение индикатора деблокирования']!='Тендер завершен']"
   ]
  },
  {
   "cell_type": "code",
   "execution_count": null,
   "metadata": {},
   "outputs": [],
   "source": [
    "ZNB = pd.read_excel(directory+'ZNB.xlsx',sheet_name='Sheet1')\n",
    "UB05 = pd.read_excel(directory+'UB05.xlsx',sheet_name='Sheet1')\n",
    "spr_znb = pd.read_excel(directory+'Справодник для ZNB.xlsx',sheet_name='ZNB')\n",
    "ZNB.fillna(0,inplace=True)\n",
    "ZNB['Материал'] = ZNB['Материал'].apply(lambda x: str(x).replace('.0','')).astype('str')\n",
    "ZNB['Материал'] = ZNB['Материал'].apply(lambda x: '0'+str(x) if  len(str(x))<9 else x)\n",
    "ZNB['Документ закупки'] = ZNB['Документ закупки'].apply(lambda x: str(x).replace('.0','')).astype('str')\n",
    "ZNB['Позиция'] = ZNB['Позиция'].apply(lambda x: str(x).replace('.0','')).astype('str')\n",
    "ZNB['Документ закупки + Позиция'] = ZNB['Документ закупки'].astype('str')+' '+ZNB['Позиция'].astype('str')\n",
    "UB05['Материал'] = UB05['Материал'].apply(lambda x: str(x).replace('.0','')).astype('str')\n",
    "UB05['Материал'] = UB05['Материал'].apply(lambda x: '0'+str(x) if  len(str(x))<9 else x)\n",
    "UB05['Документ закупки'] = UB05['Документ закупки'].apply(lambda x: str(x).replace('.0','')).astype('str')\n",
    "UB05['Позиция'] = UB05['Позиция'].apply(lambda x: str(x).replace('.0','')).astype('str')\n",
    "UB05['Документ закупки + позиция'] = UB05['Документ закупки'].astype('str')+' '+UB05['Позиция'].astype('str')\n",
    "UB05['Заявка'] = UB05['Заявка'].apply(lambda x: str(x).replace('.0','')).astype('str')\n",
    "UB05['Позиция заявки'] = UB05['Позиция заявки'].apply(lambda x: str(x).replace('.0','')).astype('str')\n",
    "UB05['Заявка + Позиция заявки'] = UB05['Заявка'].astype('str')+' '+UB05['Позиция заявки'].astype('str')\n",
    "spr_UB05 = rev_to_dict(UB05['Документ закупки + позиция'],UB05['Заявка + Позиция заявки'])\n",
    "ZNB['Заявка + Позиция (для UB05 по ДП)'] = ZNB['Документ закупки + Позиция'].apply(lambda x:  insert_vpr(x,spr_UB05,'Заявка + Позиция заявки'))\n",
    "ZNB['Номер элемента пополнения + Номер позиции пополнения + Наименование типа элемента ППМ пополн'] = ZNB.apply(lambda x: x['Документ закупки + Позиция'] if  x['Заявка + Позиция (для UB05 по ДП)']==0 else x['Заявка + Позиция (для UB05 по ДП)'] ,axis = 1)+'АвизОт'\n",
    "tab_avizot  = df_str_zap.groupby('Номер элемента пополнения + Номер позиции пополнения + Наименование типа элемента ППМ пополн').agg({'Количество пополнения':'sum'})\n",
    "ZNB= pd.merge(ZNB,tab_avizot,how='left',on=['Номер элемента пополнения + Номер позиции пополнения + Наименование типа элемента ППМ пополн'])\n",
    "ZNB['Склад'] = ZNB['Склад'].apply(lambda x: str(x).replace('.0','')).astype('str')\n",
    "ZNB['Склад'] = ZNB['Склад'].apply(lambda x: '' if x==0 or x =='0' else x)\n",
    "ZNB['Завод'] = ZNB['Завод'].apply(lambda x: str(x).replace('.0','')).astype('str')\n",
    "spr_nb_ = rev_to_dict(NB['Заказ на поставку']+' '+NB['Позиция ЗкзНаПостав'],NB['Завод+Склад'])\n",
    "ZNB['Завод+Склад'] = ZNB.apply(lambda x:x['Завод']+' '+x['Склад']  \\\n",
    "          if  insert_vpr(x['Документ закупки + Позиция'],spr_nb_,'Завод+Склад')==0\\\n",
    "          else insert_vpr(x['Документ закупки + Позиция'],spr_nb_,'Завод+Склад'),axis = 1  )\n",
    "\n",
    "\n",
    "spr_znb_ = rev_to_dict(spr_znb['Завод+склад'],spr_znb['Комплекс'])\n",
    "ZNB['Комплекс']=ZNB['Завод+Склад'].apply(lambda x:  insert_vpr(x,spr_znb_,'Комплекс'))\n",
    "ZNB['Комплекс+Маттериал'] = ZNB['Комплекс'].astype('str')+' '+ZNB['Материал'].astype('str')\n",
    "ZNB['Завод+НН'] = ZNB['Завод'].astype('str')+' #'+ZNB['Материал'].astype('str')\n",
    "ZNB.fillna(0,inplace=True)\n",
    "\n"
   ]
  },
  {
   "cell_type": "code",
   "execution_count": null,
   "metadata": {},
   "outputs": [],
   "source": [
    "# для прт пзк\n",
    "ZNB1 = pd.read_excel(directory+'ZNB.xlsx',sheet_name='Sheet1')\n",
    "UB05 = pd.read_excel(directory+'UB05.xlsx',sheet_name='Sheet1')\n",
    "spr_znb = pd.read_excel(directory+'Справодник для ZNB.xlsx',sheet_name='ZNB')\n",
    "ZNB1.fillna(0,inplace = True)\n",
    "ZNB1['Материал'] = ZNB1['Материал'].apply(lambda x: str(x).replace('.0','')).astype('str')\n",
    "ZNB1['Материал'] = ZNB1['Материал'].apply(lambda x: '0'+str(x) if  len(str(x))<9 else x)\n",
    "ZNB1['Документ закупки'] = ZNB1['Документ закупки'].apply(lambda x: str(x).replace('.0','')).astype('str')\n",
    "ZNB1['Позиция'] = ZNB1['Позиция'].apply(lambda x: str(x).replace('.0','')).astype('str')\n",
    "ZNB1['Документ закупки + Позиция'] = ZNB1['Документ закупки'].astype('str')+' '+ZNB1['Позиция'].astype('str')\n",
    "UB05['Документ закупки'] = UB05['Документ закупки'].apply(lambda x: str(x).replace('.0','')).astype('str')\n",
    "UB05['Документ закупки + позиция'] = UB05['Документ закупки'].astype('str')+' '+UB05['Позиция'].astype('str')\n",
    "UB05['Заявка + Позиция заявки'] = UB05['Заявка'].astype('str')+' '+UB05['Позиция заявки'].astype('str')\n",
    "spr_UB05 = rev_to_dict(UB05['Документ закупки + позиция'],UB05['Заявка + Позиция заявки'])\n",
    "ZNB1['Заявка + Позиция (для UB05 по ДП)'] = ZNB1['Документ закупки + Позиция'].apply(lambda x:  insert_vpr(x,spr_UB05,'Заявка + Позиция заявки'))\n",
    "ZNB1['Номер элемента пополнения + Номер позиции пополнения + Наименование типа элемента ППМ пополн'] = ZNB1.apply(lambda x: x['Документ закупки + Позиция'] if  x['Заявка + Позиция (для UB05 по ДП)']==0 else x['Заявка + Позиция (для UB05 по ДП)'] ,axis = 1)+'ПртПЗк'\n",
    "tab_avizot  = df_str_zap.groupby('Номер элемента пополнения + Номер позиции пополнения + Наименование типа элемента ППМ пополн').agg({'Количество пополнения':'sum'})\n",
    "ZNB1= pd.merge(ZNB1,tab_avizot,how='left',on=['Номер элемента пополнения + Номер позиции пополнения + Наименование типа элемента ППМ пополн'])\n",
    "ZNB1['Склад'] = ZNB1['Склад'].apply(lambda x: str(x).replace('.0','')).astype('str')\n",
    "ZNB1['Склад'] = ZNB1['Склад'].apply(lambda x: '' if x==0 or x=='0' else x)\n",
    "ZNB1['Завод'] = ZNB1['Завод'].apply(lambda x: str(x).replace('.0','')).astype('str')\n",
    "ZNB1['Завод+Склад'] = ZNB1.apply(lambda x:x['Завод']+' '+x['Склад']  \\\n",
    "          if  insert_vpr(x['Документ закупки + Позиция'],spr_nb_,'Завод+Склад')==0\\\n",
    "          else insert_vpr(x['Документ закупки + Позиция'],spr_nb_,'Завод+Склад'),axis = 1  )\n",
    "spr_znb_ = rev_to_dict(spr_znb['Завод+склад'],spr_znb['Комплекс'])\n",
    "ZNB1['Комплекс']=ZNB1['Завод+Склад'].apply(lambda x:  insert_vpr(x,spr_znb_,'Комплекс'))\n",
    "ZNB1['Комплекс+Маттериал'] = ZNB1['Комплекс'].astype('str')+' '+ZNB1['Материал'].astype('str')\n",
    "ZNB1['Завод+НН'] = ZNB1['Завод'].astype('str')+' #'+ZNB1['Материал'].astype('str')\n",
    "ZNB1.fillna(0,inplace=True)"
   ]
  },
  {
   "cell_type": "code",
   "execution_count": null,
   "metadata": {},
   "outputs": [],
   "source": [
    "if  (0 in NB['Комплекс'].unique())==False and ('0' in NB['Комплекс'].unique())==False:\n",
    "    print('В nb Комплекс подтянулся полностю')\n",
    "else:\n",
    "    print('В nb Комплекс НЕ ПОДТЯНУЛСЯ',str(NB['Комплекс'].value_counts()['0'])+' Позиции')\n",
    "if (0 in ZNB1['Комплекс'].unique())==False and ('0' in ZNB1['Комплекс'].unique())==False:\n",
    "    print('В ZNB1 Комплекс подтянулся полностю')\n",
    "else:\n",
    "    print('В ZNB1 Комплекс НЕ ПОДТЯНУЛСЯ',str(ZNB1['Комплекс'].value_counts()[0])+' Позиций')\n",
    "if (0 in ZNB['Комплекс'].unique())==False and  ('0' in ZNB['Комплекс'].unique())==False:\n",
    "    print('В ZNB Комплекс подтянулся полностю')\n",
    "else:\n",
    "    print('В ZNB Комплекс НЕ ПОДТЯНУЛСЯ',str(ZNB['Комплекс'].value_counts()[0])+' Позиций')"
   ]
  },
  {
   "cell_type": "code",
   "execution_count": null,
   "metadata": {},
   "outputs": [],
   "source": [
    "NZ = df_str_zap[df_str_zap['Краткое наименование элемента ППМ']=='СтрЗап']\n",
    "NZ_gr = ['Материал','Завод','Комплекс','Заказчик + HH','БЕ']\n",
    "# перед группировкой заполнить none\n",
    "NZ.fillna(0,inplace=True)\n",
    "NZ_start = NZ.groupby(NZ_gr).agg({'Количество потребности':'sum'}).reset_index()\n",
    "NZ_start['Завод+НН']  =  NZ_start['Завод'].astype('str')+' #'+NZ_start['Материал'].astype('str')\n",
    "NZ_start.name = 'NZ'\n",
    "NZ_start.fillna(0,inplace = True)"
   ]
  },
  {
   "cell_type": "code",
   "execution_count": null,
   "metadata": {},
   "outputs": [],
   "source": [
    "# Запуск распределения остатков\n",
    "# date_start_year = datetime.datetime(2019,1,1)\n",
    "# current_date = datetime.datetime(2020,1,1)\n",
    "df['index'] = [x for x in range(len(df))]\n",
    "df['del'] = ''\n",
    "df.reset_index(inplace = True,drop = True)\n",
    "\n",
    "potr_copy = df[df['Страховой запас']>0].copy()\n",
    "index___ = potr_copy[potr_copy['Страховой запас']>0].index\n",
    "potr_copy.loc[index___,'Количество потребности'] = potr_copy.loc[index___,'Страховой запас']\n",
    "potr_copy['Завод+НН'] = potr_copy['Завод'].astype('str')+' #'+potr_copy['Материал'].astype('str')\n",
    "potr_copy['Завод+НН'] = potr_copy['Завод+НН'].str.strip()\n",
    "ost_copy = ost_start_raspr_str_zap.copy()\n",
    "ost_copy['осталось'] = ost_copy['страховой запас']\n",
    "ost_copy['ЦС/ПЗ']='ПЗ'\n",
    "potr_copy.name = 'potrebn_with_raspr_ost'\n",
    "ost_copy.name =  'ost_with_potr'\n",
    "# Запуск распределения остатков\n",
    "potr_copy['Распределение_остатака'] = 0.000000\n",
    "potr_copy['Сумма_распреденного_остатка'] = 0.000000\n",
    "\n",
    "\n",
    "ostat(ost_st=ost_copy,potr_st=potr_copy,filters=filter_else,current_date = current_date,all_months=True,\\\n",
    "     col_name_0='осталось',col_name_1='Распределение_остатака',col_name_2 = 'Количество потребности',col_name_3 = 'Стоимость свободного остатка',col_name_4 = 'Cвободный запас',col_name_5 = 'Сумма_распреденного_остатка')    \n",
    "potr_copy.loc[index___,'Количество потребности'] = 0"
   ]
  },
  {
   "cell_type": "code",
   "execution_count": null,
   "metadata": {},
   "outputs": [],
   "source": [
    "start_time = time.time()\n",
    "# Запуск распределения остатков\n",
    "# date_start_year = datetime.datetime(2019,1,1)\n",
    "# current_date = datetime.datetime(2019,10,1)\n",
    "potr_copy1 = df[(df['Страховой запас']==0)&].copy()\n",
    "\n",
    "ost_copy1 = ost_start_raspr.copy()\n",
    "potr_copy1.name = 'potrebn_with_raspr_ost'\n",
    "ost_copy1.name =  'ost_with_potr'\n",
    "# Запуск распределения остатков\n",
    "potr_copy1['Распределение_остатака'] = 0.000000\n",
    "potr_copy1['Сумма_распреденного_остатка'] = 0.000000\n",
    "\n",
    "ostat(ost_st=ost_copy1,potr_st=potr_copy1,filters=filter_else,current_date = current_date,all_months=True,\\\n",
    "     col_name_0='осталось',col_name_1='Распределение_остатака',col_name_2 = 'Количество потребности',col_name_3 = 'Стоимость свободного остатка',col_name_4 = 'Cвободный запас',col_name_5 = 'Сумма_распреденного_остатка')\n",
    "print(\"--- %s seconds ---\" % (time.time() - start_time))"
   ]
  },
  {
   "cell_type": "code",
   "execution_count": null,
   "metadata": {},
   "outputs": [],
   "source": [
    "potr_copy_cons = pd.concat([potr_copy1,potr_copy])\n",
    "potr_copy_cons.reset_index(inplace = True,drop = True)"
   ]
  },
  {
   "cell_type": "code",
   "execution_count": null,
   "metadata": {},
   "outputs": [],
   "source": [
    "potr_copy_cons.name = '03_20_potr_copy'\n",
    "save_backup('potr_copy_cons.h5',[potr_copy_cons])\n",
    "ost_copy1.name = '03_20_ost_copy1'\n",
    "save_backup('potr_copy_cons.h5',[ost_copy1])"
   ]
  },
  {
   "cell_type": "code",
   "execution_count": null,
   "metadata": {},
   "outputs": [],
   "source": []
  },
  {
   "cell_type": "code",
   "execution_count": null,
   "metadata": {
    "scrolled": true
   },
   "outputs": [],
   "source": [
    "start_time = time.time()\n",
    "potr_avizot = potr_copy_cons.copy()\n",
    "avizot_copy = ZNB.copy()\n",
    "potr_avizot.name = 'potr_avizot'\n",
    "avizot_copy.name =  'avizot_copy'\n",
    "potr_avizot['avizot'] = 0.000000\n",
    "avizot_copy['осталось'] = avizot_copy['Количество пополнения']\n",
    "avizot_raspr(ost_st=avizot_copy,potr_st=potr_avizot,filters=filter_else,current_date = current_date,all_months=True)\n",
    "print(\"--- %s seconds ---\" % (time.time() - start_time))"
   ]
  },
  {
   "cell_type": "code",
   "execution_count": null,
   "metadata": {},
   "outputs": [],
   "source": [
    "start_time = time.time()\n",
    "potr_prt_pzk = potr_avizot.copy()\n",
    "prt_pzk_copy = ZNB1.copy()\n",
    "potr_prt_pzk.name = 'potr_prt_pzk'\n",
    "prt_pzk_copy.name =  'prt_pzk_copy'\n",
    "potr_prt_pzk['законтрактовано'] = 0.000000\n",
    "prt_pzk_copy['осталось'] = prt_pzk_copy['Количество пополнения']\n",
    "prt_pzk(ost_st=prt_pzk_copy,potr_st=potr_prt_pzk,filters=filter_else,current_date = current_date,all_months=True)\n",
    "print(\"--- %s seconds ---\" % (time.time() - start_time))"
   ]
  },
  {
   "cell_type": "code",
   "execution_count": null,
   "metadata": {},
   "outputs": [],
   "source": [
    "start_time = time.time()\n",
    "potr_NB = potr_prt_pzk.copy()\n",
    "NB_copy = NB[NB['Обозначение индикатора деблокирования']!='Тендер завершен'].copy()\n",
    "potr_NB.name = 'potr_NB'\n",
    "NB_copy.name =  'NB_copy'\n",
    "potr_NB['NB'] = 0.000000\n",
    "NB_copy['осталось'] = NB_copy['Количество пополнения']\n",
    "NB_raspr(ost_st=NB_copy,potr_st=potr_NB,filters=filter_else,current_date = current_date,all_months=True)\n",
    "print(\"--- %s seconds ---\" % (time.time() - start_time))"
   ]
  },
  {
   "cell_type": "code",
   "execution_count": null,
   "metadata": {
    "scrolled": true
   },
   "outputs": [],
   "source": [
    "start_time = time.time()\n",
    "potr_str_zapas = potr_NB.copy()\n",
    "NZ_copy = NZ_start.copy()\n",
    "potr_str_zapas.name = 'potr_str_zapas'\n",
    "NZ_copy.name =  'NZ_copy'\n",
    "potr_str_zapas['стрЗапас'] = 0.000000\n",
    "NZ_copy['осталось'] = NZ_copy['Количество потребности']\n",
    "str_zap_raspr(ost_st=NZ_copy,potr_st=potr_str_zapas,filters=filter_else,current_date = current_date,all_months=True)\n",
    "vst = NZ_copy[(NZ_copy['осталось']>0)&(NZ_copy['Количество потребности']>0)]\n",
    "vst['Завод+НН'] = vst['Завод'].astype('str')+' #'+vst['Материал'].astype('str')\n",
    "print(\"--- %s seconds ---\" % (time.time() - start_time))"
   ]
  },
  {
   "cell_type": "code",
   "execution_count": null,
   "metadata": {},
   "outputs": [],
   "source": [
    "# распределение расхода\n",
    "start_time = time.time()\n",
    "\n",
    "\n",
    "# col_name_0 название столбца откуда рпспределяем\n",
    "# col_name_1 навание с толбца куда распределяем\n",
    "# col_name_2 название столбца с количеством потребности\n",
    "# col_name_5 название столбца куда распределяем сумму\n",
    "# Для цены:\n",
    "# col_name_3 название столбца с суммой потребности\n",
    "# col_name_4 название столбца с начальным кол-вом  потребности\n",
    "\n",
    "potr_copy_for_rashod = potr_str_zapas.copy()\n",
    "rashod_copy = rashod_start_raspr.copy()\n",
    "potr_copy_for_rashod.name = 'potr_copy_for_rashod'\n",
    "rashod_copy.name =  'rashod_copy'\n",
    "# Запуск распределения остатков\n",
    "potr_copy_for_rashod['Распределение_расхода'] = 0.000000\n",
    "potr_copy_for_rashod['Сумма_распреденного_расхода'] = 0.000000\n",
    "rashod_copy['осталось'] = rashod_copy['Кол-во в ЕИ ввода']\n",
    "\n",
    "rashod_raspr(ost_st=rashod_copy,potr_st=potr_copy_for_rashod,filters=filter_else,current_date = current_date,all_months=True,col_name_0 ='осталось',col_name_1 ='Распределение_расхода', col_name_2 = 'Количество потребности',col_name_3 ='Сумма во ВВ',col_name_4 = 'Кол-во в ЕИ ввода',col_name_5 = 'Сумма_распреденного_расхода') \n",
    "print(\"--- %s seconds ---\" % (time.time() - start_time))\n",
    "\n",
    "# проверка:\n",
    "raspr_rashod = rashod_copy[(rashod_copy['осталось']==0)&(rashod_copy['Кол-во в ЕИ ввода']>0)]['Кол-во в ЕИ ввода'].sum()\n",
    "neraspr_rashod =  rashod_copy[(rashod_copy['осталось']>0)&(rashod_copy['Кол-во в ЕИ ввода']>0)]['Кол-во в ЕИ ввода'].sum()\n",
    "Q_rashod =  rashod_start[rashod_start['Особый запас']=='Q']['Кол-во в ЕИ ввода'].sum()\n",
    "raspr_rashod_money = rashod_copy[(rashod_copy['осталось']==0)&(rashod_copy['Кол-во в ЕИ ввода']>0)]['Сумма во ВВ'].sum()\n",
    "neraspr_rashod_money =  rashod_copy[(rashod_copy['осталось']>0)&(rashod_copy['Кол-во в ЕИ ввода']>0)]['Сумма во ВВ'].sum()\n",
    "Q_rashod_money =  rashod_start[rashod_start['Особый запас']=='Q']['Сумма во ВВ'].sum()"
   ]
  },
  {
   "cell_type": "code",
   "execution_count": null,
   "metadata": {},
   "outputs": [],
   "source": [
    "start_time = time.time()\n",
    "potr_copy_for_prihod = potr_copy_for_rashod.copy()\n",
    "prihod_copy = prihod_start_raspr.copy()\n",
    "potr_copy_for_prihod.name = 'potr_copy_for_prihod'\n",
    "prihod_copy.name =  'prihod_copy'\n",
    "# Запуск распределения остатков\n",
    "potr_copy_for_prihod['Распределение_прихода'] = 0.000000\n",
    "potr_copy_for_prihod['Сумма_распреденного_прихода'] = 0.000000\n",
    "prihod_copy['осталось'] = prihod_copy['Количество']\n",
    "\n",
    "prihod_raspr(ost_st=prihod_copy,potr_st=potr_copy_for_prihod,filters=filter_else,current_date = current_date,all_months=True,col_name_0 ='осталось',col_name_1 ='Распределение_прихода', col_name_2 = 'Количество потребности',col_name_3 ='Сумма во ВВ',col_name_4 = 'Количество',col_name_5 = 'Сумма_распреденного_прихода') \n",
    "print(\"--- %s seconds ---\" % (time.time() - start_time))\n",
    "\n",
    "raspr_prihod = prihod_copy[(prihod_copy['осталось']==0)&(prihod_copy['Количество']>0)]['Количество'].sum()\n",
    "neraspr_prihod =  prihod_copy[(prihod_copy['осталось']>0)&(prihod_copy['Количество']>0)]['Количество'].sum()\n",
    "Q_prihod =   prihod_start[prihod_start['Особый запас']=='Q']['Количество'].sum()\n",
    "raspr_prihod_sum = prihod_copy[(prihod_copy['осталось']==0)&(prihod_copy['Количество']>0)]['Сумма во ВВ'].sum()\n",
    "neraspr_prihod_sum =  prihod_copy[(prihod_copy['осталось']>0)&(prihod_copy['Количество']>0)]['Сумма во ВВ'].sum()\n",
    "Q_prihod_sum =   prihod_start[prihod_start['Особый запас']=='Q']['Сумма во ВВ'].sum()"
   ]
  },
  {
   "cell_type": "code",
   "execution_count": null,
   "metadata": {},
   "outputs": [],
   "source": [
    "potr_copy_for_prihod.name = '03_20'\n",
    "save_backup('tto.h5',[potr_copy_for_prihod])"
   ]
  },
  {
   "cell_type": "code",
   "execution_count": null,
   "metadata": {},
   "outputs": [],
   "source": [
    "potr_copy_for_prihod = get_in_backup(path_backup='tto.h5',name='02_20')"
   ]
  },
  {
   "cell_type": "code",
   "execution_count": null,
   "metadata": {},
   "outputs": [],
   "source": [
    "potr_copy_for_prihod.name = '02_20_usd_raspr_ost'\n",
    "save_backup('tto.h5',[potr_copy_for_prihod])"
   ]
  },
  {
   "cell_type": "code",
   "execution_count": null,
   "metadata": {
    "scrolled": true
   },
   "outputs": [],
   "source": [
    "# проверка распределения остатка и формирование сцепки с основным листом\n",
    "# работа пок онсолидаци остатков\n",
    "\n",
    "ost_Q = ost_start[(ost_start['Cвободный запас']>0)&(ost_start['Особый запас']=='Q')]\n",
    "ost_Q['Признак Q остатка'] = True\n",
    "\n",
    "ost_Q1 = ost_start[(ost_start['Cвободный запас']==0)&(ost_start['Особый запас']!='Q')]    \n",
    "\n",
    "ost_Q  = pd.concat([ost_Q,ost_Q1])\n",
    "ost_Q.fillna(0,inplace=True)\n",
    "\n",
    "ff = ost_block[['Завод+склад+партия+особый запас+НН','Блокированный запас','Завод+НН','Комплекс','Партия']]\n",
    "ost_with_block  =  pd.merge(ost_copy1,ff,how='outer')\n",
    "ost_with_block.fillna(0,inplace = True)\n",
    "\n",
    "ost_copy1['Cвободный запас'] = ost_copy1['осталось']\n",
    "ost_copy1['Стоимость свободного остатка'] = (ost_copy1['Ст-ть запаса в конце периода']    / ost_copy1['Кол-во запаса в конце периода']) * ost_copy1['осталось']\n",
    "# 1составляющая нераспределенный остаток\n",
    "neraspr_ostat_tab = ost_copy1[(ost_copy1['осталось']>0)&(ost_copy1['Cвободный запас']>0)][['Комплекс','Завод+НН','Cвободный запас','Стоимость свободного остатка','Партия']].groupby(['Комплекс','Завод+НН','Партия']).sum().reset_index()\n",
    "neraspr_ostat_tab['Признак нераспределнного остатка'] = True\n",
    "# 2составляющая нераспределенный остаток\n",
    "ost_Q_tab = ost_Q[['Признак Q остатка','Комплекс','Завод+НН','Cвободный запас','Стоимость свободного остатка','Базовая ЕИ','Материал','Партия']].groupby(['Комплекс','Завод+НН','Партия']).sum().reset_index()\n",
    "# ost_Q_tab['Признак Q остатка'] = 0\n",
    "\n",
    "\n",
    "ost1 = neraspr_ostat_tab[['Комплекс','Завод+НН','Cвободный запас','Стоимость свободного остатка','Партия']]\n",
    "\n",
    "\n",
    "\n",
    "# 11111111111111111111111\n",
    "ost2 = ost_Q_tab[['Комплекс','Завод+НН','Cвободный запас','Стоимость свободного остатка','Партия']]\n",
    "ost2['Признак Q остатка'] = True\n",
    "\n",
    "\n",
    "\n",
    "\n",
    "ost_ner_q_t = pd.concat([ost1]).groupby(['Комплекс','Завод+НН','Партия']).sum()\n",
    "\n",
    "one = pd.merge(ost_ner_q_t,neraspr_ostat_tab[['Комплекс','Завод+НН','Признак нераспределнного остатка','Партия']],how='left',on=['Комплекс','Завод+НН','Партия'])\n",
    "one = one.groupby(['Комплекс','Завод+НН','Партия']).sum().reset_index()\n",
    "\n",
    "# # \n",
    "two  = pd.merge(one,ost_Q_tab[['Комплекс','Завод+НН','Партия']],how='outer',on=['Комплекс','Завод+НН','Партия'])\n",
    "stoim_bl_zap =  ost_start[['Комплекс','Завод+НН','Ст-ть/блок. запаса','Партия']].groupby(['Комплекс','Завод+НН','Партия']).sum().reset_index()\n",
    "\n",
    "\n",
    "aa = stoim_bl_zap.groupby(['Комплекс','Завод+НН','Партия']).sum().reset_index()\n",
    "bb = ost_with_block[['Комплекс','Завод+НН','Блокированный запас','Ст-ть/блок. запаса','Партия']]\n",
    "bb['Ст-ть/блок. запаса'] = 0\n",
    "\n",
    "ost_dlya_scepki = pd.merge(aa,bb,how='outer').fillna(0).groupby(['Комплекс','Завод+НН','Партия']).sum().reset_index()\n",
    "\n",
    "tottal_ost  = pd.merge(two,ost_dlya_scepki,how='outer').fillna(0)\n",
    "\n",
    "a = ost_Q[['Комплекс','Завод+НН','Признак Q остатка','Партия']]\n",
    "tottal_ost = pd.concat([tottal_ost,a[a['Признак Q остатка']==True].drop_duplicates()])\n",
    "# tottal_ost = pd.merge(tottal_ost,a[a['Признак Q остатка']==True].drop_duplicates(),how='left',on=['Завод+НН','Комплекс'])\n",
    "tottal_ost.rename(columns={\"Cвободный запас\": \"Распределение_остатака\",'Стоимость свободного остатка':'Сумма_распреденного_остатка'},inplace=True)\n",
    "ost2.rename(columns={\"Cвободный запас\": \"Распределение_остатака\",'Стоимость свободного остатка':'Сумма_распреденного_остатка'},inplace=True)\n",
    "tottal_ost = pd.concat([tottal_ost,ost2])\n",
    "tottal_ost = tottal_ost.reset_index(drop=True)\n",
    "\n",
    "tottal_ost = tottal_ost.loc[tottal_ost[['Распределение_остатака','Ст-ть/блок. запаса','Сумма_распреденного_остатка','Партия']].dropna(how = 'all').index]\n",
    "\n",
    "f_tr = tottal_ost.apply(lambda x: True if x['Партия'][:2].isalpha() and x['Партия'][-2:].isalpha()==False else False,axis = 1)\n",
    "for ind in tottal_ost[f_tr].index:\n",
    "    st = tottal_ost.loc[ind,'Завод+НН'].split(' ')\n",
    "    st[0] = tottal_ost.loc[ind,'Партия'][-4:]\n",
    "    tottal_ost.loc[ind,'Завод+НН'] = ' '.join(st)\n",
    "    \n",
    "tottal_ost.drop('Партия',axis = 1,inplace = True)\n",
    "tottal_ost.fillna(0,inplace = True)\n",
    "ggttt = tottal_ost[f_tr].copy()\n",
    "tottal_ost = tottal_ost.groupby(['Завод+НН','Комплекс','Признак Q остатка','Признак нераспределнного остатка']).sum().reset_index()\n",
    "\n",
    "\n",
    "# raspr_prihod = prihod_copy[(prihod_copy['осталось']==0)&(prihod_copy['Количество']>0)]['Количество'].sum()\n",
    "neraspr_prihod_tab =  prihod_copy[(prihod_copy['осталось']>0)&(prihod_copy['Количество']>0)]\n",
    "Q_prihod_tab =   prihod_start[prihod_start['Особый запас']=='Q']\n",
    "\n",
    "tab_ner_sc_prihod= neraspr_prihod_tab[['Комплекс','Завод+НН','Количество','Сумма во ВВ']].groupby(['Комплекс','Завод+НН']).sum().reset_index()\n",
    "tab_ner_sc_prihod['Признак нераспределенного прихода'] = True\n",
    "tab_Q_sc_prihod =   Q_prihod_tab[['Комплекс','Завод+НН','Количество','Сумма во ВВ']].groupby(['Комплекс','Завод+НН']).sum().reset_index()\n",
    "tab_Q_sc_prihod['Признак Q прихода'] = True\n",
    "\n",
    "\n",
    "tab_prihod = pd.concat([tab_ner_sc_prihod[['Комплекс','Завод+НН','Количество','Сумма во ВВ']]]).groupby(['Комплекс','Завод+НН']).sum().reset_index()\n",
    "# ,tab_Q_sc_prihod[['Комплекс','Завод+НН','Количество','Сумма во ВВ']]\n",
    "\n",
    "one_prihod = pd.merge(tab_prihod,tab_ner_sc_prihod[['Комплекс','Завод+НН','Признак нераспределенного прихода']],how='left')\n",
    "\n",
    "# tab_prihod_with_cons = pd.merge(one_prihod,tab_Q_sc_prihod[['Комплекс','Завод+НН','Признак Q прихода']],how='left').fillna(0)\n",
    "\n",
    "tab_prihod_with_cons = pd.concat([one_prihod,tab_Q_sc_prihod[['Комплекс','Завод+НН','Признак Q прихода']]])\n",
    "\n",
    "tab_prihod_with_cons.rename(columns={\"Количество\": \"Распределение_прихода\",'Сумма во ВВ':'Сумма_распреденного_прихода'},inplace=True)\n",
    "\n",
    "tab_Q_sc_prihod.rename(columns={\"Количество\": \"Распределение_прихода\",'Сумма во ВВ':'Сумма_распреденного_прихода'},inplace=True)\n",
    "tab_prihod_with_cons = pd.concat([tab_Q_sc_prihod,tab_prihod_with_cons])\n",
    "tab_prihod_with_cons = tab_prihod_with_cons.reset_index(drop=True)\n",
    "tab_prihod_with_cons = tab_prihod_with_cons.loc[tab_prihod_with_cons[['Распределение_прихода','Сумма_распреденного_прихода']].dropna(how = 'all').index]\n",
    "\n",
    "\n",
    "\n",
    "# работа по консолидации расхода\n",
    "\n",
    "# raspr_rashod_tab = rashod_copy[(rashod_copy['осталось']==0)&(rashod_copy['Кол-во в ЕИ ввода']>0)]\n",
    "neraspr_rashod_tab =  rashod_copy[(rashod_copy['осталось']>0)&(rashod_copy['Кол-во в ЕИ ввода']>0)]\n",
    "Q_rashod_tab =  rashod_start[rashod_start['Особый запас']=='Q']\n",
    "\n",
    "tab_ner_sc_rashod = neraspr_rashod_tab[['Комплекс','Завод+НН','Кол-во в ЕИ ввода','Сумма во ВВ']].groupby(['Комплекс','Завод+НН']).sum().reset_index()\n",
    "tab_ner_sc_rashod['Признак нераспределенного расхода'] = True\n",
    "tab_Q_sc_rashod =   Q_rashod_tab[['Комплекс','Завод+НН','Кол-во в ЕИ ввода','Сумма во ВВ']].groupby(['Комплекс','Завод+НН']).sum().reset_index()\n",
    "tab_Q_sc_rashod['Признак Q расхода'] = True\n",
    "tab_rashod = pd.concat([tab_ner_sc_rashod[['Комплекс','Завод+НН','Кол-во в ЕИ ввода','Сумма во ВВ']]]).groupby(['Комплекс','Завод+НН']).sum().reset_index()\n",
    "one_rashod = pd.merge(tab_rashod,tab_ner_sc_rashod[['Комплекс','Завод+НН','Признак нераспределенного расхода']],how='left')\n",
    "\n",
    "# tab_rashod_with_cons = pd.merge(one_rashod,tab_Q_sc_rashod[['Комплекс','Завод+НН','Признак Q расхода']],how='left').fillna(0)\n",
    "\n",
    "tab_rashod_with_cons = pd.concat([one_rashod,tab_Q_sc_rashod[['Комплекс','Завод+НН','Признак Q расхода']]])\n",
    "\n",
    "\n",
    "tab_rashod_with_cons.rename(columns={\"Кол-во в ЕИ ввода\": \"Распределение_расхода\",'Сумма во ВВ':'Сумма_распреденного_расхода'},inplace=True)\n",
    "\n",
    "\n",
    "tab_Q_sc_rashod.rename(columns={\"Кол-во в ЕИ ввода\": \"Распределение_расхода\",'Сумма во ВВ':'Сумма_распреденного_расхода'},inplace=True)\n",
    "\n",
    "tab_rashod_with_cons = pd.concat([tab_Q_sc_rashod,tab_rashod_with_cons])\n",
    "# ,tab_Q_sc_rashod[['Комплекс','Завод+НН','Кол-во в ЕИ ввода','Сумма во ВВ']]\n",
    "\n",
    "tab_rashod_with_cons = tab_rashod_with_cons.reset_index(drop=True)\n",
    "tab_rashod_with_cons = tab_rashod_with_cons.loc[tab_rashod_with_cons[['Распределение_расхода','Сумма_распреденного_расхода']].dropna(how = 'all').index]\n",
    "\n",
    "\n",
    "tab_rashod_with_cons['Q']  =tab_rashod_with_cons['Признак Q расхода']\n",
    "tab_prihod_with_cons['Q'] = tab_prihod_with_cons['Признак Q прихода']\n",
    "pre_low_part = pd.merge(tab_rashod_with_cons,tab_prihod_with_cons,how='outer',on=['Комплекс','Завод+НН','Q'])\n",
    "\n",
    "tottal_ost['Q'] = tottal_ost['Признак Q остатка']\n",
    "\n",
    "pre_low_part2 = pd.merge(pre_low_part,tottal_ost,how='outer',on=['Комплекс','Завод+НН','Q']).fillna(0)\n",
    "\n",
    "arr_str_zap  = vst.groupby(['Завод+НН','Комплекс']).agg({'Количество потребности':'sum'}).reset_index()\n",
    "arr_str_zap.rename(columns={'Количество потребности':'стрЗапас'},inplace=True)\n",
    "arr_str_zap['Признак Q остатка'] = 0\n",
    "pre_low_part3 = pd.merge(pre_low_part2,arr_str_zap,how='outer',on=['Комплекс','Завод+НН','Признак Q остатка']).fillna(0)\n",
    "\n",
    "sprav_mat_cal['Завод+НН'] = sprav_mat_cal['Завод'].astype('str')+' #'+sprav_mat_cal['Материал'].astype('str')\n",
    "sprav_mat_cal.drop_duplicates('Завод+НН',inplace=True)\n",
    "sprav_mat_cal_soed = sprav_mat_cal[['Завод+НН','Имя плановика (завод)','Класс оценки','СтатусМтрл на заводе','Ведущий материал','Базовая ЕИ','Краткий текст материала']]\n",
    "sprav_mat_cal_soed.rename(columns={'Имя плановика (завод)':'Плановик'},inplace=True)\n",
    "\n",
    "\n",
    "pre_low_part3 = pd.merge(pre_low_part3,sprav_mat_cal_soed,how='left',on='Завод+НН')\n",
    "\n",
    "potr_with_ostatok_total = pd.concat([potr_copy_for_prihod,pre_low_part3]).fillna(0)\n",
    "\n",
    "# справочник для материала\n",
    "mater = pd.concat([df[['Завод+НН','Материал']],NZ_start[['Завод+НН','Материал']],ZNB[['Завод+НН','Материал']],ostatok[['Завод+НН','Материал']],prihod[['Завод+НН','Материал']],rashod[['Завод+НН','Материал']]]).drop_duplicates()\n",
    "\n",
    "\n",
    "\n",
    "# подключаем материал к общему фрейму\n",
    "potr_with_ostatok_total = pd.merge(potr_with_ostatok_total.drop(['Материал'],axis=1),mater,how='left',on='Завод+НН').fillna(0)\n",
    "# potr_with_ostatok_total = pd.merge(potr_with_ostatok_total.drop('БЕ',axis=1),BE,how='left',on='Завод+НН').fillna(0)\n",
    "\n",
    "potr_with_ostatok_total.reset_index(inplace=True)\n",
    "\n",
    "\n",
    "# красота"
   ]
  },
  {
   "cell_type": "code",
   "execution_count": null,
   "metadata": {},
   "outputs": [],
   "source": [
    "# баланс количества остатка\n",
    "int(potr_with_ostatok_total['Распределение_остатака'].sum()+potr_with_ostatok_total['Блокированный запас'].sum()-ostatok['Кол-во запаса в конце периода'].sum())"
   ]
  },
  {
   "cell_type": "code",
   "execution_count": null,
   "metadata": {
    "scrolled": true
   },
   "outputs": [],
   "source": [
    "# баланс суммы остатка\n",
    "int(potr_with_ostatok_total['Ст-ть/блок. запаса'].sum() + potr_with_ostatok_total['Сумма_распреденного_остатка'].sum()-ostatok['Ст-ть запаса в конце периода'].sum())"
   ]
  },
  {
   "cell_type": "code",
   "execution_count": null,
   "metadata": {},
   "outputs": [],
   "source": [
    "# баланс количества прихода\n",
    "int(potr_with_ostatok_total['Распределение_прихода'].sum()-(raspr_prihod+neraspr_prihod+Q_prihod))"
   ]
  },
  {
   "cell_type": "code",
   "execution_count": null,
   "metadata": {},
   "outputs": [],
   "source": [
    "#  баланс суммы прихода\n",
    "int(potr_with_ostatok_total['Сумма_распреденного_прихода'].sum()-(raspr_prihod_sum+neraspr_prihod_sum+Q_prihod_sum))"
   ]
  },
  {
   "cell_type": "code",
   "execution_count": null,
   "metadata": {},
   "outputs": [],
   "source": [
    "#  баланс количества расхода\n",
    "int(potr_with_ostatok_total['Распределение_расхода'].sum()-(raspr_rashod+neraspr_rashod+Q_rashod))"
   ]
  },
  {
   "cell_type": "code",
   "execution_count": null,
   "metadata": {},
   "outputs": [],
   "source": [
    "#  баланс суммы расхода\n",
    "int(potr_with_ostatok_total['Сумма_распреденного_расхода'].sum()-(raspr_rashod_money+neraspr_rashod_money+Q_rashod_money))"
   ]
  },
  {
   "cell_type": "code",
   "execution_count": null,
   "metadata": {},
   "outputs": [],
   "source": [
    "int(potr_with_ostatok_total['Распределение_расхода'].sum()-abs(rashod_start['Кол-во в ЕИ ввода'].sum()))"
   ]
  },
  {
   "cell_type": "code",
   "execution_count": null,
   "metadata": {},
   "outputs": [],
   "source": [
    "int(potr_with_ostatok_total['Сумма_распреденного_расхода'].sum()-abs(rashod_start['Сумма во ВВ'].sum()))"
   ]
  },
  {
   "cell_type": "code",
   "execution_count": null,
   "metadata": {},
   "outputs": [],
   "source": [
    "int(potr_with_ostatok_total['Распределение_прихода'].sum()-abs(prihod_start['Количество'].sum()))"
   ]
  },
  {
   "cell_type": "code",
   "execution_count": null,
   "metadata": {},
   "outputs": [],
   "source": [
    "int(potr_with_ostatok_total['Сумма_распреденного_прихода'].sum()-abs(prihod_start['Сумма во ВВ'].sum()))"
   ]
  },
  {
   "cell_type": "code",
   "execution_count": null,
   "metadata": {},
   "outputs": [],
   "source": [
    "int(potr_with_ostatok_total['стрЗапас'].sum()-NZ_start['Количество потребности'].sum())"
   ]
  },
  {
   "cell_type": "code",
   "execution_count": null,
   "metadata": {},
   "outputs": [],
   "source": [
    "# цепляем остаток на начало периода\n",
    "# potr_with_ostatok_total = pd.merge(potr_with_ostatok_total,ost_nach_perioda,on=['Категория ТМЦ','Завод+НН','Комплекс'],how='left').reset_index()"
   ]
  },
  {
   "cell_type": "code",
   "execution_count": null,
   "metadata": {},
   "outputs": [],
   "source": [
    "# potr_with_ostatok_total = get_in_backup(path_backup='backup_for_powerBI_test_no.h5',name='f0_vertical_10')\n",
    "# potr_copy_for_prihod = get_in_backup(path_backup='raspro.h5',name='prihod')\n",
    "potr_with_ostatok_total = get_in_backup(path_backup='backup_for_powerBI_test_no.h5',name='f0_vertical_02_20_')"
   ]
  },
  {
   "cell_type": "code",
   "execution_count": null,
   "metadata": {},
   "outputs": [],
   "source": [
    "# Сразу после распределения \n",
    "potr_copy_for_prihod.name = 'prihod_03_20_'\n",
    "save_backup('raspro.h5',[potr_copy_for_prihod])"
   ]
  },
  {
   "cell_type": "code",
   "execution_count": null,
   "metadata": {},
   "outputs": [],
   "source": [
    "# potr_with_ostatok_total.name = 'f0_vertical_08'\n",
    "# save_backup('backup_for_powerBI.h5',[potr_with_ostatok_total])\n",
    "potr_with_ostatok_total.name = 'f0_vertical_03_20_'\n",
    "save_backup('backup_for_powerBI_test_no.h5',[potr_with_ostatok_total])"
   ]
  },
  {
   "cell_type": "code",
   "execution_count": null,
   "metadata": {},
   "outputs": [],
   "source": [
    "# potr_with_ostatok_total.name = 'f0_vertical_08'\n",
    "# save_backup('backup_for_powerBI.h5',[potr_with_ostatok_total])\n",
    "# potr_with_ostatok_total.name = 'f0_vertical_03_20_usd_raspr'\n",
    "# save_backup('backup_for_powerBI_test_no.h5',[potr_with_ostatok_total])"
   ]
  },
  {
   "cell_type": "code",
   "execution_count": null,
   "metadata": {
    "scrolled": true
   },
   "outputs": [],
   "source": [
    "potr_with_ostatok_total['Комплекс'].unique()"
   ]
  },
  {
   "cell_type": "code",
   "execution_count": null,
   "metadata": {},
   "outputs": [],
   "source": [
    "# формирование f0\n",
    "\n",
    "potr_with_ostatok_total['Завод']  = potr_with_ostatok_total['Завод+НН'].str.split(' #').apply(lambda x: x[0])\n",
    "spr_zav_obl =  rev_to_dict(sprav_mdlv['Область ППМ'].astype('str').str.strip(),sprav_mdlv['Текст ОблПланирПотр'])\n",
    "\n",
    "\n",
    "potr_with_ostatok_total['стрЗапас'] = potr_with_ostatok_total['Страховой запас']\n",
    "fr_bad = potr_with_ostatok_total[(potr_with_ostatok_total['Блокированный запас']>0)&(potr_with_ostatok_total['Распределение_остатака']>0)]\n",
    "potr_with_ostatok_total.loc[fr_bad.index,['Распределение_остатака','Сумма_распреденного_остатка','Распределение_прихода','Сумма_распреденного_прихода','Распределение_расхода','Сумма_распреденного_расхода','avizot','стрЗапас']]    = 0\n",
    "fr_bad.loc[:,['Блокированный запас','Ст-ть/блок. запаса']]=0\n",
    "potr_with_ostatok_total = pd.concat([potr_with_ostatok_total,fr_bad],axis=0,ignore_index=True)\n",
    "potr_with_ostatok_total['Комплекс'] = potr_with_ostatok_total['Комплекс'].astype('str')\n",
    "potr_with_ostatok_total['Категория ТМЦ'] = potr_with_ostatok_total.apply(lambda x: func_cat_tmc(x),axis = 1)\n",
    "ind____  = potr_with_ostatok_total[potr_with_ostatok_total['стрЗапас']>0].index\n",
    "potr_with_ostatok_total.loc[ind____,'Категория ТМЦ'] = 'страховой запас'\n",
    "\n",
    "\n",
    "\n",
    "potr_with_ostatok_total['Заказ'] = potr_with_ostatok_total['Заказ'].apply(lambda x: str(x).replace('.0',''))\n",
    "potr_with_ostatok_total['month'] = potr_with_ostatok_total['month'].apply( lambda x: datetime.datetime(1900,1,1) if x==0 else x)\n",
    "potr_with_ostatok_total['Имя Завода + Материал + Заказ'] = potr_with_ostatok_total['Имя Завода'].astype('str')+' '+potr_with_ostatok_total['Материал'].astype('str')+' '+potr_with_ostatok_total['Заказ'].astype('str')\n",
    "potr_with_ostatok_total['Код округа + Материал'] = potr_with_ostatok_total['Код округа'].astype('str')+' '+potr_with_ostatok_total['Материал'].astype('str')\n",
    "potr_with_ostatok_total['Сумма потребности'] = potr_with_ostatok_total['Количество потребности']*potr_with_ostatok_total['Цена']\n",
    "potr_with_ostatok_total['Сумма стрЗап'] = potr_with_ostatok_total['стрЗапас']*potr_with_ostatok_total['Цена']\n",
    "potr_with_ostatok_total.reset_index(inplace=True,drop = True)\n",
    "\n",
    "fil = potr_with_ostatok_total[potr_with_ostatok_total['Категория ТМЦ']=='ТНСЗ']\n",
    "\n",
    "potr_with_ostatok_total.loc[fil.index,'Распределение_остатака'] = potr_with_ostatok_total.loc[fil.index,'Распределение_остатака']+ potr_with_ostatok_total.loc[fil.index,'Блокированный запас'] \n",
    "potr_with_ostatok_total.loc[fil.index,'Сумма_распреденного_остатка'] =potr_with_ostatok_total.loc[fil.index,'Сумма_распреденного_остатка']+ potr_with_ostatok_total.loc[fil.index,'Ст-ть/блок. запаса']  \n",
    "\n",
    "\n",
    "\n",
    "# potr_with_ostatok_total.reset_index(inplace=True)\n",
    "\n",
    "# # торо\n",
    "potr_with_ostatok_total['ТОРО'] = 0\n",
    "toro = potr_with_ostatok_total[ (potr_with_ostatok_total['Заказ'].str.startswith('1')) & (potr_with_ostatok_total['Вид документа потребности']=='AR')  ]\n",
    "potr_with_ostatok_total.loc[toro.index,'ТОРО'] = 'ТОРО'\n",
    "# # РР\n",
    "potr_with_ostatok_total['РР'] = 0\n",
    "pp = potr_with_ostatok_total[((potr_with_ostatok_total['Заказ'].str.startswith('2')) & (potr_with_ostatok_total['Вид документа потребности']=='AR'))  |  (potr_with_ostatok_total['Вид документа потребности']=='SB') ]\n",
    "potr_with_ostatok_total.loc[pp.index,'РР'] = 'РР'\n",
    "# # прочее\n",
    "potr_with_ostatok_total['ПРОЧЕЕ'] = 0\n",
    "prochee =  potr_with_ostatok_total[(potr_with_ostatok_total['Вид документа потребности']=='Z1') | (potr_with_ostatok_total['Вид документа потребности']=='UB02')  ]\n",
    "potr_with_ostatok_total.loc[prochee.index,'ПРОЧЕЕ'] = 'ПРОЧЕЕ'\n",
    "\n",
    "\n",
    "# для вставки модуля\n",
    "rr = potr_with_ostatok_total.copy()\n",
    "potr_with_ostatok_total['ТОРО'] = 0\n",
    "potr_with_ostatok_total['РР'] = 0\n",
    "potr_with_ostatok_total['ПРОЧЕЕ'] = 0\n",
    "\n",
    "\n",
    "spr_kod_okruga = rev_to_dict(ZMM_E0078_MDLV['Область ППМ'].apply(lambda x: str(x).replace('.0',''))\\\n",
    "                             .astype('str').str.strip(),ZMM_E0078_MDLV['Код округа'])\n",
    "\n",
    "spr_kod_okruga1 = rev_to_dict(T001W['Завод'].apply(lambda x: str(x).replace('.0','')).astype('str'),\\\n",
    "            T001W['Код округа'].apply(lambda x: str(x).replace('.0','')).astype('str'))\n",
    "\n",
    "potr_with_ostatok_total['Код округа'] = potr_with_ostatok_total.apply(lambda x: insert_vpr(x['Завод'],spr_kod_okruga1,'Код округа') if insert_vpr(x['Область ППМ'],spr_kod_okruga,'Код округа')==0 else insert_vpr(x['Область ППМ'],spr_kod_okruga,'Код округа'),axis = 1).astype('str')\n",
    "\n",
    "potr_with_ostatok_total = parallel_calc_fast(potr_with_ostatok_total,KONH,current_date,KONP,MARM,pl_kurs)\n",
    "\n",
    "\n",
    "\n",
    "potr_with_ostatok_total.reset_index(inplace=True,drop = True)\n",
    "dic = potr_with_ostatok_total.groupby('Завод+НН').agg({'Количество потребности':'sum'}).to_dict(orient= 'dict')['Количество потребности']\n",
    "potr_with_ostatok_total['Категория_запаса'] = potr_with_ostatok_total.apply(lambda x: func_cat_tmc_new(x,current_date,dic),axis = 1)\n",
    "\n",
    "potr_with_ostatok_total['Сумма стрЗап'] = potr_with_ostatok_total['стрЗапас']*potr_with_ostatok_total['Цена']\n",
    "\n",
    "\n"
   ]
  },
  {
   "cell_type": "code",
   "execution_count": null,
   "metadata": {},
   "outputs": [],
   "source": [
    "potr_with_ostatok_total['Комплекс'].unique()"
   ]
  },
  {
   "cell_type": "code",
   "execution_count": null,
   "metadata": {},
   "outputs": [],
   "source": [
    "potr_with_ostatok_total['Завод']  = potr_with_ostatok_total['Завод+НН'].str.split(' #').apply(lambda x: x[0])\n",
    "\n",
    "spr_be = rev_to_dict(T001W['Завод'].apply(lambda x: str(x).replace('.0',''))\\\n",
    "                             .astype('str').str.strip(),T001W['Закуп. организация'].apply(lambda x: str(x).replace('.0','')).astype('str').str.strip())\n",
    "potr_with_ostatok_total['БЕ'] = potr_with_ostatok_total['Завод'].apply(lambda x:  insert_vpr(x,spr_be,'Закуп. организация'))\n",
    "\n",
    "potr_with_ostatok_total['Материал'] = potr_with_ostatok_total['Завод+НН'].str.split(' #').apply(lambda x: x[1])\n",
    "\n",
    "potr_with_ostatok_total['Заказчик + HH'] = potr_with_ostatok_total['Комплекс'].astype('str')+' '+potr_with_ostatok_total['Материал'].astype('str')\n",
    "\n",
    "\n",
    "spr_centr_zav_zav = rev_to_dict(central_zavod['Область ППМ'],central_zavod['Центральный Завод'])\n",
    "\n",
    "\n",
    "\n",
    "for u in  potr_with_ostatok_total.index:\n",
    "    if insert_vpr(potr_with_ostatok_total.at[u,'Область ППМ'],spr_centr_zav_zav,'Центральный Завод') ==0:\n",
    "        potr_with_ostatok_total.at[u,'Центральный завод'] =  insert_vpr(potr_with_ostatok_total.at[u,'Завод'],spr_centr_zav_zav,'Центральный Завод')\n",
    "    else:\n",
    "        potr_with_ostatok_total.at[u,'Центральный завод'] =  insert_vpr(potr_with_ostatok_total.at[u,'Область ППМ'],spr_centr_zav_zav,'Центральный Завод')    \n",
    "potr_with_ostatok_total['Центральный завод'] = potr_with_ostatok_total['Центральный завод'].apply(lambda x: str(x).replace('.0','')).astype('str')  \n",
    "\n",
    "spr_cena = rev_to_dict(df[df['Цена']>0]['Материал'],df[df['Цена']>0]['Цена'])\n",
    "\n",
    "\n",
    "potr_with_ostatok_total['Цена'] = potr_with_ostatok_total.apply(lambda x:x['Цена'] if x['Цена']!=0 else insert_vpr(x['Материал'],spr_cena,'Цена'),axis=1)\n",
    "\n",
    "spr_group_mat_l1 = rev_to_dict(group_mat[group_mat['Группа материалов'].str.len()==2]['Группа материалов'],group_mat[group_mat['Группа материалов'].str.len()==2]['Обозначение 2 группы материалов'])\n",
    "potr_with_ostatok_total['группа'] = potr_with_ostatok_total['Материал'].str[:2].apply(lambda x:  insert_vpr(x,spr_group_mat_l1,'Обозначение 2 группы материалов'))\n",
    "\n",
    "spr_group_mat_l2 = rev_to_dict(group_mat[group_mat['Группа материалов'].str.len()==4]['Группа материалов'],group_mat[group_mat['Группа материалов'].str.len()==4]['Обозначение 2 группы материалов'])\n",
    "potr_with_ostatok_total['подгруппа'] = potr_with_ostatok_total['Материал'].str[:4].apply(lambda x:  insert_vpr(x,spr_group_mat_l2,'Обозначение 2 группы материалов'))\n",
    "\n",
    "\n",
    "spr_group_mat_l3 = rev_to_dict(group_mat[group_mat['Группа материалов'].str.len()==6]['Группа материалов'],group_mat[group_mat['Группа материалов'].str.len()==6]['Обозначение 2 группы материалов'])\n",
    "potr_with_ostatok_total['подподгруппа'] = potr_with_ostatok_total['Материал'].str[:6].apply(lambda x:  insert_vpr(x,spr_group_mat_l3,'Обозначение 2 группы материалов'))\n",
    "\n",
    "\n",
    "spr_obl_ppm_centr_zav = rev_to_dict(sprav_mat_cal_last_full['Материал'],sprav_mat_cal_last_full['Краткий текст материала'])\n",
    "potr_with_ostatok_total['КрТекстМатериала'] = potr_with_ostatok_total['Материал'].apply(lambda x:  insert_vpr(x,spr_obl_ppm_centr_zav,'Краткий текст материала'))\n",
    "\n",
    "\n",
    "\n",
    "\n",
    "spr_obl_ppm_baz_ei = rev_to_dict(sprav_mat_cal_last_full['Материал'],sprav_mat_cal_last_full['Базовая ЕИ'])\n",
    "potr_with_ostatok_total['Базовая ЕИ'] = potr_with_ostatok_total['Материал'].apply(lambda x:  insert_vpr(x,spr_obl_ppm_baz_ei,'Базовая ЕИ'))\n",
    "\n",
    "spr_obl_ppm_name_planov= rev_to_dict(sprav_mat_cal_last_full['Завод']+' #'+sprav_mat_cal_last_full['Материал'],sprav_mat_cal_last_full['Имя плановика (завод)'])\n",
    "potr_with_ostatok_total['ЦЗ+НН'] = potr_with_ostatok_total['Центральный завод'].astype('str')+' #'+potr_with_ostatok_total['Материал'].astype('str')\n",
    "potr_with_ostatok_total['Плановик'] = potr_with_ostatok_total['ЦЗ+НН'].apply(lambda x:  insert_vpr(x,spr_obl_ppm_name_planov,'Имя плановика (завод)'))\n",
    "potr_with_ostatok_total.drop('ЦЗ+НН',inplace=True,axis = 1)\n",
    "\n",
    "\n",
    "spr_obl_ppm_ocenka = rev_to_dict(sprav_mat_cal_last_full['Материал'],sprav_mat_cal_last_full['Класс оценки'])\n",
    "potr_with_ostatok_total['Класс оценки'] = potr_with_ostatok_total['Материал'].apply(lambda x:  insert_vpr(x,spr_obl_ppm_ocenka,'Класс оценки'))\n",
    "potr_with_ostatok_total['Класс оценки'] = potr_with_ostatok_total['Класс оценки'].apply(lambda x: str(x).replace('.0','')).astype('str')\n",
    "\n",
    "spr_obl_ppm_stat_na_zav = rev_to_dict(sprav_mat_cal_last_full['Завод']+' #'+sprav_mat_cal_last_full['Материал'],sprav_mat_cal_last_full['СтатусМтрл на заводе'])\n",
    "potr_with_ostatok_total['СтатусМтрл на заводе'] = potr_with_ostatok_total['Завод+НН'].apply(lambda x:  insert_vpr(x,spr_obl_ppm_stat_na_zav,'СтатусМтрл на заводе'))\n",
    "\n",
    "spr_toro = rev_to_dict(rr[rr['ТОРО']!=0]['Завод+НН'],rr[rr['ТОРО']!=0]['ТОРО'])\n",
    "spr_pp = rev_to_dict(rr[rr['РР']!=0]['Завод+НН'],rr[rr['РР']!=0]['РР'])\n",
    "spr_prochee = rev_to_dict(rr[rr['ПРОЧЕЕ']!=0]['Завод+НН'],rr[rr['ПРОЧЕЕ']!=0]['ПРОЧЕЕ'])\n",
    "potr_with_ostatok_total['ПРОЧЕЕ'] = potr_with_ostatok_total['Завод+НН'].apply(lambda x:  insert_vpr(x,spr_prochee,'ПРОЧЕЕ'))\n",
    "potr_with_ostatok_total['ТОРО'] = potr_with_ostatok_total['Завод+НН'].apply(lambda x:  insert_vpr(x,spr_toro,'ТОРО'))\n",
    "potr_with_ostatok_total['РР'] = potr_with_ostatok_total['Завод+НН'].apply(lambda x:  insert_vpr(x,spr_pp,'РР'))\n",
    "\n",
    "potr_with_ostatok_total.reset_index(drop=True,inplace=True)\n",
    "\n",
    "spr_kod_okruga = rev_to_dict(ZMM_E0078_MDLV['Область ППМ'].apply(lambda x: str(x).replace('.0',''))\\\n",
    "                             .astype('str').str.strip(),ZMM_E0078_MDLV['Код округа'])\n",
    "\n",
    "spr_kod_okruga1 = rev_to_dict(T001W['Завод'].apply(lambda x: str(x).replace('.0','')).astype('str'),\\\n",
    "            T001W['Код округа'].apply(lambda x: str(x).replace('.0','')).astype('str'))\n",
    "\n",
    "potr_with_ostatok_total['Код округа'] = potr_with_ostatok_total.apply(lambda x: insert_vpr(x['Завод'],spr_kod_okruga1,'Код округа') if insert_vpr(x['Область ППМ'],spr_kod_okruga,'Код округа')==0 else insert_vpr(x['Область ППМ'],spr_kod_okruga,'Код округа'),axis = 1).astype('str')\n",
    "\n",
    "\n",
    "potr_with_ostatok_total = parallel_calc_fast(potr_with_ostatok_total,KONH,current_date,KONP,MARM,pl_kurs)\n",
    "\n",
    "\n",
    "potr_with_ostatok_total.fillna(0,inplace = True)"
   ]
  },
  {
   "cell_type": "code",
   "execution_count": null,
   "metadata": {},
   "outputs": [],
   "source": [
    "potr_with_ostatok_total['Комплекс'].unique()"
   ]
  },
  {
   "cell_type": "code",
   "execution_count": null,
   "metadata": {},
   "outputs": [],
   "source": [
    "# potr_with_ostatok_total.name = 'f0_vertical_08'\n",
    "# save_backup('backup_for_powerBI.h5',[potr_with_ostatok_total])\n",
    "potr_with_ostatok_total.name = 'f0_vertical_03_20_usd_raspr'\n",
    "save_backup('backup_for_before_transp.h5',[potr_with_ostatok_total])"
   ]
  },
  {
   "cell_type": "code",
   "execution_count": null,
   "metadata": {},
   "outputs": [],
   "source": [
    "ind = ['Категория_запаса','Модуль','Заказ','Категория ТМЦ','Материал','БЕ','Заказчик + HH','Имя Завода + Материал + Заказ','Завод+НН','Завод + Склад','Завод + Область ППМ','Код округа + Материал','Комплекс','Завод','Склад потребности','Область ППМ','Центральный завод','Код округа','Имя Завода','КрТекстМатериала','Базовая ЕИ','Признак аналога','СтатусМтрл на заводе','Класс оценки','Плановик','группа','подгруппа','подподгруппа','Цена','Недропользование','ПлановСрокПоставки']\n",
    "col = ['Категория_запаса','Модуль','NB','законтрактовано','Заказ','Категория ТМЦ','Блокированный запас','стрЗапас','Сумма стрЗап','avizot','Сумма_распреденного_расхода','Распределение_расхода','Сумма_распреденного_прихода','Распределение_прихода','Сумма_распреденного_остатка','Распределение_остатака','Количество потребности','month','Материал','БЕ','Заказчик + HH','Имя Завода + Материал + Заказ','Завод+НН','Завод + Склад','Завод + Область ППМ','Код округа + Материал','Комплекс','Завод','Склад потребности','Область ППМ','Центральный завод','Код округа','Имя Завода','КрТекстМатериала','Базовая ЕИ','Признак аналога','СтатусМтрл на заводе','Класс оценки','Плановик','группа','подгруппа','подподгруппа','Цена','Недропользование','ПлановСрокПоставки','Сумма потребности']\n",
    "tab_f0 =potr_with_ostatok_total[col] \n",
    "f0 =  pd.pivot_table(tab_f0,columns=['month'],index=ind,aggfunc='sum',fill_value=0).reset_index()"
   ]
  },
  {
   "cell_type": "code",
   "execution_count": null,
   "metadata": {},
   "outputs": [],
   "source": [
    "# priznak_raschet_nachalo_goda это рассчет на 0101\n",
    "def f0_consolidation(df,current_date,ind,col,first_month_of_kvartal,priznak_raschet_nachalo_goda,sp):\n",
    "    def yy(x,sp):\n",
    "        return x[sp].sum()\n",
    "    \n",
    "    \n",
    "    \n",
    "    f0 =   df\n",
    "#     f0 =  pd.pivot_table(tab_f0,columns=['month'],index=ind,aggfunc='sum',fill_value=0).reset_index()  \n",
    "    cols__lev_f0 = f0[ind]\n",
    "    cols__lev_f0.columns = ind\n",
    "    bl_potr = f0['Количество потребности']\n",
    "    bl_potr.columns = ['ПП кол-во '+str(x.month)+'/'+ str(x.year) for x in bl_potr.columns] \n",
    "    pp_sum_col = pd.DataFrame(bl_potr.loc[:,'ПП кол-во '+str(current_date.month+1)+'/'+ str(current_date.year):'ПП кол-во '+str(12)+'/'+ str(current_date.year)].sum(axis = 1),columns=['Текущее кол-во ПП'])\n",
    "\n",
    "\n",
    "    bl_potr_sum  = f0['Сумма потребности']\n",
    "    bl_potr_sum.columns = ['ПП сумма '+str(x.month)+'/'+ str(x.year) for x in bl_potr_sum.columns]\n",
    "    pp_sum_sum = pd.DataFrame(bl_potr_sum.loc[:,'ПП сумма '+str(current_date.month+1)+'/'+ str(current_date.year):'ПП сумма '+str(12)+'/'+ str(current_date.year)].sum(axis = 1),columns=['Текущая сумма ПП'])\n",
    "    \n",
    "    \n",
    "\n",
    "    col_vo_prix = pd.DataFrame(f0['Распределение_прихода'].sum(axis = 1),columns=[str(current_date.month)+'/'+str(current_date.year)+' ФП Кол-во'])\n",
    "    sum_prix = pd.DataFrame(f0['Сумма_распреденного_прихода'].sum(axis = 1),columns=[str(current_date.month)+'/'+str(current_date.year)+' ФП Сумма'])\n",
    "    \n",
    "\n",
    "    col_vo_rash = pd.DataFrame(f0['Распределение_расхода'].sum(axis = 1),columns=[str(current_date.month)+'/'+str(current_date.year)+' ФC Кол-во'])\n",
    "    summ_rash = pd.DataFrame(f0['Сумма_распреденного_расхода'].sum(axis = 1),columns=[str(current_date.month)+'/'+str(current_date.year)+' ФC Сумма'])\n",
    "\n",
    " \n",
    "\n",
    "    col_vo_ost = pd.DataFrame(f0['Распределение_остатака'].sum(axis = 1),columns=[str(current_date.month)+'/'+str(current_date.year)+' Остаток Кол-во'])\n",
    "    sum_ost = pd.DataFrame(f0['Сумма_распреденного_остатка'].sum(axis = 1),columns=[str(current_date.month)+'/'+str(current_date.year)+' Остаток Сумма'])\n",
    "\n",
    "    avizot =  pd.DataFrame(f0['avizot'].sum(axis = 1),columns=['Товар в пути (ZNB5, ZNB2/3-АвизОт)'])\n",
    "\n",
    "    str_zap_col_vo = pd.DataFrame(f0['стрЗапас'].sum(axis = 1),columns=['SS (норма запаса на складе)'])\n",
    "    str_zap_summ = pd.DataFrame(f0['Сумма стрЗап'].sum(axis = 1),columns=['SS сумма'])\n",
    "    \n",
    "    NB = pd.DataFrame(f0['NB'].sum(axis = 1),columns=['Заявка на закупку(NB)'])\n",
    "    ZAK = pd.DataFrame(f0['законтрактовано'].sum(axis = 1),columns=['Законтрактовано(ZNB-ПртПЗк)'])\n",
    "\n",
    "    f0_cons = pd.concat([cols__lev_f0,bl_potr,pp_sum_col,bl_potr_sum,pp_sum_sum,col_vo_prix,sum_prix,col_vo_rash,summ_rash,col_vo_ost,sum_ost,avizot,str_zap_col_vo,str_zap_summ,NB,ZAK],axis=1)\n",
    "\n",
    "    #     при рассчете 12 месяца для остатка на начало периода закомментировать\n",
    "#     \\\\\\\\\\\\\\\\\\\\\\\\\\\\\\\\\\\\\\\\\\\\\\\\\\\\\\\\\\\\\\\\\\\\\\\\\\\\\\\\\\\\\\\\\\\\\\\\\\\\\\\\\\\\\\\\\\\\\\\\\\\\\\\\\\\\\\\\\\\\\\\\\\\\\\\\\\\\\\\\\\\\\\\\\\\\\\\\\\\\\\\\\\\\\\\\\\\\\\\\\\\\\\\\\\\\\\\\\n",
    "#     f0_cons = pd.merge(f0_cons,ost_nach_perioda,on=['Склад потребности','Заказ','Категория ТМЦ','Комплекс','Завод+НН','Модуль'],how='outer')\n",
    "# \\\\\\\\\\\\\\\\\\\\\\\\\\\\\\\\\\\\\\\\\\\\\\\\\\\\\\\\\\\\\\\\\\\\\\\\\\\\\\\\\\\\\\\\\\\\\\\\\\\\\\\\\\\\\\\\\\\\\\\\\\\\\\\\\\\\\\\\\\\\\\\\\\\\\\\\\\\\\\\\\\\\\\\\\\\\\\\\\\\\\\\\\\\\\\\\\\\\\\\\\\\\\\\\\\\\\\\\\\\\\\\\\\\\\\\\\\\\\\\\\\\\\\    \n",
    "    f0_cons.fillna(0,inplace=True)\n",
    "    \n",
    "    if current_date.month == 1 and priznak_raschet_nachalo_goda==True:\n",
    "        f0_cons['Остаток на начало года Кол-во'] =  f0_cons[str(current_date.month)+'/'+str(current_date.year)+' Остаток Кол-во']  \n",
    "        f0_cons['Остаток на начало года Сумма'] =  f0_cons[str(current_date.month)+'/'+str(current_date.year)+' Остаток Сумма']    \n",
    "        f0_cons.drop([str(current_date.month)+'/'+str(current_date.year)+' Остаток Кол-во',\\\n",
    "                     str(current_date.month)+'/'+str(current_date.year)+' Остаток Сумма'],inplace = True,axis = 1)\n",
    "        \n",
    "    n = 12\n",
    "    if current_date.month==10 and priznak_raschet_nachalo_goda ==False:\n",
    "        n+=1\n",
    "#         ПП сумма 5/2019\n",
    "#         ПП кол-во 1/current_date.year+1\n",
    "#         ПП кол-во n/current_date.year+1\n",
    "        f0_cons.rename(columns={'ПП кол-во 1/'+ str(current_date.year+1): 'ПП кол-во ' + str(n) + '/' + str(current_date.year)},inplace=True)\n",
    "        f0_cons.rename(columns={'ПП сумма 1/'+str(current_date.year+1): 'ПП сумма '+str(n)+'/'+ str(current_date.year)},inplace=True)\n",
    "    elif current_date.month ==11 and priznak_raschet_nachalo_goda ==False:\n",
    "        n+=2\n",
    "        f0_cons.rename(columns={'ПП кол-во 1/'+str(current_date.year+1): 'ПП кол-во '+str(n-1)+'/'+ str(current_date.year)},inplace=True)\n",
    "        f0_cons.rename(columns={'ПП сумма 1/'+str(current_date.year+1): 'ПП сумма '+str(n-1)+'/'+ str(current_date.year)},inplace=True)\n",
    "        f0_cons.rename(columns={'ПП кол-во 2/'+str(current_date.year+1): 'ПП кол-во '+str(n)+'/'+ str(current_date.year)},inplace=True)\n",
    "        f0_cons.rename(columns={'ПП сумма 2/'+str(current_date.year+1): 'ПП сумма '+str(n)+'/'+ str(current_date.year)},inplace=True)\n",
    "    elif current_date.month ==12 and priznak_raschet_nachalo_goda ==False:    \n",
    "        n+=3\n",
    "        f0_cons.rename(columns={'ПП кол-во 1/'+str(current_date.year+1): 'ПП кол-во '+str(n-2)+'/'+ str(current_date.year)},inplace=True)\n",
    "        f0_cons.rename(columns={'ПП сумма 1/'+str(current_date.year+1): 'ПП сумма '+str(n-2)+'/'+ str(current_date.year)},inplace=True)\n",
    "        f0_cons.rename(columns={'ПП кол-во 2/'+str(current_date.year+1): 'ПП кол-во '+str(n-1)+'/'+ str(current_date.year)},inplace=True)\n",
    "        f0_cons.rename(columns={'ПП сумма 2/'+str(current_date.year+1): 'ПП сумма '+str(n-1)+'/'+ str(current_date.year)},inplace=True)\n",
    "        f0_cons.rename(columns={'ПП кол-во 3/'+str(current_date.year+1): 'ПП кол-во '+str(n)+'/'+ str(current_date.year)},inplace=True)\n",
    "        f0_cons.rename(columns={'ПП сумма 3/'+str(current_date.year+1): 'ПП сумма '+str(n)+'/'+ str(current_date.year)},inplace=True)\n",
    "    \n",
    "   \n",
    "    cols_bz_col_vo = ['БЗ кол-во '+str(x)+'/'+str(current_date.year) for x in range(1,n+1)]\n",
    "    \n",
    "    cols_bz_summ = ['БЗ сумма '+str(x)+'/'+str(current_date.year) for x in range(1,n+1)]\n",
    "    \n",
    "\n",
    "    for i in cols_bz_col_vo:f0_cons[i] = 0\n",
    "    f0_cons['ИТОГО БЗ Кол-во'] = 0\n",
    "    for i in cols_bz_summ:f0_cons[i] = 0\n",
    "    f0_cons['ИТОГО БЗ Сумма'] = 0\n",
    "\n",
    "\n",
    "    cols_ost_prognoz = ['Остаток прогноз Кол-во '+str(x)+'/'+str(current_date.year) for x in range(1,n+1)]\n",
    "    cols_ost_prognoz_summa = ['Остаток прогноз Сумма '+str(x)+'/'+str(current_date.year) for x in range(1,n+1)]\n",
    "    for i in cols_ost_prognoz:f0_cons[i] = 0\n",
    "    for i in cols_ost_prognoz_summa:f0_cons[i] = 0\n",
    "    \n",
    "\n",
    "        \n",
    "    # если сейчас 1 месяц тогда текущий опираем на остаток на начало года\n",
    "    if current_date.month == 1 and priznak_raschet_nachalo_goda==True:\n",
    "        \n",
    "\n",
    "        f0_cons.loc[:,cols_bz_col_vo[current_date.month-1]] = f0_cons.apply(lambda x: yy(x,sp)+x['SS (норма запаса на складе)']-x['Остаток на начало года Кол-во']-x['Товар в пути (ZNB5, ZNB2/3-АвизОт)']  \\\n",
    "                                                                            if (x['Остаток на начало года Кол-во']+x['Товар в пути (ZNB5, ZNB2/3-АвизОт)'])-yy(x,sp)-x['SS (норма запаса на складе)']<0 else 0,axis = 1)\n",
    "            \n",
    "        f0_cons.loc[:,cols_ost_prognoz[current_date.month-1]] =f0_cons['Остаток на начало года Кол-во'].values+f0_cons['Товар в пути (ZNB5, ZNB2/3-АвизОт)'].values+f0_cons.loc[:,cols_bz_col_vo[current_date.month-1]].values-f0_cons[sp].sum(axis = 1).values\n",
    "\n",
    "        \n",
    "        ff = current_date.month-1\n",
    "        for i in cols_bz_col_vo[current_date.month:]:\n",
    "\n",
    "            f0_cons[i] = f0_cons.apply(lambda x: x['ПП кол-во'+str(i[9:])]+x['SS (норма запаса на складе)']-x['Остаток прогноз Кол-во'+str(cols_bz_col_vo[ff][9:])]  if x['Остаток прогноз Кол-во'+str(cols_bz_col_vo[ff][9:])]-x['ПП кол-во'+str(i[9:])]-x['SS (норма запаса на складе)']<0 else 0,axis = 1)\n",
    "    #         формкла для остатка\n",
    "            f0_cons['Остаток прогноз Кол-во'+str(i[9:])] = f0_cons['Остаток прогноз Кол-во'+str(cols_bz_col_vo[ff][9:])].values+f0_cons[i].values-f0_cons['ПП кол-во'+str(i[9:])].values\n",
    "#             print('Остаток прогноз Кол-во'+str(cols_bz_col_vo[ff][9:]))\n",
    "\n",
    "            ff+=1\n",
    "        f0_cons[cols_ost_prognoz_summa[0]] = f0_cons.apply(lambda x: x[cols_bz_col_vo[0]]* (x['Остаток на начало года Сумма']/  x['Остаток на начало года Кол-во']) if x['Остаток на начало года Кол-во']>0 else x['Остаток прогноз Кол-во '+str(current_date.month+1)+'/'+str(current_date.year)]*x['Цена'] ,axis = 1)\n",
    "        \n",
    "        for i in cols_ost_prognoz_summa[current_date.month-1:]:\n",
    "             f0_cons[i] =    f0_cons.apply(lambda x: x['Остаток прогноз Кол-во'+str(i[21:])]*(x['Остаток на начало года Сумма']/  x['Остаток на начало года Кол-во']) if x['Остаток на начало года Сумма']>0 and  x['Остаток на начало года Кол-во']>0 else x['Остаток прогноз Кол-во'+str(i[21:])]*x['Цена'] ,axis = 1)\n",
    "\n",
    "        \n",
    "    else:\n",
    "        #количество bz     \n",
    "        f0_cons.loc[:,cols_bz_col_vo[:current_date.month]] = 0\n",
    "        f0_cons.loc[:,cols_ost_prognoz[:current_date.month]] = 0\n",
    "        f0_cons.loc[:,cols_ost_prognoz_summa[:current_date.month]] = 0\n",
    "        f0_cons.loc[:,cols_bz_col_vo[current_date.month]] = f0_cons.apply(lambda x: yy(x,sp)+x['SS (норма запаса на складе)']-x[str(current_date.month)+'/'+str(current_date.year)+' Остаток Кол-во']-x['Товар в пути (ZNB5, ZNB2/3-АвизОт)']  \\\n",
    "                                                                          if (x[str(current_date.month)+'/'+str(current_date.year)+' Остаток Кол-во']+x['Товар в пути (ZNB5, ZNB2/3-АвизОт)'])- yy(x,sp)-x['SS (норма запаса на складе)']<0 else 0,axis = 1)\n",
    "        f0_cons.loc[:,cols_ost_prognoz[current_date.month]] = f0_cons[str(current_date.month)+'/'+str(current_date.year)+' Остаток Кол-во'].values+f0_cons['Товар в пути (ZNB5, ZNB2/3-АвизОт)'].values+f0_cons.loc[:,cols_bz_col_vo[current_date.month]].values-f0_cons[sp].sum(axis = 1).values\n",
    "\n",
    "\n",
    "        ff = current_date.month\n",
    "        for i in cols_bz_col_vo[current_date.month+1:]:\n",
    "\n",
    "            f0_cons[i] = f0_cons.apply(lambda x: x['ПП кол-во'+str(i[9:])]+x['SS (норма запаса на складе)']-x['Остаток прогноз Кол-во'+str(cols_bz_col_vo[ff][9:])]  if x['Остаток прогноз Кол-во'+str(cols_bz_col_vo[ff][9:])]-x['ПП кол-во'+str(i[9:])]-x['SS (норма запаса на складе)']<0 else 0,axis = 1)\n",
    "    #         формкла для остатка\n",
    "            f0_cons['Остаток прогноз Кол-во'+str(i[9:])] = f0_cons['Остаток прогноз Кол-во'+str(cols_bz_col_vo[ff][9:])].values+f0_cons[i].values-f0_cons['ПП кол-во'+str(i[9:])].values\n",
    "        \n",
    "        \n",
    "\n",
    "            ff+=1\n",
    "            \n",
    "        for i in cols_ost_prognoz_summa[current_date.month:]:\n",
    "             f0_cons[i] =    f0_cons.apply(lambda x: x['Остаток прогноз Кол-во'+str(i[21:])]*(x[str(current_date.month)+'/'+str(current_date.year)+' Остаток Сумма']/  x[str(current_date.month)+'/'+str(current_date.year)+' Остаток Кол-во']) if x[str(current_date.month)+'/'+str(current_date.year)+' Остаток Кол-во']>0 else x['Остаток прогноз Кол-во'+str(i[21:])]*x['Цена'] ,axis = 1)\n",
    "\n",
    "    # сумма бз    \n",
    "    f0_cons.loc[:,cols_bz_summ]=f0_cons.loc[:,cols_bz_col_vo].mul(f0_cons['Цена'],axis = 0).values  \n",
    "    f0_cons['ИТОГО БЗ Сумма'] = f0_cons.loc[:,cols_bz_summ].sum(axis=1)\n",
    "    f0_cons['ИТОГО БЗ Кол-во'] = f0_cons.loc[:,cols_bz_col_vo].sum(axis=1)\n",
    "    \n",
    "\n",
    "    \n",
    "    f0_cons['Категория ТМЦ'] = f0_cons['Категория ТМЦ'] .astype('category')\n",
    "    f0_cons['Категория ТМЦ'].cat.set_categories(['Текущая потребность', 'Без ПП', 'Проект', 'ТНСЗ', 'ГО','Неликвиды', 'Спецодежда','страховой запас'],inplace = True)\n",
    "\n",
    "    f0_cons = f0_cons.sort_values('Категория ТМЦ')\n",
    "    f0_cons['Категория ТМЦ'] = f0_cons['Категория ТМЦ'].astype('str')\n",
    "    f0_cons.fillna(0,inplace=True)\n",
    "    f0_cons['Материал'] = f0_cons['Материал'].astype('str')\n",
    "    \n",
    "    return f0_cons\n",
    "\n",
    "        "
   ]
  },
  {
   "cell_type": "code",
   "execution_count": null,
   "metadata": {
    "scrolled": true
   },
   "outputs": [],
   "source": [
    "# current_date = datetime.datetime(2020,1,1)\n",
    "# first_month_of_kvartal = 1\n",
    "# для всех месяцев\n",
    "c_f0 =  f0_consolidation(current_date=current_date_f0,df=f0,col=col,ind=ind,first_month_of_kvartal = first_month_of_kvartal,priznak_raschet_nachalo_goda = False,sp = sp)\n",
    "# первый месяц когда рассчет основывается на оатсках на начало года\n",
    "# c_f0 =  f0_consolidation(current_date=current_date_f0,df=f0,col=col,ind=ind,first_month_of_kvartal = first_month_of_kvartal,priznak_raschet_nachalo_goda = True,sp = sp)\n"
   ]
  },
  {
   "cell_type": "code",
   "execution_count": null,
   "metadata": {},
   "outputs": [],
   "source": [
    "# c_f0['Завод']  = c_f0['Завод+НН'].str.split(' #').apply(lambda x: x[0])\n",
    "\n",
    "# pr_be = rev_to_dict(T001W['Завод'].apply(lambda x: str(x).replace('.0',''))\\\n",
    "#                              .astype('str').str.strip(),T001W['Закуп. организация'].apply(lambda x: str(x).replace('.0','')).astype('str').str.strip())\n",
    "# c_f0['БЕ'] = c_f0['Завод'].apply(lambda x:  insert_vpr(x,spr_be,'БЕ'))\n",
    "\n",
    "# c_f0['Материал'] = c_f0['Завод+НН'].str.split(' #').apply(lambda x: x[1])\n",
    "\n",
    "# c_f0['Заказчик + HH'] = c_f0['Комплекс'].astype('str')+' '+c_f0['Материал'].astype('str')\n",
    "\n",
    "\n",
    "# spr_centr_zav_zav = rev_to_dict(central_zavod['Область ППМ'],central_zavod['Центральный Завод'])\n",
    "\n",
    "\n",
    "\n",
    "# for u in  c_f0.index:\n",
    "#     if insert_vpr(c_f0.at[u,'Область ППМ'],spr_centr_zav_zav,'Центральный Завод') ==0:\n",
    "#         c_f0.at[u,'Центральный завод'] =  insert_vpr(c_f0.at[u,'Завод'],spr_centr_zav_zav,'Центральный Завод')\n",
    "#     else:\n",
    "#         c_f0.at[u,'Центральный завод'] =  insert_vpr(c_f0.at[u,'Область ППМ'],spr_centr_zav_zav,'Центральный Завод')    \n",
    "# c_f0['Центральный завод'] = c_f0['Центральный завод'].apply(lambda x: str(x).replace('.0','')).astype('str')  \n",
    "\n",
    "# spr_cena = rev_to_dict(df[df['Цена']>0]['Материал'],df[df['Цена']>0]['Цена'])\n",
    "\n",
    "\n",
    "# c_f0['Цена'] = c_f0.apply(lambda x:x['Цена'] if x['Цена']!=0 else insert_vpr(x['Материал'],spr_cena,'Цена'),axis=1)\n",
    "\n",
    "# spr_group_mat_l1 = rev_to_dict(group_mat[group_mat['Группа материалов'].str.len()==2]['Группа материалов'],group_mat[group_mat['Группа материалов'].str.len()==2]['Обозначение 2 группы материалов'])\n",
    "# c_f0['группа'] = c_f0['Материал'].str[:2].apply(lambda x:  insert_vpr(x,spr_group_mat_l1,'Обозначение 2 группы материалов'))\n",
    "\n",
    "# spr_group_mat_l2 = rev_to_dict(group_mat[group_mat['Группа материалов'].str.len()==4]['Группа материалов'],group_mat[group_mat['Группа материалов'].str.len()==4]['Обозначение 2 группы материалов'])\n",
    "# c_f0['подгруппа'] = c_f0['Материал'].str[:4].apply(lambda x:  insert_vpr(x,spr_group_mat_l2,'Обозначение 2 группы материалов'))\n",
    "\n",
    "\n",
    "# spr_group_mat_l3 = rev_to_dict(group_mat[group_mat['Группа материалов'].str.len()==6]['Группа материалов'],group_mat[group_mat['Группа материалов'].str.len()==6]['Обозначение 2 группы материалов'])\n",
    "# c_f0['подподгруппа'] = c_f0['Материал'].str[:6].apply(lambda x:  insert_vpr(x,spr_group_mat_l3,'Обозначение 2 группы материалов'))\n",
    "\n",
    "\n",
    "# spr_obl_ppm_centr_zav = rev_to_dict(sprav_mat_cal_last_full['Материал'],sprav_mat_cal_last_full['Краткий текст материала'])\n",
    "# c_f0['КрТекстМатериала'] = c_f0['Материал'].apply(lambda x:  insert_vpr(x,spr_obl_ppm_centr_zav,'Краткий текст материала'))\n",
    "\n",
    "\n",
    "\n",
    "\n",
    "# spr_obl_ppm_baz_ei = rev_to_dict(sprav_mat_cal_last_full['Материал'],sprav_mat_cal_last_full['Базовая ЕИ'])\n",
    "# c_f0['Базовая ЕИ'] = c_f0['Материал'].apply(lambda x:  insert_vpr(x,spr_obl_ppm_baz_ei,'Базовая ЕИ'))\n",
    "\n",
    "# spr_obl_ppm_name_planov= rev_to_dict(sprav_mat_cal_last_full['Завод']+' #'+sprav_mat_cal_last_full['Материал'],sprav_mat_cal_last_full['Имя плановика (завод)'])\n",
    "# c_f0['ЦЗ+НН'] = c_f0['Центральный завод'].astype('str')+' #'+c_f0['Материал'].astype('str')\n",
    "# c_f0['Плановик'] = c_f0['ЦЗ+НН'].apply(lambda x:  insert_vpr(x,spr_obl_ppm_name_planov,'Имя плановика (завод)'))\n",
    "# c_f0.drop('ЦЗ+НН',inplace=True,axis = 1)\n",
    "\n",
    "\n",
    "# spr_obl_ppm_ocenka = rev_to_dict(sprav_mat_cal_last_full['Материал'],sprav_mat_cal_last_full['Класс оценки'])\n",
    "# c_f0['Класс оценки'] = c_f0['Материал'].apply(lambda x:  insert_vpr(x,spr_obl_ppm_ocenka,'Класс оценки'))\n",
    "# c_f0['Класс оценки'] = c_f0['Класс оценки'].apply(lambda x: str(x).replace('.0','')).astype('str')\n",
    "\n",
    "# spr_obl_ppm_stat_na_zav = rev_to_dict(sprav_mat_cal_last_full['Завод']+' #'+sprav_mat_cal_last_full['Материал'],sprav_mat_cal_last_full['СтатусМтрл на заводе'])\n",
    "# c_f0['СтатусМтрл на заводе'] = c_f0['Завод+НН'].apply(lambda x:  insert_vpr(x,spr_obl_ppm_stat_na_zav,'СтатусМтрл на заводе'))\n",
    "\n",
    "spr_toro = rev_to_dict(rr[rr['ТОРО']!=0]['Завод+НН'],rr[rr['ТОРО']!=0]['ТОРО'])\n",
    "spr_pp = rev_to_dict(rr[rr['РР']!=0]['Завод+НН'],rr[rr['РР']!=0]['РР'])\n",
    "spr_prochee = rev_to_dict(rr[rr['ПРОЧЕЕ']!=0]['Завод+НН'],rr[rr['ПРОЧЕЕ']!=0]['ПРОЧЕЕ'])\n",
    "c_f0['ПРОЧЕЕ'] = c_f0['Завод+НН'].apply(lambda x:  insert_vpr(x,spr_prochee,'ПРОЧЕЕ'))\n",
    "c_f0['ТОРО'] = c_f0['Завод+НН'].apply(lambda x:  insert_vpr(x,spr_toro,'ТОРО'))\n",
    "c_f0['РР'] = c_f0['Завод+НН'].apply(lambda x:  insert_vpr(x,spr_pp,'РР'))\n",
    "\n",
    "c_f0.reset_index(drop=True,inplace=True)\n",
    "ind_nan =  c_f0.loc[:,'ПП кол-во 1/1900':'Остаток прогноз Сумма 12/'+str(current_date.year)].replace({0:np.nan}).dropna(how = 'all')\n",
    "c_f0 = c_f0.loc[ind_nan.index]\n",
    "\n",
    "# spr_kod_okruga = rev_to_dict(ZMM_E0078_MDLV['Область ППМ'].apply(lambda x: str(x).replace('.0',''))\\\n",
    "#                              .astype('str').str.strip(),ZMM_E0078_MDLV['Код округа'])\n",
    "\n",
    "# spr_kod_okruga1 = rev_to_dict(T001W['Завод'].apply(lambda x: str(x).replace('.0','')).astype('str'),\\\n",
    "#             T001W['Код округа'].apply(lambda x: str(x).replace('.0','')).astype('str'))\n",
    "\n",
    "# c_f0['Код округа'] = c_f0.apply(lambda x: insert_vpr(x['Завод'],spr_kod_okruga1,'Код округа') if insert_vpr(x['Область ППМ'],spr_kod_okruga,'Код округа')==0 else insert_vpr(x['Область ППМ'],spr_kod_okruga,'Код округа'),axis = 1).astype('str')\n",
    "\n",
    "\n",
    "\n",
    "\n",
    "\n",
    "# c_f0 = price_main__(c_f0,A902,A900,KONP,current_date,pl_kurs)\n",
    "\n",
    "c_f0.fillna(0,inplace = True)"
   ]
  },
  {
   "cell_type": "code",
   "execution_count": null,
   "metadata": {
    "scrolled": true
   },
   "outputs": [],
   "source": [
    "\n",
    "c_f0.drop([x for x in  c_f0.columns if (x.find('ПП кол-во')!=-1 or x.find('ПП сумма')!=-1) and int(x[-4:])!=current_date_f0.year],axis = 1,inplace = True)\n",
    "c_f0['Текущее кол-во ПП'] = c_f0.loc[:,[x for x in  c_f0.columns if x.find('ПП кол-во')!=-1 ]].sum(axis = 1)\n",
    "c_f0['Текущая сумма ПП'] = c_f0.loc[:,[x for x in  c_f0.columns if x.find('ПП сумма')!=-1 ]].sum(axis = 1)"
   ]
  },
  {
   "cell_type": "code",
   "execution_count": null,
   "metadata": {},
   "outputs": [],
   "source": [
    "c_f0['Комплекс'].value_counts()"
   ]
  },
  {
   "cell_type": "code",
   "execution_count": null,
   "metadata": {},
   "outputs": [],
   "source": [
    "# проверка f0"
   ]
  },
  {
   "cell_type": "code",
   "execution_count": null,
   "metadata": {},
   "outputs": [],
   "source": [
    "int(c_f0[str(current_date.month)+'/'+str(current_date.year)+ ' Остаток Кол-во'].sum()-ostatok['Кол-во запаса в конце периода'].sum())"
   ]
  },
  {
   "cell_type": "code",
   "execution_count": null,
   "metadata": {},
   "outputs": [],
   "source": [
    "int(c_f0[str(current_date.month)+'/'+str(current_date.year)+ ' Остаток Сумма'].sum()-ostatok['Ст-ть запаса в конце периода'].sum())"
   ]
  },
  {
   "cell_type": "code",
   "execution_count": null,
   "metadata": {},
   "outputs": [],
   "source": [
    "int(c_f0[str(current_date.month)+'/'+str(current_date.year)+ ' ФП Кол-во'].sum()-abs(prihod_start['Количество'].sum()))"
   ]
  },
  {
   "cell_type": "code",
   "execution_count": null,
   "metadata": {},
   "outputs": [],
   "source": [
    "int(c_f0[str(current_date.month)+'/'+str(current_date.year)+ ' ФП Сумма'].sum()-abs(prihod_start['Сумма во ВВ'].sum()))"
   ]
  },
  {
   "cell_type": "code",
   "execution_count": null,
   "metadata": {},
   "outputs": [],
   "source": [
    "int(c_f0[str(current_date.month)+'/'+str(current_date.year)+ ' ФC Кол-во'].sum()-abs(rashod_start['Кол-во в ЕИ ввода'].sum()))"
   ]
  },
  {
   "cell_type": "code",
   "execution_count": null,
   "metadata": {},
   "outputs": [],
   "source": [
    "int(c_f0[str(current_date.month)+'/'+str(current_date.year)+ ' ФC Сумма'].sum()-abs(rashod_start['Сумма во ВВ'].sum()))"
   ]
  },
  {
   "cell_type": "code",
   "execution_count": null,
   "metadata": {},
   "outputs": [],
   "source": [
    "int(c_f0['Остаток на начало года Кол-во'].sum()-abs(ost_nach_perioda['Остаток на начало года Кол-во'].sum()))"
   ]
  },
  {
   "cell_type": "code",
   "execution_count": null,
   "metadata": {},
   "outputs": [],
   "source": [
    "int(c_f0['Остаток на начало года Сумма'].sum()-abs(ost_nach_perioda['Остаток на начало года Сумма'].sum()))"
   ]
  },
  {
   "cell_type": "code",
   "execution_count": null,
   "metadata": {},
   "outputs": [],
   "source": [
    "c_f0.shape"
   ]
  },
  {
   "cell_type": "code",
   "execution_count": null,
   "metadata": {},
   "outputs": [],
   "source": [
    "# int(c_f0['SS (норма запаса на складе)'].sum()-NZ_start['Количество потребности'].sum())"
   ]
  },
  {
   "cell_type": "code",
   "execution_count": null,
   "metadata": {},
   "outputs": [],
   "source": [
    "# save_pyex(df=c_f0,path='C:\\\\Users\\\\Илья\\\\Desktop\\\\kazzinc\\\\Uploads1\\\\extr_xlsx\\\\f0_01_test.xlsx')\n",
    "\n",
    "c_f0.name = 'c_f0_02_20_'\n",
    "save_backup('backup_f0.h5',[c_f0])"
   ]
  },
  {
   "cell_type": "code",
   "execution_count": null,
   "metadata": {},
   "outputs": [],
   "source": [
    "c_f0.name = 'c_f0_02_20_ost_usd'\n",
    "save_backup('backup_f0.h5',[c_f0])"
   ]
  },
  {
   "cell_type": "code",
   "execution_count": null,
   "metadata": {},
   "outputs": [],
   "source": [
    "c_f0 =  get_in_backup(path_backup='backup_f0.h5',name='c_f0_02_20_')"
   ]
  },
  {
   "cell_type": "code",
   "execution_count": null,
   "metadata": {},
   "outputs": [],
   "source": [
    "for ind, i in enumerate(np.array_split(c_f0,2)) :\n",
    "    save_pyex(df=i,path='C:\\\\Users\\\\Илья\\\\Desktop\\\\kazzinc\\\\Uploads1\\\\'+folder+'\\\\extr_xlsx\\\\'+str(ind)+'.xlsx')"
   ]
  },
  {
   "cell_type": "code",
   "execution_count": null,
   "metadata": {},
   "outputs": [],
   "source": [
    "cons_f0 =  get_in_backup(path_backup='backup_f0.h5',name='c_f0_01_ost')\n"
   ]
  },
  {
   "cell_type": "code",
   "execution_count": null,
   "metadata": {},
   "outputs": [],
   "source": [
    "# формирование выгрузки общий + текущий месяц!!!!!!!!!!!!!!!!\n",
    "# !!!!!!!!!!!!!!!!!!!!!!!!!!!!!!!!!!!!!!!!!!!!!!!!!!!!!!!!!!!\n",
    "\n",
    "ind = ['Модуль','Заказ','Категория ТМЦ','Материал','БЕ','Заказчик + HH','Имя Завода + Материал + Заказ','Завод+НН','Завод + Склад','Завод + Область ППМ','Код округа + Материал','Комплекс','Завод','Склад потребности','Область ППМ','Центральный завод','Код округа','Имя Завода','КрТекстМатериала','Базовая ЕИ','Признак аналога','СтатусМтрл на заводе','Класс оценки','Плановик','группа','подгруппа','подподгруппа','Цена','Недропользование','ПлановСрокПоставки']\n",
    "col = ['NB','законтрактовано','Заказ','Категория ТМЦ','Блокированный запас','стрЗапас','Сумма стрЗап','avizot','Сумма_распреденного_расхода','Распределение_расхода','Сумма_распреденного_прихода','Распределение_прихода','Сумма_распреденного_остатка','Распределение_остатака','Количество потребности','month','Материал','БЕ','Заказчик + HH','Имя Завода + Материал + Заказ','Завод+НН','Завод + Склад','Завод + Область ППМ','Код округа + Материал','Комплекс','Завод','Склад потребности','Область ППМ','Центральный завод','Код округа','Имя Завода','КрТекстМатериала','Базовая ЕИ','Признак аналога','СтатусМтрл на заводе','Класс оценки','Плановик','группа','подгруппа','подподгруппа','Цена','Недропользование','ПлановСрокПоставки','Сумма потребности']\n",
    "\n",
    "# cons_f0 =  get_in_backup(path_backup='f0_cons_10.h5',name='f0_cons_10')\n",
    "# # cons_f0 = get_in_backup(path_backup='backup_f0_cons.h5',name='c_f0_cons_09')\n",
    "# current_f0 = get_in_backup(path_backup='backup_f0.h5',name='c_f0_11')\n",
    "\n",
    "\n",
    "\n",
    "\n",
    "        \n",
    "       \n",
    "        \n",
    "cons_f0['Завод']  = cons_f0['Завод+НН'].str.split(' #').apply(lambda x: x[0])\n",
    "spr_be = rev_to_dict(T001W['Завод'].apply(lambda x: str(x).replace('.0',''))\\\n",
    "                             .astype('str').str.strip(),T001W['Закуп. организация'].apply(lambda x: str(x).replace('.0','')).astype('str').str.strip())\n",
    "cons_f0['БЕ'] = cons_f0['Завод'].apply(lambda x:  insert_vpr(x,spr_be,'Закуп. организация'))\n",
    "\n",
    "cons_f0['Материал'] = cons_f0['Завод+НН'].str.split(' #').apply(lambda x: x[1])\n",
    "\n",
    "cons_f0['Заказчик + HH'] = cons_f0['Комплекс'].astype('str')+' '+cons_f0['Материал'].astype('str')\n",
    "\n",
    "\n",
    "spr_centr_zav_zav = rev_to_dict(central_zavod['Область ППМ'],central_zavod['Центральный Завод'])\n",
    "\n",
    "cons_f0.reset_index(inplace=True,drop=True)\n",
    "\n",
    "for u in  cons_f0.index:\n",
    "    if insert_vpr(cons_f0.at[u,'Область ППМ'],spr_centr_zav_zav,'Центральный Завод') ==0:\n",
    "        cons_f0.at[u,'Центральный завод'] =  insert_vpr(cons_f0.at[u,'Завод'],spr_centr_zav_zav,'Центральный Завод')\n",
    "    else:\n",
    "        cons_f0.at[u,'Центральный завод'] =  insert_vpr(cons_f0.at[u,'Область ППМ'],spr_centr_zav_zav,'Центральный Завод')    \n",
    "cons_f0['Центральный завод'] = cons_f0['Центральный завод'].apply(lambda x: str(x).replace('.0','')).astype('str')  \n",
    "\n",
    "\n",
    "\n",
    "spr_group_mat_l1 = rev_to_dict(group_mat[group_mat['Группа материалов'].str.len()==2]['Группа материалов'],group_mat[group_mat['Группа материалов'].str.len()==2]['Обозначение 2 группы материалов'])\n",
    "cons_f0['группа'] = cons_f0['Материал'].str[:2].apply(lambda x:  insert_vpr(x,spr_group_mat_l1,'Обозначение 2 группы материалов'))\n",
    "\n",
    "spr_group_mat_l2 = rev_to_dict(group_mat[group_mat['Группа материалов'].str.len()==4]['Группа материалов'],group_mat[group_mat['Группа материалов'].str.len()==4]['Обозначение 2 группы материалов'])\n",
    "cons_f0['подгруппа'] = cons_f0['Материал'].str[:4].apply(lambda x:  insert_vpr(x,spr_group_mat_l2,'Обозначение 2 группы материалов'))\n",
    "\n",
    "\n",
    "spr_group_mat_l3 = rev_to_dict(group_mat[group_mat['Группа материалов'].str.len()==6]['Группа материалов'],group_mat[group_mat['Группа материалов'].str.len()==6]['Обозначение 2 группы материалов'])\n",
    "cons_f0['подподгруппа'] = cons_f0['Материал'].str[:6].apply(lambda x:  insert_vpr(x,spr_group_mat_l3,'Обозначение 2 группы материалов'))\n",
    "\n",
    "\n",
    "spr_obl_ppm_centr_zav = rev_to_dict(sprav_mat_cal_last_full['Материал'],sprav_mat_cal_last_full['Краткий текст материала'])\n",
    "cons_f0['КрТекстМатериала'] = cons_f0['Материал'].apply(lambda x:  insert_vpr(x,spr_obl_ppm_centr_zav,'Краткий текст материала'))\n",
    "\n",
    "\n",
    "\n",
    "\n",
    "spr_obl_ppm_baz_ei = rev_to_dict(sprav_mat_cal_last_full['Материал'],sprav_mat_cal_last_full['Базовая ЕИ'])\n",
    "cons_f0['Базовая ЕИ'] = cons_f0['Материал'].apply(lambda x:  insert_vpr(x,spr_obl_ppm_baz_ei,'Базовая ЕИ'))\n",
    "\n",
    "spr_obl_ppm_name_planov= rev_to_dict(sprav_mat_cal_last_full['Завод']+' #'+sprav_mat_cal_last_full['Материал'],sprav_mat_cal_last_full['Имя плановика (завод)'])\n",
    "cons_f0['ЦЗ+НН'] = cons_f0['Центральный завод'].astype('str')+' #'+cons_f0['Материал'].astype('str')\n",
    "cons_f0['Плановик'] = cons_f0['ЦЗ+НН'].apply(lambda x:  insert_vpr(x,spr_obl_ppm_name_planov,'Имя плановика (завод)'))\n",
    "cons_f0.drop('ЦЗ+НН',inplace=True,axis = 1)\n",
    "\n",
    "\n",
    "spr_obl_ppm_ocenka = rev_to_dict(sprav_mat_cal_last_full['Материал'],sprav_mat_cal_last_full['Класс оценки'])\n",
    "cons_f0['Класс оценки'] = cons_f0['Материал'].apply(lambda x:  insert_vpr(x,spr_obl_ppm_ocenka,'Класс оценки'))\n",
    "cons_f0['Класс оценки'] = cons_f0['Класс оценки'].apply(lambda x: str(x).replace('.0','')).astype('str')\n",
    "\n",
    "spr_obl_ppm_stat_na_zav = rev_to_dict(sprav_mat_cal_last_full['Завод']+' #'+sprav_mat_cal_last_full['Материал'],sprav_mat_cal_last_full['СтатусМтрл на заводе'])\n",
    "cons_f0['СтатусМтрл на заводе'] = cons_f0['Завод+НН'].apply(lambda x:  insert_vpr(x,spr_obl_ppm_stat_na_zav,'СтатусМтрл на заводе'))\n",
    "   \n",
    "\n",
    "spr_obl_ppm = rev_to_dict(spr_for_obl_ppm['Завод'].apply(lambda x: str(x).replace('.0','')).astype('str')+spr_for_obl_ppm['Склад'].\\\n",
    "            apply(lambda x: str(x).replace('.0','')).astype('str'),spr_for_obl_ppm['Область ППМ'])\n",
    "cons_f0['Склад потребности'] = cons_f0['Склад потребности'].apply(lambda x:'' if x ==0 or x=='0' else x)\n",
    "cons_f0['Область ППМ']  = cons_f0\\\n",
    "                                    .apply(lambda x: x['Завод'] if    insert_vpr(x['Завод']+x['Склад потребности'],spr_obl_ppm,'Область ППМ')==0 else  \\\n",
    "                                     insert_vpr(x['Завод']+x['Склад потребности'],spr_obl_ppm,'Область ППМ'),axis = 1).astype('str')\n",
    "\n",
    "spr_kod_okruga = rev_to_dict(ZMM_E0078_MDLV['Область ППМ'].apply(lambda x: str(x).replace('.0',''))\\\n",
    "                             .astype('str').str.strip(),ZMM_E0078_MDLV['Код округа'])\n",
    "\n",
    "spr_kod_okruga1 = rev_to_dict(T001W['Завод'].apply(lambda x: str(x).replace('.0','')).astype('str'),\\\n",
    "            T001W['Код округа'].apply(lambda x: str(x).replace('.0','')).astype('str'))\n",
    "\n",
    "cons_f0['Код округа'] = cons_f0.apply(lambda x: insert_vpr(x['Завод'],spr_kod_okruga1,'Код округа') if insert_vpr(x['Область ППМ'],spr_kod_okruga,'Код округа')==0 else insert_vpr(x['Область ППМ'],spr_kod_okruga,'Код округа'),axis = 1).astype('str')\n",
    "    \n",
    "\n",
    "\n",
    "\n",
    "\n",
    "# c_f = pd.concat([current_f0.set_index(ind),\n",
    "#                  cons_f0.set_index(ind).loc[:,str(current_date.month-1)+'/2019 Остаток Кол-во':str(current_date.month-2)+'/2019 ФC Сумма']],axis=1).reset_index()\n",
    "\n",
    "\n",
    "\n",
    "\n",
    "\n",
    "# arr5 = pd.concat([c_f[ind],  \n",
    "#         c_f.loc[:,[x for x in c_f.columns if x.find('ПП кол-во')!=-1]],   c_f['Текущее кол-во ПП'],\n",
    "#         c_f.loc[:,[x for x in c_f.columns if x.find('ПП сумма')!=-1]],    c_f['Текущая сумма ПП'],\n",
    "#         c_f.loc[:,[x for x in c_f.columns if x.find('Остаток Кол-во')!=-1]],\n",
    "#         c_f.loc[:,[x for x in c_f.columns if x.find('Остаток Сумма')!=-1]],\n",
    "#         c_f.loc[:,[x for x in c_f.columns if x.find('ФП Кол-во')!=-1]],\n",
    "#         c_f.loc[:,[x for x in c_f.columns if x.find('ФП Сумма')!=-1]],\n",
    "#         c_f.loc[:,[x for x in c_f.columns if x.find('ФC Кол-во')!=-1]],\n",
    "#         c_f.loc[:,[x for x in c_f.columns if x.find('ФC Сумма')!=-1]],\n",
    "#         c_f.loc[:,'Товар в пути (ZNB5, ZNB2/3-АвизОт)':'РР'] ],axis = 1,)\n",
    "\n",
    "\n",
    "\n"
   ]
  },
  {
   "cell_type": "code",
   "execution_count": null,
   "metadata": {},
   "outputs": [],
   "source": [
    "c_f0.fillna(0,inplace=True)\n",
    "cons_f0.fillna(0,inplace=True)\n",
    "c_f0.reset_index(drop=True,inplace = True)\n",
    "cons_f0.reset_index(drop=True,inplace = True)\n",
    "\n",
    "istochniki = [cons_f0,c_f0]\n",
    "\n",
    "for ist in istochniki:\n",
    "    for col in ind:\n",
    "        ist[col] = ist[col].astype('str')"
   ]
  },
  {
   "cell_type": "code",
   "execution_count": null,
   "metadata": {
    "scrolled": true
   },
   "outputs": [],
   "source": [
    "\n",
    "\n",
    "for ist in istochniki:\n",
    "    for col in ind:\n",
    "        ist[col] = ist[col].astype('str')\n",
    "        ist['Цена'] = '0'\n",
    "        \n",
    "cons_f0['Завод']  = cons_f0['Завод+НН'].str.split(' #').apply(lambda x: x[0])\n",
    "spr_zav_obl =  rev_to_dict(sprav_mdlv['Область ППМ'].astype('str').str.strip(),sprav_mdlv['Текст ОблПланирПотр'])\n",
    "cons_f0['Имя Завода'] = cons_f0.apply(lambda x: insert_vpr(x['Завод'],spr_zav_obl,'Текст ОблПланирПотр')  if x['Область ППМ']=='' or x['Область ППМ']==0 else insert_vpr(x['Область ППМ'],spr_zav_obl,'Текст ОблПланирПотр'),axis = 1 )\n",
    "cons_f0['Имя Завода + Материал + Заказ'] = cons_f0['Имя Завода'].astype('str')+' '+cons_f0['Материал'].astype('str')+' '+cons_f0['Заказ'].astype('str')\n",
    "\n",
    "\n",
    "spr_obl_ppm = rev_to_dict(spr_for_obl_ppm['Завод'].apply(lambda x: str(x).replace('.0','')).astype('str')+spr_for_obl_ppm['Склад'].\\\n",
    "            apply(lambda x: str(x).replace('.0','')).astype('str'),spr_for_obl_ppm['Область ППМ'])\n",
    "\n",
    "cons_f0['Область ППМ']  = cons_f0\\\n",
    "                                    .apply(lambda x: x['Завод'] if    insert_vpr(x['Завод']+x['Склад потребности'],spr_obl_ppm,'Область ППМ')==0 else  \\\n",
    "                                     insert_vpr(x['Завод']+x['Склад потребности'],spr_obl_ppm,'Область ППМ'),axis = 1).astype('str')\n",
    "\n",
    "c_f0['Область ППМ']  = c_f0\\\n",
    "                                    .apply(lambda x: x['Завод'] if    insert_vpr(x['Завод']+x['Склад потребности'],spr_obl_ppm,'Область ППМ')==0 else  \\\n",
    "                                     insert_vpr(x['Завод']+x['Склад потребности'],spr_obl_ppm,'Область ППМ'),axis = 1).astype('str')\n",
    "\n",
    "\n",
    "c_f0['Склад потребности'] = c_f0['Склад потребности'].apply(lambda x:'' if x ==0 or x=='0' else x)\n",
    "c_f0['Область ППМ']  = c_f0\\\n",
    "                                    .apply(lambda x: x['Завод'] if    insert_vpr(x['Завод']+x['Склад потребности'],spr_obl_ppm,'Область ППМ')==0 else  \\\n",
    "                                     insert_vpr(x['Завод']+x['Склад потребности'],spr_obl_ppm,'Область ППМ'),axis = 1).astype('str')\n",
    "\n",
    "c_f0['Завод + Область ППМ'] = c_f0['Завод'].astype('str')+' '+c_f0['Область ППМ'].astype('str')\n",
    "cons_f0['Завод + Область ППМ'] = cons_f0['Завод'].astype('str')+' '+cons_f0['Область ППМ'].astype('str')\n",
    "\n",
    "spr_zav_kompl = rev_to_dict(sprav_po_kompl['Завод + Область ППМ'].astype('str').str.strip(),sprav_po_kompl['Комплекс'])\n",
    "c_f0['Комплекс'] = c_f0['Завод + Область ППМ'].apply(lambda x: insert_vpr(x,spr_zav_kompl,'Комплекс') )\n",
    "cons_f0['Комплекс'] = cons_f0['Завод + Область ППМ'].apply(lambda x: insert_vpr(x,spr_zav_kompl,'Комплекс') )\n",
    "\n",
    "cons_f0['Код округа + Материал'] = cons_f0['Код округа'].astype('str')+' '+cons_f0['Материал'].astype('str')\n",
    "\n",
    "c_f0['Код округа + Материал'] = c_f0['Код округа'].astype('str')+' '+c_f0['Материал'].astype('str')\n",
    "\n",
    "c_f0['Заказчик + HH'] = c_f0['Комплекс'].astype('str')+' '+c_f0['Материал'].astype('str')\n",
    "cons_f0['Заказчик + HH'] = cons_f0['Комплекс'].astype('str')+' '+cons_f0['Материал'].astype('str')\n",
    "\n",
    "cons_f0['Склад потребности'] = cons_f0['Склад потребности'].apply(lambda x:'' if x ==0 or x=='0' else x)\n",
    "\n",
    "spr_zav_mat = rev_to_dict(sprav_mat_cal['Завод']+' '+sprav_mat_cal['Материал'],sprav_mat_cal['Плановый срок поставки (завод)'])\n",
    "cons_f0['Центральный завод'] = cons_f0['Центральный завод'].astype('str')\n",
    "for i in cons_f0.index:\n",
    "        try:\n",
    "            if cons_f0.at[i,'Недропользование']==1:cons_f0.at[i,'ПлановСрокПоставки'] =  spr_zav_mat[cons_f0.at[i,'Завод']+' '+cons_f0.at[i,'Материал']]['Плановый срок поставки (завод)']\n",
    "            else:cons_f0.at[i,'ПлановСрокПоставки'] = spr_zav_mat[cons_f0.at[i,'Центральный завод']+' '+cons_f0.at[i,'Материал']]['Плановый срок поставки (завод)']\n",
    "        except KeyError:\n",
    "            pass\n",
    "        \n",
    "c_f0['Центральный завод'] = c_f0['Центральный завод'].astype('str')\n",
    "for i in c_f0.index:\n",
    "        try:\n",
    "            if c_f0.at[i,'Недропользование']==1:c_f0.at[i,'ПлановСрокПоставки'] =  spr_zav_mat[c_f0.at[i,'Завод']+' '+c_f0.at[i,'Материал']]['Плановый срок поставки (завод)']\n",
    "            else:c_f0.at[i,'ПлановСрокПоставки'] = spr_zav_mat[c_f0.at[i,'Центральный завод']+' '+c_f0.at[i,'Материал']]['Плановый срок поставки (завод)']\n",
    "        except KeyError:\n",
    "            pass\n",
    "        \n",
    "cons_f0['ПлановСрокПоставки'] = cons_f0['ПлановСрокПоставки'].apply(lambda x:int(x.split('.')[0]) if  type(x)==str else x)\n",
    "c_f0['ПлановСрокПоставки'] = c_f0['ПлановСрокПоставки'].apply(lambda x:int(x.split('.')[0]) if  type(x)==str else x)\n",
    "\n",
    "for ist in istochniki:\n",
    "    for col in ind:\n",
    "        ist[col] = ist[col].astype('str')\n"
   ]
  },
  {
   "cell_type": "code",
   "execution_count": null,
   "metadata": {},
   "outputs": [],
   "source": []
  },
  {
   "cell_type": "code",
   "execution_count": null,
   "metadata": {},
   "outputs": [],
   "source": []
  },
  {
   "cell_type": "code",
   "execution_count": null,
   "metadata": {},
   "outputs": [],
   "source": [
    "cons_f0['ПлановСрокПоставки'].unique()"
   ]
  },
  {
   "cell_type": "code",
   "execution_count": null,
   "metadata": {},
   "outputs": [],
   "source": [
    "c_f0['ПлановСрокПоставки'].unique()"
   ]
  },
  {
   "cell_type": "code",
   "execution_count": null,
   "metadata": {},
   "outputs": [],
   "source": [
    "ind = ['Категория_запаса','Модуль','Заказ','Категория ТМЦ','Материал','БЕ','Заказчик + HH','Имя Завода + Материал + Заказ','Завод+НН','Завод + Склад','Завод + Область ППМ','Код округа + Материал','Комплекс','Завод','Склад потребности','Область ППМ','Центральный завод','Код округа','Имя Завода','КрТекстМатериала','Базовая ЕИ','Признак аналога','СтатусМтрл на заводе','Класс оценки','Плановик','группа','подгруппа','подподгруппа','Цена','Недропользование','ПлановСрокПоставки']\n",
    "c_f = pd.concat([c_f0.groupby(ind).sum(),\n",
    "                cons_f0.groupby(ind).agg({'Остаток на начало года Кол-во':'sum','Остаток на начало года Сумма':'sum'})],axis=1).reset_index()"
   ]
  },
  {
   "cell_type": "code",
   "execution_count": null,
   "metadata": {},
   "outputs": [],
   "source": [
    "c_f.shape"
   ]
  },
  {
   "cell_type": "code",
   "execution_count": null,
   "metadata": {},
   "outputs": [],
   "source": [
    "arr5 = c_f\n",
    "arr5 = price_main__(arr5,A902,A900,KONP,current_date,pl_kurs)\n",
    "\n",
    "\n",
    "# обозначаем категории\n",
    "arr5['Категория ТМЦ'] = arr5['Категория ТМЦ'] .astype('category')\n",
    "arr5['Категория ТМЦ'].cat.set_categories(['Текущая потребность', 'Без ПП', 'Проект', 'ТНСЗ', 'ГО','Неликвиды', 'Спецодежда','страховой запас'],inplace = True)\n",
    "\n",
    "arr5 = arr5.sort_values('Категория ТМЦ')\n",
    "arr5['Категория ТМЦ'] = arr5['Категория ТМЦ'].astype('str')\n",
    "arr5.fillna(0,inplace=True)\n",
    "# arr5.drop('ПП кол-во 1/1900',inplace=True,axis = 1)\n",
    "# arr5.drop('ПП сумма 1/1900',inplace=True,axis = 1)\n"
   ]
  },
  {
   "cell_type": "code",
   "execution_count": null,
   "metadata": {},
   "outputs": [],
   "source": [
    "rr = potr_with_ostatok_total.copy()\n",
    "spr_toro = rev_to_dict(rr[rr['ТОРО']!=0]['Завод+НН'],rr[rr['ТОРО']!=0]['ТОРО'])\n",
    "spr_pp = rev_to_dict(rr[rr['РР']!=0]['Завод+НН'],rr[rr['РР']!=0]['РР'])\n",
    "spr_prochee = rev_to_dict(rr[rr['ПРОЧЕЕ']!=0]['Завод+НН'],rr[rr['ПРОЧЕЕ']!=0]['ПРОЧЕЕ'])\n",
    "arr5['ПРОЧЕЕ'] = arr5['Завод+НН'].apply(lambda x:  insert_vpr(x,spr_prochee,'ПРОЧЕЕ'))\n",
    "arr5['ТОРО'] = arr5['Завод+НН'].apply(lambda x:  insert_vpr(x,spr_toro,'ТОРО'))\n",
    "arr5['РР'] = arr5['Завод+НН'].apply(lambda x:  insert_vpr(x,spr_pp,'РР'))"
   ]
  },
  {
   "cell_type": "code",
   "execution_count": null,
   "metadata": {},
   "outputs": [],
   "source": [
    "arr5"
   ]
  },
  {
   "cell_type": "code",
   "execution_count": null,
   "metadata": {},
   "outputs": [],
   "source": [
    "arr5 = arr5.reset_index(drop = True)"
   ]
  },
  {
   "cell_type": "code",
   "execution_count": null,
   "metadata": {},
   "outputs": [],
   "source": [
    "arr5.name = 'c_f0_cons_01'\n",
    "save_backup('backup_f0_cons.h5',[arr5])"
   ]
  },
  {
   "cell_type": "code",
   "execution_count": null,
   "metadata": {
    "scrolled": true
   },
   "outputs": [],
   "source": [
    "arr5 =  get_in_backup(path_backup='backup_f0_cons.h5',name='c_f0_cons_02')"
   ]
  },
  {
   "cell_type": "code",
   "execution_count": null,
   "metadata": {},
   "outputs": [],
   "source": [
    "for ind, i in enumerate(np.array_split(arr5,2)) :\n",
    "    save_pyex(df=i,path='C:\\\\Users\\\\Илья\\\\Desktop\\\\kazzinc\\\\Uploads1\\\\'+folder+'\\\\extr_xlsx\\\\'+str(ind)+'.xlsx')\n",
    "    "
   ]
  },
  {
   "cell_type": "code",
   "execution_count": null,
   "metadata": {
    "scrolled": true
   },
   "outputs": [],
   "source": [
    "tttt1 = c_f0.groupby(ind).sum().reset_index()"
   ]
  },
  {
   "cell_type": "code",
   "execution_count": null,
   "metadata": {},
   "outputs": [],
   "source": [
    "tttt2 = cons_f0.groupby(ind).agg({'Остаток на начало года Кол-во':'sum','Остаток на начало года Сумма':'sum'}).reset_index()"
   ]
  },
  {
   "cell_type": "code",
   "execution_count": null,
   "metadata": {
    "scrolled": true
   },
   "outputs": [],
   "source": [
    "tttt1 = get_in_backup(path_backup='backup_f0_cons.h5',name='c_f0_cons_02')"
   ]
  },
  {
   "cell_type": "code",
   "execution_count": null,
   "metadata": {
    "scrolled": true
   },
   "outputs": [],
   "source": [
    "arr5.drop('level_0',axis = 1,inplace = True)"
   ]
  },
  {
   "cell_type": "code",
   "execution_count": null,
   "metadata": {},
   "outputs": [],
   "source": [
    "arr5"
   ]
  },
  {
   "cell_type": "code",
   "execution_count": null,
   "metadata": {
    "scrolled": true
   },
   "outputs": [],
   "source": [
    "tttt1[(tttt1['Материал']=='040104016')&(tttt1['Завод']=='1201')]"
   ]
  },
  {
   "cell_type": "code",
   "execution_count": null,
   "metadata": {
    "scrolled": true
   },
   "outputs": [],
   "source": [
    "tttt2[(tttt2['Материал']=='040104016')&(tttt2['Завод']=='1201')]"
   ]
  },
  {
   "cell_type": "code",
   "execution_count": null,
   "metadata": {},
   "outputs": [],
   "source": [
    "tt = "
   ]
  },
  {
   "cell_type": "code",
   "execution_count": null,
   "metadata": {
    "scrolled": true
   },
   "outputs": [],
   "source": [
    "c_f['Категория ТМЦ'].unique()"
   ]
  },
  {
   "cell_type": "code",
   "execution_count": null,
   "metadata": {},
   "outputs": [],
   "source": [
    "potr_with_ostatok_total['БЕ'].unique()"
   ]
  },
  {
   "cell_type": "code",
   "execution_count": null,
   "metadata": {},
   "outputs": [],
   "source": [
    "save_backup('backup_f0.h5',[c_f0_01,c_f0_02,c_f0_03,c_f0_04,c_f0_05,c_f0_06])"
   ]
  },
  {
   "cell_type": "code",
   "execution_count": null,
   "metadata": {
    "scrolled": true
   },
   "outputs": [],
   "source": [
    "# сохранение остатков на начало периода\n",
    "col_vo_name = 'Остаток на начало года Кол-во'\n",
    "summ_name = 'Остаток на начало года Сумма'\n",
    "\n",
    "ar_ost_n = c_f0[['Склад потребности','Заказ','Категория ТМЦ','Комплекс','Завод+НН','Модуль',col_vo_name,summ_name]].groupby(['Склад потребности','Заказ','Категория ТМЦ','Комплекс','Завод+НН','Модуль']).sum().reset_index().drop_duplicates()\n",
    "\n",
    "ost_nach_perioda = ar_ost_n[ar_ost_n[col_vo_name]>0]\n",
    "ost_nach_perioda.rename(columns={col_vo_name: \"Остаток на начало года Кол-во\",summ_name:'Остаток на начало года Сумма'},inplace=True)\n",
    "ost_nach_perioda.name= 'ost_nach_perioda'\n",
    "save_backup('backup_fine.h5',[ost_nach_perioda])\n",
    "save_backup('backup.h5',[ost_nach_perioda])\n",
    "save_pyex(df=ost_nach_perioda,path='C:\\\\Users\\\\Илья\\\\Desktop\\\\kazzinc\\\\Uploads1\\\\ost_nach_perioda.xlsx')"
   ]
  },
  {
   "cell_type": "code",
   "execution_count": null,
   "metadata": {},
   "outputs": [],
   "source": [
    "# Формирование Общего f0 для одной выгрузки экстракта\n",
    "ind = ['Модуль','Заказ','Категория ТМЦ','Материал','БЕ','Заказчик + HH','Имя Завода + Материал + Заказ','Завод+НН','Завод + Склад','Завод + Область ППМ','Код округа + Материал','Комплекс','Завод','Склад потребности','Область ППМ','Центральный завод','Код округа','Имя Завода','КрТекстМатериала','Базовая ЕИ','Признак аналога','СтатусМтрл на заводе','Класс оценки','Плановик','группа','подгруппа','подподгруппа','Цена','Недропользование','ПлановСрокПоставки']\n",
    "col = ['NB','законтрактовано','Заказ','Категория ТМЦ','Блокированный запас','стрЗапас','Сумма стрЗап','avizot','Сумма_распреденного_расхода','Распределение_расхода','Сумма_распреденного_прихода','Распределение_прихода','Сумма_распреденного_остатка','Распределение_остатака','Количество потребности','month','Материал','БЕ','Заказчик + HH','Имя Завода + Материал + Заказ','Завод+НН','Завод + Склад','Завод + Область ППМ','Код округа + Материал','Комплекс','Завод','Склад потребности','Область ППМ','Центральный завод','Код округа','Имя Завода','КрТекстМатериала','Базовая ЕИ','Признак аналога','СтатусМтрл на заводе','Класс оценки','Плановик','группа','подгруппа','подподгруппа','Цена','Недропользование','ПлановСрокПоставки','Сумма потребности']\n",
    "\n",
    "\n",
    "c_f0_01 = get_in_backup(path_backup='backup_f0.h5',name='c_f0_01')\n",
    "c_f0_02 = get_in_backup(path_backup='backup_f0.h5',name='c_f0_02')\n",
    "c_f0_03 = get_in_backup(path_backup='backup_f0.h5',name='c_f0_03')\n",
    "c_f0_04 = get_in_backup(path_backup='backup_f0.h5',name='c_f0_04')\n",
    "c_f0_05 = get_in_backup(path_backup='backup_f0.h5',name='c_f0_05')\n",
    "c_f0_06 = get_in_backup(path_backup='backup_f0.h5',name='c_f0_06')\n",
    "c_f0_07 = get_in_backup(path_backup='backup_f0.h5',name='c_f0_07')\n",
    "c_f0_08 = get_in_backup(path_backup='backup_f0.h5',name='c_f0_08')\n",
    "\n",
    "\n",
    "istochniki = [c_f0_01,c_f0_02,c_f0_03,c_f0_04,c_f0_05,c_f0_06,c_f0_07,c_f0_08]\n",
    "\n",
    "for ist in istochniki:\n",
    "    for col in ind:\n",
    "        ist[col] = ist[col].astype('str')\n",
    "        ist['Цена'] = '0'\n",
    "        \n",
    "        \n",
    "        \n",
    "\n",
    "c_f = pd.concat([c_f0_01.set_index(ind).loc[:,'1/2019 ФП Кол-во':'1/2019 Остаток Сумма'],\n",
    "                 c_f0_02.set_index(ind).loc[:,'2/2019 ФП Кол-во':'2/2019 Остаток Сумма'],\n",
    "                 c_f0_03.set_index(ind).loc[:,'3/2019 ФП Кол-во':'3/2019 Остаток Сумма'],\n",
    "                 c_f0_04.set_index(ind).loc[:,'4/2019 ФП Кол-во':'4/2019 Остаток Сумма'],\n",
    "                 c_f0_05.set_index(ind).loc[:,'5/2019 ФП Кол-во':'5/2019 Остаток Сумма'],\n",
    "                 c_f0_06.set_index(ind).loc[:,'6/2019 ФП Кол-во':'6/2019 Остаток Сумма'],\n",
    "                 c_f0_07.set_index(ind).loc[:,'7/2019 ФП Кол-во':'7/2019 Остаток Сумма'],\n",
    "                 c_f0_08.set_index(ind)],axis=1).reset_index()\n",
    "\n",
    "\n",
    "\n",
    "\n",
    "arr5 = pd.concat([c_f[ind],  \n",
    "        c_f.loc[:,[x for x in c_f.columns if x.find('ПП кол-во')!=-1]],   c_f['Текущее кол-во ПП'],\n",
    "        c_f.loc[:,[x for x in c_f.columns if x.find('ПП сумма')!=-1]],    c_f['Текущая сумма ПП'],\n",
    "        c_f.loc[:,[x for x in c_f.columns if x.find('Остаток Кол-во')!=-1]],\n",
    "        c_f.loc[:,[x for x in c_f.columns if x.find('Остаток Сумма')!=-1]],\n",
    "        c_f.loc[:,[x for x in c_f.columns if x.find('ФП Кол-во')!=-1]],\n",
    "        c_f.loc[:,[x for x in c_f.columns if x.find('ФП Сумма')!=-1]],\n",
    "        c_f.loc[:,[x for x in c_f.columns if x.find('ФC Кол-во')!=-1]],\n",
    "        c_f.loc[:,[x for x in c_f.columns if x.find('ФC Сумма')!=-1]],\n",
    "        c_f.loc[:,'Товар в пути (ZNB5, ZNB2/3-АвизОт)':]  ],axis = 1,)\n",
    "\n",
    "\n",
    "# обозначаем категории\n",
    "arr5['Категория ТМЦ'] = arr5['Категория ТМЦ'] .astype('category')\n",
    "arr5['Категория ТМЦ'].cat.set_categories(['Текущая потребность', 'Без ПП', 'Проект', 'ТНСЗ', 'ГО','Неликвиды', 'Спецодежда'],inplace = True)\n",
    "\n",
    "arr5 = arr5.sort_values('Категория ТМЦ')\n",
    "arr5['Категория ТМЦ'] = arr5['Категория ТМЦ'].astype('str')\n",
    "arr5.fillna(0,inplace=True)\n",
    "arr5.drop('ПП кол-во 1/1900',inplace=True,axis = 1)\n",
    "arr5.drop('ПП сумма 1/1900',inplace=True,axis = 1)\n",
    "\n"
   ]
  },
  {
   "cell_type": "code",
   "execution_count": null,
   "metadata": {},
   "outputs": [],
   "source": [
    "\n",
    "\n",
    "arr5['Цена'] = arr5['Цена'].astype('float64')\n",
    "\n",
    "A902['Код округа'] = A902['Код округа'].astype('str')\n",
    "A902['Материал'] = A902['Материал'].astype('str')\n",
    "A902['Материал'] = A902['Материал'].apply(lambda x: '0'+str(x) if  len(str(x))<9 else x)\n",
    "A900['Материал'] = A900['Материал'].astype('str')\n",
    "A900['Материал'] = A900['Материал'].apply(lambda x: '0'+str(x) if  len(str(x))<9 else x)\n",
    "arr5['Материал'] = arr5['Материал'].astype('str')\n",
    "A902.fillna(0,inplace=True)\n",
    "A900.fillna(0,inplace=True)\n",
    "KONP.fillna(0,inplace=True)\n",
    "potr_gr = dict(tuple(arr5[arr5['Цена']==0].groupby(['Код округа','Материал'])))\n",
    "potr_gr_mat = dict(tuple(arr5[arr5['Цена']==0].groupby(['Материал'])))\n",
    "konp_gr = dict(tuple(KONP.groupby(['Номер записи условий'])))\n",
    "# c_f0['Цена'] = 0.0000\n",
    "A900 = A900[A900['Конец действия'].apply(lambda x: x.year)==current_date.year]\n",
    "A902 = A902[A902['Конец действия'].apply(lambda x: x.year)==current_date.year]\n",
    "main_price(potr_gr,potr_gr_mat,A900,A902,konp_gr,arr5)"
   ]
  },
  {
   "cell_type": "code",
   "execution_count": null,
   "metadata": {},
   "outputs": [],
   "source": []
  },
  {
   "cell_type": "code",
   "execution_count": null,
   "metadata": {},
   "outputs": [],
   "source": [
    "save_pyex(df=arr5,path='C:\\\\Users\\\\Илья\\\\Desktop\\\\kazzinc\\\\Uploads1\\\\extr_xlsx\\\\f0_cons.xlsx')"
   ]
  },
  {
   "cell_type": "code",
   "execution_count": null,
   "metadata": {},
   "outputs": [],
   "source": [
    "for ind, i in enumerate(np.array_split(arr5,3)) :\n",
    "    save_pyex(df=i,path='C:\\\\Users\\\\User\\\\Desktop\\\\kazzinc\\\\Uploads1\\\\extr_xlsx\\\\'+str(ind)+'.xlsx')"
   ]
  },
  {
   "cell_type": "code",
   "execution_count": null,
   "metadata": {},
   "outputs": [],
   "source": []
  },
  {
   "cell_type": "code",
   "execution_count": null,
   "metadata": {},
   "outputs": [],
   "source": []
  },
  {
   "cell_type": "code",
   "execution_count": null,
   "metadata": {},
   "outputs": [],
   "source": []
  },
  {
   "cell_type": "code",
   "execution_count": null,
   "metadata": {},
   "outputs": [],
   "source": [
    "# для bi\n",
    "c_f0_01 = get_in_backup(path_backup='backup_for_powerBI.h5',name='f0_vertical_01')\n",
    "c_f0_02 = get_in_backup(path_backup='backup_for_powerBI.h5',name='f0_vertical_02')\n",
    "c_f0_03 = get_in_backup(path_backup='backup_for_powerBI.h5',name='f0_vertical_03')\n",
    "c_f0_04 = get_in_backup(path_backup='backup_for_powerBI.h5',name='f0_vertical_04')\n",
    "c_f0_05 = get_in_backup(path_backup='backup_for_powerBI.h5',name='f0_vertical_05')\n",
    "c_f0_06 = get_in_backup(path_backup='backup_for_powerBI.h5',name='f0_vertical_06')\n",
    "c_f0_07 = get_in_backup(path_backup='backup_for_powerBI.h5',name='f0_vertical_07')\n",
    "c_f0_08 = get_in_backup(path_backup='backup_for_powerBI.h5',name='f0_vertical_08')\n",
    "c_f0_09 = get_in_backup(path_backup='backup_for_powerBI.h5',name='f0_vertical_09')\n",
    "\n",
    "months = {1:'Январь',2:'Февраль',3:'Март',4:'Апрель',5:'Май',6:'Июнь',7:'Июль',8:'Август',9:'Сентябрь',10:'Октябрь',11:'Ноябрь',12:'Декабрь'}\n",
    "for ind,df_for_bi in enumerate([c_f0_01,c_f0_02,c_f0_03,c_f0_04,c_f0_05,c_f0_06,c_f0_07,c_f0_08,c_f0_09],start=1) :\n",
    "    df_for_bi['Месяц'] = str(datetime.datetime(2019,ind,1))\n",
    "\n",
    "df_for_bi = pd.DataFrame()\n",
    "df_for_bi = pd.concat([c_f0_01,c_f0_02,c_f0_03,c_f0_04,c_f0_05,c_f0_06,c_f0_07,c_f0_08,c_f0_09])\n",
    "\n",
    "\n",
    "\n",
    "\n",
    "\n",
    "\n",
    "df_for_bi['Категория ТМЦ'] = df_for_bi.apply(lambda x: func_cat_tmc(x),axis = 1)\n",
    "\n",
    "df_for_bi['Завод']  = df_for_bi['Завод+НН'].str.split(' #').apply(lambda x: x[0])\n",
    "BE = pd.DataFrame()\n",
    "for i in range(1,10):\n",
    "    BE = BE.append(get_in_backup(path_backup='backup_f0.h5',name='c_f0_0'+str(i))[['Завод','БЕ']])\n",
    "BE = BE.drop_duplicates()   \n",
    "spr_be = rev_to_dict(BE['Завод'],BE['БЕ'])\n",
    "df_for_bi['БЕ'] = df_for_bi['Завод'].apply(lambda x:  insert_vpr(x,spr_be,'БЕ'))\n",
    "df_for_bi['Материал'] = df_for_bi['Завод+НН'].str.split(' #').apply(lambda x: x[1])\n",
    "\n",
    "df_for_bi['Заказчик + HH'] = df_for_bi['Комплекс'].astype('str')+' '+df_for_bi['Материал'].astype('str')\n",
    "\n",
    "\n",
    "spr_centr_zav_zav = rev_to_dict(central_zavod['Область ППМ'],central_zavod['Центральный Завод'])\n",
    "\n",
    "df_for_bi.reset_index(inplace=True,drop=True)\n",
    "\n",
    "for u in  df_for_bi.index:\n",
    "    if insert_vpr(df_for_bi.at[u,'Область ППМ'],spr_centr_zav_zav,'Центральный Завод') ==0:\n",
    "        df_for_bi.at[u,'Центральный завод'] =  insert_vpr(df_for_bi.at[u,'Завод'],spr_centr_zav_zav,'Центральный Завод')\n",
    "    else:\n",
    "        df_for_bi.at[u,'Центральный завод'] =  insert_vpr(df_for_bi.at[u,'Область ППМ'],spr_centr_zav_zav,'Центральный Завод')    \n",
    "df_for_bi['Центральный завод'] = df_for_bi['Центральный завод'].apply(lambda x: str(x).replace('.0','')).astype('str')  \n",
    "\n",
    "\n",
    "\n",
    "spr_group_mat_l1 = rev_to_dict(group_mat[group_mat['Группа материалов'].str.len()==2]['Группа материалов'],group_mat[group_mat['Группа материалов'].str.len()==2]['Обозначение 2 группы материалов'])\n",
    "df_for_bi['группа'] = df_for_bi['Материал'].str[:2].apply(lambda x:  insert_vpr(x,spr_group_mat_l1,'Обозначение 2 группы материалов'))\n",
    "\n",
    "spr_group_mat_l2 = rev_to_dict(group_mat[group_mat['Группа материалов'].str.len()==4]['Группа материалов'],group_mat[group_mat['Группа материалов'].str.len()==4]['Обозначение 2 группы материалов'])\n",
    "df_for_bi['подгруппа'] = df_for_bi['Материал'].str[:4].apply(lambda x:  insert_vpr(x,spr_group_mat_l2,'Обозначение 2 группы материалов'))\n",
    "\n",
    "\n",
    "spr_group_mat_l3 = rev_to_dict(group_mat[group_mat['Группа материалов'].str.len()==6]['Группа материалов'],group_mat[group_mat['Группа материалов'].str.len()==6]['Обозначение 2 группы материалов'])\n",
    "df_for_bi['подподгруппа'] = df_for_bi['Материал'].str[:6].apply(lambda x:  insert_vpr(x,spr_group_mat_l3,'Обозначение 2 группы материалов'))\n",
    "\n",
    "\n",
    "spr_obl_ppm_centr_zav = rev_to_dict(sprav_mat_cal_last_full['Материал'],sprav_mat_cal_last_full['Краткий текст материала'])\n",
    "df_for_bi['КрТекстМатериала'] = df_for_bi['Материал'].apply(lambda x:  insert_vpr(x,spr_obl_ppm_centr_zav,'Краткий текст материала'))\n",
    "\n",
    "\n",
    "\n",
    "\n",
    "spr_obl_ppm_baz_ei = rev_to_dict(sprav_mat_cal_last_full['Материал'],sprav_mat_cal_last_full['Базовая ЕИ'])\n",
    "df_for_bi['Базовая ЕИ'] = df_for_bi['Материал'].apply(lambda x:  insert_vpr(x,spr_obl_ppm_baz_ei,'Базовая ЕИ'))\n",
    "\n",
    "spr_obl_ppm_name_planov= rev_to_dict(sprav_mat_cal_last_full['Завод']+' #'+sprav_mat_cal_last_full['Материал'],sprav_mat_cal_last_full['Имя плановика (завод)'])\n",
    "df_for_bi['ЦЗ+НН'] = df_for_bi['Центральный завод'].astype('str')+' #'+df_for_bi['Материал'].astype('str')\n",
    "df_for_bi['Плановик'] = df_for_bi['ЦЗ+НН'].apply(lambda x:  insert_vpr(x,spr_obl_ppm_name_planov,'Имя плановика (завод)'))\n",
    "df_for_bi.drop('ЦЗ+НН',inplace=True,axis = 1)\n",
    "\n",
    "\n",
    "spr_obl_ppm_ocenka = rev_to_dict(sprav_mat_cal_last_full['Материал'],sprav_mat_cal_last_full['Класс оценки'])\n",
    "df_for_bi['Класс оценки'] = df_for_bi['Материал'].apply(lambda x:  insert_vpr(x,spr_obl_ppm_ocenka,'Класс оценки'))\n",
    "df_for_bi['Класс оценки'] = df_for_bi['Класс оценки'].apply(lambda x: str(x).replace('.0','')).astype('str')\n",
    "\n",
    "spr_obl_ppm_stat_na_zav = rev_to_dict(sprav_mat_cal_last_full['Завод']+' #'+sprav_mat_cal_last_full['Материал'],sprav_mat_cal_last_full['СтатусМтрл на заводе'])\n",
    "df_for_bi['СтатусМтрл на заводе'] = df_for_bi['Завод+НН'].apply(lambda x:  insert_vpr(x,spr_obl_ppm_stat_na_zav,'СтатусМтрл на заводе'))\n"
   ]
  },
  {
   "cell_type": "code",
   "execution_count": null,
   "metadata": {},
   "outputs": [],
   "source": [
    "A902['Код округа'] = A902['Код округа'].astype('str')\n",
    "A902['Материал'] = A902['Материал'].astype('str')\n",
    "A902['Материал'] = A902['Материал'].apply(lambda x: '0'+str(x) if  len(str(x))<9 else x)\n",
    "A900['Материал'] = A900['Материал'].astype('str')\n",
    "A900['Материал'] = A900['Материал'].apply(lambda x: '0'+str(x) if  len(str(x))<9 else x)\n",
    "df_for_bi['Материал'] = df_for_bi['Материал'].astype('str')\n",
    "A902.fillna(0,inplace=True)\n",
    "A900.fillna(0,inplace=True)\n",
    "KONP.fillna(0,inplace=True)\n",
    "potr_gr = dict(tuple(df_for_bi[df_for_bi['Цена']==0].groupby(['Код округа','Материал'])))\n",
    "potr_gr_mat = dict(tuple(df_for_bi[df_for_bi['Цена']==0].groupby(['Материал'])))\n",
    "konp_gr = dict(tuple(KONP.groupby(['Номер записи условий'])))\n",
    "# c_f0['Цена'] = 0.0000\n",
    "A900 = A900[A900['Конец действия'].apply(lambda x: x.year)==current_date.year]\n",
    "A902 = A902[A902['Конец действия'].apply(lambda x: x.year)==current_date.year]\n",
    "main_price(potr_gr,potr_gr_mat,A900,A902,konp_gr,df_for_bi)"
   ]
  },
  {
   "cell_type": "code",
   "execution_count": null,
   "metadata": {},
   "outputs": [],
   "source": [
    "# for ind,df_for_bi in enumerate([c_f0_01,c_f0_02,c_f0_03,c_f0_04,c_f0_05,c_f0_06,c_f0_07,c_f0_08]):\n",
    "#     print(type(df_for_bi))"
   ]
  },
  {
   "cell_type": "code",
   "execution_count": null,
   "metadata": {},
   "outputs": [],
   "source": [
    "df_for_bi.to_csv('C:\\\\Users\\\\Илья\\\\Desktop\\\\kazzinc\\\\bi1.csv',encoding='utf-8-sig',sep = ';',decimal=',')"
   ]
  },
  {
   "cell_type": "code",
   "execution_count": null,
   "metadata": {},
   "outputs": [],
   "source": [
    "df_for_bi.name = 'f0_vertical_cons'\n",
    "save_backup('df_for_bi_cons.h5',[df_for_bi])"
   ]
  },
  {
   "cell_type": "code",
   "execution_count": null,
   "metadata": {},
   "outputs": [],
   "source": [
    "c_f[(c_f['Материал']=='210701004')&(c_f['БЕ']=='3120')&(c_f['Завод+НН']=='3520 #210701004')]"
   ]
  },
  {
   "cell_type": "code",
   "execution_count": null,
   "metadata": {},
   "outputs": [],
   "source": [
    "c_f0_01['1/2019 ФП Кол-во'].sum()\n"
   ]
  },
  {
   "cell_type": "code",
   "execution_count": null,
   "metadata": {},
   "outputs": [],
   "source": [
    "cons_f0['1/2019 ФП '].sum()"
   ]
  },
  {
   "cell_type": "code",
   "execution_count": null,
   "metadata": {},
   "outputs": [],
   "source": [
    "c_f['1/2019 ФП Кол-во'].sum()"
   ]
  },
  {
   "cell_type": "code",
   "execution_count": null,
   "metadata": {
    "scrolled": true
   },
   "outputs": [],
   "source": [
    "arr5['1/2019 ФП Кол-во'].sum()"
   ]
  },
  {
   "cell_type": "code",
   "execution_count": null,
   "metadata": {},
   "outputs": [],
   "source": [
    "c_f0_01['1/2019 ФП Кол-во'].sum()"
   ]
  },
  {
   "cell_type": "code",
   "execution_count": null,
   "metadata": {},
   "outputs": [],
   "source": [
    "arr5['2/2019 ФC Сумма'].sum()"
   ]
  },
  {
   "cell_type": "code",
   "execution_count": null,
   "metadata": {},
   "outputs": [],
   "source": [
    "c_f0_02['2/2019 ФC Сумма'].sum()"
   ]
  },
  {
   "cell_type": "code",
   "execution_count": null,
   "metadata": {},
   "outputs": [],
   "source": [
    "current_f0['9/2019 Остаток Сумма'].sum()"
   ]
  },
  {
   "cell_type": "code",
   "execution_count": null,
   "metadata": {},
   "outputs": [],
   "source": [
    "arr5['9/2019 Остаток Сумма'].sum()"
   ]
  },
  {
   "cell_type": "code",
   "execution_count": null,
   "metadata": {},
   "outputs": [],
   "source": [
    "c_f0_01 = get_in_backup(path_backup='backup_f0.h5',name='c_f0_01')"
   ]
  },
  {
   "cell_type": "code",
   "execution_count": null,
   "metadata": {},
   "outputs": [],
   "source": [
    "ost_nach_perioda['Остаток на начало года Кол-во'].sum()"
   ]
  },
  {
   "cell_type": "code",
   "execution_count": null,
   "metadata": {},
   "outputs": [],
   "source": [
    "arr5['Остаток на начало года Кол-во'].sum()"
   ]
  },
  {
   "cell_type": "code",
   "execution_count": null,
   "metadata": {},
   "outputs": [],
   "source": [
    "arr5 = get_in_backup(path_backup='f0_cons_09.h5',name='f0_cons_09')"
   ]
  },
  {
   "cell_type": "code",
   "execution_count": null,
   "metadata": {},
   "outputs": [],
   "source": [
    "arr5"
   ]
  },
  {
   "cell_type": "code",
   "execution_count": null,
   "metadata": {},
   "outputs": [],
   "source": [
    "arr5.name = 'f0_cons_11'\n",
    "save_backup('f0_cons_11.h5',[arr5])"
   ]
  },
  {
   "cell_type": "code",
   "execution_count": null,
   "metadata": {},
   "outputs": [],
   "source": [
    "arr5"
   ]
  },
  {
   "cell_type": "code",
   "execution_count": null,
   "metadata": {},
   "outputs": [],
   "source": [
    "arr5.shape"
   ]
  },
  {
   "cell_type": "code",
   "execution_count": null,
   "metadata": {},
   "outputs": [],
   "source": [
    "for ind, i in enumerate(np.array_split(arr5,2)) :\n",
    "    save_pyex(df=i,path='C:\\\\Users\\\\Илья\\\\Desktop\\\\kazzinc\\\\Uploads1\\\\extr_xlsx\\\\'+str(ind)+'t.xlsx')"
   ]
  },
  {
   "cell_type": "code",
   "execution_count": null,
   "metadata": {},
   "outputs": [],
   "source": [
    "save_pyex(df=arr5,path='C:\\\\Users\\\\Илья\\\\Desktop\\\\kazzinc\\\\Uploads1\\\\extr_xlsx\\\\f0_cons_11_test.xlsx')"
   ]
  },
  {
   "cell_type": "code",
   "execution_count": null,
   "metadata": {},
   "outputs": [],
   "source": [
    "# формирование bi отчетности new 15.10.2019\n",
    "# df_for_bi = pd.concat([arr1,arr2])\n",
    "# df_for_bi = get_in_backup(path_backup='backup_for_powerBI.h5',name='f0_vertical_09')\n",
    "# df_for_bi.drop('Unnamed: 109',axis = 1,inplace = True)\n",
    "\n",
    "c_f0_01 = get_in_backup(path_backup='backup_for_powerBI.h5',name='f0_vertical_01')\n",
    "c_f0_02 = get_in_backup(path_backup='backup_for_powerBI.h5',name='f0_vertical_02')\n",
    "c_f0_03 = get_in_backup(path_backup='backup_for_powerBI.h5',name='f0_vertical_03')\n",
    "c_f0_04 = get_in_backup(path_backup='backup_for_powerBI.h5',name='f0_vertical_04')\n",
    "c_f0_05 = get_in_backup(path_backup='backup_for_powerBI.h5',name='f0_vertical_05')\n",
    "c_f0_06 = get_in_backup(path_backup='backup_for_powerBI.h5',name='f0_vertical_06')\n",
    "c_f0_07 = get_in_backup(path_backup='backup_for_powerBI.h5',name='f0_vertical_07')\n",
    "c_f0_08 = get_in_backup(path_backup='backup_for_powerBI.h5',name='f0_vertical_08')\n",
    "c_f0_09 = get_in_backup(path_backup='backup_for_powerBI.h5',name='f0_vertical_09')\n",
    "\n",
    "for ind,df_for_bi in enumerate([c_f0_01,c_f0_02,c_f0_03,c_f0_04,c_f0_05,c_f0_06,c_f0_07,c_f0_08,c_f0_09],start=1) :\n",
    "    df_for_bi['Месяц'] = datetime.datetime(2019,ind,1)\n",
    "\n",
    "df_for_bi = pd.DataFrame()\n",
    "df_for_bi = pd.concat([c_f0_01,c_f0_02,c_f0_03,c_f0_04,c_f0_05,c_f0_06,c_f0_07,c_f0_08,c_f0_09])\n",
    "\n",
    "df_for_bi['Категория ТМЦ'] = df_for_bi.apply(lambda x: func_cat_tmc(x),axis = 1)\n",
    "# df_for_bi = df_for_bi[df_for_bi['Категория ТМЦ']=='Текущая потребность']\n",
    "# df_for_bi.to_csv('C:\\\\Users\\\\Илья\\\\Desktop\\\\kazzinc\\\\bi.csv',encoding='utf-8-sig',sep = ';',decimal=',')\n",
    "\n",
    "df_for_bi['Завод']  = df_for_bi['Завод+НН'].str.split(' #').apply(lambda x: x[0])\n",
    "BE = pd.DataFrame()\n",
    "for i in range(1,10):\n",
    "    BE = BE.append(get_in_backup(path_backup='backup_f0.h5',name='c_f0_0'+str(i))[['Завод','БЕ']])\n",
    "BE = BE.drop_duplicates()   \n",
    "spr_be = rev_to_dict(BE['Завод'],BE['БЕ'])\n",
    "df_for_bi['БЕ'] = df_for_bi['Завод'].apply(lambda x:  insert_vpr(x,spr_be,'БЕ'))\n",
    "df_for_bi['Материал'] = df_for_bi['Завод+НН'].str.split(' #').apply(lambda x: x[1])\n",
    "\n",
    "df_for_bi['Заказчик + HH'] = df_for_bi['Комплекс'].astype('str')+' '+df_for_bi['Материал'].astype('str')\n",
    "\n",
    "\n",
    "spr_centr_zav_zav = rev_to_dict(central_zavod['Область ППМ'],central_zavod['Центральный Завод'])\n",
    "\n",
    "df_for_bi.reset_index(inplace=True,drop=True)\n",
    "\n",
    "for u in  df_for_bi.index:\n",
    "    if insert_vpr(df_for_bi.at[u,'Область ППМ'],spr_centr_zav_zav,'Центральный Завод') ==0:\n",
    "        df_for_bi.at[u,'Центральный завод'] =  insert_vpr(df_for_bi.at[u,'Завод'],spr_centr_zav_zav,'Центральный Завод')\n",
    "    else:\n",
    "        df_for_bi.at[u,'Центральный завод'] =  insert_vpr(df_for_bi.at[u,'Область ППМ'],spr_centr_zav_zav,'Центральный Завод')    \n",
    "df_for_bi['Центральный завод'] = df_for_bi['Центральный завод'].apply(lambda x: str(x).replace('.0','')).astype('str')  \n",
    "\n",
    "\n",
    "\n",
    "spr_group_mat_l1 = rev_to_dict(group_mat[group_mat['Группа материалов'].str.len()==2]['Группа материалов'],group_mat[group_mat['Группа материалов'].str.len()==2]['Обозначение 2 группы материалов'])\n",
    "df_for_bi['группа'] = df_for_bi['Материал'].str[:2].apply(lambda x:  insert_vpr(x,spr_group_mat_l1,'Обозначение 2 группы материалов'))\n",
    "\n",
    "spr_group_mat_l2 = rev_to_dict(group_mat[group_mat['Группа материалов'].str.len()==4]['Группа материалов'],group_mat[group_mat['Группа материалов'].str.len()==4]['Обозначение 2 группы материалов'])\n",
    "df_for_bi['подгруппа'] = df_for_bi['Материал'].str[:4].apply(lambda x:  insert_vpr(x,spr_group_mat_l2,'Обозначение 2 группы материалов'))\n",
    "\n",
    "\n",
    "spr_group_mat_l3 = rev_to_dict(group_mat[group_mat['Группа материалов'].str.len()==6]['Группа материалов'],group_mat[group_mat['Группа материалов'].str.len()==6]['Обозначение 2 группы материалов'])\n",
    "df_for_bi['подподгруппа'] = df_for_bi['Материал'].str[:6].apply(lambda x:  insert_vpr(x,spr_group_mat_l3,'Обозначение 2 группы материалов'))\n",
    "\n",
    "\n",
    "spr_obl_ppm_centr_zav = rev_to_dict(sprav_mat_cal_last_full['Материал'],sprav_mat_cal_last_full['Краткий текст материала'])\n",
    "df_for_bi['КрТекстМатериала'] = df_for_bi['Материал'].apply(lambda x:  insert_vpr(x,spr_obl_ppm_centr_zav,'Краткий текст материала'))\n",
    "\n",
    "\n",
    "\n",
    "\n",
    "spr_obl_ppm_baz_ei = rev_to_dict(sprav_mat_cal_last_full['Материал'],sprav_mat_cal_last_full['Базовая ЕИ'])\n",
    "df_for_bi['Базовая ЕИ'] = df_for_bi['Материал'].apply(lambda x:  insert_vpr(x,spr_obl_ppm_baz_ei,'Базовая ЕИ'))\n",
    "\n",
    "spr_obl_ppm_name_planov= rev_to_dict(sprav_mat_cal_last_full['Завод']+' #'+sprav_mat_cal_last_full['Материал'],sprav_mat_cal_last_full['Имя плановика (завод)'])\n",
    "df_for_bi['ЦЗ+НН'] = df_for_bi['Центральный завод'].astype('str')+' #'+df_for_bi['Материал'].astype('str')\n",
    "df_for_bi['Плановик'] = df_for_bi['ЦЗ+НН'].apply(lambda x:  insert_vpr(x,spr_obl_ppm_name_planov,'Имя плановика (завод)'))\n",
    "df_for_bi.drop('ЦЗ+НН',inplace=True,axis = 1)\n",
    "\n",
    "\n",
    "spr_obl_ppm_ocenka = rev_to_dict(sprav_mat_cal_last_full['Материал'],sprav_mat_cal_last_full['Класс оценки'])\n",
    "df_for_bi['Класс оценки'] = df_for_bi['Материал'].apply(lambda x:  insert_vpr(x,spr_obl_ppm_ocenka,'Класс оценки'))\n",
    "df_for_bi['Класс оценки'] = df_for_bi['Класс оценки'].apply(lambda x: str(x).replace('.0','')).astype('str')\n",
    "\n",
    "spr_obl_ppm_stat_na_zav = rev_to_dict(sprav_mat_cal_last_full['Завод']+' #'+sprav_mat_cal_last_full['Материал'],sprav_mat_cal_last_full['СтатусМтрл на заводе'])\n",
    "df_for_bi['СтатусМтрл на заводе'] = df_for_bi['Завод+НН'].apply(lambda x:  insert_vpr(x,spr_obl_ppm_stat_na_zav,'СтатусМтрл на заводе'))\n",
    "\n",
    "\n",
    "# df_for_bi['Заказ'] = df_for_bi['Заказ'].apply(lambda x: str(x).replace('.0','')).astype('str')\n",
    "# df_for_bi.loc[df_for_bi[df_for_bi['Заказ'].str.startswith('2')].index,'Заказ'] = '0'\n",
    "\n",
    "\n",
    "# ind = ['month','Модуль','Заказ','Категория ТМЦ','Материал','БЕ','Заказчик + HH','Завод+НН','Завод + Склад','Завод + Область ППМ','Комплекс','Завод','Склад потребности','Область ППМ','Центральный завод','Код округа','Имя Завода','КрТекстМатериала','Базовая ЕИ','Признак аналога','СтатусМтрл на заводе','Класс оценки','Плановик','группа','подгруппа','подподгруппа','Цена','Недропользование','ПлановСрокПоставки']\n",
    "# df_for_bi['Цена'] = 0\n",
    "# df_for_bi['Цена'] = df_for_bi['Цена'].astype('str')\n",
    "# for st in ind:\n",
    "#     df_for_bi[st] = df_for_bi[st].astype('str')\n",
    "    \n",
    "\n",
    "    \n",
    "# aggregate= dict((x,'sum') for x in df_for_bi.columns if df_for_bi[x].dtype=='float64' and x!='Цена')\n",
    "# aggregate['Цена'] = ['max']\n",
    "\n",
    "\n",
    "\n",
    "# ind.remove('Цена')\n",
    "# df_for_bi = df_for_bi.groupby(ind).agg(aggregate).reset_index()\n",
    "# df_for_bi['Цена'] = df_for_bi['Цена'].astype('float64')\n",
    "# df_for_bi.columns =   [x[0] for x in df_for_bi.columns]\n",
    "\n",
    "A902['Код округа'] = A902['Код округа'].astype('str')\n",
    "A902['Материал'] = A902['Материал'].astype('str')\n",
    "A902['Материал'] = A902['Материал'].apply(lambda x: '0'+str(x) if  len(str(x))<9 else x)\n",
    "A900['Материал'] = A900['Материал'].astype('str')\n",
    "A900['Материал'] = A900['Материал'].apply(lambda x: '0'+str(x) if  len(str(x))<9 else x)\n",
    "df_for_bi['Материал'] = df_for_bi['Материал'].astype('str')\n",
    "A902.fillna(0,inplace=True)\n",
    "A900.fillna(0,inplace=True)\n",
    "KONP.fillna(0,inplace=True)\n",
    "potr_gr = dict(tuple(df_for_bi[df_for_bi['Цена']==0].groupby(['Код округа','Материал'])))\n",
    "potr_gr_mat = dict(tuple(df_for_bi[df_for_bi['Цена']==0].groupby(['Материал'])))\n",
    "konp_gr = dict(tuple(KONP.groupby(['Номер записи условий'])))\n",
    "# c_f0['Цена'] = 0.0000\n",
    "A900 = A900[A900['Конец действия'].apply(lambda x: x.year)==current_date.year]\n",
    "A902 = A902[A902['Конец действия'].apply(lambda x: x.year)==current_date.year]\n",
    "main_price(potr_gr,potr_gr_mat,A900,A902,konp_gr,df_for_bi)"
   ]
  },
  {
   "cell_type": "code",
   "execution_count": null,
   "metadata": {},
   "outputs": [],
   "source": [
    "save_pyex(df=df_for_bi,path='C:\\\\Users\\\\Илья\\\\Desktop\\\\kazzinc\\\\bi1.xlsx')"
   ]
  },
  {
   "cell_type": "code",
   "execution_count": null,
   "metadata": {},
   "outputs": [],
   "source": [
    "df_for_bi.to_csv('C:\\\\Users\\\\Илья\\\\Desktop\\\\kazzinc\\\\bi1.csv',encoding='utf-8-sig',sep = ';',decimal=',')"
   ]
  },
  {
   "cell_type": "code",
   "execution_count": null,
   "metadata": {},
   "outputs": [],
   "source": [
    "df_for_bi['Распределение_остатака'].sum()"
   ]
  },
  {
   "cell_type": "code",
   "execution_count": null,
   "metadata": {},
   "outputs": [],
   "source": [
    "df_for_bi.drop(['Unnamed: 104','Unnamed: 109'],axis = 1,inplace=True)"
   ]
  },
  {
   "cell_type": "code",
   "execution_count": null,
   "metadata": {},
   "outputs": [],
   "source": [
    "df_for_bi.name = 'f0_vertical_cons'\n",
    "save_backup('df_for_bi_cons.h5',[df_for_bi])"
   ]
  },
  {
   "cell_type": "code",
   "execution_count": null,
   "metadata": {},
   "outputs": [],
   "source": []
  },
  {
   "cell_type": "code",
   "execution_count": null,
   "metadata": {},
   "outputs": [],
   "source": []
  },
  {
   "cell_type": "code",
   "execution_count": null,
   "metadata": {},
   "outputs": [],
   "source": [
    "c_f0_08 =  get_in_backup(path_backup='backup_for_powerBI.h5',name='f0_vertical_08')\n",
    "c_f0_09 =  get_in_backup(path_backup='backup_for_powerBI.h5',name='f0_vertical_09')\n",
    "\n",
    "c_f0_10 =  get_in_backup(path_backup='backup_for_powerBI_test_no.h5',name='f0_vertical_10')\n",
    "c_f0_11 =  get_in_backup(path_backup='backup_for_powerBI_test_no.h5',name='f0_vertical_11')"
   ]
  },
  {
   "cell_type": "code",
   "execution_count": null,
   "metadata": {},
   "outputs": [],
   "source": [
    "# df_for_bi = c_f0_08.copy()\n",
    "# df_for_bi = c_f0_09.copy()\n",
    "# df_for_bi = c_f0_10.copy()\n",
    "df_for_bi = c_f0_11.copy()"
   ]
  },
  {
   "cell_type": "code",
   "execution_count": null,
   "metadata": {},
   "outputs": [],
   "source": [
    "# POWRER BI По месячно 11112019\n",
    "\n",
    "fr_bad = df_for_bi[(df_for_bi['Блокированный запас']>0)&(df_for_bi['Распределение_остатака']>0)]\n",
    "df_for_bi.loc[fr_bad.index,['Распределение_остатака','Сумма_распреденного_остатка','Распределение_прихода','Сумма_распреденного_прихода','Распределение_расхода','Сумма_распреденного_расхода','avizot','стрЗапас']]    = 0\n",
    "fr_bad.loc[:,['Блокированный запас','Ст-ть/блок. запаса']]=0\n",
    "df_for_bi = pd.concat([df_for_bi,fr_bad],axis=0,ignore_index=True)\n",
    "df_for_bi['Категория ТМЦ'] = df_for_bi.apply(lambda x: func_cat_tmc(x),axis = 1)\n",
    "\n",
    "df_for_bi['month'] = df_for_bi['month'].apply( lambda x: datetime.datetime(1900,1,1) if x==0 else x)\n",
    "\n",
    "fil = df_for_bi[df_for_bi['Категория ТМЦ']=='ТНСЗ']\n",
    "\n",
    "df_for_bi.loc[fil.index,'Распределение_остатака'] = df_for_bi.loc[fil.index,'Распределение_остатака']+ df_for_bi.loc[fil.index,'Блокированный запас'] \n",
    "df_for_bi.loc[fil.index,'Сумма_распреденного_остатка'] =df_for_bi.loc[fil.index,'Сумма_распреденного_остатка']+ df_for_bi.loc[fil.index,'Ст-ть/блок. запаса']  \n",
    "\n",
    "\n",
    "\n",
    "\n",
    "# менять согласно месяца\n",
    "df_for_bi['Месяц'] = datetime.datetime(2019,11,1)\n",
    "\n",
    "\n",
    "\n",
    "\n",
    "df_for_bi['Завод']  = df_for_bi['Завод+НН'].str.split(' #').apply(lambda x: x[0])\n",
    "BE = pd.DataFrame()\n",
    "for i in range(1,11):\n",
    "    if i <10:\n",
    "        BE = BE.append(get_in_backup(path_backup='backup_f0.h5',name='c_f0_0'+str(i))[['Завод','БЕ']])\n",
    "    else:\n",
    "        BE = BE.append(get_in_backup(path_backup='backup_f0.h5',name='c_f0_'+str(i))[['Завод','БЕ']])\n",
    "BE = BE.drop_duplicates()   \n",
    "spr_be = rev_to_dict(BE['Завод'],BE['БЕ'])\n",
    "df_for_bi['БЕ'] = df_for_bi['Завод'].apply(lambda x:  insert_vpr(x,spr_be,'БЕ'))\n",
    "df_for_bi['Материал'] = df_for_bi['Завод+НН'].str.split(' #').apply(lambda x: x[1])\n",
    "\n",
    "df_for_bi['Заказчик + HH'] = df_for_bi['Комплекс'].astype('str')+' '+df_for_bi['Материал'].astype('str')\n",
    "\n",
    "\n",
    "spr_centr_zav_zav = rev_to_dict(central_zavod['Область ППМ'],central_zavod['Центральный Завод'])\n",
    "\n",
    "df_for_bi.reset_index(inplace=True,drop=True)\n",
    "\n",
    "for u in  df_for_bi.index:\n",
    "    if insert_vpr(df_for_bi.at[u,'Область ППМ'],spr_centr_zav_zav,'Центральный Завод') ==0:\n",
    "        df_for_bi.at[u,'Центральный завод'] =  insert_vpr(df_for_bi.at[u,'Завод'],spr_centr_zav_zav,'Центральный Завод')\n",
    "    else:\n",
    "        df_for_bi.at[u,'Центральный завод'] =  insert_vpr(df_for_bi.at[u,'Область ППМ'],spr_centr_zav_zav,'Центральный Завод')    \n",
    "df_for_bi['Центральный завод'] = df_for_bi['Центральный завод'].apply(lambda x: str(x).replace('.0','')).astype('str')  \n",
    "\n",
    "\n",
    "\n",
    "spr_group_mat_l1 = rev_to_dict(group_mat[group_mat['Группа материалов'].str.len()==2]['Группа материалов'],group_mat[group_mat['Группа материалов'].str.len()==2]['Обозначение 2 группы материалов'])\n",
    "df_for_bi['группа'] = df_for_bi['Материал'].str[:2].apply(lambda x:  insert_vpr(x,spr_group_mat_l1,'Обозначение 2 группы материалов'))\n",
    "\n",
    "spr_group_mat_l2 = rev_to_dict(group_mat[group_mat['Группа материалов'].str.len()==4]['Группа материалов'],group_mat[group_mat['Группа материалов'].str.len()==4]['Обозначение 2 группы материалов'])\n",
    "df_for_bi['подгруппа'] = df_for_bi['Материал'].str[:4].apply(lambda x:  insert_vpr(x,spr_group_mat_l2,'Обозначение 2 группы материалов'))\n",
    "\n",
    "\n",
    "spr_group_mat_l3 = rev_to_dict(group_mat[group_mat['Группа материалов'].str.len()==6]['Группа материалов'],group_mat[group_mat['Группа материалов'].str.len()==6]['Обозначение 2 группы материалов'])\n",
    "df_for_bi['подподгруппа'] = df_for_bi['Материал'].str[:6].apply(lambda x:  insert_vpr(x,spr_group_mat_l3,'Обозначение 2 группы материалов'))\n",
    "\n",
    "\n",
    "spr_obl_ppm_centr_zav = rev_to_dict(sprav_mat_cal_last_full['Материал'],sprav_mat_cal_last_full['Краткий текст материала'])\n",
    "df_for_bi['КрТекстМатериала'] = df_for_bi['Материал'].apply(lambda x:  insert_vpr(x,spr_obl_ppm_centr_zav,'Краткий текст материала'))\n",
    "\n",
    "\n",
    "\n",
    "\n",
    "spr_obl_ppm_baz_ei = rev_to_dict(sprav_mat_cal_last_full['Материал'],sprav_mat_cal_last_full['Базовая ЕИ'])\n",
    "df_for_bi['Базовая ЕИ'] = df_for_bi['Материал'].apply(lambda x:  insert_vpr(x,spr_obl_ppm_baz_ei,'Базовая ЕИ'))\n",
    "\n",
    "spr_obl_ppm_name_planov= rev_to_dict(sprav_mat_cal_last_full['Завод']+' #'+sprav_mat_cal_last_full['Материал'],sprav_mat_cal_last_full['Имя плановика (завод)'])\n",
    "df_for_bi['ЦЗ+НН'] = df_for_bi['Центральный завод'].astype('str')+' #'+df_for_bi['Материал'].astype('str')\n",
    "df_for_bi['Плановик'] = df_for_bi['ЦЗ+НН'].apply(lambda x:  insert_vpr(x,spr_obl_ppm_name_planov,'Имя плановика (завод)'))\n",
    "df_for_bi.drop('ЦЗ+НН',inplace=True,axis = 1)\n",
    "\n",
    "\n",
    "spr_obl_ppm_ocenka = rev_to_dict(sprav_mat_cal_last_full['Материал'],sprav_mat_cal_last_full['Класс оценки'])\n",
    "df_for_bi['Класс оценки'] = df_for_bi['Материал'].apply(lambda x:  insert_vpr(x,spr_obl_ppm_ocenka,'Класс оценки'))\n",
    "df_for_bi['Класс оценки'] = df_for_bi['Класс оценки'].apply(lambda x: str(x).replace('.0','')).astype('str')\n",
    "\n",
    "spr_obl_ppm_stat_na_zav = rev_to_dict(sprav_mat_cal_last_full['Завод']+' #'+sprav_mat_cal_last_full['Материал'],sprav_mat_cal_last_full['СтатусМтрл на заводе'])\n",
    "df_for_bi['СтатусМтрл на заводе'] = df_for_bi['Завод+НН'].apply(lambda x:  insert_vpr(x,spr_obl_ppm_stat_na_zav,'СтатусМтрл на заводе'))\n",
    "\n",
    "\n",
    "\n",
    "\n",
    "A902['Код округа'] = A902['Код округа'].astype('str')\n",
    "A902['Материал'] = A902['Материал'].astype('str')\n",
    "A902['Материал'] = A902['Материал'].apply(lambda x: '0'+str(x) if  len(str(x))<9 else x)\n",
    "A900['Материал'] = A900['Материал'].astype('str')\n",
    "A900['Материал'] = A900['Материал'].apply(lambda x: '0'+str(x) if  len(str(x))<9 else x)\n",
    "df_for_bi['Материал'] = df_for_bi['Материал'].astype('str')\n",
    "A902.fillna(0,inplace=True)\n",
    "A900.fillna(0,inplace=True)\n",
    "KONP.fillna(0,inplace=True)\n",
    "potr_gr = dict(tuple(df_for_bi[df_for_bi['Цена']==0].groupby(['Код округа','Материал'])))\n",
    "potr_gr_mat = dict(tuple(df_for_bi[df_for_bi['Цена']==0].groupby(['Материал'])))\n",
    "konp_gr = dict(tuple(KONP.groupby(['Номер записи условий'])))\n",
    "# c_f0['Цена'] = 0.0000\n",
    "A900 = A900[A900['Конец действия'].apply(lambda x: x.year)==current_date.year]\n",
    "A902 = A902[A902['Конец действия'].apply(lambda x: x.year)==current_date.year]\n",
    "main_price(potr_gr,potr_gr_mat,A900,A902,konp_gr,df_for_bi)\n",
    "\n",
    "\n",
    "df_for_bi.drop([x for x in df_for_bi.columns if x.find('Unnamed')!=-1],axis = 1,inplace=True)"
   ]
  },
  {
   "cell_type": "code",
   "execution_count": null,
   "metadata": {},
   "outputs": [],
   "source": [
    "# df_for_bi.drop([x for x in df_for_bi.columns if x.find('Unnamed')!=-1],axis = 1,inplace=True)"
   ]
  },
  {
   "cell_type": "code",
   "execution_count": null,
   "metadata": {},
   "outputs": [],
   "source": [
    "df_for_bi['Дата потребности'].apply(lambda x: x.year)"
   ]
  },
  {
   "cell_type": "code",
   "execution_count": null,
   "metadata": {},
   "outputs": [],
   "source": [
    "c_f0_08 = df_for_bi.copy()"
   ]
  },
  {
   "cell_type": "code",
   "execution_count": null,
   "metadata": {},
   "outputs": [],
   "source": [
    "c_f0_09 = df_for_bi.copy()"
   ]
  },
  {
   "cell_type": "code",
   "execution_count": null,
   "metadata": {},
   "outputs": [],
   "source": [
    "c_f0_10 = df_for_bi.copy()"
   ]
  },
  {
   "cell_type": "code",
   "execution_count": null,
   "metadata": {},
   "outputs": [],
   "source": [
    "c_f0_11 = df_for_bi.copy()"
   ]
  },
  {
   "cell_type": "code",
   "execution_count": null,
   "metadata": {
    "scrolled": true
   },
   "outputs": [],
   "source": [
    "cons_power_bi = pd.concat([c_f0_08,c_f0_09,c_f0_10,c_f0_11])\n",
    "cons_power_bi.name = 'cons_power_bi'"
   ]
  },
  {
   "cell_type": "code",
   "execution_count": null,
   "metadata": {},
   "outputs": [],
   "source": [
    "save_backup('cons_power_bi.h5',[cons_power_bi])\n"
   ]
  },
  {
   "cell_type": "code",
   "execution_count": null,
   "metadata": {},
   "outputs": [],
   "source": [
    "ar = get_in_backup(path_backup='cons_power_bi.h5',name='cons_power_bi1')"
   ]
  },
  {
   "cell_type": "code",
   "execution_count": null,
   "metadata": {},
   "outputs": [],
   "source": [
    "# подмена -1 месяца для power bi\n",
    "ar.reset_index(drop=True,inplace = True)\n",
    "ar1 = ar[ar['Месяц']==datetime.datetime(2019,11,1)]\n",
    "ar2 = ar1[ar1['month'].dt.month==10].index\n",
    "ar.loc[ar2,'month'] = datetime.datetime(2019,12,1)"
   ]
  },
  {
   "cell_type": "code",
   "execution_count": null,
   "metadata": {},
   "outputs": [],
   "source": [
    "# cons_power_bi  = ar.copy()\n",
    "# cons_power_bi.name = 'cons_power_bi'\n",
    "# save_backup('cons_power_bi.h5',[cons_power_bi])\n",
    "\n",
    "cons_power_bi  = ar.copy()\n",
    "cons_power_bi.name = 'cons_power_bi_with_rcm'\n",
    "save_backup('cons_power_bi.h5',[cons_power_bi])\n",
    "\n",
    "\n",
    "# cons_power_bi  = ar.copy()\n",
    "# cons_power_bi.name = 'cons_power_bi1'\n",
    "# save_backup('cons_power_bi.h5',[cons_power_bi])\n"
   ]
  },
  {
   "cell_type": "code",
   "execution_count": null,
   "metadata": {},
   "outputs": [],
   "source": [
    "ar1 = ar[ar['Месяц']!=datetime.datetime(2019,11,1)]"
   ]
  },
  {
   "cell_type": "code",
   "execution_count": null,
   "metadata": {},
   "outputs": [],
   "source": [
    "ar = pd.concat([ar1,c_f0_11])"
   ]
  },
  {
   "cell_type": "code",
   "execution_count": null,
   "metadata": {},
   "outputs": [],
   "source": [
    "ar['Месяц'].unique()"
   ]
  },
  {
   "cell_type": "code",
   "execution_count": null,
   "metadata": {},
   "outputs": [],
   "source": [
    "cons_power_bi = cons_power_bi[cons_power_bi['month'].dt.month==11]"
   ]
  },
  {
   "cell_type": "code",
   "execution_count": null,
   "metadata": {},
   "outputs": [],
   "source": [
    "ar[400000:600000].to_csv('C:\\\\Users\\\\Илья\\\\Desktop\\\\kazzinc\\\\bi1.csv',encoding='utf-8-sig',sep = ';',decimal=',')"
   ]
  },
  {
   "cell_type": "code",
   "execution_count": null,
   "metadata": {},
   "outputs": [],
   "source": [
    "cons_power_bi.to_csv('C:\\\\Users\\\\Илья\\\\Desktop\\\\kazzinc\\\\bi1.csv',encoding='utf-8-sig',sep = ';',decimal=',')"
   ]
  },
  {
   "cell_type": "code",
   "execution_count": null,
   "metadata": {},
   "outputs": [],
   "source": [
    "cons_power_bi  = ar.copy()"
   ]
  },
  {
   "cell_type": "code",
   "execution_count": null,
   "metadata": {},
   "outputs": [],
   "source": [
    "ar[:100000]"
   ]
  },
  {
   "cell_type": "code",
   "execution_count": null,
   "metadata": {},
   "outputs": [],
   "source": [
    "# Конвертация целевого остатка остатка для bi целевой\n",
    "sprav_mdlv = pd.read_excel('C:\\\\Users\\\\Илья\\\\Desktop\\\\kazzinc\\\\files for power bi\\\\Целевой.xlsx',sheet_name='sheet1')\n",
    "sprav_mdlv.columns = [x.replace('\\n','') for x in [x.replace('\\r','') for x in sprav_mdlv.columns]]  \n",
    "# save_pyex(df=sprav_mdlv,path='C:\\\\Users\\\\Илья\\\\Desktop\\\\kazzinc\\\\Целевой.xlsx')\n",
    "aa = sprav_mdlv.set_index(list(sprav_mdlv.loc[:,'Укрупненный Заказчик':'Категория ТМЦ (Операционный бюджет, Проекты, ТНСЗ и др.)'].columns)).stack().reset_index()\n",
    "ind = aa['level_9'].apply(lambda x:True if x.find('Сумма')!=-1 else False)\n",
    "bb = aa.loc[~ind]\n",
    "cc = aa.loc[ind]\n",
    "bb.rename(columns={0: \"Кол-во\"},inplace=True)\n",
    "cc.rename(columns={0: \"Сумма\"},inplace=True)\n",
    "tot = pd.concat([cc,bb])\n",
    "months = {'Январь':1,'Февраль':2,'Март':3,'Апрель':4,'Май':5,'Июнь':6,'Июль':7,'Август':8,'Сентябрь':9,'Октябрь':10,'Ноябрь':11,'Декабрь':12}\n",
    "tot['Date'] = tot.apply(lambda x: datetime.datetime(2019,months[x['level_9'][4:x['level_9'].find(',')].strip()],1)   ,axis = 1)\n",
    "tot.fillna(0,inplace=True)"
   ]
  },
  {
   "cell_type": "code",
   "execution_count": null,
   "metadata": {},
   "outputs": [],
   "source": [
    "tot.to_csv('C:\\\\Users\\\\Илья\\\\Desktop\\\\kazzinc\\\\files for power bi\\\\целевой.csv',encoding='utf-8-sig',sep = ';',decimal=',')"
   ]
  },
  {
   "cell_type": "code",
   "execution_count": null,
   "metadata": {},
   "outputs": [],
   "source": [
    "cons_power_bi"
   ]
  },
  {
   "cell_type": "code",
   "execution_count": null,
   "metadata": {},
   "outputs": [],
   "source": [
    "c_f0_01.name = 'c_f0_01'\n",
    "c_f0_02.name = 'c_f0_02'\n",
    "c_f0_03.name = 'c_f0_03'\n",
    "c_f0_04.name = 'c_f0_04'\n",
    "c_f0_05.name = 'c_f0_05'\n",
    "c_f0_06.name = 'c_f0_06'\n",
    "save_backup('backup_f0.h5',[c_f0_01,c_f0_02,c_f0_03,c_f0_04,c_f0_05,c_f0_06])"
   ]
  },
  {
   "cell_type": "code",
   "execution_count": null,
   "metadata": {},
   "outputs": [],
   "source": [
    "save_pyex(df=arr5,path='C:\\\\Users\\\\User\\\\Desktop\\\\kazzinc\\\\Uploads1\\\\extr_xlsx\\\\f0.xlsx')"
   ]
  },
  {
   "cell_type": "code",
   "execution_count": null,
   "metadata": {
    "scrolled": true
   },
   "outputs": [],
   "source": [
    "ar"
   ]
  },
  {
   "cell_type": "code",
   "execution_count": null,
   "metadata": {},
   "outputs": [],
   "source": [
    "arr_8 = ar[ar['Месяц'].dt.month==8]\n",
    "arr_9 = ar[ar['Месяц'].dt.month==9]\n",
    "arr_10 = ar[ar['Месяц'].dt.month==10]\n",
    "arr_11 = ar[ar['Месяц'].dt.month==11]"
   ]
  },
  {
   "cell_type": "code",
   "execution_count": null,
   "metadata": {},
   "outputs": [],
   "source": [
    "rcm = pd.read_excel('E:\\\\RCM\\\\RCM 11.xlsx',sheet_name='Sheet1')"
   ]
  },
  {
   "cell_type": "code",
   "execution_count": null,
   "metadata": {},
   "outputs": [],
   "source": [
    "# Подтягивает RCM для PBI\n",
    "def RCM(f0,ZNB,rcm):\n",
    "    spr_kompl_mat_komp_znb_full = rev_to_dict(ZNB['Комплекс+Маттериал'],ZNB ['Карточка RCM'])\n",
    "    spr_mat_znb = rev_to_dict(ZNB['Материал'],ZNB ['Карточка RCM'])\n",
    "\n",
    "    for ind in f0.index:\n",
    "        if (f0.at[ind,'avizot']   + f0.at[ind,'законтрактовано'])>0:\n",
    "            if insert_vpr(f0.at[ind,'Заказчик + HH'],spr_kompl_mat_komp_znb_full,'Карточка RCM')==0 and f0.at[ind,'Комплекс'] in  filter_else['one'].values:\n",
    "                f0.at[ind,'RCM']  = insert_vpr(f0.at[ind,'Материал'],spr_mat_znb,'Карточка RCM')\n",
    "            else:\n",
    "                f0.at[ind,'RCM'] = insert_vpr(f0.at[ind,'Заказчик + HH'],spr_kompl_mat_komp_znb_full,'Карточка RCM')\n",
    "    f0['RCM'] = f0['RCM'].apply(lambda x: str(x).replace('.0','')).astype('str')  \n",
    "    rcm['Ид. случая'] = rcm['Ид. случая'].astype('str')\n",
    "    spr_dat_zak = rev_to_dict(rcm['Ид. случая'], rcm['Дата заключения'])\n",
    "    f0['Дата заключения RCM'] = f0['RCM'].apply(lambda x: datetime.datetime(1900,1,1)  if insert_vpr(x,spr_dat_zak,'Дата заключения')==0 else insert_vpr(x,spr_dat_zak,'Дата заключения') )\n",
    "    f0['Дата заключения RCM'] = f0['Дата заключения RCM'].apply(lambda x: datetime.datetime(1900,1,1) if x==0 else x)\n",
    "    f0.fillna(0,inplace=True)\n",
    "    return f0"
   ]
  },
  {
   "cell_type": "code",
   "execution_count": null,
   "metadata": {},
   "outputs": [],
   "source": [
    "a = []\n",
    "for i in [ar]:  \n",
    "    a.append(RCM(i,ZNB,rcm))\n",
    "    "
   ]
  },
  {
   "cell_type": "code",
   "execution_count": null,
   "metadata": {
    "scrolled": true
   },
   "outputs": [],
   "source": [
    "ar = pd.concat(a)"
   ]
  },
  {
   "cell_type": "code",
   "execution_count": null,
   "metadata": {},
   "outputs": [],
   "source": []
  },
  {
   "cell_type": "code",
   "execution_count": null,
   "metadata": {},
   "outputs": [],
   "source": [
    "rcm['Ид. случая']"
   ]
  },
  {
   "cell_type": "code",
   "execution_count": null,
   "metadata": {},
   "outputs": [],
   "source": [
    "potr_with_ostatok_total[(potr_with_ostatok_total['Сумма_распреденного_прихода']>0)&(potr_with_ostatok_total['Распределение_прихода']==0)]"
   ]
  },
  {
   "cell_type": "code",
   "execution_count": null,
   "metadata": {},
   "outputs": [],
   "source": [
    "c_f0['6/2019 ФП Кол-во'].sum()"
   ]
  },
  {
   "cell_type": "code",
   "execution_count": null,
   "metadata": {},
   "outputs": [],
   "source": [
    "potr_with_ostatok_total['Распределение_прихода'].sum()"
   ]
  },
  {
   "cell_type": "code",
   "execution_count": null,
   "metadata": {},
   "outputs": [],
   "source": [
    "ost_Q_tab"
   ]
  },
  {
   "cell_type": "code",
   "execution_count": null,
   "metadata": {},
   "outputs": [],
   "source": [
    "rcm.fillna(0,inplace=True)"
   ]
  },
  {
   "cell_type": "code",
   "execution_count": null,
   "metadata": {},
   "outputs": [],
   "source": [
    "potr_with_ostatok_total['Категория ТМЦ'].unique()"
   ]
  },
  {
   "cell_type": "code",
   "execution_count": null,
   "metadata": {},
   "outputs": [],
   "source": [
    "f0 =  pd.pivot_table(tab_f0,columns=['month'],index=ind,aggfunc='sum',fill_value=0).reset_index()"
   ]
  },
  {
   "cell_type": "code",
   "execution_count": null,
   "metadata": {
    "scrolled": true
   },
   "outputs": [],
   "source": [
    "bl_potr = f0['Количество потребности']\n",
    "bl_potr.columns = ['ПП кол-во '+str(x.month)+'/'+ str(x.year) for x in bl_potr.columns] \n",
    "pp_sum_col = pd.DataFrame(bl_potr.sum(axis = 1),columns=['Текущее кол-во ПП'])\n",
    "\n",
    "\n",
    "bl_potr_sum  = f0['Сумма потребности']\n",
    "bl_potr_sum.columns = ['ПП сумма '+str(x.month)+'/'+ str(x.year) for x in bl_potr_sum.columns]\n",
    "pp_sum_sum = pd.DataFrame(bl_potr_sum.sum(axis = 1),columns=['Текущая сумма ПП'])\n",
    "\n",
    "col_vo_prix = pd.DataFrame(f0['Распределение_прихода'].sum(axis = 1),columns=[str(current_date.month)+'/'+str(current_date.year)+' ФП Кол-во'])\n",
    "sum_prix = pd.DataFrame(f0['Сумма_распреденного_прихода'].sum(axis = 1),columns=[str(current_date.month)+'/'+str(current_date.year)+' ФП Сумма'])\n",
    "\n",
    "\n",
    "col_vo_rash = pd.DataFrame(f0['Распределение_расхода'].sum(axis = 1),columns=[str(current_date.month)+'/'+str(current_date.year)+' ФC Кол-во'])\n",
    "summ_rash = pd.DataFrame(f0['Сумма_распреденного_расхода'].sum(axis = 1),columns=[str(current_date.month)+'/'+str(current_date.year)+' ФC Сумма'])\n",
    "\n",
    "# ost_nach_per = pd.DataFrame(f0['Остаток на начало года Кол-во'].sum(axis = 1),columns=[str(current_date.month)+'/'+str(current_date.year)+' ФC Сумма'])\n",
    "\n",
    "\n",
    "\n",
    "col_vo_ost = pd.DataFrame(f0['Распределение_остатака'].sum(axis = 1),columns=[str(current_date.month)+'/'+str(current_date.year)+' Остаток Кол-во'])\n",
    "sum_ost = pd.DataFrame(f0['Сумма_распреденного_остатка'].sum(axis = 1),columns=[str(current_date.month)+'/'+str(current_date.year)+' Остаток Сумма'])\n",
    "\n",
    "avizot =  pd.DataFrame(f0['avizot'].sum(axis = 1),columns=['Товар в пути (ZNB5, ZNB2/3-АвизОт)'])\n",
    "\n",
    "str_zap_col_vo = pd.DataFrame(f0['стрЗапас'].sum(axis = 1),columns=['SS (норма запаса на складе)'])\n",
    "str_zap_summ = pd.DataFrame(f0['Сумма стрЗап'].sum(axis = 1),columns=['SS сумма'])\n",
    "\n",
    "f0_cons = pd.concat([cols__lev_f0,bl_potr,pp_sum_col,bl_potr_sum,pp_sum_sum,col_vo_prix,sum_prix,col_vo_rash,summ_rash,col_vo_ost,sum_ost,avizot,str_zap_col_vo,str_zap_summ],axis=1)\n",
    "\n",
    "cols_bz_col_vo = ['БЗ кол-во '+str(x)+'/'+str(current_date.year) for x in range(1,13)]\n",
    "\n",
    "cols_bz_summ = ['БЗ сумма '+str(x)+'/'+str(current_date.year) for x in range(1,13)]\n",
    "\n",
    "for i in cols_bz_col_vo:f0_cons[i] = 0\n",
    "f0_cons['ИТОГО БЗ Кол-во'] = 0\n",
    "for i in cols_bz_summ:f0_cons[i] = 0\n",
    "f0_cons['ИТОГО БЗ Сумма'] = 0\n",
    "\n",
    "\n",
    "cols_ost_prognoz = ['Остаток прогноз Кол-во '+str(x)+'/'+str(current_date.year) for x in range(1,13)]\n",
    "cols_ost_prognoz_summa = ['Остаток прогноз Сумма '+str(x)+'/'+str(current_date.year) for x in range(1,13)]\n",
    "for i in cols_ost_prognoz:f0_cons[i] = 0\n",
    "for i in cols_ost_prognoz_summa:f0_cons[i] = 0\n",
    "\n",
    "    \n",
    "    \n"
   ]
  },
  {
   "cell_type": "code",
   "execution_count": null,
   "metadata": {},
   "outputs": [],
   "source": [
    "# если сейчас 1 месяц тогда текущий опираем на остаток на начало года\n",
    "if current_date.month == 1:\n",
    "#     \n",
    "    pass\n",
    "else:\n",
    "    #количество bz     \n",
    "    f0_cons.loc[:,cols_bz_col_vo[:current_date.month]] = 0\n",
    "    f0_cons.loc[:,cols_ost_prognoz[:current_date.month]] = 0\n",
    "    f0_cons.loc[:,cols_ost_prognoz_summa[:current_date.month]] = 0\n",
    "    f0_cons.loc[:,cols_bz_col_vo[current_date.month]] = f0_cons.apply(lambda x: x['ПП кол-во '+str(current_date.month+1)+'/'+str(current_date.year)]+x['SS (норма запаса на складе)']-x[str(current_date.month)+'/'+str(current_date.year)+' Остаток Кол-во']-x['Товар в пути (ZNB5, ZNB2/3-АвизОт)']  if (x[str(current_date.month)+'/'+str(current_date.year)+' Остаток Кол-во']+x['Товар в пути (ZNB5, ZNB2/3-АвизОт)'])-x['ПП кол-во '+str(current_date.month+1)+'/'+str(current_date.year)]-x['SS (норма запаса на складе)']<0 else 0,axis = 1)\n",
    "    f0_cons.loc[:,cols_ost_prognoz[current_date.month]] = f0_cons[str(current_date.month)+'/'+str(current_date.year)+' Остаток Кол-во'].values+f0_cons['Товар в пути (ZNB5, ZNB2/3-АвизОт)'].values+f0_cons.loc[:,cols_bz_col_vo[current_date.month]].values-f0_cons['ПП кол-во '+str(current_date.month+1)+'/'+str(current_date.year)].values\n",
    "\n",
    "    #     print('ПП кол-во '+str(current_date.month)+'/'+str(current_date.year))\n",
    "#     print(str(current_date.month)+'/'+str(current_date.year)+' Остаток Кол-во')\n",
    "#     print('ПП кол-во '+str(current_date.month+1)+'/'+str(current_date.year))\n",
    "    ff = current_date.month\n",
    "    for i in cols_bz_col_vo[current_date.month+1:]:\n",
    "        \n",
    "        f0_cons[i] = f0_cons.apply(lambda x: x['ПП кол-во'+str(i[9:])]+x['Остаток прогноз Кол-во'+str(i[9:])]  if x['Остаток прогноз Кол-во'+str(i[9:])]-x['ПП кол-во'+str(i[9:])]-x['SS (норма запаса на складе)']<0 else 0,axis = 1)\n",
    "#         формкла для остатка\n",
    "        f0_cons['Остаток прогноз Кол-во'+str(i[9:])] = f0_cons['Остаток прогноз Кол-во'+str(cols_bz_col_vo[ff][9:])].values+f0_cons[i].values-f0_cons['ПП кол-во'+str(i[9:])].values\n",
    "#         print('Остаток прогноз Кол-во'+str(cols_bz_col_vo[ff][9:]))    \n",
    "#         print(i)\n",
    "#         print('ПП кол-во'+str(i[9:]))\n",
    "        \n",
    "        ff+=1\n",
    "# сумма бз    \n",
    "f0_cons.loc[:,cols_bz_summ]=f0_cons.loc[:,cols_bz_col_vo].mul(f0_cons['Цена'],axis = 0).values  \n",
    "f0_cons['ИТОГО БЗ Сумма'] = f0_cons.loc[:,cols_bz_summ].sum(axis=1)\n",
    "# сумма остатка\n",
    "for i in cols_ost_prognoz_summa[current_date.month:]:\n",
    "     f0_cons[i] =    f0_cons.apply(lambda x: x['Остаток прогноз Кол-во'+str(i[21:])]*(x[str(current_date.month)+'/'+str(current_date.year)+' Остаток Сумма']/  x[str(current_date.month)+'/'+str(current_date.year)+' Остаток Кол-во']) if x[str(current_date.month)+'/'+str(current_date.year)+' Остаток Кол-во']>0 else x['Остаток прогноз Кол-во'+str(i[21:])]*x['Цена'] ,axis = 1)\n"
   ]
  },
  {
   "cell_type": "code",
   "execution_count": null,
   "metadata": {},
   "outputs": [],
   "source": []
  },
  {
   "cell_type": "code",
   "execution_count": null,
   "metadata": {},
   "outputs": [],
   "source": [
    "fil = potr_with_ostatok_total[potr_with_ostatok_total['Категория ТМЦ']=='ТНСЗ']\n",
    "potr_with_ostatok_total.loc[fil.index,'Распределение_остатака'] = potr_with_ostatok_total.loc[fil.index,'Блокированный запас'] \n",
    "potr_with_ostatok_total.loc[fil.index,'Сумма_распреденного_остатка'] = potr_with_ostatok_total.loc[fil.index,'Ст-ть/блок. запаса']  "
   ]
  },
  {
   "cell_type": "code",
   "execution_count": null,
   "metadata": {},
   "outputs": [],
   "source": [
    "potr_with_ostatok_total['Распределение_остатака'].sum()"
   ]
  },
  {
   "cell_type": "code",
   "execution_count": null,
   "metadata": {},
   "outputs": [],
   "source": [
    "# dict_for_f0['ТНСЗ']['Распределение_остатака'] = dict_for_f0['ТНСЗ']['Блокированный запас']\n",
    "# dict_for_f0['ТНСЗ']['Сумма_распреденного_остатка'] = dict_for_f0['ТНСЗ']['Ст-ть/блок. запаса']"
   ]
  },
  {
   "cell_type": "code",
   "execution_count": null,
   "metadata": {},
   "outputs": [],
   "source": []
  },
  {
   "cell_type": "code",
   "execution_count": null,
   "metadata": {},
   "outputs": [],
   "source": []
  },
  {
   "cell_type": "code",
   "execution_count": null,
   "metadata": {},
   "outputs": [],
   "source": []
  },
  {
   "cell_type": "code",
   "execution_count": null,
   "metadata": {},
   "outputs": [],
   "source": [
    "f0[f0['Категория ТМЦ']=='ТНСЗ']"
   ]
  },
  {
   "cell_type": "code",
   "execution_count": null,
   "metadata": {},
   "outputs": [],
   "source": [
    "tottal_ost['Блокированный запас'].sum()\n",
    "tottal_ost[tottal_ost['Блокированный запас']>0]['Распределение_остатака'].sum()"
   ]
  },
  {
   "cell_type": "code",
   "execution_count": null,
   "metadata": {},
   "outputs": [],
   "source": [
    "tottal_ost[tottal_ost['']]"
   ]
  },
  {
   "cell_type": "code",
   "execution_count": null,
   "metadata": {},
   "outputs": [],
   "source": [
    "fr_bad = potr_with_ostatok_total[(potr_with_ostatok_total['Блокированный запас']>0)&(potr_with_ostatok_total['Распределение_остатака']>0)]\n",
    "potr_with_ostatok_total.loc[fr_bad.index,['Распределение_остатака','Сумма_распреденного_остатка']]    = 0\n",
    "fr_bad.loc[:,['Блокированный запас','Ст-ть/блок. запаса']]=0\n",
    "potr_with_ostatok_total = pd.concat([potr_with_ostatok_total,fr_bad],axis=0,ignore_index=True)\n",
    "potr_with_ostatok_total['Категория ТМЦ'] = potr_with_ostatok_total.apply(lambda x: func_cat_tmc(x),axis = 1)\n",
    "dict_for_f0 = dict((x,potr_with_ostatok_total[potr_with_ostatok_total['Категория ТМЦ']==x] )for x in  potr_with_ostatok_total['Категория ТМЦ'].unique())"
   ]
  },
  {
   "cell_type": "code",
   "execution_count": null,
   "metadata": {},
   "outputs": [],
   "source": [
    "potr_with_ostatok_total['Распределение_остатака'].sum()  + potr_with_ostatok_total['Блокированный запас'].sum() "
   ]
  },
  {
   "cell_type": "code",
   "execution_count": null,
   "metadata": {
    "scrolled": true
   },
   "outputs": [],
   "source": [
    "fr_bad1['Блокированный запас'].sum()"
   ]
  },
  {
   "cell_type": "code",
   "execution_count": null,
   "metadata": {},
   "outputs": [],
   "source": [
    "fr_bad['Блокированный запас'].sum()"
   ]
  },
  {
   "cell_type": "code",
   "execution_count": null,
   "metadata": {},
   "outputs": [],
   "source": [
    "potr_with_ostatok_total['Блокированный запас'].sum() "
   ]
  },
  {
   "cell_type": "code",
   "execution_count": null,
   "metadata": {},
   "outputs": [],
   "source": [
    "potr_with_ostatok_total['Распределение_остатака'].sum()"
   ]
  },
  {
   "cell_type": "code",
   "execution_count": null,
   "metadata": {},
   "outputs": [],
   "source": [
    "potr_with_ostatok_total.shape"
   ]
  },
  {
   "cell_type": "code",
   "execution_count": null,
   "metadata": {},
   "outputs": [],
   "source": [
    "fr_bad.shape"
   ]
  },
  {
   "cell_type": "code",
   "execution_count": null,
   "metadata": {},
   "outputs": [],
   "source": [
    "potr_with_ostatok_total.shape"
   ]
  },
  {
   "cell_type": "code",
   "execution_count": null,
   "metadata": {},
   "outputs": [],
   "source": [
    "486806-486527"
   ]
  },
  {
   "cell_type": "code",
   "execution_count": null,
   "metadata": {},
   "outputs": [],
   "source": [
    "pd.concat([potr_with_ostatok_total,fr_bad],axis=0,ignore_index=True)['Распределение_остатака'].sum()"
   ]
  },
  {
   "cell_type": "code",
   "execution_count": null,
   "metadata": {},
   "outputs": [],
   "source": [
    "potr_with_ostatok_total['Категория ТМЦ']"
   ]
  },
  {
   "cell_type": "code",
   "execution_count": null,
   "metadata": {},
   "outputs": [],
   "source": [
    "fr_bad.shape"
   ]
  },
  {
   "cell_type": "code",
   "execution_count": null,
   "metadata": {},
   "outputs": [],
   "source": [
    "len(fr_bad.index)"
   ]
  },
  {
   "cell_type": "code",
   "execution_count": null,
   "metadata": {},
   "outputs": [],
   "source": [
    "fr_bad['Распределение_остатака'].sum()"
   ]
  },
  {
   "cell_type": "code",
   "execution_count": null,
   "metadata": {},
   "outputs": [],
   "source": [
    "potr_with_ostatok_total.loc[fr_bad.index,['Сумма_распреденного_остатка','Сумма_распреденного_остатка']]"
   ]
  },
  {
   "cell_type": "code",
   "execution_count": null,
   "metadata": {},
   "outputs": [],
   "source": [
    "dict_for_f0['ТНСЗ']['Распределение_остатака'] = dict_for_f0['ТНСЗ']['Блокированный запас']\n",
    "dict_for_f0['ТНСЗ']['Сумма_распреденного_остатка'] = dict_for_f0['ТНСЗ']['Ст-ть/блок. запаса']"
   ]
  },
  {
   "cell_type": "code",
   "execution_count": null,
   "metadata": {},
   "outputs": [],
   "source": [
    "dict_for_f0['ТНСЗ']['Распределение_остатака'] .sum()"
   ]
  },
  {
   "cell_type": "code",
   "execution_count": null,
   "metadata": {},
   "outputs": [],
   "source": [
    "type(potr_with_ostatok_total['month'].unique()[-1])"
   ]
  },
  {
   "cell_type": "code",
   "execution_count": null,
   "metadata": {},
   "outputs": [],
   "source": [
    "result_ostatok.to_csv('C:\\\\Users\\\\User\\\\Desktop\\\\kazzinc\\\\Uploads\\\\raspr_no_block.csv',encoding='utf-8-sig',sep = ';',decimal=',')"
   ]
  },
  {
   "cell_type": "code",
   "execution_count": null,
   "metadata": {},
   "outputs": [],
   "source": [
    "result_ostatok_.to_csv('C:\\\\Users\\\\User\\\\Desktop\\\\kazzinc\\\\Uploads\\\\raspr_with_block.csv',encoding='utf-8-sig',sep = ';',decimal=',')"
   ]
  },
  {
   "cell_type": "code",
   "execution_count": null,
   "metadata": {},
   "outputs": [],
   "source": [
    "ost_block.to_csv('C:\\\\Users\\\\User\\\\Desktop\\\\kazzinc\\\\Uploads\\\\block.csv',encoding='utf-8-sig',sep = ';')"
   ]
  },
  {
   "cell_type": "code",
   "execution_count": null,
   "metadata": {
    "scrolled": true
   },
   "outputs": [],
   "source": [
    "for ind, i in enumerate(np.array_split(a,2)) :\n",
    "    save_pyex(df=i,path='C:\\\\Users\\\\User\\\\Desktop\\\\kazzinc\\\\Uploads1\\\\extr_xlsx\\\\'+str(ind)+'.xlsx')"
   ]
  },
  {
   "cell_type": "code",
   "execution_count": null,
   "metadata": {},
   "outputs": [],
   "source": [
    "for ind, i in enumerate(np.array_split(df,2)) :\n",
    "    save_pyex(df=i,path='C:\\\\Users\\\\Илья\\\\Desktop\\\\kazzinc\\\\Uploads1\\\\extr_xlsx\\\\'+str(ind)+'.xlsx')"
   ]
  },
  {
   "cell_type": "code",
   "execution_count": null,
   "metadata": {},
   "outputs": [],
   "source": [
    "save_pyex(df=pd.merge(c_f0,ffff,on=['Заказ','Категория ТМЦ','Область ППМ','Материал'],how='outer'),path='C:\\\\Users\\\\User\\\\Desktop\\\\kazzinc\\\\Uploads1\\\\extr_xlsx\\\\f0.xlsx')"
   ]
  },
  {
   "cell_type": "code",
   "execution_count": null,
   "metadata": {},
   "outputs": [],
   "source": [
    "save_pyex(df=arr5,path='C:\\\\Users\\\\User\\\\Desktop\\\\kazzinc\\\\Uploads1\\\\extr_xlsx\\\\f0.xlsx')\n"
   ]
  },
  {
   "cell_type": "code",
   "execution_count": null,
   "metadata": {},
   "outputs": [],
   "source": [
    "directory = 'C:\\\\Users\\\\User\\\\Desktop\\\\kazzinc\\\\Uploads1\\\\'"
   ]
  },
  {
   "cell_type": "code",
   "execution_count": null,
   "metadata": {},
   "outputs": [],
   "source": [
    "spr_ost.info()"
   ]
  },
  {
   "cell_type": "code",
   "execution_count": null,
   "metadata": {},
   "outputs": [],
   "source": [
    "spr_ost"
   ]
  },
  {
   "cell_type": "code",
   "execution_count": null,
   "metadata": {},
   "outputs": [],
   "source": [
    "sprav_po_kompl = pd.read_excel(directory+'Справочник по комплексам.xlsx',sheet_name='Комплекс',dtype={'Область ППМ':'str','Завод':'str'})\n",
    "spr_komplex_cs_pz = rev_to_dict(sprav_po_kompl['Завод'].astype('str'),sprav_po_kompl['ЦС/ПЗ'])\n",
    "\n",
    "ostatok['ЦС/ПЗ'] = ostatok['Завод'].apply(lambda x:  insert_vpr(x,spr_komplex_cs_pz,'ЦС/ПЗ'))\n",
    "\n"
   ]
  },
  {
   "cell_type": "code",
   "execution_count": null,
   "metadata": {
    "scrolled": true
   },
   "outputs": [],
   "source": [
    "sprav_po_kompl = pd.read_excel(directory+'Справочник по комплексам.xlsx',sheet_name='Комплекс',dtype={'Область ППМ':'str','Завод':'str'})"
   ]
  },
  {
   "cell_type": "code",
   "execution_count": null,
   "metadata": {},
   "outputs": [],
   "source": [
    "ostatok['Комплекс'] = ostatok['Завод+Склад+Партия'].apply(lambda x: insert_vpr(x,spr_komplex_ost,'Комплекс') )\n",
    "ostatok['Категория запаса'] = ostatok.apply(lambda x:category_of_zapas(x),axis=1)"
   ]
  },
  {
   "cell_type": "code",
   "execution_count": null,
   "metadata": {
    "scrolled": true
   },
   "outputs": [],
   "source": [
    "pd.merge(main_t,test,on=['БЕ','Материал'])"
   ]
  },
  {
   "cell_type": "code",
   "execution_count": null,
   "metadata": {},
   "outputs": [],
   "source": [
    "main_t.columns"
   ]
  },
  {
   "cell_type": "code",
   "execution_count": null,
   "metadata": {
    "scrolled": true
   },
   "outputs": [],
   "source": [
    "test"
   ]
  },
  {
   "cell_type": "code",
   "execution_count": null,
   "metadata": {},
   "outputs": [],
   "source": [
    "rashod['Вид движения'] = rashod['Вид движения'].astype('str')\n",
    "rashod[rashod.apply(lambda x: list(x['Материал'])[-1]!='R'and x['Вид движения']!='262' ,axis = 1)] "
   ]
  },
  {
   "cell_type": "code",
   "execution_count": null,
   "metadata": {
    "scrolled": true
   },
   "outputs": [],
   "source": [
    "ost_start['Ст-ть запаса в конце периода'].sum()"
   ]
  },
  {
   "cell_type": "code",
   "execution_count": null,
   "metadata": {},
   "outputs": [],
   "source": [
    "ost_start['Стоимость свободного остатка'].sum()"
   ]
  },
  {
   "cell_type": "code",
   "execution_count": null,
   "metadata": {},
   "outputs": [],
   "source": [
    "ost_start['Cвободный запас'].sum()"
   ]
  },
  {
   "cell_type": "code",
   "execution_count": null,
   "metadata": {},
   "outputs": [],
   "source": [
    "raspr_summa+ner_summa"
   ]
  },
  {
   "cell_type": "code",
   "execution_count": null,
   "metadata": {},
   "outputs": [],
   "source": [
    "ost_start['Ст-ть запаса в конце периода'].sum()"
   ]
  },
  {
   "cell_type": "code",
   "execution_count": null,
   "metadata": {},
   "outputs": [],
   "source": [
    "ost_start['Ст-ть/блок. запаса'].sum()"
   ]
  },
  {
   "cell_type": "code",
   "execution_count": null,
   "metadata": {},
   "outputs": [],
   "source": [
    "raspr_summa = potr_copy_for_prihod['Сумма_распреденного_остатка'].sum()"
   ]
  },
  {
   "cell_type": "code",
   "execution_count": null,
   "metadata": {},
   "outputs": [],
   "source": [
    "ner = ost_copy[(ost_copy['осталось']>0)&(ost_copy['Cвободный запас']>0)]['Стоимость свободного остатка'].sum()"
   ]
  },
  {
   "cell_type": "code",
   "execution_count": null,
   "metadata": {},
   "outputs": [],
   "source": [
    "rasp = ost_copy[(ost_copy['осталось']==0)&(ost_copy['Cвободный запас']>0)]['Стоимость свободного остатка'].sum()"
   ]
  },
  {
   "cell_type": "code",
   "execution_count": null,
   "metadata": {},
   "outputs": [],
   "source": [
    "ner+rasp+q"
   ]
  },
  {
   "cell_type": "code",
   "execution_count": null,
   "metadata": {},
   "outputs": [],
   "source": [
    "q =  ost_start[(ost_start['Cвободный запас']>0)&(ost_start['Особый запас']=='Q')]['Стоимость свободного остатка'].sum()"
   ]
  },
  {
   "cell_type": "code",
   "execution_count": null,
   "metadata": {},
   "outputs": [],
   "source": [
    "ost_copy[(ost_copy['Материал']=='910220502')&(ost_copy['Комплекс']=='ГОК Алтай')].to_csv('C:\\\\Users\\\\User\\\\Desktop\\\\kazzinc\\\\Uploads\\\\ost.csv',sep = ';',encoding='utf-8-sig')"
   ]
  },
  {
   "cell_type": "code",
   "execution_count": null,
   "metadata": {},
   "outputs": [],
   "source": [
    "potr_copy[(potr_copy['Материал']=='910220502')&(potr_copy['Комплекс']=='ГОК Алтай')].to_csv('C:\\\\Users\\\\User\\\\Desktop\\\\kazzinc\\\\Uploads\\\\potr.csv',sep = ';',encoding='utf-8-sig')"
   ]
  },
  {
   "cell_type": "code",
   "execution_count": null,
   "metadata": {},
   "outputs": [],
   "source": [
    "avizot_copy.to_csv('C:\\\\Users\\\\User\\\\Desktop\\\\kazzinc\\\\Uploads\\\\ost.csv',sep = ';',encoding='utf-8-sig')"
   ]
  },
  {
   "cell_type": "code",
   "execution_count": null,
   "metadata": {},
   "outputs": [],
   "source": [
    "potr_avizot.to_csv('C:\\\\Users\\\\User\\\\Desktop\\\\kazzinc\\\\Uploads\\\\potr.csv',sep = ';',encoding='utf-8-sig')"
   ]
  },
  {
   "cell_type": "code",
   "execution_count": null,
   "metadata": {},
   "outputs": [],
   "source": [
    "save_pyex(df=pd.concat([cols__lev_f0,bl_potr,pp_sum_col,bl_potr_sum,pp_sum_sum],axis=1),path='C:\\\\Users\\\\User\\\\Desktop\\\\kazzinc\\\\Uploads1\\\\extr_xlsx\\\\f0.xlsx')"
   ]
  },
  {
   "cell_type": "code",
   "execution_count": null,
   "metadata": {},
   "outputs": [],
   "source": [
    "save_pyex(df=arr5,path='C:\\\\Users\\\\User\\\\Desktop\\\\kazzinc\\\\Uploads1\\\\extr_xlsx\\\\f0+1.xlsx')"
   ]
  },
  {
   "cell_type": "code",
   "execution_count": null,
   "metadata": {},
   "outputs": [],
   "source": [
    "save_pyex(df=rashod_start,path='C:\\\\Users\\\\User\\\\Desktop\\\\kazzinc\\\\Uploads1\\\\extr_xlsx\\\\rash_start.xlsx')"
   ]
  },
  {
   "cell_type": "code",
   "execution_count": null,
   "metadata": {},
   "outputs": [],
   "source": [
    "save_pyex(df=rashod_start_raspr,path='C:\\\\Users\\\\User\\\\Desktop\\\\kazzinc\\\\Uploads1\\\\extr_xlsx\\\\rash_start_raspr.xlsx')"
   ]
  },
  {
   "cell_type": "code",
   "execution_count": null,
   "metadata": {},
   "outputs": [],
   "source": [
    "save_pyex(df=ostatok,path='C:\\\\Users\\\\User\\\\Desktop\\\\kazzinc\\\\Uploads1\\\\extr_xlsx\\\\ostat.xlsx')"
   ]
  },
  {
   "cell_type": "code",
   "execution_count": null,
   "metadata": {},
   "outputs": [],
   "source": [
    "save_pyex(df=ost_start_raspr,path='C:\\\\Users\\\\User\\\\Desktop\\\\kazzinc\\\\Uploads1\\\\extr_xlsx\\\\ostat_raspr_t.xlsx')"
   ]
  },
  {
   "cell_type": "code",
   "execution_count": null,
   "metadata": {},
   "outputs": [],
   "source": [
    "save_pyex(df=ost_block,path='C:\\\\Users\\\\User\\\\Desktop\\\\kazzinc\\\\Uploads1\\\\extr_xlsx\\\\ostat_block.xlsx')"
   ]
  },
  {
   "cell_type": "code",
   "execution_count": null,
   "metadata": {},
   "outputs": [],
   "source": []
  },
  {
   "cell_type": "code",
   "execution_count": null,
   "metadata": {},
   "outputs": [],
   "source": [
    "save_pyex(df=rashod,path='C:\\\\Users\\\\User\\\\Desktop\\\\kazzinc\\\\Uploads1\\\\extr_xlsx\\\\rashod.xlsx')"
   ]
  },
  {
   "cell_type": "code",
   "execution_count": null,
   "metadata": {},
   "outputs": [],
   "source": [
    "spr_obl_ppm_centr_zav = rev_to_dict(sprav_mat_cal_last_full['Материал'],sprav_mat_cal_last_full['Краткий текст материала'])\n",
    "cons_f0['КрТекстМатериала'] = cons_f0['Материал'].apply(lambda x:  insert_vpr(x,spr_obl_ppm_centr_zav,'Краткий текст материала'))\n"
   ]
  },
  {
   "cell_type": "code",
   "execution_count": null,
   "metadata": {},
   "outputs": [],
   "source": [
    "spr_obl_ppm_centr_zav = rev_to_dict(sprav_mat_cal_last_full['Материал'],sprav_mat_cal_last_full['Краткий текст материала'])"
   ]
  },
  {
   "cell_type": "code",
   "execution_count": null,
   "metadata": {},
   "outputs": [],
   "source": [
    "spr_obl_ppm_centr_zav['150116055']"
   ]
  },
  {
   "cell_type": "code",
   "execution_count": null,
   "metadata": {},
   "outputs": [],
   "source": [
    "sprav_mat_cal_last_full[sprav_mat_cal_last_full['Материал']=='150116055']"
   ]
  },
  {
   "cell_type": "code",
   "execution_count": null,
   "metadata": {},
   "outputs": [],
   "source": [
    "sprav_mat_cal_last_full.shape"
   ]
  },
  {
   "cell_type": "code",
   "execution_count": null,
   "metadata": {},
   "outputs": [],
   "source": [
    "[x for x in  sprav_mat_cal_last_full['Материал'].unique() if  x.find('100602050')!=-1]"
   ]
  },
  {
   "cell_type": "code",
   "execution_count": null,
   "metadata": {},
   "outputs": [],
   "source": [
    "sprav_mat_cal.shape"
   ]
  },
  {
   "cell_type": "code",
   "execution_count": null,
   "metadata": {},
   "outputs": [],
   "source": [
    "sprav_mat_cal = exlsx_f(directory_mc)"
   ]
  },
  {
   "cell_type": "code",
   "execution_count": null,
   "metadata": {},
   "outputs": [],
   "source": [
    "directory_mc = 'C:\\\\Users\\\\Илья\\\\Desktop\\\\kazzinc\\\\Uploads1\\\\для ZMM_MATCATAL\\\\'"
   ]
  },
  {
   "cell_type": "code",
   "execution_count": null,
   "metadata": {},
   "outputs": [],
   "source": [
    "[x for x in  sprav_mat_cal['Материал'].unique() if  x.find('100602050')!=-1]"
   ]
  },
  {
   "cell_type": "code",
   "execution_count": null,
   "metadata": {},
   "outputs": [],
   "source": [
    "sprav_mat_cal_last_full = sprav_mat_cal.copy()"
   ]
  },
  {
   "cell_type": "code",
   "execution_count": null,
   "metadata": {},
   "outputs": [],
   "source": [
    "[x for x in  sprav_mat_cal_last_full['Материал'].unique() if  x.find('010602019')!=-1]"
   ]
  },
  {
   "cell_type": "code",
   "execution_count": null,
   "metadata": {},
   "outputs": [],
   "source": [
    "c_f0 = get_in_backup(path_backup='backup.h5',name='sprav_po_kompl')"
   ]
  },
  {
   "cell_type": "code",
   "execution_count": null,
   "metadata": {},
   "outputs": [],
   "source": [
    "# формирование выгрузки общий + текущий месяц!!!!!!!!!!!!!!!!\n",
    "# !!!!!!!!!!!!!!!!!!!!!!!!!!!!!!!!!!!!!!!!!!!!!!!!!!!!!!!!!!!\n",
    "\n",
    "ind = ['Модуль','Заказ','Категория ТМЦ','Материал','БЕ','Заказчик + HH','Имя Завода + Материал + Заказ','Завод+НН','Завод + Склад','Завод + Область ППМ','Код округа + Материал','Комплекс','Завод','Склад потребности','Область ППМ','Центральный завод','Код округа','Имя Завода','КрТекстМатериала','Базовая ЕИ','Признак аналога','СтатусМтрл на заводе','Класс оценки','Плановик','группа','подгруппа','подподгруппа','Цена','Недропользование','ПлановСрокПоставки']\n",
    "col = ['NB','законтрактовано','Заказ','Категория ТМЦ','Блокированный запас','стрЗапас','Сумма стрЗап','avizot','Сумма_распреденного_расхода','Распределение_расхода','Сумма_распреденного_прихода','Распределение_прихода','Сумма_распреденного_остатка','Распределение_остатака','Количество потребности','month','Материал','БЕ','Заказчик + HH','Имя Завода + Материал + Заказ','Завод+НН','Завод + Склад','Завод + Область ППМ','Код округа + Материал','Комплекс','Завод','Склад потребности','Область ППМ','Центральный завод','Код округа','Имя Завода','КрТекстМатериала','Базовая ЕИ','Признак аналога','СтатусМтрл на заводе','Класс оценки','Плановик','группа','подгруппа','подподгруппа','Цена','Недропользование','ПлановСрокПоставки','Сумма потребности']\n",
    "\n",
    "\n",
    "cons_f0 = get_in_backup(path_backup='backup_f0_cons.h5',name='c_f0_cons_08')\n",
    "current_f0 = get_in_backup(path_backup='backup_f0.h5',name='c_f0_09')\n",
    "\n",
    "\n",
    "istochniki = [cons_f0,current_f0]\n",
    "\n",
    "for ist in istochniki:\n",
    "    for col in ind:\n",
    "        ist[col] = ist[col].astype('str')\n",
    "        ist['Цена'] = '0'\n",
    "\n",
    "        \n",
    "        \n",
    "        \n",
    "cons_f0['Завод']  = cons_f0['Завод+НН'].str.split(' #').apply(lambda x: x[0])\n",
    "BE = pd.DataFrame()\n",
    "# Менять здесь\n",
    "for i in range(1,10):\n",
    "    BE = BE.append(get_in_backup(path_backup='backup_f0.h5',name='c_f0_0'+str(i))[['Завод','БЕ']])\n",
    "BE = BE.drop_duplicates()   \n",
    "spr_be = rev_to_dict(BE['Завод'],BE['БЕ'])\n",
    "cons_f0['БЕ'] = cons_f0['Завод'].apply(lambda x:  insert_vpr(x,spr_be,'БЕ'))\n",
    "cons_f0['Материал'] = cons_f0['Завод+НН'].str.split(' #').apply(lambda x: x[1])\n",
    "\n",
    "cons_f0['Заказчик + HH'] = cons_f0['Комплекс'].astype('str')+' '+cons_f0['Материал'].astype('str')\n",
    "\n",
    "\n",
    "spr_centr_zav_zav = rev_to_dict(central_zavod['Область ППМ'],central_zavod['Центральный Завод'])\n",
    "\n",
    "cons_f0.reset_index(inplace=True,drop=True)\n",
    "\n",
    "for u in  cons_f0.index:\n",
    "    if insert_vpr(cons_f0.at[u,'Область ППМ'],spr_centr_zav_zav,'Центральный Завод') ==0:\n",
    "        cons_f0.at[u,'Центральный завод'] =  insert_vpr(cons_f0.at[u,'Завод'],spr_centr_zav_zav,'Центральный Завод')\n",
    "    else:\n",
    "        cons_f0.at[u,'Центральный завод'] =  insert_vpr(cons_f0.at[u,'Область ППМ'],spr_centr_zav_zav,'Центральный Завод')    \n",
    "cons_f0['Центральный завод'] = cons_f0['Центральный завод'].apply(lambda x: str(x).replace('.0','')).astype('str')  \n",
    "\n",
    "\n",
    "\n",
    "spr_group_mat_l1 = rev_to_dict(group_mat[group_mat['Группа материалов'].str.len()==2]['Группа материалов'],group_mat[group_mat['Группа материалов'].str.len()==2]['Обозначение 2 группы материалов'])\n",
    "cons_f0['группа'] = cons_f0['Материал'].str[:2].apply(lambda x:  insert_vpr(x,spr_group_mat_l1,'Обозначение 2 группы материалов'))\n",
    "\n",
    "spr_group_mat_l2 = rev_to_dict(group_mat[group_mat['Группа материалов'].str.len()==4]['Группа материалов'],group_mat[group_mat['Группа материалов'].str.len()==4]['Обозначение 2 группы материалов'])\n",
    "cons_f0['подгруппа'] = cons_f0['Материал'].str[:4].apply(lambda x:  insert_vpr(x,spr_group_mat_l2,'Обозначение 2 группы материалов'))\n",
    "\n",
    "\n",
    "spr_group_mat_l3 = rev_to_dict(group_mat[group_mat['Группа материалов'].str.len()==6]['Группа материалов'],group_mat[group_mat['Группа материалов'].str.len()==6]['Обозначение 2 группы материалов'])\n",
    "cons_f0['подподгруппа'] = cons_f0['Материал'].str[:6].apply(lambda x:  insert_vpr(x,spr_group_mat_l3,'Обозначение 2 группы материалов'))\n",
    "\n",
    "\n",
    "spr_obl_ppm_centr_zav = rev_to_dict(sprav_mat_cal_last_full['Материал'],sprav_mat_cal_last_full['Краткий текст материала'])\n",
    "cons_f0['КрТекстМатериала'] = cons_f0['Материал'].apply(lambda x:  insert_vpr(x,spr_obl_ppm_centr_zav,'Краткий текст материала'))\n",
    "\n",
    "\n",
    "\n",
    "\n",
    "spr_obl_ppm_baz_ei = rev_to_dict(sprav_mat_cal_last_full['Материал'],sprav_mat_cal_last_full['Базовая ЕИ'])\n",
    "cons_f0['Базовая ЕИ'] = cons_f0['Материал'].apply(lambda x:  insert_vpr(x,spr_obl_ppm_baz_ei,'Базовая ЕИ'))\n",
    "\n",
    "spr_obl_ppm_name_planov= rev_to_dict(sprav_mat_cal_last_full['Завод']+' #'+sprav_mat_cal_last_full['Материал'],sprav_mat_cal_last_full['Имя плановика (завод)'])\n",
    "cons_f0['ЦЗ+НН'] = cons_f0['Центральный завод'].astype('str')+' #'+cons_f0['Материал'].astype('str')\n",
    "cons_f0['Плановик'] = cons_f0['ЦЗ+НН'].apply(lambda x:  insert_vpr(x,spr_obl_ppm_name_planov,'Имя плановика (завод)'))\n",
    "cons_f0.drop('ЦЗ+НН',inplace=True,axis = 1)\n",
    "\n",
    "\n",
    "spr_obl_ppm_ocenka = rev_to_dict(sprav_mat_cal_last_full['Материал'],sprav_mat_cal_last_full['Класс оценки'])\n",
    "cons_f0['Класс оценки'] = cons_f0['Материал'].apply(lambda x:  insert_vpr(x,spr_obl_ppm_ocenka,'Класс оценки'))\n",
    "cons_f0['Класс оценки'] = cons_f0['Класс оценки'].apply(lambda x: str(x).replace('.0','')).astype('str')\n",
    "\n",
    "spr_obl_ppm_stat_na_zav = rev_to_dict(sprav_mat_cal_last_full['Завод']+' #'+sprav_mat_cal_last_full['Материал'],sprav_mat_cal_last_full['СтатусМтрл на заводе'])\n",
    "cons_f0['СтатусМтрл на заводе'] = cons_f0['Завод+НН'].apply(lambda x:  insert_vpr(x,spr_obl_ppm_stat_na_zav,'СтатусМтрл на заводе'))\n",
    "   \n",
    "\n",
    "\n",
    "\n",
    "current_f0.fillna(0,inplace=True)\n",
    "cons_f0.fillna(0,inplace=True)\n",
    "current_f0.reset_index(drop=True,inplace = True)\n",
    "cons_f0.reset_index(drop=True,inplace = True)\n",
    "c_f = pd.concat([current_f0.set_index(ind),\n",
    "                 cons_f0.set_index(ind).loc[:,'1/2019 Остаток Кол-во':'8/2019 ФC Сумма']],axis=1).reset_index()\n",
    "\n"
   ]
  },
  {
   "cell_type": "code",
   "execution_count": null,
   "metadata": {},
   "outputs": [],
   "source": [
    "cons_f0[cons_f0['Материал']=='010602019']"
   ]
  },
  {
   "cell_type": "code",
   "execution_count": null,
   "metadata": {},
   "outputs": [],
   "source": [
    "current_f0[current_f0['Материал']=='010602019']"
   ]
  },
  {
   "cell_type": "code",
   "execution_count": null,
   "metadata": {},
   "outputs": [],
   "source": [
    "arr5[arr5['Материал']=='010602019']"
   ]
  },
  {
   "cell_type": "code",
   "execution_count": null,
   "metadata": {},
   "outputs": [],
   "source": [
    "group_mat = get_in_backup(path_backup='backup.h5',name='group_mat')"
   ]
  },
  {
   "cell_type": "code",
   "execution_count": null,
   "metadata": {},
   "outputs": [],
   "source": [
    "central_zavod = get_in_backup(path_backup='backup.h5',name='central_zavod')"
   ]
  },
  {
   "cell_type": "code",
   "execution_count": null,
   "metadata": {},
   "outputs": [],
   "source": [
    "c_f.shape"
   ]
  },
  {
   "cell_type": "code",
   "execution_count": null,
   "metadata": {},
   "outputs": [],
   "source": [
    "c_f[c_f['Материал']=='100602050']"
   ]
  },
  {
   "cell_type": "code",
   "execution_count": null,
   "metadata": {},
   "outputs": [],
   "source": [
    "arr5 = pd.concat([c_f[ind],  \n",
    "        c_f.loc[:,[x for x in c_f.columns if x.find('ПП кол-во')!=-1]],   c_f['Текущее кол-во ПП'],\n",
    "        c_f.loc[:,[x for x in c_f.columns if x.find('ПП сумма')!=-1]],    c_f['Текущая сумма ПП'],\n",
    "        c_f.loc[:,[x for x in c_f.columns if x.find('Остаток Кол-во')!=-1]],\n",
    "        c_f.loc[:,[x for x in c_f.columns if x.find('Остаток Сумма')!=-1]],\n",
    "        c_f.loc[:,[x for x in c_f.columns if x.find('ФП Кол-во')!=-1]],\n",
    "        c_f.loc[:,[x for x in c_f.columns if x.find('ФП Сумма')!=-1]],\n",
    "        c_f.loc[:,[x for x in c_f.columns if x.find('ФC Кол-во')!=-1]],\n",
    "        c_f.loc[:,[x for x in c_f.columns if x.find('ФC Сумма')!=-1]],\n",
    "        c_f.loc[:,'Товар в пути (ZNB5, ZNB2/3-АвизОт)':'РР'] ],axis = 1,)"
   ]
  },
  {
   "cell_type": "code",
   "execution_count": null,
   "metadata": {},
   "outputs": [],
   "source": [
    "arr5.shape"
   ]
  },
  {
   "cell_type": "code",
   "execution_count": null,
   "metadata": {},
   "outputs": [],
   "source": [
    "arr5[arr5['Материал']=='010602019']['СтатусМтрл на заводе'].values"
   ]
  },
  {
   "cell_type": "code",
   "execution_count": null,
   "metadata": {},
   "outputs": [],
   "source": [
    "arr5['Базовая ЕИ'].value_counts()"
   ]
  },
  {
   "cell_type": "code",
   "execution_count": null,
   "metadata": {},
   "outputs": [],
   "source": [
    "pd.DataFrame(arr5[arr5['Базовая ЕИ']=='0']['Материал'].unique())"
   ]
  },
  {
   "cell_type": "code",
   "execution_count": null,
   "metadata": {},
   "outputs": [],
   "source": [
    "save_pyex(df=pd.DataFrame(arr5[arr5['Базовая ЕИ']=='0']['Материал'].unique()),path='C:\\\\Users\\\\Илья\\\\Desktop\\\\kazzinc\\\\Uploads1\\\\extr_xlsx\\\\001.xlsx')"
   ]
  },
  {
   "cell_type": "code",
   "execution_count": null,
   "metadata": {},
   "outputs": [],
   "source": [
    "arr5[arr5['Базовая ЕИ']=='0']['Материал'].unique()"
   ]
  },
  {
   "cell_type": "code",
   "execution_count": null,
   "metadata": {},
   "outputs": [],
   "source": [
    "spr_obl_ppm_baz_ei['010602019']"
   ]
  },
  {
   "cell_type": "code",
   "execution_count": null,
   "metadata": {},
   "outputs": [],
   "source": [
    "sprav_mat_cal_last_full.name = 'sprav_mat_cal_last_full'"
   ]
  },
  {
   "cell_type": "code",
   "execution_count": null,
   "metadata": {},
   "outputs": [],
   "source": [
    "save_backup('backup.h5',[sprav_mat_cal_last_full])"
   ]
  },
  {
   "cell_type": "code",
   "execution_count": null,
   "metadata": {},
   "outputs": [],
   "source": [
    "cons_f0 = get_in_backup(path_backup='backup_f0_cons.h5',name='c_f0_cons_08')\n",
    "current_f0 = get_in_backup(path_backup='backup_f0.h5',name='c_f0_09')"
   ]
  },
  {
   "cell_type": "code",
   "execution_count": null,
   "metadata": {},
   "outputs": [],
   "source": [
    "arr5.shape"
   ]
  },
  {
   "cell_type": "code",
   "execution_count": null,
   "metadata": {},
   "outputs": [],
   "source": [
    "cons_f0[cons_f0['Материал']=='010602019']['СтатусМтрл на заводе'].values"
   ]
  },
  {
   "cell_type": "code",
   "execution_count": null,
   "metadata": {},
   "outputs": [],
   "source": [
    "current_f0[current_f0['Материал']=='010602019']['СтатусМтрл на заводе'].values"
   ]
  },
  {
   "cell_type": "code",
   "execution_count": null,
   "metadata": {},
   "outputs": [],
   "source": [
    "cons_f0['СтатусМтрл на заводе'] = cons_f0['СтатусМтрл на заводе'].astype('str')"
   ]
  },
  {
   "cell_type": "code",
   "execution_count": null,
   "metadata": {},
   "outputs": [],
   "source": [
    "c_f = pd.concat([current_f0.set_index(ind),\n",
    "                 cons_f0.set_index(ind).loc[:,'1/2019 Остаток Кол-во':'8/2019 ФC Сумма']],axis=1).reset_index()"
   ]
  },
  {
   "cell_type": "code",
   "execution_count": null,
   "metadata": {},
   "outputs": [],
   "source": [
    "arr5.shape"
   ]
  },
  {
   "cell_type": "code",
   "execution_count": null,
   "metadata": {},
   "outputs": [],
   "source": [
    "arr5 = pd.concat([c_f[ind],  \n",
    "        c_f.loc[:,[x for x in c_f.columns if x.find('ПП кол-во')!=-1]],   c_f['Текущее кол-во ПП'],\n",
    "        c_f.loc[:,[x for x in c_f.columns if x.find('ПП сумма')!=-1]],    c_f['Текущая сумма ПП'],\n",
    "        c_f.loc[:,[x for x in c_f.columns if x.find('Остаток Кол-во')!=-1]],\n",
    "        c_f.loc[:,[x for x in c_f.columns if x.find('Остаток Сумма')!=-1]],\n",
    "        c_f.loc[:,[x for x in c_f.columns if x.find('ФП Кол-во')!=-1]],\n",
    "        c_f.loc[:,[x for x in c_f.columns if x.find('ФП Сумма')!=-1]],\n",
    "        c_f.loc[:,[x for x in c_f.columns if x.find('ФC Кол-во')!=-1]],\n",
    "        c_f.loc[:,[x for x in c_f.columns if x.find('ФC Сумма')!=-1]],\n",
    "        c_f.loc[:,'Товар в пути (ZNB5, ZNB2/3-АвизОт)':'РР'] ],axis = 1,)"
   ]
  },
  {
   "cell_type": "code",
   "execution_count": null,
   "metadata": {},
   "outputs": [],
   "source": [
    "c_f0_01 = get_in_backup(path_backup='backup_f0.h5',name='c_f0_01')\n",
    "c_f0_02 = get_in_backup(path_backup='backup_f0.h5',name='c_f0_02')\n",
    "c_f0_03 = get_in_backup(path_backup='backup_f0.h5',name='c_f0_03')\n",
    "c_f0_04 = get_in_backup(path_backup='backup_f0.h5',name='c_f0_04')\n",
    "c_f0_05 = get_in_backup(path_backup='backup_f0.h5',name='c_f0_05')\n",
    "c_f0_06 = get_in_backup(path_backup='backup_f0.h5',name='c_f0_06')\n",
    "c_f0_07 = get_in_backup(path_backup='backup_f0.h5',name='c_f0_07')\n",
    "c_f0_08 = get_in_backup(path_backup='backup_f0.h5',name='c_f0_08')"
   ]
  },
  {
   "cell_type": "code",
   "execution_count": null,
   "metadata": {},
   "outputs": [],
   "source": [
    "# формирование bi отчетности new 15.10.2019\n",
    "\n",
    "df_for_bi = get_in_backup(path_backup='backup_for_powerBI.h5',name='f0_vertical_09')\n",
    "df_for_bi.drop('Unnamed: 109',axis = 1,inplace = True)\n",
    "df_for_bi['Категория ТМЦ'] = df_for_bi.apply(lambda x: func_cat_tmc(x),axis = 1)\n",
    "df_for_bi = df_for_bi[df_for_bi['Категория ТМЦ']=='Текущая потребность']\n",
    "# df_for_bi.to_csv('C:\\\\Users\\\\Илья\\\\Desktop\\\\kazzinc\\\\bi.csv',encoding='utf-8-sig',sep = ';',decimal=',')\n",
    "\n",
    "df_for_bi['Завод']  = df_for_bi['Завод+НН'].str.split(' #').apply(lambda x: x[0])\n",
    "BE = pd.DataFrame()\n",
    "for i in range(1,10):\n",
    "    BE = BE.append(get_in_backup(path_backup='backup_f0.h5',name='c_f0_0'+str(i))[['Завод','БЕ']])\n",
    "BE = BE.drop_duplicates()   \n",
    "spr_be = rev_to_dict(BE['Завод'],BE['БЕ'])\n",
    "df_for_bi['БЕ'] = df_for_bi['Завод'].apply(lambda x:  insert_vpr(x,spr_be,'БЕ'))\n",
    "df_for_bi['Материал'] = df_for_bi['Завод+НН'].str.split(' #').apply(lambda x: x[1])\n",
    "\n",
    "df_for_bi['Заказчик + HH'] = df_for_bi['Комплекс'].astype('str')+' '+df_for_bi['Материал'].astype('str')\n",
    "\n",
    "\n",
    "spr_centr_zav_zav = rev_to_dict(central_zavod['Область ППМ'],central_zavod['Центральный Завод'])\n",
    "\n",
    "df_for_bi.reset_index(inplace=True,drop=True)\n",
    "\n",
    "for u in  df_for_bi.index:\n",
    "    if insert_vpr(df_for_bi.at[u,'Область ППМ'],spr_centr_zav_zav,'Центральный Завод') ==0:\n",
    "        df_for_bi.at[u,'Центральный завод'] =  insert_vpr(df_for_bi.at[u,'Завод'],spr_centr_zav_zav,'Центральный Завод')\n",
    "    else:\n",
    "        df_for_bi.at[u,'Центральный завод'] =  insert_vpr(df_for_bi.at[u,'Область ППМ'],spr_centr_zav_zav,'Центральный Завод')    \n",
    "df_for_bi['Центральный завод'] = df_for_bi['Центральный завод'].apply(lambda x: str(x).replace('.0','')).astype('str')  \n",
    "\n",
    "\n",
    "\n",
    "spr_group_mat_l1 = rev_to_dict(group_mat[group_mat['Группа материалов'].str.len()==2]['Группа материалов'],group_mat[group_mat['Группа материалов'].str.len()==2]['Обозначение 2 группы материалов'])\n",
    "df_for_bi['группа'] = df_for_bi['Материал'].str[:2].apply(lambda x:  insert_vpr(x,spr_group_mat_l1,'Обозначение 2 группы материалов'))\n",
    "\n",
    "spr_group_mat_l2 = rev_to_dict(group_mat[group_mat['Группа материалов'].str.len()==4]['Группа материалов'],group_mat[group_mat['Группа материалов'].str.len()==4]['Обозначение 2 группы материалов'])\n",
    "df_for_bi['подгруппа'] = df_for_bi['Материал'].str[:4].apply(lambda x:  insert_vpr(x,spr_group_mat_l2,'Обозначение 2 группы материалов'))\n",
    "\n",
    "\n",
    "spr_group_mat_l3 = rev_to_dict(group_mat[group_mat['Группа материалов'].str.len()==6]['Группа материалов'],group_mat[group_mat['Группа материалов'].str.len()==6]['Обозначение 2 группы материалов'])\n",
    "df_for_bi['подподгруппа'] = df_for_bi['Материал'].str[:6].apply(lambda x:  insert_vpr(x,spr_group_mat_l3,'Обозначение 2 группы материалов'))\n",
    "\n",
    "\n",
    "spr_obl_ppm_centr_zav = rev_to_dict(sprav_mat_cal_last_full['Материал'],sprav_mat_cal_last_full['Краткий текст материала'])\n",
    "df_for_bi['КрТекстМатериала'] = df_for_bi['Материал'].apply(lambda x:  insert_vpr(x,spr_obl_ppm_centr_zav,'Краткий текст материала'))\n",
    "\n",
    "\n",
    "\n",
    "\n",
    "spr_obl_ppm_baz_ei = rev_to_dict(sprav_mat_cal_last_full['Материал'],sprav_mat_cal_last_full['Базовая ЕИ'])\n",
    "df_for_bi['Базовая ЕИ'] = df_for_bi['Материал'].apply(lambda x:  insert_vpr(x,spr_obl_ppm_baz_ei,'Базовая ЕИ'))\n",
    "\n",
    "spr_obl_ppm_name_planov= rev_to_dict(sprav_mat_cal_last_full['Завод']+' #'+sprav_mat_cal_last_full['Материал'],sprav_mat_cal_last_full['Имя плановика (завод)'])\n",
    "df_for_bi['ЦЗ+НН'] = df_for_bi['Центральный завод'].astype('str')+' #'+df_for_bi['Материал'].astype('str')\n",
    "df_for_bi['Плановик'] = df_for_bi['ЦЗ+НН'].apply(lambda x:  insert_vpr(x,spr_obl_ppm_name_planov,'Имя плановика (завод)'))\n",
    "df_for_bi.drop('ЦЗ+НН',inplace=True,axis = 1)\n",
    "\n",
    "\n",
    "spr_obl_ppm_ocenka = rev_to_dict(sprav_mat_cal_last_full['Материал'],sprav_mat_cal_last_full['Класс оценки'])\n",
    "df_for_bi['Класс оценки'] = df_for_bi['Материал'].apply(lambda x:  insert_vpr(x,spr_obl_ppm_ocenka,'Класс оценки'))\n",
    "df_for_bi['Класс оценки'] = df_for_bi['Класс оценки'].apply(lambda x: str(x).replace('.0','')).astype('str')\n",
    "\n",
    "spr_obl_ppm_stat_na_zav = rev_to_dict(sprav_mat_cal_last_full['Завод']+' #'+sprav_mat_cal_last_full['Материал'],sprav_mat_cal_last_full['СтатусМтрл на заводе'])\n",
    "df_for_bi['СтатусМтрл на заводе'] = df_for_bi['Завод+НН'].apply(lambda x:  insert_vpr(x,spr_obl_ppm_stat_na_zav,'СтатусМтрл на заводе'))\n",
    "\n",
    "\n",
    "df_for_bi['Заказ'] = df_for_bi['Заказ'].apply(lambda x: str(x).replace('.0','')).astype('str')\n",
    "df_for_bi.loc[df_for_bi[df_for_bi['Заказ'].str.startswith('2')].index,'Заказ'] = '0'\n",
    "\n",
    "\n",
    "ind = ['month','Модуль','Заказ','Категория ТМЦ','Материал','БЕ','Заказчик + HH','Завод+НН','Завод + Склад','Завод + Область ППМ','Комплекс','Завод','Склад потребности','Область ППМ','Центральный завод','Код округа','Имя Завода','КрТекстМатериала','Базовая ЕИ','Признак аналога','СтатусМтрл на заводе','Класс оценки','Плановик','группа','подгруппа','подподгруппа','Цена','Недропользование','ПлановСрокПоставки']\n",
    "df_for_bi['Цена'] = 0\n",
    "df_for_bi['Цена'] = df_for_bi['Цена'].astype('str')\n",
    "for st in ind:\n",
    "    df_for_bi[st] = df_for_bi[st].astype('str')\n",
    "    \n",
    "\n",
    "    \n",
    "aggregate= dict((x,'sum') for x in df_for_bi.columns if df_for_bi[x].dtype=='float64' and x!='Цена')\n",
    "aggregate['Цена'] = ['max']\n",
    "\n",
    "\n",
    "\n",
    "ind.remove('Цена')\n",
    "df_for_bi = df_for_bi.groupby(ind).agg(aggregate).reset_index()\n",
    "df_for_bi['Цена'] = df_for_bi['Цена'].astype('float64')\n",
    "df_for_bi.columns =   [x[0] for x in df_for_bi.columns]\n",
    "\n",
    "A902['Код округа'] = A902['Код округа'].astype('str')\n",
    "A902['Материал'] = A902['Материал'].astype('str')\n",
    "A902['Материал'] = A902['Материал'].apply(lambda x: '0'+str(x) if  len(str(x))<9 else x)\n",
    "A900['Материал'] = A900['Материал'].astype('str')\n",
    "A900['Материал'] = A900['Материал'].apply(lambda x: '0'+str(x) if  len(str(x))<9 else x)\n",
    "df_for_bi['Материал'] = df_for_bi['Материал'].astype('str')\n",
    "A902.fillna(0,inplace=True)\n",
    "A900.fillna(0,inplace=True)\n",
    "KONP.fillna(0,inplace=True)\n",
    "potr_gr = dict(tuple(df_for_bi[df_for_bi['Цена']==0].groupby(['Код округа','Материал'])))\n",
    "potr_gr_mat = dict(tuple(df_for_bi[df_for_bi['Цена']==0].groupby(['Материал'])))\n",
    "konp_gr = dict(tuple(KONP.groupby(['Номер записи условий'])))\n",
    "# c_f0['Цена'] = 0.0000\n",
    "A900 = A900[A900['Конец действия'].apply(lambda x: x.year)==current_date.year]\n",
    "A902 = A902[A902['Конец действия'].apply(lambda x: x.year)==current_date.year]\n",
    "main_price(potr_gr,potr_gr_mat,A900,A902,konp_gr,df_for_bi)"
   ]
  },
  {
   "cell_type": "code",
   "execution_count": null,
   "metadata": {},
   "outputs": [],
   "source": [
    "c_f.shape"
   ]
  },
  {
   "cell_type": "code",
   "execution_count": null,
   "metadata": {},
   "outputs": [],
   "source": [
    "c_f['ПлановСрокПоставки'].unique()"
   ]
  },
  {
   "cell_type": "code",
   "execution_count": null,
   "metadata": {},
   "outputs": [],
   "source": [
    "c_f['БЕ'].unique()"
   ]
  },
  {
   "cell_type": "code",
   "execution_count": null,
   "metadata": {},
   "outputs": [],
   "source": [
    "for ind, i in enumerate(np.array_split(arr5,2)) :\n",
    "    save_pyex(df=i,path='C:\\\\Users\\\\Илья\\\\Desktop\\\\kazzinc\\\\Uploads1\\\\extr_xlsx\\\\'+str(ind)+'.xlsx')"
   ]
  },
  {
   "cell_type": "code",
   "execution_count": null,
   "metadata": {},
   "outputs": [],
   "source": [
    "df_for_bi['СрочностьПотребности'].unique()\n"
   ]
  },
  {
   "cell_type": "code",
   "execution_count": null,
   "metadata": {},
   "outputs": [],
   "source": [
    "df['СрочностьПотребности'].unique()"
   ]
  },
  {
   "cell_type": "code",
   "execution_count": null,
   "metadata": {},
   "outputs": [],
   "source": [
    "arr5 = get_in_backup(path_backup='backup_for_powerBI.h5',name='f0_vertical_09')"
   ]
  },
  {
   "cell_type": "code",
   "execution_count": null,
   "metadata": {},
   "outputs": [],
   "source": [
    "arr5['СрочностьПотребности'].unique()"
   ]
  },
  {
   "cell_type": "code",
   "execution_count": null,
   "metadata": {},
   "outputs": [],
   "source": [
    "datetime.datetime(1988,1,1)"
   ]
  },
  {
   "cell_type": "code",
   "execution_count": null,
   "metadata": {},
   "outputs": [],
   "source": [
    "arr1 = get_in_backup(path_backup='backup_for_powerBI.h5',name='f0_vertical_09')"
   ]
  },
  {
   "cell_type": "code",
   "execution_count": null,
   "metadata": {},
   "outputs": [],
   "source": [
    "arr2 = get_in_backup(path_backup='backup_for_powerBI.h5',name='f0_vertical_08')"
   ]
  },
  {
   "cell_type": "code",
   "execution_count": null,
   "metadata": {},
   "outputs": [],
   "source": [
    "arr2.drop('Unnamed: 104',axis = 1,inplace = True)\n",
    "arr1.drop('Unnamed: 109',axis = 1,inplace = True)\n",
    "arr1['Месяц'] = datetime.datetime(2019,9,1)\n",
    "arr2['Месяц'] = datetime.datetime(2019,8,1)"
   ]
  },
  {
   "cell_type": "code",
   "execution_count": null,
   "metadata": {},
   "outputs": [],
   "source": [
    "arr1.shape"
   ]
  },
  {
   "cell_type": "code",
   "execution_count": null,
   "metadata": {},
   "outputs": [],
   "source": [
    "arr2.shape"
   ]
  },
  {
   "cell_type": "code",
   "execution_count": null,
   "metadata": {},
   "outputs": [],
   "source": [
    "pd.concat([arr1,arr2])['Месяц']"
   ]
  },
  {
   "cell_type": "code",
   "execution_count": null,
   "metadata": {},
   "outputs": [],
   "source": [
    "# для bi\n",
    "c_f0_01 = get_in_backup(path_backup='backup_for_powerBI.h5',name='f0_vertical_01')\n",
    "c_f0_02 = get_in_backup(path_backup='backup_for_powerBI.h5',name='f0_vertical_02')\n",
    "c_f0_03 = get_in_backup(path_backup='backup_for_powerBI.h5',name='f0_vertical_03')\n",
    "c_f0_04 = get_in_backup(path_backup='backup_for_powerBI.h5',name='f0_vertical_04')\n",
    "c_f0_05 = get_in_backup(path_backup='backup_for_powerBI.h5',name='f0_vertical_05')\n",
    "c_f0_06 = get_in_backup(path_backup='backup_for_powerBI.h5',name='f0_vertical_06')\n",
    "c_f0_07 = get_in_backup(path_backup='backup_for_powerBI.h5',name='f0_vertical_07')\n",
    "c_f0_08 = get_in_backup(path_backup='backup_for_powerBI.h5',name='f0_vertical_08')\n",
    "c_f0_09 = get_in_backup(path_backup='backup_for_powerBI.h5',name='f0_vertical_09')"
   ]
  },
  {
   "cell_type": "code",
   "execution_count": null,
   "metadata": {},
   "outputs": [],
   "source": [
    "for ind,df_for_bi in enumerate([c_f0_01,c_f0_02,c_f0_03,c_f0_04,c_f0_05,c_f0_06,c_f0_07,c_f0_08,c_f0_09],start=1) :\n",
    "    df_for_bi['Месяц'] = str(datetime.datetime(2019,ind,1))\n",
    "\n",
    "df_for_bi = pd.DataFrame()\n",
    "df_for_bi = df_for_bi.concat([c_f0_01,c_f0_02,c_f0_03,c_f0_04,c_f0_05,c_f0_06,c_f0_07,c_f0_08,c_f0_09])"
   ]
  },
  {
   "cell_type": "code",
   "execution_count": null,
   "metadata": {},
   "outputs": [],
   "source": [
    "df_for_bi.drop(['Unnamed: 104','Unnamed: 109'],axis = 1,inplace = True)"
   ]
  },
  {
   "cell_type": "code",
   "execution_count": null,
   "metadata": {},
   "outputs": [],
   "source": [
    "df_for_bi['Месяц'].unique()"
   ]
  },
  {
   "cell_type": "code",
   "execution_count": null,
   "metadata": {},
   "outputs": [],
   "source": [
    "df_for_bi.to_csv('C:\\\\Users\\\\Илья\\\\Desktop\\\\kazzinc\\\\bi1.csv',encoding='utf-8-sig',sep = ';',decimal=',',)"
   ]
  },
  {
   "cell_type": "code",
   "execution_count": null,
   "metadata": {},
   "outputs": [],
   "source": [
    "df_for_bi['month'][0]"
   ]
  },
  {
   "cell_type": "code",
   "execution_count": null,
   "metadata": {},
   "outputs": [],
   "source": [
    "df_for_bi['Месяц'][0]"
   ]
  },
  {
   "cell_type": "code",
   "execution_count": null,
   "metadata": {},
   "outputs": [],
   "source": [
    "df_for_bi"
   ]
  },
  {
   "cell_type": "code",
   "execution_count": null,
   "metadata": {},
   "outputs": [],
   "source": [
    "df_for_bi['Месяц'][0].month"
   ]
  },
  {
   "cell_type": "code",
   "execution_count": null,
   "metadata": {},
   "outputs": [],
   "source": [
    "arr = df_for_bi['Месяц'].apply(lambda x: True if x.month==8 else False)"
   ]
  },
  {
   "cell_type": "code",
   "execution_count": null,
   "metadata": {},
   "outputs": [],
   "source": [
    "arr1 = df_for_bi[arr]"
   ]
  },
  {
   "cell_type": "code",
   "execution_count": null,
   "metadata": {},
   "outputs": [],
   "source": [
    "arr2 = arr1['month'].apply(lambda x: True if x.month>=10 and   x.month<=12  else False)"
   ]
  },
  {
   "cell_type": "code",
   "execution_count": null,
   "metadata": {},
   "outputs": [],
   "source": [
    "arr2"
   ]
  },
  {
   "cell_type": "code",
   "execution_count": null,
   "metadata": {},
   "outputs": [],
   "source": [
    "arr1[arr2]['Количество потребности'].sum()"
   ]
  },
  {
   "cell_type": "code",
   "execution_count": null,
   "metadata": {},
   "outputs": [],
   "source": [
    "arr1[arr2]['month']"
   ]
  },
  {
   "cell_type": "code",
   "execution_count": null,
   "metadata": {},
   "outputs": [],
   "source": [
    "arr2"
   ]
  },
  {
   "cell_type": "code",
   "execution_count": null,
   "metadata": {},
   "outputs": [],
   "source": [
    "arr1['month'][2352077].month"
   ]
  },
  {
   "cell_type": "code",
   "execution_count": null,
   "metadata": {},
   "outputs": [],
   "source": [
    "df_for_bi['Комплекс'].unique()"
   ]
  },
  {
   "cell_type": "code",
   "execution_count": null,
   "metadata": {},
   "outputs": [],
   "source": [
    "df_for_bi['Комплекс'].unique()"
   ]
  },
  {
   "cell_type": "code",
   "execution_count": null,
   "metadata": {},
   "outputs": [],
   "source": [
    "df_for_bi.info(verboose = True)"
   ]
  },
  {
   "cell_type": "code",
   "execution_count": null,
   "metadata": {},
   "outputs": [],
   "source": [
    "df_for_bi.name = 'f0_vertical_cons'\n",
    "save_backup('df_for_bi_cons.h5',[df_for_bi])"
   ]
  },
  {
   "cell_type": "code",
   "execution_count": null,
   "metadata": {},
   "outputs": [],
   "source": [
    "df_for_bi = get_in_backup(path_backup='df_for_bi_cons.h5',name='f0_vertical_cons')"
   ]
  },
  {
   "cell_type": "code",
   "execution_count": null,
   "metadata": {},
   "outputs": [],
   "source": [
    "df_for_bi['Месяц'][0]"
   ]
  },
  {
   "cell_type": "code",
   "execution_count": null,
   "metadata": {},
   "outputs": [],
   "source": [
    "df_for_bi[df_for_bi['Материал']=='893203151']"
   ]
  },
  {
   "cell_type": "code",
   "execution_count": null,
   "metadata": {},
   "outputs": [],
   "source": [
    "df = pd.read_csv('C:\\\\Users\\\\Илья\\\\Desktop\\\\kazzinc\\\\Uploads1\\\\extr_xlsx\\\\bi1.csv',sep = ';')"
   ]
  },
  {
   "cell_type": "code",
   "execution_count": null,
   "metadata": {},
   "outputs": [],
   "source": [
    "df"
   ]
  },
  {
   "cell_type": "code",
   "execution_count": null,
   "metadata": {},
   "outputs": [],
   "source": [
    "a = df_for_bi.to_json()"
   ]
  },
  {
   "cell_type": "code",
   "execution_count": null,
   "metadata": {},
   "outputs": [],
   "source": [
    "sprav_mat_cal_last_full"
   ]
  },
  {
   "cell_type": "code",
   "execution_count": null,
   "metadata": {},
   "outputs": [],
   "source": [
    "c_f0_09 = get_in_backup(path_backup='backup_for_powerBI.h5',name='f0_vertical_09')"
   ]
  },
  {
   "cell_type": "code",
   "execution_count": null,
   "metadata": {},
   "outputs": [],
   "source": [
    "c_f0_09"
   ]
  },
  {
   "cell_type": "code",
   "execution_count": null,
   "metadata": {},
   "outputs": [],
   "source": [
    "df_for_bi.drop(['Unnamed: 104','Unnamed: 109'],axis = 1,inplace=True)"
   ]
  },
  {
   "cell_type": "code",
   "execution_count": null,
   "metadata": {},
   "outputs": [],
   "source": []
  },
  {
   "cell_type": "code",
   "execution_count": null,
   "metadata": {},
   "outputs": [],
   "source": [
    "c_f0_09"
   ]
  },
  {
   "cell_type": "code",
   "execution_count": null,
   "metadata": {},
   "outputs": [],
   "source": [
    "df[] "
   ]
  },
  {
   "cell_type": "code",
   "execution_count": null,
   "metadata": {},
   "outputs": [],
   "source": [
    "df[df['Дата потребности']<=datetime.datetime(2020,1,31)]['Дата потребности'].unique()"
   ]
  },
  {
   "cell_type": "code",
   "execution_count": null,
   "metadata": {},
   "outputs": [],
   "source": [
    "df['Дата потребности'].apply(lambda x: x.year).unique()"
   ]
  },
  {
   "cell_type": "code",
   "execution_count": null,
   "metadata": {},
   "outputs": [],
   "source": [
    "rr = df[df['Дата потребности']<=datetime.datetime(2020,1,31)]"
   ]
  },
  {
   "cell_type": "code",
   "execution_count": null,
   "metadata": {},
   "outputs": [],
   "source": [
    "rr[rr['Дата потребности'].apply(lambda x: x.year)==2020]"
   ]
  },
  {
   "cell_type": "code",
   "execution_count": null,
   "metadata": {},
   "outputs": [],
   "source": [
    "df = pd.read_csv(directory+'CSV.csv',sep = ';',parse_dates=['Дата потребности'],dtype={'Материал':'str','Завод':'str'})"
   ]
  },
  {
   "cell_type": "code",
   "execution_count": null,
   "metadata": {},
   "outputs": [],
   "source": [
    "df['Дата потребности'].apply(lambda x: x.year).unique()"
   ]
  },
  {
   "cell_type": "code",
   "execution_count": null,
   "metadata": {},
   "outputs": [],
   "source": []
  },
  {
   "cell_type": "code",
   "execution_count": null,
   "metadata": {},
   "outputs": [],
   "source": []
  },
  {
   "cell_type": "code",
   "execution_count": null,
   "metadata": {},
   "outputs": [],
   "source": [
    "'ПП кол-во 1/'+str(current_date.year+1)"
   ]
  },
  {
   "cell_type": "code",
   "execution_count": null,
   "metadata": {},
   "outputs": [],
   "source": [
    "c_f0"
   ]
  },
  {
   "cell_type": "code",
   "execution_count": null,
   "metadata": {},
   "outputs": [],
   "source": [
    "c_f0"
   ]
  },
  {
   "cell_type": "code",
   "execution_count": null,
   "metadata": {},
   "outputs": [],
   "source": [
    "spr_obl_ppm_baz_ei = rev_to_dict(sprav_mat_cal_last_full['Материал'],sprav_mat_cal_last_full['Базовая ЕИ'])\n",
    "c_f0['Базовая ЕИ'] = c_f0['Материал'].apply(lambda x:  insert_vpr(x,spr_obl_ppm_baz_ei,'Базовая ЕИ'))"
   ]
  },
  {
   "cell_type": "code",
   "execution_count": null,
   "metadata": {},
   "outputs": [],
   "source": [
    "c_f0['Базовая ЕИ'].value_counts()"
   ]
  },
  {
   "cell_type": "code",
   "execution_count": null,
   "metadata": {},
   "outputs": [],
   "source": [
    "sprav_mat_cal_last_full.shape"
   ]
  },
  {
   "cell_type": "code",
   "execution_count": null,
   "metadata": {},
   "outputs": [],
   "source": [
    "c_f0[c_f0['Базовая ЕИ']==0]"
   ]
  },
  {
   "cell_type": "code",
   "execution_count": null,
   "metadata": {},
   "outputs": [],
   "source": [
    "n = 13\n",
    "cols_ost_prognoz_summa = ['Остаток прогноз Сумма '+str(x)+'/'+str(current_date.year) for x in range(1,n+1)]"
   ]
  },
  {
   "cell_type": "code",
   "execution_count": null,
   "metadata": {},
   "outputs": [],
   "source": []
  },
  {
   "cell_type": "code",
   "execution_count": null,
   "metadata": {},
   "outputs": [],
   "source": [
    "for i in cols_ost_prognoz_summa[current_date.month:]:\n",
    "    c_f0[i] =    c_f0.apply(lambda x: x['Остаток прогноз Кол-во'+str(i[21:])]*(x[str(current_date.month)+'/'+str(current_date.year)+' Остаток Сумма']/  x[str(current_date.month)+'/'+str(current_date.year)+' Остаток Кол-во']) if x[str(current_date.month)+'/'+str(current_date.year)+' Остаток Кол-во']>0 else x['Остаток прогноз Кол-во'+str(i[21:])] *x['Цена'],axis = 1)"
   ]
  },
  {
   "cell_type": "code",
   "execution_count": null,
   "metadata": {},
   "outputs": [],
   "source": [
    "current_date.month"
   ]
  },
  {
   "cell_type": "code",
   "execution_count": null,
   "metadata": {},
   "outputs": [],
   "source": [
    "current_date"
   ]
  },
  {
   "cell_type": "code",
   "execution_count": null,
   "metadata": {},
   "outputs": [],
   "source": [
    "current_date = datetime.datetime(2019,10,1)"
   ]
  },
  {
   "cell_type": "code",
   "execution_count": null,
   "metadata": {},
   "outputs": [],
   "source": [
    "f0_cons[i] =    f0_cons.apply(lambda x: x['Остаток прогноз Кол-во'+str(i[21:])]*(x[str(current_date.month)+'/'+str(current_date.year)+' Остаток Сумма']/  x[str(current_date.month)+'/'+str(current_date.year)+' Остаток Кол-во']) if x[str(current_date.month)+'/'+str(current_date.year)+' Остаток Кол-во']>0 else x['Остаток прогноз Кол-во'+str(i[21:])].multiply(x['Цена']),axis = 1)\n"
   ]
  },
  {
   "cell_type": "code",
   "execution_count": null,
   "metadata": {},
   "outputs": [],
   "source": [
    "c_f0['Цена']"
   ]
  },
  {
   "cell_type": "code",
   "execution_count": null,
   "metadata": {},
   "outputs": [],
   "source": [
    "c_f0['Остаток прогноз Сумма 13/2019']"
   ]
  },
  {
   "cell_type": "code",
   "execution_count": null,
   "metadata": {},
   "outputs": [],
   "source": [
    "c_f0['Остаток прогноз Сумма 13/2019'].mul(c_f0['Цена'])"
   ]
  },
  {
   "cell_type": "code",
   "execution_count": null,
   "metadata": {},
   "outputs": [],
   "source": [
    "x['Цена']"
   ]
  },
  {
   "cell_type": "code",
   "execution_count": null,
   "metadata": {},
   "outputs": [],
   "source": [
    "c_f0[c_f0['Материал']=='195010029']"
   ]
  },
  {
   "cell_type": "code",
   "execution_count": null,
   "metadata": {},
   "outputs": [],
   "source": [
    "cons_f0 = get_in_backup(path_backup='backup_f0_cons.h5',name='c_f0_cons_09')"
   ]
  },
  {
   "cell_type": "code",
   "execution_count": null,
   "metadata": {},
   "outputs": [],
   "source": [
    "cons_f0"
   ]
  },
  {
   "cell_type": "code",
   "execution_count": null,
   "metadata": {},
   "outputs": [],
   "source": [
    "f0 =  get_in_backup(path_backup='f0_cons_09.h5',name='f0_cons_09')"
   ]
  },
  {
   "cell_type": "code",
   "execution_count": null,
   "metadata": {},
   "outputs": [],
   "source": []
  },
  {
   "cell_type": "code",
   "execution_count": null,
   "metadata": {},
   "outputs": [],
   "source": [
    "current_f0 = get_in_backup(path_backup='backup_f0.h5',name='c_f0_10')"
   ]
  },
  {
   "cell_type": "code",
   "execution_count": null,
   "metadata": {},
   "outputs": [],
   "source": [
    "current_f0"
   ]
  },
  {
   "cell_type": "code",
   "execution_count": null,
   "metadata": {},
   "outputs": [],
   "source": [
    "current_date.month+1"
   ]
  },
  {
   "cell_type": "code",
   "execution_count": null,
   "metadata": {},
   "outputs": [],
   "source": [
    "cons_f0"
   ]
  },
  {
   "cell_type": "code",
   "execution_count": null,
   "metadata": {},
   "outputs": [],
   "source": [
    "arr5"
   ]
  },
  {
   "cell_type": "code",
   "execution_count": null,
   "metadata": {},
   "outputs": [],
   "source": [
    "cons_f0"
   ]
  },
  {
   "cell_type": "code",
   "execution_count": null,
   "metadata": {},
   "outputs": [],
   "source": [
    "arr5"
   ]
  },
  {
   "cell_type": "code",
   "execution_count": null,
   "metadata": {},
   "outputs": [],
   "source": [
    "df = pd.read_csv(directory+'CSV.csv',sep = ';',parse_dates=['Дата потребности'],dtype={'Материал':'str','Завод':'str'})"
   ]
  },
  {
   "cell_type": "code",
   "execution_count": null,
   "metadata": {},
   "outputs": [],
   "source": [
    "directory = 'C:\\\\Users\\\\Илья\\\\Desktop\\\\kazzinc\\\\Uploads1\\\\'"
   ]
  },
  {
   "cell_type": "code",
   "execution_count": null,
   "metadata": {},
   "outputs": [],
   "source": [
    "df.name = 'extract'\n",
    "save_backup('backup_test_del.h5',[df])"
   ]
  },
  {
   "cell_type": "code",
   "execution_count": null,
   "metadata": {},
   "outputs": [],
   "source": [
    "df = pd.read_csv('E:\\csv.csv',sep = ';',parse_dates=['Дата потребности'],dtype={'Материал':'str','Завод':'str'})"
   ]
  },
  {
   "cell_type": "code",
   "execution_count": null,
   "metadata": {
    "scrolled": true
   },
   "outputs": [],
   "source": [
    "pd.DataFrame(df['Завод'].unique()) "
   ]
  },
  {
   "cell_type": "code",
   "execution_count": null,
   "metadata": {},
   "outputs": [],
   "source": [
    "save_pyex(df=pd.DataFrame(df['Завод'].unique()) ,path='E:\\csv.xlsx')"
   ]
  },
  {
   "cell_type": "code",
   "execution_count": null,
   "metadata": {},
   "outputs": [],
   "source": [
    "Завод склад, обл ппм, кол-во потребности,дата потребности, бе  по поду дате потребности"
   ]
  },
  {
   "cell_type": "code",
   "execution_count": null,
   "metadata": {},
   "outputs": [],
   "source": [
    "df['Дата потребности'][0]"
   ]
  },
  {
   "cell_type": "code",
   "execution_count": null,
   "metadata": {},
   "outputs": [],
   "source": [
    "df['Дата потребности'] = df['Дата потребности'].apply(lambda x: '01.01.1900' if x =='00.00.0000' else  x)\n",
    "df['Дата потребности'] = [datetime.datetime(int(x.split('.')[2]),int(x.split('.')[1]),int(x.split('.')[0])) for x in df['Дата потребности'].values]\n",
    "# собираю дату с группировкой по месяцу\n",
    "month = df['Дата потребности'].apply(lambda x:  str(x.year)+'-'+str(x.month)+'-01'+ ' 00:00:00')\n",
    "month =pd.to_datetime(month) "
   ]
  },
  {
   "cell_type": "code",
   "execution_count": null,
   "metadata": {},
   "outputs": [],
   "source": [
    "df.fillna(0,inplace=True)"
   ]
  },
  {
   "cell_type": "code",
   "execution_count": null,
   "metadata": {},
   "outputs": [],
   "source": [
    "df[['Завод','Область ППМ','Дата потребности','БЕ']]"
   ]
  },
  {
   "cell_type": "code",
   "execution_count": null,
   "metadata": {},
   "outputs": [],
   "source": [
    "df['Дата потребности'].apply(lambda x:x.year).unique()"
   ]
  },
  {
   "cell_type": "code",
   "execution_count": null,
   "metadata": {},
   "outputs": [],
   "source": [
    "# надо Наташе каждый месяц\n",
    "for year in df_str_zap['Дата потребности'].apply(lambda x:x.year).unique():\n",
    "    ind = df_str_zap['Дата потребности'].apply(lambda x:True if x.year==year else False)\n",
    "    d =  df_str_zap[['Завод','Область ППМ','Дата потребности','БЕ','Количество потребности','Материал','Вид документа потребности','Комплекс','Базовая ЕИ']] \n",
    "    \n",
    "    save_pyex(df=d[ind] ,path='E:\\\\' + str(year) +  '.xlsx')"
   ]
  },
  {
   "cell_type": "code",
   "execution_count": null,
   "metadata": {},
   "outputs": [],
   "source": [
    "df['Количество потребности'] = df['Количество потребности'].str.replace('-','')"
   ]
  },
  {
   "cell_type": "code",
   "execution_count": null,
   "metadata": {},
   "outputs": [],
   "source": [
    "cons_f0 =  get_in_backup(path_backup='f0_cons_09.h5',name='f0_cons_09')"
   ]
  },
  {
   "cell_type": "code",
   "execution_count": null,
   "metadata": {},
   "outputs": [],
   "source": [
    "c_f0['Базовая ЕИ'].value_counts()"
   ]
  },
  {
   "cell_type": "code",
   "execution_count": null,
   "metadata": {},
   "outputs": [],
   "source": [
    "df"
   ]
  },
  {
   "cell_type": "code",
   "execution_count": null,
   "metadata": {},
   "outputs": [],
   "source": [
    "c_f0"
   ]
  },
  {
   "cell_type": "code",
   "execution_count": null,
   "metadata": {
    "scrolled": true
   },
   "outputs": [],
   "source": [
    "arr5.shape"
   ]
  },
  {
   "cell_type": "code",
   "execution_count": null,
   "metadata": {},
   "outputs": [],
   "source": [
    "cons_f0.shape"
   ]
  },
  {
   "cell_type": "code",
   "execution_count": null,
   "metadata": {},
   "outputs": [],
   "source": [
    "directory = 'C:\\\\Users\\\\Илья\\\\Desktop\\\\kazzinc\\\\Uploads1\\\\'\n",
    "df = pd.read_csv(directory+'CSV.csv',sep = ';',parse_dates=['Дата потребности'],dtype={'Материал':'str','Завод':'str'})"
   ]
  },
  {
   "cell_type": "code",
   "execution_count": null,
   "metadata": {},
   "outputs": [],
   "source": [
    "df = df[df['Дата потребности']<=datetime.datetime(2020,1,31)]\n",
    "\n",
    "spr_zav_dict = rev_to_dict(sprav_po_kompl['Завод'],sprav_po_kompl['ЦС/ПЗ'])\n",
    "df['ЦС/ПЗ'] = df['Завод'].apply(lambda x:  insert_vpr(x,spr_zav_dict,'ЦС/ПЗ'))\n",
    "df['Номер потребности'] = df['Номер потребности'].apply(lambda x: str(x).replace('.0','')).astype('str')\n",
    "df['МВЗ'] = df['МВЗ'].apply(lambda x: str(x).replace('.0','')).astype('str')\n",
    "\n",
    "\n",
    "df['Тип материала'] = df['Тип материала'].apply(lambda x: str(x).replace('.0','')).astype('str')\n",
    "df['БЕ'] = df['БЕ'].apply(lambda x: str(x).replace('.0','')).astype('str')\n",
    "\n",
    "\n",
    "\n",
    "# недропользование неполнятно\n",
    "spr_nedra = rev_to_dict(sprav_nedra['Завод + Склад'],sprav_nedra['Завод + Склад'])\n",
    "# df['Недропользование']= df['Завод'].apply(lambda x: insert_vpr(x,spr_nedra,'Завод'))   \n",
    "df['Склад потребности'] = df['Склад потребности'].apply(lambda x: str(x).replace('.0','')).astype('str')\n",
    "df['Завод + Склад'] = df['Завод']+' '+df['Склад потребности']\n",
    "df['Недропользование'] = df['Завод + Склад'].apply(lambda x: 0 if   insert_vpr(x,spr_nedra,'Завод + Склад')==0 else 1)\n",
    "\n",
    "# Вывод по докум-ам потребности\n",
    "df['Вывод по документам потребности'] = df.apply(lambda x: formula_vivod_po_doc_potrebn(x),axis=1 )\n",
    "\n",
    "\n",
    "df['Вывод по документам пополнения'] = df.apply(lambda x: formula_vivod_po_doc_popolneniya(x),axis=1 )"
   ]
  },
  {
   "cell_type": "code",
   "execution_count": null,
   "metadata": {},
   "outputs": [],
   "source": [
    "df[(df['Вывод по документам потребности']!='OK')|(df['Вывод по документам пополнения']!='OK')]"
   ]
  },
  {
   "cell_type": "code",
   "execution_count": null,
   "metadata": {},
   "outputs": [],
   "source": [
    "save_pyex(df=df[(df['Вывод по документам потребности']!='OK')|(df['Вывод по документам пополнения']!='OK')] ,path='E:\\11112019EXTR.xlsx')"
   ]
  },
  {
   "cell_type": "code",
   "execution_count": null,
   "metadata": {},
   "outputs": [],
   "source": [
    "f0 =  get_in_backup(path_backup='backup_f0.h5',name='c_f0_10')"
   ]
  },
  {
   "cell_type": "code",
   "execution_count": null,
   "metadata": {},
   "outputs": [],
   "source": []
  },
  {
   "cell_type": "code",
   "execution_count": null,
   "metadata": {},
   "outputs": [],
   "source": [
    "f0.loc[:,'ПП кол-во 1/2019':'ПП кол-во 13/2019']"
   ]
  },
  {
   "cell_type": "code",
   "execution_count": null,
   "metadata": {},
   "outputs": [],
   "source": [
    "f0.reset_index(drop = True,inplace = True)"
   ]
  },
  {
   "cell_type": "code",
   "execution_count": null,
   "metadata": {},
   "outputs": [],
   "source": [
    "pd.concat([f0.loc[:,'ПП кол-во 1/2019':'ПП кол-во 13/2019'],f0['Комплекс'],f0['Материал']],axis = 1)"
   ]
  },
  {
   "cell_type": "code",
   "execution_count": null,
   "metadata": {},
   "outputs": [],
   "source": [
    "save_pyex(df=pd.concat([f0.loc[:,'ПП кол-во 1/2019':'ПП кол-во 13/2019'],f0['Комплекс'],f0['Материал']],axis = 1) ,path='E:\\11112019EXTR_with_potr.xlsx')"
   ]
  },
  {
   "cell_type": "code",
   "execution_count": null,
   "metadata": {},
   "outputs": [],
   "source": [
    "f0"
   ]
  },
  {
   "cell_type": "code",
   "execution_count": null,
   "metadata": {},
   "outputs": [],
   "source": [
    "c_f0_08"
   ]
  },
  {
   "cell_type": "code",
   "execution_count": null,
   "metadata": {},
   "outputs": [],
   "source": [
    "f0.loc[f0[f0['Материал'] == '610902015'].index]['Цена'] = 0"
   ]
  },
  {
   "cell_type": "code",
   "execution_count": null,
   "metadata": {},
   "outputs": [],
   "source": [
    "A902[A902['Материал']=='610902015']"
   ]
  },
  {
   "cell_type": "code",
   "execution_count": null,
   "metadata": {},
   "outputs": [],
   "source": [
    "potr_gr = dict(tuple(df_for_bi[df_for_bi['Цена']==0].groupby(['Код округа','Материал'])))"
   ]
  },
  {
   "cell_type": "code",
   "execution_count": null,
   "metadata": {},
   "outputs": [],
   "source": [
    "potr_gr"
   ]
  },
  {
   "cell_type": "code",
   "execution_count": null,
   "metadata": {},
   "outputs": [],
   "source": [
    "f0[f0['Материал'] == '610902015']"
   ]
  },
  {
   "cell_type": "code",
   "execution_count": null,
   "metadata": {},
   "outputs": [],
   "source": [
    "rr =  get_in_backup(path_backup='backup_for_powerBI_test_no.h5',name='f0_vertical_10')"
   ]
  },
  {
   "cell_type": "code",
   "execution_count": null,
   "metadata": {
    "scrolled": true
   },
   "outputs": [],
   "source": [
    "aa = rr[rr['Материал'] == '610902015'].copy()"
   ]
  },
  {
   "cell_type": "code",
   "execution_count": null,
   "metadata": {
    "scrolled": true
   },
   "outputs": [],
   "source": [
    "aa['Цена'] = 0"
   ]
  },
  {
   "cell_type": "code",
   "execution_count": null,
   "metadata": {},
   "outputs": [],
   "source": [
    "A902['Код округа'] = A902['Код округа'].astype('str')\n",
    "A902['Материал'] = A902['Материал'].astype('str')\n",
    "A902['Материал'] = A902['Материал'].apply(lambda x: '0'+str(x) if  len(str(x))<9 else x)\n",
    "A900['Материал'] = A900['Материал'].astype('str')\n",
    "A900['Материал'] = A900['Материал'].apply(lambda x: '0'+str(x) if  len(str(x))<9 else x)\n",
    "aa['Материал'] = aa['Материал'].astype('str')\n",
    "A902.fillna(0,inplace=True)\n",
    "A900.fillna(0,inplace=True)\n",
    "KONP.fillna(0,inplace=True)\n",
    "potr_gr = dict(tuple(aa[aa['Цена']==0].groupby(['Код округа','Материал'])))\n",
    "potr_gr_mat = dict(tuple(aa[aa['Цена']==0].groupby(['Материал'])))\n",
    "konp_gr = dict(tuple(KONP.groupby(['Номер записи условий'])))\n",
    "# c_f0['Цена'] = 0.0000\n",
    "A900 = A900[A900['Конец действия'].apply(lambda x: x.year)==current_date.year]\n",
    "A902 = A902[A902['Конец действия'].apply(lambda x: x.year)==current_date.year]\n",
    "main_price(potr_gr,potr_gr_mat,A900,A902,konp_gr,aa)"
   ]
  },
  {
   "cell_type": "code",
   "execution_count": null,
   "metadata": {},
   "outputs": [],
   "source": [
    "aa['Код округа']"
   ]
  },
  {
   "cell_type": "code",
   "execution_count": null,
   "metadata": {},
   "outputs": [],
   "source": [
    "# Формирование цены\n",
    "def get_df_f(dfm,cols,filtrs):\n",
    "    try:\n",
    "        dd = dfm[(dfm[cols[0]] == filtrs[0]) & (dfm[cols[1]] == filtrs[1])]\n",
    "        return dd\n",
    "    except KeyError:\n",
    "        return pd.DataFrame()\n",
    "\n",
    "def get_df_f1(dfm,cols,filtrs):\n",
    "    try:\n",
    "        dd = dfm[(dfm[cols[0]] == filtrs[0])]\n",
    "        return dd\n",
    "    except KeyError:\n",
    "        return pd.DataFrame()\n",
    "\n",
    "\n",
    "def insert_price_into_potr(price,into_df,df):\n",
    "    for ind in into_df.index:\n",
    "        if df.at[ind,'Цена']==0:\n",
    "            df.at[ind,'Цена'] = price\n",
    "\n",
    "def mex_price(dat,konp_gr,df,potr_gr,i):\n",
    "    if len(dat)>0:\n",
    "        # print(dat['Номер записи условий'].values[0])\n",
    "        konp_ = konp_gr[dat['Номер записи условий'].values[0]]\n",
    "        # если есть  в конп\n",
    "        if len(konp_)>0:\n",
    "            # print(konp_)\n",
    "            if konp_['Базовая ЕИ'].values[0]==0 or konp_['Базовая ЕИ'].values[0]==konp_['Единица измерения'].values[0]:\n",
    "                price = (konp_['Сумма условия'].values[0]  / konp_['Единица цены'].values[0])*345\n",
    "                insert_price_into_potr(price,potr_gr[i],df)\n",
    "            elif konp_['Базовая ЕИ'].values[0]!=konp_['Единица измерения'].values[0]:\n",
    "\n",
    "                if konp_['Числитель пересчета'].values[0]==0:\n",
    "                    price = konp_['Сумма условия'].values[0] *345\n",
    "                    insert_price_into_potr(price, potr_gr[i],df)\n",
    "                else:\n",
    "                    price = ((konp_['Сумма условия'].values[0]*konp_['Числитель пересчета'].values[0])/konp_['Единица цены'].values[0])*345\n",
    "                    insert_price_into_potr(price, potr_gr[i],df)\n",
    "\n",
    "\n",
    "def main_price(potr_gr,potr_gr1,A900,A902,konp_gr,df):\n",
    "    for i in potr_gr.keys():\n",
    "        dat = get_df_f(A902, ['Код округа', 'Материал'], [i[0], i[1]])\n",
    "        mex_price(dat,konp_gr,df,potr_gr,i)\n",
    "    for i in potr_gr1.keys():\n",
    "        dat = get_df_f1(A900, ['Материал'], [i])\n",
    "        mex_price(dat, konp_gr, df, potr_gr1, i)"
   ]
  },
  {
   "cell_type": "code",
   "execution_count": null,
   "metadata": {},
   "outputs": [],
   "source": [
    "dat = get_df_f(A902, ['Код округа', 'Материал'], ['ZH', '610902015'])"
   ]
  },
  {
   "cell_type": "code",
   "execution_count": null,
   "metadata": {},
   "outputs": [],
   "source": [
    "A902[A902['Материал']=='610902015']['Код округа'].unique()"
   ]
  },
  {
   "cell_type": "code",
   "execution_count": null,
   "metadata": {},
   "outputs": [],
   "source": [
    "aa['Код округа'].unique()"
   ]
  },
  {
   "cell_type": "code",
   "execution_count": null,
   "metadata": {},
   "outputs": [],
   "source": [
    "dat"
   ]
  },
  {
   "cell_type": "code",
   "execution_count": null,
   "metadata": {},
   "outputs": [],
   "source": [
    "A902[(A902['Код округа']=='ZH')&(A902['Материал']=='610902015')]"
   ]
  },
  {
   "cell_type": "code",
   "execution_count": null,
   "metadata": {},
   "outputs": [],
   "source": [
    "dat"
   ]
  },
  {
   "cell_type": "code",
   "execution_count": null,
   "metadata": {
    "scrolled": true
   },
   "outputs": [],
   "source": [
    "aa"
   ]
  },
  {
   "cell_type": "code",
   "execution_count": null,
   "metadata": {},
   "outputs": [],
   "source": [
    "konp_gr['0000296822']"
   ]
  },
  {
   "cell_type": "code",
   "execution_count": null,
   "metadata": {},
   "outputs": [],
   "source": [
    "potr_gr = dict(tuple(aa[aa['Цена']==0].groupby(['Код округа','Материал'])))"
   ]
  },
  {
   "cell_type": "code",
   "execution_count": null,
   "metadata": {},
   "outputs": [],
   "source": [
    "potr_gr.keys()"
   ]
  },
  {
   "cell_type": "code",
   "execution_count": null,
   "metadata": {},
   "outputs": [],
   "source": [
    "for i in potr_gr.keys():\n",
    "    print(get_df_f(A902, ['Код округа', 'Материал'], [i[0], i[1]]))"
   ]
  },
  {
   "cell_type": "code",
   "execution_count": null,
   "metadata": {},
   "outputs": [],
   "source": [
    "konp_ = konp_gr[dat['Номер записи условий'].values[0]]"
   ]
  },
  {
   "cell_type": "code",
   "execution_count": null,
   "metadata": {},
   "outputs": [],
   "source": [
    "dat = get_df_f(A902, ['Код округа', 'Материал'], ['ZH', '610902015'])"
   ]
  },
  {
   "cell_type": "code",
   "execution_count": null,
   "metadata": {},
   "outputs": [],
   "source": [
    "len(dat)"
   ]
  },
  {
   "cell_type": "code",
   "execution_count": null,
   "metadata": {},
   "outputs": [],
   "source": [
    "konp_ = konp_gr[dat['Номер записи условий'].values[0]]"
   ]
  },
  {
   "cell_type": "code",
   "execution_count": null,
   "metadata": {},
   "outputs": [],
   "source": [
    "konp_"
   ]
  },
  {
   "cell_type": "code",
   "execution_count": null,
   "metadata": {},
   "outputs": [],
   "source": [
    "konp_['Базовая ЕИ'].values[0]"
   ]
  },
  {
   "cell_type": "code",
   "execution_count": null,
   "metadata": {},
   "outputs": [],
   "source": [
    "konp_['Базовая ЕИ'].values[0]==konp_['Единица измерения'].values[0]"
   ]
  },
  {
   "cell_type": "code",
   "execution_count": null,
   "metadata": {},
   "outputs": [],
   "source": [
    "price = (konp_['Сумма условия'].values[0]  / konp_['Единица цены'].values[0])*345"
   ]
  },
  {
   "cell_type": "code",
   "execution_count": null,
   "metadata": {},
   "outputs": [],
   "source": [
    "price"
   ]
  },
  {
   "cell_type": "code",
   "execution_count": null,
   "metadata": {},
   "outputs": [],
   "source": [
    "main_price(potr_gr,potr_gr_mat,A900,A902,konp_gr,aa)"
   ]
  },
  {
   "cell_type": "code",
   "execution_count": null,
   "metadata": {},
   "outputs": [],
   "source": [
    "aa"
   ]
  },
  {
   "cell_type": "code",
   "execution_count": null,
   "metadata": {},
   "outputs": [],
   "source": [
    "potr_with_ostatok_total = get_in_backup(path_backup='backup_for_powerBI_test_no.h5',name='f0_vertical_10')"
   ]
  },
  {
   "cell_type": "code",
   "execution_count": null,
   "metadata": {},
   "outputs": [],
   "source": [
    "directory = 'C:\\\\Users\\\\Илья\\\\Desktop\\\\kazzinc\\\\Uploads1\\\\'"
   ]
  },
  {
   "cell_type": "code",
   "execution_count": null,
   "metadata": {},
   "outputs": [],
   "source": [
    "c_f0[c_f0['Материал']=='610902015']"
   ]
  },
  {
   "cell_type": "code",
   "execution_count": null,
   "metadata": {
    "scrolled": true
   },
   "outputs": [],
   "source": [
    "potr_with_ostatok_total[potr_with_ostatok_total['Материал']=='610902015']"
   ]
  },
  {
   "cell_type": "code",
   "execution_count": null,
   "metadata": {},
   "outputs": [],
   "source": [
    "arr5.shape"
   ]
  },
  {
   "cell_type": "code",
   "execution_count": null,
   "metadata": {},
   "outputs": [],
   "source": [
    "cons_f0.shape"
   ]
  },
  {
   "cell_type": "code",
   "execution_count": null,
   "metadata": {
    "scrolled": true
   },
   "outputs": [],
   "source": [
    "arr5.columns"
   ]
  },
  {
   "cell_type": "code",
   "execution_count": null,
   "metadata": {},
   "outputs": [],
   "source": [
    "list(arr5.columns)"
   ]
  },
  {
   "cell_type": "code",
   "execution_count": null,
   "metadata": {
    "scrolled": true
   },
   "outputs": [],
   "source": [
    "list_a = list(arr5.columns)"
   ]
  },
  {
   "cell_type": "code",
   "execution_count": null,
   "metadata": {
    "scrolled": true
   },
   "outputs": [],
   "source": [
    "[i for i in y if y[i]>1]"
   ]
  },
  {
   "cell_type": "code",
   "execution_count": null,
   "metadata": {},
   "outputs": [],
   "source": [
    "[x for x in list_a if list_a.count(x) > 1]"
   ]
  },
  {
   "cell_type": "code",
   "execution_count": null,
   "metadata": {
    "scrolled": true
   },
   "outputs": [],
   "source": [
    "ZNB[(ZNB['Материал']=='060211279')&(ZNB1['Завод']=='1599')]['Заявка + Позиция (для UB05 по ДП)'].unique()"
   ]
  },
  {
   "cell_type": "code",
   "execution_count": null,
   "metadata": {},
   "outputs": [],
   "source": [
    "df99 = pd.read_csv(directory+'CSV.csv',sep = ';',parse_dates=['Дата потребности'],dtype={'Материал':'str','Завод':'str'})"
   ]
  },
  {
   "cell_type": "code",
   "execution_count": null,
   "metadata": {},
   "outputs": [],
   "source": [
    "cons_f0.set_index(ind).loc[:,str(current_date.month-1)+'/2019 Остаток Кол-во':str(current_date.month-2)+'/2019 ФC Сумма']"
   ]
  },
  {
   "cell_type": "code",
   "execution_count": null,
   "metadata": {},
   "outputs": [],
   "source": [
    "df = get_in_backup(path_backup='backup.h5',name='extract')"
   ]
  },
  {
   "cell_type": "code",
   "execution_count": null,
   "metadata": {},
   "outputs": [],
   "source": [
    "df[(df['Материал']=='060211279')]['Номер элемента пополнения + Номер позиции пополнения'].unique()"
   ]
  },
  {
   "cell_type": "code",
   "execution_count": null,
   "metadata": {},
   "outputs": [],
   "source": [
    "arr5 = pd.concat([c_f[ind],  \n",
    "        c_f.loc[:,[x for x in c_f.columns if x.find('ПП кол-во')!=-1]],   c_f['Текущее кол-во ПП'],\n",
    "        c_f.loc[:,[x for x in c_f.columns if x.find('ПП сумма')!=-1]],    c_f['Текущая сумма ПП'],\n",
    "        c_f.loc[:,[x for x in c_f.columns if x.find('Остаток Кол-во')!=-1]],\n",
    "        c_f.loc[:,[x for x in c_f.columns if x.find('Остаток Сумма')!=-1]],\n",
    "        c_f.loc[:,[x for x in c_f.columns if x.find('ФП Кол-во')!=-1]],\n",
    "        c_f.loc[:,[x for x in c_f.columns if x.find('ФП Сумма')!=-1]],\n",
    "        c_f.loc[:,[x for x in c_f.columns if x.find('ФC Кол-во')!=-1]],\n",
    "        c_f.loc[:,[x for x in c_f.columns if x.find('ФC Сумма')!=-1]],\n",
    "        c_f.loc[:,'Товар в пути (ZNB5, ZNB2/3-АвизОт)':'РР'] ],axis = 1,)"
   ]
  },
  {
   "cell_type": "code",
   "execution_count": null,
   "metadata": {},
   "outputs": [],
   "source": [
    "df[(df['Материал']=='060211279')&(df['Номер элемента пополнения + Номер позиции пополнения']=='55064944 10')]"
   ]
  },
  {
   "cell_type": "code",
   "execution_count": null,
   "metadata": {},
   "outputs": [],
   "source": [
    "df99[df99['Материал']=='060211279']['Номер элемента пополнения'].unique()"
   ]
  },
  {
   "cell_type": "code",
   "execution_count": null,
   "metadata": {},
   "outputs": [],
   "source": [
    "df99['Материал'].unique()"
   ]
  },
  {
   "cell_type": "code",
   "execution_count": null,
   "metadata": {},
   "outputs": [],
   "source": [
    "df99['Номер элемента пополнения'] = df99['Номер элемента пополнения'].astype('str')"
   ]
  },
  {
   "cell_type": "code",
   "execution_count": null,
   "metadata": {},
   "outputs": [],
   "source": [
    "55064944.0"
   ]
  },
  {
   "cell_type": "code",
   "execution_count": null,
   "metadata": {},
   "outputs": [],
   "source": [
    "df99[(df99['Материал']=='060211279')&(df99['Номер элемента пополнения']=='55064944.0')]"
   ]
  },
  {
   "cell_type": "code",
   "execution_count": null,
   "metadata": {},
   "outputs": [],
   "source": [
    "df99['Номер элемента пополнения'].apply(lambda x: x[:2]=='55')"
   ]
  },
  {
   "cell_type": "code",
   "execution_count": null,
   "metadata": {},
   "outputs": [],
   "source": [
    "ss = df99[df99['Номер элемента пополнения'].apply(lambda x: x[:2]=='55')]"
   ]
  },
  {
   "cell_type": "code",
   "execution_count": null,
   "metadata": {},
   "outputs": [],
   "source": [
    "ss[(ss['Материал']=='060211279')]['Дата потребности'].unique()"
   ]
  },
  {
   "cell_type": "code",
   "execution_count": null,
   "metadata": {},
   "outputs": [],
   "source": [
    "df[(df['Материал']=='060211279')&(df['Вид документа пополнения']=='UB05')]"
   ]
  },
  {
   "cell_type": "code",
   "execution_count": null,
   "metadata": {},
   "outputs": [],
   "source": [
    "ZNB[(ZNB['Материал']=='060211279')]"
   ]
  },
  {
   "cell_type": "code",
   "execution_count": null,
   "metadata": {},
   "outputs": [],
   "source": [
    "ZNB"
   ]
  },
  {
   "cell_type": "code",
   "execution_count": null,
   "metadata": {
    "scrolled": true
   },
   "outputs": [],
   "source": [
    "UB05"
   ]
  },
  {
   "cell_type": "code",
   "execution_count": null,
   "metadata": {
    "scrolled": true
   },
   "outputs": [],
   "source": [
    "df_str_zap[(df_str_zap['Материал']=='060211279')&(df_str_zap['Вид документа пополнения']=='UB05')]"
   ]
  },
  {
   "cell_type": "code",
   "execution_count": null,
   "metadata": {},
   "outputs": [],
   "source": [
    "ffff = tab_avizot.reset_index()"
   ]
  },
  {
   "cell_type": "code",
   "execution_count": null,
   "metadata": {},
   "outputs": [],
   "source": [
    "ffff[ffff['Номер элемента пополнения + Номер позиции пополнения + Наименование типа элемента ППМ пополн']=='55064943 10']"
   ]
  },
  {
   "cell_type": "code",
   "execution_count": null,
   "metadata": {},
   "outputs": [],
   "source": [
    "rr = ffff['Номер элемента пополнения + Номер позиции пополнения + Наименование типа элемента ППМ пополн'].apply(lambda x: x.find('55064943 10')!=-1)"
   ]
  },
  {
   "cell_type": "code",
   "execution_count": null,
   "metadata": {},
   "outputs": [],
   "source": [
    "ffff[rr]"
   ]
  },
  {
   "cell_type": "code",
   "execution_count": null,
   "metadata": {},
   "outputs": [],
   "source": [
    "ZNB['Номер элемента пополнения + Номер позиции пополнения + Наименование типа элемента ППМ пополн'].apply(lambda x: x.find('55064943 10')!=-1)"
   ]
  },
  {
   "cell_type": "code",
   "execution_count": null,
   "metadata": {},
   "outputs": [],
   "source": [
    "ZNB"
   ]
  },
  {
   "cell_type": "code",
   "execution_count": null,
   "metadata": {},
   "outputs": [],
   "source": [
    "UB05"
   ]
  },
  {
   "cell_type": "code",
   "execution_count": null,
   "metadata": {},
   "outputs": [],
   "source": [
    "save_pyex(df=ZNB ,path='C:\\\\Users\\\\Илья\\\\Desktop\\\\kazzinc\\\\Uploads1\\\\extr_xlsx\\\\11111.xlsx')"
   ]
  },
  {
   "cell_type": "code",
   "execution_count": null,
   "metadata": {},
   "outputs": [],
   "source": [
    "save_pyex(df=tab_avizot.reset_index() ,path='C:\\\\Users\\\\Илья\\\\Desktop\\\\kazzinc\\\\Uploads1\\\\extr_xlsx\\\\22222.xlsx')"
   ]
  },
  {
   "cell_type": "code",
   "execution_count": null,
   "metadata": {},
   "outputs": [],
   "source": [
    "tab_avizot.reset_index()"
   ]
  },
  {
   "cell_type": "code",
   "execution_count": null,
   "metadata": {},
   "outputs": [],
   "source": []
  },
  {
   "cell_type": "code",
   "execution_count": null,
   "metadata": {},
   "outputs": [],
   "source": [
    "df99 = pd.read_excel('C:\\\\Users\\\\Илья\\\\Desktop\\\\kazzinc\\\\files for power bi\\\\j\\\\9.xlsx')\n",
    "df99['Месяц']  = datetime.datetime(2019,9,1)\n",
    "df99['one'] = 1"
   ]
  },
  {
   "cell_type": "code",
   "execution_count": null,
   "metadata": {
    "scrolled": true
   },
   "outputs": [],
   "source": [
    "df99 = df99[['Модуль','группа','Комплекс','Ответственность','Описание отклонения по ответственности','one','Месяц']].\\\n",
    "groupby(['Модуль','группа','Комплекс','Ответственность','Описание отклонения по ответственности','Месяц']).agg({'one':'count'}).reset_index()"
   ]
  },
  {
   "cell_type": "code",
   "execution_count": null,
   "metadata": {},
   "outputs": [],
   "source": [
    "save_pyex(df=a.append([df09,df10,df11]) ,path='C:\\\\Users\\\\Илья\\\\Desktop\\\\kazzinc\\\\files for power bi\\\\two_diagrams.xlsx')"
   ]
  },
  {
   "cell_type": "code",
   "execution_count": null,
   "metadata": {},
   "outputs": [],
   "source": [
    "df09 = df99.copy()"
   ]
  },
  {
   "cell_type": "code",
   "execution_count": null,
   "metadata": {},
   "outputs": [],
   "source": [
    "df10 = df99.copy()"
   ]
  },
  {
   "cell_type": "code",
   "execution_count": null,
   "metadata": {},
   "outputs": [],
   "source": [
    "df11 = df99.copy()"
   ]
  },
  {
   "cell_type": "code",
   "execution_count": null,
   "metadata": {},
   "outputs": [],
   "source": [
    "a = pd.DataFrame()"
   ]
  },
  {
   "cell_type": "code",
   "execution_count": null,
   "metadata": {},
   "outputs": [],
   "source": [
    "a.append([df09,df10,df11])"
   ]
  },
  {
   "cell_type": "code",
   "execution_count": null,
   "metadata": {},
   "outputs": [],
   "source": [
    "df09.shape"
   ]
  },
  {
   "cell_type": "code",
   "execution_count": null,
   "metadata": {},
   "outputs": [],
   "source": [
    "5.650360e+04+1.214061e+05+6.668837e+06+1.223524e+05+7.945835e+05"
   ]
  },
  {
   "cell_type": "code",
   "execution_count": null,
   "metadata": {},
   "outputs": [],
   "source": [
    "122352.41+6725340.68+121406.09+794583.46"
   ]
  },
  {
   "cell_type": "code",
   "execution_count": null,
   "metadata": {},
   "outputs": [],
   "source": [
    "# Запуск распределения остатков\n",
    "# date_start_year = datetime.datetime(2019,1,1)\n",
    "current_date = datetime.datetime(2019,10,1)\n",
    "potr_copy = df[df['Материал']=='121106205'].copy()\n",
    "ost_copy = ost_start_raspr.copy()\n",
    "potr_copy.name = 'potrebn_with_raspr_ost'\n",
    "ost_copy.name =  'ost_with_potr'\n",
    "# Запуск распределения остатков\n",
    "potr_copy['Распределение_остатака'] = 0.000000\n",
    "potr_copy['Сумма_распреденного_остатка'] = 0.000000\n",
    "\n",
    "\n",
    "ostat(ost_st=ost_copy,potr_st=potr_copy,filters=filter_else,current_date = current_date,all_months=False)    \n",
    "# save_backup('backup.h5',[ost_start,ostatok,block_zapas,ost_start_raspr])"
   ]
  },
  {
   "cell_type": "code",
   "execution_count": null,
   "metadata": {},
   "outputs": [],
   "source": [
    "potr_NB"
   ]
  },
  {
   "cell_type": "code",
   "execution_count": null,
   "metadata": {},
   "outputs": [],
   "source": [
    "NB_copy[NB_copy['Материал']=='121106205']"
   ]
  },
  {
   "cell_type": "code",
   "execution_count": null,
   "metadata": {},
   "outputs": [],
   "source": [
    "master_zav_nn = dict(tuple(potr_NB[potr_NB['month'] > current_date].groupby('Заказчик + HH')))"
   ]
  },
  {
   "cell_type": "code",
   "execution_count": null,
   "metadata": {},
   "outputs": [],
   "source": [
    "potr_NB"
   ]
  },
  {
   "cell_type": "code",
   "execution_count": null,
   "metadata": {},
   "outputs": [],
   "source": [
    "potr_NB = potr_prt_pzk.copy()\n",
    "NB_copy = NB.copy()\n",
    "potr_NB.name = 'potr_NB'\n",
    "NB_copy.name =  'NB_copy'\n",
    "potr_NB['NB'] = 0.000000\n",
    "NB_copy['осталось'] = NB_copy['Количество пополнения']\n",
    "NB_raspr(ost_st=NB_copy,potr_st=potr_NB,filters=filter_else,current_date = current_date,all_months=True)"
   ]
  },
  {
   "cell_type": "code",
   "execution_count": null,
   "metadata": {},
   "outputs": [],
   "source": [
    "# управление механикой остатков(вызывать ее)\n",
    "def NB_raspr(ost_st, potr_st, current_date, filters,all_months):\n",
    "    #     группировка остатков по\n",
    "    if all_months ==True:\n",
    "        master_zav_nn = dict(tuple(potr_st[potr_st['month'] >= current_date].groupby('Заказчик + HH')))\n",
    "    else:\n",
    "        master_zav_nn = dict(tuple(potr_st[potr_st['month'] > current_date].groupby('Заказчик + HH')))\n",
    "    pz_ost = ost_st\n",
    "    # пз\n",
    "#     print(master_zav_nn.keys())\n",
    "    for pz_slave_row in pz_ost.index:\n",
    "        df_master = ret_data_dict(pz_ost.at[pz_slave_row, 'Комплекс+Маттериал'], master_zav_nn)\n",
    "        if df_master is None:\n",
    "            df_master = pd.DataFrame()\n",
    "        # если есть потребность у сцепки зав нн\n",
    "        # pz_ost.at[pz_slave_row, 'осталось'] = 1600\n",
    "        if len(df_master) > 0 and pz_ost.at[pz_slave_row, 'осталось'] > 0:\n",
    "            df_master = df_master.sort_values('Дата потребности')\n",
    "            # функция\n",
    "            df_master = mex_NB(df_master, pz_ost, pz_slave_row, ost_st, potr_st)\n",
    "            master_zav_nn[pz_ost.at[pz_slave_row, 'Комплекс+Маттериал']] = df_master\n",
    "    if all_months ==True:\n",
    "        master_zav_nn = dict(tuple(potr_st[potr_st['month'] >= current_date].groupby('Материал')))\n",
    "    else:\n",
    "        master_zav_nn = dict(tuple(potr_st[potr_st['month'] > current_date].groupby('Материал')))\n",
    "\n",
    "    for pz_slave_row in pz_ost.index:\n",
    "        if pz_ost.at[pz_slave_row, 'Комплекс'] == 'ALL1000':\n",
    "            df_master = ret_data_dict(pz_ost.at[pz_slave_row, 'Материал'], master_zav_nn)\n",
    "            if df_master is None:\n",
    "                df_master = pd.DataFrame()\n",
    "            # если есть потребность у сцепки зав нн\n",
    "            # pz_ost.at[pz_slave_row, 'осталось'] = 1600\n",
    "            if len(df_master) > 0 and pz_ost.at[pz_slave_row, 'осталось'] > 0:\n",
    "                df_master = df_master[df_master['Комплекс'].isin(filters['one'])].sort_values('Дата потребности')\n",
    "                # функция\n",
    "                df_master = mex_NB(df_master, pz_ost, pz_slave_row, ost_st, potr_st)\n",
    "                master_zav_nn[pz_ost.at[pz_slave_row, 'Материал']] = df_master"
   ]
  },
  {
   "cell_type": "code",
   "execution_count": null,
   "metadata": {},
   "outputs": [],
   "source": [
    "master_zav_nn = dict(tuple(potr_NB[potr_NB['month'] >= current_date].groupby('Заказчик + HH')))"
   ]
  },
  {
   "cell_type": "code",
   "execution_count": null,
   "metadata": {},
   "outputs": [],
   "source": [
    "ret_data_dict(NB_copy.at[1121775, 'Комплекс+Маттериал'], master_zav_nn)"
   ]
  },
  {
   "cell_type": "code",
   "execution_count": null,
   "metadata": {},
   "outputs": [],
   "source": [
    "potr_NB.at[1121775, 'Комплекс+Маттериал']"
   ]
  },
  {
   "cell_type": "code",
   "execution_count": null,
   "metadata": {},
   "outputs": [],
   "source": [
    "NB_copy[NB_copy['Комплекс+Маттериал']=='АТК 201100093']"
   ]
  },
  {
   "cell_type": "code",
   "execution_count": null,
   "metadata": {},
   "outputs": [],
   "source": [
    "def main_price_f(df,A902,A900):\n",
    "    konp_gr = KONP.set_index(['Номер записи условий'])\n",
    "    potr_gr = df.set_index(['Код округа','Материал']).copy()\n",
    "    A902 = A902.set_index(['Код округа','Материал'])\n",
    "    A900 = A900.set_index(['Материал'])\n",
    "    for i in potr_gr.index:\n",
    "        dat = get_df_f(A902, [i[0], i[1]])\n",
    "        mex_price(dat,konp_gr,df,potr_gr,i)\n",
    "    potr_gr1 = df.set_index(['Материал'])\n",
    "    for i in potr_gr1.index:\n",
    "        dat = get_df_f1(A900, i)\n",
    "        \n",
    "        mex_price(dat, konp_gr, df, potr_gr1, i)\n",
    "    return df"
   ]
  },
  {
   "cell_type": "code",
   "execution_count": null,
   "metadata": {},
   "outputs": [],
   "source": [
    "def insert_price_into_potr(price,into_df,df):\n",
    "    print(into_df)\n",
    "    for ind in into_df:\n",
    "        \n",
    "        if df.loc[df['index']==ind]['Цена'].values[0]==0:\n",
    "            df.loc[df['index']==ind]['Цена'].values[0] = price\n",
    "\n",
    "def mex_price(dat,konp_gr,df,potr_gr,i):\n",
    "    \n",
    "    if len(dat)>0:\n",
    "        # print(dat['Номер записи условий'].values[0])\n",
    "        konp_ = konp_gr.xs(dat['Номер записи условий'].values[0]).to_frame().T\n",
    "\n",
    "        # если есть  в конп\n",
    "        if len(konp_)>0:\n",
    "            print(i)\n",
    "            print(potr_gr.xs(i).shape[0])\n",
    "            if  potr_gr.xs(i).shape[0]==1:\n",
    "                r = potr_gr.xs(i).to_frame().T['index']\n",
    "                print(r)\n",
    "            elif potr_gr.xs(i).shape[0]>1:\n",
    "                r = potr_gr.xs(i)['index']\n",
    "                print(r)\n",
    "                    \n",
    "            if konp_['Базовая ЕИ'].values[0]==0 or konp_['Базовая ЕИ'].values[0]==konp_['Единица измерения'].values[0]:\n",
    "                price = (konp_['Сумма условия'].values[0]  / konp_['Единица цены'].values[0])*345\n",
    "                \n",
    "                insert_price_into_potr(price,r,df)\n",
    "            elif konp_['Базовая ЕИ'].values[0]!=konp_['Единица измерения'].values[0]:\n",
    "\n",
    "                if konp_['Числитель пересчета'].values[0]==0:\n",
    "                    price = konp_['Сумма условия'].values[0] *345\n",
    "#                     print(potr_gr)\n",
    "                    insert_price_into_potr(price, r,df)\n",
    "                else:\n",
    "                    price = ((konp_['Сумма условия'].values[0]*konp_['Числитель пересчета'].values[0])/konp_['Единица цены'].values[0])*345\n",
    "#                     print(potr_gr)\n",
    "                    insert_price_into_potr(price, r,df)"
   ]
  },
  {
   "cell_type": "code",
   "execution_count": null,
   "metadata": {},
   "outputs": [],
   "source": [
    "def get_df_f1(dfm,filtrs):\n",
    "    try:\n",
    "        dd = dfm.xs(filtrs).to_frame().T\n",
    "        return dd\n",
    "    except KeyError:\n",
    "        return pd.DataFrame()"
   ]
  },
  {
   "cell_type": "code",
   "execution_count": null,
   "metadata": {},
   "outputs": [],
   "source": [
    "def get_df_f(dfm,filtrs):\n",
    "    try:\n",
    "        dd = dfm.xs([filtrs[0],filtrs[1]]).to_frame().T\n",
    "        return dd\n",
    "    except KeyError:\n",
    "        return pd.DataFrame()"
   ]
  },
  {
   "cell_type": "code",
   "execution_count": null,
   "metadata": {},
   "outputs": [],
   "source": [
    "def price_main2020(df,A902,A900):\n",
    "    df['index'] = [x for x in range(len(df.index))]\n",
    "    df = main_price_f(df,A902,A900)\n",
    "    return df"
   ]
  },
  {
   "cell_type": "code",
   "execution_count": null,
   "metadata": {},
   "outputs": [],
   "source": [
    "# potr_gr = df.set_index(['Код округа','Материал'])\n",
    "# potr_gr1 = df.set_index(['Материал'])\n",
    "# konp_gr = KONP.set_index(['Номер записи условий'])"
   ]
  },
  {
   "cell_type": "code",
   "execution_count": null,
   "metadata": {},
   "outputs": [],
   "source": [
    "\n",
    "c_f011111 = c_f0[:100].copy()\n",
    "oo = price_main2020(c_f011111,A902,A900)"
   ]
  },
  {
   "cell_type": "code",
   "execution_count": null,
   "metadata": {},
   "outputs": [],
   "source": [
    "df.set_index(['Материал']).xs('561613019')"
   ]
  },
  {
   "cell_type": "code",
   "execution_count": null,
   "metadata": {},
   "outputs": [],
   "source": [
    "oo"
   ]
  },
  {
   "cell_type": "code",
   "execution_count": null,
   "metadata": {},
   "outputs": [],
   "source": [
    "A900[A900['Материал']=='200700003']"
   ]
  },
  {
   "cell_type": "code",
   "execution_count": null,
   "metadata": {},
   "outputs": [],
   "source": [
    "potr_gr.index[:10][0]"
   ]
  },
  {
   "cell_type": "code",
   "execution_count": null,
   "metadata": {},
   "outputs": [],
   "source": [
    "df.xs(['ZY','200700003'])"
   ]
  },
  {
   "cell_type": "code",
   "execution_count": null,
   "metadata": {},
   "outputs": [],
   "source": [
    "c_f0.xs(312747).to_frame().T"
   ]
  },
  {
   "cell_type": "code",
   "execution_count": null,
   "metadata": {},
   "outputs": [],
   "source": [
    "import numpy as np\n",
    "import time\n",
    "from multiprocessing import Pool\n",
    "\n",
    "def parallel_calc_fast_(df,A902,A900,KONP,current_date,plan_kurs):\n",
    "    start_time = time.time()\n",
    "    pool = Pool(processes=3)\n",
    "    \n",
    "    \n",
    "    A902['Код округа'] = A902['Код округа'].astype('str')\n",
    "    A902['Материал'] = A902['Материал'].astype('str')\n",
    "    A902['Материал'] = A902['Материал'].apply(lambda x: '0'+str(x) if  len(str(x))<9 else x)\n",
    "    A900['Материал'] = A900['Материал'].astype('str')\n",
    "    A900['Материал'] = A900['Материал'].apply(lambda x: '0'+str(x) if  len(str(x))<9 else x)\n",
    "    df['Материал'] = df['Материал'].astype('str')\n",
    "    A902.fillna(0,inplace=True)\n",
    "    A900.fillna(0,inplace=True)\n",
    "    KONP.fillna(0,inplace=True)\n",
    "#     potr_gr = dict(tuple(df.groupby(['Код округа','Материал'])))\n",
    "#     potr_gr_mat = dict(tuple(df.groupby(['Материал'])))\n",
    "#     konp_gr = dict(tuple(KONP.groupby(['Номер записи условий'])))\n",
    "    df['Цена'] = 0.0000\n",
    "    A900 = A900[A900['Конец действия'].apply(lambda x: x.year)==current_date.year]\n",
    "    A902 = A902[A902['Конец действия'].apply(lambda x: x.year)==current_date.year]\n",
    "    print('1')\n",
    "    \n",
    "    arrs =  np.array_split(df,3)\n",
    "    arrs =  [(potr_gr,potr_gr_mat,A900,A902,konp_gr,arr,plan_kurs) for arr in arrs]\n",
    "    print('2')\n",
    "    df_list = pool.map(func_read_ex.main_price_f, arrs)\n",
    "    df = pd.concat(df_list)\n",
    "    print(\"--- %s seconds ---\" % (time.time() - start_time))\n",
    "    pool.close()\n",
    "    return df \n"
   ]
  },
  {
   "cell_type": "code",
   "execution_count": null,
   "metadata": {},
   "outputs": [],
   "source": [
    "aa  = parallel_calc_fast_(potr_with_ostatok_total,A902,A900,KONP,current_date,345)"
   ]
  },
  {
   "cell_type": "code",
   "execution_count": null,
   "metadata": {},
   "outputs": [],
   "source": [
    "func_read_ex.main_price_f"
   ]
  },
  {
   "cell_type": "code",
   "execution_count": null,
   "metadata": {},
   "outputs": [],
   "source": [
    "for ind, i in enumerate(np.array_split(df,2)) :\n",
    "    save_pyex(df=i,path='C:\\\\Users\\\\Илья\\\\Desktop\\\\kazzinc\\\\Uploads1\\\\extr_xlsx\\\\df'+str(ind)+'.xlsx')"
   ]
  },
  {
   "cell_type": "code",
   "execution_count": null,
   "metadata": {},
   "outputs": [],
   "source": [
    "\n",
    "sprav_mat_cal_last_full['Завод'] = sprav_mat_cal_last_full['Завод'].apply(lambda x: str(x).replace('.0','')).astype('str')\n",
    "sprav_mat_cal_last_full['Материал'] = sprav_mat_cal_last_full['Материал'].apply(lambda x: str(x).replace('.0','')).astype('str')\n",
    "sprav_mat_cal_last_full['Материал'] = sprav_mat_cal_last_full['Материал'].apply(lambda x: '0'+str(x) if  len(str(x))<9 else x)\n",
    "\n",
    "sprav_mat_cal['Завод'] = sprav_mat_cal['Завод'].apply(lambda x: str(x).replace('.0','')).astype('str')\n",
    "sprav_mat_cal['Материал'] = sprav_mat_cal['Материал'].apply(lambda x: str(x).replace('.0','')).astype('str')\n",
    "sprav_mat_cal['Материал'] = sprav_mat_cal['Материал'].apply(lambda x: '0'+str(x) if  len(str(x))<9 else x)"
   ]
  },
  {
   "cell_type": "code",
   "execution_count": null,
   "metadata": {
    "scrolled": true
   },
   "outputs": [],
   "source": [
    "spr_str_zap__= rev_to_dict(sprav_mat_cal_last_full['Завод']+' #'+sprav_mat_cal_last_full['Материал'],sprav_mat_cal_last_full['Страховой запас'])"
   ]
  },
  {
   "cell_type": "code",
   "execution_count": null,
   "metadata": {},
   "outputs": [],
   "source": [
    "spr_str_zap__"
   ]
  },
  {
   "cell_type": "code",
   "execution_count": null,
   "metadata": {},
   "outputs": [],
   "source": [
    "\n",
    "ost_start[ost_start['страховой запас']>0]"
   ]
  },
  {
   "cell_type": "code",
   "execution_count": null,
   "metadata": {},
   "outputs": [],
   "source": [
    "save_pyex(df=ost_start,path='C:\\\\Users\\\\Илья\\\\Desktop\\\\kazzinc\\\\Uploads1\\\\extr_xlsx\\\\ostat.xlsx')"
   ]
  },
  {
   "cell_type": "code",
   "execution_count": null,
   "metadata": {
    "scrolled": true
   },
   "outputs": [],
   "source": [
    "ost_start"
   ]
  },
  {
   "cell_type": "code",
   "execution_count": null,
   "metadata": {
    "scrolled": true
   },
   "outputs": [],
   "source": []
  },
  {
   "cell_type": "code",
   "execution_count": null,
   "metadata": {},
   "outputs": [],
   "source": [
    "ost_block = ost_start[(ost_start['Блокированный запас']>0)]\n",
    "ost_block.name = 'ost_block'\n",
    "\n",
    "ost_start_raspr = ost_start[(ost_start['Cвободный запас']>0)&(ost_start['Особый запас']!='Q')]\n",
    "ost_start_raspr.name = 'ost_start_raspr'"
   ]
  },
  {
   "cell_type": "code",
   "execution_count": null,
   "metadata": {},
   "outputs": [],
   "source": [
    "df"
   ]
  },
  {
   "cell_type": "code",
   "execution_count": null,
   "metadata": {},
   "outputs": [],
   "source": []
  },
  {
   "cell_type": "code",
   "execution_count": null,
   "metadata": {
    "scrolled": true
   },
   "outputs": [],
   "source": []
  },
  {
   "cell_type": "code",
   "execution_count": null,
   "metadata": {
    "scrolled": true
   },
   "outputs": [],
   "source": [
    "df"
   ]
  },
  {
   "cell_type": "code",
   "execution_count": null,
   "metadata": {
    "scrolled": true
   },
   "outputs": [],
   "source": [
    "ost_start"
   ]
  },
  {
   "cell_type": "code",
   "execution_count": null,
   "metadata": {
    "scrolled": true
   },
   "outputs": [],
   "source": [
    "ost_start['страховой запас_п'] = ost_start['страховой запас']\n",
    "ind__ = ost_start[ost_start.apply(lambda x: True if (x['осталось']-x['страховой запас'])<0  else False,axis = 1 )].index\n",
    "ost_start.loc[ind__,'страховой запас'] = 0\n",
    "ost_start['temp_razn_ost_str_zap'] = ost_start.apply(lambda x: x['осталось']-x['страховой запас'] if  (x['осталось']-x['страховой запас'])>0 and x['страховой запас']>0 and len(x['Партия'])==2  else 0,axis = 1)\n",
    "ost_start['занулить'] = ost_start.apply(lambda x:'да' if  (x['осталось']-x['страховой запас']==0) and x['страховой запас']>0 and len(x['Партия'])==2  else 0,axis = 1)\n",
    "ind_str_zap = ost_start[ost_start['temp_razn_ost_str_zap']>0].index\n",
    "ind_str_zanul = ost_start[ost_start['занулить']=='да'].index\n",
    "ost_start.loc[ind_str_zap,'осталось'] = ost_start.loc[ind_str_zap,'temp_razn_ost_str_zap']\n",
    "ost_start.loc[ind_str_zanul,'осталось'] = 0\n",
    "ind_ = ost_start[ost_start.apply(lambda x: True if x['страховой запас']>0 and  len(x['Партия'])>2 else False,axis = 1 )].index\n",
    "ost_start.loc[ind_,'страховой запас'] = 0\n"
   ]
  },
  {
   "cell_type": "code",
   "execution_count": null,
   "metadata": {
    "scrolled": true
   },
   "outputs": [],
   "source": [
    "ost_start_raspr1"
   ]
  },
  {
   "cell_type": "code",
   "execution_count": null,
   "metadata": {
    "scrolled": true
   },
   "outputs": [],
   "source": [
    "ost_start[ost_start['temp_razn_ost_str_zap']>0]"
   ]
  },
  {
   "cell_type": "code",
   "execution_count": null,
   "metadata": {
    "scrolled": true
   },
   "outputs": [],
   "source": [
    "ost_start[ost_start['занулить']=='да']"
   ]
  },
  {
   "cell_type": "code",
   "execution_count": null,
   "metadata": {},
   "outputs": [],
   "source": [
    "ost_start['Кол-во запаса в конце периода'].sum()"
   ]
  },
  {
   "cell_type": "code",
   "execution_count": null,
   "metadata": {},
   "outputs": [],
   "source": [
    "ost_start['осталось'].sum()+ost_start['страховой запас'].sum()"
   ]
  },
  {
   "cell_type": "code",
   "execution_count": null,
   "metadata": {},
   "outputs": [],
   "source": [
    "ost_block = ost_start[(ost_start['Блокированный запас']>0)]"
   ]
  },
  {
   "cell_type": "code",
   "execution_count": null,
   "metadata": {},
   "outputs": [],
   "source": [
    "ost_start_raspr = ost_start[(ost_start['осталось']>0)&(ost_start['Особый запас']!='Q')]\n",
    "ost_start_raspr_str_zap = ost_start[(ost_start['страховой запас']>0)&(ost_start['Особый запас']!='Q')]"
   ]
  },
  {
   "cell_type": "code",
   "execution_count": null,
   "metadata": {
    "scrolled": true
   },
   "outputs": [],
   "source": [
    "ost_block['Блокированный запас'].sum()"
   ]
  },
  {
   "cell_type": "code",
   "execution_count": null,
   "metadata": {},
   "outputs": [],
   "source": [
    "ost_start_raspr['осталось'].sum()+ost_start_raspr_str_zap['страховой запас'].sum()+ost_block['Блокированный запас'].sum()+ost_start[ost_start['Особый запас']=='Q']['осталось'].sum()"
   ]
  },
  {
   "cell_type": "code",
   "execution_count": null,
   "metadata": {},
   "outputs": [],
   "source": [
    "65508275.03899999-65767275"
   ]
  },
  {
   "cell_type": "code",
   "execution_count": null,
   "metadata": {},
   "outputs": [],
   "source": [
    "ost_start[ost_start['Особый запас']=='Q']['осталось'].sum()"
   ]
  },
  {
   "cell_type": "code",
   "execution_count": null,
   "metadata": {},
   "outputs": [],
   "source": [
    "df"
   ]
  },
  {
   "cell_type": "code",
   "execution_count": null,
   "metadata": {},
   "outputs": [],
   "source": [
    "df"
   ]
  },
  {
   "cell_type": "code",
   "execution_count": null,
   "metadata": {},
   "outputs": [],
   "source": [
    "df['month'].unique()"
   ]
  },
  {
   "cell_type": "code",
   "execution_count": null,
   "metadata": {},
   "outputs": [],
   "source": [
    "df['month'] =    df.apply(lambda x: datetime.datetime(2199,1,1)  if x['Страховой запас']>0 else x['month'],axis = 1)\n",
    "df['Дата потребности'] =    df.apply(lambda x: datetime.datetime(2199,1,1)  if x['Страховой запас']>0 else x['Дата потребности'],axis = 1)\n",
    "df['ЦС/ПЗ'] =  df.apply(lambda x: 'ПЗ'  if x['Страховой запас']>0 else x['ЦС/ПЗ'],axis = 1)"
   ]
  },
  {
   "cell_type": "code",
   "execution_count": null,
   "metadata": {},
   "outputs": [],
   "source": [
    "df"
   ]
  },
  {
   "cell_type": "code",
   "execution_count": null,
   "metadata": {},
   "outputs": [],
   "source": [
    "df = get_in_backup(path_backup='backup.h5',name='extract')"
   ]
  },
  {
   "cell_type": "code",
   "execution_count": null,
   "metadata": {},
   "outputs": [],
   "source": [
    "potr_copy[potr_copy['Распределение_остатака']>0]"
   ]
  },
  {
   "cell_type": "code",
   "execution_count": null,
   "metadata": {},
   "outputs": [],
   "source": [
    "potr_copy['Распределение_остатака'].sum()"
   ]
  },
  {
   "cell_type": "code",
   "execution_count": null,
   "metadata": {},
   "outputs": [],
   "source": [
    "ost_start_raspr_str_zap['страховой запас'].sum()"
   ]
  },
  {
   "cell_type": "code",
   "execution_count": null,
   "metadata": {
    "scrolled": true
   },
   "outputs": [],
   "source": [
    "ost_copy1[ost_copy1['осталось']==0]['Кол-во запаса в конце периода'].sum()"
   ]
  },
  {
   "cell_type": "code",
   "execution_count": null,
   "metadata": {},
   "outputs": [],
   "source": []
  },
  {
   "cell_type": "code",
   "execution_count": null,
   "metadata": {},
   "outputs": [],
   "source": [
    "potr_copy1['Распределение_остатака'].sum()"
   ]
  },
  {
   "cell_type": "code",
   "execution_count": null,
   "metadata": {
    "scrolled": true
   },
   "outputs": [],
   "source": [
    "ost_copy"
   ]
  },
  {
   "cell_type": "code",
   "execution_count": null,
   "metadata": {
    "scrolled": true
   },
   "outputs": [],
   "source": [
    "ost_copy"
   ]
  },
  {
   "cell_type": "code",
   "execution_count": null,
   "metadata": {},
   "outputs": [],
   "source": [
    "potr_copy[potr_copy['Распределение_остатака']>0]"
   ]
  },
  {
   "cell_type": "code",
   "execution_count": null,
   "metadata": {},
   "outputs": [],
   "source": [
    "potr_copy"
   ]
  },
  {
   "cell_type": "code",
   "execution_count": null,
   "metadata": {},
   "outputs": [],
   "source": [
    "potr_copy_cons['Распределение_остатака'].sum()"
   ]
  },
  {
   "cell_type": "code",
   "execution_count": null,
   "metadata": {},
   "outputs": [],
   "source": [
    "potr_copy"
   ]
  },
  {
   "cell_type": "code",
   "execution_count": null,
   "metadata": {
    "scrolled": true
   },
   "outputs": [],
   "source": [
    "[dd.count(x) for x in list(dd) if dd.count(x) >1 ]"
   ]
  },
  {
   "cell_type": "code",
   "execution_count": null,
   "metadata": {},
   "outputs": [],
   "source": [
    "dd = list(ost_start_raspr_str_zap['Завод+Склад']+ost_start_raspr_str_zap['Партия']+ost_start_raspr_str_zap['Материал'])"
   ]
  },
  {
   "cell_type": "code",
   "execution_count": null,
   "metadata": {},
   "outputs": [],
   "source": [
    "dd.count('1502 1000UK')"
   ]
  },
  {
   "cell_type": "code",
   "execution_count": null,
   "metadata": {},
   "outputs": [],
   "source": [
    "dd"
   ]
  },
  {
   "cell_type": "code",
   "execution_count": null,
   "metadata": {
    "scrolled": true
   },
   "outputs": [],
   "source": []
  },
  {
   "cell_type": "code",
   "execution_count": null,
   "metadata": {},
   "outputs": [],
   "source": [
    "ost_copy[(ost_copy['осталось']>0)&(ost_copy['Cвободный запас']>0)]['Cвободный запас'].sum()"
   ]
  },
  {
   "cell_type": "code",
   "execution_count": null,
   "metadata": {},
   "outputs": [],
   "source": [
    "ost_copy[(ost_copy['осталось']>0)&(ost_copy['Cвободный запас']>0)][['Комплекс','Завод+НН','Cвободный запас','Стоимость свободного остатка']].groupby(['Комплекс','Завод+НН']).sum().reset_index()"
   ]
  },
  {
   "cell_type": "code",
   "execution_count": null,
   "metadata": {},
   "outputs": [],
   "source": [
    "prov_ost"
   ]
  },
  {
   "cell_type": "code",
   "execution_count": null,
   "metadata": {
    "scrolled": true
   },
   "outputs": [],
   "source": []
  },
  {
   "cell_type": "code",
   "execution_count": null,
   "metadata": {},
   "outputs": [],
   "source": [
    "df_str_zap"
   ]
  },
  {
   "cell_type": "code",
   "execution_count": null,
   "metadata": {},
   "outputs": [],
   "source": [
    "sprav_mat_cal_last_full[(sprav_mat_cal_last_full['Материал']=='010401026')&(sprav_mat_cal_last_full['Страховой запас']>0)]"
   ]
  },
  {
   "cell_type": "code",
   "execution_count": null,
   "metadata": {},
   "outputs": [],
   "source": [
    "spr_str_zap__= rev_to_dict(sprav_mat_cal_last_full['Завод']+sprav_mat_cal_last_full['Материал']+sprav_mat_cal_last_full['Код округа'],sprav_mat_cal_last_full['Страховой запас'])\n",
    "ost_start['страховой запас'] = (ost_start['Завод']+ost_start['Материал']+ost_start['Партия']).apply(lambda x:insert_vpr(x,spr_str_zap__,'Страховой запас') )"
   ]
  },
  {
   "cell_type": "code",
   "execution_count": null,
   "metadata": {},
   "outputs": [],
   "source": [
    "ost_start['страховой запас'].unique()"
   ]
  },
  {
   "cell_type": "code",
   "execution_count": null,
   "metadata": {},
   "outputs": [],
   "source": [
    "ost_start['Партия'].unique()"
   ]
  },
  {
   "cell_type": "code",
   "execution_count": null,
   "metadata": {},
   "outputs": [],
   "source": [
    "ost_start['Завод'].unique()"
   ]
  },
  {
   "cell_type": "code",
   "execution_count": null,
   "metadata": {},
   "outputs": [],
   "source": [
    "neraspr_ostat_tab[neraspr_ostat_tab['Завод+НН']=='3520 #442302040']"
   ]
  },
  {
   "cell_type": "code",
   "execution_count": null,
   "metadata": {},
   "outputs": [],
   "source": [
    "ost_copy1[(ost_copy1['Материал']=='442302040')&()]"
   ]
  },
  {
   "cell_type": "code",
   "execution_count": null,
   "metadata": {},
   "outputs": [],
   "source": [
    "sprav_spp = pd.read_excel(directory+'СПП.xlsx',sheet_name='Sheet1')\n",
    "\n",
    "to_str_spp = ['СПП-элемент','Место возникновения прибыли']\n",
    "\n",
    "for i in to_str_spp:\n",
    "    sprav_spp[i] = sprav_spp[i].apply(lambda x: str(x).replace('.0','')).astype('str')\n",
    "    sprav_spp[i] = sprav_spp[i].apply(lambda x: '' if x=='0' else x)"
   ]
  },
  {
   "cell_type": "code",
   "execution_count": null,
   "metadata": {
    "scrolled": true
   },
   "outputs": [],
   "source": [
    "sprav_spp"
   ]
  },
  {
   "cell_type": "code",
   "execution_count": null,
   "metadata": {
    "scrolled": true
   },
   "outputs": [],
   "source": [
    "ostatok['СПП-элемент'].unique()\n"
   ]
  },
  {
   "cell_type": "code",
   "execution_count": null,
   "metadata": {},
   "outputs": [],
   "source": [
    "spr__spp = rev_to_dict(sprav_spp['СПП-элемент'],sprav_spp['Место возникновения прибыли'])\n"
   ]
  },
  {
   "cell_type": "code",
   "execution_count": null,
   "metadata": {},
   "outputs": [],
   "source": [
    "spr_str_zap__= rev_to_dict(sprav_mat_cal_last_full['Завод']+sprav_mat_cal_last_full['Материал']+sprav_mat_cal_last_full['Код округа'],sprav_mat_cal_last_full['Страховой запас'])\n",
    "ost_start['страховой запас'] = (ost_start['Завод']+ost_start['Материал']+ost_start['Партия']).apply(lambda x:insert_vpr(x,spr_str_zap__,'Страховой запас') )\n"
   ]
  },
  {
   "cell_type": "code",
   "execution_count": null,
   "metadata": {
    "scrolled": true
   },
   "outputs": [],
   "source": [
    "sprav_mat_cal_last_full"
   ]
  },
  {
   "cell_type": "code",
   "execution_count": null,
   "metadata": {},
   "outputs": [],
   "source": [
    "to_str_spr_mat = ['СтатусМтрл на заводе','Завод','Материал']\n",
    "\n",
    "for i in to_str_spr_mat:\n",
    "    sprav_mat_cal_last_full[i].fillna(0,inplace = True)\n",
    "    sprav_mat_cal_last_full[i] = sprav_mat_cal_last_full[i].apply(lambda x: str(x).replace('.0','')).astype('str')\n",
    "    sprav_mat_cal_last_full[i] = sprav_mat_cal_last_full[i].apply(lambda x: '' if x=='0' or x==0 else x)"
   ]
  },
  {
   "cell_type": "code",
   "execution_count": null,
   "metadata": {},
   "outputs": [],
   "source": [
    "spr__st_mrlt = rev_to_dict(sprav_mat_cal_last_full['Завод']+' #'+sprav_mat_cal_last_full['Материал'],sprav_mat_cal_last_full['СтатусМтрл на заводе'])\n",
    "ostatok['СтатусМтрл на заводе'] = ostatok.apply(lambda x:insert_vpr(x['Завод+НН'],spr__st_mrlt,'СтатусМтрл на заводе'),axis = 1 )"
   ]
  },
  {
   "cell_type": "code",
   "execution_count": null,
   "metadata": {},
   "outputs": [],
   "source": [
    "ostatok['Завод+НН']"
   ]
  },
  {
   "cell_type": "code",
   "execution_count": null,
   "metadata": {},
   "outputs": [],
   "source": [
    "ostatok['СтатусМтрл на заводе'] = ostatok.apply(lambda x:insert_vpr(x['Завод+НН'],spr__st_mrlt,'СтатусМтрл на заводе'),axis = 1 ).unique()"
   ]
  },
  {
   "cell_type": "code",
   "execution_count": null,
   "metadata": {},
   "outputs": [],
   "source": [
    "spr__st_mrlt"
   ]
  },
  {
   "cell_type": "code",
   "execution_count": null,
   "metadata": {},
   "outputs": [],
   "source": [
    "sprav_mat_cal_last_full = get_in_backup(path_backup='backup.h5',name='sprav_mat_cal_last_full')"
   ]
  },
  {
   "cell_type": "code",
   "execution_count": null,
   "metadata": {},
   "outputs": [],
   "source": [
    "sprav_mat_cal_last_full"
   ]
  },
  {
   "cell_type": "code",
   "execution_count": null,
   "metadata": {
    "scrolled": true
   },
   "outputs": [],
   "source": [
    "potr_with_ostatok_total = potr_with_ostatok_total.set_index('Завод+НН')"
   ]
  },
  {
   "cell_type": "code",
   "execution_count": null,
   "metadata": {},
   "outputs": [],
   "source": [
    "potr_with_ostatok_total.reset_index(inplace=True,drop = True)"
   ]
  },
  {
   "cell_type": "code",
   "execution_count": null,
   "metadata": {},
   "outputs": [],
   "source": [
    "potr_with_ostatok_total"
   ]
  },
  {
   "cell_type": "code",
   "execution_count": null,
   "metadata": {},
   "outputs": [],
   "source": [
    "sprav_spp = pd.read_excel(directory+'СПП.xlsx',sheet_name='Sheet1')"
   ]
  },
  {
   "cell_type": "code",
   "execution_count": null,
   "metadata": {},
   "outputs": [],
   "source": [
    "def func_cat_tmc_new(x,current_date,dic):\n",
    "    if (x['Количество потребности']>0 and current_date.year == x['Дата потребности'].year) or \\\n",
    "    (x['Категория ТМЦ'] in['ТНСЗ','страховой запас','Проект','ГО','Спецодежда']):\n",
    "        return 'Востребованный'\n",
    "    elif x['Количество потребности']>0 and x['Дата потребности'].year>current_date.year and x['Распределение_остатака']>0:\n",
    "        return 'Среднесрочный'\n",
    "    elif x['Комплекс'] =='НЕЛИКВИДЫ':\n",
    "        return 'Неликвиды'\n",
    "    elif dic[x['Завод+НН']]==0:\n",
    "        return 'Невостребованный'\n",
    "    else:\n",
    "        return 0\n",
    "  "
   ]
  },
  {
   "cell_type": "code",
   "execution_count": null,
   "metadata": {},
   "outputs": [],
   "source": [
    "potr_with_ostatok_total.reset_index(inplace=True,drop = True)\n",
    "dic = potr_with_ostatok_total.groupby('Завод+НН').agg({'Количество потребности':'sum'}).to_dict(orient= 'dict')['Количество потребности']\n",
    "\n",
    "potr_with_ostatok_total['Категория_запаса'] = potr_with_ostatok_total.apply(lambda x: func_cat_tmc_new(x,current_date,dic),axis = 1)"
   ]
  },
  {
   "cell_type": "code",
   "execution_count": null,
   "metadata": {
    "scrolled": true
   },
   "outputs": [],
   "source": [
    "potr_with_ostatok_total[potr_with_ostatok_total['Категория_запаса']==0]['Дата потребности'].unique()"
   ]
  },
  {
   "cell_type": "code",
   "execution_count": null,
   "metadata": {},
   "outputs": [],
   "source": [
    "potr_with_ostatok_total.xs('1206 #030101004')"
   ]
  },
  {
   "cell_type": "code",
   "execution_count": null,
   "metadata": {},
   "outputs": [],
   "source": [
    "current_date = datetime.datetime(2020,1,1)"
   ]
  },
  {
   "cell_type": "code",
   "execution_count": null,
   "metadata": {},
   "outputs": [],
   "source": [
    "potr_with_ostatok_total[potr_with_ostatok_total['Материал']=='200700003']"
   ]
  },
  {
   "cell_type": "code",
   "execution_count": null,
   "metadata": {},
   "outputs": [],
   "source": [
    "potr_with_ostatok_total.xs(aa['Завод+НН'][1])"
   ]
  },
  {
   "cell_type": "code",
   "execution_count": null,
   "metadata": {},
   "outputs": [],
   "source": [
    "aa = potr_with_ostatok_total[:1000].copy()"
   ]
  },
  {
   "cell_type": "code",
   "execution_count": null,
   "metadata": {
    "scrolled": true
   },
   "outputs": [],
   "source": [
    "aa['Завод+НН'][1]"
   ]
  },
  {
   "cell_type": "code",
   "execution_count": null,
   "metadata": {},
   "outputs": [],
   "source": [
    "potr_with_ostatok_total.set_index('Завод+НН')"
   ]
  },
  {
   "cell_type": "code",
   "execution_count": null,
   "metadata": {},
   "outputs": [],
   "source": [
    "start_time = time.time()\n",
    "aa.apply(lambda x: func_cat_tmc_new(x,current_date,potr_with_ostatok_total),axis = 1)\n",
    "print(\"--- %s seconds ---\" % (time.time() - start_time))"
   ]
  },
  {
   "cell_type": "code",
   "execution_count": null,
   "metadata": {},
   "outputs": [],
   "source": [
    "start_time = time.time()\n",
    "aa.apply(lambda x: func_cat_tmc_new(x,current_date,potr_with_ostatok_total),axis = 1)\n",
    "print(\"--- %s seconds ---\" % (time.time() - start_time))"
   ]
  },
  {
   "cell_type": "code",
   "execution_count": null,
   "metadata": {},
   "outputs": [],
   "source": [
    "potr_with_ostatok_total.loc['1206 #030101004']"
   ]
  },
  {
   "cell_type": "code",
   "execution_count": null,
   "metadata": {},
   "outputs": [],
   "source": [
    "yyyy = potr_with_ostatok_total.groupby('Завод+НН').agg({'Количество потребности':'sum'})"
   ]
  },
  {
   "cell_type": "code",
   "execution_count": null,
   "metadata": {},
   "outputs": [],
   "source": [
    "potr_with_ostatok_total = potr_with_ostatok_total.set_index('Завод+НН')"
   ]
  },
  {
   "cell_type": "code",
   "execution_count": null,
   "metadata": {},
   "outputs": [],
   "source": [
    "yyyy.to_dict(orient= 'dict')['Количество потребности']"
   ]
  },
  {
   "cell_type": "code",
   "execution_count": null,
   "metadata": {},
   "outputs": [],
   "source": [
    "potr_with_ostatok_total.groupby('Завод+НН').agg({'Количество потребности':'sum'}).to_dict(orient= 'dict')['Количество потребности']"
   ]
  },
  {
   "cell_type": "code",
   "execution_count": null,
   "metadata": {},
   "outputs": [],
   "source": [
    "ind_ost = ostatok[(ostatok['СтатусМтрл на заводе']=='2')&(ostatok['ЦС/ПЗ']=='ЦС')].index\n",
    "ostatok.loc[ind_ost,'Комплекс'] = 'НЕЛИКВИДЫ'"
   ]
  },
  {
   "cell_type": "code",
   "execution_count": null,
   "metadata": {},
   "outputs": [],
   "source": [
    "ostatok[(ostatok['СтатусМтрл на заводе']=='2')&(ostatok['ЦС/ПЗ']=='ЦС')]"
   ]
  },
  {
   "cell_type": "code",
   "execution_count": null,
   "metadata": {},
   "outputs": [],
   "source": []
  },
  {
   "cell_type": "code",
   "execution_count": null,
   "metadata": {},
   "outputs": [],
   "source": [
    "# priznak_raschet_nachalo_goda это рассчет на 0101\n",
    "def f0_consolidation(df,current_date,ind,col,first_month_of_kvartal,ost_nach_perioda,priznak_raschet_nachalo_goda,sp):\n",
    "    def yy(x,sp):\n",
    "        return x[sp].sum()\n",
    "    \n",
    "    \n",
    "    \n",
    "    f0 =   df\n",
    "#     f0 =  pd.pivot_table(tab_f0,columns=['month'],index=ind,aggfunc='sum',fill_value=0).reset_index()  \n",
    "    cols__lev_f0 = f0[ind]\n",
    "    cols__lev_f0.columns = ind\n",
    "    bl_potr = f0['Количество потребности']\n",
    "    bl_potr.columns = ['ПП кол-во '+str(x.month)+'/'+ str(x.year) for x in bl_potr.columns] \n",
    "    pp_sum_col = pd.DataFrame(bl_potr.loc[:,'ПП кол-во '+str(current_date.month+1)+'/'+ str(current_date.year):'ПП кол-во '+str(12)+'/'+ str(current_date.year)].sum(axis = 1),columns=['Текущее кол-во ПП'])\n",
    "\n",
    "\n",
    "    bl_potr_sum  = f0['Сумма потребности']\n",
    "    bl_potr_sum.columns = ['ПП сумма '+str(x.month)+'/'+ str(x.year) for x in bl_potr_sum.columns]\n",
    "    pp_sum_sum = pd.DataFrame(bl_potr_sum.loc[:,'ПП сумма '+str(current_date.month+1)+'/'+ str(current_date.year):'ПП сумма '+str(12)+'/'+ str(current_date.year)].sum(axis = 1),columns=['Текущая сумма ПП'])\n",
    "    \n",
    "    \n",
    "\n",
    "    col_vo_prix = pd.DataFrame(f0['Распределение_прихода'].sum(axis = 1),columns=[str(current_date.month)+'/'+str(current_date.year)+' ФП Кол-во'])\n",
    "    sum_prix = pd.DataFrame(f0['Сумма_распреденного_прихода'].sum(axis = 1),columns=[str(current_date.month)+'/'+str(current_date.year)+' ФП Сумма'])\n",
    "    \n",
    "\n",
    "    col_vo_rash = pd.DataFrame(f0['Распределение_расхода'].sum(axis = 1),columns=[str(current_date.month)+'/'+str(current_date.year)+' ФC Кол-во'])\n",
    "    summ_rash = pd.DataFrame(f0['Сумма_распреденного_расхода'].sum(axis = 1),columns=[str(current_date.month)+'/'+str(current_date.year)+' ФC Сумма'])\n",
    "\n",
    " \n",
    "\n",
    "    col_vo_ost = pd.DataFrame(f0['Распределение_остатака'].sum(axis = 1),columns=[str(current_date.month)+'/'+str(current_date.year)+' Остаток Кол-во'])\n",
    "    sum_ost = pd.DataFrame(f0['Сумма_распреденного_остатка'].sum(axis = 1),columns=[str(current_date.month)+'/'+str(current_date.year)+' Остаток Сумма'])\n",
    "\n",
    "    avizot =  pd.DataFrame(f0['avizot'].sum(axis = 1),columns=['Товар в пути (ZNB5, ZNB2/3-АвизОт)'])\n",
    "\n",
    "    str_zap_col_vo = pd.DataFrame(f0['стрЗапас'].sum(axis = 1),columns=['SS (норма запаса на складе)'])\n",
    "    str_zap_summ = pd.DataFrame(f0['Сумма стрЗап'].sum(axis = 1),columns=['SS сумма'])\n",
    "    \n",
    "    NB = pd.DataFrame(f0['NB'].sum(axis = 1),columns=['Заявка на закупку(NB)'])\n",
    "    ZAK = pd.DataFrame(f0['законтрактовано'].sum(axis = 1),columns=['Законтрактовано(ZNB-ПртПЗк)'])\n",
    "\n",
    "    f0_cons = pd.concat([cols__lev_f0,bl_potr,pp_sum_col,bl_potr_sum,pp_sum_sum,col_vo_prix,sum_prix,col_vo_rash,summ_rash,col_vo_ost,sum_ost,avizot,str_zap_col_vo,str_zap_summ,NB,ZAK],axis=1)\n",
    "\n",
    "    #     при рассчете 12 месяца для остатка на начало периода закомментировать\n",
    "#     \\\\\\\\\\\\\\\\\\\\\\\\\\\\\\\\\\\\\\\\\\\\\\\\\\\\\\\\\\\\\\\\\\\\\\\\\\\\\\\\\\\\\\\\\\\\\\\\\\\\\\\\\\\\\\\\\\\\\\\\\\\\\\\\\\\\\\\\\\\\\\\\\\\\\\\\\\\\\\\\\\\\\\\\\\\\\\\\\\\\\\\\\\\\\\\\\\\\\\\\\\\\\\\\\\\\\\\\\n",
    "    f0_cons = pd.merge(f0_cons,ost_nach_perioda,on=['Склад потребности','Заказ','Категория ТМЦ','Комплекс','Завод+НН','Модуль'],how='outer')\n",
    "# \\\\\\\\\\\\\\\\\\\\\\\\\\\\\\\\\\\\\\\\\\\\\\\\\\\\\\\\\\\\\\\\\\\\\\\\\\\\\\\\\\\\\\\\\\\\\\\\\\\\\\\\\\\\\\\\\\\\\\\\\\\\\\\\\\\\\\\\\\\\\\\\\\\\\\\\\\\\\\\\\\\\\\\\\\\\\\\\\\\\\\\\\\\\\\\\\\\\\\\\\\\\\\\\\\\\\\\\\\\\\\\\\\\\\\\\\\\\\\\\\\\\\\    \n",
    "    f0_cons.fillna(0,inplace=True)\n",
    "    \n",
    "    if current_date.month == 1 and priznak_raschet_nachalo_goda==True:\n",
    "        f0_cons['Остаток на начало года Кол-во'] =  f0_cons[str(current_date.month)+'/'+str(current_date.year)+' Остаток Кол-во']  \n",
    "        f0_cons['Остаток на начало года Сумма'] =  f0_cons[str(current_date.month)+'/'+str(current_date.year)+' Остаток Сумма']    \n",
    "        f0_cons.drop([str(current_date.month)+'/'+str(current_date.year)+' Остаток Кол-во',\\\n",
    "                     str(current_date.month)+'/'+str(current_date.year)+' Остаток Сумма'],inplace = True,axis = 1)\n",
    "        \n",
    "    n = 12\n",
    "    if current_date.month==10 and priznak_raschet_nachalo_goda ==False:\n",
    "        n+=1\n",
    "#         ПП сумма 5/2019\n",
    "#         ПП кол-во 1/current_date.year+1\n",
    "#         ПП кол-во n/current_date.year+1\n",
    "        f0_cons.rename(columns={'ПП кол-во 1/'+ str(current_date.year+1): 'ПП кол-во ' + str(n) + '/' + str(current_date.year)},inplace=True)\n",
    "        f0_cons.rename(columns={'ПП сумма 1/'+str(current_date.year+1): 'ПП сумма '+str(n)+'/'+ str(current_date.year)},inplace=True)\n",
    "    elif current_date.month ==11 and priznak_raschet_nachalo_goda ==False:\n",
    "        n+=2\n",
    "        f0_cons.rename(columns={'ПП кол-во 1/'+str(current_date.year+1): 'ПП кол-во '+str(n-1)+'/'+ str(current_date.year)},inplace=True)\n",
    "        f0_cons.rename(columns={'ПП сумма 1/'+str(current_date.year+1): 'ПП сумма '+str(n-1)+'/'+ str(current_date.year)},inplace=True)\n",
    "        f0_cons.rename(columns={'ПП кол-во 2/'+str(current_date.year+1): 'ПП кол-во '+str(n)+'/'+ str(current_date.year)},inplace=True)\n",
    "        f0_cons.rename(columns={'ПП сумма 2/'+str(current_date.year+1): 'ПП сумма '+str(n)+'/'+ str(current_date.year)},inplace=True)\n",
    "    elif current_date.month ==12 and priznak_raschet_nachalo_goda ==False:    \n",
    "        n+=3\n",
    "        f0_cons.rename(columns={'ПП кол-во 1/'+str(current_date.year+1): 'ПП кол-во '+str(n-2)+'/'+ str(current_date.year)},inplace=True)\n",
    "        f0_cons.rename(columns={'ПП сумма 1/'+str(current_date.year+1): 'ПП сумма '+str(n-2)+'/'+ str(current_date.year)},inplace=True)\n",
    "        f0_cons.rename(columns={'ПП кол-во 2/'+str(current_date.year+1): 'ПП кол-во '+str(n-1)+'/'+ str(current_date.year)},inplace=True)\n",
    "        f0_cons.rename(columns={'ПП сумма 2/'+str(current_date.year+1): 'ПП сумма '+str(n-1)+'/'+ str(current_date.year)},inplace=True)\n",
    "        f0_cons.rename(columns={'ПП кол-во 3/'+str(current_date.year+1): 'ПП кол-во '+str(n)+'/'+ str(current_date.year)},inplace=True)\n",
    "        f0_cons.rename(columns={'ПП сумма 3/'+str(current_date.year+1): 'ПП сумма '+str(n)+'/'+ str(current_date.year)},inplace=True)\n",
    "    \n",
    "   \n",
    "    cols_bz_col_vo = ['БЗ кол-во '+str(x)+'/'+str(current_date.year) for x in range(1,n+1)]\n",
    "    \n",
    "    cols_bz_summ = ['БЗ сумма '+str(x)+'/'+str(current_date.year) for x in range(1,n+1)]\n",
    "    \n",
    "\n",
    "    for i in cols_bz_col_vo:f0_cons[i] = 0\n",
    "    f0_cons['ИТОГО БЗ Кол-во'] = 0\n",
    "    for i in cols_bz_summ:f0_cons[i] = 0\n",
    "    f0_cons['ИТОГО БЗ Сумма'] = 0\n",
    "\n",
    "\n",
    "    cols_ost_prognoz = ['Остаток прогноз Кол-во '+str(x)+'/'+str(current_date.year) for x in range(1,n+1)]\n",
    "    cols_ost_prognoz_summa = ['Остаток прогноз Сумма '+str(x)+'/'+str(current_date.year) for x in range(1,n+1)]\n",
    "    for i in cols_ost_prognoz:f0_cons[i] = 0\n",
    "    for i in cols_ost_prognoz_summa:f0_cons[i] = 0\n",
    "    \n",
    "\n",
    "        \n",
    "    # если сейчас 1 месяц тогда текущий опираем на остаток на начало года\n",
    "    if current_date.month == 1 and priznak_raschet_nachalo_goda==True:\n",
    "        \n",
    "\n",
    "        f0_cons.loc[:,cols_bz_col_vo[current_date.month-1]] = f0_cons.apply(lambda x: yy(x,sp)+x['SS (норма запаса на складе)']-x['Остаток на начало года Кол-во']-x['Товар в пути (ZNB5, ZNB2/3-АвизОт)']  \\\n",
    "                                                                            if (x['Остаток на начало года Кол-во']+x['Товар в пути (ZNB5, ZNB2/3-АвизОт)'])-yy(x,sp)-x['SS (норма запаса на складе)']<0 else 0,axis = 1)\n",
    "            \n",
    "        f0_cons.loc[:,cols_ost_prognoz[current_date.month-1]] =f0_cons['Остаток на начало года Кол-во'].values+f0_cons['Товар в пути (ZNB5, ZNB2/3-АвизОт)'].values+f0_cons.loc[:,cols_bz_col_vo[current_date.month-1]].values-f0_cons[sp].sum(axis = 1).values\n",
    "\n",
    "        \n",
    "        ff = current_date.month-1\n",
    "        for i in cols_bz_col_vo[current_date.month:]:\n",
    "\n",
    "            f0_cons[i] = f0_cons.apply(lambda x: x['ПП кол-во'+str(i[9:])]+x['SS (норма запаса на складе)']-x['Остаток прогноз Кол-во'+str(cols_bz_col_vo[ff][9:])]  if x['Остаток прогноз Кол-во'+str(cols_bz_col_vo[ff][9:])]-x['ПП кол-во'+str(i[9:])]-x['SS (норма запаса на складе)']<0 else 0,axis = 1)\n",
    "    #         формкла для остатка\n",
    "            f0_cons['Остаток прогноз Кол-во'+str(i[9:])] = f0_cons['Остаток прогноз Кол-во'+str(cols_bz_col_vo[ff][9:])].values+f0_cons[i].values-f0_cons['ПП кол-во'+str(i[9:])].values\n",
    "#             print('Остаток прогноз Кол-во'+str(cols_bz_col_vo[ff][9:]))\n",
    "\n",
    "            ff+=1\n",
    "        f0_cons[cols_ost_prognoz_summa[0]] = f0_cons.apply(lambda x: x[cols_bz_col_vo[0]]* (x['Остаток на начало года Сумма']/  x['Остаток на начало года Кол-во']) if x['Остаток на начало года Кол-во']>0 else x['Остаток прогноз Кол-во '+str(current_date.month+1)+'/'+str(current_date.year)]*x['Цена'] ,axis = 1)\n",
    "        \n",
    "        for i in cols_ost_prognoz_summa[current_date.month-1:]:\n",
    "             f0_cons[i] =    f0_cons.apply(lambda x: x['Остаток прогноз Кол-во'+str(i[21:])]*(x['Остаток на начало года Сумма']/  x['Остаток на начало года Кол-во']) if x['Остаток на начало года Сумма']>0 and  x['Остаток на начало года Кол-во']>0 else x['Остаток прогноз Кол-во'+str(i[21:])]*x['Цена'] ,axis = 1)\n",
    "\n",
    "        \n",
    "    else:\n",
    "        #количество bz     \n",
    "        f0_cons.loc[:,cols_bz_col_vo[:current_date.month]] = 0\n",
    "        f0_cons.loc[:,cols_ost_prognoz[:current_date.month]] = 0\n",
    "        f0_cons.loc[:,cols_ost_prognoz_summa[:current_date.month]] = 0\n",
    "        f0_cons.loc[:,cols_bz_col_vo[current_date.month]] = f0_cons.apply(lambda x: yy(x,sp)+x['SS (норма запаса на складе)']-x[str(current_date.month)+'/'+str(current_date.year)+' Остаток Кол-во']-x['Товар в пути (ZNB5, ZNB2/3-АвизОт)']  \\\n",
    "                                                                          if (x[str(current_date.month)+'/'+str(current_date.year)+' Остаток Кол-во']+x['Товар в пути (ZNB5, ZNB2/3-АвизОт)'])- yy(x,sp)-x['SS (норма запаса на складе)']<0 else 0,axis = 1)\n",
    "        f0_cons.loc[:,cols_ost_prognoz[current_date.month]] = f0_cons[str(current_date.month)+'/'+str(current_date.year)+' Остаток Кол-во'].values+f0_cons['Товар в пути (ZNB5, ZNB2/3-АвизОт)'].values+f0_cons.loc[:,cols_bz_col_vo[current_date.month]].values-f0_cons[sp].sum(axis = 1).values\n",
    "\n",
    "\n",
    "        ff = current_date.month\n",
    "        for i in cols_bz_col_vo[current_date.month+1:]:\n",
    "\n",
    "            f0_cons[i] = f0_cons.apply(lambda x: x['ПП кол-во'+str(i[9:])]+x['SS (норма запаса на складе)']-x['Остаток прогноз Кол-во'+str(cols_bz_col_vo[ff][9:])]  if x['Остаток прогноз Кол-во'+str(cols_bz_col_vo[ff][9:])]-x['ПП кол-во'+str(i[9:])]-x['SS (норма запаса на складе)']<0 else 0,axis = 1)\n",
    "    #         формкла для остатка\n",
    "            f0_cons['Остаток прогноз Кол-во'+str(i[9:])] = f0_cons['Остаток прогноз Кол-во'+str(cols_bz_col_vo[ff][9:])].values+f0_cons[i].values-f0_cons['ПП кол-во'+str(i[9:])].values\n",
    "        \n",
    "        \n",
    "\n",
    "            ff+=1\n",
    "            \n",
    "        for i in cols_ost_prognoz_summa[current_date.month:]:\n",
    "             f0_cons[i] =    f0_cons.apply(lambda x: x['Остаток прогноз Кол-во'+str(i[21:])]*(x[str(current_date.month)+'/'+str(current_date.year)+' Остаток Сумма']/  x[str(current_date.month)+'/'+str(current_date.year)+' Остаток Кол-во']) if x[str(current_date.month)+'/'+str(current_date.year)+' Остаток Кол-во']>0 else x['Остаток прогноз Кол-во'+str(i[21:])]*x['Цена'] ,axis = 1)\n",
    "\n",
    "    # сумма бз    \n",
    "    f0_cons.loc[:,cols_bz_summ]=f0_cons.loc[:,cols_bz_col_vo].mul(f0_cons['Цена'],axis = 0).values  \n",
    "    f0_cons['ИТОГО БЗ Сумма'] = f0_cons.loc[:,cols_bz_summ].sum(axis=1)\n",
    "    f0_cons['ИТОГО БЗ Кол-во'] = f0_cons.loc[:,cols_bz_col_vo].sum(axis=1)\n",
    "    \n",
    "\n",
    "    \n",
    "    f0_cons['Категория ТМЦ'] = f0_cons['Категория ТМЦ'] .astype('category')\n",
    "    f0_cons['Категория ТМЦ'].cat.set_categories(['Текущая потребность', 'Без ПП', 'Проект', 'ТНСЗ', 'ГО','Неликвиды', 'Спецодежда','страховой запас'],inplace = True)\n",
    "\n",
    "    f0_cons = f0_cons.sort_values('Категория ТМЦ')\n",
    "    f0_cons['Категория ТМЦ'] = f0_cons['Категория ТМЦ'].astype('str')\n",
    "    f0_cons.fillna(0,inplace=True)\n",
    "    f0_cons = f0_cons[f0_cons['Материал'].apply(lambda x:len(x)<=10)]\n",
    "    return f0_cons"
   ]
  },
  {
   "cell_type": "code",
   "execution_count": null,
   "metadata": {},
   "outputs": [],
   "source": [
    "# current_date = datetime.datetime(2020,1,1)\n",
    "# first_month_of_kvartal = 1\n",
    "# для всех месяцев\n",
    "# c_f0 =  f0_consolidation(current_date=current_date_f0,df=f0,col=col,ind=ind,first_month_of_kvartal = first_month_of_kvartal,ost_nach_perioda=ost_nach_perioda.drop_duplicates(),priznak_raschet_nachalo_goda = False,sp = sp)\n",
    "# первый месяц когда рассчет основывается на оатсках на начало года\n",
    "c_f0 =  f0_consolidation(current_date=current_date_f0,df=f0,col=col,ind=ind,first_month_of_kvartal = first_month_of_kvartal,ost_nach_perioda=ost_nach_perioda.drop_duplicates(),priznak_raschet_nachalo_goda = True,sp = sp)\n"
   ]
  },
  {
   "cell_type": "code",
   "execution_count": null,
   "metadata": {},
   "outputs": [],
   "source": [
    "ZNB1"
   ]
  },
  {
   "cell_type": "code",
   "execution_count": null,
   "metadata": {},
   "outputs": [],
   "source": []
  },
  {
   "cell_type": "code",
   "execution_count": null,
   "metadata": {},
   "outputs": [],
   "source": [
    "yy = ZNB1[(ZNB1['Материал']=='501001006')]"
   ]
  },
  {
   "cell_type": "code",
   "execution_count": null,
   "metadata": {},
   "outputs": [],
   "source": [
    "yy['Склад']"
   ]
  },
  {
   "cell_type": "code",
   "execution_count": null,
   "metadata": {},
   "outputs": [],
   "source": [
    "df_str_zap[df_str_zap['Материал']=='501001006']['Номер элемента пополнения'].unique()"
   ]
  },
  {
   "cell_type": "code",
   "execution_count": null,
   "metadata": {},
   "outputs": [],
   "source": [
    "ZNB1['Комплекс']=ZNB1['Завод+Склад'].apply(lambda x:  insert_vpr(x,spr_znb_,'Комплекс'))"
   ]
  },
  {
   "cell_type": "code",
   "execution_count": null,
   "metadata": {},
   "outputs": [],
   "source": [
    "list(spr_znb_.keys())"
   ]
  },
  {
   "cell_type": "code",
   "execution_count": null,
   "metadata": {},
   "outputs": [],
   "source": [
    "tttt = pd.read_excel(directory+'ZNB.xlsx',sheet_name='Sheet1')"
   ]
  },
  {
   "cell_type": "code",
   "execution_count": null,
   "metadata": {},
   "outputs": [],
   "source": [
    "ZNB1 = pd.read_excel(directory+'ZNB.xlsx',sheet_name='Sheet1')\n",
    "UB05 = pd.read_excel(directory+'UB05.xlsx',sheet_name='Sheet1')\n",
    "spr_znb = pd.read_excel(directory+'Справодник для ZNB.xlsx',sheet_name='ZNB')\n",
    "ZNB1.fillna(0,inplace = True)\n",
    "ZNB1['Материал'] = ZNB1['Материал'].apply(lambda x: str(x).replace('.0','')).astype('str')\n",
    "ZNB1['Материал'] = ZNB1['Материал'].apply(lambda x: '0'+str(x) if  len(str(x))<9 else x)\n",
    "ZNB1['Документ закупки'] = ZNB1['Документ закупки'].apply(lambda x: str(x).replace('.0','')).astype('str')\n",
    "ZNB1['Позиция'] = ZNB1['Позиция'].apply(lambda x: str(x).replace('.0','')).astype('str')"
   ]
  },
  {
   "cell_type": "code",
   "execution_count": null,
   "metadata": {},
   "outputs": [],
   "source": [
    "ZNB1[(ZNB1['Материал']=='501001006')]['Склад']"
   ]
  },
  {
   "cell_type": "code",
   "execution_count": null,
   "metadata": {},
   "outputs": [],
   "source": [
    "ZNB1[(ZNB1['Материал']=='501001006')]['Завод+Склад'][99038]"
   ]
  },
  {
   "cell_type": "code",
   "execution_count": null,
   "metadata": {},
   "outputs": [],
   "source": [
    "spr_nb_"
   ]
  },
  {
   "cell_type": "code",
   "execution_count": null,
   "metadata": {},
   "outputs": [],
   "source": [
    "NB['Комплекс'].unique() in "
   ]
  },
  {
   "cell_type": "code",
   "execution_count": null,
   "metadata": {},
   "outputs": [],
   "source": [
    "0 in NB['Комплекс'].unique()\n",
    "'0' in NB['Комплекс'].unique()\n",
    "0 in ZNB1['Комплекс'].unique()\n",
    "'0' in ZNB1['Комплекс'].unique()\n",
    "0 in ZNB['Комплекс'].unique()\n",
    "'0' in ZNB['Комплекс'].unique()"
   ]
  },
  {
   "cell_type": "code",
   "execution_count": null,
   "metadata": {},
   "outputs": [],
   "source": [
    "ZNB1[(ZNB1['Комплекс']==0)]"
   ]
  },
  {
   "cell_type": "code",
   "execution_count": null,
   "metadata": {},
   "outputs": [],
   "source": [
    "save_pyex(df=ZNB1[(ZNB1['Комплекс']==0)&(ZNB1['Количество пополнения']>0)],path='C:\\\\Users\\\\Илья\\\\Desktop\\\\kazzinc\\\\Uploads1\\\\extr_xlsx\\\\111.xlsx')"
   ]
  },
  {
   "cell_type": "code",
   "execution_count": null,
   "metadata": {},
   "outputs": [],
   "source": []
  },
  {
   "cell_type": "code",
   "execution_count": null,
   "metadata": {},
   "outputs": [],
   "source": [
    "df = get_in_backup(path_backup='tto.h5',name='01')"
   ]
  },
  {
   "cell_type": "code",
   "execution_count": null,
   "metadata": {},
   "outputs": [],
   "source": [
    "potr_with_ostatok_total"
   ]
  },
  {
   "cell_type": "code",
   "execution_count": null,
   "metadata": {},
   "outputs": [],
   "source": [
    "df"
   ]
  },
  {
   "cell_type": "code",
   "execution_count": null,
   "metadata": {},
   "outputs": [],
   "source": [
    "save_pyex(df=df_str_zap[df_str_zap['ff']!=0],path='C:\\\\Users\\\\Илья\\\\Desktop\\\\kazzinc\\\\Uploads1\\\\extr_xlsx\\\\111.xlsx')"
   ]
  },
  {
   "cell_type": "code",
   "execution_count": null,
   "metadata": {},
   "outputs": [],
   "source": [
    "[x for x in ZNB1['Номер элемента пополнения + Номер позиции пополнения + Наименование типа элемента ППМ пополн'].unique() if str(x).find('ПртПЗ')!=-1]"
   ]
  },
  {
   "cell_type": "code",
   "execution_count": null,
   "metadata": {},
   "outputs": [],
   "source": [
    "df_str_zap[(df_str_zap['Вывод по документам потребности']!='OK')|(df_str_zap['Вывод по документам пополнения']!='OK')]"
   ]
  },
  {
   "cell_type": "code",
   "execution_count": null,
   "metadata": {},
   "outputs": [],
   "source": [
    "Rxport = pd.read_excel('C:\\\\Users\\\\Илья\\\\Desktop\\\\kazzinc\\\\EXPORT.xlsx',sheet_name='Sheet1')"
   ]
  },
  {
   "cell_type": "code",
   "execution_count": null,
   "metadata": {},
   "outputs": [],
   "source": [
    "Rxport.fillna(0,inplace = True)"
   ]
  },
  {
   "cell_type": "code",
   "execution_count": null,
   "metadata": {},
   "outputs": [],
   "source": [
    "for col in Rxport.loc[:,'Склад потребности':].columns:\n",
    "    Rxport[col] = Rxport[col].apply(lambda x: str(x).replace('.0','')).astype('str')"
   ]
  },
  {
   "cell_type": "code",
   "execution_count": null,
   "metadata": {},
   "outputs": [],
   "source": [
    "Rxport['Завод'] = Rxport['Завод'].apply(lambda x: str(x).replace('.0','')).astype('str')"
   ]
  },
  {
   "cell_type": "code",
   "execution_count": null,
   "metadata": {},
   "outputs": [],
   "source": [
    "dictionary = {}\n",
    "for ind in Rxport.index:\n",
    "    \n",
    "    for col in Rxport.loc[:,'Склад потребности':].columns:\n",
    "        if Rxport.loc[ind,col]!='0':\n",
    "            dictionary[Rxport.loc[ind,'Завод']+' '+Rxport.loc[ind,col]] = Rxport.loc[ind,1]\n",
    "df_str_zap['ff'] = df_str_zap['Завод + Склад'].apply(lambda x:  insert_vpr_(x,dictionary))"
   ]
  },
  {
   "cell_type": "code",
   "execution_count": null,
   "metadata": {},
   "outputs": [],
   "source": [
    "Rxport['Склад потребности.1'][1]"
   ]
  },
  {
   "cell_type": "code",
   "execution_count": null,
   "metadata": {},
   "outputs": [],
   "source": [
    "dictionary = {}\n",
    "for ind in Rxport.index:\n",
    "    \n",
    "    for col in Rxport.loc[:,'Склад потребности':].columns:\n",
    "        dictionary[Rxport.loc[ind,'Завод']+' '+Rxport.loc[ind,col]] = Rxport.loc[ind,1]\n",
    "df_str_zap['ff'] = df_str_zap['Завод + Склад'].apply(lambda x:  insert_vpr_(x,dictionary))"
   ]
  },
  {
   "cell_type": "code",
   "execution_count": null,
   "metadata": {},
   "outputs": [],
   "source": [
    "dictionary"
   ]
  },
  {
   "cell_type": "code",
   "execution_count": null,
   "metadata": {},
   "outputs": [],
   "source": [
    "df_str_zap['ff'] = df_str_zap['Завод + Склад'].apply(lambda x:  insert_vpr_(x,dictionary))"
   ]
  },
  {
   "cell_type": "code",
   "execution_count": null,
   "metadata": {},
   "outputs": [],
   "source": [
    "df_str_zap.shape"
   ]
  },
  {
   "cell_type": "code",
   "execution_count": null,
   "metadata": {},
   "outputs": [],
   "source": [
    "def insert_vpr_(x,dictt):\n",
    "    try:\n",
    "        return dictt[x]\n",
    "    except KeyError:\n",
    "        return 0"
   ]
  },
  {
   "cell_type": "code",
   "execution_count": null,
   "metadata": {},
   "outputs": [],
   "source": [
    "df_str_zap[df_str_zap['ff']!=0]"
   ]
  },
  {
   "cell_type": "code",
   "execution_count": null,
   "metadata": {},
   "outputs": [],
   "source": []
  },
  {
   "cell_type": "code",
   "execution_count": null,
   "metadata": {},
   "outputs": [],
   "source": [
    "a = get_in_backup(path_backup='backup_f0.h5',name='c_f0_01_ost')"
   ]
  },
  {
   "cell_type": "code",
   "execution_count": null,
   "metadata": {},
   "outputs": [],
   "source": [
    "a[['Модуль','Материал','Комплекс','Завод','КрТекстМатериала','Базовая ЕИ','Цена','пп','Остаток на начало года Кол-во','Остаток на начало года Сумма','Товар в пути (ZNB5, ZNB2/3-АвизОт)','SS (норма запаса на складе)','БЗ','прогнозн ост]]"
   ]
  },
  {
   "cell_type": "code",
   "execution_count": null,
   "metadata": {},
   "outputs": [],
   "source": [
    "20 год\n",
    ">20 года"
   ]
  },
  {
   "cell_type": "code",
   "execution_count": null,
   "metadata": {},
   "outputs": [],
   "source": [
    "a.reset_index(inplace=True,drop = True)"
   ]
  },
  {
   "cell_type": "code",
   "execution_count": null,
   "metadata": {},
   "outputs": [],
   "source": [
    "a.shape"
   ]
  },
  {
   "cell_type": "code",
   "execution_count": null,
   "metadata": {},
   "outputs": [],
   "source": [
    "a[['Модуль','Материал','Комплекс','Завод','КрТекстМатериала','Базовая ЕИ','Цена','Остаток на начало года Кол-во','Остаток на начало года Сумма','Товар в пути (ZNB5, ZNB2/3-АвизОт)','SS (норма запаса на складе)']]"
   ]
  },
  {
   "cell_type": "code",
   "execution_count": null,
   "metadata": {},
   "outputs": [],
   "source": [
    "a.loc[:,'ПП кол-во 1/2020':'ПП сумма 12/2020']"
   ]
  },
  {
   "cell_type": "code",
   "execution_count": null,
   "metadata": {},
   "outputs": [],
   "source": [
    "a.loc[:,'БЗ кол-во 1/2020':'Остаток прогноз Сумма 12/2020']"
   ]
  },
  {
   "cell_type": "code",
   "execution_count": null,
   "metadata": {},
   "outputs": [],
   "source": [
    "df_for_bi = pd.concat([a[['Модуль','Материал','Комплекс','Завод','КрТекстМатериала','Базовая ЕИ','Цена','Остаток на начало года Кол-во','Остаток на начало года Сумма','Товар в пути (ZNB5, ZNB2/3-АвизОт)','SS (норма запаса на складе)']],\\\n",
    "          a.loc[:,'ПП кол-во 1/2020':'ПП сумма 12/2020'],a.loc[:,'БЗ кол-во 1/2020':'Остаток прогноз Сумма 12/2020']],axis = 1)"
   ]
  },
  {
   "cell_type": "code",
   "execution_count": null,
   "metadata": {},
   "outputs": [],
   "source": [
    "aggregate= dict((x,'sum') for x in df_for_bi.columns if df_for_bi[x].dtype=='float64')"
   ]
  },
  {
   "cell_type": "code",
   "execution_count": null,
   "metadata": {},
   "outputs": [],
   "source": [
    "aggregate['Цена'] = 'max'"
   ]
  },
  {
   "cell_type": "code",
   "execution_count": null,
   "metadata": {},
   "outputs": [],
   "source": [
    "[x for x in df_for_bi.columns if  df_for_bi[x].dtype!='float64']"
   ]
  },
  {
   "cell_type": "code",
   "execution_count": null,
   "metadata": {},
   "outputs": [],
   "source": [
    "df_for_bi.groupby([x for x in df_for_bi.columns if  df_for_bi[x].dtype!='float64']).agg(aggregate).reset_index()"
   ]
  },
  {
   "cell_type": "code",
   "execution_count": null,
   "metadata": {},
   "outputs": [],
   "source": [
    "yyyyy = df_for_bi.groupby([x for x in df_for_bi.columns if  df_for_bi[x].dtype!='float64']).agg(aggregate).reset_index()"
   ]
  },
  {
   "cell_type": "code",
   "execution_count": null,
   "metadata": {},
   "outputs": [],
   "source": [
    "yyyyy[yyyyy['Материал']=='035001034']"
   ]
  },
  {
   "cell_type": "code",
   "execution_count": null,
   "metadata": {},
   "outputs": [],
   "source": [
    "save_pyex(df=df_for_bi.groupby([x for x in df_for_bi.columns if  df_for_bi[x].dtype!='float64']).agg(aggregate).reset_index(),path='C:\\\\Users\\\\Илья\\\\Desktop\\\\kazzinc\\\\Uploads1\\\\extr_xlsx\\\\ff.xlsx')"
   ]
  },
  {
   "cell_type": "code",
   "execution_count": null,
   "metadata": {},
   "outputs": [],
   "source": [
    "df = get_in_backup(path_backup='backup.h5',name='extract')"
   ]
  },
  {
   "cell_type": "code",
   "execution_count": null,
   "metadata": {
    "scrolled": true
   },
   "outputs": [],
   "source": [
    "df1 = df[df['Дата потребности'].dt.year>2020]"
   ]
  },
  {
   "cell_type": "code",
   "execution_count": null,
   "metadata": {},
   "outputs": [],
   "source": [
    "df1['Дата потребности'] = df1['Дата потребности'].apply(lambda x :datetime.datetime(x.year,x.month,1))"
   ]
  },
  {
   "cell_type": "code",
   "execution_count": null,
   "metadata": {},
   "outputs": [],
   "source": [
    "datetime.datetime(2020,1,1)"
   ]
  },
  {
   "cell_type": "code",
   "execution_count": null,
   "metadata": {},
   "outputs": [],
   "source": [
    "di = {}"
   ]
  },
  {
   "cell_type": "code",
   "execution_count": null,
   "metadata": {},
   "outputs": [],
   "source": [
    "['Модуль', 'Материал', 'Комплекс', 'Завод', 'КрТекстМатериала', 'Базовая ЕИ']"
   ]
  },
  {
   "cell_type": "code",
   "execution_count": null,
   "metadata": {},
   "outputs": [],
   "source": [
    "df1[['Модуль', 'Материал', 'Комплекс', 'Завод', 'КрТекстМатериала', 'Базовая ЕИ','Дата потребности','Количество потребности','Цена']].groupby(['Модуль', 'Материал', 'Комплекс', 'Завод', 'КрТекстМатериала', 'Базовая ЕИ','Дата потребности']).\\\n",
    "agg({'Количество потребности':'sum','Цена':'max'}).reset_index()"
   ]
  },
  {
   "cell_type": "code",
   "execution_count": null,
   "metadata": {},
   "outputs": [],
   "source": [
    "save_pyex(df=df1[['Модуль', 'Материал', 'Комплекс', 'Завод', 'КрТекстМатериала', 'Базовая ЕИ','Дата потребности','Количество потребности','Цена']].groupby(['Модуль', 'Материал', 'Комплекс', 'Завод', 'КрТекстМатериала', 'Базовая ЕИ','Дата потребности']).\\\n",
    "agg({'Количество потребности':'sum','Цена':'max'}).reset_index(),path='C:\\\\Users\\\\Илья\\\\Desktop\\\\kazzinc\\\\Uploads1\\\\extr_xlsx\\\\ff1.xlsx')"
   ]
  },
  {
   "cell_type": "code",
   "execution_count": null,
   "metadata": {},
   "outputs": [],
   "source": []
  },
  {
   "cell_type": "code",
   "execution_count": null,
   "metadata": {},
   "outputs": [],
   "source": [
    "directory_mc = 'C:\\\\Users\\\\Илья\\\\Desktop\\\\gg\\\\Расход\\\\'\n",
    "rash = exlsx_f(directory_mc)"
   ]
  },
  {
   "cell_type": "code",
   "execution_count": null,
   "metadata": {},
   "outputs": [],
   "source": [
    "for ind, i in enumerate(np.array_split(potr_with_ostatok_total,3)) :\n",
    "    save_pyex(df=i,path='C:\\\\Users\\\\Илья\\\\Desktop\\\\kazzinc\\\\Uploads1\\\\extr_xlsx\\\\'+str(ind)+'t.xlsx')"
   ]
  },
  {
   "cell_type": "code",
   "execution_count": null,
   "metadata": {},
   "outputs": [],
   "source": [
    "potr_with_ostatok_total = get_in_backup(path_backup='backup_for_powerBI_test_no.h5',name='f0_vertical_01')"
   ]
  },
  {
   "cell_type": "code",
   "execution_count": null,
   "metadata": {},
   "outputs": [],
   "source": [
    "rash.fillna('',inplace=True)"
   ]
  },
  {
   "cell_type": "code",
   "execution_count": null,
   "metadata": {},
   "outputs": [],
   "source": [
    "rash"
   ]
  },
  {
   "cell_type": "code",
   "execution_count": null,
   "metadata": {},
   "outputs": [],
   "source": [
    "r = pd.read_excel('E:\\\\Расход 2019.xlsx',sheet_name='sheet1')"
   ]
  },
  {
   "cell_type": "code",
   "execution_count": null,
   "metadata": {},
   "outputs": [],
   "source": [
    "fffff = r[['Комплекс', 'Модуль', 'Завод', 'Материал', 'Кол-во в ЕИ ввода','Сумма во ВВ','name_file']]"
   ]
  },
  {
   "cell_type": "code",
   "execution_count": null,
   "metadata": {},
   "outputs": [],
   "source": [
    "yyy = pd.pivot_table(fffff,columns=['name_file'],index=['Комплекс', 'Модуль', 'Завод', 'Материал'],aggfunc='sum',fill_value=0).reset_index()"
   ]
  },
  {
   "cell_type": "code",
   "execution_count": null,
   "metadata": {},
   "outputs": [],
   "source": [
    "[x[0]+' '+str(x[1]) for x in yyy.columns]"
   ]
  },
  {
   "cell_type": "code",
   "execution_count": null,
   "metadata": {},
   "outputs": [],
   "source": [
    "yyy.columns = [x[0]+' '+str(x[1]) for x in yyy.columns]"
   ]
  },
  {
   "cell_type": "code",
   "execution_count": null,
   "metadata": {},
   "outputs": [],
   "source": [
    "yyy"
   ]
  },
  {
   "cell_type": "code",
   "execution_count": null,
   "metadata": {},
   "outputs": [],
   "source": [
    "save_pyex(df=ost_copy1,path='C:\\\\Users\\\\Илья\\\\Desktop\\\\kazzinc\\\\Uploads1\\\\extr_xlsx\\\\ost.xlsx')"
   ]
  },
  {
   "cell_type": "code",
   "execution_count": null,
   "metadata": {},
   "outputs": [],
   "source": []
  },
  {
   "cell_type": "code",
   "execution_count": null,
   "metadata": {},
   "outputs": [],
   "source": [
    "aa = get_in_backup(path_backup='backup_for_powerBI_test_no.h5',name='f0_vertical_01')"
   ]
  },
  {
   "cell_type": "code",
   "execution_count": null,
   "metadata": {},
   "outputs": [],
   "source": [
    "aa[:150000]"
   ]
  },
  {
   "cell_type": "code",
   "execution_count": null,
   "metadata": {},
   "outputs": [],
   "source": [
    "df_str_zap = get_in_backup(path_backup='backup.h5',name='df_str_zap')"
   ]
  },
  {
   "cell_type": "code",
   "execution_count": null,
   "metadata": {},
   "outputs": [],
   "source": [
    "df = get_in_backup(path_backup='backup.h5',name='extract')"
   ]
  },
  {
   "cell_type": "code",
   "execution_count": null,
   "metadata": {},
   "outputs": [],
   "source": [
    "df_str_zap = df.copy()"
   ]
  },
  {
   "cell_type": "code",
   "execution_count": null,
   "metadata": {},
   "outputs": [],
   "source": [
    "directory = 'C:\\\\Users\\\\Илья\\\\Desktop\\\\kazzinc\\\\Uploads1\\\\'\n",
    "f = pd.read_csv(directory+'CSV.csv',sep = ';',parse_dates=['Дата потребности'],dtype={'Материал':'str','Завод':'str'})"
   ]
  },
  {
   "cell_type": "code",
   "execution_count": null,
   "metadata": {},
   "outputs": [],
   "source": [
    "f.shape"
   ]
  },
  {
   "cell_type": "code",
   "execution_count": null,
   "metadata": {},
   "outputs": [],
   "source": [
    "df_str_zap.shape"
   ]
  },
  {
   "cell_type": "code",
   "execution_count": null,
   "metadata": {},
   "outputs": [],
   "source": [
    "ind = df['Дата потребности'].apply(lambda x:True if x.year==2020 else False)"
   ]
  },
  {
   "cell_type": "code",
   "execution_count": null,
   "metadata": {},
   "outputs": [],
   "source": [
    "df_str_zap.loc[ind].shape"
   ]
  },
  {
   "cell_type": "code",
   "execution_count": null,
   "metadata": {},
   "outputs": [],
   "source": [
    "df.loc[ind].shape"
   ]
  },
  {
   "cell_type": "code",
   "execution_count": null,
   "metadata": {},
   "outputs": [],
   "source": [
    "df = df_str_zap[(df_str_zap['ЦС/ПЗ']=='ПЗ')&(df_str_zap['Вывод по документам потребности']=='OK')&(df_str_zap['Баланс (закрытие потребности)']==0)&(df_str_zap['Тип ППМ']=='PD')]\n",
    "df = df[df['Материал'].apply(lambda x:len(x)<=10)]"
   ]
  },
  {
   "cell_type": "code",
   "execution_count": null,
   "metadata": {},
   "outputs": [],
   "source": [
    "ost_copy1"
   ]
  },
  {
   "cell_type": "code",
   "execution_count": null,
   "metadata": {},
   "outputs": [],
   "source": [
    "df = get_in_backup(path_backup='backup.h5',name='extract')"
   ]
  },
  {
   "cell_type": "code",
   "execution_count": null,
   "metadata": {
    "scrolled": true
   },
   "outputs": [],
   "source": [
    "df.info(verbose  = True)"
   ]
  },
  {
   "cell_type": "code",
   "execution_count": null,
   "metadata": {},
   "outputs": [],
   "source": [
    "df['Дата потребности'].astype('str')"
   ]
  },
  {
   "cell_type": "code",
   "execution_count": null,
   "metadata": {},
   "outputs": [],
   "source": [
    "df['Завод получатель'].unique()"
   ]
  },
  {
   "cell_type": "code",
   "execution_count": null,
   "metadata": {},
   "outputs": [],
   "source": [
    "df.columns"
   ]
  },
  {
   "cell_type": "code",
   "execution_count": null,
   "metadata": {},
   "outputs": [],
   "source": [
    "l = [x for x in df.columns if df[x].dtype=='float64' or df[x].dtype=='int64']\n",
    "to_str_df = [x for x in l if x not in['Количество пополнения','Количество потребности','Страховой запас','Цена']]\n",
    "for i in to_str_df:\n",
    "    df[i] = df[i].apply(lambda x: str(x).replace('.0','')).astype('str')\n",
    "    df[i] = df[i].apply(lambda x: '' if x=='0' else x)"
   ]
  },
  {
   "cell_type": "code",
   "execution_count": null,
   "metadata": {},
   "outputs": [],
   "source": [
    "\n",
    "# df['Дата потребности'] = [datetime.datetime(int(x.split('.')[2]),int(x.split('.')[1]),int(x.split('.')[0])) for x in df['Дата потребности'].values]\n",
    "\n",
    "for i in [x for x in df.columns if x.find('Дата')!=-1]:\n",
    "    df[i] = df[i].apply(lambda x: '01.01.1900' if x =='00.00.0000' or x ==0 or x=='0' else  x)\n",
    "    if df[i].dtype=='object':\n",
    "        df[i] = [datetime.datetime(int(x.split('.')[2]),int(x.split('.')[1]),int(x.split('.')[0])) for x in df[i].values]\n",
    "    df[i] = df[i].apply(lambda x :datetime.datetime(x.year,x.month,1))"
   ]
  },
  {
   "cell_type": "code",
   "execution_count": null,
   "metadata": {},
   "outputs": [],
   "source": [
    "df.drop(['Дата потребности'],axis = 1,inplace = True)\n",
    "df.rename(columns={\"month\": \"Дата потребности\"},inplace=True)\n",
    "dt = [x for x in df.columns if df[x].dtype=='datetime64[ns]']\n",
    "\n",
    "for i in dt:\n",
    "    df[i] = df[i].astype('str')"
   ]
  },
  {
   "cell_type": "code",
   "execution_count": null,
   "metadata": {},
   "outputs": [],
   "source": [
    "aggregate= dict((x,'sum') for x in df.columns if df[x].dtype=='float64' and x!='Цена')\n",
    "aggregate['Цена'] = ['max']\n",
    "df.drop([x for x in df.columns if x.find('Unnamed')!=-1],axis = 1,inplace=True)"
   ]
  },
  {
   "cell_type": "code",
   "execution_count": null,
   "metadata": {},
   "outputs": [],
   "source": [
    "aggregate"
   ]
  },
  {
   "cell_type": "code",
   "execution_count": null,
   "metadata": {},
   "outputs": [],
   "source": [
    "aa = df.groupby([x for x in df.columns if df[x].dtype=='object']).agg(aggregate).reset_index()"
   ]
  },
  {
   "cell_type": "code",
   "execution_count": null,
   "metadata": {},
   "outputs": [],
   "source": []
  },
  {
   "cell_type": "code",
   "execution_count": null,
   "metadata": {},
   "outputs": [],
   "source": [
    "aa = df.groupby([x for x in df.columns if df[x].dtype=='object']).agg(aggregate).reset_index()"
   ]
  },
  {
   "cell_type": "code",
   "execution_count": null,
   "metadata": {
    "scrolled": true
   },
   "outputs": [],
   "source": [
    "aa.shape"
   ]
  },
  {
   "cell_type": "code",
   "execution_count": null,
   "metadata": {},
   "outputs": [],
   "source": [
    "df.shape"
   ]
  },
  {
   "cell_type": "code",
   "execution_count": null,
   "metadata": {
    "scrolled": true
   },
   "outputs": [],
   "source": [
    "df[df['Материал']=='230301041'].shape"
   ]
  },
  {
   "cell_type": "code",
   "execution_count": null,
   "metadata": {},
   "outputs": [],
   "source": [
    "aa[aa['Материал']=='230301041'].shape"
   ]
  },
  {
   "cell_type": "code",
   "execution_count": null,
   "metadata": {},
   "outputs": [],
   "source": [
    "aa[aa['Материал']=='060102003'].shape"
   ]
  },
  {
   "cell_type": "code",
   "execution_count": null,
   "metadata": {},
   "outputs": [],
   "source": [
    "df[df['Материал']=='060102003'].shape"
   ]
  },
  {
   "cell_type": "code",
   "execution_count": null,
   "metadata": {
    "scrolled": true
   },
   "outputs": [],
   "source": [
    "aa[aa['Материал']=='060102003']['Unnamed: 109']"
   ]
  },
  {
   "cell_type": "code",
   "execution_count": null,
   "metadata": {
    "scrolled": true
   },
   "outputs": [],
   "source": [
    "aa"
   ]
  },
  {
   "cell_type": "code",
   "execution_count": null,
   "metadata": {},
   "outputs": [],
   "source": [
    "for ind, i in enumerate(np.array_split(df,3)) :\n",
    "    save_pyex(df=i,path='C:\\\\Users\\\\Илья\\\\Desktop\\\\kazzinc\\\\Uploads1\\\\extr_xlsx\\\\'+str(ind)+'.xlsx')"
   ]
  },
  {
   "cell_type": "code",
   "execution_count": null,
   "metadata": {},
   "outputs": [],
   "source": [
    "for ind, i in enumerate(np.array_split(aa,3)) :\n",
    "    save_pyex(df=i,path='C:\\\\Users\\\\Илья\\\\Desktop\\\\kazzinc\\\\Uploads1\\\\extr_xlsx\\\\'+str(ind+10)+'.xlsx')"
   ]
  },
  {
   "cell_type": "code",
   "execution_count": null,
   "metadata": {},
   "outputs": [],
   "source": [
    "aa.columns = [x[0] for x in aa.columns]"
   ]
  },
  {
   "cell_type": "code",
   "execution_count": null,
   "metadata": {
    "scrolled": true
   },
   "outputs": [],
   "source": [
    "test1 = df[['Материал','Количество потребности']].copy()"
   ]
  },
  {
   "cell_type": "code",
   "execution_count": null,
   "metadata": {},
   "outputs": [],
   "source": [
    "sp_mat = pd.DataFrame(test1['Материал'].unique())"
   ]
  },
  {
   "cell_type": "code",
   "execution_count": null,
   "metadata": {},
   "outputs": [],
   "source": [
    "sp_mat['ind'] = [x for x in range(sp_mat.shape[0])]"
   ]
  },
  {
   "cell_type": "code",
   "execution_count": null,
   "metadata": {},
   "outputs": [],
   "source": [
    "sp_mat = sp_mat.set_index(0)"
   ]
  },
  {
   "cell_type": "code",
   "execution_count": null,
   "metadata": {},
   "outputs": [],
   "source": [
    "dd = sp_mat.to_dict()['ind']"
   ]
  },
  {
   "cell_type": "code",
   "execution_count": null,
   "metadata": {},
   "outputs": [],
   "source": [
    "test1['Материал'] = test1['Материал'].apply(lambda x:dd[x] )\n"
   ]
  },
  {
   "cell_type": "code",
   "execution_count": null,
   "metadata": {},
   "outputs": [],
   "source": [
    "test1['cdfsc'] = 0"
   ]
  },
  {
   "cell_type": "code",
   "execution_count": null,
   "metadata": {},
   "outputs": [],
   "source": [
    "matr = test1.values"
   ]
  },
  {
   "cell_type": "code",
   "execution_count": null,
   "metadata": {},
   "outputs": [],
   "source": [
    "sp_mat.to_dict()[0]"
   ]
  },
  {
   "cell_type": "code",
   "execution_count": null,
   "metadata": {},
   "outputs": [],
   "source": [
    "matr[:,3] = 0"
   ]
  },
  {
   "cell_type": "code",
   "execution_count": null,
   "metadata": {},
   "outputs": [],
   "source": [
    "start_time = time.time()\n",
    "for i in range(len(matr)):\n",
    "    matr[matr[:,0]==5]\n",
    "print(\"--- %s seconds ---\" % (time.time() - start_time))"
   ]
  },
  {
   "cell_type": "code",
   "execution_count": null,
   "metadata": {},
   "outputs": [],
   "source": [
    "len(matr)"
   ]
  },
  {
   "cell_type": "code",
   "execution_count": null,
   "metadata": {},
   "outputs": [],
   "source": [
    "start_time = time.time()\n",
    "for i in range(len(test1)):\n",
    "    test1[test1['Материал']=='260101004']\n",
    "print(\"--- %s seconds ---\" % (time.time() - start_time))"
   ]
  },
  {
   "cell_type": "code",
   "execution_count": null,
   "metadata": {},
   "outputs": [],
   "source": [
    "test1"
   ]
  },
  {
   "cell_type": "code",
   "execution_count": null,
   "metadata": {},
   "outputs": [],
   "source": [
    "pd.DataFrame(matr) "
   ]
  },
  {
   "cell_type": "code",
   "execution_count": null,
   "metadata": {},
   "outputs": [],
   "source": [
    "a = np.array([[1, 2, 3], [4, 5, 6]]) "
   ]
  },
  {
   "cell_type": "code",
   "execution_count": null,
   "metadata": {},
   "outputs": [],
   "source": [
    "b = np.where(a<4) \n",
    "print(b)"
   ]
  },
  {
   "cell_type": "code",
   "execution_count": null,
   "metadata": {},
   "outputs": [],
   "source": [
    "b"
   ]
  },
  {
   "cell_type": "code",
   "execution_count": null,
   "metadata": {},
   "outputs": [],
   "source": [
    "a[a[:,0]==1]"
   ]
  },
  {
   "cell_type": "code",
   "execution_count": null,
   "metadata": {},
   "outputs": [],
   "source": [
    "dd"
   ]
  },
  {
   "cell_type": "code",
   "execution_count": null,
   "metadata": {},
   "outputs": [],
   "source": [
    "matr"
   ]
  },
  {
   "cell_type": "code",
   "execution_count": null,
   "metadata": {},
   "outputs": [],
   "source": [
    "test1"
   ]
  },
  {
   "cell_type": "code",
   "execution_count": null,
   "metadata": {},
   "outputs": [],
   "source": [
    "start_time = time.time()\n",
    "matr[matr[:,0]==5]\n",
    "print(\"--- %s seconds ---\" % (time.time() - start_time))"
   ]
  },
  {
   "cell_type": "code",
   "execution_count": null,
   "metadata": {},
   "outputs": [],
   "source": [
    "start_time = time.time()\n",
    "test1[test1['Материал']==5]\n",
    "print(\"--- %s seconds ---\" % (time.time() - start_time))"
   ]
  },
  {
   "cell_type": "code",
   "execution_count": null,
   "metadata": {},
   "outputs": [],
   "source": [
    "from multiprocessing import Array"
   ]
  },
  {
   "cell_type": "code",
   "execution_count": null,
   "metadata": {},
   "outputs": [],
   "source": [
    "Array('df',df,lock=True)"
   ]
  },
  {
   "cell_type": "code",
   "execution_count": null,
   "metadata": {},
   "outputs": [],
   "source": [
    "# управление механикой остатков(вызывать ее)\n",
    "def ostat(ost_st, potr_st, current_date, filters,all_months):\n",
    "    # master_cs_pz = dict(tuple(potr_st[potr_st['month'] > current_date].groupby('ЦС/ПЗ')))\n",
    "    slave_cs_pz = dict(tuple(ost_st.groupby('ЦС/ПЗ')))\n",
    "    \n",
    "  \n",
    "    \n",
    "    # пз\n",
    "    pz_ost = ost_st[ost_st['ЦС/ПЗ']=='ПЗ']\n",
    "    \n",
    "    for pz_slave_row in pz_ost.index:\n",
    "        \n",
    "        # df_master = ret_data_dict(pz_ost.at[pz_slave_row, 'Завод+НН'], master_zav_nn)\n",
    "        if all_months ==True:\n",
    "            df_master = potr_st[(potr_st['Завод+НН'] == pz_ost.at[pz_slave_row, 'Завод+НН'])&(potr_st['month'] >= current_date)]\n",
    "            \n",
    "        else:   \n",
    "            df_master = potr_st[(potr_st['Завод+НН'] == pz_ost.at[pz_slave_row, 'Завод+НН'])&(potr_st['month'] > current_date)]\n",
    "\n",
    "        if len(df_master) > 0 and pz_ost.at[pz_slave_row, 'осталось'] > 0:\n",
    "            df_master = df_master.sort_values('Дата потребности')\n",
    "            # функция\n",
    "            # print(df_master[['Количество потребности', 'Дата потребности', 'Распределение_остатака']])\n",
    "            mex_ost(df_master, pz_ost, pz_slave_row, ost_st, potr_st)\n",
    "            # print(df_master[['Количество потребности', 'Дата потребности', 'Распределение_остатака']])\n",
    "\n",
    "    # вторая часть\n",
    "\n",
    "    slave_cs_pz = dict(tuple(ost_st.groupby('ЦС/ПЗ')))\n",
    "\n",
    "    # master_zak_nn = dict(tuple(potr_st[potr_st['month'] > current_date].groupby('Заказчик + HH')))\n",
    "    #\n",
    "    # master_material = dict(tuple(potr_st[potr_st['month'] > current_date].groupby('Материал')))\n",
    "\n",
    "    pz_ost = ost_st[ost_st['ЦС/ПЗ']=='ЦС']\n",
    "    for pz_slave_row in pz_ost.index:\n",
    "        # по номенклатуре ищем только заказчика all 1000\n",
    "\n",
    "        if ost_st.at[pz_slave_row, 'Комплекс'] == 'ALL1000':\n",
    "            # df_master = ret_data_dict(pz_ost.at[pz_slave_row, 'Материал'], master_material)\n",
    "            \n",
    "            if all_months==True:\n",
    "                 df_master = potr_st[(potr_st['Материал']==pz_ost.at[pz_slave_row, 'Материал'])&(potr_st['month'] >= current_date)]\n",
    "            else:\n",
    "                \n",
    "                df_master = potr_st[(potr_st['Материал']==pz_ost.at[pz_slave_row, 'Материал'])&(potr_st['month'] > current_date)]\n",
    "            if len(df_master) > 0 and pz_ost.at[pz_slave_row, 'осталось'] > 0:\n",
    "                # отсекаем только all1000 и сортируем\n",
    "\n",
    "                df_master = df_master[df_master['Комплекс'].isin(filters['one'])].sort_values('Дата потребности')\n",
    "                # print(df_master[['Количество потребности', 'Дата потребности', 'Распределение_остатака']])\n",
    "                mex_ost(df_master, pz_ost, pz_slave_row, ost_st, potr_st)\n",
    "                # print(df_master[['Количество потребности', 'Дата потребности', 'Распределение_остатака']])\n",
    "\n",
    "\n",
    "                a = 0\n",
    "        # по заказчик +нн\n",
    "        else:\n",
    "            \n",
    "            if all_months==True:\n",
    "                df_master = potr_st[(potr_st['Заказчик + HH'] == pz_ost.at[pz_slave_row, 'Заказчик + HH'])&(potr_st['month'] >= current_date)]\n",
    "            else:\n",
    "                df_master = potr_st[(potr_st['Заказчик + HH'] == pz_ost.at[pz_slave_row, 'Заказчик + HH'])&(potr_st['month'] > current_date)]\n",
    "            if len(df_master) > 0 and pz_ost.at[pz_slave_row, 'осталось'] > 0:\n",
    "                df_master = df_master.sort_values('Дата потребности')\n",
    "                # print(df_master[['Количество потребности', 'Дата потребности', 'Распределение_остатака']])\n",
    "                mex_ost(df_master, pz_ost, pz_slave_row, ost_st, potr_st)\n",
    "                # print(df_master[['Количество потребности', 'Дата потребности', 'Распределение_остатака']])\n",
    "\n",
    "#     potr_st.to_csv('C:\\\\Users\\\\User\\\\Desktop\\\\kazzinc\\\\Uploads\\\\test\\\\dfsl.csv', encoding='utf-8-sig',sep=';')\n",
    "#     ost_st.to_csv('C:\\\\Users\\\\User\\\\Desktop\\\\kazzinc\\\\Uploads\\\\test\\\\ost.csv', encoding='utf-8-sig', sep=';')\n",
    "\n",
    "\n",
    "# мехника распределения остатков\n",
    "def mex_ost(df_master, pz_ost, pz_slave_row, ost_st, potr_st):\n",
    "    ostatok = pz_ost.at[pz_slave_row, 'осталось']\n",
    "    \n",
    "    len_it = len(df_master) - 1\n",
    "    for ind, row_master_index in enumerate(df_master.index):\n",
    "        # print(df_master[['Количество потребности', 'Дата потребности', 'Распределение_остатака']])\n",
    "        # если покрыта вся потребность то ничего не делаем\n",
    "        #         if df_master.at[row_master_index, 'Количество потребности'] == df_master.at[row_master_index, 'Распределение_остатака']:\n",
    "        #             pass\n",
    "        # если это последний элемент нужно записать то что осталось в остатке\n",
    "        #  1 прибавляем в столбец Распределение_остатака гласного фрейма все то что осталось\n",
    "        #  2 вставляем в лист остатков в столбец забрали\n",
    "        #  3 вставлем в маленькие выборки аналогично\n",
    "        #  4 рассчитываем сумму по цене и прибавляем к имеющейся в ячейке\n",
    "        if len_it == ind:\n",
    "            price = ost_st.at[pz_slave_row, 'Стоимость свободного остатка'] / ost_st.at[pz_slave_row, 'Cвободный запас']\n",
    "            summa = ostatok * price\n",
    "\n",
    "            potr_st.at[row_master_index, 'Сумма_распреденного_остатка'] = potr_st.at[\n",
    "                                                                              row_master_index, 'Сумма_распреденного_остатка'] + summa\n",
    "\n",
    "            \n",
    "            potr_st.at[row_master_index, 'Распределение_остатака'] = potr_st.at[\n",
    "                                                                         row_master_index, 'Распределение_остатака'] + ostatok\n",
    "            \n",
    "            pz_ost.at[pz_slave_row, 'осталось'] = 0\n",
    "            ost_st.at[pz_slave_row, 'осталось'] = 0\n",
    "            # print(df_master[['Количество потребности','Дата потребности','Распределение_остатака']])\n",
    "            ostatok = 0\n",
    "            return\n",
    "        # если покарыта не вся потребность  и не последняя строка тогда и не хватает чтобы закрыть потребность:\n",
    "        #  1 прибавляем в столбец  Распределение_остатака гласного фрейма потребностей только остаток\n",
    "        #  2 зануляем остаток\n",
    "        #  3 зануляем в листе остатков в столбец осталось\n",
    "        #  4 вставлем в маленькие выборки аналогично\n",
    "        #  5 рассчитываем сумму по цене и прибавляем к имеющейся в ячейке\n",
    "        elif (potr_st.at[row_master_index, 'Количество потребности'] > potr_st.at[row_master_index, 'Распределение_остатака']) and (\n",
    "                potr_st.at[row_master_index, 'Количество потребности'] >= ostatok):\n",
    "            if ostatok+potr_st.at[row_master_index, 'Распределение_остатака']>potr_st.at[row_master_index, 'Количество потребности']:\n",
    "                a=0\n",
    "                price = ost_st.at[pz_slave_row, 'Стоимость свободного остатка'] / ost_st.at[pz_slave_row, 'Cвободный запас']\n",
    "                vzyali = potr_st.at[row_master_index, 'Количество потребности']-potr_st.at[row_master_index, 'Распределение_остатака']\n",
    "                summa = vzyali * price\n",
    "\n",
    "                potr_st.at[row_master_index, 'Сумма_распреденного_остатка'] = potr_st.at[\n",
    "                                                                                  row_master_index, 'Сумма_распреденного_остатка'] + summa\n",
    "\n",
    "                \n",
    "                potr_st.at[row_master_index, 'Распределение_остатака'] = potr_st.at[\n",
    "                                                                             row_master_index, 'Распределение_остатака'] + vzyali\n",
    "\n",
    "                pz_ost.at[pz_slave_row, 'осталось'] = pz_ost.at[pz_slave_row, 'осталось']-vzyali\n",
    "                ost_st.at[pz_slave_row, 'осталось'] = ost_st.at[pz_slave_row, 'осталось']-vzyali\n",
    "                ostatok =  ostatok -vzyali\n",
    "\n",
    "            else:\n",
    "                price = ost_st.at[pz_slave_row, 'Стоимость свободного остатка'] / ost_st.at[pz_slave_row, 'Cвободный запас']\n",
    "                summa = ostatok * price\n",
    "                potr_st.at[row_master_index, 'Сумма_распреденного_остатка'] = potr_st.at[\n",
    "                                                                                  row_master_index, 'Сумма_распреденного_остатка'] + summa\n",
    "                \n",
    "                potr_st.at[row_master_index, 'Распределение_остатака'] = potr_st.at[row_master_index, 'Распределение_остатака'] + ostatok\n",
    "                \n",
    "                pz_ost.at[pz_slave_row, 'осталось'] = 0\n",
    "                ost_st.at[pz_slave_row, 'осталось'] = 0\n",
    "                ostatok = 0\n",
    "                # print(df_master[['Количество потребности', 'Дата потребности', 'Распределение_остатака']])\n",
    "                return\n",
    "\n",
    "            # если покарыта не вся потребность  и не последняя строка тогда и хватает закрыть потребность :\n",
    "            #  1 прибавляем в столбец  Распределение_остатака гласного фрейма потребностей только потребность\n",
    "            #  2 отнимаем от остатка потребность\n",
    "            #  3 отнимаем в листе остатков в столбец осталось\n",
    "            #  4 вставлем в маленькие выборки аналогично\n",
    "            #  5 рассчитываем сумму по цене и прибавляем к имеющейся в ячейке\n",
    "        elif (potr_st.at[row_master_index, 'Количество потребности'] > potr_st.at[row_master_index, 'Распределение_остатака']) and (potr_st.at[row_master_index, 'Количество потребности'] < ostatok):\n",
    "            price = ost_st.at[pz_slave_row, 'Стоимость свободного остатка'] / ost_st.at[pz_slave_row, 'Cвободный запас']\n",
    "            vzyali = potr_st.at[row_master_index, 'Количество потребности'] - potr_st.at[row_master_index, 'Распределение_остатака']\n",
    "            summa = vzyali * price\n",
    "\n",
    "            \n",
    "            \n",
    "            potr_st.at[row_master_index, 'Сумма_распреденного_остатка'] = potr_st.at[\n",
    "                                                                              row_master_index, 'Сумма_распреденного_остатка'] + summa\n",
    "\n",
    "\n",
    "           \n",
    "            \n",
    "            potr_st.at[row_master_index, 'Распределение_остатака'] = potr_st.at[row_master_index, 'Распределение_остатака'] + (potr_st.at[row_master_index, 'Количество потребности'] -potr_st.at[row_master_index, 'Распределение_остатака'])\n",
    "            \n",
    "            pz_ost.at[pz_slave_row, 'осталось'] = pz_ost.at[pz_slave_row, 'осталось'] - vzyali\n",
    "            ost_st.at[pz_slave_row, 'осталось'] = ost_st.at[pz_slave_row, 'осталось'] - vzyali\n",
    "            ostatok = ostatok - vzyali\n",
    "            # print(df_master[['Количество потребности', 'Дата потребности', 'Распределение_остатака']])"
   ]
  },
  {
   "cell_type": "code",
   "execution_count": null,
   "metadata": {},
   "outputs": [],
   "source": [
    "# управление механикой остатков(вызывать ее)\n",
    "def ostat(ost_st, potr_st, current_date, filters,all_months,col_name_0,col_name_1,col_name_2,col_name_3,col_name_4,col_name_5):\n",
    "    \n",
    "       \n",
    "    \n",
    "#     cons = potr_st.sort_values(['Область ППМ','сортировка по модулю'])\n",
    "    pz_ost = ost_st[ost_st['ЦС/ПЗ']=='ПЗ']\n",
    "    cons = potr_st.set_index(['Завод+НН','del'])\n",
    "    \n",
    "    if all_months ==True:\n",
    "        dat = cons[cons['month']>=current_date].sort_values('Дата потребности')\n",
    "                \n",
    "    else:   \n",
    "        dat = cons[cons['month']>current_date].sort_values('Дата потребности')\n",
    "    \n",
    "    # 15,2,1\n",
    "    for pz_slave_row in pz_ost[pz_ost[col_name_0]!=0].index:\n",
    "#         print(pz_ost.loc[pz_slave_row,'Материал'])\n",
    "        try: \n",
    "            df_master = dat.xs(pz_ost.loc[pz_slave_row,'Завод+НН'])\n",
    "        except KeyError:\n",
    "            df_master = pd.DataFrame()\n",
    "        \n",
    "        if len(df_master)>0:\n",
    "            mex_ost(df_master, pz_ost, pz_slave_row, ost_st, potr_st,col_name_0,col_name_1,col_name_2,col_name_3,col_name_4,col_name_5)\n",
    "\n",
    "            \n",
    "            \n",
    "    pz_ost = ost_st[ost_st['ЦС/ПЗ']=='ЦС']\n",
    "    cons = potr_st.reset_index().set_index(['Материал','Заказчик + HH','del'])\n",
    "    \n",
    "    if all_months ==True:\n",
    "        dat = cons[cons['month']>=current_date].sort_values('Дата потребности')\n",
    "                \n",
    "    else:   \n",
    "        dat = cons[cons['month']>current_date].sort_values('Дата потребности')\n",
    "    \n",
    "    for pz_slave_row in pz_ost[pz_ost[col_name_0]!=0].index:\n",
    "        if ost_st.at[pz_slave_row, 'Комплекс'] == 'ALL1000':\n",
    "            \n",
    "            try:\n",
    "                df_master = dat.xs(pz_ost.at[pz_slave_row, 'Материал'])\n",
    "            except KeyError:\n",
    "                df_master = pd.DataFrame()    \n",
    "               \n",
    "            if len(df_master) > 0:\n",
    "                \n",
    "                # отсекаем только all1000 и сортируем\n",
    "                df_master = df_master[df_master['Комплекс'].isin(filters['one'])].sort_values('Дата потребности')\n",
    "                mex_ost(df_master, pz_ost, pz_slave_row, ost_st, potr_st,col_name_0,col_name_1,col_name_2,col_name_3,col_name_4,col_name_5)\n",
    "                \n",
    "        else:\n",
    "            \n",
    "            try:\n",
    "                df_master = dat.xs(pz_ost.at[pz_slave_row, 'Заказчик + HH'],level = 1)\n",
    "            except KeyError:\n",
    "                df_master = pd.DataFrame()    \n",
    "            \n",
    "            \n",
    "            if len(df_master) > 0:\n",
    "                \n",
    "                df_master = df_master.sort_values('Дата потребности')\n",
    "                \n",
    "                mex_ost(df_master, pz_ost, pz_slave_row, ost_st, potr_st,col_name_0,col_name_1,col_name_2,col_name_3,col_name_4,col_name_5)\n",
    "                      \n",
    "                 \n",
    "            #             распределяем\n",
    "             \n",
    "        \n",
    "    \n",
    "   \n",
    "    \n",
    "\n",
    "# мехника распределения остатков \n",
    "# col_name_0 название столбца откуда рпспределяем\n",
    "# col_name_1 навание с толбца куда распределяем\n",
    "# col_name_2 название столбца с количеством потребности\n",
    "# col_name_5 название столбца куда распределяем сумму\n",
    "# Для цены:\n",
    "# col_name_3 название столбца с суммой потребности\n",
    "# col_name_4 название столбца с начальным кол-вом  потребности\n",
    "def mex_ost(df_master, pz_ost, pz_slave_row, ost_st, potr_st,col_name_0,col_name_1,col_name_2,col_name_3,col_name_4,col_name_5):\n",
    "    df_master = df_master.reset_index().set_index(['index'])\n",
    "#     print(df_master.index)\n",
    "    ostatok = pz_ost.at[pz_slave_row, col_name_0]\n",
    "    len_it = len(df_master) - 1\n",
    "    for ind, row_master_index in enumerate(df_master.index):\n",
    "#         print(df_master)\n",
    "        if len_it == ind:\n",
    "            if pz_ost.at[pz_slave_row, col_name_3]==0 or pz_ost.at[pz_slave_row, col_name_4]==0:\n",
    "                price = 0\n",
    "            else:\n",
    "                price = pz_ost.at[pz_slave_row, col_name_3]/pz_ost.at[pz_slave_row, col_name_4]\n",
    "            summa = ostatok*price\n",
    "            \n",
    "            potr_st.at[row_master_index, col_name_5] = potr_st.at[row_master_index, col_name_5] + summa\n",
    "            potr_st.at[row_master_index, col_name_1] = potr_st.at[row_master_index, col_name_1] + ostatok\n",
    "\n",
    "            pz_ost.at[pz_slave_row, col_name_0] = 0\n",
    "            ost_st.at[pz_slave_row, col_name_0] = 0\n",
    "            # print(df_master[['Количество потребности','Дата потребности','Распределение_остатака']])\n",
    "            ostatok = 0\n",
    "            return\n",
    "        \n",
    "        elif (potr_st.at[row_master_index, col_name_2] > potr_st.at[row_master_index, col_name_1]) and (\n",
    "                potr_st.at[row_master_index, col_name_2] >= ostatok):\n",
    "            if ostatok+potr_st.at[row_master_index, col_name_1]>potr_st.at[row_master_index, col_name_2]:\n",
    "                a=0\n",
    "                if pz_ost.at[pz_slave_row, col_name_3]==0 or pz_ost.at[pz_slave_row, col_name_4]==0:\n",
    "                    price = 0\n",
    "                else:    \n",
    "                    price = pz_ost.at[pz_slave_row, col_name_3]/pz_ost.at[pz_slave_row, col_name_4]\n",
    "                \n",
    "                vzyali = potr_st.at[row_master_index, col_name_2]-potr_st.at[row_master_index, col_name_1]\n",
    "                \n",
    "                summa = vzyali*price\n",
    "                \n",
    "                potr_st.at[row_master_index, col_name_5] = potr_st.at[row_master_index, col_name_5] + summa\n",
    "                potr_st.at[row_master_index, col_name_1] = potr_st.at[row_master_index, col_name_1] + vzyali\n",
    "\n",
    "                pz_ost.at[pz_slave_row, col_name_0] = pz_ost.at[pz_slave_row, col_name_0]-vzyali\n",
    "                ost_st.at[pz_slave_row, col_name_0] = ost_st.at[pz_slave_row, col_name_0]-vzyali\n",
    "                ostatok =  ostatok -vzyali\n",
    "\n",
    "            else:\n",
    "                if pz_ost.at[pz_slave_row, col_name_3]==0 or pz_ost.at[pz_slave_row, col_name_4]==0:\n",
    "                    price = 0\n",
    "                else:\n",
    "                    price = pz_ost.at[pz_slave_row, col_name_3]/pz_ost.at[pz_slave_row, col_name_4]\n",
    "                summa = ostatok*price\n",
    "                potr_st.at[row_master_index, col_name_5] = potr_st.at[row_master_index, col_name_5] + summa\n",
    "                potr_st.at[row_master_index, col_name_1] = potr_st.at[row_master_index, col_name_1] + ostatok\n",
    "\n",
    "                pz_ost.at[pz_slave_row, col_name_0] = 0\n",
    "                ost_st.at[pz_slave_row, col_name_0] = 0\n",
    "                ostatok = 0\n",
    "                # print(df_master[['Количество потребности', 'Дата потребности', 'Распределение_остатака']])\n",
    "                return\n",
    "\n",
    "        elif (potr_st.at[row_master_index, col_name_2] > potr_st.at[row_master_index, col_name_1]) and (potr_st.at[row_master_index, col_name_2] < ostatok):\n",
    "            if pz_ost.at[pz_slave_row, col_name_3]==0 or pz_ost.at[pz_slave_row, col_name_4]==0:\n",
    "                price = 0\n",
    "            else:\n",
    "                price = pz_ost.at[pz_slave_row, col_name_3]/pz_ost.at[pz_slave_row, col_name_4]\n",
    "            \n",
    "            vzyali = potr_st.at[row_master_index, col_name_2]-potr_st.at[row_master_index, col_name_1]\n",
    "            \n",
    "            summa = vzyali*price\n",
    "            potr_st.at[row_master_index, col_name_5] = potr_st.at[row_master_index, col_name_5] + summa\n",
    "            potr_st.at[row_master_index, col_name_1] = potr_st.at[row_master_index, col_name_1] + (potr_st.at[row_master_index, col_name_2] -potr_st.at[row_master_index, col_name_1])\n",
    "\n",
    "            pz_ost.at[pz_slave_row, col_name_0] = pz_ost.at[pz_slave_row, col_name_0] - vzyali\n",
    "            ost_st.at[pz_slave_row, col_name_0] = ost_st.at[pz_slave_row, col_name_0] - vzyali\n",
    "            ostatok = ostatok - vzyali\n",
    "            # print(df_master[['Количество потребности', 'Дата потребности', 'Распределение_остатака']])"
   ]
  },
  {
   "cell_type": "code",
   "execution_count": null,
   "metadata": {},
   "outputs": [],
   "source": [
    "df"
   ]
  },
  {
   "cell_type": "code",
   "execution_count": null,
   "metadata": {},
   "outputs": [],
   "source": [
    "df['del'] = ''\n",
    "cons = df.set_index(['Материал','Комплекс','Заказчик + HH','del'])\n",
    "dat =  cons[cons['month']>current_date]"
   ]
  },
  {
   "cell_type": "code",
   "execution_count": null,
   "metadata": {
    "scrolled": true
   },
   "outputs": [],
   "source": [
    "cons.xs(('УПРАВЛЕНИЕ КАЗЦИНК 200700003'),level=2)"
   ]
  },
  {
   "cell_type": "code",
   "execution_count": null,
   "metadata": {},
   "outputs": [],
   "source": [
    "cons"
   ]
  },
  {
   "cell_type": "code",
   "execution_count": null,
   "metadata": {},
   "outputs": [],
   "source": [
    "dat.xs(['1101 #230301042'])"
   ]
  },
  {
   "cell_type": "code",
   "execution_count": null,
   "metadata": {},
   "outputs": [],
   "source": [
    "df = get_in_backup(path_backup='backup.h5',name='extract')"
   ]
  },
  {
   "cell_type": "code",
   "execution_count": null,
   "metadata": {},
   "outputs": [],
   "source": [
    "cons"
   ]
  },
  {
   "cell_type": "code",
   "execution_count": null,
   "metadata": {},
   "outputs": [],
   "source": [
    "start_time = time.time()\n",
    "ostatok_with_block.rename(columns={\"материал с учетом аналогов\": 'Материал','измененная партия':'Партия'},inplace=True)\n",
    "potr_copy = cons.copy()\n",
    "ost_copy = ostatok_with_block.copy()\n",
    "# Запуск распределения остатков\n",
    "potr_copy['Распределение_остатака  на начало'] = 0.000000\n",
    "potr_copy['Сумма Распределение_остатака  на начало'] = 0.000000\n",
    "potr_copy['index'] = [x for x in range(len(potr_copy))]\n",
    "\n",
    "ost_copy['осталось'] = ost_copy['Кол-во запаса в начале периода с учетом исключения блокированного запаси и особого запаса']\n",
    "\n",
    "ostat(ost_st=ost_copy,potr_st=potr_copy,col_name_0='осталось',col_name_1='Распределение_остатака  на начало',col_name_2 = 'Количество потребности',col_name_3 = 'Стоимость в начале периода с учетом исключения блокированного запаси и особого запаса',col_name_4 = 'Кол-во запаса в начале периода с учетом исключения блокированного запаси и особого запаса',col_name_5 = 'Сумма Распределение_остатака  на начало')\n",
    "# откуда куда что\n",
    "print(\"--- %s seconds ---\" % (time.time() - start_time))"
   ]
  },
  {
   "cell_type": "code",
   "execution_count": null,
   "metadata": {},
   "outputs": [],
   "source": [
    "df['index'] = [x for x in range(len(df))]\n",
    "df['del'] = ''\n",
    "df.reset_index(inplace = True,drop = True)\n",
    "\n",
    "potr_copy = df[df['Страховой запас']>0].copy()\n",
    "index___ = potr_copy[potr_copy['Страховой запас']>0].index\n",
    "potr_copy.loc[index___,'Количество потребности'] = potr_copy.loc[index___,'Страховой запас']\n",
    "potr_copy['Завод+НН'] = potr_copy['Завод'].astype('str')+' #'+potr_copy['Материал'].astype('str')\n",
    "potr_copy['Завод+НН'] = potr_copy['Завод+НН'].str.strip()\n",
    "ost_copy = ost_start_raspr_str_zap.copy()\n",
    "ost_copy['осталось'] = ost_copy['страховой запас']\n",
    "ost_copy['ЦС/ПЗ']='ПЗ'\n",
    "potr_copy.name = 'potrebn_with_raspr_ost'\n",
    "ost_copy.name =  'ost_with_potr'\n",
    "# Запуск распределения остатков\n",
    "potr_copy['Распределение_остатака'] = 0.000000\n",
    "potr_copy['Сумма_распреденного_остатка'] = 0.000000\n",
    "\n",
    "\n",
    "ostat(ost_st=ost_copy,potr_st=potr_copy,filters=filter_else,current_date = current_date,all_months=True,\\\n",
    "     col_name_0='осталось',col_name_1='Распределение_остатака',col_name_2 = 'Количество потребности',col_name_3 = 'Стоимость свободного остатка',col_name_4 = 'Cвободный запас',col_name_5 = 'Сумма_распреденного_остатка')    \n",
    "potr_copy.loc[index___,'Количество потребности'] = 0"
   ]
  },
  {
   "cell_type": "code",
   "execution_count": null,
   "metadata": {},
   "outputs": [],
   "source": [
    "start_time = time.time()\n",
    "# Запуск распределения остатков\n",
    "# date_start_year = datetime.datetime(2019,1,1)\n",
    "# current_date = datetime.datetime(2019,10,1)\n",
    "potr_copy1 = df[df['Страховой запас']==0].copy()\n",
    "ost_copy1 = ost_start_raspr.copy()\n",
    "potr_copy1.name = 'potrebn_with_raspr_ost'\n",
    "ost_copy1.name =  'ost_with_potr'\n",
    "# Запуск распределения остатков\n",
    "potr_copy1['Распределение_остатака'] = 0.000000\n",
    "potr_copy1['Сумма_распреденного_остатка'] = 0.000000\n",
    "\n",
    "ostat(ost_st=ost_copy1,potr_st=potr_copy1,filters=filter_else,current_date = current_date,all_months=True,\\\n",
    "     col_name_0='осталось',col_name_1='Распределение_остатака',col_name_2 = 'Количество потребности',col_name_3 = 'Стоимость свободного остатка',col_name_4 = 'Cвободный запас',col_name_5 = 'Сумма_распреденного_остатка')\n",
    "print(\"--- %s seconds ---\" % (time.time() - start_time))"
   ]
  },
  {
   "cell_type": "code",
   "execution_count": null,
   "metadata": {},
   "outputs": [],
   "source": []
  },
  {
   "cell_type": "code",
   "execution_count": null,
   "metadata": {},
   "outputs": [],
   "source": [
    "potr_copy['Распределение_остатака'].sum()"
   ]
  },
  {
   "cell_type": "code",
   "execution_count": null,
   "metadata": {},
   "outputs": [],
   "source": [
    "potr_copy1['Распределение_остатака'].sum()"
   ]
  },
  {
   "cell_type": "code",
   "execution_count": null,
   "metadata": {
    "scrolled": true
   },
   "outputs": [],
   "source": [
    "ost_copy1"
   ]
  },
  {
   "cell_type": "code",
   "execution_count": null,
   "metadata": {
    "scrolled": true
   },
   "outputs": [],
   "source": [
    "potr_copy1[potr_copy1['Распределение_остатака']>0]"
   ]
  },
  {
   "cell_type": "code",
   "execution_count": null,
   "metadata": {
    "scrolled": true
   },
   "outputs": [],
   "source": [
    "ost_start_raspr_str_zap"
   ]
  },
  {
   "cell_type": "code",
   "execution_count": null,
   "metadata": {},
   "outputs": [],
   "source": [
    "pz_ost = ost_copy1[ost_copy1['ЦС/ПЗ']=='ЦС']\n",
    "cons = potr_copy1.reset_index().set_index(['Материал','Заказчик + HH','del'])"
   ]
  },
  {
   "cell_type": "code",
   "execution_count": null,
   "metadata": {},
   "outputs": [],
   "source": [
    "pz_ost"
   ]
  },
  {
   "cell_type": "code",
   "execution_count": null,
   "metadata": {},
   "outputs": [],
   "source": [
    "cons"
   ]
  },
  {
   "cell_type": "code",
   "execution_count": null,
   "metadata": {},
   "outputs": [],
   "source": [
    "dat.xs(['010101015'])"
   ]
  },
  {
   "cell_type": "code",
   "execution_count": null,
   "metadata": {
    "scrolled": true
   },
   "outputs": [],
   "source": [
    "dat.xs(['УКМК 010101015'],level = 2)"
   ]
  },
  {
   "cell_type": "code",
   "execution_count": null,
   "metadata": {},
   "outputs": [],
   "source": [
    "dat"
   ]
  },
  {
   "cell_type": "code",
   "execution_count": null,
   "metadata": {},
   "outputs": [],
   "source": [
    "cons.xs('УПРАВЛЕНИЕ КАЗЦИНК 200700003',level = 1)"
   ]
  },
  {
   "cell_type": "code",
   "execution_count": null,
   "metadata": {},
   "outputs": [],
   "source": [
    "ost_copy1 = ost_start_raspr.copy()[:1000]"
   ]
  },
  {
   "cell_type": "code",
   "execution_count": null,
   "metadata": {},
   "outputs": [],
   "source": [
    "for row in ost_copy1[:1].itertuples():\n",
    "    print(row)"
   ]
  },
  {
   "cell_type": "code",
   "execution_count": null,
   "metadata": {
    "scrolled": true
   },
   "outputs": [],
   "source": [
    "ost_copy1"
   ]
  },
  {
   "cell_type": "code",
   "execution_count": null,
   "metadata": {},
   "outputs": [],
   "source": [
    "\n"
   ]
  },
  {
   "cell_type": "code",
   "execution_count": null,
   "metadata": {},
   "outputs": [],
   "source": [
    "# управление механикой остатков(вызывать ее)\n",
    "def ostat(ost_st, potr_st, current_date, filters,all_months,col_name_0,col_name_1,col_name_2,col_name_3,col_name_4,col_name_5):\n",
    "    \n",
    "       \n",
    "    \n",
    "#     cons = potr_st.sort_values(['Область ППМ','сортировка по модулю'])\n",
    "    pz_ost = ost_st[ost_st['ЦС/ПЗ']=='ПЗ']\n",
    "    cons = potr_st.set_index(['Завод+НН','del'])\n",
    "    \n",
    "    if all_months ==True:\n",
    "        dat = cons[cons['month']>=current_date].sort_values('Дата потребности')\n",
    "                \n",
    "    else:   \n",
    "        dat = cons[cons['month']>current_date].sort_values('Дата потребности')\n",
    "    \n",
    "    # 15,2,1\n",
    "    for pz_slave_row in pz_ost[pz_ost[col_name_0]!=0].itertuples():\n",
    "#         print(pz_ost.loc[pz_slave_row,'Материал'])\n",
    "        try: \n",
    "            df_master = cons.xs(pz_slave_row.Завод_НН)\n",
    "        except KeyError:\n",
    "            df_master = pd.DataFrame()\n",
    "\n",
    "        if len(df_master)>0:\n",
    "            pass\n",
    "            \n",
    "#             mex_ost(df_master, pz_ost, pz_slave_row, ost_st, potr_st,col_name_0,col_name_1,col_name_2,col_name_3,col_name_4,col_name_5)\n",
    "\n",
    "            \n",
    "            \n",
    "    pz_ost = ost_st[ost_st['ЦС/ПЗ']=='ЦС']\n",
    "    cons = potr_st.reset_index().set_index(['Материал','Заказчик + HH','del'])\n",
    "    \n",
    "    for pz_slave_row in pz_ost[pz_ost[col_name_0]!=0].itertuples():\n",
    "        if pz_slave_row.Комплекс == 'ALL1000':\n",
    "            \n",
    "            try:\n",
    "                df_master = cons.xs(pz_slave_row.Материал)\n",
    "            except KeyError:\n",
    "                df_master = pd.DataFrame()    \n",
    "               \n",
    "            if len(df_master) > 0:\n",
    "                # отсекаем только all1000 и сортируем\n",
    "                df_master = df_master[df_master['Комплекс'].isin(filters['one'])].sort_values('Дата потребности')\n",
    "#                 mex_ost(df_master, pz_ost, pz_slave_row, ost_st, potr_st,col_name_0,col_name_1,col_name_2,col_name_3,col_name_4,col_name_5)\n",
    "                \n",
    "        else:\n",
    "            \n",
    "            try:\n",
    "                df_master = cons.xs(pz_slave_row.Заказчик_HH,level = 1)\n",
    "            except KeyError:\n",
    "                df_master = pd.DataFrame()    \n",
    "            \n",
    "            \n",
    "            if len(df_master) > 0:\n",
    "                df_master = df_master.sort_values('Дата потребности')\n",
    "                \n",
    "#                 mex_ost(df_master, pz_ost, pz_slave_row, ost_st, potr_st,col_name_0,col_name_1,col_name_2,col_name_3,col_name_4,col_name_5)\n",
    "                      \n",
    "                 \n",
    "            #             распределяем\n",
    "             \n",
    "        \n",
    "    \n",
    "   \n",
    "    \n",
    "\n",
    "# мехника распределения остатков \n",
    "# col_name_0 название столбца откуда рпспределяем\n",
    "# col_name_1 навание с толбца куда распределяем\n",
    "# col_name_2 название столбца с количеством потребности\n",
    "# col_name_5 название столбца куда распределяем сумму\n",
    "# Для цены:\n",
    "# col_name_3 название столбца с суммой потребности\n",
    "# col_name_4 название столбца с начальным кол-вом  потребности\n",
    "def mex_ost(df_master, pz_ost, pz_slave_row, ost_st, potr_st,col_name_0,col_name_1,col_name_2,col_name_3,col_name_4,col_name_5):\n",
    "    df_master = df_master.reset_index().set_index(['index'])\n",
    "#     print(df_master.index)\n",
    "    ostatok = pz_ost.at[pz_slave_row, col_name_0]\n",
    "    len_it = len(df_master) - 1\n",
    "    for ind, row_master_index in enumerate(df_master.index):\n",
    "#         print(df_master)\n",
    "        if len_it == ind:\n",
    "            if pz_ost.at[pz_slave_row, col_name_3]==0 or pz_ost.at[pz_slave_row, col_name_4]==0:\n",
    "                price = 0\n",
    "            else:\n",
    "                price = pz_ost.at[pz_slave_row, col_name_3]/pz_ost.at[pz_slave_row, col_name_4]\n",
    "            summa = ostatok*price\n",
    "            \n",
    "            potr_st.at[row_master_index, col_name_5] = potr_st.at[row_master_index, col_name_5] + summa\n",
    "            potr_st.at[row_master_index, col_name_1] = potr_st.at[row_master_index, col_name_1] + ostatok\n",
    "\n",
    "            pz_ost.at[pz_slave_row, col_name_0] = 0\n",
    "            ost_st.at[pz_slave_row, col_name_0] = 0\n",
    "            # print(df_master[['Количество потребности','Дата потребности','Распределение_остатака']])\n",
    "            ostatok = 0\n",
    "            return\n",
    "        \n",
    "        elif (potr_st.at[row_master_index, col_name_2] > potr_st.at[row_master_index, col_name_1]) and (\n",
    "                potr_st.at[row_master_index, col_name_2] >= ostatok):\n",
    "            if ostatok+potr_st.at[row_master_index, col_name_1]>potr_st.at[row_master_index, col_name_2]:\n",
    "                a=0\n",
    "                if pz_ost.at[pz_slave_row, col_name_3]==0 or pz_ost.at[pz_slave_row, col_name_4]==0:\n",
    "                    price = 0\n",
    "                else:    \n",
    "                    price = pz_ost.at[pz_slave_row, col_name_3]/pz_ost.at[pz_slave_row, col_name_4]\n",
    "                \n",
    "                vzyali = potr_st.at[row_master_index, col_name_2]-potr_st.at[row_master_index, col_name_1]\n",
    "                \n",
    "                summa = vzyali*price\n",
    "                \n",
    "                potr_st.at[row_master_index, col_name_5] = potr_st.at[row_master_index, col_name_5] + summa\n",
    "                potr_st.at[row_master_index, col_name_1] = potr_st.at[row_master_index, col_name_1] + vzyali\n",
    "\n",
    "                pz_ost.at[pz_slave_row, col_name_0] = pz_ost.at[pz_slave_row, col_name_0]-vzyali\n",
    "                ost_st.at[pz_slave_row, col_name_0] = ost_st.at[pz_slave_row, col_name_0]-vzyali\n",
    "                ostatok =  ostatok -vzyali\n",
    "\n",
    "            else:\n",
    "                if pz_ost.at[pz_slave_row, col_name_3]==0 or pz_ost.at[pz_slave_row, col_name_4]==0:\n",
    "                    price = 0\n",
    "                else:\n",
    "                    price = pz_ost.at[pz_slave_row, col_name_3]/pz_ost.at[pz_slave_row, col_name_4]\n",
    "                summa = ostatok*price\n",
    "                potr_st.at[row_master_index, col_name_5] = potr_st.at[row_master_index, col_name_5] + summa\n",
    "                potr_st.at[row_master_index, col_name_1] = potr_st.at[row_master_index, col_name_1] + ostatok\n",
    "\n",
    "                pz_ost.at[pz_slave_row, col_name_0] = 0\n",
    "                ost_st.at[pz_slave_row, col_name_0] = 0\n",
    "                ostatok = 0\n",
    "                # print(df_master[['Количество потребности', 'Дата потребности', 'Распределение_остатака']])\n",
    "                return\n",
    "\n",
    "        elif (potr_st.at[row_master_index, col_name_2] > potr_st.at[row_master_index, col_name_1]) and (potr_st.at[row_master_index, col_name_2] < ostatok):\n",
    "            if pz_ost.at[pz_slave_row, col_name_3]==0 or pz_ost.at[pz_slave_row, col_name_4]==0:\n",
    "                price = 0\n",
    "            else:\n",
    "                price = pz_ost.at[pz_slave_row, col_name_3]/pz_ost.at[pz_slave_row, col_name_4]\n",
    "            \n",
    "            vzyali = potr_st.at[row_master_index, col_name_2]-potr_st.at[row_master_index, col_name_1]\n",
    "            \n",
    "            summa = vzyali*price\n",
    "            potr_st.at[row_master_index, col_name_5] = potr_st.at[row_master_index, col_name_5] + summa\n",
    "            potr_st.at[row_master_index, col_name_1] = potr_st.at[row_master_index, col_name_1] + (potr_st.at[row_master_index, col_name_2] -potr_st.at[row_master_index, col_name_1])\n",
    "\n",
    "            pz_ost.at[pz_slave_row, col_name_0] = pz_ost.at[pz_slave_row, col_name_0] - vzyali\n",
    "            ost_st.at[pz_slave_row, col_name_0] = ost_st.at[pz_slave_row, col_name_0] - vzyali\n",
    "            ostatok = ostatok - vzyali\n",
    "            # print(df_master[['Количество потребности', 'Дата потребности', 'Распределение_остатака']])"
   ]
  },
  {
   "cell_type": "code",
   "execution_count": null,
   "metadata": {},
   "outputs": [],
   "source": [
    "ost_start_raspr.shape"
   ]
  },
  {
   "cell_type": "code",
   "execution_count": null,
   "metadata": {},
   "outputs": [],
   "source": [
    "start_time = time.time()\n",
    "\n",
    "\n",
    "# col_name_0 название столбца откуда рпспределяем\n",
    "# col_name_1 навание с толбца куда распределяем\n",
    "# col_name_2 название столбца с количеством потребности\n",
    "# col_name_5 название столбца куда распределяем сумму\n",
    "# Для цены:\n",
    "# col_name_3 название столбца с суммой потребности\n",
    "# col_name_4 название столбца с начальным кол-вом  потребности\n",
    "\n",
    "potr_copy_for_rashod = potr_copy_cons.copy()\n",
    "rashod_copy = rashod_start_raspr.copy()\n",
    "potr_copy_for_rashod.name = 'potr_copy_for_rashod'\n",
    "rashod_copy.name =  'rashod_copy'\n",
    "# Запуск распределения остатков\n",
    "potr_copy_for_rashod['Распределение_расхода'] = 0.000000\n",
    "potr_copy_for_rashod['Сумма_распреденного_расхода'] = 0.000000\n",
    "rashod_copy['осталось'] = rashod_copy['Кол-во в ЕИ ввода']\n",
    "\n",
    "rashod_raspr(ost_st=rashod_copy,potr_st=potr_copy_for_rashod,filters=filter_else,current_date = current_date,all_months=True,col_name_0 ='осталось',col_name_1 ='Распределение_расхода', col_name_2 = 'Количество потребности',col_name_3 ='Сумма во ВВ',col_name_4 = 'Кол-во в ЕИ ввода',col_name_5 = 'Сумма_распреденного_расхода') \n",
    "print(\"--- %s seconds ---\" % (time.time() - start_time))"
   ]
  },
  {
   "cell_type": "code",
   "execution_count": null,
   "metadata": {},
   "outputs": [],
   "source": [
    "prihod_start_rasp.shape"
   ]
  },
  {
   "cell_type": "code",
   "execution_count": null,
   "metadata": {},
   "outputs": [],
   "source": []
  },
  {
   "cell_type": "code",
   "execution_count": null,
   "metadata": {},
   "outputs": [],
   "source": [
    "ttt = get_in_backup(path_backup='tto.h5',name='01')"
   ]
  },
  {
   "cell_type": "code",
   "execution_count": null,
   "metadata": {
    "scrolled": true
   },
   "outputs": [],
   "source": [
    "potr_copy_cons['законтрактовано'].sum()"
   ]
  },
  {
   "cell_type": "code",
   "execution_count": null,
   "metadata": {
    "scrolled": true
   },
   "outputs": [],
   "source": [
    "ttt['законтрактовано'].sum()"
   ]
  },
  {
   "cell_type": "code",
   "execution_count": null,
   "metadata": {},
   "outputs": [],
   "source": [
    "potr_copy_for_prihod['NB'].sum()"
   ]
  },
  {
   "cell_type": "code",
   "execution_count": null,
   "metadata": {},
   "outputs": [],
   "source": [
    "ttt['NB'].sum()"
   ]
  },
  {
   "cell_type": "code",
   "execution_count": null,
   "metadata": {},
   "outputs": [],
   "source": [
    "start_time = time.time()\n",
    "potr_copy_for_prihod = potr_copy_for_rashod.copy()\n",
    "prihod_copy = prihod_start_raspr.copy()\n",
    "potr_copy_for_prihod.name = 'potr_copy_for_prihod'\n",
    "prihod_copy.name =  'prihod_copy'\n",
    "# Запуск распределения остатков\n",
    "potr_copy_for_prihod['Распределение_прихода'] = 0.000000\n",
    "potr_copy_for_prihod['Сумма_распреденного_прихода'] = 0.000000\n",
    "prihod_copy['осталось'] = prihod_copy['Количество']\n",
    "\n",
    "prihod_raspr(ost_st=prihod_copy,potr_st=potr_copy_for_prihod,filters=filter_else,current_date = current_date,all_months=True,col_name_0 ='осталось',col_name_1 ='Распределение_прихода', col_name_2 = 'Количество потребности',col_name_3 ='Сумма во ВВ',col_name_4 = 'Количество',col_name_5 = 'Сумма_распреденного_прихода') \n",
    "print(\"--- %s seconds ---\" % (time.time() - start_time))"
   ]
  },
  {
   "cell_type": "code",
   "execution_count": null,
   "metadata": {},
   "outputs": [],
   "source": [
    "prihod_start_raspr"
   ]
  },
  {
   "cell_type": "code",
   "execution_count": null,
   "metadata": {},
   "outputs": [],
   "source": [
    "ttt.shape"
   ]
  },
  {
   "cell_type": "code",
   "execution_count": null,
   "metadata": {},
   "outputs": [],
   "source": [
    "potr_copy_for_prihod.shape"
   ]
  },
  {
   "cell_type": "code",
   "execution_count": null,
   "metadata": {},
   "outputs": [],
   "source": [
    "potr_copy_for_prihod"
   ]
  },
  {
   "cell_type": "code",
   "execution_count": null,
   "metadata": {
    "scrolled": true
   },
   "outputs": [],
   "source": [
    "ttt"
   ]
  },
  {
   "cell_type": "code",
   "execution_count": null,
   "metadata": {},
   "outputs": [],
   "source": [
    "cons = potr_copy_for_prihod.set_index(['Заказчик + HH','del']).sort_values('Дата потребности')"
   ]
  },
  {
   "cell_type": "code",
   "execution_count": null,
   "metadata": {},
   "outputs": [],
   "source": [
    "cons"
   ]
  },
  {
   "cell_type": "code",
   "execution_count": null,
   "metadata": {},
   "outputs": [],
   "source": [
    "start_time = time.time()\n",
    "potr_prt_pzk = potr_avizot.copy()\n",
    "prt_pzk_copy = ZNB1.copy()\n",
    "potr_prt_pzk.name = 'potr_prt_pzk'\n",
    "prt_pzk_copy.name =  'prt_pzk_copy'\n",
    "potr_prt_pzk['законтрактовано'] = 0.000000\n",
    "prt_pzk_copy['осталось'] = prt_pzk_copy['Количество пополнения']\n",
    "prt_pzk(ost_st=prt_pzk_copy,potr_st=potr_prt_pzk,filters=filter_else,current_date = current_date,all_months=True,col_name_0 ='осталось')\n",
    "print(\"--- %s seconds ---\" % (time.time() - start_time))"
   ]
  },
  {
   "cell_type": "code",
   "execution_count": null,
   "metadata": {
    "scrolled": true
   },
   "outputs": [],
   "source": [
    "prt_pzk_copy"
   ]
  },
  {
   "cell_type": "code",
   "execution_count": null,
   "metadata": {},
   "outputs": [],
   "source": [
    "def main_price(potr_gr,potr_gr1,A900,A902,konp_gr,df):\n",
    "    \n",
    "    def price(x):\n",
    "        if x['Цена']==0:\n",
    "            return 1\n",
    "        elif x['Цена']==345:\n",
    "            return 1\n",
    "        else:\n",
    "            return x['Цена']\n",
    "    \n",
    "    for i in potr_gr.keys():\n",
    "        dat = get_df_f(A902, ['Код округа', 'Материал'], [i[0], i[1]])\n",
    "#         mex_price(dat,konp_gr,df,potr_gr,i)\n",
    "    for i in potr_gr1.keys():\n",
    "        dat = get_df_f1(A900, ['Материал'], [i])\n",
    "#         mex_price(dat, konp_gr, df, potr_gr1, i)\n",
    "        \n",
    "    df['Цена'] = df.apply(lambda x: price(x),axis = 1)"
   ]
  },
  {
   "cell_type": "code",
   "execution_count": null,
   "metadata": {},
   "outputs": [],
   "source": [
    "start_time = time.time()\n",
    "A902['Код округа'] = A902['Код округа'].astype('str')\n",
    "A902['Материал'] = A902['Материал'].astype('str')\n",
    "A902['Материал'] = A902['Материал'].apply(lambda x: '0'+str(x) if  len(str(x))<9 else x)\n",
    "A900['Материал'] = A900['Материал'].astype('str')\n",
    "A900['Материал'] = A900['Материал'].apply(lambda x: '0'+str(x) if  len(str(x))<9 else x)\n",
    "df['Материал'] = df['Материал'].astype('str')\n",
    "KONP['Номер записи условий'] = KONP['Номер записи условий'].astype('str')\n",
    "A902.fillna(0,inplace=True)\n",
    "A900.fillna(0,inplace=True)\n",
    "KONP.fillna(0,inplace=True)\n",
    "potr_gr = dict(tuple(df.groupby(['Код округа','Материал'])))\n",
    "potr_gr_mat = dict(tuple(df.groupby(['Материал'])))\n",
    "konp_gr = dict(tuple(KONP.groupby(['Номер записи условий'])))\n",
    "df['Цена'] = 0.0000\n",
    "A900 = A900[A900['Конец действия'].apply(lambda x: x.year)==current_date.year]\n",
    "A902 = A902[A902['Конец действия'].apply(lambda x: x.year)==current_date.year]\n",
    "main_price(potr_gr,potr_gr_mat,A900,A902,konp_gr,df)\n",
    "print(\"--- %s seconds ---\" % (time.time() - start_time))"
   ]
  },
  {
   "cell_type": "code",
   "execution_count": null,
   "metadata": {},
   "outputs": [],
   "source": [
    "start_time = time.time()\n",
    "df['index'] = [x for x in range(len(df))]\n",
    "konp_gr = KONP.set_index('Номер записи условий')\n",
    "df['Цена'] = 0.0000\n",
    "A900_ = A900[A900['Конец действия'].apply(lambda x: x.year)==current_date.year]\n",
    "A902_ = A902[A902['Конец действия'].apply(lambda x: x.year)==current_date.year]\n",
    "main_price_f(A900_,A902_,konp_gr,df)\n",
    "print(\"--- %s seconds ---\" % (time.time() - start_time))"
   ]
  },
  {
   "cell_type": "code",
   "execution_count": null,
   "metadata": {},
   "outputs": [],
   "source": [
    "def main_price_f(A900,A902,konp_gr,df):\n",
    "    \n",
    "    def price(x):\n",
    "        if x['Цена']==0:\n",
    "            return 1\n",
    "        elif x['Цена']==345:\n",
    "            return 1\n",
    "        else:\n",
    "            return x['Цена']\n",
    "    potr_gr = df.set_index(['Код округа','Материал'])\n",
    "    for ind in A902.index:\n",
    "        \n",
    "        try: \n",
    "            dat = potr_gr.xs([A902.at[ind,'Код округа'],A902.at[ind,'Материал']],level = [0,1])\n",
    "        except KeyError:\n",
    "            dat = pd.DataFrame()\n",
    "        if len(dat)>0:\n",
    "            pass\n",
    "        \n",
    "        \n",
    "    potr_gr1 = df.set_index(['Материал'])\n",
    "    for ind in A900.index:\n",
    "        \n",
    "        try: \n",
    "            dat = potr_gr1.xs(A900.at[ind,'Материал'])\n",
    "        except KeyError:\n",
    "            dat = pd.DataFrame()\n",
    "        if len(dat)>0:\n",
    "            pass\n",
    "        \n",
    "\n",
    "        \n",
    "    df['Цена'] = df.apply(lambda x: price(x),axis = 1)"
   ]
  },
  {
   "cell_type": "code",
   "execution_count": null,
   "metadata": {},
   "outputs": [],
   "source": [
    "def price_main__(df,A902,A900,KONP,current_date,pl_kurs):\n",
    "    start_time = time.time()\n",
    "    pool = Pool(processes=6)\n",
    "    df['index'] = [x for x in range(len(df))]\n",
    "    A902['Код округа'] = A902['Код округа'].astype('str')\n",
    "    A902['Материал'] = A902['Материал'].astype('str')\n",
    "    A902['Материал'] = A902['Материал'].apply(lambda x: '0'+str(x) if  len(str(x))<9 else x)\n",
    "    A900['Материал'] = A900['Материал'].astype('str')\n",
    "    A900['Материал'] = A900['Материал'].apply(lambda x: '0'+str(x) if  len(str(x))<9 else x)\n",
    "    df['Материал'] = df['Материал'].astype('str')\n",
    "    KONP['Номер записи условий'] = KONP['Номер записи условий'].astype('str')\n",
    "    KONP['dd'] = ''\n",
    "    df['dd'] = ''\n",
    "    A902.fillna(0,inplace=True)\n",
    "    A900.fillna(0,inplace=True)\n",
    "    KONP.fillna(0,inplace=True)\n",
    "    convert_factor(df,A902,'Материал','Материал_902')\n",
    "    convert_factor(df,A902,'Код округа','Код округа_902')\n",
    "    convert_factor(df,A900,'Материал','Материал_900')\n",
    "    convert_factor(KONP,A902,'Номер записи условий','Номер записи условий_902')\n",
    "    convert_factor(KONP,A900,'Номер записи условий','Номер записи условий_900')\n",
    "    konp_gr = KONP.set_index(['Номер записи условий_902','dd'])\n",
    "    konp_gr2 = KONP.set_index(['Номер записи условий_900','dd'])\n",
    "    df['Цена'] = 0.0000\n",
    "    A900_ = A900[A900['Конец действия'].apply(lambda x: x.year)==current_date.year]\n",
    "    A902_ = A902[A902['Конец действия'].apply(lambda x: x.year)==current_date.year]\n",
    "    df.reset_index(inplace = True,drop = True)\n",
    "    arrs =  np.array_split(df,12)\n",
    "    arrs =  [(A900_,A902_,konp_gr,arr,pl_kurs,konp_gr2) for arr in arrs]\n",
    "    df_list = pool.map(func_read_ex.main_price_f, arrs)\n",
    "    df = pd.concat(df_list)\n",
    "    print(\"--- %s seconds ---\" % (time.time() - start_time))\n",
    "    pool.close()\n",
    "    df.drop('dd',axis = 1,inplace = True)\n",
    "    return df "
   ]
  },
  {
   "cell_type": "code",
   "execution_count": null,
   "metadata": {},
   "outputs": [],
   "source": [
    "aa = price_main__(df,A902,A900,KONP,current_date,345)\n"
   ]
  },
  {
   "cell_type": "code",
   "execution_count": null,
   "metadata": {},
   "outputs": [],
   "source": [
    "def convert_factor(df1,df2,col_from,col_to):\n",
    "    dic = dict(zip(pd.concat([df1[col_from].astype('str'),df2[col_from].astype('str')]).drop_duplicates(),pd.concat([df1[col_from].astype('str'),df2[col_from].astype('str')]).drop_duplicates().rank(method='dense')))\n",
    "    df1[col_to] =  df1[col_from].map(dic)\n",
    "    df2[col_to] =  df2[col_from].map(dic)\n",
    "    return "
   ]
  },
  {
   "cell_type": "code",
   "execution_count": null,
   "metadata": {},
   "outputs": [],
   "source": [
    "convert_factor(df,A902,'Материал','Материал_902')\n",
    "convert_factor(df,A902,'Код округа','Код округа_902')\n",
    "convert_factor(df,A900,'Материал','Материал_900')\n",
    "convert_factor(KONP,A902,'Номер записи условий','Номер записи условий_902')\n",
    "convert_factor(KONP,A900,'Номер записи условий','Номер записи условий_900')"
   ]
  },
  {
   "cell_type": "code",
   "execution_count": null,
   "metadata": {},
   "outputs": [],
   "source": []
  },
  {
   "cell_type": "code",
   "execution_count": null,
   "metadata": {
    "scrolled": true
   },
   "outputs": [],
   "source": []
  },
  {
   "cell_type": "code",
   "execution_count": null,
   "metadata": {},
   "outputs": [],
   "source": [
    "df['Материал_'] = df['Материал'].map(dict(zip()))"
   ]
  },
  {
   "cell_type": "code",
   "execution_count": null,
   "metadata": {},
   "outputs": [],
   "source": [
    "def convert_factor(df1,df2,col_from,col_to):\n",
    "    dic = dict(zip(pd.concat([df1[col_from],df2[col_from]]).drop_duplicates(),pd.concat([df1[col_from],df2[col_from]]).drop_duplicates().rank(method='dense')))\n",
    "    df1[col_to] =  df1[col_from].map(dic)\n",
    "    df2[col_to] =  df2[col_from].map(dic)\n",
    "    return"
   ]
  },
  {
   "cell_type": "code",
   "execution_count": null,
   "metadata": {},
   "outputs": [],
   "source": [
    "def price_main__(df,A902,A900,KONP,current_date,pl_kurs):\n",
    "    start_time = time.time()\n",
    "    pool = Pool(processes=6)\n",
    "    df['index'] = [x for x in range(len(df))]\n",
    "    A902['Код округа'] = A902['Код округа'].astype('str')\n",
    "    A902['Материал'] = A902['Материал'].astype('str')\n",
    "    A902['Материал'] = A902['Материал'].apply(lambda x: '0'+str(x) if  len(str(x))<9 else x)\n",
    "    A900['Материал'] = A900['Материал'].astype('str')\n",
    "    A900['Материал'] = A900['Материал'].apply(lambda x: '0'+str(x) if  len(str(x))<9 else x)\n",
    "    df['Материал'] = df['Материал'].astype('str')\n",
    "    KONP['Номер записи условий'] = KONP['Номер записи условий'].astype('str')\n",
    "    KONP['dd'] = ''\n",
    "    df['dd'] = ''\n",
    "    A902.fillna(0,inplace=True)\n",
    "    A900.fillna(0,inplace=True)\n",
    "    KONP.fillna(0,inplace=True)\n",
    "    konp_gr = KONP.set_index(['Номер записи условий','dd'])\n",
    "    df['Цена'] = 0.0000\n",
    "    A900_ = A900[A900['Конец действия'].apply(lambda x: x.year)==current_date.year]\n",
    "    A902_ = A902[A902['Конец действия'].apply(lambda x: x.year)==current_date.year]\n",
    "    df.reset_index(inplace = True,drop = True)\n",
    "    arrs =  np.array_split(df,12)\n",
    "    arrs =  [(A900_,A902_,konp_gr,arr,pl_kurs) for arr in arrs]\n",
    "    df_list = pool.map(func_read_ex.main_price_f, arrs)\n",
    "    df = pd.concat(df_list)\n",
    "    print(\"--- %s seconds ---\" % (time.time() - start_time))\n",
    "    pool.close()\n",
    "    df.drop('dd',axis = 1,inplace = True)\n",
    "    return df "
   ]
  },
  {
   "cell_type": "code",
   "execution_count": null,
   "metadata": {},
   "outputs": [],
   "source": [
    "iw13 = pd.read_excel(directory+'IW13.xlsx',sheet_name='Sheet1')"
   ]
  },
  {
   "cell_type": "code",
   "execution_count": null,
   "metadata": {},
   "outputs": [],
   "source": [
    "rcm = pd.read_excel(directory+'RCM.xlsx',sheet_name='Sheet1')"
   ]
  },
  {
   "cell_type": "code",
   "execution_count": null,
   "metadata": {},
   "outputs": [],
   "source": [
    "potr_with_ostatok_total['NB']"
   ]
  },
  {
   "cell_type": "code",
   "execution_count": null,
   "metadata": {},
   "outputs": [],
   "source": [
    "potr_with_ostatok_total['Плановик']"
   ]
  },
  {
   "cell_type": "code",
   "execution_count": null,
   "metadata": {},
   "outputs": [],
   "source": [
    "datetime.timedelta(days=calendar.monthrange(2019,1)[1])"
   ]
  },
  {
   "cell_type": "code",
   "execution_count": null,
   "metadata": {},
   "outputs": [],
   "source": [
    "import calendar"
   ]
  },
  {
   "cell_type": "code",
   "execution_count": null,
   "metadata": {},
   "outputs": [],
   "source": [
    "calendar.monthrange(2019,1)[1]"
   ]
  },
  {
   "cell_type": "code",
   "execution_count": null,
   "metadata": {},
   "outputs": [],
   "source": [
    "potr_with_ostatok_total['month']"
   ]
  },
  {
   "cell_type": "code",
   "execution_count": null,
   "metadata": {},
   "outputs": [],
   "source": [
    "iw13 = pd.read_excel(directory+'IW13.xlsx',sheet_name='Sheet1')\n",
    "rcm = pd.read_excel(directory+'RCM.xlsx',sheet_name='Sheet1')"
   ]
  },
  {
   "cell_type": "code",
   "execution_count": null,
   "metadata": {},
   "outputs": [],
   "source": [
    "del sprav_mat_cal_last_full"
   ]
  },
  {
   "cell_type": "code",
   "execution_count": null,
   "metadata": {},
   "outputs": [],
   "source": [
    "datetime.datetime.today() "
   ]
  },
  {
   "cell_type": "code",
   "execution_count": null,
   "metadata": {},
   "outputs": [],
   "source": [
    "datetime.datetime(datetime.datetime(2020, 2, 4, 13, 35, 49, 2853).year,datetime.datetime(2020, 2, 4, 13, 35, 49, 2853).month,1)"
   ]
  },
  {
   "cell_type": "code",
   "execution_count": null,
   "metadata": {},
   "outputs": [],
   "source": [
    "datetime.timedelta(50)"
   ]
  },
  {
   "cell_type": "code",
   "execution_count": null,
   "metadata": {},
   "outputs": [],
   "source": [
    "def ob_(args):\n",
    "    potr_with_ostatok_total = args[0]\n",
    "    potr_with_ostatok_total['БЗ'] = potr_with_ostatok_total.apply(lambda x:0 \\\n",
    "                              if x['Количество потребности']+x['Страховой запас']-x['Распределение_остатака']<=0 else \\\n",
    "                             x['Количество потребности']+x['Страховой запас']-x['Распределение_остатака'],axis = 1)\n",
    "    potr_with_ostatok_total['ПО'] = potr_with_ostatok_total.apply(lambda x:0 \\\n",
    "                              if x['Количество потребности']+x['Страховой запас']-x['Распределение_остатака']>=0 else \\\n",
    "                             x['Распределение_остатака']-x['Количество потребности']-x['Страховой запас']-x['БЗ'],axis = 1)\n",
    "    return df"
   ]
  },
  {
   "cell_type": "code",
   "execution_count": null,
   "metadata": {},
   "outputs": [],
   "source": [
    "def xxxx(x):\n",
    "    if x['Количество потребности']+x['Страховой запас']-x['Распределение_остатака']<=0:\n",
    "        return 0\n",
    "    else:\n",
    "        return x['Количество потребности']+x['Страховой запас']-x['Распределение_остатака']\n",
    "    \n",
    "    "
   ]
  },
  {
   "cell_type": "code",
   "execution_count": null,
   "metadata": {},
   "outputs": [],
   "source": [
    "def ob_big(df):\n",
    "    start_time = time.time()\n",
    "    pool = Pool(processes=4)\n",
    "\n",
    "    arrs =  np.array_split(df,12)\n",
    "    arrs =  [(arr) for arr in arrs]\n",
    "    df_list = pool.map(func_read_ex.ob_, arrs)\n",
    "    df = pd.concat(df_list)\n",
    "    print(\"--- %s seconds ---\" % (time.time() - start_time))\n",
    "    pool.close()\n",
    "    return df"
   ]
  },
  {
   "cell_type": "code",
   "execution_count": null,
   "metadata": {},
   "outputs": [],
   "source": [
    "\n",
    "aa = ob_big(potr_with_ostatok_total)"
   ]
  },
  {
   "cell_type": "code",
   "execution_count": null,
   "metadata": {},
   "outputs": [],
   "source": [
    "potr_with_ostatok_total"
   ]
  },
  {
   "cell_type": "code",
   "execution_count": null,
   "metadata": {},
   "outputs": [],
   "source": [
    "potr_with_ostatok_total.loc[0]"
   ]
  },
  {
   "cell_type": "code",
   "execution_count": null,
   "metadata": {},
   "outputs": [],
   "source": [
    "for i in potr_with_ostatok_total.index:\n",
    "    row = potr_with_ostatok_total.loc[i]\n",
    "    potr_with_ostatok_total.loc[i,'БЗ'] = xxxx(row)\n",
    "    "
   ]
  },
  {
   "cell_type": "code",
   "execution_count": null,
   "metadata": {},
   "outputs": [],
   "source": [
    "iw13 = pd.read_excel(directory+'IW13.xlsx',sheet_name='Sheet1')\n",
    "rcm = pd.read_excel(directory+'RCM.xlsx',sheet_name='Sheet1')"
   ]
  },
  {
   "cell_type": "code",
   "execution_count": null,
   "metadata": {},
   "outputs": [],
   "source": [
    "potr_with_ostatok_total['Распределение_остатака'].unique()"
   ]
  },
  {
   "cell_type": "code",
   "execution_count": null,
   "metadata": {},
   "outputs": [],
   "source": [
    "for col in potr_with_ostatok_total.columns:\n",
    "    if isinstance(potr_with_ostatok_total.loc[0,col], Decimal):\n",
    "        potr_with_ostatok_total[col] = potr_with_ostatok_total[col].astype('float64')\n",
    "    "
   ]
  },
  {
   "cell_type": "code",
   "execution_count": null,
   "metadata": {},
   "outputs": [],
   "source": [
    "for i in potr_with_ostatok_total.dtypes:\n",
    "    print (i)"
   ]
  },
  {
   "cell_type": "code",
   "execution_count": null,
   "metadata": {},
   "outputs": [],
   "source": [
    "def save_csv(df,path):\n",
    "    data = df.copy()\n",
    "#     for col in data.columns:\n",
    "#         if isinstance(data.loc[0,col], Decimal):\n",
    "# #             print(col)\n",
    "#             data[col] = data[col].astype('float64')\n",
    "            \n",
    "    \n",
    "    data.to_csv(path,decimal=',',float_format='%.6f',sep = ';')\n",
    "    del data"
   ]
  },
  {
   "cell_type": "code",
   "execution_count": null,
   "metadata": {
    "scrolled": true
   },
   "outputs": [],
   "source": [
    "save_csv(potr_with_ostatok_total,directory+'total.csv')"
   ]
  },
  {
   "cell_type": "code",
   "execution_count": null,
   "metadata": {},
   "outputs": [],
   "source": [
    "potr_with_ostatok_total['Обеспеченность, кол-во, %'].unique()"
   ]
  },
  {
   "cell_type": "code",
   "execution_count": null,
   "metadata": {},
   "outputs": [],
   "source": [
    "potr_with_ostatok_total['Обеспеченность, кол-во, %'] = potr_with_ostatok_total.apply(lambda x:  obesp__kolvo_proc(x),axis = 1)"
   ]
  },
  {
   "cell_type": "code",
   "execution_count": null,
   "metadata": {},
   "outputs": [],
   "source": [
    "potr_with_ostatok_total['Распределение_остатака'].sum()"
   ]
  },
  {
   "cell_type": "code",
   "execution_count": null,
   "metadata": {},
   "outputs": [],
   "source": [
    "potr_with_ostatok_total['стрЗапас'].sum()"
   ]
  },
  {
   "cell_type": "code",
   "execution_count": null,
   "metadata": {},
   "outputs": [],
   "source": [
    "tt = pd.read_csv(directory+'total.csv',sep = ';',parse_dates=['Дата потребности'],dtype={'Материал':'str','Завод':'str'})"
   ]
  },
  {
   "cell_type": "code",
   "execution_count": null,
   "metadata": {
    "scrolled": true
   },
   "outputs": [],
   "source": [
    "tt['Распределение_остатака'].values"
   ]
  },
  {
   "cell_type": "code",
   "execution_count": null,
   "metadata": {},
   "outputs": [],
   "source": [
    "tt['Распределение_остатака'].sum()"
   ]
  },
  {
   "cell_type": "code",
   "execution_count": null,
   "metadata": {},
   "outputs": [],
   "source": [
    "directory = 'C:\\\\Users\\\\Илья\\\\Desktop\\\\kazzinc\\\\Uploads1\\\\'"
   ]
  },
  {
   "cell_type": "code",
   "execution_count": null,
   "metadata": {},
   "outputs": [],
   "source": [
    "potr_with_ostatok_total['Распределение_остатака']"
   ]
  },
  {
   "cell_type": "code",
   "execution_count": null,
   "metadata": {},
   "outputs": [],
   "source": [
    "tt = potr_with_ostatok_total['Распределение_остатака']"
   ]
  },
  {
   "cell_type": "code",
   "execution_count": null,
   "metadata": {},
   "outputs": [],
   "source": [
    "potr_with_ostatok_total.to_json(directory+'total.json')"
   ]
  },
  {
   "cell_type": "code",
   "execution_count": null,
   "metadata": {},
   "outputs": [],
   "source": [
    "potr_with_ostatok_total['Распределение_остатака'].sum()"
   ]
  },
  {
   "cell_type": "code",
   "execution_count": null,
   "metadata": {},
   "outputs": [],
   "source": [
    "iw13 = pd.read_excel(directory+'IW13.xlsx',sheet_name='Sheet1')\n",
    "rcm = pd.read_excel(directory+'RCM.xlsx',sheet_name='Sheet1')"
   ]
  },
  {
   "cell_type": "code",
   "execution_count": null,
   "metadata": {},
   "outputs": [],
   "source": [
    "potr_with_ostatok_total.name = 'f0_vertical_01'\n",
    "save_backup('backup_for_sql.h5',[potr_with_ostatok_total])"
   ]
  },
  {
   "cell_type": "code",
   "execution_count": null,
   "metadata": {},
   "outputs": [],
   "source": [
    "potr_with_ostatok_total = get_in_backup(path_backup='backup_for_sql.h5',name='f0_vertical_01')"
   ]
  },
  {
   "cell_type": "code",
   "execution_count": null,
   "metadata": {},
   "outputs": [],
   "source": []
  },
  {
   "cell_type": "code",
   "execution_count": null,
   "metadata": {},
   "outputs": [],
   "source": [
    "ost_Q1[f_tr]['Партия'].unique()"
   ]
  },
  {
   "cell_type": "code",
   "execution_count": null,
   "metadata": {},
   "outputs": [],
   "source": [
    "f_tr = ost_Q1.apply(lambda x: True if x['Партия'][:2].isalpha() and x['Партия'][-2:].isalpha()==False else False,axis = 1)\n",
    "for ind in ost_Q1[f_tr].index:\n",
    "    st = ost_Q1.loc[ind,'Завод+НН'].split(' ')\n",
    "    st[0] = ost_Q1.loc[ind,'Партия'][-4:]\n",
    "    ost_Q1.loc[ind,'Завод+НН'] = ' '.join(st)\n",
    "    \n",
    "    ost_Q1.loc[ind,'Завод'] = ost_Q1.loc[ind,'Партия'][-4:]\n",
    "    \n",
    "    st = ost_Q1.loc[ind,'Завод+Склад'].split(' ')\n",
    "    st[0] = ost_Q1.loc[ind,'Партия'][-4:]\n",
    "    ost_Q1.loc[ind,'Завод+Склад'] = ' '.join(st)\n",
    "    \n",
    "    st = ost_Q1.loc[ind,'Завод+склад+партия+особый запас+НН'].split(' ')\n",
    "    st[0] = ost_Q1.loc[ind,'Партия'][-4:]\n",
    "    ost_Q1.loc[ind,'Завод+склад+партия+особый запас+НН'] = ' '.join(st)\n",
    "    \n",
    "    "
   ]
  },
  {
   "cell_type": "code",
   "execution_count": null,
   "metadata": {},
   "outputs": [],
   "source": [
    "# проверка распределения остатка и формирование сцепки с основным листом\n",
    "# работа пок онсолидаци остатков\n",
    "neraspr_ostat = ost_copy1[(ost_copy1['осталось']>0)&(ost_copy1['Cвободный запас']>0)]['Cвободный запас'].sum()\n",
    "ost_Q = ost_start[(ost_start['Cвободный запас']>0)&(ost_start['Особый запас']=='Q')]\n",
    "ost_Q['Признак Q остатка'] = True\n",
    "\n",
    "ost_Q1 = ost_start[(ost_start['Cвободный запас']==0)&(ost_start['Особый запас']!='Q')]\n",
    "ost_Q  = pd.concat([ost_Q,ost_Q1])\n",
    "ost_Q.fillna(0,inplace=True)\n",
    "ost_q_sum = ost_Q['Кол-во запаса в конце периода'].sum()\n",
    "ff = ost_block[['Завод+склад+партия+особый запас+НН','Блокированный запас','Завод+НН','Комплекс']]\n",
    "ost_with_block  =  pd.merge(ost_copy1,ff,how='outer')\n",
    "block_zap = ost_with_block['Блокированный запас'].sum()\n",
    "ost_with_block.fillna(0,inplace = True)\n",
    "prov_ost = potr_copy_for_prihod['Распределение_остатака'].sum()+neraspr_ostat+ost_q_sum+block_zap\n",
    "ost_copy1['Cвободный запас'] = ost_copy1['осталось']\n",
    "ost_copy1['Стоимость свободного остатка'] = (ost_copy1['Ст-ть запаса в конце периода']    / ost_copy1['Кол-во запаса в конце периода']) * ost_copy1['осталось']\n",
    "# 1составляющая нераспределенный остаток\n",
    "neraspr_ostat_tab = ost_copy1[(ost_copy1['осталось']>0)&(ost_copy1['Cвободный запас']>0)][['Комплекс','Завод+НН','Cвободный запас','Стоимость свободного остатка']].groupby(['Комплекс','Завод+НН']).sum().reset_index()\n",
    "neraspr_ostat_tab['Признак нераспределнного остатка'] = True\n",
    "# 2составляющая нераспределенный остаток\n",
    "ost_Q_tab = ost_Q[['Признак Q остатка','Комплекс','Завод+НН','Cвободный запас','Стоимость свободного остатка','Базовая ЕИ','Материал']].groupby(['Комплекс','Завод+НН']).sum().reset_index()\n",
    "# ost_Q_tab['Признак Q остатка'] = 0\n",
    "\n",
    "\n",
    "ost1 = neraspr_ostat_tab[['Комплекс','Завод+НН','Cвободный запас','Стоимость свободного остатка']]"
   ]
  },
  {
   "cell_type": "code",
   "execution_count": null,
   "metadata": {},
   "outputs": [],
   "source": [
    "ost_Q1[f_tr]"
   ]
  },
  {
   "cell_type": "code",
   "execution_count": null,
   "metadata": {},
   "outputs": [],
   "source": [
    "ost_Q1[ost_Q1['Партия']=='KO']"
   ]
  },
  {
   "cell_type": "code",
   "execution_count": null,
   "metadata": {},
   "outputs": [],
   "source": [
    "potr_with_ostatok_total['Завод']  = potr_with_ostatok_total['Завод+НН'].str.split(' #').apply(lambda x: x[0])\n",
    "spr_zav_obl =  rev_to_dict(sprav_mdlv['Область ППМ'].astype('str').str.strip(),sprav_mdlv['Текст ОблПланирПотр'])\n",
    "potr_with_ostatok_total['Имя Завода'] = potr_with_ostatok_total.apply(lambda x: insert_vpr(x['Завод'],spr_zav_obl,'Текст ОблПланирПотр')  if x['Область ППМ']=='' or x['Область ППМ']==0 else insert_vpr(x['Область ППМ'],spr_zav_obl,'Текст ОблПланирПотр'),axis = 1 )"
   ]
  },
  {
   "cell_type": "code",
   "execution_count": null,
   "metadata": {},
   "outputs": [],
   "source": [
    "potr_with_ostatok_total['Имя Завода'].value_counts()"
   ]
  },
  {
   "cell_type": "code",
   "execution_count": null,
   "metadata": {},
   "outputs": [],
   "source": [
    "potr_with_ostatok_total[potr_with_ostatok_total['Имя Завода']==0]['Завод'].unique()"
   ]
  },
  {
   "cell_type": "code",
   "execution_count": null,
   "metadata": {},
   "outputs": [],
   "source": [
    "for ind, i in enumerate(np.array_split(c_f0,2)) :\n",
    "    save_pyex(df=i,path='C:\\\\Users\\\\Илья\\\\Desktop\\\\kazzinc\\\\Uploads1\\\\extr_xlsx\\\\'+str(ind)+'.xlsx')"
   ]
  },
  {
   "cell_type": "code",
   "execution_count": null,
   "metadata": {},
   "outputs": [],
   "source": [
    "c_f0"
   ]
  },
  {
   "cell_type": "code",
   "execution_count": null,
   "metadata": {},
   "outputs": [],
   "source": [
    "save_pyex(df=potr_with_ostatok_total[potr_with_ostatok_total['Категория_запаса']=='Востребованный'][:100000],path='C:\\\\Users\\\\Илья\\\\Desktop\\\\kazzinc\\\\Uploads1\\\\extr_xlsx\\\\111.xlsx')"
   ]
  },
  {
   "cell_type": "code",
   "execution_count": null,
   "metadata": {},
   "outputs": [],
   "source": [
    "potr_with_ostatok_total['Распределение_остатака'].sum()"
   ]
  },
  {
   "cell_type": "code",
   "execution_count": null,
   "metadata": {},
   "outputs": [],
   "source": [
    "potr_with_ostatok_total"
   ]
  },
  {
   "cell_type": "code",
   "execution_count": null,
   "metadata": {},
   "outputs": [],
   "source": []
  },
  {
   "cell_type": "code",
   "execution_count": null,
   "metadata": {},
   "outputs": [],
   "source": []
  },
  {
   "cell_type": "code",
   "execution_count": null,
   "metadata": {},
   "outputs": [],
   "source": []
  },
  {
   "cell_type": "code",
   "execution_count": null,
   "metadata": {},
   "outputs": [],
   "source": []
  },
  {
   "cell_type": "code",
   "execution_count": null,
   "metadata": {},
   "outputs": [],
   "source": [
    "# заполняем дополнительные столбцы в экстракте\n",
    "\n",
    "# df = df[df['Дата потребности']<=datetime.datetime(2020,2,29)]\n",
    "df['Завод'] = df['Завод'].apply(lambda x: str(x).replace('.0','')).astype('str')\n",
    "spr_zav_dict = rev_to_dict(sprav_po_kompl['Завод'],sprav_po_kompl['ЦС/ПЗ'])\n",
    "df['ЦС/ПЗ'] = df['Завод'].apply(lambda x:  insert_vpr(x,spr_zav_dict,'ЦС/ПЗ'))\n",
    "df['Номер потребности'] = df['Номер потребности'].apply(lambda x: str(x).replace('.0','')).astype('str')\n",
    "df['МВЗ'] = df['МВЗ'].apply(lambda x: str(x).replace('.0','')).astype('str')\n",
    "df['Материал'] = df['Материал'].apply(lambda x: str(x).replace('.0','')).astype('str')\n",
    "\n",
    "df['Тип материала'] = df['Тип материала'].apply(lambda x: str(x).replace('.0','')).astype('str')\n",
    "df['БЕ'] = df['БЕ'].apply(lambda x: str(x).replace('.0','')).astype('str')\n",
    "\n",
    "\n",
    "\n",
    "# недропользование неполнятно\n",
    "spr_nedra = rev_to_dict(sprav_nedra['Завод + Склад'],sprav_nedra['Завод + Склад'])\n",
    "# df['Недропользование']= df['Завод'].apply(lambda x: insert_vpr(x,spr_nedra,'Завод'))   \n",
    "df['Склад потребности'] = df['Склад потребности'].apply(lambda x: str(x).replace('.0','')).astype('str')\n",
    "df['Завод + Склад'] = df['Завод']+' '+df['Склад потребности']\n",
    "df['Недропользование'] = df['Завод + Склад'].apply(lambda x: 0 if   insert_vpr(x,spr_nedra,'Завод + Склад')==0 else 1)\n",
    "\n",
    "# Вывод по докум-ам потребности\n",
    "df['Вывод по документам потребности'] = df.apply(lambda x: formula_vivod_po_doc_potrebn(x),axis=1 )\n",
    "\n",
    "\n",
    "df['Вывод по документам пополнения'] = df.apply(lambda x: formula_vivod_po_doc_popolneniya(x),axis=1 )"
   ]
  },
  {
   "cell_type": "code",
   "execution_count": null,
   "metadata": {},
   "outputs": [],
   "source": [
    "df['ЦС/ПЗ'].value_counts()"
   ]
  },
  {
   "cell_type": "code",
   "execution_count": null,
   "metadata": {},
   "outputs": [],
   "source": [
    "df['Модуль'] = df.apply(lambda x: modul(x),axis=1 )"
   ]
  },
  {
   "cell_type": "code",
   "execution_count": null,
   "metadata": {},
   "outputs": [],
   "source": [
    "df['Завод+НН'] = df['Завод'].astype('str')+' #'+df['Материал'].astype('str')\n",
    "df['Завод+НН'] = df['Завод+НН'].str.strip()\n",
    "\n",
    "df['Номер элемента пополнения'] = df['Номер элемента пополнения'].apply(lambda x: str(x).replace('.0',''))\n",
    "\n",
    "df['Номер элемента пополнения + Номер позиции пополнения'] = df['Номер элемента пополнения'].astype('str')+' '+df['Номер позиции пополнения'].astype('str')\n",
    "df['Материал'] = df['Материал'].apply(lambda x: '0'+str(x) if  len(str(x))<9 else x)\n",
    "\n",
    "\n",
    "sprav_mat_cal_last_full = sprav_mat_cal.copy()\n",
    "\n",
    "to_str_spr_mat = ['СтатусМтрл на заводе','Завод','Материал']\n",
    "\n",
    "for i in to_str_spr_mat:\n",
    "    sprav_mat_cal_last_full[i].fillna(0,inplace = True)\n",
    "    sprav_mat_cal_last_full[i] = sprav_mat_cal_last_full[i].apply(lambda x: str(x).replace('.0','')).astype('str')\n",
    "    sprav_mat_cal_last_full[i] = sprav_mat_cal_last_full[i].apply(lambda x: '' if x=='0' or x==0 else x)\n",
    "    sprav_mat_cal[i].fillna(0,inplace = True)\n",
    "    sprav_mat_cal[i] = sprav_mat_cal[i].apply(lambda x: str(x).replace('.0','')).astype('str')\n",
    "    sprav_mat_cal[i] = sprav_mat_cal[i].apply(lambda x: '' if x=='0' or x==0 else x)\n",
    "\n",
    "sprav_mat_cal_last_full['Материал'] = sprav_mat_cal_last_full['Материал'].apply(lambda x: '0'+str(x) if  len(str(x))<9 else x)\n",
    "\n",
    "sprav_mat_cal['Завод'] = sprav_mat_cal['Завод'].apply(lambda x: str(x).replace('.0','')).astype('str')\n",
    "sprav_mat_cal['Материал'] = sprav_mat_cal['Материал'].apply(lambda x: str(x).replace('.0','')).astype('str')\n",
    "sprav_mat_cal['Материал'] = sprav_mat_cal['Материал'].apply(lambda x: '0'+str(x) if  len(str(x))<9 else x)\n",
    "\n",
    "sprav_mat_cal = sprav_mat_cal[sprav_mat_cal['Материал'].isin(df['Материал'].unique())]\n",
    "\n",
    "\n",
    "\n",
    "df['Номер элемента пополнения + Номер позиции пополнения + Наименование типа элемента ППМ пополн'] = df['Номер элемента пополнения + Номер позиции пополнения'].astype('str')+ df.apply(lambda x: 'ПртПЗк' if x['Вид документа пополнения']=='UB05'else x['Наименование типа элемента ППМ пополн'] ,axis=1).astype('str')\n",
    "\n",
    "\n",
    "\n",
    "df['Номер элемента пополнения + Номер позиции пополнения'] = df['Номер элемента пополнения'].astype('str')+' '+df['Номер позиции пополнения'].astype('str')\n",
    "\n",
    "df['Область ППМ'] = df['Область ППМ'].apply(lambda x: str(x).replace('.0','')).astype('str')\n",
    "\n",
    "df['Область ППМ'] = df['Область ППМ'].apply(lambda x:\"\" if x=='0' else x)\n",
    "\n",
    "\n",
    "df['Завод + Область ППМ'] = df['Завод'].astype('str')+' '+df['Область ППМ'].astype('str')\n",
    "\n",
    "# чистим\n",
    "df['Завод + Область ППМ'] =  df['Завод + Область ППМ'].apply(lambda x: str(x).replace('0.0','').replace('.0','')).str.strip()\n",
    "\n"
   ]
  },
  {
   "cell_type": "code",
   "execution_count": null,
   "metadata": {},
   "outputs": [],
   "source": [
    "spr_zav_obl =  rev_to_dict(sprav_mdlv['Область ППМ'].astype('str').str.strip(),sprav_mdlv['Текст ОблПланирПотр'])\n",
    "df['Имя Завода'] = df.apply(lambda x: insert_vpr(x['Завод'],spr_zav_obl,'Текст ОблПланирПотр')  if x['Область ППМ']=='' else insert_vpr(x['Область ППМ'],spr_zav_obl,'Текст ОблПланирПотр'),axis = 1 )"
   ]
  },
  {
   "cell_type": "code",
   "execution_count": null,
   "metadata": {},
   "outputs": [],
   "source": [
    "df['Область ППМ'].unique()"
   ]
  },
  {
   "cell_type": "code",
   "execution_count": null,
   "metadata": {},
   "outputs": [],
   "source": [
    "spr_zav_kompl = rev_to_dict(sprav_po_kompl['Завод + Область ППМ'].astype('str').str.strip(),sprav_po_kompl['Комплекс'])\n",
    "df['Комплекс'] = df['Завод + Область ППМ'].apply(lambda x: insert_vpr(x,spr_zav_kompl,'Комплекс') )"
   ]
  },
  {
   "cell_type": "code",
   "execution_count": null,
   "metadata": {},
   "outputs": [],
   "source": [
    "df['Комплекс'].value_counts()"
   ]
  },
  {
   "cell_type": "code",
   "execution_count": null,
   "metadata": {},
   "outputs": [],
   "source": [
    "df[df['Комплекс']==0]['Завод + Область ППМ'].unique()"
   ]
  },
  {
   "cell_type": "code",
   "execution_count": null,
   "metadata": {},
   "outputs": [],
   "source": [
    "spr_zav_kompl"
   ]
  },
  {
   "cell_type": "code",
   "execution_count": null,
   "metadata": {},
   "outputs": [],
   "source": [
    "df['Заказчик + HH'] =df['Комплекс'].astype('str')+' '+df['Материал'].astype('str')\n",
    "\n",
    "\n",
    "df['month'] = df['Дата потребности'].apply(lambda x: str(x.year)+'-'+str(x.month)+ '-01')\n",
    "df['month'] = pd.to_datetime(df['month']) \n",
    "\n",
    "\n",
    "\n",
    "\n",
    "\n",
    "\n",
    "\n",
    "\n",
    "\n"
   ]
  },
  {
   "cell_type": "code",
   "execution_count": null,
   "metadata": {},
   "outputs": [],
   "source": [
    "spr_for_obl_ppm = pd.read_excel(directory+'MDLG.xlsx',sheet_name='Sheet1')"
   ]
  },
  {
   "cell_type": "code",
   "execution_count": null,
   "metadata": {},
   "outputs": [],
   "source": [
    "spr_obl_ppm = rev_to_dict(spr_for_obl_ppm['Завод'].apply(lambda x: str(x).replace('.0','')).astype('str')+spr_for_obl_ppm['Склад'].\\\n",
    "            apply(lambda x: str(x).replace('.0','')).astype('str'),spr_for_obl_ppm['Область ППМ'])\n",
    "df['Область ППМ'] =df['Область ППМ'] = df\\\n",
    "                                    .apply(lambda x: x['Завод'] if    insert_vpr(x['Завод']+x['Склад потребности'],spr_obl_ppm,'Область ППМ')==0 else  \\\n",
    "                                     insert_vpr(x['Завод']+x['Склад потребности'],spr_obl_ppm,'Область ППМ'),axis = 1).astype('str')\n",
    "spr_kod_okruga= rev_to_dict(ZMM_E0078_MDLV['Область ППМ'].astype('str').str.strip(),ZMM_E0078_MDLV['Код округа'])\n",
    "df['Код округа'] = df['Область ППМ'].apply(lambda x:  insert_vpr(x,spr_kod_okruga,'Код округа'))"
   ]
  },
  {
   "cell_type": "code",
   "execution_count": null,
   "metadata": {},
   "outputs": [],
   "source": [
    "df.apply(lambda x: insert_vpr(x['Завод']+x['Склад потребности'],spr_obl_ppm,'Область ППМ'),axis = 1).astype('str').unique()"
   ]
  },
  {
   "cell_type": "code",
   "execution_count": null,
   "metadata": {},
   "outputs": [],
   "source": [
    "df.apply(lambda x: insert_vpr(x['Завод']+x['Склад потребности'],spr_obl_ppm,'Область ППМ'),axis = 1).astype('str').value_counts()"
   ]
  },
  {
   "cell_type": "code",
   "execution_count": null,
   "metadata": {},
   "outputs": [],
   "source": [
    "df['Код округа'].value_counts()"
   ]
  },
  {
   "cell_type": "code",
   "execution_count": null,
   "metadata": {},
   "outputs": [],
   "source": [
    "df['Код округа'].value_counts()"
   ]
  },
  {
   "cell_type": "code",
   "execution_count": null,
   "metadata": {
    "scrolled": true
   },
   "outputs": [],
   "source": [
    "df[df['Код округа']==0]['Область ППМ'].unique()"
   ]
  },
  {
   "cell_type": "code",
   "execution_count": null,
   "metadata": {},
   "outputs": [],
   "source": [
    "central_zavod['Область ППМ'] = central_zavod['Область ППМ'].astype('str')\n",
    "spr_obl_ppm_centr_zav = rev_to_dict(central_zavod['Область ППМ'],central_zavod['Центральный Завод'])\n",
    "df['Центральный завод'] = df['Область ППМ'].apply(lambda x:  insert_vpr(x,spr_obl_ppm_centr_zav,'Центральный Завод'))\n",
    "\n",
    "spr_obl_ppm_centr_zav = rev_to_dict(sprav_mat_cal['Завод']+' #'+sprav_mat_cal['Материал'],sprav_mat_cal['Краткий текст материала'])\n",
    "df['КрТекстМатериала'] = df['Завод+НН'].apply(lambda x:  insert_vpr(x,spr_obl_ppm_centr_zav,'Краткий текст материала'))\n",
    "\n",
    "spr_obl_ppm_baz_ei = rev_to_dict(sprav_mat_cal['Завод']+' #'+sprav_mat_cal['Материал'],sprav_mat_cal['Базовая ЕИ'])\n",
    "df['Базовая ЕИ'] = df['Завод+НН'].apply(lambda x:  insert_vpr(x,spr_obl_ppm_baz_ei,'Базовая ЕИ'))\n",
    "\n",
    "spr_obl_ppm_ved_mat = rev_to_dict(sprav_mat_cal['Завод']+' #'+sprav_mat_cal['Материал'],sprav_mat_cal['Ведущий материал'])\n",
    "df['Признак аналога'] = df['Завод+НН'].apply(lambda x:  insert_vpr(x,spr_obl_ppm_ved_mat,'Ведущий материал'))\n",
    "\n",
    "spr_obl_ppm_stat_na_zav = rev_to_dict(sprav_mat_cal['Завод']+' #'+sprav_mat_cal['Материал'],sprav_mat_cal['СтатусМтрл на заводе'])\n",
    "df['СтатусМтрл на заводе'] = df['Завод+НН'].apply(lambda x:  insert_vpr(x,spr_obl_ppm_stat_na_zav,'СтатусМтрл на заводе'))\n",
    "\n",
    "\n",
    "spr_obl_ppm_ocenka = rev_to_dict(sprav_mat_cal['Материал'],sprav_mat_cal['Класс оценки'])\n",
    "df['Класс оценки'] = df['Материал'].apply(lambda x:  insert_vpr(x,spr_obl_ppm_ocenka,'Класс оценки'))\n",
    "df['Класс оценки'] = df['Класс оценки'].apply(lambda x: str(x).replace('.0','')).astype('str')\n",
    "\n",
    "\n",
    "\n",
    "\n",
    "spr_obl_ppm_name_planov= rev_to_dict(sprav_mat_cal['Завод']+' #'+sprav_mat_cal['Материал'],sprav_mat_cal['Имя плановика (завод)'])\n",
    "df['ЦЗ+НН'] = df['Центральный завод'].astype('str')+' #'+df['Материал'].astype('str')\n",
    "df['Плановик'] = df['ЦЗ+НН'].apply(lambda x:  insert_vpr(x,spr_obl_ppm_name_planov,'Имя плановика (завод)'))\n",
    "\n",
    "\n",
    "spr_group_mat_l1 = rev_to_dict(group_mat[group_mat['Группа материалов'].str.len()==2]['Группа материалов'],group_mat[group_mat['Группа материалов'].str.len()==2]['Обозначение 2 группы материалов'])\n",
    "df['группа'] = df['Материал'].str[:2].apply(lambda x:  insert_vpr(x,spr_group_mat_l1,'Обозначение 2 группы материалов'))\n",
    "\n",
    "spr_group_mat_l2 = rev_to_dict(group_mat[group_mat['Группа материалов'].str.len()==4]['Группа материалов'],group_mat[group_mat['Группа материалов'].str.len()==4]['Обозначение 2 группы материалов'])\n",
    "df['подгруппа'] = df['Материал'].str[:4].apply(lambda x:  insert_vpr(x,spr_group_mat_l2,'Обозначение 2 группы материалов'))\n",
    "\n",
    "\n",
    "spr_group_mat_l3 = rev_to_dict(group_mat[group_mat['Группа материалов'].str.len()==6]['Группа материалов'],group_mat[group_mat['Группа материалов'].str.len()==6]['Обозначение 2 группы материалов'])\n",
    "df['подподгруппа'] = df['Материал'].str[:6].apply(lambda x:  insert_vpr(x,spr_group_mat_l3,'Обозначение 2 группы материалов'))\n",
    "\n",
    "df['ТИП номенклатуры'] = 0.0\n"
   ]
  },
  {
   "cell_type": "code",
   "execution_count": null,
   "metadata": {},
   "outputs": [],
   "source": [
    "KONP['Индикатор удаления'].unique()"
   ]
  },
  {
   "cell_type": "code",
   "execution_count": null,
   "metadata": {},
   "outputs": [],
   "source": [
    "KONP = KONP[KONP['Индикатор удаления']!='X']"
   ]
  },
  {
   "cell_type": "code",
   "execution_count": null,
   "metadata": {},
   "outputs": [],
   "source": [
    "df = price_main__(df,A902,A900,KONP,current_date,pl_kurs)"
   ]
  },
  {
   "cell_type": "code",
   "execution_count": null,
   "metadata": {},
   "outputs": [],
   "source": [
    "df[(df['Материал']=='060102003')&(df['Цена']==1)]['Код округа'].unique()"
   ]
  },
  {
   "cell_type": "code",
   "execution_count": null,
   "metadata": {
    "scrolled": true
   },
   "outputs": [],
   "source": [
    "df[df['Материал']=='060102003']"
   ]
  },
  {
   "cell_type": "code",
   "execution_count": null,
   "metadata": {},
   "outputs": [],
   "source": [
    "A902[A902['Материал']=='060102003']"
   ]
  },
  {
   "cell_type": "code",
   "execution_count": null,
   "metadata": {},
   "outputs": [],
   "source": [
    "A900[A900['Материал']=='060102003']"
   ]
  },
  {
   "cell_type": "code",
   "execution_count": null,
   "metadata": {},
   "outputs": [],
   "source": [
    "KONP[KONP['Номер записи условий']=='0000391305']"
   ]
  },
  {
   "cell_type": "code",
   "execution_count": null,
   "metadata": {},
   "outputs": [],
   "source": [
    "spr_zav_mat = rev_to_dict(sprav_mat_cal['Завод']+' '+sprav_mat_cal['Материал'],sprav_mat_cal['Плановый срок поставки (завод)'])\n",
    "df['Центральный завод'] = df['Центральный завод'].astype('str')\n",
    "for i in df.index:\n",
    "        try:\n",
    "            if df.at[i,'Недропользование']==1:df.at[i,'ПлановСрокПоставки'] =  spr_zav_mat[df.at[i,'Завод']+' '+df.at[i,'Материал']]['Плановый срок поставки (завод)']\n",
    "            else:df.at[i,'ПлановСрокПоставки'] = spr_zav_mat[df.at[i,'Центральный завод']+' '+df.at[i,'Материал']]['Плановый срок поставки (завод)']\n",
    "        except KeyError:\n",
    "            pass\n",
    "\n",
    "\n",
    "df.fillna(0,inplace=True)\n",
    "\n",
    "# копия для формирования страхового запаса\n",
    "df_str_zap = df.copy()\n",
    "# df_str_zap = df_str_zap[df_str_zap['Дата потребности']<=datetime.datetime(2020,2,29)]\n",
    "df_str_zap.name =  'df_str_zap'\n",
    "# df = df[df['Дата потребности']<=datetime.datetime(2020,2,29)]\n",
    "\n",
    "df = df[(df['ЦС/ПЗ']=='ПЗ')&(df['Вывод по документам потребности']=='OK')&(df['Баланс (закрытие потребности)']==0)&(df['Тип ППМ']=='PD')]\n",
    "df = df[df['Материал'].apply(lambda x:len(x)<=10)]\n",
    "mat_cat_str_zap = sprav_mat_cal_last_full[sprav_mat_cal_last_full['Страховой запас']>0]\n",
    "df = pd.concat([df,mat_cat_str_zap[['Материал','Завод','Код округа','Страховой запас']]])\n",
    "\n",
    "df.fillna(0,inplace = True)\n",
    "\n",
    "df['month'] =    df.apply(lambda x: datetime.datetime(2199,1,1)  if x['Страховой запас']>0 else x['month'],axis = 1)\n",
    "df['Дата потребности'] =    df.apply(lambda x: datetime.datetime(2199,1,1)  if x['Страховой запас']>0 else x['Дата потребности'],axis = 1)\n",
    "df['ЦС/ПЗ'] =  df.apply(lambda x: 'ПЗ'  if x['Страховой запас']>0 else x['ЦС/ПЗ'],axis = 1)\n",
    "df['Завод+НН'] = df['Завод'].astype('str')+' #'+df['Материал'].astype('str')\n",
    "df['Завод+НН'] = df['Завод+НН'].str.strip()\n",
    "df.reset_index(inplace = True,drop = True)"
   ]
  },
  {
   "cell_type": "code",
   "execution_count": null,
   "metadata": {},
   "outputs": [],
   "source": [
    "# spr_zav_kompl = rev_to_dict(sprav_po_kompl['Завод + Область ППМ'].astype('str').str.strip(),sprav_po_kompl['Комплекс'])\n",
    "df['Комплекс'] = df.apply(lambda x:  insert_vpr(x['Завод'],spr_zav_kompl,'Комплекс') if x['Комплекс']==0 else x['Комплекс'],axis = 1)"
   ]
  },
  {
   "cell_type": "code",
   "execution_count": null,
   "metadata": {},
   "outputs": [],
   "source": [
    "spr_zav_kompl"
   ]
  },
  {
   "cell_type": "code",
   "execution_count": null,
   "metadata": {},
   "outputs": [],
   "source": [
    "df['Комплекс'].value_counts()"
   ]
  },
  {
   "cell_type": "code",
   "execution_count": null,
   "metadata": {},
   "outputs": [],
   "source": [
    "potr_with_ostatok_total['Сумма стрЗап'].sum()"
   ]
  },
  {
   "cell_type": "code",
   "execution_count": null,
   "metadata": {
    "scrolled": true
   },
   "outputs": [],
   "source": [
    "potr_with_ostatok_total[potr_with_ostatok_total['стрЗапас']>0]"
   ]
  },
  {
   "cell_type": "code",
   "execution_count": null,
   "metadata": {
    "scrolled": true
   },
   "outputs": [],
   "source": [
    "df['Особый запас'].unique()"
   ]
  },
  {
   "cell_type": "code",
   "execution_count": null,
   "metadata": {},
   "outputs": [],
   "source": [
    "df = df[df['Особый запас']!='Q']"
   ]
  },
  {
   "cell_type": "code",
   "execution_count": null,
   "metadata": {},
   "outputs": [],
   "source": [
    "df.shape"
   ]
  },
  {
   "cell_type": "code",
   "execution_count": null,
   "metadata": {},
   "outputs": [],
   "source": [
    "spr_kod_okruga = rev_to_dict(ZMM_E0078_MDLV['Область ППМ'].apply(lambda x: str(x).replace('.0',''))\\\n",
    "                             .astype('str').str.strip(),ZMM_E0078_MDLV['Код округа'])\n",
    "\n",
    "spr_kod_okruga1 = rev_to_dict(T001W['Завод'].apply(lambda x: str(x).replace('.0','')).astype('str'),\\\n",
    "            T001W['Код округа'].apply(lambda x: str(x).replace('.0','')).astype('str'))\n",
    "\n",
    "df['Код округа'] = df.apply(lambda x: insert_vpr(x['Завод'],spr_kod_okruga1,'Код округа') if insert_vpr(x['Область ППМ'],spr_kod_okruga,'Код округа')==0 else insert_vpr(x['Область ППМ'],spr_kod_okruga,'Код округа'),axis = 1).astype('str')"
   ]
  },
  {
   "cell_type": "code",
   "execution_count": null,
   "metadata": {},
   "outputs": [],
   "source": [
    "T001W = pd.read_excel(directory+'T001W.xlsx',sheet_name='Sheet1')\n",
    "T001W.fillna(0,inplace=True)\n",
    "\n",
    "\n"
   ]
  },
  {
   "cell_type": "code",
   "execution_count": null,
   "metadata": {},
   "outputs": [],
   "source": [
    "df['Код округа'] = df.apply(lambda x: insert_vpr(x['Завод'],spr_kod_okruga1,'Код округа') if insert_vpr(x['Область ППМ'],spr_kod_okruga,'Код округа')==0 else insert_vpr(x['Область ППМ'],spr_kod_okruga,'Код округа'),axis = 1).astype('str')"
   ]
  },
  {
   "cell_type": "code",
   "execution_count": null,
   "metadata": {},
   "outputs": [],
   "source": [
    "df = get_in_backup(path_backup='backup.h5',name='extract')"
   ]
  },
  {
   "cell_type": "code",
   "execution_count": null,
   "metadata": {},
   "outputs": [],
   "source": [
    "df['Код округа'].value_counts()"
   ]
  },
  {
   "cell_type": "code",
   "execution_count": null,
   "metadata": {},
   "outputs": [],
   "source": [
    "ZMM_E0078_MDLV = pd.read_excel(directory+'ZMM_E0078_MDLV.xlsx',sheet_name='Sheet1',dtype={'Область ППМ':'str','Код округа':'str'})"
   ]
  },
  {
   "cell_type": "code",
   "execution_count": null,
   "metadata": {},
   "outputs": [],
   "source": [
    "df['Код округа'].value_counts()"
   ]
  },
  {
   "cell_type": "code",
   "execution_count": null,
   "metadata": {},
   "outputs": [],
   "source": [
    "\n",
    "\n",
    "\n",
    "pr_be = rev_to_dict(T001W['Завод'].apply(lambda x: str(x).replace('.0',''))\\\n",
    "                             .astype('str').str.strip(),T001W['Закуп. организация'].apply(lambda x: str(x).replace('.0','')).astype('str').str.strip())\n",
    "c_f0['БЕ'] = c_f0['Завод'].apply(lambda x:  insert_vpr(x,spr_be,'БЕ'))"
   ]
  },
  {
   "cell_type": "code",
   "execution_count": null,
   "metadata": {},
   "outputs": [],
   "source": [
    "c_f0['БЕ'].value_counts()"
   ]
  },
  {
   "cell_type": "code",
   "execution_count": null,
   "metadata": {},
   "outputs": [],
   "source": [
    "# c_f = pd.concat([current_f0.set_index(ind),cons_f0.set_index(ind)[[x for x in cons_f0.columns if x.find('ФП')!=-1 or x.find('ФC')!=-1 or x.find('Остаток на начало ')!=-1]]],axis=1).reset_index()\n",
    "c_f = pd.concat([current_f0.set_index(ind),cons_f0.set_index(ind)[[x for x in cons_f0.columns if  x.find('Остаток на начало ')!=-1]]],axis=1).reset_index()"
   ]
  },
  {
   "cell_type": "code",
   "execution_count": null,
   "metadata": {
    "scrolled": true
   },
   "outputs": [],
   "source": [
    "current_f0.set_index(ind)"
   ]
  },
  {
   "cell_type": "code",
   "execution_count": null,
   "metadata": {
    "scrolled": true
   },
   "outputs": [],
   "source": [
    "cons_f0.set_index(ind)"
   ]
  },
  {
   "cell_type": "code",
   "execution_count": null,
   "metadata": {},
   "outputs": [],
   "source": [
    "c_f.shape"
   ]
  },
  {
   "cell_type": "code",
   "execution_count": null,
   "metadata": {},
   "outputs": [],
   "source": [
    "[x for x in cons_f0.columns if x.find('ФП')!=-1 or x.find('ФC')!=-1 or x.find('Остаток на начало ')!=-1]"
   ]
  },
  {
   "cell_type": "code",
   "execution_count": null,
   "metadata": {},
   "outputs": [],
   "source": [
    "cons_f0.set_index(ind)[[x for x in cons_f0.columns if x.find('ФП')!=-1 or x.find('ФC')!=-1 or x.find('Остаток на начало ')!=-1]]"
   ]
  },
  {
   "cell_type": "code",
   "execution_count": null,
   "metadata": {},
   "outputs": [],
   "source": [
    "tttttyy = current_f0.set_index(ind).index.duplicated()"
   ]
  },
  {
   "cell_type": "code",
   "execution_count": null,
   "metadata": {},
   "outputs": [],
   "source": [
    "tttttyy = list(tttttyy)"
   ]
  },
  {
   "cell_type": "code",
   "execution_count": null,
   "metadata": {},
   "outputs": [],
   "source": [
    "df.index.duplicated()"
   ]
  },
  {
   "cell_type": "code",
   "execution_count": null,
   "metadata": {},
   "outputs": [],
   "source": [
    "[tttttyy.count(x) for x in tttttyy ]"
   ]
  },
  {
   "cell_type": "code",
   "execution_count": null,
   "metadata": {},
   "outputs": [],
   "source": [
    "colsss  = list(cons_f0.columns)"
   ]
  },
  {
   "cell_type": "code",
   "execution_count": null,
   "metadata": {},
   "outputs": [],
   "source": [
    "[x for x in colsss1 if colsss1.count(x)>1]"
   ]
  },
  {
   "cell_type": "code",
   "execution_count": null,
   "metadata": {},
   "outputs": [],
   "source": [
    "colsss1  = list(current_f0.columns)"
   ]
  },
  {
   "cell_type": "code",
   "execution_count": null,
   "metadata": {},
   "outputs": [],
   "source": [
    "ind"
   ]
  },
  {
   "cell_type": "code",
   "execution_count": null,
   "metadata": {},
   "outputs": [],
   "source": []
  },
  {
   "cell_type": "code",
   "execution_count": null,
   "metadata": {},
   "outputs": [],
   "source": [
    "c_f0[c_f0.set_index(ind).index.duplicated()]"
   ]
  },
  {
   "cell_type": "code",
   "execution_count": null,
   "metadata": {},
   "outputs": [],
   "source": [
    "c_f0.shape"
   ]
  },
  {
   "cell_type": "code",
   "execution_count": null,
   "metadata": {},
   "outputs": [],
   "source": [
    "c_f0.shape"
   ]
  },
  {
   "cell_type": "code",
   "execution_count": null,
   "metadata": {},
   "outputs": [],
   "source": [
    "c_f0"
   ]
  },
  {
   "cell_type": "code",
   "execution_count": null,
   "metadata": {},
   "outputs": [],
   "source": [
    "df = pd.read_csv(directory+'CSV.csv',sep = ';',parse_dates=['Дата потребности'],dtype={'Материал':'str','Завод':'str'})\n",
    "sprav_po_kompl = pd.read_excel(directory+'Справочник по комплексам.xlsx',sheet_name='Комплекс',dtype={'Область ППМ':'str','Завод':'str'})\n",
    "sprav_nedra = pd.read_excel(directory+'Справочник недрапользование.xlsx',sheet_name='Недра-ненедра')"
   ]
  },
  {
   "cell_type": "code",
   "execution_count": null,
   "metadata": {},
   "outputs": [],
   "source": [
    "# |||||||||||||||||||||блок обработка данных листа  extract\n",
    "# заполняю даты нулевыми если 0\n",
    "df['Дата потребности'] = df['Дата потребности'].apply(lambda x: '01.01.1900' if x =='00.00.0000' else  x)\n",
    "df['Дата потребности'] = [datetime.datetime(int(x.split('.')[2]),int(x.split('.')[1]),int(x.split('.')[0])) for x in df['Дата потребности'].values]\n",
    "# собираю дату с группировкой по месяцу\n",
    "month = df['Дата потребности'].apply(lambda x:  str(x.year)+'-'+str(x.month)+'-01'+ ' 00:00:00')\n",
    "month =pd.to_datetime(month) \n",
    "# заменяю символ - \n",
    "df['Количество потребности'] = df['Количество потребности'].str.replace('-','')\n",
    "df['Баланс (закрытие потребности)'] = df['Баланс (закрытие потребности)'].str.replace('-','')\n",
    "# Работаю с числами\n",
    "df['Вид документа потребности'] = df['Вид документа потребности'].astype('str')\n",
    "df['Вид документа пополнения'] = df['Вид документа пополнения'].astype('str')\n",
    "# меняем цифры на нормальные флоат\n",
    "replace_float(df,['Количество потребности','Количество пополнения','Баланс (закрытие потребности)'])\n",
    "\n",
    "df.fillna(0,inplace=True)\n",
    "sprav_po_kompl.fillna(0,inplace=True)\n",
    "sprav_nedra.fillna(0,inplace=True)\n",
    "# T001W.fillna(0,inplace=True)"
   ]
  },
  {
   "cell_type": "code",
   "execution_count": null,
   "metadata": {},
   "outputs": [],
   "source": [
    "# заполняем дополнительные столбцы в экстракте\n",
    "\n",
    "# df = df[df['Дата потребности']<=datetime.datetime(2020,2,29)]\n",
    "df['Завод'] = df['Завод'].apply(lambda x: str(x).replace('.0','')).astype('str')\n",
    "spr_zav_dict = rev_to_dict(sprav_po_kompl['Завод'],sprav_po_kompl['ЦС/ПЗ'])\n",
    "df['ЦС/ПЗ'] = df['Завод'].apply(lambda x:  insert_vpr(x,spr_zav_dict,'ЦС/ПЗ'))\n",
    "df['Номер потребности'] = df['Номер потребности'].apply(lambda x: str(x).replace('.0','')).astype('str')\n",
    "df['МВЗ'] = df['МВЗ'].apply(lambda x: str(x).replace('.0','')).astype('str')\n",
    "df['Материал'] = df['Материал'].apply(lambda x: str(x).replace('.0','')).astype('str')\n",
    "\n",
    "df['Тип материала'] = df['Тип материала'].apply(lambda x: str(x).replace('.0','')).astype('str')\n",
    "df['БЕ'] = df['БЕ'].apply(lambda x: str(x).replace('.0','')).astype('str')\n",
    "\n",
    "\n",
    "\n",
    "# недропользование неполнятно\n",
    "spr_nedra = rev_to_dict(sprav_nedra['Завод + Склад'],sprav_nedra['Завод + Склад'])\n",
    "# df['Недропользование']= df['Завод'].apply(lambda x: insert_vpr(x,spr_nedra,'Завод'))   \n",
    "df['Склад потребности'] = df['Склад потребности'].apply(lambda x: str(x).replace('.0','')).astype('str')\n",
    "df['Завод + Склад'] = df['Завод']+' '+df['Склад потребности']\n",
    "df['Недропользование'] = df['Завод + Склад'].apply(lambda x: 0 if   insert_vpr(x,spr_nedra,'Завод + Склад')==0 else 1)\n",
    "\n",
    "# Вывод по докум-ам потребности\n",
    "df['Вывод по документам потребности'] = df.apply(lambda x: formula_vivod_po_doc_potrebn(x),axis=1 )\n",
    "\n",
    "\n",
    "df['Вывод по документам пополнения'] = df.apply(lambda x: formula_vivod_po_doc_popolneniya(x),axis=1 )"
   ]
  },
  {
   "cell_type": "code",
   "execution_count": null,
   "metadata": {},
   "outputs": [],
   "source": [
    "df[(df['Вывод по документам потребности']!='OK')|(df['Вывод по документам пополнения']!='OK')]"
   ]
  },
  {
   "cell_type": "code",
   "execution_count": null,
   "metadata": {},
   "outputs": [],
   "source": [
    "save_pyex(df=df[(df['Вывод по документам потребности']!='OK')|(df['Вывод по документам пополнения']!='OK')],path='C:\\\\Users\\\\Илья\\\\Desktop\\\\kazzinc\\\\Uploads1\\\\'+folder+'\\\\extr_xlsx\\\\111.xlsx')"
   ]
  },
  {
   "cell_type": "code",
   "execution_count": null,
   "metadata": {},
   "outputs": [],
   "source": [
    "NB['Комплекс'].value_counts()"
   ]
  },
  {
   "cell_type": "code",
   "execution_count": null,
   "metadata": {},
   "outputs": [],
   "source": [
    "ZNB1['Комплекс'].value_counts()"
   ]
  },
  {
   "cell_type": "code",
   "execution_count": null,
   "metadata": {},
   "outputs": [],
   "source": [
    "ZNB['Комплекс'].value_counts()[0]"
   ]
  },
  {
   "cell_type": "code",
   "execution_count": null,
   "metadata": {},
   "outputs": [],
   "source": [
    "ZNB1['Комплекс'].value_counts()[0]"
   ]
  },
  {
   "cell_type": "code",
   "execution_count": null,
   "metadata": {},
   "outputs": [],
   "source": []
  },
  {
   "cell_type": "code",
   "execution_count": null,
   "metadata": {
    "scrolled": true
   },
   "outputs": [],
   "source": [
    "NB['Комплекс'].value_counts()['0']"
   ]
  },
  {
   "cell_type": "code",
   "execution_count": null,
   "metadata": {},
   "outputs": [],
   "source": [
    "NB[NB['Комплекс']=='0']"
   ]
  },
  {
   "cell_type": "code",
   "execution_count": null,
   "metadata": {},
   "outputs": [],
   "source": [
    "NB = NB[NB['Обозначение индикатора деблокирования']!='Тендер завершен']"
   ]
  },
  {
   "cell_type": "code",
   "execution_count": null,
   "metadata": {},
   "outputs": [],
   "source": [
    "ZNB = ZNB[ZNB['Количество пополнения']>0]"
   ]
  },
  {
   "cell_type": "code",
   "execution_count": null,
   "metadata": {},
   "outputs": [],
   "source": [
    "potr_with_ostatok_total['Завод']  = potr_with_ostatok_total['Завод+НН'].str.split(' #').apply(lambda x: x[0])\n",
    "spr_zav_obl =  rev_to_dict(sprav_mdlv['Область ППМ'].astype('str').str.strip(),sprav_mdlv['Текст ОблПланирПотр'])\n",
    "potr_with_ostatok_total['Имя Завода'] = potr_with_ostatok_total.apply(lambda x: insert_vpr(x['Завод'],spr_zav_obl,'Текст ОблПланирПотр')  if x['Область ППМ']=='' or x['Область ППМ']==0 else insert_vpr(x['Область ППМ'],spr_zav_obl,'Текст ОблПланирПотр'),axis = 1 )\n",
    "\n",
    "potr_with_ostatok_total['стрЗапас'] = potr_with_ostatok_total['Страховой запас']\n",
    "fr_bad = potr_with_ostatok_total[(potr_with_ostatok_total['Блокированный запас']>0)&(potr_with_ostatok_total['Распределение_остатака']>0)]\n",
    "potr_with_ostatok_total.loc[fr_bad.index,['Распределение_остатака','Сумма_распреденного_остатка','Распределение_прихода','Сумма_распреденного_прихода','Распределение_расхода','Сумма_распреденного_расхода','avizot','стрЗапас']]    = 0\n",
    "fr_bad.loc[:,['Блокированный запас','Ст-ть/блок. запаса']]=0\n",
    "potr_with_ostatok_total = pd.concat([potr_with_ostatok_total,fr_bad],axis=0,ignore_index=True)\n",
    "potr_with_ostatok_total['Комплекс'] = potr_with_ostatok_total['Комплекс'].astype('str')\n",
    "potr_with_ostatok_total['Категория ТМЦ'] = potr_with_ostatok_total.apply(lambda x: func_cat_tmc(x),axis = 1)\n",
    "ind____  = potr_with_ostatok_total[potr_with_ostatok_total['стрЗапас']>0].index\n",
    "potr_with_ostatok_total.loc[ind____,'Категория ТМЦ'] = 'страховой запас'"
   ]
  },
  {
   "cell_type": "code",
   "execution_count": null,
   "metadata": {},
   "outputs": [],
   "source": [
    "potr_with_ostatok_total['Категория ТМЦ'].unique()"
   ]
  },
  {
   "cell_type": "code",
   "execution_count": null,
   "metadata": {},
   "outputs": [],
   "source": [
    "potr_with_ostatok_total['Сумма_распреденного_остатка'].sum()"
   ]
  },
  {
   "cell_type": "code",
   "execution_count": null,
   "metadata": {},
   "outputs": [],
   "source": [
    "c_f0"
   ]
  },
  {
   "cell_type": "code",
   "execution_count": null,
   "metadata": {},
   "outputs": [],
   "source": [
    "ffy = pd.read_csv(directory+'CSV.csv',sep = ';',parse_dates=['Дата потребности'],dtype={'Материал':'str','Завод':'str'})"
   ]
  },
  {
   "cell_type": "code",
   "execution_count": null,
   "metadata": {},
   "outputs": [],
   "source": [
    "ffy.shape"
   ]
  },
  {
   "cell_type": "code",
   "execution_count": null,
   "metadata": {},
   "outputs": [],
   "source": [
    "spr_for_obl_ppm = pd.read_excel('C:\\\\Users\\\\Илья\\\\Desktop\\\\kazzinc\\\\Uploads1\\\\0220\\\\extr_xlsx\\\\0.xlsx',sheet_name='sheet1')"
   ]
  },
  {
   "cell_type": "code",
   "execution_count": null,
   "metadata": {},
   "outputs": [],
   "source": [
    "spr_for_obl_ppm['1/2020 Остаток Сумма'].sum()"
   ]
  },
  {
   "cell_type": "code",
   "execution_count": null,
   "metadata": {},
   "outputs": [],
   "source": [
    "spr_for_obl_ppm.fillna(0,inplace = True)"
   ]
  },
  {
   "cell_type": "code",
   "execution_count": null,
   "metadata": {},
   "outputs": [],
   "source": [
    "spr_for_obl_ppm.name = '001'\n",
    "save_backup('f0_S.h5',[spr_for_obl_ppm])"
   ]
  },
  {
   "cell_type": "code",
   "execution_count": null,
   "metadata": {},
   "outputs": [],
   "source": [
    "~spr_for_obl_ppm['Модуль'].isnull()"
   ]
  },
  {
   "cell_type": "code",
   "execution_count": null,
   "metadata": {},
   "outputs": [],
   "source": [
    "gr = list(spr_for_obl_ppm[['Материал','Категория_запаса','Цена','Модуль','Заказ','Категория ТМЦ','БЕ','Комплекс','Завод','Код округа','КрТекстМатериала','Имя Завода','Базовая ЕИ',]].columns)"
   ]
  },
  {
   "cell_type": "code",
   "execution_count": null,
   "metadata": {},
   "outputs": [],
   "source": [
    "agg = spr_for_obl_ppm.loc[:,'ПП кол-во 1/2020':].columns"
   ]
  },
  {
   "cell_type": "code",
   "execution_count": null,
   "metadata": {},
   "outputs": [],
   "source": [
    "agg_m = dict((x,'sum')for x in agg)"
   ]
  },
  {
   "cell_type": "code",
   "execution_count": null,
   "metadata": {},
   "outputs": [],
   "source": [
    "gr_df = spr_for_obl_ppm.groupby(gr).agg(agg_m).reset_index()"
   ]
  },
  {
   "cell_type": "code",
   "execution_count": null,
   "metadata": {},
   "outputs": [],
   "source": [
    "gr_df['1/2020 Остаток Сумма'].sum()"
   ]
  },
  {
   "cell_type": "code",
   "execution_count": null,
   "metadata": {},
   "outputs": [],
   "source": [
    "gr_df"
   ]
  },
  {
   "cell_type": "code",
   "execution_count": null,
   "metadata": {
    "scrolled": true
   },
   "outputs": [],
   "source": [
    "spr_for_obl_ppm[spr_for_obl_ppm['Цена']==1672.5]"
   ]
  },
  {
   "cell_type": "code",
   "execution_count": null,
   "metadata": {},
   "outputs": [],
   "source": [
    "save_pyex(df=gr_df,path='C:\\\\Users\\\\Илья\\\\Desktop\\\\kazzinc\\\\Uploads1\\\\'+folder+'\\\\extr_xlsx\\\\gr.xlsx')"
   ]
  },
  {
   "cell_type": "code",
   "execution_count": null,
   "metadata": {},
   "outputs": [],
   "source": [
    "folder = '0220'"
   ]
  },
  {
   "cell_type": "code",
   "execution_count": null,
   "metadata": {},
   "outputs": [],
   "source": [
    "for ind, i in enumerate(np.array_split(gr_df,2)) :\n",
    "    save_pyex(df=i,path='C:\\\\Users\\\\Илья\\\\Desktop\\\\kazzinc\\\\Uploads1\\\\'+folder+'\\\\extr_xlsx\\\\'+str(ind)+'.xlsx')"
   ]
  },
  {
   "cell_type": "code",
   "execution_count": null,
   "metadata": {},
   "outputs": [],
   "source": [
    "ggm = pd.read_excel('C:\\\\Users\\\\Илья\\\\Desktop\\\\kazzinc\\\\0.xlsx',sheet_name='sheet1')"
   ]
  },
  {
   "cell_type": "code",
   "execution_count": null,
   "metadata": {
    "scrolled": true
   },
   "outputs": [],
   "source": [
    "df['Модуль'].unique()"
   ]
  },
  {
   "cell_type": "code",
   "execution_count": null,
   "metadata": {},
   "outputs": [],
   "source": [
    "aaaa = df[df['Модуль']=='ХЗ'].shape"
   ]
  },
  {
   "cell_type": "code",
   "execution_count": null,
   "metadata": {},
   "outputs": [],
   "source": [
    "aaaa[aaaa['Материал']=='030301150']"
   ]
  },
  {
   "cell_type": "code",
   "execution_count": null,
   "metadata": {},
   "outputs": [],
   "source": [
    "aaaa"
   ]
  },
  {
   "cell_type": "code",
   "execution_count": null,
   "metadata": {},
   "outputs": [],
   "source": [
    "potr_with_ostatok_total['Имя Завода'].value_counts()"
   ]
  },
  {
   "cell_type": "code",
   "execution_count": null,
   "metadata": {
    "scrolled": true
   },
   "outputs": [],
   "source": [
    "potr_with_ostatok_total[potr_with_ostatok_total['Материал']=='010101015']['Имя Завода'].unique()"
   ]
  },
  {
   "cell_type": "code",
   "execution_count": null,
   "metadata": {
    "scrolled": true
   },
   "outputs": [],
   "source": [
    "potr_with_ostatok_total[(potr_with_ostatok_total['Материал']=='010101015')&(potr_with_ostatok_total['Количество потребности']==0)&(potr_with_ostatok_total['Распределение_остатака']>0)]"
   ]
  },
  {
   "cell_type": "code",
   "execution_count": null,
   "metadata": {},
   "outputs": [],
   "source": [
    "potr_with_ostatok_total['Завод']  = potr_with_ostatok_total['Завод+НН'].str.split(' #').apply(lambda x: x[0])\n",
    "spr_zav_obl =  rev_to_dict(sprav_mdlv['Область ППМ'].astype('str').str.strip(),sprav_mdlv['Текст ОблПланирПотр'])\n",
    "\n",
    "\n",
    "potr_with_ostatok_total['стрЗапас'] = potr_with_ostatok_total['Страховой запас']\n",
    "fr_bad = potr_with_ostatok_total[(potr_with_ostatok_total['Блокированный запас']>0)&(potr_with_ostatok_total['Распределение_остатака']>0)]\n",
    "potr_with_ostatok_total.loc[fr_bad.index,['Распределение_остатака','Сумма_распреденного_остатка','Распределение_прихода','Сумма_распреденного_прихода','Распределение_расхода','Сумма_распреденного_расхода','avizot','стрЗапас']]    = 0\n",
    "fr_bad.loc[:,['Блокированный запас','Ст-ть/блок. запаса']]=0\n",
    "potr_with_ostatok_total = pd.concat([potr_with_ostatok_total,fr_bad],axis=0,ignore_index=True)\n",
    "potr_with_ostatok_total['Комплекс'] = potr_with_ostatok_total['Комплекс'].astype('str')\n",
    "potr_with_ostatok_total['Категория ТМЦ'] = potr_with_ostatok_total.apply(lambda x: func_cat_tmc(x),axis = 1)"
   ]
  },
  {
   "cell_type": "code",
   "execution_count": null,
   "metadata": {},
   "outputs": [],
   "source": [
    "yyyyuuu = ost_Q1[f_tr]"
   ]
  },
  {
   "cell_type": "code",
   "execution_count": null,
   "metadata": {},
   "outputs": [],
   "source": [
    "yyyyuuu"
   ]
  },
  {
   "cell_type": "code",
   "execution_count": null,
   "metadata": {},
   "outputs": [],
   "source": [
    "yyyyuuu[yyyyuuu['Материал']=='010101015']"
   ]
  },
  {
   "cell_type": "code",
   "execution_count": null,
   "metadata": {},
   "outputs": [],
   "source": [
    "ost_Q1[ost_Q1['Материал']=='010101015']"
   ]
  },
  {
   "cell_type": "code",
   "execution_count": null,
   "metadata": {},
   "outputs": [],
   "source": [
    "ost_Q[ost_Q['Материал']=='010101015']"
   ]
  },
  {
   "cell_type": "code",
   "execution_count": null,
   "metadata": {},
   "outputs": [],
   "source": [
    "ost_with_block[ost_with_block['Материал']=='010101015']"
   ]
  },
  {
   "cell_type": "code",
   "execution_count": null,
   "metadata": {},
   "outputs": [],
   "source": [
    "ff"
   ]
  },
  {
   "cell_type": "code",
   "execution_count": null,
   "metadata": {},
   "outputs": [],
   "source": [
    "tottal_ost"
   ]
  },
  {
   "cell_type": "code",
   "execution_count": null,
   "metadata": {},
   "outputs": [],
   "source": [
    "ost_Q1[f_tr]"
   ]
  },
  {
   "cell_type": "code",
   "execution_count": null,
   "metadata": {},
   "outputs": [],
   "source": [
    "potr_with_ostatok_total[(potr_with_ostatok_total['Количество потребности']==0)&(potr_with_ostatok_total['Распределение_остатака']>0)]"
   ]
  },
  {
   "cell_type": "code",
   "execution_count": null,
   "metadata": {},
   "outputs": [],
   "source": [
    "ost_Q1"
   ]
  },
  {
   "cell_type": "code",
   "execution_count": null,
   "metadata": {},
   "outputs": [],
   "source": [
    "neraspr_ostat_tab"
   ]
  },
  {
   "cell_type": "code",
   "execution_count": null,
   "metadata": {},
   "outputs": [],
   "source": [
    "neraspr_ostat_tab"
   ]
  },
  {
   "cell_type": "code",
   "execution_count": null,
   "metadata": {},
   "outputs": [],
   "source": [
    "ost_copy1[(ost_copy1['осталось']>0)&(ost_copy1['Cвободный запас']>0)][['Комплекс','Завод+НН','Cвободный запас','Стоимость свободного остатка','Партия']].groupby(['Комплекс','Завод+НН','Партия']).sum().reset_index()"
   ]
  },
  {
   "cell_type": "code",
   "execution_count": null,
   "metadata": {},
   "outputs": [],
   "source": [
    "save_pyex(df=ost_copy1[(ost_copy1['осталось']>0)&(ost_copy1['Cвободный запас']>0)][['Комплекс','Завод+НН','Cвободный запас','Стоимость свободного остатка','Партия']].groupby(['Комплекс','Завод+НН','Партия']).sum().reset_index(),path='C:\\\\Users\\\\Илья\\\\Desktop\\\\kazzinc\\\\Uploads1\\\\'+folder+'\\\\extr_xlsx\\\\444.xlsx')"
   ]
  },
  {
   "cell_type": "code",
   "execution_count": null,
   "metadata": {},
   "outputs": [],
   "source": [
    "ZNB1_cop = ZNB1[ZNB1['Материал']=='070100241'].copy()"
   ]
  },
  {
   "cell_type": "code",
   "execution_count": null,
   "metadata": {},
   "outputs": [],
   "source": [
    "potr_with_ostatok_total = get_in_backup(path_backup='backup_for_powerBI_test_no.h5',name='f0_vertical_02_20_')"
   ]
  },
  {
   "cell_type": "code",
   "execution_count": null,
   "metadata": {
    "scrolled": true
   },
   "outputs": [],
   "source": [
    "arr_copy = potr_copy_for_prihod[potr_copy_for_prihod['Материал']=='070100241'].copy()"
   ]
  },
  {
   "cell_type": "code",
   "execution_count": null,
   "metadata": {},
   "outputs": [],
   "source": [
    "\n",
    "# управление механикой остатков(вызывать ее)\n",
    "def prt_pzk(ost_st, potr_st, current_date, filters,all_months):\n",
    "    #     группировка остатков по\n",
    "    if all_months ==True:\n",
    "        master_zav_nn = dict(tuple(potr_st[potr_st['month'] >= current_date].groupby('Заказчик + HH')))\n",
    "    else:\n",
    "        master_zav_nn = dict(tuple(potr_st[potr_st['month'] > current_date].groupby('Заказчик + HH')))\n",
    "    pz_ost = ost_st\n",
    "    # пз\n",
    "#     print(master_zav_nn.keys())\n",
    "    for pz_slave_row in pz_ost.index:\n",
    "        df_master = ret_data_dict(pz_ost.at[pz_slave_row, 'Комплекс+Маттериал'], master_zav_nn)\n",
    "        if df_master is None:\n",
    "            df_master = pd.DataFrame()\n",
    "        # если есть потребность у сцепки зав нн\n",
    "        # pz_ost.at[pz_slave_row, 'осталось'] = 1600\n",
    "        if len(df_master) > 0 and pz_ost.at[pz_slave_row, 'осталось'] > 0:\n",
    "            df_master = df_master.sort_values('Дата потребности')\n",
    "            # функция\n",
    "            df_master = mex_prt_pzk(df_master, pz_ost, pz_slave_row, ost_st, potr_st)\n",
    "            master_zav_nn[pz_ost.at[pz_slave_row, 'Комплекс+Маттериал']] = df_master\n",
    "    if all_months ==True:\n",
    "        master_zav_nn = dict(tuple(potr_st[potr_st['month'] >= current_date].groupby('Материал')))\n",
    "    else:\n",
    "        master_zav_nn = dict(tuple(potr_st[potr_st['month'] > current_date].groupby('Материал')))\n",
    "\n",
    "    for pz_slave_row in pz_ost.index:\n",
    "        if pz_ost.at[pz_slave_row, 'Комплекс'] == 'ALL1000':\n",
    "            df_master = ret_data_dict(pz_ost.at[pz_slave_row, 'Материал'], master_zav_nn)\n",
    "            if df_master is None:\n",
    "                df_master = pd.DataFrame()\n",
    "            # если есть потребность у сцепки зав нн\n",
    "            # pz_ost.at[pz_slave_row, 'осталось'] = 1600\n",
    "            if len(df_master) > 0 and pz_ost.at[pz_slave_row, 'осталось'] > 0:\n",
    "                df_master = df_master[df_master['Комплекс'].isin(filters['one'])].sort_values('Дата потребности')\n",
    "                # функция\n",
    "                \n",
    "                df_master = mex_prt_pzk(df_master, pz_ost, pz_slave_row, ost_st, potr_st)\n",
    "                master_zav_nn[pz_ost.at[pz_slave_row, 'Материал']] = df_master\n",
    "\n",
    "\n",
    "# мехника распределения остатков\n",
    "def mex_prt_pzk(df_master, pz_ost, pz_slave_row, ost_st, potr_st):\n",
    "#     print(df_master[['Распределение_остатака', 'Количество потребности', 'законтрактовано']])\n",
    "    ostatok = pz_ost.at[pz_slave_row, 'Количество пополнения']\n",
    "    len_it = len(df_master) - 1\n",
    "    for ind, row_master_index in enumerate(df_master.index):\n",
    "\n",
    "        # если покрыта вся потребность то ничего не делаем\n",
    "        #         if df_master.at[row_master_index, 'Количество потребности'] == df_master.at[row_master_index, 'Распределение_прихода']:\n",
    "        #             pass\n",
    "        # если это последний элемент нужно записать то что осталось в остатке\n",
    "        #  1 прибавляем в столбец Распределение_остатака гласного фрейма все то что осталось\n",
    "        #  2 вставляем в лист остатков в столбец забрали\n",
    "        #  3 вставлем в маленькие выборки аналогично\n",
    "        #  4 рассчитываем сумму по цене и прибавляем к имеющейся в ячейке\n",
    "        print(row_master_index)\n",
    "        if len_it == ind and (df_master.at[row_master_index, 'Количество потребности'] > (df_master.at[row_master_index, 'Распределение_остатака'] + df_master.at[row_master_index, 'законтрактовано'])):\n",
    "            #             price = ost_st.at[pz_slave_row, 'Сумма во ВВ'] / ost_st.at[pz_slave_row, 'Количество']\n",
    "            #             summa = ostatok * price\n",
    "            #             df_master.at[row_master_index, 'Сумма_распреденного_прихода'] = df_master.at[row_master_index, 'Сумма_распреденного_прихода'] + summa\n",
    "            #             potr_st.at[row_master_index, 'Сумма_распреденного_прихода'] = potr_st.at[row_master_index, 'Сумма_распреденного_прихода'] + summa\n",
    "\n",
    "            #             df_master.at[row_master_index, 'Распределение_прихода'] = df_master.at[row_master_index, 'Распределение_прихода'] + ostatok\n",
    "            #             potr_st.at[row_master_index, 'Распределение_прихода'] = potr_st.at[row_master_index, 'Распределение_прихода'] + ostatok\n",
    "\n",
    "            \n",
    "            if (ostatok - (df_master.at[row_master_index, 'Количество потребности'] - df_master.at[row_master_index, 'Распределение_остатака']-df_master.at[row_master_index, 'законтрактовано']))<0:\n",
    "                df_master.at[row_master_index, 'законтрактовано'] =df_master.at[row_master_index, 'законтрактовано']+ ostatok\n",
    "                potr_st.at[row_master_index, 'законтрактовано'] = potr_st.at[row_master_index, 'законтрактовано']+ ostatok\n",
    "                ostatok = 0\n",
    "                pz_ost.at[pz_slave_row, 'осталось'] = ostatok\n",
    "                ost_st.at[pz_slave_row, 'осталось'] = ostatok\n",
    "#                 print(df_master[['Распределение_остатака', 'Количество потребности', 'законтрактовано']])\n",
    "                return df_master\n",
    "            else:\n",
    "                a = df_master.at[row_master_index, 'законтрактовано']\n",
    "                df_master.at[row_master_index, 'законтрактовано'] =df_master.at[row_master_index, 'законтрактовано']+(df_master.at[row_master_index, 'Количество потребности'] - df_master.at[row_master_index, 'Распределение_остатака']-a)\n",
    "                potr_st.at[row_master_index, 'законтрактовано'] = potr_st.at[row_master_index, 'законтрактовано']+ (potr_st.at[row_master_index, 'Количество потребности'] - df_master.at[row_master_index, 'Распределение_остатака']-a)\n",
    "                ostatok = ostatok - (df_master.at[row_master_index, 'Количество потребности'] - df_master.at[row_master_index, 'Распределение_остатака']-a)\n",
    "#                 print(df_master[['Распределение_остатака', 'Количество потребности', 'avizot']])\n",
    "\n",
    "\n",
    "\n",
    "                        # ostatok = 0\n",
    "            # return df_master\n",
    "        elif ostatok == 0:\n",
    "            return df_master\n",
    "        # если покарыта не вся потребность  и не последняя строка тогда и не хватает чтобы закрыть потребность:\n",
    "        #  1 прибавляем в столбец  Распределение_остатака гласного фрейма потребностей только остаток\n",
    "        #  2 зануляем остаток\n",
    "        #  3 зануляем в листе остатков в столбец осталось\n",
    "        #  4 вставлем в маленькие выборки аналогично\n",
    "        #  5 рассчитываем сумму по цене и прибавляем к имеющейся в ячейке\n",
    "\n",
    "        elif (df_master.at[row_master_index, 'Количество потребности'] > (df_master.at[row_master_index, 'Распределение_остатака'] + df_master.at[row_master_index, 'законтрактовано'])):\n",
    "\n",
    "\n",
    "\n",
    "            if (ostatok - (df_master.at[row_master_index, 'Количество потребности'] - df_master.at[row_master_index, 'Распределение_остатака'] - df_master.at[row_master_index, 'законтрактовано']))<0:\n",
    "                df_master.at[row_master_index, 'законтрактовано'] =df_master.at[row_master_index, 'законтрактовано']+ ostatok\n",
    "                potr_st.at[row_master_index, 'законтрактовано'] = potr_st.at[row_master_index, 'законтрактовано']+ ostatok\n",
    "                ostatok = 0\n",
    "                pz_ost.at[pz_slave_row, 'осталось'] = 0\n",
    "                ost_st.at[pz_slave_row, 'осталось'] = 0\n",
    "#                 print(df_master[['Распределение_остатака', 'Количество потребности', 'законтрактовано']])\n",
    "                return df_master\n",
    "            else:\n",
    "                a = df_master.at[row_master_index, 'законтрактовано']\n",
    "                df_master.at[row_master_index, 'законтрактовано'] =df_master.at[row_master_index, 'законтрактовано']+(df_master.at[row_master_index, 'Количество потребности'] - df_master.at[row_master_index, 'Распределение_остатака']-a)\n",
    "                potr_st.at[row_master_index, 'законтрактовано'] = potr_st.at[row_master_index, 'законтрактовано']+ (potr_st.at[row_master_index, 'Количество потребности'] - df_master.at[row_master_index, 'Распределение_остатака']-a)\n",
    "                ostatok = ostatok - (df_master.at[row_master_index, 'Количество потребности'] - df_master.at[row_master_index, 'Распределение_остатака']-a)\n",
    "#                 print(df_master[['Распределение_остатака', 'Количество потребности', 'avizot']])\n",
    "#             return df_master\n",
    "        if len_it == ind and (df_master.at[row_master_index, 'Количество потребности'] <= (df_master.at[row_master_index, 'Распределение_остатака'] + df_master.at[row_master_index, 'законтрактовано'])):\n",
    "            df_master.at[row_master_index, 'законтрактовано'] = df_master.at[row_master_index, 'законтрактовано'] + 0\n",
    "            potr_st.at[row_master_index, 'законтрактовано'] = potr_st.at[row_master_index, 'законтрактовано'] + 0\n",
    "#             print(df_master[['Распределение_остатака', 'Количество потребности', 'законтрактовано']])\n",
    "            return df_master"
   ]
  },
  {
   "cell_type": "code",
   "execution_count": null,
   "metadata": {},
   "outputs": [],
   "source": [
    "filter_else['one']"
   ]
  },
  {
   "cell_type": "code",
   "execution_count": null,
   "metadata": {},
   "outputs": [],
   "source": [
    "start_time = time.time()\n",
    "potr_prt_pzk = arr_copy.copy()\n",
    "prt_pzk_copy = ZNB1_cop.copy()\n",
    "potr_prt_pzk.name = 'potr_prt_pzk'\n",
    "prt_pzk_copy.name =  'prt_pzk_copy'\n",
    "potr_prt_pzk['законтрактовано'] = 0.000000\n",
    "prt_pzk_copy['осталось'] = prt_pzk_copy['Количество пополнения']\n",
    "prt_pzk(ost_st=prt_pzk_copy,potr_st=potr_prt_pzk,filters=filter_else,current_date = current_date,all_months=True)\n",
    "print(\"--- %s seconds ---\" % (time.time() - start_time))"
   ]
  },
  {
   "cell_type": "code",
   "execution_count": null,
   "metadata": {
    "scrolled": true
   },
   "outputs": [],
   "source": [
    "arr_copy[['Количество потребности','Распределение_остатака','законтрактовано','Дата потребности']]"
   ]
  },
  {
   "cell_type": "code",
   "execution_count": null,
   "metadata": {
    "scrolled": true
   },
   "outputs": [],
   "source": [
    "pd.DataFrame  (arr_copy.loc[560660]).T"
   ]
  },
  {
   "cell_type": "code",
   "execution_count": null,
   "metadata": {},
   "outputs": [],
   "source": [
    "potr_copy_for_prihod = get_in_backup(path_backup='tto.h5',name='02_20')"
   ]
  },
  {
   "cell_type": "code",
   "execution_count": null,
   "metadata": {
    "scrolled": true
   },
   "outputs": [],
   "source": [
    "ZNB1_cop['Количество пополнения'].sum()"
   ]
  },
  {
   "cell_type": "code",
   "execution_count": null,
   "metadata": {},
   "outputs": [],
   "source": [
    "ZNB[ZNB['Материал']=='070100199']"
   ]
  },
  {
   "cell_type": "code",
   "execution_count": null,
   "metadata": {},
   "outputs": [],
   "source": [
    "# проверка распределения остатка и формирование сцепки с основным листом\n",
    "# работа пок онсолидаци остатков\n",
    "\n",
    "ost_Q = ost_start[(ost_start['Cвободный запас']>0)&(ost_start['Особый запас']=='Q')]\n",
    "ost_Q['Признак Q остатка'] = True\n",
    "\n",
    "ost_Q1 = ost_start[(ost_start['Cвободный запас']==0)&(ost_start['Особый запас']!='Q')]    \n",
    "\n",
    "ost_Q  = pd.concat([ost_Q,ost_Q1])\n",
    "ost_Q.fillna(0,inplace=True)\n",
    "\n",
    "ff = ost_block[['Завод+склад+партия+особый запас+НН','Блокированный запас','Завод+НН','Комплекс','Партия']]\n",
    "ost_with_block  =  pd.merge(ost_copy1,ff,how='outer')\n",
    "ost_with_block.fillna(0,inplace = True)\n",
    "\n",
    "ost_copy1['Cвободный запас'] = ost_copy1['осталось']\n",
    "ost_copy1['Стоимость свободного остатка'] = (ost_copy1['Ст-ть запаса в конце периода']    / ost_copy1['Кол-во запаса в конце периода']) * ost_copy1['осталось']\n",
    "# 1составляющая нераспределенный остаток\n",
    "neraspr_ostat_tab = ost_copy1[(ost_copy1['осталось']>0)&(ost_copy1['Cвободный запас']>0)][['Комплекс','Завод+НН','Cвободный запас','Стоимость свободного остатка','Партия']].groupby(['Комплекс','Завод+НН','Партия']).sum().reset_index()\n",
    "neraspr_ostat_tab['Признак нераспределнного остатка'] = True\n",
    "# 2составляющая нераспределенный остаток\n",
    "ost_Q_tab = ost_Q[['Признак Q остатка','Комплекс','Завод+НН','Cвободный запас','Стоимость свободного остатка','Базовая ЕИ','Материал','Партия']].groupby(['Комплекс','Завод+НН','Партия']).sum().reset_index()\n",
    "# ost_Q_tab['Признак Q остатка'] = 0\n",
    "\n",
    "\n",
    "ost1 = neraspr_ostat_tab[['Комплекс','Завод+НН','Cвободный запас','Стоимость свободного остатка','Партия']]\n",
    "\n",
    "\n",
    "\n",
    "# 11111111111111111111111\n",
    "ost2 = ost_Q_tab[['Комплекс','Завод+НН','Cвободный запас','Стоимость свободного остатка','Партия']]\n",
    "ost2['Признак Q остатка'] = True\n",
    "\n",
    "\n",
    "\n",
    "\n",
    "\n",
    "\n",
    "one = pd.merge(ost_ner_q_t,neraspr_ostat_tab[['Комплекс','Завод+НН','Признак нераспределнного остатка','Партия']],how='left',on=['Комплекс','Завод+НН','Партия'])\n",
    "one = one.groupby(['Комплекс','Завод+НН','Партия']).sum().reset_index()\n",
    "\n",
    "# # \n",
    "two  = pd.merge(one,ost_Q_tab[['Комплекс','Завод+НН','Партия']],how='outer',on=['Комплекс','Завод+НН','Партия'])\n",
    "stoim_bl_zap =  ost_start[['Комплекс','Завод+НН','Ст-ть/блок. запаса','Партия']].groupby(['Комплекс','Завод+НН','Партия']).sum().reset_index()\n",
    "\n",
    "\n",
    "aa = stoim_bl_zap.groupby(['Комплекс','Завод+НН','Партия']).sum().reset_index()\n",
    "bb = ost_with_block[['Комплекс','Завод+НН','Блокированный запас','Ст-ть/блок. запаса','Партия']]\n",
    "bb['Ст-ть/блок. запаса'] = 0\n",
    "\n",
    "ost_dlya_scepki = pd.merge(aa,bb,how='outer').fillna(0).groupby(['Комплекс','Завод+НН','Партия']).sum().reset_index()\n",
    "\n",
    "tottal_ost  = pd.merge(two,ost_dlya_scepki,how='outer').fillna(0)\n",
    "\n",
    "a = ost_Q[['Комплекс','Завод+НН','Признак Q остатка','Партия']]\n",
    "tottal_ost = pd.concat([tottal_ost,a[a['Признак Q остатка']==True].drop_duplicates()])\n",
    "# tottal_ost = pd.merge(tottal_ost,a[a['Признак Q остатка']==True].drop_duplicates(),how='left',on=['Завод+НН','Комплекс'])\n",
    "tottal_ost.rename(columns={\"Cвободный запас\": \"Распределение_остатака\",'Стоимость свободного остатка':'Сумма_распреденного_остатка'},inplace=True)\n",
    "ost2.rename(columns={\"Cвободный запас\": \"Распределение_остатака\",'Стоимость свободного остатка':'Сумма_распреденного_остатка'},inplace=True)\n",
    "tottal_ost = pd.concat([tottal_ost,ost2])\n",
    "tottal_ost = tottal_ost.reset_index(drop=True)\n",
    "\n",
    "tottal_ost = tottal_ost.loc[tottal_ost[['Распределение_остатака','Ст-ть/блок. запаса','Сумма_распреденного_остатка','Партия']].dropna(how = 'all').index]\n",
    "\n",
    "\n",
    "# tottal_ost = pd.concat([tottal_ost,ost2])\n",
    "\n",
    "# potr_with_ostatok_total = pd.concat([potr_copy_for_prihod,tottal_ost]).fillna(0)\n",
    "\n",
    "\n",
    "# работа по консолидации прихода\n",
    "\n",
    "\n",
    "\n",
    "# raspr_prihod = prihod_copy[(prihod_copy['осталось']==0)&(prihod_copy['Количество']>0)]['Количество'].sum()\n",
    "neraspr_prihod_tab =  prihod_copy[(prihod_copy['осталось']>0)&(prihod_copy['Количество']>0)]\n",
    "Q_prihod_tab =   prihod_start[prihod_start['Особый запас']=='Q']\n",
    "\n",
    "tab_ner_sc_prihod= neraspr_prihod_tab[['Комплекс','Завод+НН','Количество','Сумма во ВВ']].groupby(['Комплекс','Завод+НН']).sum().reset_index()\n",
    "tab_ner_sc_prihod['Признак нераспределенного прихода'] = True\n",
    "tab_Q_sc_prihod =   Q_prihod_tab[['Комплекс','Завод+НН','Количество','Сумма во ВВ']].groupby(['Комплекс','Завод+НН']).sum().reset_index()\n",
    "tab_Q_sc_prihod['Признак Q прихода'] = True\n",
    "\n",
    "\n",
    "tab_prihod = pd.concat([tab_ner_sc_prihod[['Комплекс','Завод+НН','Количество','Сумма во ВВ']]]).groupby(['Комплекс','Завод+НН']).sum().reset_index()\n",
    "# ,tab_Q_sc_prihod[['Комплекс','Завод+НН','Количество','Сумма во ВВ']]\n",
    "\n",
    "one_prihod = pd.merge(tab_prihod,tab_ner_sc_prihod[['Комплекс','Завод+НН','Признак нераспределенного прихода']],how='left')\n",
    "\n",
    "# tab_prihod_with_cons = pd.merge(one_prihod,tab_Q_sc_prihod[['Комплекс','Завод+НН','Признак Q прихода']],how='left').fillna(0)\n",
    "\n",
    "tab_prihod_with_cons = pd.concat([one_prihod,tab_Q_sc_prihod[['Комплекс','Завод+НН','Признак Q прихода']]])\n",
    "\n",
    "tab_prihod_with_cons.rename(columns={\"Количество\": \"Распределение_прихода\",'Сумма во ВВ':'Сумма_распреденного_прихода'},inplace=True)\n",
    "\n",
    "tab_Q_sc_prihod.rename(columns={\"Количество\": \"Распределение_прихода\",'Сумма во ВВ':'Сумма_распреденного_прихода'},inplace=True)\n",
    "tab_prihod_with_cons = pd.concat([tab_Q_sc_prihod,tab_prihod_with_cons])\n",
    "tab_prihod_with_cons = tab_prihod_with_cons.reset_index(drop=True)\n",
    "tab_prihod_with_cons = tab_prihod_with_cons.loc[tab_prihod_with_cons[['Распределение_прихода','Сумма_распреденного_прихода']].dropna(how = 'all').index]\n",
    "\n",
    "\n",
    "\n",
    "# работа по консолидации расхода\n",
    "\n",
    "# raspr_rashod_tab = rashod_copy[(rashod_copy['осталось']==0)&(rashod_copy['Кол-во в ЕИ ввода']>0)]\n",
    "neraspr_rashod_tab =  rashod_copy[(rashod_copy['осталось']>0)&(rashod_copy['Кол-во в ЕИ ввода']>0)]\n",
    "Q_rashod_tab =  rashod_start[rashod_start['Особый запас']=='Q']\n",
    "\n",
    "tab_ner_sc_rashod = neraspr_rashod_tab[['Комплекс','Завод+НН','Кол-во в ЕИ ввода','Сумма во ВВ']].groupby(['Комплекс','Завод+НН']).sum().reset_index()\n",
    "tab_ner_sc_rashod['Признак нераспределенного расхода'] = True\n",
    "tab_Q_sc_rashod =   Q_rashod_tab[['Комплекс','Завод+НН','Кол-во в ЕИ ввода','Сумма во ВВ']].groupby(['Комплекс','Завод+НН']).sum().reset_index()\n",
    "tab_Q_sc_rashod['Признак Q расхода'] = True\n",
    "tab_rashod = pd.concat([tab_ner_sc_rashod[['Комплекс','Завод+НН','Кол-во в ЕИ ввода','Сумма во ВВ']]]).groupby(['Комплекс','Завод+НН']).sum().reset_index()\n",
    "one_rashod = pd.merge(tab_rashod,tab_ner_sc_rashod[['Комплекс','Завод+НН','Признак нераспределенного расхода']],how='left')\n",
    "\n",
    "# tab_rashod_with_cons = pd.merge(one_rashod,tab_Q_sc_rashod[['Комплекс','Завод+НН','Признак Q расхода']],how='left').fillna(0)\n",
    "\n",
    "tab_rashod_with_cons = pd.concat([one_rashod,tab_Q_sc_rashod[['Комплекс','Завод+НН','Признак Q расхода']]])\n",
    "\n",
    "\n",
    "tab_rashod_with_cons.rename(columns={\"Кол-во в ЕИ ввода\": \"Распределение_расхода\",'Сумма во ВВ':'Сумма_распреденного_расхода'},inplace=True)\n",
    "\n",
    "\n",
    "tab_Q_sc_rashod.rename(columns={\"Кол-во в ЕИ ввода\": \"Распределение_расхода\",'Сумма во ВВ':'Сумма_распреденного_расхода'},inplace=True)\n",
    "\n",
    "tab_rashod_with_cons = pd.concat([tab_Q_sc_rashod,tab_rashod_with_cons])\n",
    "# ,tab_Q_sc_rashod[['Комплекс','Завод+НН','Кол-во в ЕИ ввода','Сумма во ВВ']]\n",
    "\n",
    "tab_rashod_with_cons = tab_rashod_with_cons.reset_index(drop=True)\n",
    "tab_rashod_with_cons = tab_rashod_with_cons.loc[tab_rashod_with_cons[['Распределение_расхода','Сумма_распреденного_расхода']].dropna(how = 'all').index]\n",
    "\n",
    "\n",
    "tab_rashod_with_cons['Q']  =tab_rashod_with_cons['Признак Q расхода']\n",
    "tab_prihod_with_cons['Q'] = tab_prihod_with_cons['Признак Q прихода']\n",
    "pre_low_part = pd.merge(tab_rashod_with_cons,tab_prihod_with_cons,how='outer',on=['Комплекс','Завод+НН','Q'])\n",
    "\n",
    "tottal_ost['Q'] = tottal_ost['Признак Q остатка']\n",
    "\n",
    "pre_low_part2 = pd.merge(pre_low_part,tottal_ost,how='outer',on=['Комплекс','Завод+НН','Q']).fillna(0)\n",
    "\n",
    "arr_str_zap  = vst.groupby(['Завод+НН','Комплекс']).agg({'Количество потребности':'sum'}).reset_index()\n",
    "arr_str_zap.rename(columns={'Количество потребности':'стрЗапас'},inplace=True)\n",
    "arr_str_zap['Признак Q остатка'] = 0\n",
    "pre_low_part3 = pd.merge(pre_low_part2,arr_str_zap,how='outer',on=['Комплекс','Завод+НН','Признак Q остатка']).fillna(0)\n",
    "\n",
    "sprav_mat_cal['Завод+НН'] = sprav_mat_cal['Завод'].astype('str')+' #'+sprav_mat_cal['Материал'].astype('str')\n",
    "sprav_mat_cal.drop_duplicates('Завод+НН',inplace=True)\n",
    "sprav_mat_cal_soed = sprav_mat_cal[['Завод+НН','Имя плановика (завод)','Класс оценки','СтатусМтрл на заводе','Ведущий материал','Базовая ЕИ','Краткий текст материала']]\n",
    "sprav_mat_cal_soed.rename(columns={'Имя плановика (завод)':'Плановик'},inplace=True)\n",
    "\n",
    "\n",
    "pre_low_part3 = pd.merge(pre_low_part3,sprav_mat_cal_soed,how='left',on='Завод+НН')\n",
    "\n",
    "potr_with_ostatok_total = pd.concat([potr_copy_for_prihod,pre_low_part3]).fillna(0)\n",
    "\n",
    "# справочник для материала\n",
    "mater = pd.concat([df[['Завод+НН','Материал']],NZ_start[['Завод+НН','Материал']],ZNB[['Завод+НН','Материал']],ostatok[['Завод+НН','Материал']],prihod[['Завод+НН','Материал']],rashod[['Завод+НН','Материал']]]).drop_duplicates()\n",
    "\n",
    "\n",
    "\n",
    "# подключаем материал к общему фрейму\n",
    "potr_with_ostatok_total = pd.merge(potr_with_ostatok_total.drop(['Материал'],axis=1),mater,how='left',on='Завод+НН').fillna(0)\n",
    "# potr_with_ostatok_total = pd.merge(potr_with_ostatok_total.drop('БЕ',axis=1),BE,how='left',on='Завод+НН').fillna(0)\n",
    "\n",
    "potr_with_ostatok_total.reset_index(inplace=True)\n",
    "\n",
    "\n",
    "# красота\n",
    "\n",
    "\n",
    "\n",
    "\n",
    "\n",
    "\n"
   ]
  },
  {
   "cell_type": "code",
   "execution_count": null,
   "metadata": {},
   "outputs": [],
   "source": [
    "# баланс количества остатка\n",
    "int(potr_with_ostatok_total['Распределение_остатака'].sum()+potr_with_ostatok_total['Блокированный запас'].sum()-ostatok['Кол-во запаса в конце периода'].sum())"
   ]
  },
  {
   "cell_type": "code",
   "execution_count": null,
   "metadata": {},
   "outputs": [],
   "source": [
    "# баланс суммы остатка\n",
    "int(potr_with_ostatok_total['Ст-ть/блок. запаса'].sum() + potr_with_ostatok_total['Сумма_распреденного_остатка'].sum()-ostatok['Ст-ть запаса в конце периода'].sum())"
   ]
  },
  {
   "cell_type": "code",
   "execution_count": null,
   "metadata": {},
   "outputs": [],
   "source": [
    "# баланс количества прихода\n",
    "int(potr_with_ostatok_total['Распределение_прихода'].sum()-(raspr_prihod+neraspr_prihod+Q_prihod))"
   ]
  },
  {
   "cell_type": "code",
   "execution_count": null,
   "metadata": {},
   "outputs": [],
   "source": [
    "#  баланс суммы прихода\n",
    "int(potr_with_ostatok_total['Сумма_распреденного_прихода'].sum()-(raspr_prihod_sum+neraspr_prihod_sum+Q_prihod_sum))"
   ]
  },
  {
   "cell_type": "code",
   "execution_count": null,
   "metadata": {},
   "outputs": [],
   "source": [
    "#  баланс суммы расхода\n",
    "int(potr_with_ostatok_total['Сумма_распреденного_расхода'].sum()-(raspr_rashod_money+neraspr_rashod_money+Q_rashod_money))"
   ]
  },
  {
   "cell_type": "code",
   "execution_count": null,
   "metadata": {},
   "outputs": [],
   "source": []
  },
  {
   "cell_type": "code",
   "execution_count": null,
   "metadata": {},
   "outputs": [],
   "source": [
    "a = tottal_ost.copy()"
   ]
  },
  {
   "cell_type": "code",
   "execution_count": null,
   "metadata": {},
   "outputs": [],
   "source": [
    "a['Распределение_остатака'].sum()"
   ]
  },
  {
   "cell_type": "code",
   "execution_count": null,
   "metadata": {},
   "outputs": [],
   "source": [
    "a['Сумма_распреденного_остатка'].sum()"
   ]
  },
  {
   "cell_type": "code",
   "execution_count": null,
   "metadata": {},
   "outputs": [],
   "source": [
    "a['Ст-ть/блок. запаса'].sum()"
   ]
  },
  {
   "cell_type": "code",
   "execution_count": null,
   "metadata": {},
   "outputs": [],
   "source": [
    "tottal_ost"
   ]
  },
  {
   "cell_type": "code",
   "execution_count": null,
   "metadata": {},
   "outputs": [],
   "source": [
    "# проверка распределения остатка и формирование сцепки с основным листом\n",
    "# работа пок онсолидаци остатков\n",
    "\n",
    "ost_Q = ost_start[(ost_start['Cвободный запас']>0)&(ost_start['Особый запас']=='Q')]\n",
    "ost_Q['Признак Q остатка'] = True\n",
    "\n",
    "ost_Q1 = ost_start[(ost_start['Cвободный запас']==0)&(ost_start['Особый запас']!='Q')]    \n",
    "\n",
    "ost_Q  = pd.concat([ost_Q,ost_Q1])\n",
    "ost_Q.fillna(0,inplace=True)\n",
    "\n",
    "ff = ost_block[['Завод+склад+партия+особый запас+НН','Блокированный запас','Завод+НН','Комплекс','Партия']]\n",
    "ost_with_block  =  pd.merge(ost_copy1,ff,how='outer')\n",
    "ost_with_block.fillna(0,inplace = True)\n",
    "\n",
    "ost_copy1['Cвободный запас'] = ost_copy1['осталось']\n",
    "ost_copy1['Стоимость свободного остатка'] = (ost_copy1['Ст-ть запаса в конце периода']    / ost_copy1['Кол-во запаса в конце периода']) * ost_copy1['осталось']\n",
    "# 1составляющая нераспределенный остаток\n",
    "neraspr_ostat_tab = ost_copy1[(ost_copy1['осталось']>0)&(ost_copy1['Cвободный запас']>0)][['Комплекс','Завод+НН','Cвободный запас','Стоимость свободного остатка','Партия']].groupby(['Комплекс','Завод+НН','Партия']).sum().reset_index()\n",
    "neraspr_ostat_tab['Признак нераспределнного остатка'] = True\n",
    "# 2составляющая нераспределенный остаток\n",
    "ost_Q_tab = ost_Q[['Признак Q остатка','Комплекс','Завод+НН','Cвободный запас','Стоимость свободного остатка','Базовая ЕИ','Материал','Партия']].groupby(['Комплекс','Завод+НН','Партия']).sum().reset_index()\n",
    "# ost_Q_tab['Признак Q остатка'] = 0\n",
    "\n",
    "\n",
    "ost1 = neraspr_ostat_tab[['Комплекс','Завод+НН','Cвободный запас','Стоимость свободного остатка','Партия']]\n",
    "\n",
    "\n",
    "\n",
    "# 11111111111111111111111\n",
    "ost2 = ost_Q_tab[['Комплекс','Завод+НН','Cвободный запас','Стоимость свободного остатка','Партия']]\n",
    "ost2['Признак Q остатка'] = True\n",
    "\n",
    "\n",
    "\n",
    "\n",
    "\n",
    "\n",
    "one = pd.merge(ost_ner_q_t,neraspr_ostat_tab[['Комплекс','Завод+НН','Признак нераспределнного остатка','Партия']],how='left',on=['Комплекс','Завод+НН','Партия'])\n",
    "one = one.groupby(['Комплекс','Завод+НН','Партия']).sum().reset_index()\n",
    "\n",
    "# # \n",
    "two  = pd.merge(one,ost_Q_tab[['Комплекс','Завод+НН','Партия']],how='outer',on=['Комплекс','Завод+НН','Партия'])\n",
    "stoim_bl_zap =  ost_start[['Комплекс','Завод+НН','Ст-ть/блок. запаса','Партия']].groupby(['Комплекс','Завод+НН','Партия']).sum().reset_index()\n",
    "\n",
    "\n",
    "aa = stoim_bl_zap.groupby(['Комплекс','Завод+НН','Партия']).sum().reset_index()\n",
    "bb = ost_with_block[['Комплекс','Завод+НН','Блокированный запас','Ст-ть/блок. запаса','Партия']]\n",
    "bb['Ст-ть/блок. запаса'] = 0\n",
    "\n",
    "ost_dlya_scepki = pd.merge(aa,bb,how='outer').fillna(0).groupby(['Комплекс','Завод+НН','Партия']).sum().reset_index()\n",
    "\n",
    "tottal_ost  = pd.merge(two,ost_dlya_scepki,how='outer').fillna(0)\n",
    "\n",
    "a = ost_Q[['Комплекс','Завод+НН','Признак Q остатка','Партия']]\n",
    "tottal_ost = pd.concat([tottal_ost,a[a['Признак Q остатка']==True].drop_duplicates()])\n",
    "# tottal_ost = pd.merge(tottal_ost,a[a['Признак Q остатка']==True].drop_duplicates(),how='left',on=['Завод+НН','Комплекс'])\n",
    "tottal_ost.rename(columns={\"Cвободный запас\": \"Распределение_остатака\",'Стоимость свободного остатка':'Сумма_распреденного_остатка'},inplace=True)\n",
    "ost2.rename(columns={\"Cвободный запас\": \"Распределение_остатака\",'Стоимость свободного остатка':'Сумма_распреденного_остатка'},inplace=True)\n",
    "tottal_ost = pd.concat([tottal_ost,ost2])\n",
    "tottal_ost = tottal_ost.reset_index(drop=True)\n",
    "\n",
    "tottal_ost = tottal_ost.loc[tottal_ost[['Распределение_остатака','Ст-ть/блок. запаса','Сумма_распреденного_остатка','Партия']].dropna(how = 'all').index]\n",
    "\n",
    "f_tr = tottal_ost.apply(lambda x: True if x['Партия'][:2].isalpha() and x['Партия'][-2:].isalpha()==False else False,axis = 1)\n",
    "for ind in tottal_ost[f_tr].index:\n",
    "    st = tottal_ost.loc[ind,'Завод+НН'].split(' ')\n",
    "    st[0] = tottal_ost.loc[ind,'Партия'][-4:]\n",
    "    tottal_ost.loc[ind,'Завод+НН'] = ' '.join(st)\n",
    "    \n",
    "tottal_ost.drop('Партия',axis = 1,inplace = True)\n",
    "tottal_ost.fillna(0,inplace = True)\n",
    "ggttt = tottal_ost[f_tr].copy()\n",
    "tottal_ost = tottal_ost.groupby(['Завод+НН','Комплекс','Признак Q остатка','Признак нераспределнного остатка']).sum().reset_index()\n",
    "\n",
    "\n",
    "# raspr_prihod = prihod_copy[(prihod_copy['осталось']==0)&(prihod_copy['Количество']>0)]['Количество'].sum()\n",
    "neraspr_prihod_tab =  prihod_copy[(prihod_copy['осталось']>0)&(prihod_copy['Количество']>0)]\n",
    "Q_prihod_tab =   prihod_start[prihod_start['Особый запас']=='Q']\n",
    "\n",
    "tab_ner_sc_prihod= neraspr_prihod_tab[['Комплекс','Завод+НН','Количество','Сумма во ВВ']].groupby(['Комплекс','Завод+НН']).sum().reset_index()\n",
    "tab_ner_sc_prihod['Признак нераспределенного прихода'] = True\n",
    "tab_Q_sc_prihod =   Q_prihod_tab[['Комплекс','Завод+НН','Количество','Сумма во ВВ']].groupby(['Комплекс','Завод+НН']).sum().reset_index()\n",
    "tab_Q_sc_prihod['Признак Q прихода'] = True\n",
    "\n",
    "\n",
    "tab_prihod = pd.concat([tab_ner_sc_prihod[['Комплекс','Завод+НН','Количество','Сумма во ВВ']]]).groupby(['Комплекс','Завод+НН']).sum().reset_index()\n",
    "# ,tab_Q_sc_prihod[['Комплекс','Завод+НН','Количество','Сумма во ВВ']]\n",
    "\n",
    "one_prihod = pd.merge(tab_prihod,tab_ner_sc_prihod[['Комплекс','Завод+НН','Признак нераспределенного прихода']],how='left')\n",
    "\n",
    "# tab_prihod_with_cons = pd.merge(one_prihod,tab_Q_sc_prihod[['Комплекс','Завод+НН','Признак Q прихода']],how='left').fillna(0)\n",
    "\n",
    "tab_prihod_with_cons = pd.concat([one_prihod,tab_Q_sc_prihod[['Комплекс','Завод+НН','Признак Q прихода']]])\n",
    "\n",
    "tab_prihod_with_cons.rename(columns={\"Количество\": \"Распределение_прихода\",'Сумма во ВВ':'Сумма_распреденного_прихода'},inplace=True)\n",
    "\n",
    "tab_Q_sc_prihod.rename(columns={\"Количество\": \"Распределение_прихода\",'Сумма во ВВ':'Сумма_распреденного_прихода'},inplace=True)\n",
    "tab_prihod_with_cons = pd.concat([tab_Q_sc_prihod,tab_prihod_with_cons])\n",
    "tab_prihod_with_cons = tab_prihod_with_cons.reset_index(drop=True)\n",
    "tab_prihod_with_cons = tab_prihod_with_cons.loc[tab_prihod_with_cons[['Распределение_прихода','Сумма_распреденного_прихода']].dropna(how = 'all').index]\n",
    "\n",
    "\n",
    "\n",
    "# работа по консолидации расхода\n",
    "\n",
    "# raspr_rashod_tab = rashod_copy[(rashod_copy['осталось']==0)&(rashod_copy['Кол-во в ЕИ ввода']>0)]\n",
    "neraspr_rashod_tab =  rashod_copy[(rashod_copy['осталось']>0)&(rashod_copy['Кол-во в ЕИ ввода']>0)]\n",
    "Q_rashod_tab =  rashod_start[rashod_start['Особый запас']=='Q']\n",
    "\n",
    "tab_ner_sc_rashod = neraspr_rashod_tab[['Комплекс','Завод+НН','Кол-во в ЕИ ввода','Сумма во ВВ']].groupby(['Комплекс','Завод+НН']).sum().reset_index()\n",
    "tab_ner_sc_rashod['Признак нераспределенного расхода'] = True\n",
    "tab_Q_sc_rashod =   Q_rashod_tab[['Комплекс','Завод+НН','Кол-во в ЕИ ввода','Сумма во ВВ']].groupby(['Комплекс','Завод+НН']).sum().reset_index()\n",
    "tab_Q_sc_rashod['Признак Q расхода'] = True\n",
    "tab_rashod = pd.concat([tab_ner_sc_rashod[['Комплекс','Завод+НН','Кол-во в ЕИ ввода','Сумма во ВВ']]]).groupby(['Комплекс','Завод+НН']).sum().reset_index()\n",
    "one_rashod = pd.merge(tab_rashod,tab_ner_sc_rashod[['Комплекс','Завод+НН','Признак нераспределенного расхода']],how='left')\n",
    "\n",
    "# tab_rashod_with_cons = pd.merge(one_rashod,tab_Q_sc_rashod[['Комплекс','Завод+НН','Признак Q расхода']],how='left').fillna(0)\n",
    "\n",
    "tab_rashod_with_cons = pd.concat([one_rashod,tab_Q_sc_rashod[['Комплекс','Завод+НН','Признак Q расхода']]])\n",
    "\n",
    "\n",
    "tab_rashod_with_cons.rename(columns={\"Кол-во в ЕИ ввода\": \"Распределение_расхода\",'Сумма во ВВ':'Сумма_распреденного_расхода'},inplace=True)\n",
    "\n",
    "\n",
    "tab_Q_sc_rashod.rename(columns={\"Кол-во в ЕИ ввода\": \"Распределение_расхода\",'Сумма во ВВ':'Сумма_распреденного_расхода'},inplace=True)\n",
    "\n",
    "tab_rashod_with_cons = pd.concat([tab_Q_sc_rashod,tab_rashod_with_cons])\n",
    "# ,tab_Q_sc_rashod[['Комплекс','Завод+НН','Кол-во в ЕИ ввода','Сумма во ВВ']]\n",
    "\n",
    "tab_rashod_with_cons = tab_rashod_with_cons.reset_index(drop=True)\n",
    "tab_rashod_with_cons = tab_rashod_with_cons.loc[tab_rashod_with_cons[['Распределение_расхода','Сумма_распреденного_расхода']].dropna(how = 'all').index]\n",
    "\n",
    "\n",
    "tab_rashod_with_cons['Q']  =tab_rashod_with_cons['Признак Q расхода']\n",
    "tab_prihod_with_cons['Q'] = tab_prihod_with_cons['Признак Q прихода']\n",
    "pre_low_part = pd.merge(tab_rashod_with_cons,tab_prihod_with_cons,how='outer',on=['Комплекс','Завод+НН','Q'])\n",
    "\n",
    "tottal_ost['Q'] = tottal_ost['Признак Q остатка']\n",
    "\n",
    "pre_low_part2 = pd.merge(pre_low_part,tottal_ost,how='outer',on=['Комплекс','Завод+НН','Q']).fillna(0)\n",
    "\n",
    "arr_str_zap  = vst.groupby(['Завод+НН','Комплекс']).agg({'Количество потребности':'sum'}).reset_index()\n",
    "arr_str_zap.rename(columns={'Количество потребности':'стрЗапас'},inplace=True)\n",
    "arr_str_zap['Признак Q остатка'] = 0\n",
    "pre_low_part3 = pd.merge(pre_low_part2,arr_str_zap,how='outer',on=['Комплекс','Завод+НН','Признак Q остатка']).fillna(0)\n",
    "\n",
    "sprav_mat_cal['Завод+НН'] = sprav_mat_cal['Завод'].astype('str')+' #'+sprav_mat_cal['Материал'].astype('str')\n",
    "sprav_mat_cal.drop_duplicates('Завод+НН',inplace=True)\n",
    "sprav_mat_cal_soed = sprav_mat_cal[['Завод+НН','Имя плановика (завод)','Класс оценки','СтатусМтрл на заводе','Ведущий материал','Базовая ЕИ','Краткий текст материала']]\n",
    "sprav_mat_cal_soed.rename(columns={'Имя плановика (завод)':'Плановик'},inplace=True)\n",
    "\n",
    "\n",
    "pre_low_part3 = pd.merge(pre_low_part3,sprav_mat_cal_soed,how='left',on='Завод+НН')\n",
    "\n",
    "potr_with_ostatok_total = pd.concat([potr_copy_for_prihod,pre_low_part3]).fillna(0)\n",
    "\n",
    "# справочник для материала\n",
    "mater = pd.concat([df[['Завод+НН','Материал']],NZ_start[['Завод+НН','Материал']],ZNB[['Завод+НН','Материал']],ostatok[['Завод+НН','Материал']],prihod[['Завод+НН','Материал']],rashod[['Завод+НН','Материал']]]).drop_duplicates()\n",
    "\n",
    "\n",
    "\n",
    "# подключаем материал к общему фрейму\n",
    "potr_with_ostatok_total = pd.merge(potr_with_ostatok_total.drop(['Материал'],axis=1),mater,how='left',on='Завод+НН').fillna(0)\n",
    "# potr_with_ostatok_total = pd.merge(potr_with_ostatok_total.drop('БЕ',axis=1),BE,how='left',on='Завод+НН').fillna(0)\n",
    "\n",
    "potr_with_ostatok_total.reset_index(inplace=True)\n",
    "\n",
    "\n",
    "# красота\n"
   ]
  },
  {
   "cell_type": "code",
   "execution_count": null,
   "metadata": {},
   "outputs": [],
   "source": [
    "tottal_ost"
   ]
  },
  {
   "cell_type": "code",
   "execution_count": null,
   "metadata": {},
   "outputs": [],
   "source": [
    "tottal_ost['Распределение_остатака'].sum()"
   ]
  },
  {
   "cell_type": "code",
   "execution_count": null,
   "metadata": {},
   "outputs": [],
   "source": [
    "tottal_ost"
   ]
  },
  {
   "cell_type": "code",
   "execution_count": null,
   "metadata": {},
   "outputs": [],
   "source": [
    "f_tr = tottal_ost.apply(lambda x: True if x['Партия'][:2].isalpha() and x['Партия'][-2:].isalpha()==False else False,axis = 1)\n",
    "for ind in tottal_ost[f_tr].index:\n",
    "    st = tottal_ost.loc[ind,'Завод+НН'].split(' ')\n",
    "    st[0] = tottal_ost.loc[ind,'Партия'][-4:]\n",
    "    tottal_ost.loc[ind,'Завод+НН'] = ' '.join(st)\n",
    "tottal_ost.fillna(0,inplace = True)\n",
    "tottal_ost = tottal_ost.groupby(['Завод+НН','Комплекс','Признак Q остатка','Признак нераспределнного остатка','Q']).sum().reset_index()"
   ]
  },
  {
   "cell_type": "code",
   "execution_count": null,
   "metadata": {},
   "outputs": [],
   "source": [
    "tottal_ost[f_tr]"
   ]
  },
  {
   "cell_type": "code",
   "execution_count": null,
   "metadata": {},
   "outputs": [],
   "source": [
    "tottal_ost.drop('Партия',axis = 1,inplace = True)"
   ]
  },
  {
   "cell_type": "code",
   "execution_count": null,
   "metadata": {},
   "outputs": [],
   "source": [
    "tottal_ost.info()"
   ]
  },
  {
   "cell_type": "code",
   "execution_count": null,
   "metadata": {},
   "outputs": [],
   "source": [
    "tottal_ost.groupby(['Завод+НН','Комплекс','Признак Q остатка','Признак нераспределнного остатка','Q']).sum().reset_index()"
   ]
  },
  {
   "cell_type": "code",
   "execution_count": null,
   "metadata": {
    "scrolled": true
   },
   "outputs": [],
   "source": [
    "potr_with_ostatok_total[potr_with_ostatok_total['Материал']=='011001103']['Завод+НН'].unique()"
   ]
  },
  {
   "cell_type": "code",
   "execution_count": null,
   "metadata": {},
   "outputs": [],
   "source": [
    "aassd = get_in_backup(path_backup='backup_for_powerBI_test_no.h5',name='f0_vertical_02_20_')"
   ]
  },
  {
   "cell_type": "code",
   "execution_count": null,
   "metadata": {},
   "outputs": [],
   "source": [
    "aassd[aassd['Материал']=='011001207']['Завод+НН'].unique()"
   ]
  },
  {
   "cell_type": "code",
   "execution_count": null,
   "metadata": {},
   "outputs": [],
   "source": [
    "ggttt"
   ]
  },
  {
   "cell_type": "code",
   "execution_count": null,
   "metadata": {},
   "outputs": [],
   "source": [
    "save_pyex(df=ZNB,path='C:\\\\Users\\\\Илья\\\\Desktop\\\\kazzinc\\\\Uploads1\\\\'+folder+'\\\\extr_xlsx\\\\ZNB.xlsx')"
   ]
  },
  {
   "cell_type": "code",
   "execution_count": null,
   "metadata": {},
   "outputs": [],
   "source": [
    "save_pyex(df=ZNB1,path='C:\\\\Users\\\\Илья\\\\Desktop\\\\kazzinc\\\\Uploads1\\\\'+folder+'\\\\extr_xlsx\\\\ZNB1.xlsx')"
   ]
  },
  {
   "cell_type": "code",
   "execution_count": null,
   "metadata": {},
   "outputs": [],
   "source": [
    "save_pyex(df=NB,path='C:\\\\Users\\\\Илья\\\\Desktop\\\\kazzinc\\\\Uploads1\\\\'+folder+'\\\\extr_xlsx\\\\NB.xlsx')"
   ]
  },
  {
   "cell_type": "code",
   "execution_count": null,
   "metadata": {},
   "outputs": [],
   "source": [
    "sprav_mat_cal_last_full[(sprav_mat_cal_last_full['Материал']=='430201525')&(sprav_mat_cal_last_full['Завод']=='4611')]"
   ]
  },
  {
   "cell_type": "code",
   "execution_count": null,
   "metadata": {},
   "outputs": [],
   "source": [
    "df[['Завод+НН','Инициатор']].drop_duplicates()"
   ]
  },
  {
   "cell_type": "code",
   "execution_count": null,
   "metadata": {
    "scrolled": true
   },
   "outputs": [],
   "source": [
    "save_pyex(df=df[['Завод+НН','Инициатор']].drop_duplicates(),path='C:\\\\Users\\\\Илья\\\\Desktop\\\\kazzinc\\\\Uploads1\\\\'+folder+'\\\\extr_xlsx\\\\ggd.xlsx')"
   ]
  },
  {
   "cell_type": "code",
   "execution_count": null,
   "metadata": {},
   "outputs": [],
   "source": [
    "c_f0[c_f0['Материал']=='910460017']"
   ]
  },
  {
   "cell_type": "code",
   "execution_count": null,
   "metadata": {},
   "outputs": [],
   "source": [
    "potr_with_ostatok_total[potr_with_ostatok_total['Материал']=='910460017']"
   ]
  },
  {
   "cell_type": "code",
   "execution_count": null,
   "metadata": {},
   "outputs": [],
   "source": [
    "potr_with_ostatok_total[potr_with_ostatok_total['Материал']=='910460017']"
   ]
  },
  {
   "cell_type": "code",
   "execution_count": null,
   "metadata": {},
   "outputs": [],
   "source": [
    "trttr = tottal_ost[f_tr]"
   ]
  },
  {
   "cell_type": "code",
   "execution_count": null,
   "metadata": {},
   "outputs": [],
   "source": [
    "trttr"
   ]
  },
  {
   "cell_type": "code",
   "execution_count": null,
   "metadata": {},
   "outputs": [],
   "source": [
    "thtytth = pd.concat([tottal_ost,ost2])"
   ]
  },
  {
   "cell_type": "code",
   "execution_count": null,
   "metadata": {},
   "outputs": [],
   "source": [
    "thtytth[thtytth['Завод+НН'].apply(lambda x: x.find('910460017')!=-1)]"
   ]
  },
  {
   "cell_type": "code",
   "execution_count": null,
   "metadata": {},
   "outputs": [],
   "source": [
    "tottal_ost"
   ]
  },
  {
   "cell_type": "code",
   "execution_count": null,
   "metadata": {},
   "outputs": [],
   "source": [
    "ost2"
   ]
  },
  {
   "cell_type": "code",
   "execution_count": null,
   "metadata": {},
   "outputs": [],
   "source": [
    "ost2[ost2['Завод+НН'].apply(lambda x: x.find('910460017')!=-1)]"
   ]
  },
  {
   "cell_type": "code",
   "execution_count": null,
   "metadata": {},
   "outputs": [],
   "source": [
    "ost_dlya_scepki[ost_dlya_scepki['Завод+НН'].apply(lambda x: x.find('910460017')!=-1)]"
   ]
  },
  {
   "cell_type": "code",
   "execution_count": null,
   "metadata": {},
   "outputs": [],
   "source": [
    "df = get_in_backup(path_backup='backup.h5',name='extract')"
   ]
  },
  {
   "cell_type": "code",
   "execution_count": null,
   "metadata": {},
   "outputs": [],
   "source": [
    "# KONH = pd.read_excel('C:\\\\Users\\\\Илья\\\\Desktop\\\\kazzinc\\\\KPI\\\\0120\\\\KONH.xlsx',sheet_name='Sheet1')\n",
    "# KONP  = pd.read_excel('C:\\\\Users\\\\Илья\\\\Desktop\\\\kazzinc\\\\KPI\\\\0120\\\\KONP.xlsx',sheet_name='Sheet1')\n",
    "# MARM = pd.read_excel('C:\\\\Users\\\\Илья\\\\Desktop\\\\kazzinc\\\\KPI\\\\0120\\\\MARM.xlsx',sheet_name='Sheet1')\n",
    "# A900 = pd.read_excel('C:\\\\Users\\\\Илья\\\\Desktop\\\\kazzinc\\\\KPI\\\\0120\\\\A900.xlsx',sheet_name='Sheet1')\n",
    "# A901 = pd.read_excel('C:\\\\Users\\\\Илья\\\\Desktop\\\\kazzinc\\\\KPI\\\\0120\\\\A901.xlsx',sheet_name='Sheet1')\n",
    "# A902 = pd.read_excel('C:\\\\Users\\\\Илья\\\\Desktop\\\\kazzinc\\\\KPI\\\\0120\\\\A902.xlsx',sheet_name='Sheet1')\n",
    "KONH = pd.read_excel('C:\\\\Users\\\\Илья\\\\Desktop\\\\kazzinc\\\\musor\\\\KONH.xlsx',sheet_name='Sheet1')\n",
    "KONP  = pd.read_excel('C:\\\\Users\\\\Илья\\\\Desktop\\\\kazzinc\\\\musor\\\\KONP.xlsx',sheet_name='Sheet1')\n",
    "MARM = pd.read_excel('C:\\\\Users\\\\Илья\\\\Desktop\\\\kazzinc\\\\musor\\\\MARM.xlsx',sheet_name='Sheet1')\n",
    "A900 = pd.read_excel('C:\\\\Users\\\\Илья\\\\Desktop\\\\kazzinc\\\\musor\\\\A900.xlsx',sheet_name='Sheet1')\n",
    "A901 = pd.read_excel('C:\\\\Users\\\\Илья\\\\Desktop\\\\kazzinc\\\\musor\\\\A901.xlsx',sheet_name='Sheet1')\n",
    "A902 = pd.read_excel('C:\\\\Users\\\\Илья\\\\Desktop\\\\kazzinc\\\\musor\\\\A902.xlsx',sheet_name='Sheet1')"
   ]
  },
  {
   "cell_type": "code",
   "execution_count": null,
   "metadata": {},
   "outputs": [],
   "source": [
    "def func_KONH(x):\n",
    "    if x['Таблица']=='900':return x['Переменный ключ']\n",
    "    elif x['Таблица']=='901':return x['Переменный ключ'][4:]\n",
    "    elif x['Таблица']=='902':return x['Переменный ключ'][3:]\n",
    "    else:return 'пусто'    \n",
    "    \n",
    "KONH.fillna(0,inplace=True)\n",
    "KONP.fillna(0,inplace=True)\n",
    "MARM.fillna(0,inplace=True)\n",
    "\n",
    "KONP = KONP[KONP['Индикатор удаления']!='X']\n",
    "\n",
    "to_str_KONH = ['Номер записи условий','Таблица','Переменный ключ','Вид условия']\n",
    "for i in to_str_KONH:\n",
    "    KONH[i] = KONH[i].apply(lambda x: str(x).replace('.0','')).astype('str')\n",
    "    KONH[i] = KONH[i].apply(lambda x: '' if x=='0' else x)\n",
    "    \n",
    "to_str_KONP = ['Номер записи условий','Единица измерения','Вид условия','Валюта условия']\n",
    "for i in to_str_KONP:\n",
    "    KONP[i] = KONP[i].apply(lambda x: str(x).replace('.0','')).astype('str')\n",
    "    KONP[i] = KONP[i].apply(lambda x: '' if x=='0' else x)\n",
    "    \n",
    "KONH = KONH[(KONH['Вид условия']=='ZP00')&((KONH['Таблица']=='900')|(KONH['Таблица']=='901')|(KONH['Таблица']=='902'))]   \n",
    "KONH['Материал'] = KONH.apply(lambda x:func_KONH(x),axis = 1)\n",
    "\n",
    "KONH['округ'] = KONH.apply(lambda x: x['Переменный ключ'][:2] if x['Таблица']=='902' else 'пусто',axis = 1)\n",
    "KONH['Завод'] = KONH.apply(lambda x: x['Переменный ключ'][:4] if x['Таблица']=='901' else 'пусто',axis = 1)\n",
    "KONH.reset_index(drop = True,inplace = True)\n",
    "\n",
    "\n",
    "to_str_MARM = ['Материал','Альтернативная ЕИ']\n",
    "for i in to_str_MARM:\n",
    "    MARM[i] = MARM[i].apply(lambda x: str(x).replace('.0','')).astype('str')\n",
    "    MARM[i] = MARM[i].apply(lambda x: '' if x=='0' else x)\n",
    "\n",
    "\n",
    "for d in [A900,A901,A902]:\n",
    "    d['Номер записи условий'] =  d['Номер записи условий'].apply(lambda x: str(x).replace('.0','')).astype('str')\n",
    "    \n",
    "fil = KONH['Номер записи условий'].isin(pd.concat([A900['Номер записи условий'],A901['Номер записи условий'],A902['Номер записи условий']]).drop_duplicates())\n",
    "KONH = KONH[fil]  \n"
   ]
  },
  {
   "cell_type": "code",
   "execution_count": null,
   "metadata": {},
   "outputs": [],
   "source": [
    "potr_with_ostatok_total1 = potr_with_ostatok_total[:1000].copy()"
   ]
  },
  {
   "cell_type": "code",
   "execution_count": null,
   "metadata": {},
   "outputs": [],
   "source": [
    "potr_with_ostatok_total = parallel_calc_fast(potr_with_ostatok_total,KONH,current_date,KONP,MARM,375)"
   ]
  },
  {
   "cell_type": "code",
   "execution_count": null,
   "metadata": {},
   "outputs": [],
   "source": [
    "import numpy as np\n",
    "import time\n",
    "from multiprocessing import Pool\n",
    "def parallel_calc_fast(cons,KONH,current_date,KONP,MARM):\n",
    "    if len([x for x in cons.columns if x=='Цена'])>0:\n",
    "        cons.drop(['Цена'],axis = 1,inplace = True)\n",
    "    data_frame = cons.copy()\n",
    "    cons = cons[['Код округа','Материал','Завод','Базовая ЕИ']].drop_duplicates()\n",
    "    cons.reset_index(inplace = True,drop = True)\n",
    "    start_time = time.time()\n",
    "    pool = Pool(processes=10)\n",
    "    cons['Цена']=0\n",
    "    cons.rename(columns={\"Код округа\": \"округ\"},inplace=True)\n",
    "    KONH = KONH.reset_index(drop=True)\n",
    "#     KONH_po = KONH.reset_index().set_index(['Материал',pd.Index(KONH['Действ. по'].apply(lambda x:str(x.year)))])\n",
    "    KONH['key2'] = KONH['Материал']+KONH['Действ. по'].apply(lambda x: str(x.year))\n",
    "#     KONH_po = KONH.reset_index().set_index(['key2'])\n",
    "\n",
    "#     KONH_s = KONH.reset_index().set_index(['Материал',pd.Index(KONH['Действ. с'].apply(lambda x:str(x.year)))])\n",
    "    KONH['key1'] = KONH['Материал']+KONH['Действ. с'].apply(lambda x: str(x.year))\n",
    "#     KONH_s = KONH.reset_index().set_index(['key1'])\n",
    "\n",
    "    KONH.rename(columns={\"Номер записи условий\": 'Номер_записи_условий'},inplace=True)\n",
    "    KONH['sort'] = KONH['Номер_записи_условий'].astype('int')\n",
    "    KONH.sort_values('sort',inplace = True,ascending = False)\n",
    "    KONH_po = KONH.groupby('key2')\n",
    "    KONH_s = KONH.groupby('key1')\n",
    "    \n",
    "    \n",
    "    \n",
    "    \n",
    "#     KONP = KONP.set_index(['Номер записи условий'])\n",
    "    KONP = KONP.groupby('Номер записи условий')\n",
    "    MARM['key'] = MARM['Материал']+MARM['Альтернативная ЕИ']\n",
    "#     MARM =  MARM.set_index(['Материал','Альтернативная ЕИ'])\n",
    "    MARM = MARM.groupby('key')\n",
    "    arrs =  np.array_split(cons,20)\n",
    "    arrs =  [(arr,KONH_po,KONH_s,current_date,KONP,MARM) for arr in arrs]\n",
    "    df_list = pool.map(func_read_ex.calc_price_super_fast, arrs)\n",
    "    df = pd.concat(df_list)\n",
    "    print(\"--- %s seconds ---\" % (time.time() - start_time))\n",
    "    pool.close()\n",
    "    df.rename(columns={\"округ\": \"Код округа\"},inplace=True)\n",
    "#     df = pd.concat([df.set_index(['Код округа','Материал','Завод','Базовая ЕИ']),data_frame.set_index(['Код округа','Материал','Завод','Базовая ЕИ'])],axis = 1)\n",
    "    df = data_frame.merge(df,left_on=['Код округа','Материал','Завод','Базовая ЕИ'],right_on=['Код округа','Материал','Завод','Базовая ЕИ'],how='outer')\n",
    "    \n",
    "    df.reset_index(inplace = True,drop = True)\n",
    "    \n",
    "    df.drop(['номер записи условий','цена без учета коэф.пересчата','единица измерения закупки'],axis = 1,inplace = True)\n",
    "    return df "
   ]
  },
  {
   "cell_type": "code",
   "execution_count": null,
   "metadata": {},
   "outputs": [],
   "source": [
    "potr_with_ostatok_total = potr_with_ostatok_total[potr_with_ostatok_total['Материал']=='122501050'].copy()"
   ]
  },
  {
   "cell_type": "code",
   "execution_count": null,
   "metadata": {
    "scrolled": true
   },
   "outputs": [],
   "source": [
    "a = potr_with_ostatok_total1.set_index(['Код округа','Материал','Завод','Базовая ЕИ'])"
   ]
  },
  {
   "cell_type": "code",
   "execution_count": null,
   "metadata": {},
   "outputs": [],
   "source": [
    "b = potr_with_ostatok_total2.set_index(['Код округа','Материал','Завод','Базовая ЕИ'])"
   ]
  },
  {
   "cell_type": "code",
   "execution_count": null,
   "metadata": {},
   "outputs": [],
   "source": [
    "if len([x for x in potr_with_ostatok_total1.columns if x=='Цена'])>0:\n",
    "    "
   ]
  },
  {
   "cell_type": "code",
   "execution_count": null,
   "metadata": {},
   "outputs": [],
   "source": [
    "potr_with_ostatok_total = get_in_backup(path_backup='backup_for_powerBI_test_no.h5',name='f0_vertical_02_20_')"
   ]
  },
  {
   "cell_type": "code",
   "execution_count": null,
   "metadata": {},
   "outputs": [],
   "source": []
  },
  {
   "cell_type": "code",
   "execution_count": null,
   "metadata": {},
   "outputs": [],
   "source": []
  },
  {
   "cell_type": "code",
   "execution_count": null,
   "metadata": {},
   "outputs": [],
   "source": [
    "T001W = pd.read_excel(directory+'T001W.xlsx',sheet_name='Sheet1')\n",
    "ZMM_E0078_MDLV = pd.read_excel(directory+'ZMM_E0078_MDLV.xlsx',sheet_name='Sheet1',dtype={'Область ППМ':'str','Код округа':'str'})"
   ]
  },
  {
   "cell_type": "code",
   "execution_count": null,
   "metadata": {},
   "outputs": [],
   "source": [
    "spr_kod_okruga = rev_to_dict(ZMM_E0078_MDLV['Область ППМ'].apply(lambda x: str(x).replace('.0',''))\\\n",
    "                             .astype('str').str.strip(),ZMM_E0078_MDLV['Код округа'])\n",
    "spr_kod_okruga1 = rev_to_dict(T001W['Завод'].apply(lambda x: str(x).replace('.0','')).astype('str'),\\\n",
    "            T001W['Код округа'].apply(lambda x: str(x).replace('.0','')).astype('str'))\n",
    "\n",
    "potr_with_ostatok_total['Код округа'] = potr_with_ostatok_total.apply(lambda x: insert_vpr(x['Завод'],spr_kod_okruga1,'Код округа') if insert_vpr(x['Область ППМ'],spr_kod_okruga,'Код округа')==0 else insert_vpr(x['Область ППМ'],spr_kod_okruga,'Код округа'),axis = 1).astype('str')"
   ]
  },
  {
   "cell_type": "code",
   "execution_count": null,
   "metadata": {},
   "outputs": [],
   "source": [
    "potr_with_ostatok_total['Код округа'].value_counts()"
   ]
  },
  {
   "cell_type": "code",
   "execution_count": null,
   "metadata": {},
   "outputs": [],
   "source": [
    "for el in potr_with_ostatok_total['Код округа'].unique():\n",
    "    save_pyex(df=potr_with_ostatok_total[potr_with_ostatok_total['Код округа']==el],path='C:\\\\Users\\\\Илья\\\\Desktop\\\\kazzinc\\\\Uploads1\\\\'+folder+'\\\\extr_xlsx\\\\'+ str(el)+'.xlsx')"
   ]
  },
  {
   "cell_type": "code",
   "execution_count": null,
   "metadata": {},
   "outputs": [],
   "source": [
    "potr_with_ostatok_total[potr_with_ostatok_total['Код округа']=='nan']"
   ]
  },
  {
   "cell_type": "code",
   "execution_count": null,
   "metadata": {},
   "outputs": [],
   "source": [
    "potr_with_ostatok_total['Код округа'].unique()"
   ]
  },
  {
   "cell_type": "code",
   "execution_count": null,
   "metadata": {},
   "outputs": [],
   "source": [
    "df"
   ]
  },
  {
   "cell_type": "code",
   "execution_count": null,
   "metadata": {},
   "outputs": [],
   "source": [
    "df = get_in_backup(path_backup='backup.h5',name='extract')"
   ]
  },
  {
   "cell_type": "code",
   "execution_count": null,
   "metadata": {},
   "outputs": [],
   "source": [
    "potr_with_ostatok_total = potr_with_ostatok_total[:5000].copy()"
   ]
  },
  {
   "cell_type": "code",
   "execution_count": null,
   "metadata": {},
   "outputs": [],
   "source": [
    "potr_with_ostatok_total['Материал'].unique()"
   ]
  },
  {
   "cell_type": "code",
   "execution_count": null,
   "metadata": {
    "scrolled": true
   },
   "outputs": [],
   "source": [
    "potr_with_ostatok_total[potr_with_ostatok_total['Код округа']=='KO']['Цена'].sum()"
   ]
  },
  {
   "cell_type": "code",
   "execution_count": null,
   "metadata": {},
   "outputs": [],
   "source": [
    "potr_with_ostatok_total1 = potr_with_ostatok_total[:100000].copy()"
   ]
  },
  {
   "cell_type": "code",
   "execution_count": null,
   "metadata": {},
   "outputs": [],
   "source": [
    "potr_with_ostatok_total1 = parallel_calc_fast(potr_with_ostatok_total1,KONH,current_date,KONP,MARM)"
   ]
  },
  {
   "cell_type": "code",
   "execution_count": null,
   "metadata": {},
   "outputs": [],
   "source": [
    "KONH[(KONH['округ']!='пусто')|(KONH['Завод']!='пусто')]"
   ]
  },
  {
   "cell_type": "code",
   "execution_count": null,
   "metadata": {},
   "outputs": [],
   "source": [
    "KONH['key2'] = KONH['Материал']+KONH['Действ. по'].apply(lambda x: str(x.year))\n",
    "#     KONH_po = KONH.reset_index().set_index(['key2'])\n",
    "\n",
    "#     KONH_s = KONH.reset_index().set_index(['Материал',pd.Index(KONH['Действ. с'].apply(lambda x:str(x.year)))])\n",
    "KONH['key1'] = KONH['Материал']+KONH['Действ. с'].apply(lambda x: str(x.year))"
   ]
  },
  {
   "cell_type": "code",
   "execution_count": null,
   "metadata": {
    "scrolled": true
   },
   "outputs": [],
   "source": [
    "potr_with_ostatok_total[(potr_with_ostatok_total['Материал']=='360209004')&(potr_with_ostatok_total['Код округа']=='UK')]"
   ]
  },
  {
   "cell_type": "code",
   "execution_count": null,
   "metadata": {},
   "outputs": [],
   "source": [
    "Konh_ = KONH_po.get_group('0601020032020')"
   ]
  },
  {
   "cell_type": "code",
   "execution_count": null,
   "metadata": {},
   "outputs": [],
   "source": [
    "KONH.rename(columns={\"Номер записи условий\": 'Номер_записи_условий'},inplace=True)"
   ]
  },
  {
   "cell_type": "code",
   "execution_count": null,
   "metadata": {},
   "outputs": [],
   "source": [
    "KONH[KONH['key2']=='2601320052020']"
   ]
  },
  {
   "cell_type": "code",
   "execution_count": null,
   "metadata": {},
   "outputs": [],
   "source": [
    "KONH[KONH['key1']=='3602090042020']"
   ]
  },
  {
   "cell_type": "code",
   "execution_count": null,
   "metadata": {},
   "outputs": [],
   "source": [
    "f_KONH_fast(KONH[KONH['key2']=='0501240012020'],'Завод','1301')"
   ]
  },
  {
   "cell_type": "code",
   "execution_count": null,
   "metadata": {},
   "outputs": [],
   "source": [
    "def f_KONH_fast (KONH,name_col_KONH,value):\n",
    "    i = 1\n",
    "    if len(KONH)==0:\n",
    "            return ('пусто','0')\n",
    "    \n",
    "    for row in KONH.itertuples():\n",
    "        \n",
    "        #if i ==len(KONH):\n",
    "            #return ('пусто','0')\n",
    "        if name_col_KONH=='округ':\n",
    "            if row.округ == value:\n",
    "                \n",
    "                return (row.округ,row.Номер_записи_условий)\n",
    "            i+=1\n",
    "        elif name_col_KONH=='Завод':\n",
    "            if row.Завод == value:\n",
    "                \n",
    "                return (row.Завод,row.Номер_записи_условий)\n",
    "            i+=1\n",
    "    return ('пусто','0')"
   ]
  },
  {
   "cell_type": "code",
   "execution_count": null,
   "metadata": {},
   "outputs": [],
   "source": [
    "KONP[KONP['Номер записи условий']=='356373']"
   ]
  },
  {
   "cell_type": "code",
   "execution_count": null,
   "metadata": {},
   "outputs": [],
   "source": [
    "KONP[KONP['Номер записи условий']=='356373']"
   ]
  },
  {
   "cell_type": "code",
   "execution_count": null,
   "metadata": {},
   "outputs": [],
   "source": [
    "f_KONH_fast(KONH[KONH['key1']=='2601320052020'],'округ','KO')[1]"
   ]
  },
  {
   "cell_type": "code",
   "execution_count": null,
   "metadata": {},
   "outputs": [],
   "source": [
    "MARM[MARM['Материал']=='060301010']"
   ]
  },
  {
   "cell_type": "code",
   "execution_count": null,
   "metadata": {},
   "outputs": [],
   "source": [
    "start_time = time.time()\n",
    "for row in KONH.itertuples():\n",
    "    pass\n",
    "print(\"--- %s seconds ---\" % (time.time() - start_time))   "
   ]
  },
  {
   "cell_type": "code",
   "execution_count": null,
   "metadata": {},
   "outputs": [],
   "source": [
    "start_time = time.time()\n",
    "for row in KONH.iteritems():\n",
    "    pass\n",
    "print(\"--- %s seconds ---\" % (time.time() - start_time))  "
   ]
  },
  {
   "cell_type": "code",
   "execution_count": null,
   "metadata": {},
   "outputs": [],
   "source": [
    "start_time = time.time()\n",
    "for row in KONH.itertuples():\n",
    "    pass\n",
    "print(\"--- %s seconds ---\" % (time.time() - start_time))  "
   ]
  },
  {
   "cell_type": "code",
   "execution_count": null,
   "metadata": {},
   "outputs": [],
   "source": [
    "start_time = time.time()\n",
    "for row in KONH.index.values:\n",
    "    pass\n",
    "print(\"--- %s seconds ---\" % (time.time() - start_time))  "
   ]
  },
  {
   "cell_type": "code",
   "execution_count": null,
   "metadata": {},
   "outputs": [],
   "source": [
    "zav = KONH['Завод'].values\n",
    "okr = KONH['округ'].values\n",
    "number = KONH['Номер_записи_условий'].values\n",
    "\n",
    "ind_ = KONH[:500].index.values"
   ]
  },
  {
   "cell_type": "code",
   "execution_count": null,
   "metadata": {},
   "outputs": [],
   "source": [
    "\n",
    "def f_KONH_fast_(ind_,name_col_KONH,value,zav,okr,number):\n",
    "    start_time = time.time()\n",
    "    if len(ind_)==0:\n",
    "            return\n",
    "    for ind in ind_:\n",
    "        if name_col_KONH=='округ':\n",
    "            if okr[ind] == value:\n",
    "                print(\"--- %s seconds ---\" % (time.time() - start_time))   \n",
    "                return (okr[ind],number[ind])\n",
    "            \n",
    "        elif name_col_KONH=='Завод':\n",
    "            if zav[ind] == value:\n",
    "                print(\"--- %s seconds ---\" % (time.time() - start_time))   \n",
    "                return (zav[ind],number[ind])\n",
    "    print(\"--- %s seconds ---\" % (time.time() - start_time))         \n",
    "    return ('пусто','0')\n",
    "        \n",
    "        \n",
    "    "
   ]
  },
  {
   "cell_type": "code",
   "execution_count": null,
   "metadata": {},
   "outputs": [],
   "source": []
  },
  {
   "cell_type": "code",
   "execution_count": null,
   "metadata": {},
   "outputs": [],
   "source": [
    "ind_ = KONH[KONH['key1']=='0601020032020'].index.values"
   ]
  },
  {
   "cell_type": "code",
   "execution_count": null,
   "metadata": {},
   "outputs": [],
   "source": [
    "f_KONH_fast_(ind_,'округ','RM',zav,okr,number)"
   ]
  },
  {
   "cell_type": "code",
   "execution_count": null,
   "metadata": {},
   "outputs": [],
   "source": [
    "f_KONH_fast_(ind_,'Завод','1402',zav,okr,number)"
   ]
  },
  {
   "cell_type": "code",
   "execution_count": null,
   "metadata": {},
   "outputs": [],
   "source": [
    "okr[381328]"
   ]
  },
  {
   "cell_type": "code",
   "execution_count": null,
   "metadata": {},
   "outputs": [],
   "source": [
    "len(okr)"
   ]
  },
  {
   "cell_type": "code",
   "execution_count": null,
   "metadata": {},
   "outputs": [],
   "source": [
    "KONH = KONH.reset_index(drop=True)"
   ]
  },
  {
   "cell_type": "code",
   "execution_count": null,
   "metadata": {},
   "outputs": [],
   "source": [
    "KONH"
   ]
  },
  {
   "cell_type": "code",
   "execution_count": null,
   "metadata": {},
   "outputs": [],
   "source": [
    "def f_KONH_fast (KONH,name_col_KONH,value):\n",
    "    start_time = time.time()\n",
    "    i = 1\n",
    "    if len(KONH)==0:\n",
    "        return ('пусто','0')\n",
    "    \n",
    "    for row in KONH.itertuples():\n",
    "        \n",
    "        if name_col_KONH=='округ':\n",
    "            if row.округ == value:\n",
    "                print(\"--- %s seconds ---\" % (time.time() - start_time))\n",
    "                return (row.округ,row.Номер_записи_условий)\n",
    "            i+=1\n",
    "        elif name_col_KONH=='Завод':\n",
    "            if row.Завод == value:\n",
    "                print(\"--- %s seconds ---\" % (time.time() - start_time))\n",
    "                return (row.Завод,row.Номер_записи_условий)\n",
    "            i+=1\n",
    "    print(\"--- %s seconds ---\" % (time.time() - start_time))\n",
    "    return ('пусто','0')"
   ]
  },
  {
   "cell_type": "code",
   "execution_count": null,
   "metadata": {},
   "outputs": [],
   "source": [
    "potr_with_ostatok_total1"
   ]
  },
  {
   "cell_type": "code",
   "execution_count": null,
   "metadata": {},
   "outputs": [],
   "source": [
    "r = pd.DataFrame()"
   ]
  },
  {
   "cell_type": "code",
   "execution_count": null,
   "metadata": {},
   "outputs": [],
   "source": [
    "r.index.values"
   ]
  },
  {
   "cell_type": "code",
   "execution_count": null,
   "metadata": {},
   "outputs": [],
   "source": [
    "for i in r.index.values:\n",
    "    pass"
   ]
  },
  {
   "cell_type": "code",
   "execution_count": null,
   "metadata": {},
   "outputs": [],
   "source": [
    "potr_with_ostatok_total[potr_with_ostatok_total['Код округа']=='KO']['Цена'].sum()"
   ]
  },
  {
   "cell_type": "code",
   "execution_count": null,
   "metadata": {},
   "outputs": [],
   "source": [
    "potr_with_ostatok_total[['Код округа','Материал','Завод']].drop_duplicates().reset_index(drop = True)"
   ]
  },
  {
   "cell_type": "code",
   "execution_count": null,
   "metadata": {},
   "outputs": [],
   "source": [
    "KONP1  = pd.read_excel('C:\\\\Users\\\\Илья\\\\Desktop\\\\kazzinc\\\\musor\\\\KONP.xlsx',sheet_name='Sheet1')"
   ]
  },
  {
   "cell_type": "code",
   "execution_count": null,
   "metadata": {
    "scrolled": true
   },
   "outputs": [],
   "source": [
    "potr_with_ostatok_total1 = potr_with_ostatok_total[potr_with_ostatok_total['Материал']=='260132005'].copy()"
   ]
  },
  {
   "cell_type": "code",
   "execution_count": null,
   "metadata": {},
   "outputs": [],
   "source": [
    "for ind, i in enumerate(np.array_split(potr_with_ostatok_total,3)) :\n",
    "    save_pyex(df=i,path='C:\\\\Users\\\\Илья\\\\Desktop\\\\kazzinc\\\\Uploads1\\\\'+folder+'\\\\extr_xlsx\\\\'+str(ind)+'.xlsx')"
   ]
  },
  {
   "cell_type": "code",
   "execution_count": null,
   "metadata": {},
   "outputs": [],
   "source": [
    "KONP['Индикатор удаления'].unique()"
   ]
  },
  {
   "cell_type": "code",
   "execution_count": null,
   "metadata": {},
   "outputs": [],
   "source": [
    "KONP = KONP[KONP['Индикатор удаления']!='X']"
   ]
  },
  {
   "cell_type": "code",
   "execution_count": null,
   "metadata": {},
   "outputs": [],
   "source": [
    "df"
   ]
  },
  {
   "cell_type": "code",
   "execution_count": null,
   "metadata": {},
   "outputs": [],
   "source": [
    "potr_with_ostatok_total"
   ]
  },
  {
   "cell_type": "code",
   "execution_count": null,
   "metadata": {},
   "outputs": [],
   "source": [
    "KONH"
   ]
  },
  {
   "cell_type": "code",
   "execution_count": null,
   "metadata": {},
   "outputs": [],
   "source": [
    "def get_konp(KONP,val):\n",
    "    try:\n",
    "        # ar = KONP.xs(cons.loc[ind,'номер записи условий'])\n",
    "        ar = KONP.get_group(val)\n",
    "        \n",
    "\n",
    "    except KeyError:\n",
    "        ar = pd.DataFrame()   \n",
    "        \n",
    "    return ar"
   ]
  },
  {
   "cell_type": "code",
   "execution_count": null,
   "metadata": {},
   "outputs": [],
   "source": [
    "KONP"
   ]
  },
  {
   "cell_type": "code",
   "execution_count": null,
   "metadata": {
    "scrolled": true
   },
   "outputs": [],
   "source": [
    "potr_with_ostatok_total1"
   ]
  },
  {
   "cell_type": "code",
   "execution_count": null,
   "metadata": {},
   "outputs": [],
   "source": [
    "df = pd.read_csv(directory+'CSV.csv',sep = ';',parse_dates=['Дата потребности'],dtype={'Материал':'str','Завод':'str'})"
   ]
  },
  {
   "cell_type": "code",
   "execution_count": null,
   "metadata": {},
   "outputs": [],
   "source": [
    "pd.DataFrame(df['Завод'].unique())  "
   ]
  },
  {
   "cell_type": "code",
   "execution_count": null,
   "metadata": {},
   "outputs": [],
   "source": [
    "save_pyex(df=pd.DataFrame(df['Завод'].unique())  ,path='C:\\\\Users\\\\Илья\\\\Desktop\\\\kazzinc\\\\Uploads1\\\\'+folder+'\\\\extr_xlsx\\\\gmghmg.xlsx')"
   ]
  },
  {
   "cell_type": "code",
   "execution_count": null,
   "metadata": {},
   "outputs": [],
   "source": []
  },
  {
   "cell_type": "code",
   "execution_count": null,
   "metadata": {},
   "outputs": [],
   "source": [
    "potr_copy1['Распределение_остатака'].sum()"
   ]
  },
  {
   "cell_type": "code",
   "execution_count": null,
   "metadata": {},
   "outputs": [],
   "source": [
    "potr_copy['Распределение_остатака'].sum()"
   ]
  },
  {
   "cell_type": "code",
   "execution_count": null,
   "metadata": {},
   "outputs": [],
   "source": [
    "potr_copy1['Дата потребности'][603559]"
   ]
  },
  {
   "cell_type": "code",
   "execution_count": null,
   "metadata": {},
   "outputs": [],
   "source": [
    "df"
   ]
  },
  {
   "cell_type": "code",
   "execution_count": null,
   "metadata": {},
   "outputs": [],
   "source": [
    "df['month'] =    df.apply(lambda x: datetime.datetime(2199,1,1)  if x['Страховой запас']>=0 else x['month'],axis = 1)\n",
    "df['Дата потребности'] =    df.apply(lambda x: datetime.datetime(2199,1,1)  if x['Страховой запас']>=0 else x['Дата потребности'],axis = 1)"
   ]
  },
  {
   "cell_type": "code",
   "execution_count": null,
   "metadata": {},
   "outputs": [],
   "source": [
    "save_pyex(df=ost_start,path='C:\\\\Users\\\\Илья\\\\Desktop\\\\kazzinc\\\\Uploads1\\\\'+folder+'\\\\extr_xlsx\\\\gggg.xlsx')"
   ]
  },
  {
   "cell_type": "code",
   "execution_count": null,
   "metadata": {},
   "outputs": [],
   "source": [
    "spr_komplex_ost = rev_to_dict(spr_ost['Завод']+' '+spr_ost['Склад']+' '+spr_ost['Партия'],spr_ost['Комплекс'])\n",
    "ostatok['Комплекс'] = ostatok['Завод+Склад+Партия'].apply(lambda x: insert_vpr(x,spr_komplex_ost,'Комплекс') )"
   ]
  },
  {
   "cell_type": "code",
   "execution_count": null,
   "metadata": {},
   "outputs": [],
   "source": [
    "ostatok[(ostatok['Материал']=='080402087')&(ostatok['Завод']=='1502')&(ostatok['Склад']=='1600')]"
   ]
  },
  {
   "cell_type": "code",
   "execution_count": null,
   "metadata": {},
   "outputs": [],
   "source": [
    "spr_komplex_ost['1502 1600 FREEUK1251']"
   ]
  },
  {
   "cell_type": "code",
   "execution_count": null,
   "metadata": {},
   "outputs": [],
   "source": [
    "potr_with_ostatok_total['Дата потребности'].unique()"
   ]
  },
  {
   "cell_type": "code",
   "execution_count": null,
   "metadata": {},
   "outputs": [],
   "source": [
    "df['Дата потребности'].unique()"
   ]
  },
  {
   "cell_type": "code",
   "execution_count": null,
   "metadata": {},
   "outputs": [],
   "source": [
    "KONP['Номер записи условий']"
   ]
  },
  {
   "cell_type": "code",
   "execution_count": null,
   "metadata": {},
   "outputs": [],
   "source": [
    "df"
   ]
  },
  {
   "cell_type": "code",
   "execution_count": null,
   "metadata": {},
   "outputs": [],
   "source": [
    "KONP"
   ]
  },
  {
   "cell_type": "code",
   "execution_count": null,
   "metadata": {},
   "outputs": [],
   "source": [
    "df"
   ]
  },
  {
   "cell_type": "code",
   "execution_count": null,
   "metadata": {},
   "outputs": [],
   "source": [
    "df = get_in_backup(path_backup='backup.h5',name='extract')"
   ]
  },
  {
   "cell_type": "code",
   "execution_count": null,
   "metadata": {},
   "outputs": [],
   "source": [
    "df[(df['Вывод по документам пополнения']!=0)&(df['Страховой запас']==0)].shape"
   ]
  },
  {
   "cell_type": "code",
   "execution_count": null,
   "metadata": {},
   "outputs": [],
   "source": [
    "df[(df['Вывод по документам пополнения']==0)&(df['Страховой запас']==0)]['Количество потребности'].sum()"
   ]
  },
  {
   "cell_type": "code",
   "execution_count": null,
   "metadata": {},
   "outputs": [],
   "source": [
    "df = get_in_backup(path_backup='backup.h5',name='extract')"
   ]
  },
  {
   "cell_type": "code",
   "execution_count": null,
   "metadata": {},
   "outputs": [],
   "source": [
    "df[df['Материал']=='445001556']"
   ]
  },
  {
   "cell_type": "code",
   "execution_count": null,
   "metadata": {},
   "outputs": [],
   "source": [
    "df"
   ]
  },
  {
   "cell_type": "code",
   "execution_count": null,
   "metadata": {},
   "outputs": [],
   "source": [
    "df_str_zap = get_in_backup(path_backup='backup.h5',name='df_str_zap')"
   ]
  },
  {
   "cell_type": "code",
   "execution_count": null,
   "metadata": {},
   "outputs": [],
   "source": [
    "df_str_zap['Комплекс'].value_counts()"
   ]
  },
  {
   "cell_type": "code",
   "execution_count": null,
   "metadata": {
    "scrolled": true
   },
   "outputs": [],
   "source": [
    "df_str_zap['Заказчик + HH'].value_counts()"
   ]
  },
  {
   "cell_type": "code",
   "execution_count": null,
   "metadata": {},
   "outputs": [],
   "source": [
    "df_str_zap['Заказчик + HH'] =df_str_zap['Комплекс'].astype('str')+' '+df_str_zap['Материал'].astype('str')"
   ]
  },
  {
   "cell_type": "code",
   "execution_count": null,
   "metadata": {},
   "outputs": [],
   "source": [
    "ind = df_str_zap[(df_str_zap['Комплекс']==0)&(df_str_zap['Имя Завода']==0)].index"
   ]
  },
  {
   "cell_type": "code",
   "execution_count": null,
   "metadata": {},
   "outputs": [],
   "source": [
    "df_str_zap.loc[ind,'Заказчик + HH'] = 0"
   ]
  },
  {
   "cell_type": "code",
   "execution_count": null,
   "metadata": {},
   "outputs": [],
   "source": [
    "df_str_zap.name = 'df_str_zap'\n",
    "save_backup('backup.h5',[df_str_zap])"
   ]
  },
  {
   "cell_type": "code",
   "execution_count": null,
   "metadata": {},
   "outputs": [],
   "source": [
    "sprav_mat_cal_last_full = sprav_mat_cal_last_full[['Материал','Базовая ЕИ']].drop_duplicates().copy()\n",
    "ZNB = ZNB.reset_index(drop = True)\n",
    "a = []\n",
    "for i in  ZNB.index:\n",
    "    ar = sprav_mat_cal_last_full[(sprav_mat_cal_last_full['Материал']==ZNB.at[i,'Материал'])&(sprav_mat_cal_last_full['Базовая ЕИ']==ZNB.at[i,'ЕИ заказа на постав.'])].drop_duplicates().shape\n",
    "    print(ar)\n",
    "    if ar[0]==0:\n",
    "        a.append((ZNB.at[i,'Материал'],ZNB.at[i,'ЕИ заказа на постав.']))\n",
    "        \n",
    "print(a)"
   ]
  },
  {
   "cell_type": "code",
   "execution_count": null,
   "metadata": {},
   "outputs": [],
   "source": [
    "sprav_mat_cal_last_full = get_in_backup(path_backup='backup.h5',name='sprav_mat_cal_last_full')"
   ]
  },
  {
   "cell_type": "code",
   "execution_count": null,
   "metadata": {},
   "outputs": [],
   "source": [
    "ZNB = pd.read_excel('E:\\\\ZNB.xlsx',sheet_name='Sheet1')"
   ]
  },
  {
   "cell_type": "code",
   "execution_count": null,
   "metadata": {},
   "outputs": [],
   "source": [
    "ZNB[['Материал','ЕИ заказа на постав.']]"
   ]
  },
  {
   "cell_type": "code",
   "execution_count": null,
   "metadata": {},
   "outputs": [],
   "source": [
    "a"
   ]
  },
  {
   "cell_type": "code",
   "execution_count": null,
   "metadata": {},
   "outputs": [],
   "source": [
    "t = [x[0] for x in a]"
   ]
  },
  {
   "cell_type": "code",
   "execution_count": null,
   "metadata": {},
   "outputs": [],
   "source": [
    "t"
   ]
  },
  {
   "cell_type": "code",
   "execution_count": null,
   "metadata": {},
   "outputs": [],
   "source": [
    "b = [x[1] for x in a]"
   ]
  },
  {
   "cell_type": "code",
   "execution_count": null,
   "metadata": {},
   "outputs": [],
   "source": [
    "pd.DataFrame({'mat':t,'ed':b}).drop_duplicates()"
   ]
  },
  {
   "cell_type": "code",
   "execution_count": null,
   "metadata": {},
   "outputs": [],
   "source": [
    "save_pyex(df=pd.DataFrame({'mat':t,'ed':b}).drop_duplicates(),path='C:\\\\Users\\\\Илья\\\\Desktop\\\\kazzinc\\\\Uploads1\\\\'+folder+'\\\\extr_xlsx\\\\otkloneniya.xlsx')"
   ]
  },
  {
   "cell_type": "code",
   "execution_count": null,
   "metadata": {},
   "outputs": [],
   "source": [
    "otkloneniya = pd.read_excel('E:\\\\otkloneniya.xlsx',sheet_name='sheet1')"
   ]
  },
  {
   "cell_type": "code",
   "execution_count": null,
   "metadata": {
    "scrolled": true
   },
   "outputs": [],
   "source": [
    "y = list(otkloneniya['mat'].apply(lambda x: '0'+str(x) if  len(str(x))<9 else x).astype('str').values)"
   ]
  },
  {
   "cell_type": "code",
   "execution_count": null,
   "metadata": {},
   "outputs": [],
   "source": [
    "f0 = get_in_backup(path_backup='backup_obesp.h5',name='obesp_no_f_032020v2')"
   ]
  },
  {
   "cell_type": "code",
   "execution_count": null,
   "metadata": {},
   "outputs": [],
   "source": [
    "final[final['Материал'].isin(y)]"
   ]
  },
  {
   "cell_type": "code",
   "execution_count": null,
   "metadata": {},
   "outputs": [],
   "source": [
    "final = get_in_backup(path_backup='backup_obesp.h5',name='final_obesp_0320_v2')"
   ]
  },
  {
   "cell_type": "code",
   "execution_count": null,
   "metadata": {},
   "outputs": [],
   "source": [
    "save_pyex(df=final[final['Материал'].isin(y)],path='C:\\\\Users\\\\Илья\\\\Desktop\\\\kazzinc\\\\Uploads1\\\\'+folder+'\\\\extr_xlsx\\\\otkloneniya1.xlsx')"
   ]
  },
  {
   "cell_type": "code",
   "execution_count": 8,
   "metadata": {},
   "outputs": [],
   "source": [
    "directory = 'C:\\\\Users\\\\NKedrun\\\\PythonScriptWrapper_331b9d68-67b7-4571-9468-2168ecde6df5\\\\test.h5'"
   ]
  },
  {
   "cell_type": "code",
   "execution_count": 9,
   "metadata": {},
   "outputs": [],
   "source": [
    "sprav_po_kompl = get_in_backup(path_backup=directory,name='test')"
   ]
  },
  {
   "cell_type": "code",
   "execution_count": 10,
   "metadata": {},
   "outputs": [
    {
     "data": {
      "text/html": [
       "<div>\n",
       "<style scoped>\n",
       "    .dataframe tbody tr th:only-of-type {\n",
       "        vertical-align: middle;\n",
       "    }\n",
       "\n",
       "    .dataframe tbody tr th {\n",
       "        vertical-align: top;\n",
       "    }\n",
       "\n",
       "    .dataframe thead th {\n",
       "        text-align: right;\n",
       "    }\n",
       "</style>\n",
       "<table border=\"1\" class=\"dataframe\">\n",
       "  <thead>\n",
       "    <tr style=\"text-align: right;\">\n",
       "      <th></th>\n",
       "      <th>Область ППМ</th>\n",
       "      <th>Код округа</th>\n",
       "      <th>Вид ОблПланирПотребн</th>\n",
       "      <th>Партия</th>\n",
       "      <th>Тип завода/области ППМ</th>\n",
       "      <th>Гора</th>\n",
       "    </tr>\n",
       "  </thead>\n",
       "  <tbody>\n",
       "    <tr>\n",
       "      <th>0</th>\n",
       "      <td>1101000001</td>\n",
       "      <td>UK</td>\n",
       "      <td>2</td>\n",
       "      <td>UK1101</td>\n",
       "      <td>4</td>\n",
       "      <td>NaN</td>\n",
       "    </tr>\n",
       "    <tr>\n",
       "      <th>1</th>\n",
       "      <td>1101000002</td>\n",
       "      <td>RI</td>\n",
       "      <td>2</td>\n",
       "      <td>RI1101</td>\n",
       "      <td>4</td>\n",
       "      <td>NaN</td>\n",
       "    </tr>\n",
       "    <tr>\n",
       "      <th>2</th>\n",
       "      <td>1101000003</td>\n",
       "      <td>ZY</td>\n",
       "      <td>2</td>\n",
       "      <td>ZY1101</td>\n",
       "      <td>4</td>\n",
       "      <td>NaN</td>\n",
       "    </tr>\n",
       "    <tr>\n",
       "      <th>3</th>\n",
       "      <td>1101000004</td>\n",
       "      <td>AS</td>\n",
       "      <td>2</td>\n",
       "      <td>AS</td>\n",
       "      <td>4</td>\n",
       "      <td>NaN</td>\n",
       "    </tr>\n",
       "    <tr>\n",
       "      <th>4</th>\n",
       "      <td>1101000005</td>\n",
       "      <td>AL</td>\n",
       "      <td>2</td>\n",
       "      <td>AL</td>\n",
       "      <td>4</td>\n",
       "      <td>NaN</td>\n",
       "    </tr>\n",
       "    <tr>\n",
       "      <th>...</th>\n",
       "      <td>...</td>\n",
       "      <td>...</td>\n",
       "      <td>...</td>\n",
       "      <td>...</td>\n",
       "      <td>...</td>\n",
       "      <td>...</td>\n",
       "    </tr>\n",
       "    <tr>\n",
       "      <th>206</th>\n",
       "      <td>7891</td>\n",
       "      <td>AS</td>\n",
       "      <td>1</td>\n",
       "      <td>AS7891</td>\n",
       "      <td>4</td>\n",
       "      <td>NaN</td>\n",
       "    </tr>\n",
       "    <tr>\n",
       "      <th>207</th>\n",
       "      <td>7892</td>\n",
       "      <td>AL</td>\n",
       "      <td>1</td>\n",
       "      <td>AL7892</td>\n",
       "      <td>4</td>\n",
       "      <td>NaN</td>\n",
       "    </tr>\n",
       "    <tr>\n",
       "      <th>208</th>\n",
       "      <td>7893</td>\n",
       "      <td>AL</td>\n",
       "      <td>1</td>\n",
       "      <td>AL7893</td>\n",
       "      <td>4</td>\n",
       "      <td>NaN</td>\n",
       "    </tr>\n",
       "    <tr>\n",
       "      <th>209</th>\n",
       "      <td>7894000001</td>\n",
       "      <td>KG</td>\n",
       "      <td>2</td>\n",
       "      <td>KG7894</td>\n",
       "      <td>4</td>\n",
       "      <td>NaN</td>\n",
       "    </tr>\n",
       "    <tr>\n",
       "      <th>210</th>\n",
       "      <td>7894000002</td>\n",
       "      <td>KG</td>\n",
       "      <td>2</td>\n",
       "      <td>KG7894</td>\n",
       "      <td>4</td>\n",
       "      <td>X</td>\n",
       "    </tr>\n",
       "  </tbody>\n",
       "</table>\n",
       "<p>211 rows × 6 columns</p>\n",
       "</div>"
      ],
      "text/plain": [
       "     Область ППМ Код округа  Вид ОблПланирПотребн  Партия  \\\n",
       "0     1101000001         UK                     2  UK1101   \n",
       "1     1101000002         RI                     2  RI1101   \n",
       "2     1101000003         ZY                     2  ZY1101   \n",
       "3     1101000004         AS                     2      AS   \n",
       "4     1101000005         AL                     2      AL   \n",
       "..           ...        ...                   ...     ...   \n",
       "206         7891         AS                     1  AS7891   \n",
       "207         7892         AL                     1  AL7892   \n",
       "208         7893         AL                     1  AL7893   \n",
       "209   7894000001         KG                     2  KG7894   \n",
       "210   7894000002         KG                     2  KG7894   \n",
       "\n",
       "     Тип завода/области ППМ Гора  \n",
       "0                         4  NaN  \n",
       "1                         4  NaN  \n",
       "2                         4  NaN  \n",
       "3                         4  NaN  \n",
       "4                         4  NaN  \n",
       "..                      ...  ...  \n",
       "206                       4  NaN  \n",
       "207                       4  NaN  \n",
       "208                       4  NaN  \n",
       "209                       4  NaN  \n",
       "210                       4    X  \n",
       "\n",
       "[211 rows x 6 columns]"
      ]
     },
     "execution_count": 10,
     "metadata": {},
     "output_type": "execute_result"
    }
   ],
   "source": [
    "sprav_po_kompl"
   ]
  },
  {
   "cell_type": "code",
   "execution_count": null,
   "metadata": {},
   "outputs": [],
   "source": [
    "backup.info()"
   ]
  },
  {
   "cell_type": "code",
   "execution_count": 2,
   "metadata": {},
   "outputs": [
    {
     "ename": "NameError",
     "evalue": "name 'dataset' is not defined",
     "output_type": "error",
     "traceback": [
      "\u001b[1;31m---------------------------------------------------------------------------\u001b[0m",
      "\u001b[1;31mNameError\u001b[0m                                 Traceback (most recent call last)",
      "\u001b[1;32m<ipython-input-2-5ec6f52fcec3>\u001b[0m in \u001b[0;36m<module>\u001b[1;34m\u001b[0m\n\u001b[0;32m      8\u001b[0m     \u001b[1;32mexcept\u001b[0m\u001b[1;33m:\u001b[0m\u001b[1;33m\u001b[0m\u001b[0m\n\u001b[0;32m      9\u001b[0m         \u001b[0mbackup\u001b[0m\u001b[1;33m.\u001b[0m\u001b[0mclose\u001b[0m\u001b[1;33m(\u001b[0m\u001b[1;33m)\u001b[0m\u001b[1;33m\u001b[0m\u001b[0m\n\u001b[1;32m---> 10\u001b[1;33m \u001b[0mdataset\u001b[0m\u001b[1;33m.\u001b[0m\u001b[0mname\u001b[0m \u001b[1;33m=\u001b[0m \u001b[1;34m'test'\u001b[0m\u001b[1;33m\u001b[0m\u001b[0m\n\u001b[0m\u001b[0;32m     11\u001b[0m \u001b[0msave_backup\u001b[0m\u001b[1;33m(\u001b[0m\u001b[1;34m'test.h5'\u001b[0m\u001b[1;33m,\u001b[0m\u001b[1;33m[\u001b[0m\u001b[0mdataset\u001b[0m\u001b[1;33m]\u001b[0m\u001b[1;33m)\u001b[0m\u001b[1;33m\u001b[0m\u001b[0m\n",
      "\u001b[1;31mNameError\u001b[0m: name 'dataset' is not defined"
     ]
    }
   ],
   "source": [
    "import pandas as pd\n",
    "def save_backup(path_backup,arrs):\n",
    "    try:\n",
    "        backup = pd.HDFStore(path_backup)\n",
    "        for arr in arrs:\n",
    "            backup[str(arr.name)] = arr\n",
    "        backup.close()   \n",
    "    except:\n",
    "        backup.close()\n",
    "dataset.name = 'test11'        \n",
    "save_backup('test11.h5',[dataset])"
   ]
  },
  {
   "cell_type": "code",
   "execution_count": 6,
   "metadata": {},
   "outputs": [
    {
     "data": {
      "text/html": [
       "<div>\n",
       "<style scoped>\n",
       "    .dataframe tbody tr th:only-of-type {\n",
       "        vertical-align: middle;\n",
       "    }\n",
       "\n",
       "    .dataframe tbody tr th {\n",
       "        vertical-align: top;\n",
       "    }\n",
       "\n",
       "    .dataframe thead th {\n",
       "        text-align: right;\n",
       "    }\n",
       "</style>\n",
       "<table border=\"1\" class=\"dataframe\">\n",
       "  <thead>\n",
       "    <tr style=\"text-align: right;\">\n",
       "      <th></th>\n",
       "      <th>col1</th>\n",
       "      <th>col2</th>\n",
       "    </tr>\n",
       "  </thead>\n",
       "  <tbody>\n",
       "    <tr>\n",
       "      <th>0</th>\n",
       "      <td>1</td>\n",
       "      <td>3</td>\n",
       "    </tr>\n",
       "    <tr>\n",
       "      <th>1</th>\n",
       "      <td>2</td>\n",
       "      <td>4</td>\n",
       "    </tr>\n",
       "  </tbody>\n",
       "</table>\n",
       "</div>"
      ],
      "text/plain": [
       "   col1  col2\n",
       "0     1     3\n",
       "1     2     4"
      ]
     },
     "execution_count": 6,
     "metadata": {},
     "output_type": "execute_result"
    }
   ],
   "source": [
    "df = pd.DataFrame(data={'col1': [1, 2], 'col2': [3, 4]})\n",
    "df.to_parquet('df.parquet.gzip',\n",
    "              compression='gzip',engine = 'pyarrow')  \n",
    "pd.read_parquet('df.parquet.gzip')"
   ]
  },
  {
   "cell_type": "code",
   "execution_count": 4,
   "metadata": {},
   "outputs": [],
   "source": [
    "df.to_parquet?"
   ]
  },
  {
   "cell_type": "code",
   "execution_count": 7,
   "metadata": {},
   "outputs": [
    {
     "data": {
      "text/html": [
       "<div>\n",
       "<style scoped>\n",
       "    .dataframe tbody tr th:only-of-type {\n",
       "        vertical-align: middle;\n",
       "    }\n",
       "\n",
       "    .dataframe tbody tr th {\n",
       "        vertical-align: top;\n",
       "    }\n",
       "\n",
       "    .dataframe thead th {\n",
       "        text-align: right;\n",
       "    }\n",
       "</style>\n",
       "<table border=\"1\" class=\"dataframe\">\n",
       "  <thead>\n",
       "    <tr style=\"text-align: right;\">\n",
       "      <th></th>\n",
       "      <th>date</th>\n",
       "    </tr>\n",
       "  </thead>\n",
       "  <tbody>\n",
       "    <tr>\n",
       "      <th>0</th>\n",
       "      <td>Microsoft.OleDb.Date</td>\n",
       "    </tr>\n",
       "    <tr>\n",
       "      <th>1</th>\n",
       "      <td>Microsoft.OleDb.Date</td>\n",
       "    </tr>\n",
       "  </tbody>\n",
       "</table>\n",
       "</div>"
      ],
      "text/plain": [
       "                   date\n",
       "0  Microsoft.OleDb.Date\n",
       "1  Microsoft.OleDb.Date"
      ]
     },
     "execution_count": 7,
     "metadata": {},
     "output_type": "execute_result"
    }
   ],
   "source": [
    "pd.read_parquet('yy.parquet.gzip')"
   ]
  },
  {
   "cell_type": "code",
   "execution_count": null,
   "metadata": {},
   "outputs": [],
   "source": []
  }
 ],
 "metadata": {
  "kernelspec": {
   "display_name": "Python 3",
   "language": "python",
   "name": "python3"
  },
  "language_info": {
   "codemirror_mode": {
    "name": "ipython",
    "version": 3
   },
   "file_extension": ".py",
   "mimetype": "text/x-python",
   "name": "python",
   "nbconvert_exporter": "python",
   "pygments_lexer": "ipython3",
   "version": "3.6.5"
  }
 },
 "nbformat": 4,
 "nbformat_minor": 2
}
